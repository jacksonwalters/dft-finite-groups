{
 "cells": [
  {
   "cell_type": "code",
   "execution_count": 1,
   "id": "89dfe616-c133-4935-a606-1ebfe44645c9",
   "metadata": {},
   "outputs": [],
   "source": [
    "G = DihedralGroup(4)"
   ]
  },
  {
   "cell_type": "code",
   "execution_count": 11,
   "id": "d1fdfdc9-3055-41cc-aef2-2c4175e50962",
   "metadata": {},
   "outputs": [
    {
     "data": {
      "text/plain": [
       "[(), (1,3)(2,4), (1,4,3,2), (1,2,3,4), (2,4), (1,3), (1,4)(2,3), (1,2)(3,4)]"
      ]
     },
     "execution_count": 11,
     "metadata": {},
     "output_type": "execute_result"
    }
   ],
   "source": [
    "sum([[g] for g in G],[])"
   ]
  }
 ],
 "metadata": {
  "kernelspec": {
   "display_name": "SageMath 10.5",
   "language": "sage",
   "name": "sagemath-10.5"
  },
  "language_info": {
   "codemirror_mode": {
    "name": "ipython",
    "version": 3
   },
   "file_extension": ".py",
   "mimetype": "text/x-python",
   "name": "python",
   "nbconvert_exporter": "python",
   "pygments_lexer": "ipython3",
   "version": "3.12.5"
  }
 },
 "nbformat": 4,
 "nbformat_minor": 5
}
