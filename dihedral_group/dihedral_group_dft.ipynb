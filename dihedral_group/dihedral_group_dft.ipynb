{
 "cells": [
  {
   "cell_type": "code",
   "execution_count": 12,
   "id": "4bd48c97-73d0-4611-9e21-33ff45aca75b",
   "metadata": {},
   "outputs": [],
   "source": [
    "\"\"\"\n",
    "this code will seek to replicate the computations performed for modular and unitary rep'ns of the symmetric group\n",
    "\n",
    "- construct the usual (seminormal) DFT\n",
    "- construct the unitary DFT over GF(q**2) (multiply seminormal)\n",
    "- construct the modular DFT (using central primitive orthogonal idempotents, i.e. the Peirce decomposition)\n",
    "\n",
    "\"\"\";"
   ]
  },
  {
   "cell_type": "code",
   "execution_count": 91,
   "id": "89dfe616-c133-4935-a606-1ebfe44645c9",
   "metadata": {},
   "outputs": [
    {
     "name": "stdout",
     "output_type": "stream",
     "text": [
      "Dihedral group of order 6 as a permutation group\n"
     ]
    }
   ],
   "source": [
    "#construct dihedral group of order n over GF(q)\n",
    "n = 3\n",
    "q = 5\n",
    "F = GF(q**2)\n",
    "G = DihedralGroup(n); print(G)"
   ]
  },
  {
   "cell_type": "code",
   "execution_count": 60,
   "id": "4c6e65cd-c3dc-4b3e-9b7c-759a26447107",
   "metadata": {},
   "outputs": [
    {
     "name": "stdout",
     "output_type": "stream",
     "text": [
      "Algebra of Dihedral group of order 6 as a permutation group over Finite Field in z2 of size 5^2\n",
      "Algebra of Dihedral group of order 6 as a permutation group over Rational Field\n"
     ]
    }
   ],
   "source": [
    "\"\"\"\n",
    "\n",
    "- we can construct the group algebra using G.algebra(F)\n",
    "- for the symmetric group, there is SymmetricGroupAlgebra, but that doesn't exist for the dihedral group\n",
    "- sage.categories.algebra_functor, the AlgebraFunctor class, implements G.algebra(F)\n",
    "- for the symmetric group, SymmetricGroup(n).algebra(F) probably instantiates SymmetricGroupAlgebra(n,F)\n",
    "\n",
    "\"\"\"\n",
    "DGA_F = G.algebra(F); print(DGA_F)\n",
    "DGA_QQ = G.algebra(QQ); print(DGA_QQ)"
   ]
  },
  {
   "cell_type": "code",
   "execution_count": 39,
   "id": "c9f4aa73-1eb6-417b-b377-9f77b3dd1520",
   "metadata": {},
   "outputs": [
    {
     "name": "stdout",
     "output_type": "stream",
     "text": [
      "'GroupAlgebra_class_with_category' object has no attribute 'dft'\n"
     ]
    }
   ],
   "source": [
    "#the DFT for the dihedral group does not currently exist over finite fields F\n",
    "try:\n",
    "    DGA_F.dft()\n",
    "except AttributeError as e:\n",
    "    print(e)"
   ]
  },
  {
   "cell_type": "code",
   "execution_count": 40,
   "id": "aa36f22b-3805-400e-ad12-0554a0710070",
   "metadata": {},
   "outputs": [
    {
     "name": "stdout",
     "output_type": "stream",
     "text": [
      "'GroupAlgebra_class_with_category' object has no attribute 'dft'\n"
     ]
    }
   ],
   "source": [
    "#the DFT for the dihedral group does not currently exist over the rational numbers\n",
    "try:\n",
    "    DGA_QQ.dft()\n",
    "except AttributeError as e:\n",
    "    print(e)"
   ]
  },
  {
   "cell_type": "code",
   "execution_count": 67,
   "id": "4429fe00-535e-476e-b3e7-e112a3a9de63",
   "metadata": {},
   "outputs": [
    {
     "name": "stdout",
     "output_type": "stream",
     "text": [
      "SymmetricGroup(n).algebra(F).dft():\n",
      "[1 1 1 1 1 1]\n",
      "[1 2 2 3 3 4]\n",
      "[0 3 2 2 3 0]\n",
      "[0 1 4 1 4 0]\n",
      "[1 2 2 2 2 1]\n",
      "[1 1 1 4 4 4]\n",
      "SymmetricGroupAlgebra(F,n).dft():\n",
      "[1 1 1 1 1 1]\n",
      "[1 3 4 2 2 3]\n",
      "[0 2 0 2 3 3]\n",
      "[0 1 0 4 1 4]\n",
      "[1 2 1 2 2 2]\n",
      "[1 4 4 1 1 4]\n",
      "SymmetricGroup(n).algebra(F).group().list():  [(), (1,3,2), (1,2,3), (2,3), (1,3), (1,2)]\n",
      "SymmetricGroupAlgebra(F,n).group().list():  [[1, 2, 3], [1, 3, 2], [2, 1, 3], [2, 3, 1], [3, 1, 2], [3, 2, 1]]\n"
     ]
    }
   ],
   "source": [
    "\"\"\"\n",
    "- example with SymmetricGroupAlgebra(F,n).dft() and SymmetricGroup(n).algebra(F).dft()\n",
    "- note that the columns are ordered differently, suggesting that they are not calling the same DFT function\n",
    "- elements of the group are in a different order for each, and represented different (cycles vs. lists)\n",
    "\n",
    "\"\"\"\n",
    "sga_dft_alg_functor = SymmetricGroup(n).algebra(F).dft(); print(\"SymmetricGroup(n).algebra(F).dft():\"); print(sga_dft_alg_functor)\n",
    "sga_dft_group_alg = SymmetricGroupAlgebra(F,n).dft(); print(\"SymmetricGroupAlgebra(F,n).dft():\"); print(sga_dft_group_alg)\n",
    "print(\"SymmetricGroup(n).algebra(F).group().list(): \", SymmetricGroup(n).algebra(F).group().list())\n",
    "print(\"SymmetricGroupAlgebra(F,n).group().list(): \", SymmetricGroupAlgebra(F,n).group().list())"
   ]
  },
  {
   "cell_type": "code",
   "execution_count": 87,
   "id": "c3047247-24ec-4272-bd86-8f53323858e7",
   "metadata": {},
   "outputs": [
    {
     "name": "stdout",
     "output_type": "stream",
     "text": [
      "Rational Field\n",
      "Indexed sequence: [3/5, 0, 0, 0, 0, 0]\n",
      "    indexed by Dihedral group of order 6 as a permutation group\n"
     ]
    }
   ],
   "source": [
    "\"\"\"\n",
    "\n",
    "- perform the DFT of a constant function on G, i.e. a list indexed by elements of G\n",
    "- work over the rational numbers\n",
    "\n",
    "\"\"\"\n",
    "A = [1/10 for g in G]\n",
    "s = IndexedSequence(A,G)\n",
    "print(s.base_ring())\n",
    "print(s.dft())"
   ]
  },
  {
   "cell_type": "code",
   "execution_count": 90,
   "id": "49dcc55b-b4a8-40aa-8e9b-f076ca97ce83",
   "metadata": {},
   "outputs": [
    {
     "name": "stdout",
     "output_type": "stream",
     "text": [
      "Cyclotomic Field of order 6 and degree 2\n",
      "Indexed sequence: [18, 0, 0, 0, 0, 0]\n",
      "    indexed by Dihedral group of order 6 as a permutation group\n"
     ]
    }
   ],
   "source": [
    "\"\"\"\n",
    "\n",
    "- work over the cyclotomic field of order 2n, \\zeta_{2n}\n",
    "- create an IndexedSequence, and perform the DFT of this sequence\n",
    "- we can do this for every basis element, and build the DFT\n",
    "\n",
    "\"\"\"\n",
    "\n",
    "K = CyclotomicField(2*n) #define the cyclotomic field Q(zeta_6)\n",
    "A = [K(3) for g in G] #define a list of elements indexed by the dihedral group G\n",
    "s = IndexedSequence(A,G) #define the indexed sequence of elements indexed by G\n",
    "print(s.base_ring())\n",
    "print(s.dft())"
   ]
  },
  {
   "cell_type": "code",
   "execution_count": 93,
   "id": "32f0b217-0554-4b35-838d-5cd3477d437d",
   "metadata": {},
   "outputs": [
    {
     "name": "stdout",
     "output_type": "stream",
     "text": [
      "Finite Field in z2 of size 5^2\n",
      "list elements must be in QQ(zeta_6)\n"
     ]
    }
   ],
   "source": [
    "\"\"\"\n",
    "\n",
    "- try working over a finite field GF(q) or GF(q**2)\n",
    "- create an IndexedSequence, and perform the DFT of this sequence\n",
    "- we can do this for every basis element, and build the DFT\n",
    "\n",
    "\"\"\"\n",
    "\n",
    "try:\n",
    "    A = [F(3) for g in G] #define a list of elements indexed by the dihedral group G\n",
    "    s = IndexedSequence(A,G) #define the indexed sequence of elements indexed by G\n",
    "    print(s.base_ring())\n",
    "    print(s.dft())\n",
    "except ValueError as e:\n",
    "    print(e)"
   ]
  },
  {
   "cell_type": "code",
   "execution_count": 96,
   "id": "36d8a017-5a17-4ade-a12a-d0df8e7b9f64",
   "metadata": {},
   "outputs": [
    {
     "data": {
      "text/plain": [
       "(4*() + 3*(1,3)(2,4),\n",
       " () + 6*(2,4) + (1,2)(3,4) + 6*(1,2,3,4) + 6*(1,3) + (1,3)(2,4) + 6*(1,4,3,2) + (1,4)(2,3),\n",
       " () + 6*(2,4) + 6*(1,2)(3,4) + (1,2,3,4) + 6*(1,3) + (1,3)(2,4) + (1,4,3,2) + 6*(1,4)(2,3),\n",
       " () + (2,4) + (1,2)(3,4) + (1,2,3,4) + (1,3) + (1,3)(2,4) + (1,4,3,2) + (1,4)(2,3),\n",
       " () + (2,4) + 6*(1,2)(3,4) + 6*(1,2,3,4) + (1,3) + (1,3)(2,4) + 6*(1,4,3,2) + 6*(1,4)(2,3))"
      ]
     },
     "execution_count": 96,
     "metadata": {},
     "output_type": "execute_result"
    }
   ],
   "source": [
    "#compute central orthogonal idempotents\n",
    "DGA.central_orthogonal_idempotents()"
   ]
  },
  {
   "cell_type": "code",
   "execution_count": null,
   "id": "95fcb180-6096-48c8-8fba-d3a7af425e0b",
   "metadata": {},
   "outputs": [],
   "source": []
  }
 ],
 "metadata": {
  "kernelspec": {
   "display_name": "SageMath 10.5",
   "language": "sage",
   "name": "sagemath-10.5"
  },
  "language_info": {
   "codemirror_mode": {
    "name": "ipython",
    "version": 3
   },
   "file_extension": ".py",
   "mimetype": "text/x-python",
   "name": "python",
   "nbconvert_exporter": "python",
   "pygments_lexer": "ipython3",
   "version": "3.12.5"
  }
 },
 "nbformat": 4,
 "nbformat_minor": 5
}
