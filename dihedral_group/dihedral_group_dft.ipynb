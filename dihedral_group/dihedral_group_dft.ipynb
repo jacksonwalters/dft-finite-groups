{
 "cells": [
  {
   "cell_type": "code",
   "execution_count": 12,
   "id": "4bd48c97-73d0-4611-9e21-33ff45aca75b",
   "metadata": {},
   "outputs": [],
   "source": [
    "\"\"\"\n",
    "this code will seek to replicate the computations performed for modular and unitary rep'ns of the symmetric group\n",
    "\n",
    "- construct the usual (seminormal) DFT\n",
    "- construct the unitary DFT over GF(q**2) (multiply seminormal)\n",
    "- construct the modular DFT (using central primitive orthogonal idempotents, i.e. the Peirce decomposition)\n",
    "\n",
    "\"\"\";"
   ]
  },
  {
   "cell_type": "code",
   "execution_count": 37,
   "id": "89dfe616-c133-4935-a606-1ebfe44645c9",
   "metadata": {},
   "outputs": [
    {
     "name": "stdout",
     "output_type": "stream",
     "text": [
      "Dihedral group of order 6 as a permutation group\n"
     ]
    }
   ],
   "source": [
    "#construct dihedral group of order n over GF(q)\n",
    "n = 3\n",
    "q = 5\n",
    "F = GF(q**2)\n",
    "G = DihedralGroup(n); print(G)"
   ]
  },
  {
   "cell_type": "code",
   "execution_count": 60,
   "id": "4c6e65cd-c3dc-4b3e-9b7c-759a26447107",
   "metadata": {},
   "outputs": [
    {
     "name": "stdout",
     "output_type": "stream",
     "text": [
      "Algebra of Dihedral group of order 6 as a permutation group over Finite Field in z2 of size 5^2\n",
      "Algebra of Dihedral group of order 6 as a permutation group over Rational Field\n"
     ]
    }
   ],
   "source": [
    "\"\"\"\n",
    "\n",
    "- we can construct the group algebra using G.algebra(F)\n",
    "- for the symmetric group, there is SymmetricGroupAlgebra, but that doesn't exist for the dihedral group\n",
    "- sage.categories.algebra_functor, the AlgebraFunctor class, implements G.algebra(F)\n",
    "- for the symmetric group, SymmetricGroup(n).algebra(F) probably instantiates SymmetricGroupAlgebra(n,F)\n",
    "\n",
    "\"\"\"\n",
    "DGA_F = G.algebra(F); print(DGA_F)\n",
    "DGA_QQ = G.algebra(QQ); print(DGA_QQ)"
   ]
  },
  {
   "cell_type": "code",
   "execution_count": 39,
   "id": "c9f4aa73-1eb6-417b-b377-9f77b3dd1520",
   "metadata": {},
   "outputs": [
    {
     "name": "stdout",
     "output_type": "stream",
     "text": [
      "'GroupAlgebra_class_with_category' object has no attribute 'dft'\n"
     ]
    }
   ],
   "source": [
    "#the DFT for the dihedral group does not currently exist over finite fields F\n",
    "try:\n",
    "    DGA_F.dft()\n",
    "except AttributeError as e:\n",
    "    print(e)"
   ]
  },
  {
   "cell_type": "code",
   "execution_count": 40,
   "id": "aa36f22b-3805-400e-ad12-0554a0710070",
   "metadata": {},
   "outputs": [
    {
     "name": "stdout",
     "output_type": "stream",
     "text": [
      "'GroupAlgebra_class_with_category' object has no attribute 'dft'\n"
     ]
    }
   ],
   "source": [
    "#the DFT for the dihedral group does not currently exist over the rational numbers\n",
    "try:\n",
    "    DGA_QQ.dft()\n",
    "except AttributeError as e:\n",
    "    print(e)"
   ]
  },
  {
   "cell_type": "code",
   "execution_count": 59,
   "id": "4429fe00-535e-476e-b3e7-e112a3a9de63",
   "metadata": {},
   "outputs": [
    {
     "name": "stdout",
     "output_type": "stream",
     "text": [
      "SymmetricGroup(n).algebra(F).dft():\n",
      "[1 1 1 1 1 1]\n",
      "[1 2 2 3 3 4]\n",
      "[0 3 2 2 3 0]\n",
      "[0 1 4 1 4 0]\n",
      "[1 2 2 2 2 1]\n",
      "[1 1 1 4 4 4]\n",
      "SymmetricGroupAlgebra(F,n).dft():\n",
      "[1 1 1 1 1 1]\n",
      "[1 3 4 2 2 3]\n",
      "[0 2 0 2 3 3]\n",
      "[0 1 0 4 1 4]\n",
      "[1 2 1 2 2 2]\n",
      "[1 4 4 1 1 4]\n"
     ]
    }
   ],
   "source": [
    "\"\"\"\n",
    "- example with symmetric group algebra\n",
    "- note that the columns are ordered differently, suggesting that they are not calling the same DFT function\n",
    "\n",
    "\"\"\"\n",
    "sga_dft_alg_functor = SymmetricGroup(n).algebra(F).dft(); print(\"SymmetricGroup(n).algebra(F).dft():\"); print(sga_dft_alg_functor)\n",
    "sga_dft_group_alg = SymmetricGroupAlgebra(F,n).dft(); print(\"SymmetricGroupAlgebra(F,n).dft():\"); print(sga_dft_group_alg)"
   ]
  },
  {
   "cell_type": "code",
   "execution_count": null,
   "id": "c5d06866-260f-4f68-af51-485c2c08a2fa",
   "metadata": {},
   "outputs": [],
   "source": []
  }
 ],
 "metadata": {
  "kernelspec": {
   "display_name": "SageMath 10.5",
   "language": "sage",
   "name": "sagemath-10.5"
  },
  "language_info": {
   "codemirror_mode": {
    "name": "ipython",
    "version": 3
   },
   "file_extension": ".py",
   "mimetype": "text/x-python",
   "name": "python",
   "nbconvert_exporter": "python",
   "pygments_lexer": "ipython3",
   "version": "3.12.5"
  }
 },
 "nbformat": 4,
 "nbformat_minor": 5
}
