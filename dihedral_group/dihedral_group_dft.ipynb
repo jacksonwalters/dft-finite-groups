{
 "cells": [
  {
   "cell_type": "code",
   "execution_count": 12,
   "id": "4bd48c97-73d0-4611-9e21-33ff45aca75b",
   "metadata": {},
   "outputs": [],
   "source": [
    "\"\"\"\n",
    "this code will seek to replicate the computations performed for modular and unitary rep'ns of the symmetric group\n",
    "\n",
    "- construct the usual (seminormal) DFT\n",
    "- construct the unitary DFT over GF(q**2) (multiply seminormal)\n",
    "- construct the modular DFT (using central primitive orthogonal idempotents, i.e. the Peirce decomposition)\n",
    "\n",
    "\"\"\";"
   ]
  },
  {
   "cell_type": "code",
   "execution_count": 17,
   "id": "89dfe616-c133-4935-a606-1ebfe44645c9",
   "metadata": {},
   "outputs": [
    {
     "name": "stdout",
     "output_type": "stream",
     "text": [
      "Dihedral group of order 8 as a permutation group\n"
     ]
    }
   ],
   "source": [
    "#construct dihedral group of order n over GF(q)\n",
    "n = 4\n",
    "q = 7\n",
    "F = GF(q**2)\n",
    "G = DihedralGroup(n); print(G)"
   ]
  },
  {
   "cell_type": "code",
   "execution_count": 20,
   "id": "4c6e65cd-c3dc-4b3e-9b7c-759a26447107",
   "metadata": {},
   "outputs": [
    {
     "data": {
      "text/plain": [
       "Algebra of Dihedral group of order 8 as a permutation group over Finite Field in z2 of size 7^2"
      ]
     },
     "execution_count": 20,
     "metadata": {},
     "output_type": "execute_result"
    }
   ],
   "source": [
    "DGA = G.algebra(F); DGA"
   ]
  },
  {
   "cell_type": "code",
   "execution_count": 23,
   "id": "c9f4aa73-1eb6-417b-b377-9f77b3dd1520",
   "metadata": {},
   "outputs": [
    {
     "name": "stdout",
     "output_type": "stream",
     "text": [
      "'GroupAlgebra_class_with_category' object has no attribute 'dft'\n"
     ]
    }
   ],
   "source": [
    "#the DFT for the dihedral group does not currently exist\n",
    "try:\n",
    "    DGA.dft()\n",
    "except AttributeError as e:\n",
    "    print(e)"
   ]
  },
  {
   "cell_type": "code",
   "execution_count": null,
   "id": "fcfcbf58-28c9-46ad-9ad1-0b6c0c366853",
   "metadata": {},
   "outputs": [],
   "source": []
  }
 ],
 "metadata": {
  "kernelspec": {
   "display_name": "SageMath 10.5",
   "language": "sage",
   "name": "sagemath-10.5"
  },
  "language_info": {
   "codemirror_mode": {
    "name": "ipython",
    "version": 3
   },
   "file_extension": ".py",
   "mimetype": "text/x-python",
   "name": "python",
   "nbconvert_exporter": "python",
   "pygments_lexer": "ipython3",
   "version": "3.12.5"
  }
 },
 "nbformat": 4,
 "nbformat_minor": 5
}
