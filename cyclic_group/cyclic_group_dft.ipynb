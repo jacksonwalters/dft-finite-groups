{
 "cells": [
  {
   "cell_type": "code",
   "execution_count": 7,
   "id": "98783dcf",
   "metadata": {},
   "outputs": [],
   "source": [
    "#https://en.wikipedia.org/wiki/Discrete_Fourier_transform_over_a_ring\n",
    "#implementation of the discrete Fourier transform over a ring R\n",
    "#can assume R is an integral domain\n",
    "#so just choose \\alpha a primitive n-th root of unity, i.e. \\alpha^n=1, \\alpha \\ne 1\n",
    "#ensure n invertible, i.e. p=char(R) does not divide n\n",
    "#note x^{p-1} = 1, so we require n|p-1\n",
    "#we are looking at the group algebra F_p[C_N]\n",
    "#this is F_p[x]/(x^N-1)\n",
    "#if p|N, we can write (x^N-1) = (x^m-1)^{p^s} for some s\n",
    "#we are looking at roots of unity mod p\n",
    "#to factor x^m-1, use cyclotomic polynomials: x^m-1 = \\prod_{d|m} phi_d(x)\n",
    "#to factor phi_d(x) in F_p, that's equivalent to looking at (p) in Z[x]/Phi_d(x) = Z[zeta]\n",
    "#(p) = P_1...P_g where each P_i has the same residue degree f\n",
    "#Here f*g = phi(d), and f is the order of p modulo d, phi is Euler totient\n",
    "#phi_d(x) factors in F_p[x] into g polynomials, each of degree f\n",
    "#thus F_p[x]/(x^N-1) \\cong \\prod_{d|m} \\prod_{i=1}^g F_p[x]/(P_i^{p^s})\n",
    "#by the Chinese remainder theorem\n",
    "#i.e. just factor x^N-1 mod p, and map onto residue classes\n",
    "#we can also factor over a splitting field, F_q\n",
    "#this will result in linear factors, with possible multiplicity if p|N"
   ]
  },
  {
   "cell_type": "code",
   "execution_count": 8,
   "id": "d109015b-1b4e-426b-be88-d40c20a1f5ca",
   "metadata": {},
   "outputs": [],
   "source": [
    "#find an n^th root over unity in an extension F_q of F_p\n",
    "#note that if p|n, n==0 mod p, so there is no n^th root over F_p^r\n",
    "def primitive_root_unity(p,n):\n",
    "    assert not p.divides(n)\n",
    "    #find an n^th root of unity over F_q\n",
    "    r = 1\n",
    "    while not n.divides(p**r - 1):\n",
    "        r += 1\n",
    "    q = p**r\n",
    "    k.<a> = GF(q, modulus=\"primitive\")\n",
    "    return a^((q-1)/n), k"
   ]
  },
  {
   "cell_type": "code",
   "execution_count": 9,
   "id": "1ca0e916-d113-436e-918a-dae1311837e8",
   "metadata": {},
   "outputs": [],
   "source": [
    "#find the \\sqrt{n} in a splitting field K of x^n-1 over F_p\n",
    "#by extending to splitting field of x^2-n in K[x]\n",
    "def square_root(K,n):\n",
    "    #define the polynomial ring F_p[x]\n",
    "    R = PolynomialRing(K,'x')\n",
    "    #define the polynomial x^2-n\n",
    "    f = R.0**2-n; assert f in R\n",
    "    #find the splitting field \n",
    "    L.<a> = f.splitting_field()\n",
    "    #embed n in the field K, and take the square root\n",
    "    return sqrt(L(n)), L"
   ]
  },
  {
   "cell_type": "code",
   "execution_count": 10,
   "id": "59ddb742",
   "metadata": {},
   "outputs": [],
   "source": [
    "#DFT over a ring with primitive root alpha\n",
    "def fourier_transform(v,alpha):\n",
    "    return [sum(v[j]*alpha**(j*k) for j in range(len(v))) for k in range(len(v))]"
   ]
  },
  {
   "cell_type": "code",
   "execution_count": 11,
   "id": "778df252",
   "metadata": {},
   "outputs": [],
   "source": [
    "#define the inverse Fourier transform\n",
    "def inverse_fourier_transform(f,alpha):\n",
    "    return [K(1/len(f))*sum(f[k]*alpha**(-j*k) for k in range(len(f))) for j in range(len(f))]"
   ]
  },
  {
   "cell_type": "code",
   "execution_count": 12,
   "id": "295e02b4",
   "metadata": {},
   "outputs": [],
   "source": [
    "#h is an element of F_p[C_N]\n",
    "#that is, h = h0+h1*x+h2x^2+...+h_{N-1}x^N-1\n",
    "#we allow h as a list of N numbers modulo p\n",
    "#h = [h0,h1,h2,...,h_{N-1}]\n",
    "def discrete_fourier_transform(h,p,splitting_field=False):\n",
    "    #length of list is size of N\n",
    "    N = len(h)\n",
    "    #define the polynomial ring F_p[x]\n",
    "    R = PolynomialRing(GF(p),'x')\n",
    "    #name the generator x an element of R\n",
    "    x = R.0\n",
    "    #define the polynomial x^N-1\n",
    "    f = x**N-1; assert f in R\n",
    "    if splitting_field:\n",
    "        K.<a> = f.splitting_field()\n",
    "        #define the polynomial ring over extended base field\n",
    "        R = PolynomialRing(K,'x')\n",
    "        #name the generator x an element of R\n",
    "        x = R.0\n",
    "        #define the polynomial x^N-1\n",
    "        f = x**N-1; assert f in R\n",
    "    #define the quotient ring F_p[x]/(x^N-1)\n",
    "    S = R.quotient(x^N - 1, 'x')\n",
    "    #transform the list of coefficients of h into a polynomial in R=F_p[x]\n",
    "    h = sum(h[i]*x**i for i in range(N)); assert h in S\n",
    "    #factor f in F_p[x], save as list of factors and multiplicities\n",
    "    f_factors = list(f.factor())\n",
    "    #implement the Chinese remainder theorem mapping S=F_p[x]/(x^N-1) --> \\prod_i R/(factor_i^mult_i)\n",
    "    h_transform=[list(R.quotient(f_factors[i][0]**f_factors[i][1])(h)) for i in range(len(f_factors))]\n",
    "    return h_transform"
   ]
  },
  {
   "cell_type": "code",
   "execution_count": 13,
   "id": "8694319f-b99a-487a-9b2e-bc3da282f974",
   "metadata": {},
   "outputs": [],
   "source": [
    "def inv_discrete_fourier_transform(hhat,p,splitting_field=False):\n",
    "    N = sum(len(l) for l in hhat)\n",
    "    #define the polynomial ring F_p[x]\n",
    "    R = PolynomialRing(GF(p),'x')\n",
    "    #name the generator x an element of R\n",
    "    x = R.0\n",
    "    #define the polynomial x^N-1\n",
    "    f = x**N-1; assert f in R\n",
    "    if splitting_field:\n",
    "        K.<a> = f.splitting_field()\n",
    "        #define the polynomial ring over extended base field\n",
    "        R = PolynomialRing(K,'x')\n",
    "        #name the generator x an element of R\n",
    "        x = R.0\n",
    "        #define the polynomial x^N-1\n",
    "        f = x**N-1; assert f in R\n",
    "    S = R.quotient(x^N - 1, 'x')\n",
    "    f_factors = list(f.factor())\n",
    "    #perform inverse of Chinese remainder theorem\n",
    "    #for each modulus N_i = N/n_i, where n_i is the modulus of each factor\n",
    "    #Bezout's theorem applies, so we get M_i*N_i + m_i*n_i = 1\n",
    "    #a solution x = \\sum_{i=1}^k a_i*M_i*N_i, where a_i are the remainders\n",
    "    n = [f_factors[i][0]**f_factors[i][1] for i in range(len(f_factors))]\n",
    "    #get coefficients M_i, m_i from N_i, n_i\n",
    "    M = [xgcd(f/n[i],n[i])[1] for i in range(len(n))]\n",
    "    #get remainders as polynomials in R\n",
    "    a = [sum(hhat[i][j]*x**j for j in range(len(hhat[i]))) for i in range(len(hhat))]\n",
    "    inv_transform = sum(a[i]*M[i]*(f/n[i]) for i in range(len(a)))\n",
    "    return list(S(inv_transform))"
   ]
  },
  {
   "cell_type": "code",
   "execution_count": 14,
   "id": "8ab529df-7923-4b23-bfc9-b77296d14d06",
   "metadata": {},
   "outputs": [],
   "source": [
    "#compute the DFT matrix as a Vandermonde matrix over F_q\n",
    "#find a primitive n^th root of unity over F_q as long as n == 0 over F_p\n",
    "#optionally normalize with 1/sqrt{n} computed in the splitting field of x^n-1\n",
    "def dft_matrix(p,n,normalize=False,type=\"vandermonde\"):\n",
    "    if type==\"vandermonde\":\n",
    "        try:\n",
    "            alpha, K = primitive_root_unity(p,n)\n",
    "            square_root_n, L = square_root(K,n)\n",
    "            return (1/square_root_n if normalize else 1)*matrix(L, [[alpha^(i*j) for i in range(n)] for j in range(n)])\n",
    "        except AssertionError:\n",
    "            print(\"p must not divide n for Vandermonde method\")\n",
    "    if type==\"polynomial\":\n",
    "        return matrix([flatten(discrete_fourier_transform([1 if i==j else 0 for j in range(n)],p,splitting_field=True)) for i in range(n)]).transpose()"
   ]
  },
  {
   "cell_type": "code",
   "execution_count": 15,
   "id": "c30eed07-7003-41d1-b10a-47fc7ee323ac",
   "metadata": {},
   "outputs": [],
   "source": [
    "#compute the set of eigenvalues for the Vandermonde DFT matrix when p \\nmid n\n",
    "from collections import Counter\n",
    "def dft_matrix_eigenvalues(p,n,normalize=False,type=\"vandermonde\"):\n",
    "    M = dft_matrix(p,n,normalize,type)\n",
    "    k.<a> = M.charpoly().splitting_field()\n",
    "    eigs = matrix(k,M).eigenvalues(extend=False)\n",
    "    return dict(Counter(eigs))"
   ]
  },
  {
   "cell_type": "code",
   "execution_count": 16,
   "id": "5ec65fff-86aa-49d5-8b5b-ecab7880ba5a",
   "metadata": {},
   "outputs": [],
   "source": [
    "#define conjugation as x |--> x**q, an order two automorphism of F_q^2. note x**q == x for x \\in F_q.\n",
    "def conjugate_transpose_pos_char(A):\n",
    "    assert A.nrows() == A.ncols()\n",
    "    field_size = A.base_ring().order()\n",
    "    q = sqrt(field_size) if field_size.is_square() else field_size\n",
    "    return matrix(GF(q**2),[[A[i][j]**q for i in range(A.nrows())] for j in range(A.nrows())]).transpose()"
   ]
  },
  {
   "cell_type": "code",
   "execution_count": 17,
   "id": "9d311a59-60ac-4fe1-9ca8-a3c7b4a1fa79",
   "metadata": {},
   "outputs": [],
   "source": [
    "#check if the matrix is unitary by ensuring A^*.A = A.A^* = I_n\n",
    "#A is unitary iff q == -1 (mod n), and we are working over F_{q^2}\n",
    "def check_unitarity(A):\n",
    "    assert A.nrows() == A.ncols()\n",
    "    n = A.nrows()\n",
    "    return conjugate_transpose(A)*A == identity_matrix(n) and A*conjugate_transpose(A) == identity_matrix(n)"
   ]
  },
  {
   "cell_type": "code",
   "execution_count": 18,
   "id": "0c7eeb4b-b67e-44a2-9338-876c65eb924f",
   "metadata": {},
   "outputs": [
    {
     "data": {
      "text/plain": [
       "False"
      ]
     },
     "execution_count": 18,
     "metadata": {},
     "output_type": "execute_result"
    }
   ],
   "source": [
    "A = dft_matrix(3,8,normalize=True,type=\"vandermonde\"); A\n",
    "#print(A[0][0].parent())\n",
    "#print(A.base_ring().order())\n",
    "#print(3**10)\n",
    "#(A*conjugate_transpose(A))^2\n",
    "check_unitarity(A)"
   ]
  },
  {
   "cell_type": "code",
   "execution_count": 19,
   "id": "aadb3ca9-e9b3-4192-9c91-791ca96a62cc",
   "metadata": {},
   "outputs": [
    {
     "name": "stdout",
     "output_type": "stream",
     "text": [
      "x^3 + 2\n",
      "2*x^3 + 2\n"
     ]
    }
   ],
   "source": [
    "#compute idempotents as preimage of (1,...0), (0,1,...,0), ... , (0,0,...,1) under Fourier transform\n",
    "from sage.misc.flatten import flatten\n",
    "#idempotent corresponding to (1,0) in the product of quotient rings for p=3, N=6\n",
    "quotient_idem_0 = [[1,0,0],[0,0,0]]\n",
    "#idempotent corresponding to (0,1) in the product of quotient rings for p=3, N=6\n",
    "quotient_idem_1 = [[0,0,0],[1,0,0]]\n",
    "N = len(flatten(quotient_idem_0))\n",
    "R = PolynomialRing(GF(3),'x')\n",
    "S = R.quotient(x^N - 1, 'x')\n",
    "x = R.0 #name the generator x an element of R\n",
    "inv_FT_0 = inv_discrete_fourier_transform(quotient_idem_0,3,splitting_field=False) #inverse FT\n",
    "idem_0 = sum(inv_FT_0[i]*x**i for i in range(N)); assert idem_0 in S #map list to poly in S\n",
    "inv_FT_1 = inv_discrete_fourier_transform(quotient_idem_1,3,splitting_field=False) #inverse DFT \n",
    "idem_1 = sum(inv_FT_1[i]*x**i for i in range(N)); assert idem_1 in S #map list to poly in S\n",
    "print(idem_0); print(idem_1)"
   ]
  },
  {
   "cell_type": "code",
   "execution_count": 20,
   "id": "e29a4f79-f3e7-4c20-baa3-fd1face2b4ec",
   "metadata": {},
   "outputs": [
    {
     "data": {
      "text/plain": [
       "[1, 1, 1, 1, 1, 1]"
      ]
     },
     "execution_count": 20,
     "metadata": {},
     "output_type": "execute_result"
    }
   ],
   "source": [
    "n=6; p=7\n",
    "#finite field of size p\n",
    "K = GF(p)\n",
    "assert K(n) != K(0) #ensure n is invertible\n",
    "assert n.divides(p-1) #ensure a primitive n-th root of unity exists\n",
    "#list to be transformed\n",
    "v = [K(1) for i in range(n)]\n",
    "alpha, k = primitive_root_unity(p,n)\n",
    "f=fourier_transform(v,alpha); f\n",
    "inverse_fourier_transform(f,alpha)"
   ]
  },
  {
   "cell_type": "code",
   "execution_count": 21,
   "id": "6cd74619-dd23-4f9e-83df-45e140e3aa17",
   "metadata": {},
   "outputs": [
    {
     "data": {
      "text/plain": [
       "{a^5 + a^3 + 2*a^2 + a: 1, 2: 2, 1: 2, 2*a^5 + 2*a^3 + a^2 + 2*a: 2}"
      ]
     },
     "execution_count": 21,
     "metadata": {},
     "output_type": "execute_result"
    }
   ],
   "source": [
    "dft_matrix_eigenvalues(3,7,normalize=False,type=\"vandermonde\")"
   ]
  },
  {
   "cell_type": "code",
   "execution_count": 22,
   "id": "ba3f9638-9335-4999-a5bb-7da9f31aa099",
   "metadata": {},
   "outputs": [
    {
     "data": {
      "text/plain": [
       "[1 0 0 0 0 0 0]\n",
       "[0 1 0 0 0 0 0]\n",
       "[0 0 1 0 0 0 0]\n",
       "[0 0 0 1 0 0 0]\n",
       "[0 0 0 0 1 0 0]\n",
       "[0 0 0 0 0 1 0]\n",
       "[0 0 0 0 0 0 1]"
      ]
     },
     "execution_count": 22,
     "metadata": {},
     "output_type": "execute_result"
    }
   ],
   "source": [
    "dft_matrix(5,7,normalize=True,type=\"vandermonde\")^4"
   ]
  },
  {
   "cell_type": "code",
   "execution_count": 23,
   "id": "264b43d7",
   "metadata": {},
   "outputs": [
    {
     "data": {
      "text/plain": [
       "[0, 0, 0, 0, 0, 1]"
      ]
     },
     "execution_count": 23,
     "metadata": {},
     "output_type": "execute_result"
    }
   ],
   "source": [
    "inv_discrete_fourier_transform([[4], [1], [4, 4], [1, 4]],5)"
   ]
  },
  {
   "cell_type": "code",
   "execution_count": 24,
   "id": "513723a5-e31c-4551-b03d-30013c895191",
   "metadata": {},
   "outputs": [
    {
     "data": {
      "text/plain": [
       "9"
      ]
     },
     "execution_count": 24,
     "metadata": {},
     "output_type": "execute_result"
    }
   ],
   "source": [
    "dft_matrix(3,8,normalize=True,type=\"vandermonde\").base_ring().order()"
   ]
  }
 ],
 "metadata": {
  "kernelspec": {
   "display_name": "SageMath 10.3",
   "language": "sage",
   "name": "sagemath-10.3"
  },
  "language_info": {
   "codemirror_mode": {
    "name": "ipython",
    "version": 3
   },
   "file_extension": ".py",
   "mimetype": "text/x-python",
   "name": "python",
   "nbconvert_exporter": "python",
   "pygments_lexer": "ipython3",
   "version": "3.11.1"
  }
 },
 "nbformat": 4,
 "nbformat_minor": 5
}
