{
 "cells": [
  {
   "cell_type": "code",
   "execution_count": 13,
   "id": "854e2a23-b7b2-4480-85db-04b91957f5fd",
   "metadata": {},
   "outputs": [],
   "source": [
    "#compute the eigenvectors of Schur's matrix according to Morton's '78 paper, \"On the Eigenvectors of Schur's Matrix\"\n",
    "#https://www.sciencedirect.com/science/article/pii/0022314X80900839"
   ]
  },
  {
   "cell_type": "code",
   "execution_count": 14,
   "id": "5f6a1229-25b0-4cc1-97d6-fb0cec54d304",
   "metadata": {},
   "outputs": [
    {
     "data": {
      "text/plain": [
       "[(sqrt(5),\n",
       "  [(1, 0, 0, 1, 1/2*sqrt(5) + 1/2), (0, 1, 1, 0, 1/2*sqrt(5) + 1/2)],\n",
       "  2),\n",
       " (-I*sqrt(5),\n",
       "  [(1, -1/2*sqrt(5) - 1/2*sqrt(2*sqrt(5) + 10) - 1/2, 1/2*sqrt(5) + 1/2*sqrt(2*sqrt(5) + 10) + 1/2, -1, 0)],\n",
       "  1),\n",
       " (I*sqrt(5),\n",
       "  [(1, -1/2*sqrt(5) + 1/2*sqrt(2*sqrt(5) + 10) - 1/2, 1/2*sqrt(5) - 1/2*sqrt(2*sqrt(5) + 10) + 1/2, -1, 0)],\n",
       "  1),\n",
       " (-sqrt(5), [(1, 1, 1, 1, -sqrt(5) + 1)], 1)]"
      ]
     },
     "execution_count": 14,
     "metadata": {},
     "output_type": "execute_result"
    }
   ],
   "source": [
    "#compute the eigenvectors of Schur's matrix (symbolically) over the complex numbers (or a cyclotomic field containing q^th roots of unity)\n",
    "#note: A is not unitary \n",
    "q=5\n",
    "alpha = exp(2*pi*I/q)\n",
    "#K.<alpha> = CyclotomicField(3)\n",
    "A = matrix([[(alpha**(i*j)).expand() for j in range(1,q+1)] for i in range(1,q+1)])\n",
    "A_eigs = A.eigenvectors_right(); A_eigs"
   ]
  },
  {
   "cell_type": "code",
   "execution_count": 15,
   "id": "6ce7b97d-9886-492e-8729-2ffbba1b2419",
   "metadata": {},
   "outputs": [
    {
     "data": {
      "text/plain": [
       "[(sqrt(5),\n",
       "  [(1, 0, 1/2*sqrt(5) - 1/2, 1/2*sqrt(5) - 1/2, 0), (0, 1, -1, -1, 1)],\n",
       "  2),\n",
       " (-I*sqrt(5),\n",
       "  [(0, 1, -1/2*sqrt(5) - 1/2*sqrt(2*sqrt(5) + 10) - 1/2, 1/2*sqrt(5) + 1/2*sqrt(2*sqrt(5) + 10) + 1/2, -1)],\n",
       "  1),\n",
       " (I*sqrt(5),\n",
       "  [(0, 1, -1/2*sqrt(5) + 1/2*sqrt(2*sqrt(5) + 10) - 1/2, 1/2*sqrt(5) - 1/2*sqrt(2*sqrt(5) + 10) + 1/2, -1)],\n",
       "  1),\n",
       " (-sqrt(5),\n",
       "  [(1, -1/4*sqrt(5) - 1/4, -1/4*sqrt(5) - 1/4, -1/4*sqrt(5) - 1/4, -1/4*sqrt(5) - 1/4)],\n",
       "  1)]"
      ]
     },
     "execution_count": 15,
     "metadata": {},
     "output_type": "execute_result"
    }
   ],
   "source": [
    "#compute the eigenvectors of the DFT matrix (symbolically) over the complex numbers (or a cyclotomic field containing q^th roots of unity)\n",
    "#NOTE: The DFT matrix is a cyclic permutation of rows and cols applied to Schur's matrix\n",
    "DFT = matrix([[(alpha**(i*j)).expand() for j in range(q)] for i in range(q)])\n",
    "DFT.eigenvectors_right()"
   ]
  },
  {
   "cell_type": "code",
   "execution_count": 16,
   "id": "5195daa4-ed18-42da-89cf-dceca82418d7",
   "metadata": {},
   "outputs": [
    {
     "data": {
      "text/plain": [
       "True"
      ]
     },
     "execution_count": 16,
     "metadata": {},
     "output_type": "execute_result"
    }
   ],
   "source": [
    "#check that A is similar to the DFT matrix by cyclicly permuting columns and rows\n",
    "sigma = Permutation([(i % q)+1 for i in range(1,q+1)])\n",
    "P = sigma.to_matrix()\n",
    "P.inverse()*DFT*P == A"
   ]
  },
  {
   "cell_type": "code",
   "execution_count": 17,
   "id": "eb7fa558-8f3f-4531-8d04-de47fbafcc10",
   "metadata": {},
   "outputs": [],
   "source": [
    "#define the vectors X_d given a divisor d of q/f(chi), where f(chi) is the conductor of the character \\chi\n",
    "#characters are evaluated as primitive characeters, i.e. relative to the conductor\n",
    "def X(d,chi):\n",
    "    q = chi.modulus()\n",
    "    f = chi.conductor()\n",
    "    assert d.divides(q/f)\n",
    "    return vector([chi.primitive_character()(n/d) if d.divides(n) else 0 for n in range(1,q+1)])"
   ]
  },
  {
   "cell_type": "code",
   "execution_count": 18,
   "id": "4aac809d-11b8-4c36-8076-ba2194c27566",
   "metadata": {},
   "outputs": [],
   "source": [
    "#compute eigenvectors given a character chi and a divisor d of q/f(chi)\n",
    "def eigenvectors(d,chi):\n",
    "    q = chi.modulus()\n",
    "    f = chi.conductor()\n",
    "    try:\n",
    "        assert d.divides(q/f)\n",
    "    except AssertionError:\n",
    "        print(\"Error: d must divide q/f(chi)\")\n",
    "        return\n",
    "\n",
    "    #define the eigenvalues\n",
    "    eig_plus = sqrt(chi(-1)*q)\n",
    "    eig_minus = -sqrt(chi(-1)*q)\n",
    "    eig_X = sqrt(q/f)*chi.primitive_character().gauss_sum()\n",
    "    #map the eigenvalue to the symbolic ring and simplify\n",
    "    eig_X = SR(eig_X).simplify_full()\n",
    "\n",
    "    #define the eigenvectors E(chi,d,lambda) as in (13) in the paper\n",
    "    #need to restrict character to modulus conductor, i.e. the primitive character|\n",
    "    def E(chi,d,eig):\n",
    "        conj_coeff = eig/(chi.bar().primitive_character().gauss_sum()*sqrt(d))\n",
    "        conj_coeff = SR(conj_coeff).full_simplify()\n",
    "        conj_divisor = Integer(q/(f*d))\n",
    "        return sqrt(d)*X(d,chi) + conj_coeff*X(conj_divisor,chi.bar())\n",
    "\n",
    "    #check if chi is real and if the ratio of modulus to conductor is the square of a divisor\n",
    "    reality_condition = chi.bar() == chi\n",
    "    square_condition = d^2 == q/f\n",
    "\n",
    "    #if chi is real and square condition is met, just return X_d(chi)\n",
    "    if reality_condition and square_condition:\n",
    "        return [(eig_X, X(d,chi))]\n",
    "\n",
    "    #if one or the other condition is met, return a pair of eigenvalues corresponding to E(chi,d,\\pm lambda)\n",
    "    if reality_condition != square_condition:\n",
    "        return (eig_plus, E(chi,d,eig_plus)), (eig_minus, E(chi,d,eig_minus))\n",
    "\n",
    "    #if neither condition are met, return four eigenvalues E(chi,d,\\pm lambda) and E(chi_bar,d,\\pm lambda)\n",
    "    if (not reality_condition) and (not square_condition):\n",
    "        return (eig_plus,E(chi,d,eig_plus)), (eig_minus,E(chi,d,eig_minus)), (eig_plus,E(chi.bar(),d,eig_plus)), (eig_minus,E(chi.bar(),d,eig_minus))"
   ]
  },
  {
   "cell_type": "code",
   "execution_count": 19,
   "id": "3cd5a7ee-653d-4297-b4e7-562c50c8a829",
   "metadata": {},
   "outputs": [],
   "source": [
    "from sage.misc.flatten import flatten\n",
    "#compute all the eigenvectors the Schur matrix\n",
    "#return a dict with eigenvalues as keys and list of eigenvectors as values\n",
    "def all_eigenvectors(q):\n",
    "    all_eigs = {}\n",
    "    for chi in DirichletGroup(q):\n",
    "        f = chi.conductor()\n",
    "        for d in divisors(q/f):\n",
    "            for v in eigenvectors(Integer(d),chi):\n",
    "                if v[0] not in all_eigs:\n",
    "                    all_eigs[v[0]] = [v[1]]\n",
    "                else:\n",
    "                    all_eigs[v[0]].append(v[1])\n",
    "    return all_eigs"
   ]
  },
  {
   "cell_type": "code",
   "execution_count": 20,
   "id": "db9cb9db-eb2d-4293-a305-94c9da572bd4",
   "metadata": {},
   "outputs": [
    {
     "name": "stdout",
     "output_type": "stream",
     "text": [
      "True\n"
     ]
    }
   ],
   "source": [
    "#ISSUE 1: dependent eigenvectors in list\n",
    "#EXPECTED BEHAVIOR: the number of independent eigenvectors should be exactly q\n",
    "#for q=3 and q=4, it seems that the second condition is being called twice when it should only be called once\n",
    "#it's giving two independent eigenvectors each time, but they are dependent on other vectors in the list\n",
    "#for q=4, we are computing d=1, conj_divisor=4 and d=4, conj_divisor=1 and getting eigenvectors which are dependent\n",
    "#when we look at the sum over characters and divisors of 1, we get q. that means there would only be 1 eigenvector for the pair (chi,d)\n",
    "#but there are two in one case, four in the other case\n",
    "sum_total = 0\n",
    "for chi in DirichletGroup(q):\n",
    "    f = chi.conductor()\n",
    "    for d in divisors(q/f):\n",
    "        #if we contribute 2 or 4 eigenvectors here, the total number will be wrong\n",
    "        sum_total += 1\n",
    "print(sum_total==q)"
   ]
  },
  {
   "cell_type": "code",
   "execution_count": 21,
   "id": "b2387e63-a99e-462f-9bb7-6e16b6378748",
   "metadata": {},
   "outputs": [
    {
     "data": {
      "text/plain": [
       "{2: [(1, 1, 1, 3), (0, 1, 0, 1), (1, 1, 1, 3)],\n",
       " -2: [(1, 1, 1, -1), (-1, -1, -1, 1)],\n",
       " 2*I: [(1, 0, -1, 0)]}"
      ]
     },
     "execution_count": 21,
     "metadata": {},
     "output_type": "execute_result"
    }
   ],
   "source": [
    "all_eigenvectors(4)"
   ]
  }
 ],
 "metadata": {
  "kernelspec": {
   "display_name": "SageMath 10.4",
   "language": "sage",
   "name": "sagemath-10.4"
  },
  "language_info": {
   "codemirror_mode": {
    "name": "ipython",
    "version": 3
   },
   "file_extension": ".py",
   "mimetype": "text/x-python",
   "name": "python",
   "nbconvert_exporter": "python",
   "pygments_lexer": "ipython3",
   "version": "3.12.4"
  }
 },
 "nbformat": 4,
 "nbformat_minor": 5
}
