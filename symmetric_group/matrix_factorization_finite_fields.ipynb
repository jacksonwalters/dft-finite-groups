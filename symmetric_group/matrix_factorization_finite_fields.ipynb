{
 "cells": [
  {
   "cell_type": "code",
   "execution_count": 96,
   "id": "71fa2c76-6900-4b20-892d-6816dbe17aa9",
   "metadata": {},
   "outputs": [],
   "source": [
    "\"\"\"\n",
    "NOTES:\n",
    "\n",
    "- the Cholesky decomposition over finite fields does not exist for d >= 3 (it does exist for d = 2) for d x d matrices\n",
    "- however, we can find a general (non lower triangular) decomposition U = AA^* using BaseChangeToCanonical in the GAP `forms` package.\n",
    "- writing \\tilde{\\rho}(g) = A^*\\rho(g)A^*.inverse() gives unitary representations over finite fields\n",
    "\n",
    "\"\"\";"
   ]
  },
  {
   "cell_type": "code",
   "execution_count": 77,
   "id": "3f1539ff-ecaf-4fd2-88d6-f82bb5519a70",
   "metadata": {},
   "outputs": [
    {
     "data": {
      "text/plain": [
       "[1 2]\n",
       "[2 1]"
      ]
     },
     "execution_count": 77,
     "metadata": {},
     "output_type": "execute_result"
    }
   ],
   "source": [
    "U_0 = matrix(GF(3^2),[[1,2],[2,1]]); U_0"
   ]
  },
  {
   "cell_type": "code",
   "execution_count": 78,
   "id": "ba0de0e7-c5eb-4f18-bfc9-559b97e55d90",
   "metadata": {},
   "outputs": [
    {
     "data": {
      "text/plain": [
       "[1 2 2]\n",
       "[2 1 2]\n",
       "[2 2 1]"
      ]
     },
     "execution_count": 78,
     "metadata": {},
     "output_type": "execute_result"
    }
   ],
   "source": [
    "U_1 = matrix(GF(3^2),[[1,2,2],[2,1,2],[2,2,1]]); U_1"
   ]
  },
  {
   "cell_type": "code",
   "execution_count": 79,
   "id": "7278a2e5-1a87-4300-860e-811e49867ccf",
   "metadata": {},
   "outputs": [
    {
     "data": {
      "text/plain": [
       "[0 1 2]\n",
       "[1 0 1]\n",
       "[2 1 0]"
      ]
     },
     "execution_count": 79,
     "metadata": {},
     "output_type": "execute_result"
    }
   ],
   "source": [
    "U_2 = matrix(GF(3^2),[[0,1,2],[1,0,1],[2,1,0]]); U_2"
   ]
  },
  {
   "cell_type": "code",
   "execution_count": 74,
   "id": "7314b4de-3b4c-4f85-ab18-5f331ac40b50",
   "metadata": {},
   "outputs": [],
   "source": [
    "#define conjugation as x |--> x**q, an order two automorphism of F_q^2. note x**q == x for x \\in F_q.\n",
    "def conjugate_pos_char(A):\n",
    "    assert A.nrows() == A.ncols()\n",
    "    field_size = A.base_ring().order()\n",
    "    q = sqrt(field_size) if field_size.is_square() else field_size\n",
    "    return matrix(A.base_ring(),[[A[i][j]**q for j in range(A.nrows())] for i in range(A.nrows())])"
   ]
  },
  {
   "cell_type": "code",
   "execution_count": 75,
   "id": "f0efa80b-6bf8-4220-942c-4291a7f791f3",
   "metadata": {},
   "outputs": [],
   "source": [
    "#define finite field F_9 we are working over\n",
    "q = 3\n",
    "F = GF(q^2)\n",
    "z = F.gen()\n",
    "w = F.subfield(1).multiplicative_generator()"
   ]
  },
  {
   "cell_type": "code",
   "execution_count": 69,
   "id": "57f45ab2-c2aa-4939-b1e3-5b46ba784e5b",
   "metadata": {},
   "outputs": [],
   "source": [
    "import re\n",
    "def convert_to_sage_gens(expression, q):\n",
    "    \n",
    "    # Convert Z(q) to w and Z(q^2) to z\n",
    "    expression = re.sub(r'Z\\((\\d+)\\)', str('w'), expression)  # Z(q)\n",
    "    expression = re.sub(r'Z\\((\\d+)\\^2\\)', str('z'), expression)  # Z(q^2)\n",
    "    expression = re.sub(r'\\^', '**', expression) # Convert all occurrences of ^ to **\n",
    "    \n",
    "    return expression"
   ]
  },
  {
   "cell_type": "code",
   "execution_count": 93,
   "id": "5e20b5e6-0195-434f-8765-4c01c18984a8",
   "metadata": {},
   "outputs": [],
   "source": [
    "#just use gap.eval to do gap evaluations in sequence\n",
    "def base_change_matrix(U,q):\n",
    "    gap.eval('LoadPackage(\"forms\");')\n",
    "    U_str = str([list(row) for row in U])\n",
    "    gap.eval(f\"u := Z({q})^0*{U_str};\")\n",
    "    gap.eval(f\"form := HermitianFormByMatrix(u, GF({q}^2));\")\n",
    "    b_gap = gap.eval(\"b := BaseChangeToCanonical(form);\")\n",
    "    converted_expr = convert_to_sage_gens(b_gap, q)\n",
    "    b = matrix(F,eval(converted_expr))\n",
    "    return b"
   ]
  },
  {
   "cell_type": "code",
   "execution_count": 104,
   "id": "60611bdd-1b6a-4db6-85e4-c599655a0c5b",
   "metadata": {},
   "outputs": [
    {
     "data": {
      "text/plain": [
       "True"
      ]
     },
     "execution_count": 104,
     "metadata": {},
     "output_type": "execute_result"
    }
   ],
   "source": [
    "#verify base change for U_1\n",
    "b1 = base_change_matrix(U_1,q)\n",
    "A = b1.inverse()\n",
    "A_star = conjugate_pos_char(A).transpose()\n",
    "U_1 == A*A_star"
   ]
  },
  {
   "cell_type": "code",
   "execution_count": 105,
   "id": "256fdb2c-e343-4784-a0fd-c75744a0e265",
   "metadata": {},
   "outputs": [
    {
     "data": {
      "text/plain": [
       "True"
      ]
     },
     "execution_count": 105,
     "metadata": {},
     "output_type": "execute_result"
    }
   ],
   "source": [
    "#verify base change for U_2\n",
    "b2 = base_change_matrix(U_2,q)\n",
    "A = b2.inverse()\n",
    "A_star = conjugate_pos_char(A).transpose()\n",
    "U_2 == A*A_star"
   ]
  },
  {
   "cell_type": "code",
   "execution_count": null,
   "id": "650b0067-c268-4e79-926a-94f2957a4767",
   "metadata": {},
   "outputs": [],
   "source": []
  }
 ],
 "metadata": {
  "kernelspec": {
   "display_name": "SageMath 10.4",
   "language": "sage",
   "name": "sagemath-10.4"
  },
  "language_info": {
   "codemirror_mode": {
    "name": "ipython",
    "version": 3
   },
   "file_extension": ".py",
   "mimetype": "text/x-python",
   "name": "python",
   "nbconvert_exporter": "python",
   "pygments_lexer": "ipython3",
   "version": "3.12.4"
  }
 },
 "nbformat": 4,
 "nbformat_minor": 5
}
