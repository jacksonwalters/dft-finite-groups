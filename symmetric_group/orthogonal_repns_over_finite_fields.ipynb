{
 "cells": [
  {
   "cell_type": "code",
   "execution_count": 3,
   "id": "08033f17-1735-456d-ae3f-4d9c0c5f6eb0",
   "metadata": {},
   "outputs": [],
   "source": [
    "\"\"\"\n",
    "LINKS:\n",
    "\n",
    "- https://math.stackexchange.com/questions/4952613/is-there-a-version-of-weyls-unitary-trick-for-positive-characteristic\n",
    "- https://mathoverflow.net/questions/327823/unitary-representations-of-finite-groups-over-finite-fields\n",
    "- https://mathoverflow.net/questions/271932/formula-for-the-frobenius-schur-indicator-of-a-finite-group\n",
    "\n",
    "\"\"\";"
   ]
  },
  {
   "cell_type": "code",
   "execution_count": 1,
   "id": "970f7919-bf76-4029-a54b-061863b23d29",
   "metadata": {},
   "outputs": [],
   "source": [
    "\"\"\"\n",
    "NOTES:\n",
    "\n",
    "- to obtain unitary rep'ns of S_n over F_{q^2}, first compute the space of G-invariant symmetric bilinear forms for a given rep'n\n",
    "- for the matrix U associated to such a form, use GAP's BaseChangeToCanonical to factor U=AA^* where * denotes conjugate transpose\n",
    "- conjugation is x |--> x^q, the r^th power of Frobenius if q=p^r over F_{q^2}, an order two map\n",
    "- the unitary rep'ns are then \\tilde{\\rho}(g) = A^*\\rho(g)A^*.inverse()\n",
    "\n",
    "\"\"\";"
   ]
  },
  {
   "cell_type": "code",
   "execution_count": 1,
   "id": "c37e8e19-0cf6-4dd6-a88e-851700f72b2e",
   "metadata": {},
   "outputs": [],
   "source": [
    "q = 11"
   ]
  },
  {
   "cell_type": "code",
   "execution_count": 46,
   "id": "6aedb544-9a59-4da9-b6b3-287d10036c73",
   "metadata": {},
   "outputs": [
    {
     "data": {
      "text/plain": [
       "Specht representation of the symmetric group corresponding to [4, 2, 1, 1]"
      ]
     },
     "execution_count": 46,
     "metadata": {},
     "output_type": "execute_result"
    }
   ],
   "source": [
    "#define Specht module representation over GF(q^2)\n",
    "spc = SymmetricGroupRepresentation([4,2,1,1], \"specht\", ring=GF(q^2)); spc"
   ]
  },
  {
   "cell_type": "code",
   "execution_count": 45,
   "id": "63431deb-b570-4e60-bc22-2ddcdfc5ed0a",
   "metadata": {},
   "outputs": [
    {
     "data": {
      "text/plain": [
       "Orthogonal representation of the symmetric group corresponding to [4, 2, 1, 1]"
      ]
     },
     "execution_count": 45,
     "metadata": {},
     "output_type": "execute_result"
    }
   ],
   "source": [
    "#define the orthogonal representation over GF(q^2) for a prime power q\n",
    "orth = SymmetricGroupRepresentation([4,2,1,1], \"orthogonal\", ring=GF(q^2)); orth"
   ]
  },
  {
   "cell_type": "code",
   "execution_count": 41,
   "id": "f4ee9869-0bd5-4828-8781-d9c48d7b61f4",
   "metadata": {},
   "outputs": [
    {
     "name": "stdout",
     "output_type": "stream",
     "text": [
      "unable to coerce <class 'sage.symbolic.expression.Expression'>\n"
     ]
    }
   ],
   "source": [
    "#NOTE: rep'n matrix doesn't work due to square roots\n",
    "#throws TypeError: unable to coerce <class 'sage.symbolic.expression.Expression'>\n",
    "#FIX: changing line 662 of symmetric_group_representations.py to first convert the element to self._ring before passing it\n",
    "try:\n",
    "    orth.representation_matrix_for_simple_transposition(2)\n",
    "except TypeError as e:\n",
    "    print(e)"
   ]
  },
  {
   "cell_type": "code",
   "execution_count": 7,
   "id": "cd85b08a-0a28-406e-9f88-605389567cd8",
   "metadata": {},
   "outputs": [],
   "source": [
    "#define a new representation_matrix_for_simple_transposition with the fix beta --> self._ring\n",
    "def new_representation_matrix_for_simple_transposition(orth,i):\n",
    "        from copy import copy\n",
    "        if not (1 <= i < sum(orth._partition)):\n",
    "            raise TypeError\n",
    "        Y = orth._yang_baxter_graph\n",
    "        index_lookup = {b: a for a, b in enumerate(list(Y))}\n",
    "        digraph = copy(Y._digraph)\n",
    "        digraph.delete_edges((u, v) for (u, v, (j, beta)) in digraph.edges(sort=True)\n",
    "                             if j != i)\n",
    "        M = matrix(orth._ring, digraph.num_verts())\n",
    "        for g in digraph.connected_components_subgraphs():\n",
    "            if g.num_verts() == 1:\n",
    "                [v] = g.vertices(sort=True)\n",
    "                w = orth._word_dict[v]\n",
    "                trivial = None\n",
    "                for j, a in enumerate(w):\n",
    "                    if a == i and w[j + 1] == i + 1:\n",
    "                        trivial = True\n",
    "                        break\n",
    "                    elif a == i + 1:\n",
    "                        trivial = False\n",
    "                        break\n",
    "                j = index_lookup[v]\n",
    "                M[j, j] = 1 if trivial is True else -1\n",
    "            else:\n",
    "                [(u, v, (j, beta))] = g.edges(sort=True)\n",
    "                iu = index_lookup[u]\n",
    "                iv = index_lookup[v]\n",
    "                M[iu, iu], M[iu, iv], M[iv, iu], M[iv, iv] = \\\n",
    "                    orth._2x2_matrix_entries(orth._ring(beta))\n",
    "        return M"
   ]
  },
  {
   "cell_type": "code",
   "execution_count": 8,
   "id": "f8e8490e-9212-414a-ae0d-aaf5a9bc08ed",
   "metadata": {},
   "outputs": [
    {
     "data": {
      "text/plain": [
       "[       3 6*z2 + 4        0        0]\n",
       "[6*z2 + 4        4        0        0]\n",
       "[       0        0        6        0]\n",
       "[       0        0        0        6]"
      ]
     },
     "execution_count": 8,
     "metadata": {},
     "output_type": "execute_result"
    }
   ],
   "source": [
    "#compute the new representation matrix with the fix\n",
    "new_representation_matrix_for_simple_transposition(orth,2)"
   ]
  },
  {
   "cell_type": "code",
   "execution_count": 9,
   "id": "1b862289-a5d3-4098-a9f8-adb6eebd6b78",
   "metadata": {},
   "outputs": [],
   "source": [
    "#define representation_matrix_uncached now using new_representation_matrix_for_simple_transposition\n",
    "def new_representation_matrix_uncached(orth, permutation):\n",
    "    m = orth._yang_baxter_graph._digraph.num_verts()\n",
    "    M = matrix(orth._ring, m, m, 1)\n",
    "    for i in Permutation(permutation).reduced_word():\n",
    "        M *= new_representation_matrix_for_simple_transposition(orth,i)\n",
    "    return M"
   ]
  },
  {
   "cell_type": "code",
   "execution_count": 10,
   "id": "16910afc-c035-408e-8a09-52b34ebc3e98",
   "metadata": {},
   "outputs": [
    {
     "data": {
      "text/plain": [
       "[     4 z2 + 3      0      0]\n",
       "[z2 + 3      3      0      0]\n",
       "[     0      0      2      5]\n",
       "[     0      0      5      5]"
      ]
     },
     "execution_count": 10,
     "metadata": {},
     "output_type": "execute_result"
    }
   ],
   "source": [
    "#instantiate an orthogonal matrix over the finite field GF(q^2)\n",
    "M_orth = new_representation_matrix_uncached(orth,[1,3,2,5,4]); M_orth"
   ]
  },
  {
   "cell_type": "code",
   "execution_count": 11,
   "id": "c7adef56-2271-41e5-bff7-5bd69f50e4ec",
   "metadata": {},
   "outputs": [
    {
     "data": {
      "text/plain": [
       "True"
      ]
     },
     "execution_count": 11,
     "metadata": {},
     "output_type": "execute_result"
    }
   ],
   "source": [
    "#check that the resulting matrix is orthogonal\n",
    "M_orth*M_orth.transpose() == identity_matrix(M_orth.nrows())"
   ]
  },
  {
   "cell_type": "code",
   "execution_count": 12,
   "id": "5b599505-ab31-44fc-8f29-96bf13ce78d4",
   "metadata": {},
   "outputs": [
    {
     "data": {
      "text/plain": [
       "5"
      ]
     },
     "execution_count": 12,
     "metadata": {},
     "output_type": "execute_result"
    }
   ],
   "source": [
    "sum(orth._partition)"
   ]
  },
  {
   "cell_type": "code",
   "execution_count": 13,
   "id": "b147ad64-a8d8-4812-821f-8966ce614bf3",
   "metadata": {},
   "outputs": [],
   "source": [
    "#define conjugation as x |--> x**q, an order two automorphism of F_q^2. note x**q == x for x \\in F_q.\n",
    "def conjugate_pos_char(A):\n",
    "    assert A.nrows() == A.ncols()\n",
    "    field_size = A.base_ring().order()\n",
    "    q = sqrt(field_size) if field_size.is_square() else field_size\n",
    "    return matrix(GF(q**2),[[A[i][j]**q for i in range(A.nrows())] for j in range(A.nrows())])"
   ]
  },
  {
   "cell_type": "code",
   "execution_count": 14,
   "id": "4b4a806a-3eed-42f2-a971-fce36954629f",
   "metadata": {},
   "outputs": [
    {
     "data": {
      "text/plain": [
       "False"
      ]
     },
     "execution_count": 14,
     "metadata": {},
     "output_type": "execute_result"
    }
   ],
   "source": [
    "#check if the matrix is unitary with respect to the form <x,y> = \\sum_i x_i*y_i**q\n",
    "M_orth*conjugate_pos_char(M_orth).transpose() == identity_matrix(M_orth.nrows())"
   ]
  },
  {
   "cell_type": "code",
   "execution_count": 15,
   "id": "a2528fa7-28b5-4970-937f-ba8eaa180ce9",
   "metadata": {},
   "outputs": [
    {
     "data": {
      "text/plain": [
       "[       3 6*z2 + 4        0        0]\n",
       "[  z2 + 3        3        0        0]\n",
       "[       0        0        1        0]\n",
       "[       0        0        0        1]"
      ]
     },
     "execution_count": 15,
     "metadata": {},
     "output_type": "execute_result"
    }
   ],
   "source": [
    "M_orth*conjugate_pos_char(M_orth).transpose()"
   ]
  },
  {
   "cell_type": "code",
   "execution_count": 16,
   "id": "0add3925-1226-4102-b817-a47851d68efb",
   "metadata": {},
   "outputs": [],
   "source": [
    "#NOTE: the matrix cannot be both orthogonal and unitary if the conjugation map x |--> x**q does not fix every element over extensions"
   ]
  },
  {
   "cell_type": "code",
   "execution_count": 31,
   "id": "42aed745-a346-466a-93d1-5ea0076f0612",
   "metadata": {},
   "outputs": [],
   "source": [
    "#group permutations by cycle type\n",
    "def conj_classes(n):\n",
    "    G = SymmetricGroup(n)\n",
    "    P_n = Partitions(n)\n",
    "    C = P_n.cardinality()\n",
    "    indices = {lam: C - 1 - i for i, lam in enumerate(P_n)}\n",
    "    cycles = {}\n",
    "    for g in G:\n",
    "        ind = indices[g.cycle_type()]\n",
    "        if ind in cycles:\n",
    "            cycles[ind].append(g)\n",
    "        else:\n",
    "            cycles[ind] = [g]\n",
    "    return cycles"
   ]
  },
  {
   "cell_type": "code",
   "execution_count": 50,
   "id": "a61399b6-c7c2-4f6f-9eac-b54c8780ed49",
   "metadata": {},
   "outputs": [],
   "source": [
    "#twisted Brauer character by automorphism \\sigma: x |--> x^q\n",
    "#Brauer character is eigenvalues of \\rho(g) mapped to roots of unity in \\C under bijection and summed\n",
    "#define a rep'n \\rho twisted by a field automorphism \\sigma by applying \\sigma to each matrix entry\n",
    "#this gives another representation (check this). can then compute sum of eigenvalues to get twisted character\n",
    "def twisted_brauer_character(repn,rep_type=\"orth\"):\n",
    "    la = repn._partition\n",
    "    n = sum(la)\n",
    "    character_values = []\n",
    "    for i, cycles in conj_classes(n).items():\n",
    "        conj_class_rep = cycles[0]\n",
    "        #compute eigenvalues of \\rho(g) over F_q, map to |C and sum\n",
    "        if rep_type == \"orth\":\n",
    "            rho_g = new_representation_matrix_uncached(repn,conj_class_rep)\n",
    "        if rep_type == \"specht\":\n",
    "            rho_g = repn.representation_matrix(Permutation(conj_class_rep))\n",
    "        splitting_field.<a> = rho_g.charpoly().splitting_field()\n",
    "        field_size = splitting_field.order()\n",
    "        rho_g_conj_extend = matrix(splitting_field,conjugate_pos_char(rho_g))\n",
    "        eigs_w_mult = [(pair[0],len(pair[1])) for pair in rho_g_conj_extend.eigenvectors_right()]\n",
    "        #use .log(a) for F.<a> = GF(q^s) to get power k. then map to exp(2*pi*i*k/(q^s-1).\n",
    "        to_roots_of_unity = [pair[1]*exp(2*pi*I*pair[0].log(a)/(field_size-1)) for pair in eigs_w_mult]\n",
    "        char_value = sum(to_roots_of_unity).full_simplify()\n",
    "        character_values.append(char_value)\n",
    "    return character_values"
   ]
  },
  {
   "cell_type": "code",
   "execution_count": 51,
   "id": "e854e7b0-6f8e-4960-abce-bb345563781b",
   "metadata": {},
   "outputs": [
    {
     "data": {
      "text/plain": [
       "[90,\n",
       " 0,\n",
       " 0,\n",
       " 2,\n",
       " -6,\n",
       " -26*cos(3/7*pi) + 26*cos(2/7*pi) - 26*cos(1/7*pi) + 12,\n",
       " 0,\n",
       " 0,\n",
       " 0,\n",
       " 0,\n",
       " 0,\n",
       " 0,\n",
       " 0,\n",
       " 0,\n",
       " -6,\n",
       " 0,\n",
       " 0,\n",
       " 2,\n",
       " 0,\n",
       " 0,\n",
       " 0,\n",
       " 0]"
      ]
     },
     "execution_count": 51,
     "metadata": {},
     "output_type": "execute_result"
    }
   ],
   "source": [
    "#need to enumerate conjugacy classes to match standard Brauer character\n",
    "twisted_brauer_character(orth,rep_type=\"orth\")"
   ]
  },
  {
   "cell_type": "code",
   "execution_count": 48,
   "id": "8f18529a-661a-44d5-b005-5b593a1b610c",
   "metadata": {},
   "outputs": [
    {
     "data": {
      "text/plain": [
       "(90, 0, -6, 0, -6, 0, 0, 0, 0, 0, 0, 2, 0, 0, 2, 0, 0, 0, 0, 0, -1, 0)"
      ]
     },
     "execution_count": 48,
     "metadata": {},
     "output_type": "execute_result"
    }
   ],
   "source": [
    "#compute the Brauer character directly\n",
    "la = orth._partition\n",
    "n = sum(la)\n",
    "base_ring = orth._ring.base_ring()\n",
    "SGA = SymmetricGroupAlgebra(base_ring, n)\n",
    "brauer_character = SGA.simple_module(la).brauer_character(); brauer_character"
   ]
  },
  {
   "cell_type": "code",
   "execution_count": 21,
   "id": "96ab256a-f8f8-4060-a327-aff6dc04b04c",
   "metadata": {},
   "outputs": [
    {
     "data": {
      "text/plain": [
       "[ 1 -1  1  1 -1 -1  1]\n",
       "[ 4 -2  0  1  1  0 -1]\n",
       "[ 5 -1  1 -1 -1  1  0]\n",
       "[ 6  0 -2  0  0  0  1]\n",
       "[ 5  1  1 -1  1 -1  0]\n",
       "[ 4  2  0  1 -1  0 -1]\n",
       "[ 1  1  1  1  1  1  1]"
      ]
     },
     "execution_count": 21,
     "metadata": {},
     "output_type": "execute_result"
    }
   ],
   "source": [
    "SymmetricGroup(n).character_table()"
   ]
  },
  {
   "cell_type": "code",
   "execution_count": 22,
   "id": "0f2f57c5-b274-454e-8c59-b37b7d26d601",
   "metadata": {},
   "outputs": [
    {
     "data": {
      "text/plain": [
       "(1,5,4,3,2)"
      ]
     },
     "execution_count": 22,
     "metadata": {},
     "output_type": "execute_result"
    }
   ],
   "source": [
    "conj_class_rep = conj_classes(n)[6][0]; conj_class_rep"
   ]
  },
  {
   "cell_type": "code",
   "execution_count": 23,
   "id": "e1782822-1155-4f6c-8195-430dca3ba70c",
   "metadata": {},
   "outputs": [
    {
     "data": {
      "text/plain": [
       "[       3   z2 + 3        0        0]\n",
       "[2*z2 + 6        1        5        0]\n",
       "[4*z2 + 5        2        4        5]\n",
       "[3*z2 + 2        5        3        5]"
      ]
     },
     "execution_count": 23,
     "metadata": {},
     "output_type": "execute_result"
    }
   ],
   "source": [
    "M_orth = new_representation_matrix_uncached(orth,conj_class_rep); M_orth"
   ]
  },
  {
   "cell_type": "code",
   "execution_count": 24,
   "id": "3afbadf2-cf9c-4673-a65d-a730c19f4857",
   "metadata": {},
   "outputs": [
    {
     "data": {
      "text/plain": [
       "Finite Field in a of size 7^4"
      ]
     },
     "execution_count": 24,
     "metadata": {},
     "output_type": "execute_result"
    }
   ],
   "source": [
    "splitting_field.<a> = M_orth.charpoly().splitting_field(); splitting_field"
   ]
  },
  {
   "cell_type": "code",
   "execution_count": 25,
   "id": "0febda20-4f6a-43b1-bde8-38e92bd9e0d0",
   "metadata": {},
   "outputs": [
    {
     "data": {
      "text/plain": [
       "2401"
      ]
     },
     "execution_count": 25,
     "metadata": {},
     "output_type": "execute_result"
    }
   ],
   "source": [
    "splitting_field.order()"
   ]
  },
  {
   "cell_type": "code",
   "execution_count": 26,
   "id": "8035ef51-3a12-45db-9b99-61110fd67a11",
   "metadata": {},
   "outputs": [
    {
     "data": {
      "text/plain": [
       "[480, 1920, 1440, 960]"
      ]
     },
     "execution_count": 26,
     "metadata": {},
     "output_type": "execute_result"
    }
   ],
   "source": [
    "d, L = matrix(splitting_field,M_orth).diagonalization(); [eig.log(a) for eig in d.diagonal()]"
   ]
  },
  {
   "cell_type": "code",
   "execution_count": 27,
   "id": "2bca0396-c195-479e-a9f5-10d7c0e51a07",
   "metadata": {},
   "outputs": [
    {
     "data": {
      "text/plain": [
       "(4*a^2 + 2*a + 1,\n",
       " [\n",
       " (1, a^3 + 4*a^2, 2*a^3 + 6*a^2 + 3*a + 6, 4*a^3 + 4*a^2 + 6*a + 2)\n",
       " ],\n",
       " 1)"
      ]
     },
     "execution_count": 27,
     "metadata": {},
     "output_type": "execute_result"
    }
   ],
   "source": [
    "matrix(splitting_field,M_orth).eigenvectors_right()[0]"
   ]
  },
  {
   "cell_type": "code",
   "execution_count": 28,
   "id": "7bf93e4f-c32c-45d7-b579-d55b0f993942",
   "metadata": {},
   "outputs": [
    {
     "data": {
      "text/plain": [
       "[       3 5*z2 + 1 3*z2 + 2 4*z2 + 5]\n",
       "[6*z2 + 4        1        2        5]\n",
       "[       0        5        4        3]\n",
       "[       0        0        5        5]"
      ]
     },
     "execution_count": 28,
     "metadata": {},
     "output_type": "execute_result"
    }
   ],
   "source": [
    "conjugate_pos_char(M_orth)"
   ]
  }
 ],
 "metadata": {
  "kernelspec": {
   "display_name": "SageMath 10.4",
   "language": "sage",
   "name": "sagemath-10.4"
  },
  "language_info": {
   "codemirror_mode": {
    "name": "ipython",
    "version": 3
   },
   "file_extension": ".py",
   "mimetype": "text/x-python",
   "name": "python",
   "nbconvert_exporter": "python",
   "pygments_lexer": "ipython3",
   "version": "3.12.4"
  }
 },
 "nbformat": 4,
 "nbformat_minor": 5
}
