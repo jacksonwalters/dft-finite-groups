{
 "cells": [
  {
   "cell_type": "code",
   "execution_count": 9,
   "id": "f7cf96ca-6fd2-4c08-8803-ae46a9f57d45",
   "metadata": {},
   "outputs": [],
   "source": [
    "#for u in GF(q), we can factor as u=aa^* using gen. z and modular arithmetic\n",
    "def conj_square_root(u):\n",
    "    if u == 0:\n",
    "        return 0  # Special case for 0\n",
    "    z = F.multiplicative_generator()\n",
    "    k = u.log(z)  # Compute discrete log of u to the base z\n",
    "    if k % (q+1) != 0:\n",
    "        raise ValueError(\"Unable to factor: u is not in base field GF(q)\")\n",
    "    return z**(k//(q+1))"
   ]
  },
  {
   "cell_type": "code",
   "execution_count": 10,
   "id": "bf0ad78b-97a4-472a-94ea-a58637dccf9b",
   "metadata": {},
   "outputs": [],
   "source": [
    "def base_change_hermitian(U):\n",
    "    Up = U.LU()[2]\n",
    "    D = Up.diagonal()\n",
    "    A = ~Up * matrix.diagonal([d.sqrt() for d in D])\n",
    "    diag = (A.H * U * A).diagonal()\n",
    "    factor_diag = diagonal_matrix([conj_square_root(d) for d in diag])\n",
    "    return (factor_diag*A.inverse()).H"
   ]
  },
  {
   "cell_type": "code",
   "execution_count": 11,
   "id": "b8567b4c-c6f9-4210-94ce-a2ec0626b37c",
   "metadata": {},
   "outputs": [],
   "source": [
    "#use libgap.eval for GAP evalutation of BaseChangeToCanonical using `forms` package\n",
    "from sage.libs.gap.libgap import libgap\n",
    "def base_change_hermitian_gap_forms(U,q):\n",
    "    if U.nrows() == 1 and U.ncols() == 1:\n",
    "        return matrix(F,[[factor_scalar(U[0,0])]])\n",
    "    loaded_forms = libgap.LoadPackage(\"forms\")\n",
    "    return matrix(F,libgap.BaseChangeToCanonical(libgap([list(row) for row in U]).HermitianFormByMatrix(F))).inverse()"
   ]
  },
  {
   "cell_type": "code",
   "execution_count": 12,
   "id": "1acfa46e-baa0-476a-bb3f-717d3d4d5e7b",
   "metadata": {},
   "outputs": [],
   "source": [
    "def base_change_hermitian_gap_source(mat):\n",
    "    \"\"\"\n",
    "    Diagonalizes a Hermitian matrix over a finite field.\n",
    "    Returns the base change matrix and the rank of the Hermitian form.\n",
    "    \n",
    "    Arguments:\n",
    "        mat: The Gram matrix of a Hermitian form (Sage matrix object)\n",
    "        F: The finite field (GF(q))\n",
    "    \n",
    "    Returns:\n",
    "        D: The base change matrix\n",
    "        r: The number of non-zero rows in D*mat*D^T\n",
    "    \"\"\"\n",
    "\n",
    "    F = mat.base_ring()\n",
    "    n = mat.nrows()\n",
    "    q = sqrt(F.order())\n",
    "\n",
    "    if mat.nrows() == 1 and mat.ncols() == 1:\n",
    "        return matrix(F,[conj_square_root(mat[0][0])])\n",
    "\n",
    "    A = copy(mat)\n",
    "    D = identity_matrix(F, n)\n",
    "    row = 0\n",
    "\n",
    "    # Diagonalize A\n",
    "    while True:\n",
    "        row += 1\n",
    "\n",
    "        # Look for a non-zero element on the main diagonal, starting from `row`\n",
    "        i = row - 1  # Adjust for zero-based indexing in Sage\n",
    "        while i < n and A[i, i].is_zero():\n",
    "            i += 1\n",
    "\n",
    "        if i == row - 1:\n",
    "            # Do nothing since A[row, row] != 0\n",
    "            pass\n",
    "        elif i < n:\n",
    "            # Swap to ensure A[row, row] != 0\n",
    "            A.swap_rows(row - 1, i)\n",
    "            A.swap_columns(row - 1, i)\n",
    "            D.swap_rows(row - 1, i)\n",
    "        else:\n",
    "            # All entries on the main diagonal are zero; look for an off-diagonal element\n",
    "            i = row - 1\n",
    "            while i < n - 1:\n",
    "                k = i + 1\n",
    "                while k < n and A[i, k].is_zero():\n",
    "                    k += 1\n",
    "                if k == n:\n",
    "                    i += 1\n",
    "                else:\n",
    "                    break\n",
    "\n",
    "            if i == n - 1:\n",
    "                # All elements are zero; terminate\n",
    "                row -= 1\n",
    "                r = row\n",
    "                break\n",
    "\n",
    "            # Fetch the non-zero element and place it at A[row, row + 1]\n",
    "            if i != row - 1:\n",
    "                A.swap_rows(row - 1, i)\n",
    "                A.swap_columns(row - 1, i)\n",
    "                D.swap_rows(row - 1, i)\n",
    "\n",
    "            A.swap_rows(row, k)\n",
    "            A.swap_columns(row, k)\n",
    "            D.swap_rows(row, k)\n",
    "\n",
    "            b = A[row, row - 1]**(-1)\n",
    "            A.add_multiple_of_column(row - 1, row, b**q)\n",
    "            A.add_multiple_of_row(row - 1, row, b)\n",
    "            D.add_multiple_of_row(row - 1, row, b)\n",
    "\n",
    "        # Eliminate below-diagonal entries in the current column\n",
    "        a = -A[row - 1, row - 1]**(-1)\n",
    "        for i in range(row, n):\n",
    "            b = A[i, row - 1] * a\n",
    "            if not b.is_zero():\n",
    "                A.add_multiple_of_column(i,row - 1, b**q)\n",
    "                A.add_multiple_of_row(i, row - 1, b)\n",
    "                D.add_multiple_of_row(i, row - 1, b)\n",
    "\n",
    "        if row == n - 1:\n",
    "            break\n",
    "\n",
    "    # Count how many variables have been used\n",
    "    if row == n - 1:\n",
    "        if not A[n - 1, n - 1].is_zero():\n",
    "            r = n\n",
    "        else:\n",
    "            r = n - 1\n",
    "\n",
    "    # Normalize diagonal elements to 1\n",
    "    for i in range(r):\n",
    "        a = A[i, i]\n",
    "        if not a.is_one():\n",
    "            # Find an element `b` such that `b*b^t = b^(t+1) = a`\n",
    "            b = conj_square_root(a)\n",
    "            D.rescale_row(i, 1 / b)\n",
    "\n",
    "    return D.inverse()"
   ]
  },
  {
   "cell_type": "code",
   "execution_count": 13,
   "id": "c239c78d-65d0-42d9-8e6b-080c2af4f3c3",
   "metadata": {},
   "outputs": [],
   "source": [
    "q = 11\n",
    "F = GF(q**2)\n",
    "U=matrix(F,[[1,4,7],[4,1,4],[7,4,1]])\n",
    "#U=matrix(F,[[1, 5, 2, 5, 2, 0],[5, 1, 5, 5, 0, 2],[2, 5, 1, 0, 5, 2],[5, 5, 0, 1, 5, 5],[2, 0, 5, 5, 1, 5],[0, 2, 2, 5, 5, 1]])"
   ]
  },
  {
   "cell_type": "code",
   "execution_count": 14,
   "id": "9fcf268a-648a-48a6-a817-bbad92ede43e",
   "metadata": {},
   "outputs": [
    {
     "name": "stdout",
     "output_type": "stream",
     "text": [
      "True\n",
      "[   1    0    0]\n",
      "[   4 8*z2    0]\n",
      "[   7 4*z2 2*z2]\n"
     ]
    }
   ],
   "source": [
    "#use the upper part of the LU decomposition, and factor the diagonal\n",
    "B = base_change_hermitian(U)\n",
    "print(B*B.H == U)\n",
    "print(B)"
   ]
  },
  {
   "cell_type": "code",
   "execution_count": 15,
   "id": "1919d5f8-29c3-44a7-b813-aef783fc6294",
   "metadata": {},
   "outputs": [
    {
     "name": "stdout",
     "output_type": "stream",
     "text": [
      "True\n",
      "[        1         0         0]\n",
      "[        4  9*z2 + 2         0]\n",
      "[        7 10*z2 + 1  3*z2 + 3]\n"
     ]
    }
   ],
   "source": [
    "#compute the matrix factorization using libgap and the GAP `forms` package\n",
    "B = base_change_hermitian_gap_forms(U,q)\n",
    "print(B*B.H == U)\n",
    "print(B)"
   ]
  },
  {
   "cell_type": "code",
   "execution_count": 16,
   "id": "5da34372-bd67-4b81-8be0-c2c98e3bf9b7",
   "metadata": {},
   "outputs": [
    {
     "name": "stdout",
     "output_type": "stream",
     "text": [
      "True\n",
      "[        1         0         0]\n",
      "[        4  9*z2 + 2         0]\n",
      "[        7 10*z2 + 1  3*z2 + 3]\n"
     ]
    }
   ],
   "source": [
    "#compute the matrix factorization using a direct translation of the GAP code into Sage\n",
    "B = base_change_hermitian_gap_source(U)\n",
    "print(B*B.H == U)\n",
    "print(B)"
   ]
  },
  {
   "cell_type": "code",
   "execution_count": 17,
   "id": "dfc1eaac-5142-4028-89bd-0f56b24c64e8",
   "metadata": {},
   "outputs": [],
   "source": [
    "#counterexample for d_rho=3, q=3 by brute force\n",
    "q = 3\n",
    "F = GF(3**2)\n",
    "U = matrix(F,[[0, 1, 2], [1, 0, 1], [2, 1, 0]])"
   ]
  },
  {
   "cell_type": "code",
   "execution_count": 18,
   "id": "bb172ffd-2c75-4285-9b4d-c7511737115e",
   "metadata": {},
   "outputs": [
    {
     "name": "stdout",
     "output_type": "stream",
     "text": [
      "Error, row index 2 exceeds 1, the number of rows\n"
     ]
    }
   ],
   "source": [
    "#minimal code throwing error for 1x1 case for BaseChangeToCanonical\n",
    "from sage.libs.gap.element import GAPError\n",
    "try:\n",
    "    libgap.LoadPackage(\"forms\")\n",
    "    libgap.BaseChangeToCanonical(libgap(matrix(GF(q**2),[[1]])).HermitianFormByMatrix(GF(q**2)))\n",
    "except GAPError as e:\n",
    "    print(e)"
   ]
  },
  {
   "cell_type": "code",
   "execution_count": 19,
   "id": "527f7f8d-4981-4d7c-bc25-ecdf2f48122b",
   "metadata": {},
   "outputs": [],
   "source": [
    "# Generate all possible 3x3 upper triangular matrices (diagonal included) over F_9\n",
    "# check if A*A.H == U\n",
    "import itertools\n",
    "def counterexample_check():\n",
    "    A = matrix(F,3)\n",
    "    num_iters = 0\n",
    "    for combination in itertools.product(F, repeat=6):\n",
    "        # Unpack the combination into the matrix entries\n",
    "        a, b, c, d, e, f = combination\n",
    "        \n",
    "        # Construct the upper triangular matrix\n",
    "        A = matrix(F,[\n",
    "            [a, b, c],\n",
    "            [0, d, e],\n",
    "            [0, 0, f]\n",
    "        ])\n",
    "        if num_iters % 10_000 == 0:\n",
    "            print(f\"{round(100*num_iters/9**6,2)}%\")\n",
    "        \n",
    "        if A*A.H == U:\n",
    "            print(\"found a decomposition U = AA^*: \",A)\n",
    "        num_iters += 1"
   ]
  },
  {
   "cell_type": "code",
   "execution_count": 20,
   "id": "bea4af84-1065-4220-a1f1-f11348bf6a2b",
   "metadata": {},
   "outputs": [
    {
     "name": "stdout",
     "output_type": "stream",
     "text": [
      "False\n",
      "[ 0  0  0]\n",
      "[ 0  0  0]\n",
      "[ 0  0 z2]\n"
     ]
    }
   ],
   "source": [
    "#note we get a clear failure to factorize here and it's because a factorization does not exist\n",
    "A_1 = base_change_hermitian(U)\n",
    "print(A_1*A_1.H == U)\n",
    "print(A_1)"
   ]
  },
  {
   "cell_type": "code",
   "execution_count": 21,
   "id": "9612fb6c-4806-443a-8096-9f78d837ac1a",
   "metadata": {},
   "outputs": [
    {
     "name": "stdout",
     "output_type": "stream",
     "text": [
      "True\n",
      "[2*z2    2    0]\n",
      "[2*z2    1    0]\n",
      "[   0    1   z2]\n"
     ]
    }
   ],
   "source": [
    "A_2 = base_change_hermitian_gap_source(U)\n",
    "print(A_2*A_2.H == U)\n",
    "print(A_2)"
   ]
  },
  {
   "cell_type": "code",
   "execution_count": 22,
   "id": "dc5a5397-eaf9-4bcc-a3bb-03a500186118",
   "metadata": {},
   "outputs": [
    {
     "name": "stdout",
     "output_type": "stream",
     "text": [
      "True\n",
      "[2*z2 + 1 2*z2 + 2        0]\n",
      "[       1       z2        0]\n",
      "[    2*z2   z2 + 2       z2]\n"
     ]
    }
   ],
   "source": [
    "A_3 = base_change_hermitian_gap_forms(U,q)\n",
    "print(A_3*A_3.H == U)\n",
    "print(A_3)"
   ]
  },
  {
   "cell_type": "code",
   "execution_count": null,
   "id": "083667db-ff8e-4d46-b9ec-bc53d04d0374",
   "metadata": {},
   "outputs": [],
   "source": []
  }
 ],
 "metadata": {
  "kernelspec": {
   "display_name": "SageMath 10.5",
   "language": "sage",
   "name": "sagemath-10.5"
  },
  "language_info": {
   "codemirror_mode": {
    "name": "ipython",
    "version": 3
   },
   "file_extension": ".py",
   "mimetype": "text/x-python",
   "name": "python",
   "nbconvert_exporter": "python",
   "pygments_lexer": "ipython3",
   "version": "3.12.5"
  }
 },
 "nbformat": 4,
 "nbformat_minor": 5
}
