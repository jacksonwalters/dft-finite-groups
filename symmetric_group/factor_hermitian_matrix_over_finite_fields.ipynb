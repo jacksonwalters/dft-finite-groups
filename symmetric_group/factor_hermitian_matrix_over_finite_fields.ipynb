{
 "cells": [
  {
   "cell_type": "code",
   "execution_count": 5,
   "id": "f7cf96ca-6fd2-4c08-8803-ae46a9f57d45",
   "metadata": {},
   "outputs": [],
   "source": [
    "#for u in GF(q), we can factor as u=aa^* using gen. z and modular arithmetic\n",
    "def conj_square_root(u):\n",
    "    if u == 0:\n",
    "        return 0  # Special case for 0\n",
    "    z = F.multiplicative_generator()\n",
    "    k = u.log(z)  # Compute discrete log of u to the base z\n",
    "    if k % (q+1) != 0:\n",
    "        raise ValueError(\"Unable to factor: u is not in base field GF(q)\")\n",
    "    return z**((k//(q+1))%(q-1))"
   ]
  },
  {
   "cell_type": "code",
   "execution_count": 6,
   "id": "bf0ad78b-97a4-472a-94ea-a58637dccf9b",
   "metadata": {},
   "outputs": [],
   "source": [
    "def base_change_hermitian(U):\n",
    "    Up = U.LU()[2]\n",
    "    D = Up.diagonal()\n",
    "    A = ~Up * matrix.diagonal([d.sqrt() for d in D])\n",
    "    diag = (A.H * U * A).diagonal()\n",
    "    factor_diag = diagonal_matrix([conj_square_root(d) for d in diag])\n",
    "    return (factor_diag*A.inverse()).H"
   ]
  },
  {
   "cell_type": "code",
   "execution_count": 7,
   "id": "b8567b4c-c6f9-4210-94ce-a2ec0626b37c",
   "metadata": {},
   "outputs": [],
   "source": [
    "#use libgap.eval for GAP evalutation of BaseChangeToCanonical using `forms` package\n",
    "from sage.libs.gap.libgap import libgap\n",
    "def base_change_hermitian_gap_forms(U,q):\n",
    "    if U.nrows() == 1 and U.ncols() == 1:\n",
    "        return matrix(F,[[factor_scalar(U[0,0])]])\n",
    "    loaded_forms = libgap.LoadPackage(\"forms\")\n",
    "    return matrix(F,libgap.BaseChangeToCanonical(libgap([list(row) for row in U]).HermitianFormByMatrix(F))).inverse()"
   ]
  },
  {
   "cell_type": "code",
   "execution_count": 8,
   "id": "86df922e-1f9a-4d74-8aba-32b639d3626e",
   "metadata": {},
   "outputs": [
    {
     "name": "stdout",
     "output_type": "stream",
     "text": [
      "#I  forms package is not available. Check that the name is correct\n",
      "#I  and it is present in one of the GAP root directories (see '??RootPaths')\n"
     ]
    },
    {
     "ename": "AttributeError",
     "evalue": "No such attribute: BaseChangeToCanonical.",
     "output_type": "error",
     "traceback": [
      "\u001b[0;31m---------------------------------------------------------------------------\u001b[0m",
      "\u001b[0;31mGAPError\u001b[0m                                  Traceback (most recent call last)",
      "File \u001b[0;32m/private/var/tmp/sage-10.5-current/local/var/lib/sage/venv-python3.12.5/lib/python3.12/site-packages/sage/libs/gap/libgap.pyx:684\u001b[0m, in \u001b[0;36msage.libs.gap.libgap.Gap.__getattr__ (build/cythonized/sage/libs/gap/libgap.c:11072)\u001b[0;34m()\u001b[0m\n\u001b[1;32m    683\u001b[0m try:\n\u001b[0;32m--> 684\u001b[0m     g = self.eval(name)\n\u001b[1;32m    685\u001b[0m except ValueError:\n",
      "File \u001b[0;32m/private/var/tmp/sage-10.5-current/local/var/lib/sage/venv-python3.12.5/lib/python3.12/site-packages/sage/libs/gap/libgap.pyx:399\u001b[0m, in \u001b[0;36msage.libs.gap.libgap.Gap.eval (build/cythonized/sage/libs/gap/libgap.c:7714)\u001b[0;34m()\u001b[0m\n\u001b[1;32m    398\u001b[0m initialize()\n\u001b[0;32m--> 399\u001b[0m elem = make_any_gap_element(self, gap_eval(gap_command))\n\u001b[1;32m    400\u001b[0m \n",
      "File \u001b[0;32m/private/var/tmp/sage-10.5-current/local/var/lib/sage/venv-python3.12.5/lib/python3.12/site-packages/sage/libs/gap/util.pyx:362\u001b[0m, in \u001b[0;36msage.libs.gap.util.gap_eval (build/cythonized/sage/libs/gap/util.c:8239)\u001b[0;34m()\u001b[0m\n\u001b[1;32m    361\u001b[0m GAP_Enter()\n\u001b[0;32m--> 362\u001b[0m result = GAP_EvalString(cmd)\n\u001b[1;32m    363\u001b[0m # We can assume that the result object is a GAP PList (plain list)\n",
      "\u001b[0;31mGAPError\u001b[0m: Error, Variable: 'BaseChangeToCanonical' must have a value",
      "\nDuring handling of the above exception, another exception occurred:\n",
      "\u001b[0;31mAttributeError\u001b[0m                            Traceback (most recent call last)",
      "Cell \u001b[0;32mIn[8], line 5\u001b[0m\n\u001b[1;32m      3\u001b[0m \u001b[38;5;28;01mtry\u001b[39;00m:\n\u001b[1;32m      4\u001b[0m     libgap\u001b[38;5;241m.\u001b[39mLoadPackage(\u001b[38;5;124m\"\u001b[39m\u001b[38;5;124mforms\u001b[39m\u001b[38;5;124m\"\u001b[39m)\n\u001b[0;32m----> 5\u001b[0m     \u001b[43mlibgap\u001b[49m\u001b[38;5;241;43m.\u001b[39;49m\u001b[43mBaseChangeToCanonical\u001b[49m(libgap(matrix(GF(q\u001b[38;5;241m*\u001b[39m\u001b[38;5;241m*\u001b[39mInteger(\u001b[38;5;241m2\u001b[39m)),[[Integer(\u001b[38;5;241m1\u001b[39m)]]))\u001b[38;5;241m.\u001b[39mHermitianFormByMatrix(GF(q\u001b[38;5;241m*\u001b[39m\u001b[38;5;241m*\u001b[39mInteger(\u001b[38;5;241m2\u001b[39m))))\n\u001b[1;32m      6\u001b[0m \u001b[38;5;28;01mexcept\u001b[39;00m GAPError \u001b[38;5;28;01mas\u001b[39;00m e:\n\u001b[1;32m      7\u001b[0m     \u001b[38;5;28mprint\u001b[39m(e)\n",
      "File \u001b[0;32m/private/var/tmp/sage-10.5-current/local/var/lib/sage/venv-python3.12.5/lib/python3.12/site-packages/sage/libs/gap/libgap.pyx:686\u001b[0m, in \u001b[0;36msage.libs.gap.libgap.Gap.__getattr__ (build/cythonized/sage/libs/gap/libgap.c:11145)\u001b[0;34m()\u001b[0m\n\u001b[1;32m    684\u001b[0m     g = self.eval(name)\n\u001b[1;32m    685\u001b[0m except ValueError:\n\u001b[0;32m--> 686\u001b[0m     raise AttributeError(f'No such attribute: {name}.')\n\u001b[1;32m    687\u001b[0m \n\u001b[1;32m    688\u001b[0m self.__dict__[name] = g\n",
      "\u001b[0;31mAttributeError\u001b[0m: No such attribute: BaseChangeToCanonical."
     ]
    }
   ],
   "source": [
    "#minimal code throwing error for 1x1 case for BaseChangeToCanonical\n",
    "from sage.libs.gap.element import GAPError\n",
    "try:\n",
    "    libgap.LoadPackage(\"forms\")\n",
    "    libgap.BaseChangeToCanonical(libgap(matrix(GF(q**2),[[1]])).HermitianFormByMatrix(GF(q**2)))\n",
    "except GAPError as e:\n",
    "    print(e)"
   ]
  },
  {
   "cell_type": "code",
   "execution_count": 2,
   "id": "1acfa46e-baa0-476a-bb3f-717d3d4d5e7b",
   "metadata": {},
   "outputs": [],
   "source": [
    "def base_change_hermitian_gap_source(mat):\n",
    "    \"\"\"\n",
    "    Diagonalizes a Hermitian matrix over a finite field.\n",
    "    Returns the base change matrix and the rank of the Hermitian form.\n",
    "    \n",
    "    Arguments:\n",
    "        mat: The Gram matrix of a Hermitian form (Sage matrix object)\n",
    "        gf: The finite field (GF(q))\n",
    "    \n",
    "    Returns:\n",
    "        D: The base change matrix\n",
    "        r: The number of non-zero rows in D*mat*D^T\n",
    "    \"\"\"\n",
    "\n",
    "    gf = mat.base_ring()\n",
    "    n = mat.nrows()\n",
    "    q = gf.order()\n",
    "    t = sqrt(q)\n",
    "\n",
    "    A = copy(mat)\n",
    "    D = identity_matrix(gf, n)\n",
    "    row = 0\n",
    "\n",
    "    # Diagonalize A\n",
    "    while True:\n",
    "        row += 1\n",
    "\n",
    "        # Look for a non-zero element on the main diagonal, starting from `row`\n",
    "        i = row - 1  # Adjust for zero-based indexing in Sage\n",
    "        while i < n and A[i, i].is_zero():\n",
    "            i += 1\n",
    "\n",
    "        if i == row - 1:\n",
    "            # Do nothing since A[row, row] != 0\n",
    "            pass\n",
    "        elif i < n:\n",
    "            # Swap to ensure A[row, row] != 0\n",
    "            A.swap_rows(row - 1, i)\n",
    "            A.swap_columns(row - 1, i)\n",
    "            D.swap_rows(row - 1, i)\n",
    "        else:\n",
    "            # All entries on the main diagonal are zero; look for an off-diagonal element\n",
    "            i = row - 1\n",
    "            while i < n - 1:\n",
    "                k = i + 1\n",
    "                while k < n and A[i, k].is_zero():\n",
    "                    k += 1\n",
    "                if k == n:\n",
    "                    i += 1\n",
    "                else:\n",
    "                    break\n",
    "\n",
    "            if i == n - 1:\n",
    "                # All elements are zero; terminate\n",
    "                row -= 1\n",
    "                r = row\n",
    "                break\n",
    "\n",
    "            # Fetch the non-zero element and place it at A[row, row + 1]\n",
    "            if i != row - 1:\n",
    "                A.swap_rows(row - 1, i)\n",
    "                A.swap_columns(row - 1, i)\n",
    "                D.swap_rows(row - 1, i)\n",
    "\n",
    "            A.swap_rows(row, k)\n",
    "            A.swap_columns(row, k)\n",
    "            D.swap_rows(row, k)\n",
    "\n",
    "            b = A[row, row - 1]**(-1)\n",
    "            A.add_multiple_of_row(row - 1, row, -b**t)\n",
    "            A.add_multiple_of_column(row, row - 1, -b)\n",
    "            D.add_multiple_of_row(row - 1, row, -b)\n",
    "\n",
    "        # Eliminate below-diagonal entries in the current column\n",
    "        a = -A[row - 1, row - 1]**(-1)\n",
    "        for i in range(row, n):\n",
    "            b = A[i, row - 1] * a\n",
    "            if not b.is_zero():\n",
    "                A.add_multiple_of_column(i,row - 1, b**t)\n",
    "                A.add_multiple_of_row(i, row - 1, b)\n",
    "                D.add_multiple_of_row(i, row - 1, b)\n",
    "\n",
    "        if row == n - 1:\n",
    "            break\n",
    "\n",
    "    # Count how many variables have been used\n",
    "    if row == n - 1:\n",
    "        if not A[n - 1, n - 1].is_zero():\n",
    "            r = n\n",
    "        else:\n",
    "            r = n - 1\n",
    "\n",
    "    # Normalize diagonal elements to 1\n",
    "    for i in range(r):\n",
    "        a = A[i, i]\n",
    "        if not a.is_one():\n",
    "            # Find an element `b` such that `b*b^t = b^(t+1) = a`\n",
    "            b = conj_square_root(a)\n",
    "            D.rescale_row(i, 1 / b)\n",
    "\n",
    "    return D.inverse()"
   ]
  },
  {
   "cell_type": "code",
   "execution_count": 17,
   "id": "c239c78d-65d0-42d9-8e6b-080c2af4f3c3",
   "metadata": {},
   "outputs": [],
   "source": [
    "q = 11\n",
    "F = GF(q**2)\n",
    "U=matrix(F,[[1,4,7],[4,1,4],[7,4,1]])"
   ]
  },
  {
   "cell_type": "code",
   "execution_count": 18,
   "id": "9fcf268a-648a-48a6-a817-bbad92ede43e",
   "metadata": {},
   "outputs": [
    {
     "name": "stdout",
     "output_type": "stream",
     "text": [
      "True\n",
      "[   1    0    0]\n",
      "[   4 8*z2    0]\n",
      "[   7 4*z2 2*z2]\n"
     ]
    }
   ],
   "source": [
    "#use the upper part of the LU decomposition, and factor the diagonal\n",
    "B = base_change_hermitian(U)\n",
    "print(B*B.H == U)\n",
    "print(B)"
   ]
  },
  {
   "cell_type": "code",
   "execution_count": 19,
   "id": "1919d5f8-29c3-44a7-b813-aef783fc6294",
   "metadata": {},
   "outputs": [
    {
     "name": "stdout",
     "output_type": "stream",
     "text": [
      "True\n",
      "[        1         0         0]\n",
      "[        4  9*z2 + 2         0]\n",
      "[        7 10*z2 + 1  3*z2 + 3]\n"
     ]
    }
   ],
   "source": [
    "#compute the matrix factorization using libgap and the GAP `forms` package\n",
    "B = base_change_hermitian_gap_forms(U,q)\n",
    "print(B*B.H == U)\n",
    "print(B)"
   ]
  },
  {
   "cell_type": "code",
   "execution_count": 20,
   "id": "5da34372-bd67-4b81-8be0-c2c98e3bf9b7",
   "metadata": {},
   "outputs": [
    {
     "name": "stdout",
     "output_type": "stream",
     "text": [
      "True\n",
      "[        1         0         0]\n",
      "[        4  9*z2 + 2         0]\n",
      "[        7 10*z2 + 1  3*z2 + 3]\n"
     ]
    }
   ],
   "source": [
    "#compute the matrix factorization using a direct translation of the GAP code into Sage\n",
    "B = base_change_hermitian_gap_source(U)\n",
    "print(B*B.H == U)\n",
    "print(B)"
   ]
  },
  {
   "cell_type": "code",
   "execution_count": 1,
   "id": "527f7f8d-4981-4d7c-bc25-ecdf2f48122b",
   "metadata": {},
   "outputs": [
    {
     "name": "stdout",
     "output_type": "stream",
     "text": [
      "0.0%\n",
      "1.88%\n",
      "3.76%\n",
      "5.65%\n",
      "7.53%\n",
      "9.41%\n",
      "11.29%\n",
      "13.17%\n",
      "15.05%\n",
      "16.94%\n",
      "18.82%\n",
      "20.7%\n",
      "22.58%\n",
      "24.46%\n",
      "26.34%\n",
      "28.23%\n",
      "30.11%\n",
      "31.99%\n",
      "33.87%\n",
      "35.75%\n",
      "37.63%\n",
      "39.52%\n",
      "41.4%\n",
      "43.28%\n",
      "45.16%\n",
      "47.04%\n",
      "48.92%\n",
      "50.81%\n",
      "52.69%\n",
      "54.57%\n",
      "56.45%\n",
      "58.33%\n",
      "60.21%\n",
      "62.1%\n",
      "63.98%\n",
      "65.86%\n",
      "67.74%\n",
      "69.62%\n",
      "71.5%\n",
      "73.39%\n",
      "75.27%\n",
      "77.15%\n",
      "79.03%\n",
      "80.91%\n",
      "82.79%\n",
      "84.68%\n",
      "86.56%\n",
      "88.44%\n",
      "90.32%\n",
      "92.2%\n",
      "94.08%\n",
      "95.97%\n",
      "97.85%\n",
      "99.73%\n"
     ]
    }
   ],
   "source": [
    "#counterexample for d_rho=3, q=3 by brute force\n",
    "F = GF(3**2)\n",
    "U = matrix(F,[[0, 1, 2], [1, 0, 1], [2, 1, 0]])\n",
    "A = matrix(F,3)\n",
    "num_iters = 0\n",
    "# Generate all possible combinations of 6 elements from F_9\n",
    "import itertools\n",
    "for combination in itertools.product(F, repeat=6):\n",
    "    # Unpack the combination into the matrix entries\n",
    "    a, b, c, d, e, f = combination\n",
    "    \n",
    "    # Construct the upper triangular matrix\n",
    "    A = matrix(F,[\n",
    "        [a, b, c],\n",
    "        [0, d, e],\n",
    "        [0, 0, f]\n",
    "    ])\n",
    "    if num_iters % 10_000 == 0:\n",
    "        print(f\"{round(100*num_iters/9**6,2)}%\")\n",
    "    \n",
    "    if A*A.H == U:\n",
    "        print(\"found a decomposition U = AA^*: \",A)\n",
    "    num_iters += 1"
   ]
  },
  {
   "cell_type": "code",
   "execution_count": 4,
   "id": "bea4af84-1065-4220-a1f1-f11348bf6a2b",
   "metadata": {},
   "outputs": [
    {
     "ename": "NameError",
     "evalue": "name 'conj_square_root' is not defined",
     "output_type": "error",
     "traceback": [
      "\u001b[0;31m---------------------------------------------------------------------------\u001b[0m",
      "\u001b[0;31mNameError\u001b[0m                                 Traceback (most recent call last)",
      "Cell \u001b[0;32mIn[4], line 1\u001b[0m\n\u001b[0;32m----> 1\u001b[0m \u001b[43mbase_change_hermitian\u001b[49m\u001b[43m(\u001b[49m\u001b[43mU\u001b[49m\u001b[43m)\u001b[49m\n",
      "Cell \u001b[0;32mIn[3], line 6\u001b[0m, in \u001b[0;36mbase_change_hermitian\u001b[0;34m(U)\u001b[0m\n\u001b[1;32m      4\u001b[0m A \u001b[38;5;241m=\u001b[39m \u001b[38;5;241m~\u001b[39mUp \u001b[38;5;241m*\u001b[39m matrix\u001b[38;5;241m.\u001b[39mdiagonal([d\u001b[38;5;241m.\u001b[39msqrt() \u001b[38;5;28;01mfor\u001b[39;00m d \u001b[38;5;129;01min\u001b[39;00m D])\n\u001b[1;32m      5\u001b[0m diag \u001b[38;5;241m=\u001b[39m (A\u001b[38;5;241m.\u001b[39mH \u001b[38;5;241m*\u001b[39m U \u001b[38;5;241m*\u001b[39m A)\u001b[38;5;241m.\u001b[39mdiagonal()\n\u001b[0;32m----> 6\u001b[0m factor_diag \u001b[38;5;241m=\u001b[39m diagonal_matrix([\u001b[43mconj_square_root\u001b[49m(d) \u001b[38;5;28;01mfor\u001b[39;00m d \u001b[38;5;129;01min\u001b[39;00m diag])\n\u001b[1;32m      7\u001b[0m \u001b[38;5;28;01mreturn\u001b[39;00m (factor_diag\u001b[38;5;241m*\u001b[39mA\u001b[38;5;241m.\u001b[39minverse())\u001b[38;5;241m.\u001b[39mH\n",
      "\u001b[0;31mNameError\u001b[0m: name 'conj_square_root' is not defined"
     ]
    }
   ],
   "source": [
    "base_change_hermitian(U)"
   ]
  },
  {
   "cell_type": "code",
   "execution_count": null,
   "id": "214cd47d-4142-4c48-8f3f-63e77305ac70",
   "metadata": {},
   "outputs": [],
   "source": []
  }
 ],
 "metadata": {
  "kernelspec": {
   "display_name": "SageMath 10.5",
   "language": "sage",
   "name": "sagemath-10.5"
  },
  "language_info": {
   "codemirror_mode": {
    "name": "ipython",
    "version": 3
   },
   "file_extension": ".py",
   "mimetype": "text/x-python",
   "name": "python",
   "nbconvert_exporter": "python",
   "pygments_lexer": "ipython3",
   "version": "3.12.5"
  }
 },
 "nbformat": 4,
 "nbformat_minor": 5
}
