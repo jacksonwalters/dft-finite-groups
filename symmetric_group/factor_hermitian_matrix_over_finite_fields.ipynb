{
 "cells": [
  {
   "cell_type": "code",
   "execution_count": 36,
   "id": "bdd021bd-e8f0-4d3f-9fb3-fef2325dc565",
   "metadata": {},
   "outputs": [],
   "source": [
    "#define conjugation as x |--> x**q, an order two automorphism of F_q^2. note x**q == x for x \\in F_q.\n",
    "def conjugate_pos_char(A):\n",
    "    return matrix(F,[[A[i][j]**q for j in range(A.nrows())] for i in range(A.nrows())])"
   ]
  },
  {
   "cell_type": "code",
   "execution_count": 133,
   "id": "f7cf96ca-6fd2-4c08-8803-ae46a9f57d45",
   "metadata": {},
   "outputs": [],
   "source": [
    "#for u in GF(q), we can factor as u=aa^* using gen. z and modular arithmetic\n",
    "def conj_square_root(u):\n",
    "    if u == 0:\n",
    "        return 0  # Special case for 0\n",
    "    z = F.multiplicative_generator()\n",
    "    k = u.log(z)  # Compute discrete log of u to the base z\n",
    "    if k % (q+1) != 0:\n",
    "        raise ValueError(\"Unable to factor: u is not in base field GF(q)\")\n",
    "    return z**((k//(q+1))%(q-1))"
   ]
  },
  {
   "cell_type": "code",
   "execution_count": 1,
   "id": "b8567b4c-c6f9-4210-94ce-a2ec0626b37c",
   "metadata": {},
   "outputs": [],
   "source": [
    "#use libgap.eval for GAP evalutation of BaseChangeToCanonical using `forms` package\n",
    "from sage.libs.gap.libgap import libgap\n",
    "def unitary_change_of_basis(U,q):\n",
    "    if U.nrows() == 1 and U.ncols() == 1:\n",
    "        return matrix(F,[[factor_scalar(U[0,0])]])\n",
    "    loaded_forms = libgap.LoadPackage(\"forms\")\n",
    "    return matrix(F,libgap.BaseChangeToCanonical(libgap([list(row) for row in U]).HermitianFormByMatrix(F))).inverse()"
   ]
  },
  {
   "cell_type": "code",
   "execution_count": 124,
   "id": "f30356bf-869b-4f72-9c01-b418b2a1bf6a",
   "metadata": {},
   "outputs": [],
   "source": [
    "def base_change_hermitian(U):\n",
    "    Up = U.LU()[2]\n",
    "    D = Up.diagonal()\n",
    "    A = ~Up * matrix.diagonal([d.sqrt() for d in D])\n",
    "    A.H * U * A\n",
    "    return"
   ]
  },
  {
   "cell_type": "code",
   "execution_count": 156,
   "id": "1acfa46e-baa0-476a-bb3f-717d3d4d5e7b",
   "metadata": {},
   "outputs": [],
   "source": [
    "def base_change_matrix(mat):\n",
    "    \"\"\"\n",
    "    Diagonalizes a Hermitian matrix over a finite field.\n",
    "    Returns the base change matrix and the rank of the Hermitian form.\n",
    "    \n",
    "    Arguments:\n",
    "        mat: The Gram matrix of a Hermitian form (Sage matrix object)\n",
    "        gf: The finite field (GF(q))\n",
    "    \n",
    "    Returns:\n",
    "        D: The base change matrix\n",
    "        r: The number of non-zero rows in D*mat*D^T\n",
    "    \"\"\"\n",
    "\n",
    "    gf = mat.base_ring()\n",
    "    n = mat.nrows()\n",
    "    q = gf.order()\n",
    "    t = sqrt(q)\n",
    "\n",
    "    A = copy(mat)\n",
    "    D = identity_matrix(gf, n)\n",
    "    row = 0\n",
    "\n",
    "    # Diagonalize A\n",
    "    while True:\n",
    "        row += 1\n",
    "\n",
    "        # Look for a non-zero element on the main diagonal, starting from `row`\n",
    "        i = row - 1  # Adjust for zero-based indexing in Sage\n",
    "        while i < n and A[i, i].is_zero():\n",
    "            i += 1\n",
    "\n",
    "        if i == row - 1:\n",
    "            # Do nothing since A[row, row] != 0\n",
    "            pass\n",
    "        elif i < n:\n",
    "            # Swap to ensure A[row, row] != 0\n",
    "            A.swap_rows(row - 1, i)\n",
    "            A.swap_columns(row - 1, i)\n",
    "            D.swap_rows(row - 1, i)\n",
    "        else:\n",
    "            # All entries on the main diagonal are zero; look for an off-diagonal element\n",
    "            i = row - 1\n",
    "            while i < n - 1:\n",
    "                k = i + 1\n",
    "                while k < n and A[i, k].is_zero():\n",
    "                    k += 1\n",
    "                if k == n:\n",
    "                    i += 1\n",
    "                else:\n",
    "                    break\n",
    "\n",
    "            if i == n - 1:\n",
    "                # All elements are zero; terminate\n",
    "                row -= 1\n",
    "                r = row\n",
    "                break\n",
    "\n",
    "            # Fetch the non-zero element and place it at A[row, row + 1]\n",
    "            if i != row - 1:\n",
    "                A.swap_rows(row - 1, i)\n",
    "                A.swap_columns(row - 1, i)\n",
    "                D.swap_rows(row - 1, i)\n",
    "\n",
    "            A.swap_rows(row, k)\n",
    "            A.swap_columns(row, k)\n",
    "            D.swap_rows(row, k)\n",
    "\n",
    "            b = A[row, row - 1]**(-1)\n",
    "            A.add_multiple_of_row(row - 1, row, -b**t)\n",
    "            A.add_multiple_of_column(row, row - 1, -b)\n",
    "            D.add_multiple_of_row(row - 1, row, -b)\n",
    "\n",
    "        # Eliminate below-diagonal entries in the current column\n",
    "        a = -A[row - 1, row - 1]**(-1)\n",
    "        for i in range(row, n):\n",
    "            b = A[i, row - 1] * a\n",
    "            if not b.is_zero():\n",
    "                A.add_multiple_of_column(i,row - 1, b**t)\n",
    "                A.add_multiple_of_row(i, row - 1, b)\n",
    "                D.add_multiple_of_row(i, row - 1, b)\n",
    "\n",
    "        if row == n - 1:\n",
    "            break\n",
    "\n",
    "    # Count how many variables have been used\n",
    "    if row == n - 1:\n",
    "        if not A[n - 1, n - 1].is_zero():\n",
    "            r = n\n",
    "        else:\n",
    "            r = n - 1\n",
    "\n",
    "    # Normalize diagonal elements to 1\n",
    "    for i in range(r):\n",
    "        a = A[i, i]\n",
    "        if not a.is_one():\n",
    "            # Find an element `b` such that `b*b^t = b^(t+1) = a`\n",
    "            b = conj_square_root(a)\n",
    "            D.rescale_row(i, 1 / b)\n",
    "\n",
    "    return D"
   ]
  },
  {
   "cell_type": "code",
   "execution_count": 60,
   "id": "c239c78d-65d0-42d9-8e6b-080c2af4f3c3",
   "metadata": {},
   "outputs": [],
   "source": [
    "q = 11\n",
    "F = GF(q**2)"
   ]
  },
  {
   "cell_type": "code",
   "execution_count": 160,
   "id": "1919d5f8-29c3-44a7-b813-aef783fc6294",
   "metadata": {},
   "outputs": [
    {
     "data": {
      "text/plain": [
       "[        1         0         0]\n",
       "[        4  9*z2 + 2         0]\n",
       "[        7 10*z2 + 1  3*z2 + 3]"
      ]
     },
     "execution_count": 160,
     "metadata": {},
     "output_type": "execute_result"
    }
   ],
   "source": [
    "#compute the matrix factorization using libgap and the GAP `forms` package\n",
    "U=matrix(F,[[1,4,7],[4,1,4],[7,4,1]])\n",
    "B = unitary_change_of_basis(U,q); B"
   ]
  },
  {
   "cell_type": "code",
   "execution_count": 125,
   "id": "f7c50e78-98ad-4617-8ea5-685665825006",
   "metadata": {},
   "outputs": [
    {
     "data": {
      "text/plain": [
       "[1 4 7]\n",
       "[4 1 4]\n",
       "[7 4 1]"
      ]
     },
     "execution_count": 125,
     "metadata": {},
     "output_type": "execute_result"
    }
   ],
   "source": [
    "#right now this method is just computing U^{-1}\n",
    "U=matrix(F,[[1,4,7],[4,1,4],[7,4,1]])\n",
    "B = base_change_hermitian(U); B.inverse()"
   ]
  },
  {
   "cell_type": "code",
   "execution_count": 159,
   "id": "5da34372-bd67-4b81-8be0-c2c98e3bf9b7",
   "metadata": {},
   "outputs": [
    {
     "data": {
      "text/plain": [
       "[        1         0         0]\n",
       "[        4  9*z2 + 2         0]\n",
       "[        7 10*z2 + 1  3*z2 + 3]"
      ]
     },
     "execution_count": 159,
     "metadata": {},
     "output_type": "execute_result"
    }
   ],
   "source": [
    "#compute the matrix factorization using a direct translation of the GAP code into Sage\n",
    "U=matrix(F,[[1,4,7],[4,1,4],[7,4,1]])\n",
    "B = base_change_matrix(U); B.inverse()"
   ]
  },
  {
   "cell_type": "code",
   "execution_count": 179,
   "id": "23e9ea62-92ea-4ca6-b060-79b1f2d5ef34",
   "metadata": {},
   "outputs": [
    {
     "data": {
      "text/plain": [
       "[ 1  0  0]\n",
       "[ 0 10  0]\n",
       "[ 0  0 10]"
      ]
     },
     "execution_count": 179,
     "metadata": {},
     "output_type": "execute_result"
    }
   ],
   "source": [
    "U=matrix(F,[[1,4,7],[4,1,4],[7,4,1]])\n",
    "Up = U.LU()[2]\n",
    "D = Up.diagonal()\n",
    "A = ~Up * matrix.diagonal([d.sqrt() for d in D])\n",
    "A.H * U * A"
   ]
  },
  {
   "cell_type": "code",
   "execution_count": null,
   "id": "db8fb48f-1689-4937-aa53-bec31517698e",
   "metadata": {},
   "outputs": [],
   "source": []
  }
 ],
 "metadata": {
  "kernelspec": {
   "display_name": "SageMath 10.4",
   "language": "sage",
   "name": "sagemath-10.4"
  },
  "language_info": {
   "codemirror_mode": {
    "name": "ipython",
    "version": 3
   },
   "file_extension": ".py",
   "mimetype": "text/x-python",
   "name": "python",
   "nbconvert_exporter": "python",
   "pygments_lexer": "ipython3",
   "version": "3.12.4"
  }
 },
 "nbformat": 4,
 "nbformat_minor": 5
}
