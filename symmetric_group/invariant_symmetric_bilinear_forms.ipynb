{
 "cells": [
  {
   "cell_type": "code",
   "execution_count": 2,
   "id": "bd44d9da-c93c-43fe-bf59-68e001524118",
   "metadata": {},
   "outputs": [],
   "source": [
    "\"\"\"\n",
    "\n",
    "LINKS:\n",
    "- https://mathoverflow.net/questions/271932/formula-for-the-frobenius-schur-indicator-of-a-finite-group\n",
    "- https://math.stackexchange.com/questions/832173/structure-of-g-invariant-bilinear-forms-over-finite-fields\n",
    "\n",
    "NOTE: the theorem in MO question only guarantees a bilinear form, not a sesqilinear form.\n",
    "\n",
    "\"\"\";"
   ]
  },
  {
   "cell_type": "code",
   "execution_count": 3,
   "id": "e2324069-13b9-4df9-b8b2-1b9de7ad8b30",
   "metadata": {},
   "outputs": [],
   "source": [
    "\"\"\"\n",
    "\n",
    "From Dima Pasechnik:\n",
    "\n",
    "Once you have U, you can compute the Cholesky decomposition (U = L\\overline{L}^T, with L lower-triangular), or LDLT decomposition (U=LDL^T, with L_{ii}=1 for all i, L lower-triangular, and D a diagonal matrix with entries in the index 2 subfield) of it, which is a purely algebraic, exact, process, and works in any characteristic, as far as I can see.\n",
    "\n",
    "Cholesky involves taking square roots in the index 2 subfield - but these are always available, as they exist is the quadratic extension (in the case of odd characteristic, or in the field itself in the case of characteristic 2). LDLT doesn't need this, but leaves you with a D for the matrix for the form, rather than I. However, D can still be factored by taking square roots, and it works by the same argument.\n",
    "\n",
    "---\n",
    "\n",
    "There is up to a linear, i.e. conjunction in  (?) isomorphism only one  for all  and primes . See e.g. the Altas of Finite groups by Conway et al.\n",
    "\n",
    "This would imply the existence of a base change.\n",
    "\n",
    "\"\"\";"
   ]
  },
  {
   "cell_type": "code",
   "execution_count": 4,
   "id": "4b58ad68-1fd4-4bfc-8095-6f656896c16a",
   "metadata": {},
   "outputs": [],
   "source": [
    "#define conjugation as x |--> x**q, an order two automorphism of F_q^2. note x**q == x for x \\in F_q.\n",
    "def conjugate_pos_char(A):\n",
    "    assert A.nrows() == A.ncols()\n",
    "    field_size = A.base_ring().order()\n",
    "    q = sqrt(field_size) if field_size.is_square() else field_size\n",
    "    return matrix(GF(q**2),[[A[i][j]**q for j in range(A.nrows())] for i in range(A.nrows())])"
   ]
  },
  {
   "cell_type": "code",
   "execution_count": 5,
   "id": "394b4c5a-00f8-4217-927a-a897e21ef62d",
   "metadata": {},
   "outputs": [],
   "source": [
    "def invariant_symmetric_sesquilinear_matrix(q,partition):\n",
    "    \"\"\"\n",
    "    Computes the matrix of a S_n-invariant symmetric sesquilinear form.\n",
    "\n",
    "    Sets up and solves system of linear equations based on writing U as an unknown in polynomial ring generators. \n",
    "\n",
    "    The equations are \\rho(g)^T*U*\\overline{\\rho(g)} = \\lambda_g*U where \\lambda_g = \\det(\\rho(g))\\overline{\\det(\\rho(g))}.\n",
    "\n",
    "    The variables for U can be extracted to yield a matrix over GF(q^2) for each g.\n",
    "    \n",
    "    These are stacked to get the overall system, and we find the one dim'l null space to get a solution vector, and format as a matrix.\n",
    "\n",
    "    Note: one could also form the Kroenecker products \\rho(g) \\otimes \\rho(g)^{-1 T} to explicitly obtain the system.\n",
    "    \n",
    "    \"\"\"\n",
    "\n",
    "    # Define the group G and its rep'n as a Specht module, dimension\n",
    "    n = sum(partition)\n",
    "    SGA = SymmetricGroupAlgebra(GF(q^2), n)\n",
    "    SM = SGA.specht_module(partition)\n",
    "    G = SGA.group()\n",
    "    rho = SM.representation_matrix\n",
    "    d_rho = SM.dimension()\n",
    "    \n",
    "    # Initialize U as a matrix of variables over GF(q^2)\n",
    "    R = PolynomialRing(GF(q^2), 'u', d_rho^2)\n",
    "    U_vars = R.gens()  # List of variable generators for U\n",
    "    U = Matrix(R, d_rho, d_rho, U_vars)  # U is a d_rho x d_rho matrix of variables\n",
    "    \n",
    "    # for each generator of G, form the augmented system \n",
    "    def augmented_matrix(g):\n",
    "\n",
    "        #compute \\rho(g), transpose, conjugate\n",
    "        rho_g = rho(Permutation(g))\n",
    "        rho_g_T = rho_g.transpose()\n",
    "        rho_g_conj = conjugate_pos_char(rho_g)\n",
    "    \n",
    "        # Compute lambda_g\n",
    "        det_rho_g = det(rho_g)\n",
    "        lambda_g = det_rho_g * (det_rho_g ** q)\n",
    "    \n",
    "        # Form the matrix equation \\rho(g)^T*U*\\overline{\\rho(g)} = \\lambda_g * U\n",
    "        equation_matrix = rho_g_T*U*rho_g_conj - lambda_g * U\n",
    "    \n",
    "        # Initialize a list to hold rows of the augmented system\n",
    "        augmented_system = []\n",
    "    \n",
    "        # Extract coefficients for each linear equation in the matrix\n",
    "        for i in range(d_rho):\n",
    "            for j in range(d_rho):\n",
    "                # Get the (i, j) entry of the equation matrix, which is a linear combination of the u variables\n",
    "                linear_expression = equation_matrix[i, j]\n",
    "            \n",
    "                # Extract the coefficients of each u_k in the linear expression\n",
    "                row = [linear_expression.coefficient(u) for u in U_vars]\n",
    "            \n",
    "                # Append the row to the augmented system\n",
    "                augmented_system.append(row)\n",
    "    \n",
    "        # Convert the augmented system to a matrix\n",
    "        return Matrix(GF(q^2), augmented_system)\n",
    "\n",
    "    #stack linear systems for each g in G\n",
    "    total_system = matrix(GF(q^2),0,d_rho^2)\n",
    "    for g in G:\n",
    "        total_system = total_system.stack(augmented_matrix(g))\n",
    "    \n",
    "    #compute the null space of the overall matrix\n",
    "    null_space = total_system.right_kernel()\n",
    "    \n",
    "    #return a d_rho x d_rho matrix over GF(q^2) from the 1 dim'l null space given as vector\n",
    "    U_mats = [matrix(GF(q^2),d_rho,d_rho,b) for b in null_space.basis()]\n",
    "\n",
    "    #verify that a solution to the linear system satisfies the G-invariance property\n",
    "    assert all(rho(g).transpose()*U_mats[0]*conjugate_pos_char(rho(g)) == U_mats[0] for g in G)\n",
    "    \n",
    "    return U_mats"
   ]
  },
  {
   "cell_type": "code",
   "execution_count": 6,
   "id": "a489d347-17e3-4548-b302-d49cd6173c88",
   "metadata": {},
   "outputs": [],
   "source": [
    "#define a general bi/sesquilinear form with the matrix U\n",
    "def sesquilinear_form(x,y,U):\n",
    "    return x.transpose()*U*y"
   ]
  },
  {
   "cell_type": "code",
   "execution_count": 7,
   "id": "5bb87874-ff97-4177-9d27-a2bec2118f3d",
   "metadata": {},
   "outputs": [],
   "source": [
    "#ensure the resulting form is G-invariant, symmetric, bi/sesquilinear by symbolic verification\n",
    "def check_form_properties(q,partition):\n",
    "    #define the representation matrix corresponding to q, partition\n",
    "    SGA = SymmetricGroupAlgebra(GF(q^2),sum(partition))\n",
    "    SM = SGA.specht_module(partition)\n",
    "    rho = SM.representation_matrix\n",
    "    d_rho = SM.dimension()\n",
    "    G = SGA.group()\n",
    "\n",
    "    #define variables as polynomial generators\n",
    "    R_xy = PolynomialRing(GF(q^2), d_rho, var_array='x,y')\n",
    "    x = matrix([R_xy.gens()[2*i] for i in range(d_rho)]).transpose()\n",
    "    y = matrix([R_xy.gens()[2*i+1] for i in range(d_rho)]).transpose()\n",
    "    R_xy_lambda = PolynomialRing(R_xy,'lambda')\n",
    "    lambda_ = R_xy_lambda.gens()[0]\n",
    "\n",
    "    #compute the bilinear form matrix. coerce over polynomial ring\n",
    "    U_mats = invariant_symmetric_sesquilinear_matrix(q,partition)\n",
    "    U_mat = U_mats[0]\n",
    "    if len(U_mats) > 1:\n",
    "        print(\"Space of G-invariant symmetric bilinear forms has dimension > 1 for la=\",partition)\n",
    "        print(\"Dimension of space=\",len(U_mats))\n",
    "    U_form = matrix(R_xy_lambda,U_mat)\n",
    "    \n",
    "    #check symmetric property\n",
    "    symmetric = sesquilinear_form(x,y,U_form) == sesquilinear_form(y,x,U_form)\n",
    "    \n",
    "    #check G-invariance property\n",
    "    G_invariant = all(sesquilinear_form(rho(g)*x,rho(g)*y,U_form) == sesquilinear_form(x,y,U_form) for g in G)\n",
    "    \n",
    "    #check sesquilinear property. ISSUE: lambda_^q is a power of the ring generator, i.e. doesn't simplify.\n",
    "    first_arg = sesquilinear_form(lambda_*x,y,U_form) == lambda_*sesquilinear_form(x,y,U_form)\n",
    "    second_arg = sesquilinear_form(x,lambda_*y,U_form) == lambda_*sesquilinear_form(x,y,U_form) #need to amend for conjugation\n",
    "    bilinear = first_arg and second_arg\n",
    "\n",
    "    return symmetric and G_invariant and bilinear"
   ]
  },
  {
   "cell_type": "code",
   "execution_count": 8,
   "id": "016c3695-1c1e-454d-9f31-1d64a7809d99",
   "metadata": {},
   "outputs": [
    {
     "name": "stdout",
     "output_type": "stream",
     "text": [
      "p=2\n",
      "[([3], True), ([2, 1], True), ([1, 1, 1], True)]\n",
      "[([4], True), ([3, 1], True), ([2, 2], True), ([2, 1, 1], True), ([1, 1, 1, 1], True)]\n",
      "Space of G-invariant symmetric bilinear forms has dimension > 1 for la= [3, 1, 1]\n",
      "Dimension of space= 2\n",
      "[([5], True), ([4, 1], True), ([3, 2], True), ([3, 1, 1], True), ([2, 2, 1], True), ([2, 1, 1, 1], True), ([1, 1, 1, 1, 1], True)]\n",
      "---------\n",
      "p=3\n",
      "[([3], True), ([2, 1], True), ([1, 1, 1], True)]\n",
      "[([4], True), ([3, 1], True), ([2, 2], True), ([2, 1, 1], True), ([1, 1, 1, 1], True)]\n",
      "[([5], True), ([4, 1], True), ([3, 2], True), ([3, 1, 1], True), ([2, 2, 1], True), ([2, 1, 1, 1], True), ([1, 1, 1, 1, 1], True)]\n",
      "---------\n",
      "p=5\n",
      "[([3], True), ([2, 1], True), ([1, 1, 1], True)]\n",
      "[([4], True), ([3, 1], True), ([2, 2], True), ([2, 1, 1], True), ([1, 1, 1, 1], True)]\n",
      "[([5], True), ([4, 1], True), ([3, 2], True), ([3, 1, 1], True), ([2, 2, 1], True), ([2, 1, 1, 1], True), ([1, 1, 1, 1, 1], True)]\n",
      "---------\n",
      "p=7\n",
      "[([3], True), ([2, 1], True), ([1, 1, 1], True)]\n",
      "[([4], True), ([3, 1], True), ([2, 2], True), ([2, 1, 1], True), ([1, 1, 1, 1], True)]\n",
      "[([5], True), ([4, 1], True), ([3, 2], True), ([3, 1, 1], True), ([2, 2, 1], True), ([2, 1, 1, 1], True), ([1, 1, 1, 1, 1], True)]\n",
      "---------\n",
      "p=11\n",
      "[([3], True), ([2, 1], True), ([1, 1, 1], True)]\n",
      "[([4], True), ([3, 1], True), ([2, 2], True), ([2, 1, 1], True), ([1, 1, 1, 1], True)]\n",
      "[([5], True), ([4, 1], True), ([3, 2], True), ([3, 1, 1], True), ([2, 2, 1], True), ([2, 1, 1, 1], True), ([1, 1, 1, 1, 1], True)]\n",
      "---------\n"
     ]
    }
   ],
   "source": [
    "#print the checks for pairs (p,la) where p is a prime and la is a partition of n\n",
    "for p in Primes()[:5]:\n",
    "    print(f\"p={p}\")\n",
    "    for n in range(3,6):\n",
    "        print([(la,check_form_properties(p,la)) for la in Partitions(n)])\n",
    "    print(\"---------\")"
   ]
  },
  {
   "cell_type": "code",
   "execution_count": 9,
   "id": "764a5605-d6a6-4428-8244-1e39a3d0eec3",
   "metadata": {},
   "outputs": [
    {
     "data": {
      "text/plain": [
       "[\n",
       "[1 1 1 1 1 0]  [0 0 0 0 0 1]\n",
       "[1 1 1 1 0 1]  [0 0 0 0 1 0]\n",
       "[1 1 1 0 1 1]  [0 0 0 1 0 0]\n",
       "[1 1 0 1 1 1]  [0 0 1 0 0 0]\n",
       "[1 0 1 1 1 1]  [0 1 0 0 0 0]\n",
       "[0 1 1 1 1 1], [1 0 0 0 0 0]\n",
       "]"
      ]
     },
     "execution_count": 9,
     "metadata": {},
     "output_type": "execute_result"
    }
   ],
   "source": [
    "#NOTE: for q=2, la=[3,1,1] we get a two dim'l space\n",
    "invariant_symmetric_sesquilinear_matrix(2,[3,1,1])"
   ]
  },
  {
   "cell_type": "code",
   "execution_count": 10,
   "id": "67f6033f-8e09-4307-8a8b-7221667f62ee",
   "metadata": {},
   "outputs": [
    {
     "data": {
      "text/plain": [
       "[1 3 3]\n",
       "[3 1 3]\n",
       "[3 3 1]"
      ]
     },
     "execution_count": 10,
     "metadata": {},
     "output_type": "execute_result"
    }
   ],
   "source": [
    "#the G-invariant, symmetric, bilinear form is not the standard form. likely a different basis\n",
    "U_mat = invariant_symmetric_sesquilinear_matrix(5,[3,1])[0]; U_mat"
   ]
  },
  {
   "cell_type": "code",
   "execution_count": 11,
   "id": "686cceb0-780e-4570-9fa9-4e974550f8d3",
   "metadata": {},
   "outputs": [
    {
     "name": "stdout",
     "output_type": "stream",
     "text": [
      "[5] [(1, 1, 1)]\n",
      "[4, 1] [(4, 1, -1)]\n",
      "[3, 2] [(4, -2, -1), (1, 1, 1)]\n",
      "[3, 1, 1] [(1, 1, 1), (4, -2, -1), (1, 1, 1)]\n",
      "[2, 2, 1] [(1, 1, 1), (4, -2, -1)]\n",
      "[2, 1, 1, 1] [(4, 1, -1)]\n",
      "[1, 1, 1, 1, 1] [(1, 1, 1)]\n"
     ]
    }
   ],
   "source": [
    "#to explain q=2, la=[3,1,1] note that the one of the composition factors (the irreducible quotients from any composition series)\n",
    "#has multiplicity 2. we see this by looking at the Brauer character of the composition factor, and see (1,1,1) appears twice.\n",
    "S5 = SymmetricGroup(5)\n",
    "SGA = S5.algebra(GF(2))\n",
    "for la in Partitions(5):\n",
    "    M = SGA.specht_module(la)\n",
    "    print(la, [V.brauer_character() for V in M.composition_factors()])"
   ]
  },
  {
   "cell_type": "code",
   "execution_count": 12,
   "id": "18e5172c-9f43-416f-85c3-d56ff2a55fec",
   "metadata": {},
   "outputs": [
    {
     "name": "stdout",
     "output_type": "stream",
     "text": [
      "matrix is Hermition: True\n",
      "[       1        0        0]\n",
      "[       3 4*z2 + 3        0]\n",
      "[       3 3*z2 + 1        2]\n"
     ]
    }
   ],
   "source": [
    "#compute the Cholesky decomposition of the matrix U associated to the bilinear form\n",
    "try:\n",
    "    print(\"matrix is Hermition:\",U_mat.is_hermitian())\n",
    "    print(U_mat.cholesky())\n",
    "except ValueError as e:\n",
    "    print(e)"
   ]
  },
  {
   "cell_type": "code",
   "execution_count": 28,
   "id": "49611276-3f34-4b7a-b5c7-1ff4918c7ee6",
   "metadata": {},
   "outputs": [
    {
     "name": "stdout",
     "output_type": "stream",
     "text": [
      "la = [4]\n",
      "q = 3\n",
      "[1]\n",
      "--------\n",
      "la = [3, 1]\n",
      "q = 3\n",
      "[1 2 2]\n",
      "[2 1 2]\n",
      "[2 2 1]\n",
      "--------\n",
      "la = [2, 2]\n",
      "q = 3\n",
      "[1 2]\n",
      "[2 1]\n",
      "--------\n",
      "la = [2, 1, 1]\n",
      "q = 3\n",
      "[0 1 2]\n",
      "[1 0 1]\n",
      "[2 1 0]\n",
      "--------\n",
      "la = [1, 1, 1, 1]\n",
      "q = 3\n",
      "[1]\n",
      "--------\n"
     ]
    }
   ],
   "source": [
    "#print the matrix associated to the bilinear form for each (q,partition)\n",
    "#note q needs to be large enough. p \\nmid n! seems sufficient\n",
    "for la in Partitions(4):\n",
    "    U_mats = invariant_symmetric_sesquilinear_matrix(3,la)\n",
    "    if len(U_mats) > 1:\n",
    "        print(\"space of G-invariant symmetric bilinear forms has dimension greater than 1\")\n",
    "    print(\"la =\",la)\n",
    "    print(\"q =\",3)\n",
    "    print(U_mats[0])\n",
    "    print(\"--------\")"
   ]
  },
  {
   "cell_type": "code",
   "execution_count": 19,
   "id": "fb0c0455-4984-4d0c-a663-c265211e9359",
   "metadata": {},
   "outputs": [],
   "source": [
    "\"\"\"\n",
    "For a unitary change-of-basis, we must have change-of-basis matrix A s.t.:\n",
    "\n",
    "(A\\rho(g)A.inverse())^* A \\rho(g)A.inverse() = A.inverse()^* \\rho(g)^*A^*A\\rho(g)A.inverse()\n",
    "\n",
    "then we must have A^*A = U = LL^* ==> A = L^*\n",
    "\n",
    "= (L^*).inverse()^* \\rho(g)^* L^{**}L^* \\rho(g) L^*.inverse() #substitution\n",
    "= L.inverse() \\rho(g)^T LL^* \\rho(g) L^*.inverse() #assuming the rep'n \\rho is defined over the base field F_q fixed by x |--> x^q\n",
    "= L.inverse() \\rho(g)^T U \\rho(g) L^*.inverse() \n",
    "= L.inverse() U L^*.inverse() #by G-invariance\n",
    "= Id\n",
    "\n",
    "Thus \\tilde(\\rho}(g) = L^* \\rho(g) L^*.inverse() should be a unitary matrix. \n",
    "\n",
    "We use the GAP `forms` package BaseChangeToCanonical method to find the matrix factorization U = LL^* over F_{q^2}.\n",
    "\n",
    "\"\"\";"
   ]
  },
  {
   "cell_type": "code",
   "execution_count": 32,
   "id": "1c226d8c-648e-4156-8a26-63381c9414f3",
   "metadata": {},
   "outputs": [],
   "source": [
    "#define the representation matrix corresponding to q, partition\n",
    "q = 17; la = [2,1,1]\n",
    "SGA = SymmetricGroupAlgebra(GF(q^2),sum(la))\n",
    "SM = SGA.specht_module(la)\n",
    "rho = SM.representation_matrix\n",
    "d_rho = SM.dimension()\n",
    "G = SGA.group()"
   ]
  },
  {
   "cell_type": "code",
   "execution_count": 34,
   "id": "339e1346-9a0e-4ddb-bf96-988ee7d7e17d",
   "metadata": {},
   "outputs": [
    {
     "name": "stdout",
     "output_type": "stream",
     "text": [
      "orthogonal factorization = True\n",
      "check orthogonality = True\n"
     ]
    }
   ],
   "source": [
    "#NOTE: the built-in Cholesky decomposition is only returning U = LL^T, not LL^* with the x |--> x^q conjugation\n",
    "#NOTE: we can create orthogonal representations with LL^T = U\n",
    "U_mat = invariant_symmetric_sesquilinear_matrix(q,la)[0]\n",
    "L = U_mat.cholesky();\n",
    "rho_tilde = L.transpose()*rho(G[8])*L.transpose().inverse()\n",
    "print(\"orthogonal factorization =\", U_mat == L*L.transpose())\n",
    "print(\"check orthogonality =\", rho_tilde.transpose()*rho_tilde == identity_matrix(d_rho))"
   ]
  },
  {
   "cell_type": "code",
   "execution_count": 37,
   "id": "a14e5cbc-503c-448a-b2a5-3066b1223361",
   "metadata": {},
   "outputs": [
    {
     "data": {
      "text/plain": [
       "True"
      ]
     },
     "execution_count": 37,
     "metadata": {},
     "output_type": "execute_result"
    }
   ],
   "source": [
    "\"\"\"\n",
    "we use the matrix factorization U_1 = AA^* where A is not necessarily lower triangular\n",
    "U_1 is the S_n-invariant symmetric bilinear form associated to the rep'n la = [3, 1], q = 3 over GF(q^2)\n",
    "GAP version of the base change matrix b1 associated to u1\n",
    "b1 := [[Z(3)^0, 0*Z(3), 0*Z(3)],[Z(3^2)^2,Z(3)^0, Z(3^2)], [Z(3),Z(3^2)^3,Z(3^2)^2]]\n",
    "\"\"\"\n",
    "F = GF(3^2)\n",
    "z = F.gen()\n",
    "\n",
    "U_1 = matrix(F,[[1,2,2],[2,1,2],[2,2,1]])\n",
    "\n",
    "# Define the matrix using the elements from GAP\n",
    "# n.b. Z(3) is the multiplicative generator of Z/3Z which is 2 == -1\n",
    "b1 = matrix(F, [\n",
    "    [1, 0, 0],           # First row: Z(3)^0, 0*Z(3), 0*Z(3)\n",
    "    [z^2, 1, z],         # Second row: Z(3^2)^2, Z(3)^0, Z(3^2)\n",
    "    [2, z^3, z^2]        # Third row: Z(3), Z(3^2)^3, Z(3^2)^2\n",
    "])\n",
    "\n",
    "#A = b1^{-1}\n",
    "b1_star = conjugate_pos_char(b1).transpose()\n",
    "U_1 == b1.inverse()*b1_star.inverse()"
   ]
  },
  {
   "cell_type": "code",
   "execution_count": null,
   "id": "c43985a4-5b58-43d8-9b9e-cdc0ebaa18b0",
   "metadata": {},
   "outputs": [],
   "source": []
  }
 ],
 "metadata": {
  "kernelspec": {
   "display_name": "SageMath 10.4",
   "language": "sage",
   "name": "sagemath-10.4"
  },
  "language_info": {
   "codemirror_mode": {
    "name": "ipython",
    "version": 3
   },
   "file_extension": ".py",
   "mimetype": "text/x-python",
   "name": "python",
   "nbconvert_exporter": "python",
   "pygments_lexer": "ipython3",
   "version": "3.12.4"
  }
 },
 "nbformat": 4,
 "nbformat_minor": 5
}
