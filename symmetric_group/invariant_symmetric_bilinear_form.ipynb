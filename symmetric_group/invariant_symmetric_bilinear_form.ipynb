{
 "cells": [
  {
   "cell_type": "code",
   "execution_count": 7,
   "id": "bd44d9da-c93c-43fe-bf59-68e001524118",
   "metadata": {},
   "outputs": [],
   "source": [
    "\"\"\"\n",
    "\n",
    "From Dima Pasechnik:\n",
    "\n",
    "An obvious way to find invariant forms is by linear algebra in the representation \\rho(g). Take a matrix of unknowns U, and for each generator g in G, write \\rho(g)U = \\lambda_g*U*\\rho(g)^{-1 T}, where \\lambda_g = \\det(\\rho(g))\\bar{\\det(\\rho(g))}^T. In the solution space pick a nonzero element.\n",
    "\n",
    "EDIT: nontrivial \\lambda_g arise when one has sesquilinear forms (corrected above). Also note that a convenient way to form the system of equations is to take the Kroneck products \\rho(g)U \\otimes \\lambda_g*U*\\bar{\\rho(g)}^{-1 T}. Then U can be recovered from a common, for all the generators, eigenvector with eigenvalue 1, of these Kronecker products, such an eigenvector gives you an embedding into the full unitary group of the corresponding form - I don't recall off the top of my head whether it will be unique for the irreducible representation \\rho in positive characteristic.\n",
    "\n",
    "\"\"\";"
   ]
  },
  {
   "cell_type": "code",
   "execution_count": 112,
   "id": "394b4c5a-00f8-4217-927a-a897e21ef62d",
   "metadata": {},
   "outputs": [
    {
     "name": "stdout",
     "output_type": "stream",
     "text": [
      "Vector space of degree 4 and dimension 0 over Finite Field in z2 of size 3^2\n",
      "Basis matrix:\n",
      "[]\n"
     ]
    }
   ],
   "source": [
    "# Setup\n",
    "q = 3\n",
    "n = 3\n",
    "partition = [2, 1]\n",
    "\n",
    "# Define the group G and its representation as a Specht module\n",
    "SGA = SymmetricGroupAlgebra(GF(q^2), n)\n",
    "SM = SGA.specht_module(partition)\n",
    "G = SGA.group()\n",
    "\n",
    "# Get representation from Specht module\n",
    "rho = SM.representation_matrix\n",
    "d_rho = SM.dimension()\n",
    "\n",
    "# Initialize U as a matrix of variables over GF(q^2)\n",
    "R = PolynomialRing(GF(q^2), 'u', d_rho^2)\n",
    "U_vars = R.gens()  # List of variable generators for U\n",
    "U = Matrix(R, d_rho, d_rho, U_vars)  # U is a d_rho x d_rho matrix of variables\n",
    "\n",
    "#define conjugation as x |--> x**q, an order two automorphism of F_q^2. note x**q == x for x \\in F_q.\n",
    "def conjugate_pos_char(A):\n",
    "    assert A.nrows() == A.ncols()\n",
    "    field_size = A.base_ring().order()\n",
    "    q = sqrt(field_size) if field_size.is_square() else field_size\n",
    "    return matrix(GF(q**2),[[A[i][j]**q for i in range(A.nrows())] for j in range(A.nrows())])\n",
    "\n",
    "# for each generator of G, form the augmented system \n",
    "def augmented_matrix(g):\n",
    "\n",
    "    rho_g = rho(Permutation(g))\n",
    "    rho_g_conj_inv_T = conjugate_pos_char(rho_g.inverse().transpose())\n",
    "\n",
    "    # Compute lambda_g\n",
    "    det_rho_g = det(rho_g)\n",
    "    lambda_g = det_rho_g * (det_rho_g ** q)\n",
    "\n",
    "    # Form the matrix equation\n",
    "    equation_matrix = rho_g * U - lambda_g * U * rho_g_conj_inv_T\n",
    "\n",
    "    # Initialize a list to hold rows of the augmented system\n",
    "    augmented_system = []\n",
    "\n",
    "    # Extract coefficients for each linear equation in the matrix\n",
    "    for i in range(d_rho):\n",
    "        for j in range(d_rho):\n",
    "            # Get the (i, j) entry of the equation matrix, which is a linear combination of the u variables\n",
    "            linear_expression = equation_matrix[i, j]\n",
    "        \n",
    "            # Extract the coefficients of each u_k in the linear expression\n",
    "            row = [linear_expression.coefficient(u) for u in U_vars]\n",
    "        \n",
    "            # Append the row to the augmented system\n",
    "            augmented_system.append(row)\n",
    "\n",
    "    # Convert the augmented system to a matrix\n",
    "    A = Matrix(GF(q^2), augmented_system)\n",
    "\n",
    "    return A\n",
    "\n",
    "total_system = matrix(GF(q^2),0,d_rho^2)\n",
    "for g in G:\n",
    "    total_system = total_system.stack(augmented_matrix(g))\n",
    "\n",
    "null_space = total_system.right_kernel()\n",
    "\n",
    "print(null_space)"
   ]
  },
  {
   "cell_type": "code",
   "execution_count": 24,
   "id": "f23dcf5f-0942-44e2-a58c-19d7d1eeffde",
   "metadata": {},
   "outputs": [],
   "source": [
    "g = Permutation([3,2,1])"
   ]
  },
  {
   "cell_type": "code",
   "execution_count": 36,
   "id": "b9a23f24-4e30-48f9-97b9-fedf30ae9f25",
   "metadata": {},
   "outputs": [],
   "source": [
    "R = PolynomialRing(GF(q^2),d_rho*d_rho,'u')"
   ]
  },
  {
   "cell_type": "code",
   "execution_count": 65,
   "id": "f94d8387-5e46-4e77-8aa8-885669f696d7",
   "metadata": {},
   "outputs": [
    {
     "data": {
      "text/plain": [
       "(u0, u1, u2, u3)"
      ]
     },
     "execution_count": 65,
     "metadata": {},
     "output_type": "execute_result"
    }
   ],
   "source": [
    "# Get the generators\n",
    "U_vars = R.gens(); U_vars"
   ]
  },
  {
   "cell_type": "code",
   "execution_count": 42,
   "id": "c0db47f9-1e04-4174-a621-4cd2019ef2e5",
   "metadata": {},
   "outputs": [
    {
     "data": {
      "text/plain": [
       "0"
      ]
     },
     "execution_count": 42,
     "metadata": {},
     "output_type": "execute_result"
    }
   ],
   "source": [
    "int(str(R.gens()[0])[1])"
   ]
  },
  {
   "cell_type": "code",
   "execution_count": 66,
   "id": "d4c3e068-9b93-4f75-8b80-a9126880c278",
   "metadata": {},
   "outputs": [
    {
     "data": {
      "text/plain": [
       "[u0 u1]\n",
       "[u2 u3]"
      ]
     },
     "execution_count": 66,
     "metadata": {},
     "output_type": "execute_result"
    }
   ],
   "source": [
    "# Define the matrix U over the polynomial ring\n",
    "U = Matrix(R, d_rho, d_rho, [U_vars[i] for i in range(d_rho * d_rho)]); U"
   ]
  },
  {
   "cell_type": "code",
   "execution_count": 67,
   "id": "df61a84f-6209-4d8b-bdbd-513cdc892ec9",
   "metadata": {},
   "outputs": [],
   "source": [
    "det_rho_g = det(rho_g)  # This will be an element in GF(q)\n",
    "lambda_g = det_rho_g * (det_rho_g ** q)  # Correct conjugation operation"
   ]
  },
  {
   "cell_type": "code",
   "execution_count": 68,
   "id": "482e540d-4157-4498-884a-9f54f7b36634",
   "metadata": {},
   "outputs": [],
   "source": [
    "rho_g = rho(Permutation(g))\n",
    "rho_g_conj_inv_T = conjugate_pos_char(rho_g.inverse().transpose())"
   ]
  },
  {
   "cell_type": "code",
   "execution_count": 69,
   "id": "f34c8e86-f9a2-474b-acbb-80eba076fb3e",
   "metadata": {},
   "outputs": [],
   "source": [
    "equation_matrix = rho_g*U - lambda_g*U*rho_g_conj_inv_T"
   ]
  },
  {
   "cell_type": "code",
   "execution_count": 70,
   "id": "78eda1fa-1fd4-46f6-b0a7-68b657a35b30",
   "metadata": {},
   "outputs": [
    {
     "data": {
      "text/plain": [
       "[0, 1, 0, 0]"
      ]
     },
     "execution_count": 70,
     "metadata": {},
     "output_type": "execute_result"
    }
   ],
   "source": [
    "[equation_matrix[0][0].coefficient(u) for u in U_vars]"
   ]
  },
  {
   "cell_type": "code",
   "execution_count": 84,
   "id": "61923397-f8bf-4782-8713-d4b10f24f1b0",
   "metadata": {},
   "outputs": [
    {
     "data": {
      "text/plain": [
       "[0 0 0 0]\n",
       "[0 0 0 0]\n",
       "[0 0 0 0]\n",
       "[0 0 0 0]\n",
       "[0 6 1 0]\n",
       "[6 0 0 1]\n",
       "[1 0 0 6]\n",
       "[0 1 6 0]"
      ]
     },
     "execution_count": 84,
     "metadata": {},
     "output_type": "execute_result"
    }
   ],
   "source": [
    "augmented_matrix(G[0]).stack(augmented_matrix((G[1])))"
   ]
  },
  {
   "cell_type": "code",
   "execution_count": 97,
   "id": "4cc58d57-1780-4b9b-a57b-e2c2b40d126d",
   "metadata": {},
   "outputs": [
    {
     "data": {
      "text/plain": [
       "[]"
      ]
     },
     "execution_count": 97,
     "metadata": {},
     "output_type": "execute_result"
    }
   ],
   "source": [
    "total_system = matrix(GF(q^2),0,d_rho^2); total_system"
   ]
  },
  {
   "cell_type": "code",
   "execution_count": 98,
   "id": "84b4d1b4-e1f3-4dc1-aaec-d6006ee68d51",
   "metadata": {},
   "outputs": [
    {
     "data": {
      "text/plain": [
       "[0 0 0 0]\n",
       "[0 0 0 0]\n",
       "[0 0 0 0]\n",
       "[0 0 0 0]"
      ]
     },
     "execution_count": 98,
     "metadata": {},
     "output_type": "execute_result"
    }
   ],
   "source": [
    "total_system.stack(augmented_matrix(G[0]))"
   ]
  },
  {
   "cell_type": "code",
   "execution_count": 103,
   "id": "a18cf696-1128-40ac-b4d2-ba684b49a0f7",
   "metadata": {},
   "outputs": [],
   "source": [
    "for g in G:\n",
    "    total_system = total_system.stack(augmented_matrix(g))"
   ]
  },
  {
   "cell_type": "code",
   "execution_count": 104,
   "id": "5b10b166-d158-41c5-b55a-d5df97b4b0f4",
   "metadata": {},
   "outputs": [
    {
     "data": {
      "text/plain": [
       "48 x 4 dense matrix over Finite Field in z2 of size 7^2 (use the '.str()' method to see the entries)"
      ]
     },
     "execution_count": 104,
     "metadata": {},
     "output_type": "execute_result"
    }
   ],
   "source": [
    "total_system"
   ]
  },
  {
   "cell_type": "code",
   "execution_count": 106,
   "id": "01d1b5cc-99c5-4aad-bed3-1bd5861b1988",
   "metadata": {},
   "outputs": [
    {
     "data": {
      "text/plain": [
       "Vector space of degree 4 and dimension 0 over Finite Field in z2 of size 7^2\n",
       "Basis matrix:\n",
       "[]"
      ]
     },
     "execution_count": 106,
     "metadata": {},
     "output_type": "execute_result"
    }
   ],
   "source": [
    "null_space = total_system.right_kernel(); null_space"
   ]
  },
  {
   "cell_type": "code",
   "execution_count": null,
   "id": "dff0a19d-ab16-43ab-9573-f15f52e9738c",
   "metadata": {},
   "outputs": [],
   "source": []
  }
 ],
 "metadata": {
  "kernelspec": {
   "display_name": "SageMath 10.4",
   "language": "sage",
   "name": "sagemath-10.4"
  },
  "language_info": {
   "codemirror_mode": {
    "name": "ipython",
    "version": 3
   },
   "file_extension": ".py",
   "mimetype": "text/x-python",
   "name": "python",
   "nbconvert_exporter": "python",
   "pygments_lexer": "ipython3",
   "version": "3.12.4"
  }
 },
 "nbformat": 4,
 "nbformat_minor": 5
}
