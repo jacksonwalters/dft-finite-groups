{
 "cells": [
  {
   "cell_type": "code",
   "execution_count": 8,
   "id": "bd44d9da-c93c-43fe-bf59-68e001524118",
   "metadata": {},
   "outputs": [],
   "source": [
    "\"\"\"\n",
    "\n",
    "NOTE: the theorem (https://mathoverflow.net/questions/271932/formula-for-the-frobenius-schur-indicator-of-a-finite-group) only guarantees a bilinear form, not a sesqilinear form.\n",
    "\n",
    "\"\"\";"
   ]
  },
  {
   "cell_type": "code",
   "execution_count": 2,
   "id": "4b58ad68-1fd4-4bfc-8095-6f656896c16a",
   "metadata": {},
   "outputs": [],
   "source": [
    "#define conjugation as x |--> x**q, an order two automorphism of F_q^2. note x**q == x for x \\in F_q.\n",
    "def conjugate_pos_char(A):\n",
    "    assert A.nrows() == A.ncols()\n",
    "    field_size = A.base_ring().order()\n",
    "    q = sqrt(field_size) if field_size.is_square() else field_size\n",
    "    return matrix(GF(q**2),[[A[i][j]**q for j in range(A.nrows())] for i in range(A.nrows())])"
   ]
  },
  {
   "cell_type": "code",
   "execution_count": 42,
   "id": "394b4c5a-00f8-4217-927a-a897e21ef62d",
   "metadata": {},
   "outputs": [],
   "source": [
    "def invariant_symmetric_sesquilinear_matrix(q,partition):\n",
    "    \"\"\"\n",
    "    Computes the matrix of a S_n-invariant symmetric sesquilinear form.\n",
    "\n",
    "    Sets up and solves system of linear equations based on writing U as an unknown in polynomial ring generators. \n",
    "\n",
    "    The equations are \\rho(g)U = \\lambda_g*U*\\rho(g)^{-1 T} where \\lambda_g = \\det(\\rho(g))\\overline{\\det(\\rho(g))}^T.\n",
    "\n",
    "    The variables for U can be extracted to yield a matrix over GF(q^2) for each g. \n",
    "    \n",
    "    These are stacked to get the overall system, and we find the one dim'l null space to get a solution vector, and format as a matrix.\n",
    "\n",
    "    Note: one could also form the Kroenecker products \\rho(g) \\otimes \\rho(g)^{-1 T} to explicitly obtain the system.\n",
    "    \n",
    "    \"\"\"\n",
    "\n",
    "    # Define the group G and its rep'n as a Specht module, dimension\n",
    "    n = sum(partition)\n",
    "    SGA = SymmetricGroupAlgebra(GF(q^2), n)\n",
    "    SM = SGA.specht_module(partition)\n",
    "    G = SGA.group()\n",
    "    rho = SM.representation_matrix\n",
    "    d_rho = SM.dimension()\n",
    "    \n",
    "    # Initialize U as a matrix of variables over GF(q^2)\n",
    "    R = PolynomialRing(GF(q^2), 'u', d_rho^2)\n",
    "    U_vars = R.gens()  # List of variable generators for U\n",
    "    U = Matrix(R, d_rho, d_rho, U_vars)  # U is a d_rho x d_rho matrix of variables\n",
    "    \n",
    "    # for each generator of G, form the augmented system \n",
    "    def augmented_matrix(g):\n",
    "    \n",
    "        rho_g = rho(Permutation(g))\n",
    "        rho_g_conj_inv_T = conjugate_pos_char(rho_g.inverse().transpose())\n",
    "    \n",
    "        # Compute lambda_g\n",
    "        det_rho_g = det(rho_g)\n",
    "        lambda_g = det_rho_g * (det_rho_g ** q)\n",
    "    \n",
    "        # Form the matrix equation\n",
    "        equation_matrix = rho_g * U - lambda_g * U * rho_g_conj_inv_T\n",
    "    \n",
    "        # Initialize a list to hold rows of the augmented system\n",
    "        augmented_system = []\n",
    "    \n",
    "        # Extract coefficients for each linear equation in the matrix\n",
    "        for i in range(d_rho):\n",
    "            for j in range(d_rho):\n",
    "                # Get the (i, j) entry of the equation matrix, which is a linear combination of the u variables\n",
    "                linear_expression = equation_matrix[i, j]\n",
    "            \n",
    "                # Extract the coefficients of each u_k in the linear expression\n",
    "                row = [linear_expression.coefficient(u) for u in U_vars]\n",
    "            \n",
    "                # Append the row to the augmented system\n",
    "                augmented_system.append(row)\n",
    "    \n",
    "        # Convert the augmented system to a matrix\n",
    "        return Matrix(GF(q^2), augmented_system)\n",
    "    \n",
    "    total_system = matrix(GF(q^2),0,d_rho^2)\n",
    "    for g in G:\n",
    "        total_system = total_system.stack(augmented_matrix(g))\n",
    "    \n",
    "    #compute the null space of the overall matrix\n",
    "    null_space = total_system.right_kernel()\n",
    "    \n",
    "    #return a d_rho x d_rho matrix over GF(q^2) from the 1 dim'l null space given as vector\n",
    "    return matrix(GF(q^2),d_rho,d_rho,null_space.basis()[0])"
   ]
  },
  {
   "cell_type": "code",
   "execution_count": 11,
   "id": "a489d347-17e3-4548-b302-d49cd6173c88",
   "metadata": {},
   "outputs": [],
   "source": [
    "def sesquilinear_form(x,y,U):\n",
    "    return x*U*y.transpose()"
   ]
  },
  {
   "cell_type": "code",
   "execution_count": 117,
   "id": "5bb87874-ff97-4177-9d27-a2bec2118f3d",
   "metadata": {},
   "outputs": [],
   "source": [
    "#ensure the resulting form is G-invariant, symmetric, bi/sesquilinear\n",
    "def check_form_properties(q,partition):\n",
    "    #define the representation matrix corresponding to q, partition\n",
    "    SGA = SymmetricGroupAlgebra(GF(q^2),sum(partition))\n",
    "    SM = SGA.specht_module(partition)\n",
    "    rho = SM.representation_matrix\n",
    "    d_rho = SM.dimension()\n",
    "    G = SGA.group()\n",
    "\n",
    "    #define variables as polynomial generators\n",
    "    R_xy = PolynomialRing(GF(q^2), d_rho, var_array='x,y')\n",
    "    x = matrix([R_xy.gens()[2*i] for i in range(d_rho)])\n",
    "    y = matrix([R_xy.gens()[2*i+1] for i in range(d_rho)])\n",
    "    R_xy_lambda = PolynomialRing(R_xy,'lambda')\n",
    "    lambda_ = R_xy_lambda.gens()[0]\n",
    "\n",
    "    #compute the bilinear form matrix. cast over ring\n",
    "    U_mat = invariant_symmetric_sesquilinear_matrix(q,partition)\n",
    "    U_form = matrix(R_xy_lambda,U_mat); U_form\n",
    "    \n",
    "    #check symmetric property\n",
    "    symmetric = sesquilinear_form(x,y,U_form) == sesquilinear_form(y,x,U_form)\n",
    "    #check G-invariance property\n",
    "    G_invariant = all(sesquilinear_form((rho(g)*x.transpose()).transpose(),(rho(g)*y.transpose()).transpose(),U_form) == sesquilinear_form(x,y,U_form) for g in G)\n",
    "    #check sesquilinear property. ISSUE: lambda_^q is a power of the ring generator, i.e. doesn't simplify.\n",
    "    first_arg = sesquilinear_form(lambda_*x,y,U_form) == lambda_*sesquilinear_form(x,y,U_form)\n",
    "    second_arg = sesquilinear_form(x,lambda_*y,U_form) == lambda_*sesquilinear_form(x,y,U_form) #need to amend for conjugation\n",
    "\n",
    "    return symmetric and G_invariant and first_arg and second_arg"
   ]
  },
  {
   "cell_type": "code",
   "execution_count": 122,
   "id": "016c3695-1c1e-454d-9f31-1d64a7809d99",
   "metadata": {},
   "outputs": [
    {
     "data": {
      "text/plain": [
       "[(3, [3], True), (3, [2, 1], True), (3, [1, 1, 1], True)]"
      ]
     },
     "execution_count": 122,
     "metadata": {},
     "output_type": "execute_result"
    }
   ],
   "source": [
    "[(q,la,check_form_properties(2,la)) for la in Partitions(3)]"
   ]
  },
  {
   "cell_type": "code",
   "execution_count": 123,
   "id": "00cbb142-e418-4518-9995-ef9e1d0206b8",
   "metadata": {},
   "outputs": [
    {
     "data": {
      "text/plain": [
       "[(3, [4], True),\n",
       " (3, [3, 1], False),\n",
       " (3, [2, 2], True),\n",
       " (3, [2, 1, 1], False),\n",
       " (3, [1, 1, 1, 1], True)]"
      ]
     },
     "execution_count": 123,
     "metadata": {},
     "output_type": "execute_result"
    }
   ],
   "source": [
    "[(q,la,check_form_properties(2,la)) for la in Partitions(4)]"
   ]
  },
  {
   "cell_type": "code",
   "execution_count": 124,
   "id": "8cacd9cf-1987-4b5d-9c60-8e1dd4c5cec4",
   "metadata": {},
   "outputs": [
    {
     "data": {
      "text/plain": [
       "[(3, [5], True),\n",
       " (3, [4, 1], True),\n",
       " (3, [3, 2], False),\n",
       " (3, [3, 1, 1], True),\n",
       " (3, [2, 2, 1], False),\n",
       " (3, [2, 1, 1, 1], True),\n",
       " (3, [1, 1, 1, 1, 1], True)]"
      ]
     },
     "execution_count": 124,
     "metadata": {},
     "output_type": "execute_result"
    }
   ],
   "source": [
    "[(q,la,check_form_properties(2,la)) for la in Partitions(5)]"
   ]
  },
  {
   "cell_type": "code",
   "execution_count": 118,
   "id": "ca5aef4f-9b79-458e-9588-8a5a8a8bc549",
   "metadata": {},
   "outputs": [
    {
     "data": {
      "text/plain": [
       "[(3, [3], True), (3, [2, 1], False), (3, [1, 1, 1], True)]"
      ]
     },
     "execution_count": 118,
     "metadata": {},
     "output_type": "execute_result"
    }
   ],
   "source": [
    "[(q,la,check_form_properties(3,la)) for la in Partitions(3)]"
   ]
  },
  {
   "cell_type": "code",
   "execution_count": 119,
   "id": "2b3cd7ed-7624-45b7-9a96-627867ce8097",
   "metadata": {},
   "outputs": [
    {
     "data": {
      "text/plain": [
       "[(3, [4], True),\n",
       " (3, [3, 1], False),\n",
       " (3, [2, 2], False),\n",
       " (3, [2, 1, 1], False),\n",
       " (3, [1, 1, 1, 1], True)]"
      ]
     },
     "execution_count": 119,
     "metadata": {},
     "output_type": "execute_result"
    }
   ],
   "source": [
    "[(q,la,check_form_properties(3,la)) for la in Partitions(4)]"
   ]
  },
  {
   "cell_type": "code",
   "execution_count": 121,
   "id": "98106056-92d5-479d-b89b-1e7c3ca00dc8",
   "metadata": {},
   "outputs": [
    {
     "data": {
      "text/plain": [
       "[(3, [5], True),\n",
       " (3, [4, 1], True),\n",
       " (3, [3, 2], False),\n",
       " (3, [3, 1, 1], True),\n",
       " (3, [2, 2, 1], False),\n",
       " (3, [2, 1, 1, 1], True),\n",
       " (3, [1, 1, 1, 1, 1], True)]"
      ]
     },
     "execution_count": 121,
     "metadata": {},
     "output_type": "execute_result"
    }
   ],
   "source": [
    "[(q,la,check_form_properties(3,la)) for la in Partitions(5)]"
   ]
  },
  {
   "cell_type": "code",
   "execution_count": null,
   "id": "e183d1fd-0d61-41d0-b489-726f76ec808a",
   "metadata": {},
   "outputs": [],
   "source": []
  }
 ],
 "metadata": {
  "kernelspec": {
   "display_name": "SageMath 10.4",
   "language": "sage",
   "name": "sagemath-10.4"
  },
  "language_info": {
   "codemirror_mode": {
    "name": "ipython",
    "version": 3
   },
   "file_extension": ".py",
   "mimetype": "text/x-python",
   "name": "python",
   "nbconvert_exporter": "python",
   "pygments_lexer": "ipython3",
   "version": "3.12.4"
  }
 },
 "nbformat": 4,
 "nbformat_minor": 5
}
