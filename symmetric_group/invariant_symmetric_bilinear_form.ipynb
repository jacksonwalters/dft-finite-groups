{
 "cells": [
  {
   "cell_type": "code",
   "execution_count": 7,
   "id": "bd44d9da-c93c-43fe-bf59-68e001524118",
   "metadata": {},
   "outputs": [],
   "source": [
    "\"\"\"\n",
    "\n",
    "From Dima Pasechnik:\n",
    "\n",
    "An obvious way to find invariant forms is by linear algebra in the representation \\rho(g). Take a matrix of unknowns U, and for each generator g in G, write \\rho(g)U = \\lambda_g*U*\\rho(g)^{-1 T}, where \\lambda_g = \\det(\\rho(g))\\bar{\\det(\\rho(g))}^T. In the solution space pick a nonzero element.\n",
    "\n",
    "EDIT: nontrivial \\lambda_g arise when one has sesquilinear forms (corrected above). Also note that a convenient way to form the system of equations is to take the Kroneck products \\rho(g)U \\otimes \\lambda_g*U*\\bar{\\rho(g)}^{-1 T}. Then U can be recovered from a common, for all the generators, eigenvector with eigenvalue 1, of these Kronecker products, such an eigenvector gives you an embedding into the full unitary group of the corresponding form - I don't recall off the top of my head whether it will be unique for the irreducible representation \\rho in positive characteristic.\n",
    "\n",
    "\"\"\";"
   ]
  },
  {
   "cell_type": "code",
   "execution_count": 102,
   "id": "394b4c5a-00f8-4217-927a-a897e21ef62d",
   "metadata": {},
   "outputs": [
    {
     "name": "stdout",
     "output_type": "stream",
     "text": [
      "Vector space of degree 36 and dimension 1 over Finite Field in z2 of size 3^2\n",
      "Basis matrix:\n",
      "[0 1 2 1 2 0 1 0 1 1 0 2 2 1 0 0 1 2 1 1 0 0 1 1 2 0 1 1 0 1 0 2 2 1 1 0]\n"
     ]
    },
    {
     "data": {
      "text/plain": [
       "[0 1 2 1 2 0]\n",
       "[1 0 1 1 0 2]\n",
       "[2 1 0 0 1 2]\n",
       "[1 1 0 0 1 1]\n",
       "[2 0 1 1 0 1]\n",
       "[0 2 2 1 1 0]"
      ]
     },
     "execution_count": 102,
     "metadata": {},
     "output_type": "execute_result"
    }
   ],
   "source": [
    "# Setup\n",
    "q = 3\n",
    "n = 5\n",
    "partition = [3, 1, 1]\n",
    "\n",
    "# Define the group G and its representation as a Specht module\n",
    "SGA = SymmetricGroupAlgebra(GF(q^2), n)\n",
    "SM = SGA.specht_module(partition)\n",
    "G = SGA.group()\n",
    "\n",
    "# Get representation from Specht module\n",
    "rho = SM.representation_matrix\n",
    "d_rho = SM.dimension()\n",
    "\n",
    "# Initialize U as a matrix of variables over GF(q^2)\n",
    "R = PolynomialRing(GF(q^2), 'u', d_rho^2)\n",
    "U_vars = R.gens()  # List of variable generators for U\n",
    "U = Matrix(R, d_rho, d_rho, U_vars)  # U is a d_rho x d_rho matrix of variables\n",
    "\n",
    "#define conjugation as x |--> x**q, an order two automorphism of F_q^2. note x**q == x for x \\in F_q.\n",
    "def conjugate_pos_char(A):\n",
    "    assert A.nrows() == A.ncols()\n",
    "    field_size = A.base_ring().order()\n",
    "    q = sqrt(field_size) if field_size.is_square() else field_size\n",
    "    return matrix(GF(q**2),[[A[i][j]**q for j in range(A.nrows())] for i in range(A.nrows())])\n",
    "\n",
    "# for each generator of G, form the augmented system \n",
    "def augmented_matrix(g):\n",
    "\n",
    "    rho_g = rho(Permutation(g))\n",
    "    rho_g_conj_inv_T = conjugate_pos_char(rho_g.inverse().transpose())\n",
    "\n",
    "    # Compute lambda_g\n",
    "    det_rho_g = det(rho_g)\n",
    "    lambda_g = det_rho_g * (det_rho_g ** q)\n",
    "\n",
    "    # Form the matrix equation\n",
    "    equation_matrix = rho_g * U - lambda_g * U * rho_g_conj_inv_T\n",
    "\n",
    "    # Initialize a list to hold rows of the augmented system\n",
    "    augmented_system = []\n",
    "\n",
    "    # Extract coefficients for each linear equation in the matrix\n",
    "    for i in range(d_rho):\n",
    "        for j in range(d_rho):\n",
    "            # Get the (i, j) entry of the equation matrix, which is a linear combination of the u variables\n",
    "            linear_expression = equation_matrix[i, j]\n",
    "        \n",
    "            # Extract the coefficients of each u_k in the linear expression\n",
    "            row = [linear_expression.coefficient(u) for u in U_vars]\n",
    "        \n",
    "            # Append the row to the augmented system\n",
    "            augmented_system.append(row)\n",
    "\n",
    "    # Convert the augmented system to a matrix\n",
    "    A = Matrix(GF(q^2), augmented_system)\n",
    "\n",
    "    return A\n",
    "\n",
    "total_system = matrix(GF(q^2),0,d_rho^2)\n",
    "for g in G:\n",
    "    total_system = total_system.stack(augmented_matrix(g))\n",
    "\n",
    "null_space = total_system.right_kernel()\n",
    "\n",
    "print(null_space)\n",
    "\n",
    "U_mat = matrix(GF(q^2),d_rho,d_rho,null_space.basis()[0]); U_mat"
   ]
  },
  {
   "cell_type": "code",
   "execution_count": 103,
   "id": "dff0a19d-ab16-43ab-9573-f15f52e9738c",
   "metadata": {},
   "outputs": [],
   "source": [
    "def sesquilinear_form(x,y,U):\n",
    "    return x*U*y.transpose()"
   ]
  },
  {
   "cell_type": "code",
   "execution_count": 104,
   "id": "4ec062a4-6797-4a12-9996-02541f0df975",
   "metadata": {},
   "outputs": [],
   "source": [
    "R_xy = PolynomialRing(GF(q^2), d_rho, var_array='x,y')"
   ]
  },
  {
   "cell_type": "code",
   "execution_count": 105,
   "id": "f9859bbc-3f6a-4bb4-86fa-b7505982ade3",
   "metadata": {},
   "outputs": [
    {
     "data": {
      "text/plain": [
       "[x0 x1 x2 x3 x4 x5]"
      ]
     },
     "execution_count": 105,
     "metadata": {},
     "output_type": "execute_result"
    }
   ],
   "source": [
    "x = matrix([R_xy.gens()[2*i] for i in range(d_rho)]); x"
   ]
  },
  {
   "cell_type": "code",
   "execution_count": 108,
   "id": "cf0b39c1-bf04-4eda-8ee8-b883e278f5aa",
   "metadata": {},
   "outputs": [
    {
     "data": {
      "text/plain": [
       "[y0 y1 y2 y3 y4 y5]"
      ]
     },
     "execution_count": 108,
     "metadata": {},
     "output_type": "execute_result"
    }
   ],
   "source": [
    "y = matrix([R_xy.gens()[2*i+1] for i in range(d_rho)]); y"
   ]
  },
  {
   "cell_type": "code",
   "execution_count": 109,
   "id": "44873bfe-c686-40e2-b4a6-6bcda24ef104",
   "metadata": {},
   "outputs": [
    {
     "data": {
      "text/plain": [
       "[ 0  1 -1  1 -1  0]\n",
       "[ 1  0  1  1  0 -1]\n",
       "[-1  1  0  0  1 -1]\n",
       "[ 1  1  0  0  1  1]\n",
       "[-1  0  1  1  0  1]\n",
       "[ 0 -1 -1  1  1  0]"
      ]
     },
     "execution_count": 109,
     "metadata": {},
     "output_type": "execute_result"
    }
   ],
   "source": [
    "U_form = matrix(R_xy,d_rho,d_rho,null_space.basis()[0]); U_form"
   ]
  },
  {
   "cell_type": "code",
   "execution_count": 110,
   "id": "2b3cd7ed-7624-45b7-9a96-627867ce8097",
   "metadata": {},
   "outputs": [
    {
     "data": {
      "text/plain": [
       "True"
      ]
     },
     "execution_count": 110,
     "metadata": {},
     "output_type": "execute_result"
    }
   ],
   "source": [
    "#check symmetric property\n",
    "sesquilinear_form(x,y,U_form) == sesquilinear_form(y,x,U_form)"
   ]
  },
  {
   "cell_type": "code",
   "execution_count": 115,
   "id": "9ddfb993-adf3-456d-a9ea-e5a12bda0696",
   "metadata": {},
   "outputs": [
    {
     "data": {
      "text/plain": [
       "True"
      ]
     },
     "execution_count": 115,
     "metadata": {},
     "output_type": "execute_result"
    }
   ],
   "source": [
    "#check invariance property\n",
    "sesquilinear_form((rho(G[8])*x.transpose()).transpose(),(rho(G[8])*y.transpose()).transpose(),U_form) == sesquilinear_form(x,y,U_form)"
   ]
  }
 ],
 "metadata": {
  "kernelspec": {
   "display_name": "SageMath 10.4",
   "language": "sage",
   "name": "sagemath-10.4"
  },
  "language_info": {
   "codemirror_mode": {
    "name": "ipython",
    "version": 3
   },
   "file_extension": ".py",
   "mimetype": "text/x-python",
   "name": "python",
   "nbconvert_exporter": "python",
   "pygments_lexer": "ipython3",
   "version": "3.12.4"
  }
 },
 "nbformat": 4,
 "nbformat_minor": 5
}
