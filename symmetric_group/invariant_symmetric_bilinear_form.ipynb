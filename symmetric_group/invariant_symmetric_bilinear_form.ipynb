{
 "cells": [
  {
   "cell_type": "code",
   "execution_count": 7,
   "id": "bd44d9da-c93c-43fe-bf59-68e001524118",
   "metadata": {},
   "outputs": [],
   "source": [
    "\"\"\"\n",
    "\n",
    "From Dima Pasechnik:\n",
    "\n",
    "An obvious way to find invariant forms is by linear algebra in the representation \\rho(g). Take a matrix of unknowns U, and for each generator g in G, write \\rho(g)U = \\lambda_g*U*\\rho(g)^{-1 T}, where \\lambda_g = \\det(\\rho(g))\\bar{\\det(\\rho(g))}^T. In the solution space pick a nonzero element.\n",
    "\n",
    "EDIT: nontrivial \\lambda_g arise when one has sesquilinear forms (corrected above). Also note that a convenient way to form the system of equations is to take the Kroneck products \\rho(g)U \\otimes \\lambda_g*U*\\bar{\\rho(g)}^{-1 T}. Then U can be recovered from a common, for all the generators, eigenvector with eigenvalue 1, of these Kronecker products, such an eigenvector gives you an embedding into the full unitary group of the corresponding form - I don't recall off the top of my head whether it will be unique for the irreducible representation \\rho in positive characteristic.\n",
    "\n",
    "\"\"\";"
   ]
  },
  {
   "cell_type": "code",
   "execution_count": 10,
   "id": "394b4c5a-00f8-4217-927a-a897e21ef62d",
   "metadata": {},
   "outputs": [
    {
     "name": "stdout",
     "output_type": "stream",
     "text": [
      "Vector space of degree 36 and dimension 1 over Finite Field in z2 of size 3^2\n",
      "Basis matrix:\n",
      "[0 1 2 1 2 0 1 0 1 1 0 2 2 1 0 0 1 2 1 1 0 0 1 1 2 0 1 1 0 1 0 2 2 1 1 0]\n"
     ]
    },
    {
     "data": {
      "text/plain": [
       "[0 1 2 1 2 0]\n",
       "[1 0 1 1 0 2]\n",
       "[2 1 0 0 1 2]\n",
       "[1 1 0 0 1 1]\n",
       "[2 0 1 1 0 1]\n",
       "[0 2 2 1 1 0]"
      ]
     },
     "execution_count": 10,
     "metadata": {},
     "output_type": "execute_result"
    }
   ],
   "source": [
    "# Setup\n",
    "q = 3\n",
    "n = 5\n",
    "partition = [3, 1, 1]\n",
    "\n",
    "# Define the group G and its representation as a Specht module\n",
    "SGA = SymmetricGroupAlgebra(GF(q^2), n)\n",
    "SM = SGA.specht_module(partition)\n",
    "G = SGA.group()\n",
    "\n",
    "# Get representation from Specht module\n",
    "rho = SM.representation_matrix\n",
    "d_rho = SM.dimension()\n",
    "\n",
    "# Initialize U as a matrix of variables over GF(q^2)\n",
    "R = PolynomialRing(GF(q^2), 'u', d_rho^2)\n",
    "U_vars = R.gens()  # List of variable generators for U\n",
    "U = Matrix(R, d_rho, d_rho, U_vars)  # U is a d_rho x d_rho matrix of variables\n",
    "\n",
    "#define conjugation as x |--> x**q, an order two automorphism of F_q^2. note x**q == x for x \\in F_q.\n",
    "def conjugate_pos_char(A):\n",
    "    assert A.nrows() == A.ncols()\n",
    "    field_size = A.base_ring().order()\n",
    "    q = sqrt(field_size) if field_size.is_square() else field_size\n",
    "    return matrix(GF(q**2),[[A[i][j]**q for j in range(A.nrows())] for i in range(A.nrows())])\n",
    "\n",
    "# for each generator of G, form the augmented system \n",
    "def augmented_matrix(g):\n",
    "\n",
    "    rho_g = rho(Permutation(g))\n",
    "    rho_g_conj_inv_T = conjugate_pos_char(rho_g.inverse().transpose())\n",
    "\n",
    "    # Compute lambda_g\n",
    "    det_rho_g = det(rho_g)\n",
    "    lambda_g = det_rho_g * (det_rho_g ** q)\n",
    "\n",
    "    # Form the matrix equation\n",
    "    equation_matrix = rho_g * U - lambda_g * U * rho_g_conj_inv_T\n",
    "\n",
    "    # Initialize a list to hold rows of the augmented system\n",
    "    augmented_system = []\n",
    "\n",
    "    # Extract coefficients for each linear equation in the matrix\n",
    "    for i in range(d_rho):\n",
    "        for j in range(d_rho):\n",
    "            # Get the (i, j) entry of the equation matrix, which is a linear combination of the u variables\n",
    "            linear_expression = equation_matrix[i, j]\n",
    "        \n",
    "            # Extract the coefficients of each u_k in the linear expression\n",
    "            row = [linear_expression.coefficient(u) for u in U_vars]\n",
    "        \n",
    "            # Append the row to the augmented system\n",
    "            augmented_system.append(row)\n",
    "\n",
    "    # Convert the augmented system to a matrix\n",
    "    A = Matrix(GF(q^2), augmented_system)\n",
    "\n",
    "    return A\n",
    "\n",
    "total_system = matrix(GF(q^2),0,d_rho^2)\n",
    "for g in G:\n",
    "    total_system = total_system.stack(augmented_matrix(g))\n",
    "\n",
    "null_space = total_system.right_kernel()\n",
    "\n",
    "print(null_space)\n",
    "\n",
    "U_form = matrix(GF(q^2),d_rho,d_rho,null_space.basis()[0]); U_form"
   ]
  },
  {
   "cell_type": "code",
   "execution_count": null,
   "id": "dff0a19d-ab16-43ab-9573-f15f52e9738c",
   "metadata": {},
   "outputs": [],
   "source": []
  }
 ],
 "metadata": {
  "kernelspec": {
   "display_name": "SageMath 10.4",
   "language": "sage",
   "name": "sagemath-10.4"
  },
  "language_info": {
   "codemirror_mode": {
    "name": "ipython",
    "version": 3
   },
   "file_extension": ".py",
   "mimetype": "text/x-python",
   "name": "python",
   "nbconvert_exporter": "python",
   "pygments_lexer": "ipython3",
   "version": "3.12.4"
  }
 },
 "nbformat": 4,
 "nbformat_minor": 5
}
