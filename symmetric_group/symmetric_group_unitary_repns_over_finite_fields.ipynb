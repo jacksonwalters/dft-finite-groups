{
 "cells": [
  {
   "cell_type": "code",
   "execution_count": 50,
   "id": "bd44d9da-c93c-43fe-bf59-68e001524118",
   "metadata": {},
   "outputs": [],
   "source": [
    "\"\"\"\n",
    "\n",
    "LINKS:\n",
    "\n",
    "- https://github.com/sagemath/sage/issues/38456\n",
    "- https://mathoverflow.net/questions/271932/formula-for-the-frobenius-schur-indicator-of-a-finite-group\n",
    "- https://math.stackexchange.com/questions/832173/structure-of-g-invariant-bilinear-forms-over-finite-fields\n",
    "\n",
    "\"\"\";"
   ]
  },
  {
   "cell_type": "code",
   "execution_count": 1,
   "id": "8dbfa7ac-62d0-4ea0-a6fe-8276e0b2db9b",
   "metadata": {},
   "outputs": [],
   "source": [
    "\"\"\"\n",
    "NOTES:\n",
    "\n",
    "For a unitary change-of-basis for a rep'n \\rho of S_n over finite fields, we need:\n",
    "\n",
    "1) find a S_n-invariant symmetric bilinear form w/ associated matrix U\n",
    "2) factor U = AA^*, where * denotes conjugate-transpose w.r.t. x |--> x^q conjugation\n",
    "\n",
    "1 sol'n) let U be unknown in variables over a polynomial ring over GF(q^2). use linear algebra to solve \\rho(g)^T U \\rho(g) == U\n",
    "2 sol'n) use the GAP `forms` package BaseChangeToCanonical method to find the matrix factorization U = AA^* over F_{q^2}.\n",
    "\n",
    "Then \\tilde{\\rho}(g) = A^*\\rho(g)A^*.inverse() is unitary for all g \\in G.\n",
    "\n",
    "\"\"\";"
   ]
  },
  {
   "cell_type": "code",
   "execution_count": 5,
   "id": "4b58ad68-1fd4-4bfc-8095-6f656896c16a",
   "metadata": {},
   "outputs": [],
   "source": [
    "#define conjugation as x |--> x**q, an order two automorphism of F_q^2. note x**q == x for x \\in F_q.\n",
    "def conjugate_pos_char(A):\n",
    "    assert A.nrows() == A.ncols()\n",
    "    field_size = A.base_ring().order()\n",
    "    q = sqrt(field_size) if field_size.is_square() else field_size\n",
    "    return matrix(GF(q**2),[[A[i][j]**q for j in range(A.nrows())] for i in range(A.nrows())])"
   ]
  },
  {
   "cell_type": "code",
   "execution_count": 1,
   "id": "394b4c5a-00f8-4217-927a-a897e21ef62d",
   "metadata": {},
   "outputs": [],
   "source": [
    "def invariant_symmetric_sesquilinear_matrix(q,partition):\n",
    "    \"\"\"\n",
    "    Computes the matrix of a S_n-invariant symmetric sesquilinear form.\n",
    "\n",
    "    Sets up and solves system of linear equations based on writing U as an unknown in polynomial ring generators. \n",
    "\n",
    "    The equations are \\rho(g)^T*U*\\overline{\\rho(g)} = \\lambda_g*U where \\lambda_g = \\det(\\rho(g))\\overline{\\det(\\rho(g))}.\n",
    "\n",
    "    The variables for U can be extracted to yield a matrix over GF(q^2) for each g.\n",
    "    \n",
    "    These are stacked to get the overall system, and we find the one dim'l null space to get a solution vector, and format as a matrix.\n",
    "\n",
    "    Note: one could also form the Kroenecker products \\rho(g) \\otimes \\rho(g)^{-1 T} to explicitly obtain the system.\n",
    "    \n",
    "    \"\"\"\n",
    "\n",
    "    # Define the group G and its rep'n as a Specht module, dimension\n",
    "    n = sum(partition)\n",
    "    SGA = SymmetricGroupAlgebra(GF(q^2), n)\n",
    "    SM = SGA.specht_module(partition)\n",
    "    G = SGA.group()\n",
    "    rho = SM.representation_matrix\n",
    "    d_rho = SM.dimension()\n",
    "    \n",
    "    # Initialize U as a matrix of variables over GF(q^2)\n",
    "    R = PolynomialRing(GF(q^2), 'u', d_rho^2)\n",
    "    U_vars = R.gens()  # List of variable generators for U\n",
    "    U = Matrix(R, d_rho, d_rho, U_vars)  # U is a d_rho x d_rho matrix of variables\n",
    "    \n",
    "    # for each generator of G, form the augmented system \n",
    "    def augmented_matrix(g):\n",
    "\n",
    "        #compute \\rho(g), transpose, conjugate\n",
    "        rho_g = rho(Permutation(g))\n",
    "        rho_g_T = rho_g.transpose()\n",
    "        rho_g_conj = conjugate_pos_char(rho_g)\n",
    "    \n",
    "        # Compute lambda_g\n",
    "        det_rho_g = det(rho_g)\n",
    "        lambda_g = det_rho_g * (det_rho_g ** q)\n",
    "    \n",
    "        # Form the matrix equation \\rho(g)^T*U*\\overline{\\rho(g)} = \\lambda_g * U\n",
    "        equation_matrix = rho_g_T*U*rho_g_conj - lambda_g * U\n",
    "    \n",
    "        # Initialize a list to hold rows of the augmented system\n",
    "        augmented_system = []\n",
    "    \n",
    "        # Extract coefficients for each linear equation in the matrix\n",
    "        for i in range(d_rho):\n",
    "            for j in range(d_rho):\n",
    "                # Get the (i, j) entry of the equation matrix, which is a linear combination of the u variables\n",
    "                linear_expression = equation_matrix[i, j]\n",
    "            \n",
    "                # Extract the coefficients of each u_k in the linear expression\n",
    "                row = [linear_expression.coefficient(u) for u in U_vars]\n",
    "            \n",
    "                # Append the row to the augmented system\n",
    "                augmented_system.append(row)\n",
    "    \n",
    "        # Convert the augmented system to a matrix\n",
    "        return Matrix(GF(q^2), augmented_system)\n",
    "\n",
    "    #stack linear systems for each g in G\n",
    "    total_system = matrix(GF(q^2),0,d_rho^2)\n",
    "    for g in G:\n",
    "        total_system = total_system.stack(augmented_matrix(g))\n",
    "    \n",
    "    #compute the null space of the overall matrix\n",
    "    null_space = total_system.right_kernel()\n",
    "    \n",
    "    #return a d_rho x d_rho matrix over GF(q^2) from the 1 dim'l null space given as vector\n",
    "    U_mats = [matrix(GF(q^2),d_rho,d_rho,b) for b in null_space.basis()]\n",
    "\n",
    "    #verify that a solution to the linear system satisfies the G-invariance property\n",
    "    assert all(rho(g).transpose()*U_mats[0]*conjugate_pos_char(rho(g)) == U_mats[0] for g in G)\n",
    "    \n",
    "    return U_mats"
   ]
  },
  {
   "cell_type": "code",
   "execution_count": 2,
   "id": "a489d347-17e3-4548-b302-d49cd6173c88",
   "metadata": {},
   "outputs": [],
   "source": [
    "#define a general bi/sesquilinear form with the matrix U\n",
    "def sesquilinear_form(x,y,U):\n",
    "    return x.transpose()*U*y"
   ]
  },
  {
   "cell_type": "code",
   "execution_count": 3,
   "id": "5bb87874-ff97-4177-9d27-a2bec2118f3d",
   "metadata": {},
   "outputs": [],
   "source": [
    "#ensure the resulting form is G-invariant, symmetric, bi/sesquilinear by symbolic verification\n",
    "def check_form_properties(q,partition):\n",
    "    #define the representation matrix corresponding to q, partition\n",
    "    SGA = SymmetricGroupAlgebra(GF(q^2),sum(partition))\n",
    "    SM = SGA.specht_module(partition)\n",
    "    rho = SM.representation_matrix\n",
    "    d_rho = SM.dimension()\n",
    "    G = SGA.group()\n",
    "\n",
    "    #define variables as polynomial generators\n",
    "    R_xy = PolynomialRing(GF(q^2), d_rho, var_array='x,y')\n",
    "    x = matrix([R_xy.gens()[2*i] for i in range(d_rho)]).transpose()\n",
    "    y = matrix([R_xy.gens()[2*i+1] for i in range(d_rho)]).transpose()\n",
    "    R_xy_lambda = PolynomialRing(R_xy,'lambda')\n",
    "    lambda_ = R_xy_lambda.gens()[0]\n",
    "\n",
    "    #compute the bilinear form matrix. coerce over polynomial ring\n",
    "    U_mats = invariant_symmetric_sesquilinear_matrix(q,partition)\n",
    "    U_mat = U_mats[0]\n",
    "    if len(U_mats) > 1:\n",
    "        print(\"Space of G-invariant symmetric bilinear forms has dimension > 1 for la=\",partition)\n",
    "        print(\"Dimension of space=\",len(U_mats))\n",
    "    U_form = matrix(R_xy_lambda,U_mat)\n",
    "    \n",
    "    #check symmetric property\n",
    "    symmetric = sesquilinear_form(x,y,U_form) == sesquilinear_form(y,x,U_form)\n",
    "    \n",
    "    #check G-invariance property\n",
    "    G_invariant = all(sesquilinear_form(rho(g)*x,rho(g)*y,U_form) == sesquilinear_form(x,y,U_form) for g in G)\n",
    "    \n",
    "    #check sesquilinear property. ISSUE: lambda_^q is a power of the ring generator, i.e. doesn't simplify.\n",
    "    first_arg = sesquilinear_form(lambda_*x,y,U_form) == lambda_*sesquilinear_form(x,y,U_form)\n",
    "    second_arg = sesquilinear_form(x,lambda_*y,U_form) == lambda_*sesquilinear_form(x,y,U_form) #need to amend for conjugation\n",
    "    bilinear = first_arg and second_arg\n",
    "\n",
    "    return symmetric and G_invariant and bilinear"
   ]
  },
  {
   "cell_type": "code",
   "execution_count": 6,
   "id": "016c3695-1c1e-454d-9f31-1d64a7809d99",
   "metadata": {},
   "outputs": [
    {
     "name": "stdout",
     "output_type": "stream",
     "text": [
      "p=2\n",
      "[([3], True), ([2, 1], True), ([1, 1, 1], True)]\n",
      "[([4], True), ([3, 1], True), ([2, 2], True), ([2, 1, 1], True), ([1, 1, 1, 1], True)]\n",
      "Space of G-invariant symmetric bilinear forms has dimension > 1 for la= [3, 1, 1]\n",
      "Dimension of space= 2\n",
      "[([5], True), ([4, 1], True), ([3, 2], True), ([3, 1, 1], True), ([2, 2, 1], True), ([2, 1, 1, 1], True), ([1, 1, 1, 1, 1], True)]\n",
      "---------\n",
      "p=3\n",
      "[([3], True), ([2, 1], True), ([1, 1, 1], True)]\n",
      "[([4], True), ([3, 1], True), ([2, 2], True), ([2, 1, 1], True), ([1, 1, 1, 1], True)]\n",
      "[([5], True), ([4, 1], True), ([3, 2], True), ([3, 1, 1], True), ([2, 2, 1], True), ([2, 1, 1, 1], True), ([1, 1, 1, 1, 1], True)]\n",
      "---------\n",
      "p=5\n",
      "[([3], True), ([2, 1], True), ([1, 1, 1], True)]\n",
      "[([4], True), ([3, 1], True), ([2, 2], True), ([2, 1, 1], True), ([1, 1, 1, 1], True)]\n",
      "[([5], True), ([4, 1], True), ([3, 2], True), ([3, 1, 1], True), ([2, 2, 1], True), ([2, 1, 1, 1], True), ([1, 1, 1, 1, 1], True)]\n",
      "---------\n"
     ]
    }
   ],
   "source": [
    "#print the checks for pairs (p,la) where p is a prime and la is a partition of n\n",
    "for p in Primes()[:3]:\n",
    "    print(f\"p={p}\")\n",
    "    for n in range(3,6):\n",
    "        print([(la,check_form_properties(p,la)) for la in Partitions(n)])\n",
    "    print(\"---------\")"
   ]
  },
  {
   "cell_type": "code",
   "execution_count": 7,
   "id": "764a5605-d6a6-4428-8244-1e39a3d0eec3",
   "metadata": {},
   "outputs": [
    {
     "data": {
      "text/plain": [
       "[\n",
       "[1 1 1 1 1 0]  [0 0 0 0 0 1]\n",
       "[1 1 1 1 0 1]  [0 0 0 0 1 0]\n",
       "[1 1 1 0 1 1]  [0 0 0 1 0 0]\n",
       "[1 1 0 1 1 1]  [0 0 1 0 0 0]\n",
       "[1 0 1 1 1 1]  [0 1 0 0 0 0]\n",
       "[0 1 1 1 1 1], [1 0 0 0 0 0]\n",
       "]"
      ]
     },
     "execution_count": 7,
     "metadata": {},
     "output_type": "execute_result"
    }
   ],
   "source": [
    "#NOTE: for q=2, la=[3,1,1] we get a two dim'l space\n",
    "invariant_symmetric_sesquilinear_matrix(2,[3,1,1])"
   ]
  },
  {
   "cell_type": "code",
   "execution_count": 8,
   "id": "67f6033f-8e09-4307-8a8b-7221667f62ee",
   "metadata": {},
   "outputs": [
    {
     "data": {
      "text/plain": [
       "[1 3 3]\n",
       "[3 1 3]\n",
       "[3 3 1]"
      ]
     },
     "execution_count": 8,
     "metadata": {},
     "output_type": "execute_result"
    }
   ],
   "source": [
    "#the G-invariant, symmetric, bilinear form is not the standard form. needs a different basis\n",
    "U_mat = invariant_symmetric_sesquilinear_matrix(5,[3,1])[0]; U_mat"
   ]
  },
  {
   "cell_type": "code",
   "execution_count": 9,
   "id": "686cceb0-780e-4570-9fa9-4e974550f8d3",
   "metadata": {},
   "outputs": [
    {
     "name": "stdout",
     "output_type": "stream",
     "text": [
      "[5] [(1, 1, 1)]\n",
      "[4, 1] [(4, 1, -1)]\n",
      "[3, 2] [(4, -2, -1), (1, 1, 1)]\n",
      "[3, 1, 1] [(1, 1, 1), (4, -2, -1), (1, 1, 1)]\n",
      "[2, 2, 1] [(1, 1, 1), (4, -2, -1)]\n",
      "[2, 1, 1, 1] [(4, 1, -1)]\n",
      "[1, 1, 1, 1, 1] [(1, 1, 1)]\n"
     ]
    }
   ],
   "source": [
    "#to explain q=2, la=[3,1,1] note that the one of the composition factors (the irreducible quotients from any composition series)\n",
    "#has multiplicity 2. we see this by looking at the Brauer character of the composition factor, and see (1,1,1) appears twice.\n",
    "S5 = SymmetricGroup(5)\n",
    "SGA = S5.algebra(GF(2))\n",
    "for la in Partitions(5):\n",
    "    M = SGA.specht_module(la)\n",
    "    print(la, [V.brauer_character() for V in M.composition_factors()])"
   ]
  },
  {
   "cell_type": "code",
   "execution_count": 10,
   "id": "49611276-3f34-4b7a-b5c7-1ff4918c7ee6",
   "metadata": {},
   "outputs": [
    {
     "name": "stdout",
     "output_type": "stream",
     "text": [
      "la = [5]\n",
      "q = 3\n",
      "[1]\n",
      "--------\n",
      "la = [4, 1]\n",
      "q = 3\n",
      "[0 1 1 1]\n",
      "[1 0 1 1]\n",
      "[1 1 0 1]\n",
      "[1 1 1 0]\n",
      "--------\n",
      "la = [3, 2]\n",
      "q = 3\n",
      "[0 0 0 1 1]\n",
      "[0 0 1 0 1]\n",
      "[0 1 0 0 1]\n",
      "[1 0 0 0 0]\n",
      "[1 1 1 0 0]\n",
      "--------\n",
      "space of G-invariant symmetric bilinear forms has dimension greater than 1\n",
      "la = [3, 1, 1]\n",
      "q = 3\n",
      "[1 1 1 1 1 0]\n",
      "[1 1 1 1 0 1]\n",
      "[1 1 1 0 1 1]\n",
      "[1 1 0 1 1 1]\n",
      "[1 0 1 1 1 1]\n",
      "[0 1 1 1 1 1]\n",
      "--------\n",
      "la = [2, 2, 1]\n",
      "q = 3\n",
      "[1 1 1 1 1]\n",
      "[1 1 1 1 1]\n",
      "[1 1 1 1 1]\n",
      "[1 1 1 1 1]\n",
      "[1 1 1 1 1]\n",
      "--------\n",
      "la = [2, 1, 1, 1]\n",
      "q = 3\n",
      "[0 1 1 1]\n",
      "[1 0 1 1]\n",
      "[1 1 0 1]\n",
      "[1 1 1 0]\n",
      "--------\n",
      "la = [1, 1, 1, 1, 1]\n",
      "q = 3\n",
      "[1]\n",
      "--------\n"
     ]
    }
   ],
   "source": [
    "#print the matrix associated to the bilinear form for each (q,partition)\n",
    "#note q needs to be large enough. p \\nmid n! seems sufficient\n",
    "for la in Partitions(5):\n",
    "    U_mats = invariant_symmetric_sesquilinear_matrix(2,la)\n",
    "    if len(U_mats) > 1:\n",
    "        print(\"space of G-invariant symmetric bilinear forms has dimension greater than 1\")\n",
    "    print(\"la =\",la)\n",
    "    print(\"q =\",3)\n",
    "    print(U_mats[0])\n",
    "    print(\"--------\")"
   ]
  },
  {
   "cell_type": "code",
   "execution_count": 11,
   "id": "1c226d8c-648e-4156-8a26-63381c9414f3",
   "metadata": {},
   "outputs": [],
   "source": [
    "#define the representation matrix corresponding to q, partition\n",
    "#define generators of multiplicative groups of GF(q) and GF(q^2), w and z respectively\n",
    "q = 5; la = [2,1,1]\n",
    "SGA = SymmetricGroupAlgebra(GF(q^2),sum(la))\n",
    "SM = SGA.specht_module(la)\n",
    "rho = SM.representation_matrix\n",
    "d_rho = SM.dimension()\n",
    "G = SGA.group()\n",
    "F = GF(q^2)\n",
    "z = F.gen()\n",
    "w = F.subfield(1).multiplicative_generator()"
   ]
  },
  {
   "cell_type": "code",
   "execution_count": 12,
   "id": "4b2c1ee5-3cd5-4ee5-86d0-320cb6732ea8",
   "metadata": {},
   "outputs": [
    {
     "data": {
      "text/plain": [
       "[1 2 3]\n",
       "[2 1 2]\n",
       "[3 2 1]"
      ]
     },
     "execution_count": 12,
     "metadata": {},
     "output_type": "execute_result"
    }
   ],
   "source": [
    "#compute the S_n-invariant symmetric bilinear form associated to (q,la)\n",
    "U = invariant_symmetric_sesquilinear_matrix(q,la)[0]; U"
   ]
  },
  {
   "cell_type": "code",
   "execution_count": null,
   "id": "5760027d-de78-432e-97e5-35965e631f50",
   "metadata": {},
   "outputs": [],
   "source": []
  },
  {
   "cell_type": "code",
   "execution_count": null,
   "id": "f5581a14-7807-4d49-8479-4b1b51c275ce",
   "metadata": {},
   "outputs": [],
   "source": []
  },
  {
   "cell_type": "code",
   "execution_count": 27,
   "id": "afc080ac-a77c-40b1-9602-0ea631f94b9f",
   "metadata": {},
   "outputs": [
    {
     "data": {
      "text/plain": [
       "[ [ Z(5)^0, Z(5), Z(5)^3 ], [ Z(5), Z(5)^0, Z(5) ], [ Z(5)^3, Z(5), Z(5)^0 ] ]"
      ]
     },
     "execution_count": 27,
     "metadata": {},
     "output_type": "execute_result"
    }
   ],
   "source": [
    "libgap.LoadPackage(\"forms\")\n",
    "u_gap=libgap([list(row) for row in U]); u_gap"
   ]
  },
  {
   "cell_type": "code",
   "execution_count": 38,
   "id": "cae52993-1b33-434a-8c25-af333bf3f9fd",
   "metadata": {},
   "outputs": [],
   "source": [
    "#use libgap.eval for GAP evalutation of BaseChangeToCanonical using `forms` package\n",
    "def base_change_matrix(U,q):\n",
    "    libgap.LoadPackage(\"forms\")\n",
    "    u_gap = libgap([list(row) for row in U])\n",
    "    libgap.eval(\"u := \" + str(u_gap))\n",
    "    libgap.eval(f\"form := HermitianFormByMatrix(u, GF({q}^2));\")\n",
    "    b_str = libgap.eval(\"b := BaseChangeToCanonical(form);\")\n",
    "    return matrix(F,libgap(b_str)).inverse()"
   ]
  },
  {
   "cell_type": "code",
   "execution_count": 39,
   "id": "7dccd87a-4df5-4de2-af0d-80ffda953644",
   "metadata": {},
   "outputs": [
    {
     "data": {
      "text/plain": [
       "True"
      ]
     },
     "execution_count": 39,
     "metadata": {},
     "output_type": "execute_result"
    }
   ],
   "source": [
    "#compute the factorization U = AA^*\n",
    "A = base_change_matrix(U,q)\n",
    "A_star = conjugate_pos_char(A).transpose()\n",
    "U == A*A_star"
   ]
  },
  {
   "cell_type": "code",
   "execution_count": 15,
   "id": "c43985a4-5b58-43d8-9b9e-cdc0ebaa18b0",
   "metadata": {},
   "outputs": [
    {
     "name": "stdout",
     "output_type": "stream",
     "text": [
      "True\n"
     ]
    }
   ],
   "source": [
    "#construct the unitary representations as \\tilde{\\rho}(g) = A^*\\rho(g)A^*.inverse()\n",
    "all_unitary = True\n",
    "for g in G:\n",
    "    tilde_rho_g = A_star*rho(g)*A_star.inverse()\n",
    "    unitary_check = conjugate_pos_char(tilde_rho_g).transpose()*tilde_rho_g == identity_matrix(F,d_rho)\n",
    "    all_unitary = all_unitary and unitary_check\n",
    "print(all_unitary)"
   ]
  },
  {
   "cell_type": "code",
   "execution_count": null,
   "id": "17a124ed-484e-4f1b-87c2-c1706b521307",
   "metadata": {},
   "outputs": [],
   "source": []
  }
 ],
 "metadata": {
  "kernelspec": {
   "display_name": "SageMath 10.4",
   "language": "sage",
   "name": "sagemath-10.4"
  },
  "language_info": {
   "codemirror_mode": {
    "name": "ipython",
    "version": 3
   },
   "file_extension": ".py",
   "mimetype": "text/x-python",
   "name": "python",
   "nbconvert_exporter": "python",
   "pygments_lexer": "ipython3",
   "version": "3.12.4"
  }
 },
 "nbformat": 4,
 "nbformat_minor": 5
}
