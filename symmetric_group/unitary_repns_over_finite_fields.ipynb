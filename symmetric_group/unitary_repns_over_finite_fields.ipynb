{
 "cells": [
  {
   "cell_type": "code",
   "execution_count": 8,
   "id": "bd44d9da-c93c-43fe-bf59-68e001524118",
   "metadata": {},
   "outputs": [],
   "source": [
    "\"\"\"\n",
    "\n",
    "LINKS:\n",
    "\n",
    "- https://github.com/sagemath/sage/issues/38456\n",
    "- https://mathoverflow.net/questions/271932/formula-for-the-frobenius-schur-indicator-of-a-finite-group\n",
    "- https://math.stackexchange.com/questions/832173/structure-of-g-invariant-bilinear-forms-over-finite-fields\n",
    "\n",
    "\"\"\";"
   ]
  },
  {
   "cell_type": "code",
   "execution_count": 9,
   "id": "8dbfa7ac-62d0-4ea0-a6fe-8276e0b2db9b",
   "metadata": {},
   "outputs": [],
   "source": [
    "\"\"\"\n",
    "NOTES:\n",
    "\n",
    "For a unitary change-of-basis for a rep'n \\rho of S_n over finite fields, we need:\n",
    "\n",
    "Q1. find a S_n-invariant symmetric bilinear form w/ associated matrix U\n",
    "Q2. factor U = A^*A, where * denotes conjugate-transpose w.r.t. x |--> x^q conjugation\n",
    "\n",
    "A1. let U be unknown in variables over a polynomial ring over GF(q^2). use linear algebra to solve \\rho(g)^T U \\overline{\\rho(g)} == U\n",
    "A2. sol'n) find the upper triangular part Up of the LU decomposition of the matrix, multiply Up transpose by the square root of Up diagonal to get A. then A^*UA = D, diagonal. factor D = RR^*, and RA^{-1} is the change-of-basis\n",
    "\n",
    "Then \\tilde{\\rho}(g) = A\\rho(g)A.inverse() is unitary for all g \\in G.\n",
    "\n",
    "\"\"\";"
   ]
  },
  {
   "cell_type": "code",
   "execution_count": 3,
   "id": "394b4c5a-00f8-4217-927a-a897e21ef62d",
   "metadata": {},
   "outputs": [],
   "source": [
    "def invariant_symmetric_bilinear_matrix(SGA,partition):\n",
    "    \"\"\"\n",
    "    Computes the matrix of a S_n-invariant symmetric bilinear form.\n",
    "    Sets up and solves system of linear equations based on writing U as an unknown in polynomial ring generators. \n",
    "    The equations are \\rho(g)^T*U*\\overline{\\rho(g)} = \\lambda_g*U where \\lambda_g = \\det(\\rho(g))\\overline{\\det(\\rho(g))}.\n",
    "    The variables for U can be extracted to yield a matrix over GF(q^2) for each g.\n",
    "    These are stacked to get the overall system, and we find the one dim'l null space to get a solution vector, and format as a matrix.\n",
    "    NOTE: one could also form the Kroenecker products \\rho(g) \\otimes \\rho(g)^{-1 T} to explicitly obtain the system.\n",
    "    NOTE: the solution space is typically 1 dim'l, except in \"modular\" cases where p divides |G|, and there is multiplicity in the decomposition factors.\n",
    "    \"\"\"\n",
    "    # Define the group G and its rep'n as a Specht module, dimension\n",
    "    F = SGA.base_ring()\n",
    "    G = SGA.group()\n",
    "    specht_module = SGA.specht_module(partition)\n",
    "    rho = specht_module.representation_matrix\n",
    "    d_rho = specht_module.dimension()\n",
    "    # Initialize U as a matrix of variables over GF(q^2)\n",
    "    R = PolynomialRing(F, 'u', d_rho**2)\n",
    "    U_vars = R.gens()  # List of variable generators for U\n",
    "    U = matrix(R, d_rho, d_rho, U_vars)  # U is a d_rho x d_rho matrix of variables\n",
    "    # for each generator of G, form the augmented system \n",
    "    def augmented_matrix(g):\n",
    "        #form the matrix equation \\rho(g)^T*U*\\overline{\\rho(g)} = \\lambda_g * U\n",
    "        #lambda_g = rho_g.det()*rho_g.det()**q\n",
    "        #note: \\lambda_g isn't necessary. probably only relates to sesquilinear forms\n",
    "        rho_g = rho(g)\n",
    "        equation_matrix = rho_g.transpose()*U*rho_g.conjugate() - U\n",
    "        # Initialize a list to hold rows of the augmented system\n",
    "        augmented_system = []\n",
    "        # Extract coefficients for each linear equation in the matrix\n",
    "        for i in range(d_rho):\n",
    "            for j in range(d_rho):\n",
    "                # Get the (i, j) entry of the equation matrix, which is a linear combination of the u variables\n",
    "                linear_expression = equation_matrix[i, j]\n",
    "                # Extract the coefficients of each u_k in the linear expression\n",
    "                row = [linear_expression.coefficient(u) for u in U_vars]\n",
    "                # Append the row to the augmented system\n",
    "                augmented_system.append(row)\n",
    "        # Convert the augmented system to a matrix\n",
    "        return matrix(F, augmented_system)\n",
    "    #stack linear systems for each g in G\n",
    "    total_system = matrix(F,0,d_rho**2)\n",
    "    for g in G:\n",
    "        total_system = total_system.stack(augmented_matrix(g))\n",
    "    #compute the null space of the overall matrix\n",
    "    null_space = total_system.right_kernel()\n",
    "    #return a d_rho x d_rho matrix over GF(q^2) from the 1 dim'l null space given as vector\n",
    "    U_mats = [matrix(F,d_rho,d_rho,b) for b in null_space.basis()]\n",
    "    return U_mats"
   ]
  },
  {
   "cell_type": "code",
   "execution_count": 4,
   "id": "a489d347-17e3-4548-b302-d49cd6173c88",
   "metadata": {},
   "outputs": [],
   "source": [
    "#define a general bi/bilinear form with the matrix U\n",
    "def bilinear_form(x,y,U):\n",
    "    return x.transpose()*U*y"
   ]
  },
  {
   "cell_type": "code",
   "execution_count": 5,
   "id": "5bb87874-ff97-4177-9d27-a2bec2118f3d",
   "metadata": {},
   "outputs": [],
   "source": [
    "#ensure the resulting form is G-invariant, symmetric, bilinear by symbolic verification\n",
    "def check_form_properties(q,partition):\n",
    "    #define the representation matrix corresponding to q, partition\n",
    "    F = GF(q**2)\n",
    "    SGA = SymmetricGroupAlgebra(F,sum(partition))\n",
    "    SM = SGA.specht_module(partition)\n",
    "    rho = SM.representation_matrix\n",
    "    d_rho = SM.dimension()\n",
    "    G = SGA.group()\n",
    "\n",
    "    #define variables as polynomial generators\n",
    "    R_xy = PolynomialRing(F, d_rho, var_array='x,y')\n",
    "    x = matrix([R_xy.gens()[2*i] for i in range(d_rho)]).transpose()\n",
    "    y = matrix([R_xy.gens()[2*i+1] for i in range(d_rho)]).transpose()\n",
    "    R_xy_lambda = PolynomialRing(R_xy,'lambda')\n",
    "    lambda_ = R_xy_lambda.gens()[0]\n",
    "\n",
    "    #compute the bilinear form matrix. coerce over polynomial ring\n",
    "    U_mats = invariant_symmetric_bilinear_matrix(SGA,partition)\n",
    "    if len(U_mats) > 1:\n",
    "        print(\"Space of G-invariant symmetric bilinear forms has dimension > 1 for la=\",partition)\n",
    "        print(\"Dimension of space=\",len(U_mats))\n",
    "    U_mat = U_mats[0]\n",
    "    U_form = matrix(R_xy_lambda,U_mat)\n",
    "    \n",
    "    #check symmetric property\n",
    "    symmetric = bilinear_form(x,y,U_form) == bilinear_form(y,x,U_form)\n",
    "    \n",
    "    #check G-invariance property\n",
    "    G_invariant = all(bilinear_form(rho(g)*x,rho(g)*y,U_form) == bilinear_form(x,y,U_form) for g in G)\n",
    "    \n",
    "    #check bilinear property. ISSUE: lambda_^q is a power of the ring generator, i.e. doesn't simplify.\n",
    "    first_arg = bilinear_form(lambda_*x,y,U_form) == lambda_*bilinear_form(x,y,U_form)\n",
    "    second_arg = bilinear_form(x,lambda_*y,U_form) == lambda_*bilinear_form(x,y,U_form) #need to amend for conjugation\n",
    "    bilinear = first_arg and second_arg\n",
    "\n",
    "    return symmetric and G_invariant and bilinear"
   ]
  },
  {
   "cell_type": "code",
   "execution_count": 6,
   "id": "2b346ec1-f68a-4e32-a52d-0ea362b0e589",
   "metadata": {},
   "outputs": [],
   "source": [
    "#for u in GF(q), we can factor as u=aa^* using gen. z and modular arithmetic\n",
    "def conj_square_root(u):\n",
    "    if u == 0:\n",
    "        return 0  # Special case for 0\n",
    "    z = F.multiplicative_generator()\n",
    "    k = u.log(z)  # Compute discrete log of u to the base z\n",
    "    if k % (q+1) != 0:\n",
    "        raise ValueError(\"Unable to factor: u is not in base field GF(q)\")\n",
    "    return z ** ((k//(q+1))%(q-1))"
   ]
  },
  {
   "cell_type": "code",
   "execution_count": 7,
   "id": "cae52993-1b33-434a-8c25-af333bf3f9fd",
   "metadata": {},
   "outputs": [],
   "source": [
    "#user the upper part of the LU decomposition, factor the diagonal\n",
    "def base_change_hermitian(U):\n",
    "    Up = U.LU()[2] #upper triangluar part of LU decompostion\n",
    "    D = Up.diagonal() #diagonal of upper triangular part\n",
    "    A = ~Up * matrix.diagonal([d.sqrt() for d in D]) #transpose of upper triangular part * square root of diagonal\n",
    "    diag = (A.H * U * A).diagonal() #A_star*U*A == D, a diagonal\n",
    "    factor_diag = diagonal_matrix([conj_square_root(d) for d in diag]) #factor diagonal with conjugate square root\n",
    "    return factor_diag*A.inverse()"
   ]
  },
  {
   "cell_type": "code",
   "execution_count": 8,
   "id": "795b890c-9d25-4d2d-8abe-a0b20113d448",
   "metadata": {},
   "outputs": [],
   "source": [
    "#define the Fourier coefficient at the rep'n specht_module corresponding to partition\n",
    "def hat(g,partition,unitary=False,SGA=None):\n",
    "    specht_module = SGA.specht_module(partition)\n",
    "    rho = specht_module.representation_matrix\n",
    "    if unitary:\n",
    "        U = invariant_symmetric_bilinear_matrix(SGA,partition)[0]\n",
    "        A = base_change_hermitian(U)\n",
    "        sqrt_unitary_factor = sqrt(F(specht_module.dimension()/G.cardinality()))\n",
    "        return sqrt_unitary_factor*A*rho(g)*A.inverse()\n",
    "    else:\n",
    "        return rho(g)"
   ]
  },
  {
   "cell_type": "code",
   "execution_count": 9,
   "id": "3f5b2cdf-d2a1-4fee-b203-f5dda1d0051f",
   "metadata": {},
   "outputs": [],
   "source": [
    "#for each basis element g \\in G compute the Fourier coefficients \\hat{\\delta_g}(partition) for all partitions\n",
    "def dft(unitary=False):\n",
    "    fourier_transform = [[x for partition in Partitions(G.degree()) for x in hat(g, partition, unitary, SGA).list()] for g in G]\n",
    "    if unitary:\n",
    "        dft_matrix = matrix(F,fourier_transform).transpose()\n",
    "        sign_diag = (dft_matrix*dft_matrix.H).diagonal()\n",
    "        factor_diag_inv = diagonal_matrix([~conj_square_root(d) for d in sign_diag])\n",
    "        return factor_diag_inv*dft_matrix\n",
    "    else:\n",
    "        return matrix(fourier_transform).transpose()"
   ]
  },
  {
   "cell_type": "code",
   "execution_count": 10,
   "id": "ee208021-fba4-4a6a-8121-690ce5c47dee",
   "metadata": {},
   "outputs": [],
   "source": [
    "#define the representation matrix corresponding to q, partition\n",
    "#define generators of multiplicative groups of GF(q) and GF(q^2), w and z respectively\n",
    "q = 3; la = [2,1,1]; n=sum(la)\n",
    "SGA = SymmetricGroupAlgebra(GF(q**2),n)\n",
    "SM = SGA.specht_module(la)\n",
    "rho = SM.representation_matrix\n",
    "d_rho = SM.dimension()\n",
    "G = SGA.group()\n",
    "F = GF(q**2)\n",
    "z = F.gen()"
   ]
  },
  {
   "cell_type": "code",
   "execution_count": 45,
   "id": "bfa2f33d-6c91-4f6c-8cb1-d1615b0e1073",
   "metadata": {},
   "outputs": [
    {
     "name": "stdout",
     "output_type": "stream",
     "text": [
      "[5] [(1, 1, 1)]\n",
      "[4, 1] [(4, 1, -1)]\n",
      "[3, 2] [(4, -2, -1), (1, 1, 1)]\n",
      "[3, 1, 1] [(1, 1, 1), (4, -2, -1), (1, 1, 1)]\n",
      "[2, 2, 1] [(1, 1, 1), (4, -2, -1)]\n",
      "[2, 1, 1, 1] [(4, 1, -1)]\n",
      "[1, 1, 1, 1, 1] [(1, 1, 1)]\n"
     ]
    }
   ],
   "source": [
    "#to explain q=2, la=[3,1,1] note that the one of the composition factors (the irreducible quotients from any composition series)\n",
    "#has multiplicity 2. we see this by looking at the Brauer character of the composition factor, and see (1,1,1) appears twice.\n",
    "SGA5GF4 = SymmetricGroup(5).algebra(GF(2**2))\n",
    "for la in Partitions(5):\n",
    "    M = SGA5GF2.specht_module(la)\n",
    "    print(la, [V.brauer_character() for V in M.composition_factors()])"
   ]
  },
  {
   "cell_type": "code",
   "execution_count": 41,
   "id": "6a3abf2f-1e3f-466c-8c77-275e70738502",
   "metadata": {},
   "outputs": [
    {
     "data": {
      "text/plain": [
       "[\n",
       "[1 1 1 1 1 0]  [0 0 0 0 0 1]\n",
       "[1 1 1 1 0 1]  [0 0 0 0 1 0]\n",
       "[1 1 1 0 1 1]  [0 0 0 1 0 0]\n",
       "[1 1 0 1 1 1]  [0 0 1 0 0 0]\n",
       "[1 0 1 1 1 1]  [0 1 0 0 0 0]\n",
       "[0 1 1 1 1 1], [1 0 0 0 0 0]\n",
       "]"
      ]
     },
     "execution_count": 41,
     "metadata": {},
     "output_type": "execute_result"
    }
   ],
   "source": [
    "#NOTE: for q=2, la=[3,1,1] we get a two dim'l space\n",
    "invariant_symmetric_bilinear_matrix([3,1,1])"
   ]
  },
  {
   "cell_type": "code",
   "execution_count": 54,
   "id": "7d6d3b31-5fbb-48db-938f-7f38b7a42aa6",
   "metadata": {},
   "outputs": [
    {
     "name": "stdout",
     "output_type": "stream",
     "text": [
      "Symmetric group algebra of order 5 over Finite Field in z2 of size 2^2\n",
      "la = [5]\n",
      "q = 2\n",
      "[1]\n",
      "--------\n",
      "Symmetric group algebra of order 5 over Finite Field in z2 of size 2^2\n",
      "la = [4, 1]\n",
      "q = 2\n",
      "[0 1 1 1]\n",
      "[1 0 1 1]\n",
      "[1 1 0 1]\n",
      "[1 1 1 0]\n",
      "--------\n",
      "Symmetric group algebra of order 5 over Finite Field in z2 of size 2^2\n",
      "la = [3, 2]\n",
      "q = 2\n",
      "[0 0 0 1 1]\n",
      "[0 0 1 0 1]\n",
      "[0 1 0 0 1]\n",
      "[1 0 0 0 0]\n",
      "[1 1 1 0 0]\n",
      "--------\n",
      "Symmetric group algebra of order 5 over Finite Field in z2 of size 2^2\n",
      "space of G-invariant symmetric bilinear forms has dimension greater than 1\n",
      "la = [3, 1, 1]\n",
      "q = 2\n",
      "[1 1 1 1 1 0]\n",
      "[1 1 1 1 0 1]\n",
      "[1 1 1 0 1 1]\n",
      "[1 1 0 1 1 1]\n",
      "[1 0 1 1 1 1]\n",
      "[0 1 1 1 1 1]\n",
      "--------\n",
      "Symmetric group algebra of order 5 over Finite Field in z2 of size 2^2\n",
      "la = [2, 2, 1]\n",
      "q = 2\n",
      "[1 1 1 1 1]\n",
      "[1 1 1 1 1]\n",
      "[1 1 1 1 1]\n",
      "[1 1 1 1 1]\n",
      "[1 1 1 1 1]\n",
      "--------\n",
      "Symmetric group algebra of order 5 over Finite Field in z2 of size 2^2\n",
      "la = [2, 1, 1, 1]\n",
      "q = 2\n",
      "[0 1 1 1]\n",
      "[1 0 1 1]\n",
      "[1 1 0 1]\n",
      "[1 1 1 0]\n",
      "--------\n",
      "Symmetric group algebra of order 5 over Finite Field in z2 of size 2^2\n",
      "la = [1, 1, 1, 1, 1]\n",
      "q = 2\n",
      "[1]\n",
      "--------\n"
     ]
    }
   ],
   "source": [
    "#print the matrix associated to the bilinear form for each partition\n",
    "#note q needs to be large enough. p \\nmid n! seems sufficient\n",
    "for la in Partitions(5):\n",
    "    U_mats = invariant_symmetric_bilinear_matrix(la)\n",
    "    if len(U_mats) > 1:\n",
    "        print(\"space of G-invariant symmetric bilinear forms has dimension greater than 1\")\n",
    "    print(\"la =\",la)\n",
    "    print(\"q =\",q)\n",
    "    print(U_mats[0])\n",
    "    print(\"--------\")"
   ]
  },
  {
   "cell_type": "code",
   "execution_count": 73,
   "id": "0426c0ff-4b72-4b39-bae4-3316b00f5780",
   "metadata": {},
   "outputs": [
    {
     "name": "stdout",
     "output_type": "stream",
     "text": [
      "p=2\n",
      "[([3], True), ([2, 1], True), ([1, 1, 1], True)]\n",
      "[([4], True), ([3, 1], True), ([2, 2], True), ([2, 1, 1], True), ([1, 1, 1, 1], True)]\n",
      "Space of G-invariant symmetric bilinear forms has dimension > 1 for la= [3, 1, 1]\n",
      "Dimension of space= 2\n",
      "[([5], True), ([4, 1], True), ([3, 2], True), ([3, 1, 1], True), ([2, 2, 1], True), ([2, 1, 1, 1], True), ([1, 1, 1, 1, 1], True)]\n",
      "---------\n",
      "p=3\n",
      "[([3], True), ([2, 1], True), ([1, 1, 1], True)]\n",
      "[([4], True), ([3, 1], True), ([2, 2], True), ([2, 1, 1], True), ([1, 1, 1, 1], True)]\n",
      "[([5], True), ([4, 1], True), ([3, 2], True), ([3, 1, 1], True), ([2, 2, 1], True), ([2, 1, 1, 1], True), ([1, 1, 1, 1, 1], True)]\n",
      "---------\n",
      "p=5\n",
      "[([3], True), ([2, 1], True), ([1, 1, 1], True)]\n",
      "[([4], True), ([3, 1], True), ([2, 2], True), ([2, 1, 1], True), ([1, 1, 1, 1], True)]\n",
      "[([5], True), ([4, 1], True), ([3, 2], True), ([3, 1, 1], True), ([2, 2, 1], True), ([2, 1, 1, 1], True), ([1, 1, 1, 1, 1], True)]\n",
      "---------\n"
     ]
    }
   ],
   "source": [
    "#print the checks for pairs (p,la) where p is a prime and la is a partition of n\n",
    "for p in Primes()[:3]:\n",
    "    print(f\"p={p}\")\n",
    "    for n in range(3,6):\n",
    "        print([(la,check_form_properties(p,la)) for la in Partitions(n)])\n",
    "    print(\"---------\")"
   ]
  },
  {
   "cell_type": "code",
   "execution_count": 13,
   "id": "22fb4767-88e4-49c6-b015-d0c8838c40b0",
   "metadata": {},
   "outputs": [
    {
     "data": {
      "text/plain": [
       "[0 1 2]\n",
       "[1 0 1]\n",
       "[2 1 0]"
      ]
     },
     "execution_count": 13,
     "metadata": {},
     "output_type": "execute_result"
    }
   ],
   "source": [
    "#compute the S_n-invariant symmetric bilinear form associated to (q,la)\n",
    "U = invariant_symmetric_bilinear_matrix(SGA,la)[0]; U"
   ]
  },
  {
   "cell_type": "code",
   "execution_count": 109,
   "id": "7dccd87a-4df5-4de2-af0d-80ffda953644",
   "metadata": {},
   "outputs": [
    {
     "name": "stdout",
     "output_type": "stream",
     "text": [
      "[       1        5        2        5        2        0]\n",
      "[       0        2        1        4        2        1]\n",
      "[       0        0 6*z2 + 1        0 5*z2 + 2 2*z2 + 5]\n",
      "[       0        0        0        3        5        5]\n",
      "[       0        0        0        0 5*z2 + 2 4*z2 + 3]\n",
      "[       0        0        0        0        0 4*z2 + 3]\n"
     ]
    },
    {
     "data": {
      "text/plain": [
       "True"
      ]
     },
     "execution_count": 109,
     "metadata": {},
     "output_type": "execute_result"
    }
   ],
   "source": [
    "#compute the factorization U = AA^*\n",
    "A = base_change_hermitian(U); print(A)\n",
    "U == A.H*A"
   ]
  },
  {
   "cell_type": "code",
   "execution_count": 111,
   "id": "7eae377f-856f-4ba3-a7a8-53dc5b19edc8",
   "metadata": {},
   "outputs": [
    {
     "data": {
      "text/plain": [
       "True"
      ]
     },
     "execution_count": 111,
     "metadata": {},
     "output_type": "execute_result"
    }
   ],
   "source": [
    "#verify explicitly the representation is unitary\n",
    "rho = SymmetricGroupRepresentation(la,ring=F)\n",
    "d_rho = rho.to_character().degree()\n",
    "g = Permutation([3,2,1,4,5])\n",
    "rho_unitary = A*matrix(F,rho(g))*A.inverse()\n",
    "rho_unitary*rho_unitary.H == identity_matrix(d_rho)"
   ]
  },
  {
   "cell_type": "code",
   "execution_count": 117,
   "id": "c43985a4-5b58-43d8-9b9e-cdc0ebaa18b0",
   "metadata": {},
   "outputs": [
    {
     "name": "stdout",
     "output_type": "stream",
     "text": [
      "True\n"
     ]
    }
   ],
   "source": [
    "#construct the unitary representations as \\tilde{\\rho}(g) = A^*\\rho(g)A^*.inverse()\n",
    "all_unitary = True\n",
    "for g in G:\n",
    "    tilde_rho_g = A*rho(g)*A.inverse()\n",
    "    unitary_check = tilde_rho_g.H*tilde_rho_g == identity_matrix(F,d_rho)\n",
    "    all_unitary = all_unitary and unitary_check\n",
    "print(all_unitary)"
   ]
  },
  {
   "cell_type": "code",
   "execution_count": 128,
   "id": "df3cfa98-3334-4e27-a26a-6d96286d9ff0",
   "metadata": {},
   "outputs": [
    {
     "name": "stdout",
     "output_type": "stream",
     "text": [
      "[(2*z2, 2*z2, 2*z2, 2*z2, 2*z2, 2*z2, 2*z2, 2*z2, 2*z2, 2*z2, 2*z2, 2*z2, 2*z2, 2*z2, 2*z2, 2*z2, 2*z2, 2*z2, 2*z2, 2*z2, 2*z2, 2*z2, 2*z2, 2*z2), (1, 1, 4, 4, 4, 4, 6, 6, 3, 3, 3, 3, 3, 3, 4, 4, 0, 0, 3, 3, 4, 4, 0, 0), (0, 0, 3*z2, z2, 3*z2, z2, 0, 0, 4*z2, 6*z2, 4*z2, 6*z2, 3*z2, z2, 4*z2, 6*z2, 5*z2, 2*z2, 3*z2, z2, 4*z2, 6*z2, 5*z2, 2*z2), (0, 0, 0, z2, 0, z2, 0, 0, 0, 6*z2, 0, 6*z2, 0, z2, 0, 6*z2, z2, 6*z2, 0, z2, 0, 6*z2, z2, 6*z2), (0, 0, 4*z2 + 3, 4*z2 + 3, 6*z2 + 1, 6*z2 + 1, 0, 0, 4*z2 + 3, 4*z2 + 3, 6*z2 + 1, 6*z2 + 1, 3*z2 + 4, 3*z2 + 4, 3*z2 + 4, 3*z2 + 4, 2*z2 + 5, 2*z2 + 5, z2 + 6, z2 + 6, z2 + 6, z2 + 6, 5*z2 + 2, 5*z2 + 2), (1, 5, 3, 1, 1, 2, 1, 5, 3, 1, 1, 2, 3, 1, 3, 1, 4, 4, 1, 2, 1, 2, 4, 4), (0, 5, 0, 1, 5, 1, 0, 5, 0, 1, 5, 1, 0, 1, 0, 1, 1, 1, 5, 1, 5, 1, 1, 1), (0, 0, 0, 0, 6*z2 + 1, 6*z2 + 1, 0, 0, 0, 0, 6*z2 + 1, 6*z2 + 1, 0, 0, 0, 0, 6*z2 + 1, 6*z2 + 1, z2 + 6, z2 + 6, z2 + 6, z2 + 6, z2 + 6, z2 + 6), (0, 5, 0, 5, 1, 1, 0, 5, 0, 5, 1, 1, 0, 5, 0, 5, 1, 1, 1, 1, 1, 1, 1, 1), (1, 2, 1, 2, 2, 2, 1, 2, 1, 2, 2, 2, 1, 2, 1, 2, 2, 2, 2, 2, 2, 2, 2, 2), (z2, 6*z2, 4*z2, 3*z2, 3*z2, 4*z2, 6*z2, z2, 3*z2, 4*z2, 4*z2, 3*z2, 3*z2, 4*z2, 4*z2, 3*z2, z2, 6*z2, 4*z2, 3*z2, 3*z2, 4*z2, 6*z2, z2), (0, 0, 3*z2 + 5, 3*z2 + 5, 4*z2 + 2, 4*z2 + 2, 0, 0, 4*z2 + 2, 4*z2 + 2, 3*z2 + 5, 3*z2 + 5, 3*z2 + 5, 3*z2 + 5, 4*z2 + 2, 4*z2 + 2, 0, 0, 4*z2 + 2, 4*z2 + 2, 3*z2 + 5, 3*z2 + 5, 0, 0), (0, 0, 2, 5, 2, 5, 0, 0, 2, 5, 2, 5, 5, 2, 5, 2, 0, 0, 5, 2, 5, 2, 0, 0), (z2, z2, 3*z2, 3*z2, 3*z2, 3*z2, z2, z2, 3*z2, 3*z2, 3*z2, 3*z2, 3*z2, 3*z2, 3*z2, 3*z2, z2, z2, 3*z2, 3*z2, 3*z2, 3*z2, z2, z2), (1, 5, 6, 2, 2, 5, 6, 2, 1, 5, 5, 2, 1, 5, 6, 2, 2, 5, 5, 2, 2, 5, 5, 2), (0, 2, 0, 5, 1, 6, 0, 5, 0, 2, 6, 1, 0, 2, 0, 5, 1, 6, 6, 1, 1, 6, 6, 1), (0, 0, 0, 0, z2, 6*z2, 0, 0, 0, 0, 6*z2, z2, 0, 0, 0, 0, z2, 6*z2, z2, 6*z2, 6*z2, z2, z2, 6*z2), (0, 2, 0, 1, 5, 6, 0, 5, 0, 6, 2, 1, 0, 6, 0, 1, 1, 6, 2, 1, 5, 6, 6, 1), (1, 2, 4, 1, 1, 5, 6, 5, 3, 6, 6, 2, 3, 6, 4, 1, 4, 3, 6, 2, 1, 5, 3, 4), (0, 0, 4*z2, 3*z2, z2, 6*z2, 0, 0, 3*z2, 4*z2, 6*z2, z2, 4*z2, 3*z2, 3*z2, 4*z2, 5*z2, 2*z2, z2, 6*z2, 6*z2, z2, 5*z2, 2*z2), (0, 0, 0, 6*z2 + 1, 0, z2 + 6, 0, 0, 0, 6*z2 + 1, 0, z2 + 6, 0, z2 + 6, 0, z2 + 6, 6*z2 + 1, 6*z2 + 1, 0, 6*z2 + 1, 0, 6*z2 + 1, z2 + 6, z2 + 6), (0, 0, 3*z2 + 4, 6*z2 + 1, 4*z2 + 3, z2 + 6, 0, 0, 3*z2 + 4, 6*z2 + 1, 4*z2 + 3, z2 + 6, 4*z2 + 3, z2 + 6, 4*z2 + 3, z2 + 6, 2*z2 + 5, 2*z2 + 5, 3*z2 + 4, 6*z2 + 1, 3*z2 + 4, 6*z2 + 1, 5*z2 + 2, 5*z2 + 2), (1, 6, 3, 4, 4, 3, 1, 6, 3, 4, 4, 3, 3, 4, 3, 4, 0, 0, 4, 3, 4, 3, 0, 0), (2*z2, 5*z2, 5*z2, 2*z2, 2*z2, 5*z2, 5*z2, 2*z2, 2*z2, 5*z2, 5*z2, 2*z2, 2*z2, 5*z2, 5*z2, 2*z2, 2*z2, 5*z2, 5*z2, 2*z2, 2*z2, 5*z2, 5*z2, 2*z2)]\n"
     ]
    }
   ],
   "source": [
    "#compute the unitary DFT\n",
    "unitary_dft = dft(unitary=True); print(list(unitary_dft))"
   ]
  },
  {
   "cell_type": "code",
   "execution_count": 129,
   "id": "46924824-089b-42a0-a5f3-995653336b56",
   "metadata": {},
   "outputs": [
    {
     "data": {
      "text/plain": [
       "True"
      ]
     },
     "execution_count": 129,
     "metadata": {},
     "output_type": "execute_result"
    }
   ],
   "source": [
    "#verify the resulting DFT is unitary\n",
    "unitary_dft*unitary_dft.H == identity_matrix(SGA.group().cardinality())"
   ]
  },
  {
   "cell_type": "code",
   "execution_count": 1,
   "id": "f61ca94b-6855-46d3-a9ce-385bd4186e35",
   "metadata": {},
   "outputs": [
    {
     "name": "stdout",
     "output_type": "stream",
     "text": [
      "/private/var/tmp/sage-10.5-current\n"
     ]
    }
   ],
   "source": [
    "import os\n",
    "print(os.environ.get('SAGE_ROOT'))"
   ]
  },
  {
   "cell_type": "code",
   "execution_count": null,
   "id": "2863caee-71d7-478f-8c26-155f890e9165",
   "metadata": {},
   "outputs": [],
   "source": []
  }
 ],
 "metadata": {
  "kernelspec": {
   "display_name": "SageMath 10.5",
   "language": "sage",
   "name": "sagemath-10.5"
  },
  "language_info": {
   "codemirror_mode": {
    "name": "ipython",
    "version": 3
   },
   "file_extension": ".py",
   "mimetype": "text/x-python",
   "name": "python",
   "nbconvert_exporter": "python",
   "pygments_lexer": "ipython3",
   "version": "3.12.5"
  }
 },
 "nbformat": 4,
 "nbformat_minor": 5
}
