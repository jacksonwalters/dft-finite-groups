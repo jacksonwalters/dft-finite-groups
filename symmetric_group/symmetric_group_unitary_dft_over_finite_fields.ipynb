{
 "cells": [
  {
   "cell_type": "code",
   "execution_count": 3,
   "id": "08033f17-1735-456d-ae3f-4d9c0c5f6eb0",
   "metadata": {},
   "outputs": [],
   "source": [
    "\"\"\"\n",
    "LINKS:\n",
    "\n",
    "- https://mathoverflow.net/questions/327823/unitary-representations-of-finite-groups-over-finite-fields\n",
    "- https://math.stackexchange.com/questions/4952613/is-there-a-version-of-weyls-unitary-trick-for-positive-characteristic"
   ]
  },
  {
   "cell_type": "code",
   "execution_count": 3,
   "id": "970f7919-bf76-4029-a54b-061863b23d29",
   "metadata": {},
   "outputs": [],
   "source": [
    "\"\"\"\n",
    "\n",
    "NOTES:\n",
    "\n",
    "- currently unclear whether representations of S_n over F_{q^2} can be conjugated to unitary representations\n",
    "\n",
    "\"\"\";"
   ]
  },
  {
   "cell_type": "code",
   "execution_count": 1,
   "id": "0ecf5778-9974-4f83-b94e-aa891e9ffc00",
   "metadata": {},
   "outputs": [],
   "source": [
    "\"\"\"\n",
    "\n",
    "Lemma 4.4.1, The Maximal Subgroups of the Low-Dimensional Finite Classical Groups, by John N. Bray, Derek F. Holt, Colva M. Roney-Dougal:\n",
    "\n",
    "- Need to check that the action of the field automorphism \\sigma: x |--> x^q on the Brauer character is the same as complex conjugation.\n",
    "\n",
    "- \"In many cases, such as when 𝑞 is coprime to the group order, the Brauer character is just the ordinary complex character.\"\n",
    "\n",
    "\"\"\";"
   ]
  },
  {
   "cell_type": "code",
   "execution_count": 4,
   "id": "3ad28713-cd84-4a7d-8100-3a74ee9e2b7c",
   "metadata": {},
   "outputs": [],
   "source": [
    "\"\"\"\n",
    "\n",
    "FROM LOREN SPICE, re: whether the form with which the rep'n is unitary is not the standard for <x,y> = \\sum_i x_i*y_i^q:\n",
    "\n",
    "\"It's not only possible, it's almost inevitable, since the unitary group isn't normal in the general linear group, so that conjugating the representation will usually take you outside of the unitary group without changing the trace. The same thing also happens in the 'classical' case.\"\n",
    "\n",
    "\"\"\";"
   ]
  },
  {
   "cell_type": "code",
   "execution_count": 1,
   "id": "010d30ee-1a74-46ff-b444-42a8e8b2d6e6",
   "metadata": {},
   "outputs": [],
   "source": [
    "#twisted Brauer character by automorphism \\sigma: x |--> x^q\n",
    "#Brauer character is eigenvalues of \\rho(g) in F_{q^2} mapped to roots of unity in \\C under bijection\n",
    "#define a rep'n \\rho twisted by a field automorphism \\sigma as \\rho^\\sigma(g) = [\\sigma(\\rho(g)_ij)]_{ij}, i.e. apply \\sigma to each matrix entry\n",
    "#this gives another representation\n",
    "def twisted_brauer_character(partition):\n",
    "    #TO-DO\n",
    "    return;"
   ]
  },
  {
   "cell_type": "code",
   "execution_count": 2,
   "id": "63431deb-b570-4e60-bc22-2ddcdfc5ed0a",
   "metadata": {},
   "outputs": [
    {
     "data": {
      "text/plain": [
       "Orthogonal representation of the symmetric group corresponding to [2, 1]"
      ]
     },
     "execution_count": 2,
     "metadata": {},
     "output_type": "execute_result"
    }
   ],
   "source": [
    "#note can set ring=GF(q), but it doesn't work. we get a TypeError since we have square roots\n",
    "#could try getting those square roots defined over a finite field\n",
    "orth = SymmetricGroupRepresentation([2,1], \"orthogonal\", ring=GF(7^2)); orth"
   ]
  },
  {
   "cell_type": "code",
   "execution_count": 6,
   "id": "e3a9e357-39ee-4c69-8a80-aa3055c15906",
   "metadata": {},
   "outputs": [
    {
     "data": {
      "text/plain": [
       "2"
      ]
     },
     "execution_count": 6,
     "metadata": {},
     "output_type": "execute_result"
    }
   ],
   "source": [
    "m = orth._yang_baxter_graph._digraph.num_verts(); m"
   ]
  },
  {
   "cell_type": "code",
   "execution_count": 7,
   "id": "4410c8c0-eeac-4243-a9fc-8750787ed004",
   "metadata": {},
   "outputs": [
    {
     "data": {
      "text/plain": [
       "[1 0]\n",
       "[0 1]"
      ]
     },
     "execution_count": 7,
     "metadata": {},
     "output_type": "execute_result"
    }
   ],
   "source": [
    "M = matrix(GF(7^2), m, m, 1); M"
   ]
  },
  {
   "cell_type": "code",
   "execution_count": 11,
   "id": "77babdb8-1954-4d23-bc53-918938e7bb58",
   "metadata": {},
   "outputs": [],
   "source": [
    "i = 2"
   ]
  },
  {
   "cell_type": "code",
   "execution_count": 12,
   "id": "f4ee9869-0bd5-4828-8781-d9c48d7b61f4",
   "metadata": {},
   "outputs": [
    {
     "ename": "TypeError",
     "evalue": "unable to coerce <class 'sage.symbolic.expression.Expression'>",
     "output_type": "error",
     "traceback": [
      "\u001b[0;31m---------------------------------------------------------------------------\u001b[0m",
      "\u001b[0;31mKeyError\u001b[0m                                  Traceback (most recent call last)",
      "File \u001b[0;32m/private/var/tmp/sage-10.4-current/local/var/lib/sage/venv-python3.12.4/lib/python3.12/site-packages/sage/misc/cachefunc.pyx:1966\u001b[0m, in \u001b[0;36msage.misc.cachefunc.CachedMethodCaller.__call__ (build/cythonized/sage/misc/cachefunc.c:13421)\u001b[0;34m()\u001b[0m\n\u001b[1;32m   1965\u001b[0m try:\n\u001b[0;32m-> 1966\u001b[0m     return cache[k]\n\u001b[1;32m   1967\u001b[0m except TypeError:  # k is not hashable\n",
      "\u001b[0;31mKeyError\u001b[0m: ((2,), ())",
      "\nDuring handling of the above exception, another exception occurred:\n",
      "\u001b[0;31mTypeError\u001b[0m                                 Traceback (most recent call last)",
      "Cell \u001b[0;32mIn[12], line 1\u001b[0m\n\u001b[0;32m----> 1\u001b[0m \u001b[43morth\u001b[49m\u001b[38;5;241;43m.\u001b[39;49m\u001b[43mrepresentation_matrix_for_simple_transposition\u001b[49m\u001b[43m(\u001b[49m\u001b[43mi\u001b[49m\u001b[43m)\u001b[49m\n",
      "File \u001b[0;32m/private/var/tmp/sage-10.4-current/local/var/lib/sage/venv-python3.12.4/lib/python3.12/site-packages/sage/misc/cachefunc.pyx:1971\u001b[0m, in \u001b[0;36msage.misc.cachefunc.CachedMethodCaller.__call__ (build/cythonized/sage/misc/cachefunc.c:13557)\u001b[0;34m()\u001b[0m\n\u001b[1;32m   1969\u001b[0m         return cache[k]\n\u001b[1;32m   1970\u001b[0m except KeyError:\n\u001b[0;32m-> 1971\u001b[0m     w = self._instance_call(*args, **kwds)\n\u001b[1;32m   1972\u001b[0m     cache[k] = w\n\u001b[1;32m   1973\u001b[0m     return w\n",
      "File \u001b[0;32m/private/var/tmp/sage-10.4-current/local/var/lib/sage/venv-python3.12.4/lib/python3.12/site-packages/sage/misc/cachefunc.pyx:1846\u001b[0m, in \u001b[0;36msage.misc.cachefunc.CachedMethodCaller._instance_call (build/cythonized/sage/misc/cachefunc.c:13006)\u001b[0;34m()\u001b[0m\n\u001b[1;32m   1844\u001b[0m         True\n\u001b[1;32m   1845\u001b[0m     \"\"\"\n\u001b[0;32m-> 1846\u001b[0m     return self.f(self._instance, *args, **kwds)\n\u001b[1;32m   1847\u001b[0m \n\u001b[1;32m   1848\u001b[0m cdef fix_args_kwds(self, tuple args, dict kwds):\n",
      "File \u001b[0;32m/private/var/tmp/sage-10.4-current/local/var/lib/sage/venv-python3.12.4/lib/python3.12/site-packages/sage/combinat/symmetric_group_representations.py:661\u001b[0m, in \u001b[0;36mYoungRepresentation_generic.representation_matrix_for_simple_transposition\u001b[0;34m(self, i)\u001b[0m\n\u001b[1;32m    659\u001b[0m         iu \u001b[38;5;241m=\u001b[39m index_lookup[u]\n\u001b[1;32m    660\u001b[0m         iv \u001b[38;5;241m=\u001b[39m index_lookup[v]\n\u001b[0;32m--> 661\u001b[0m         M[iu, iu], \u001b[43mM\u001b[49m\u001b[43m[\u001b[49m\u001b[43miu\u001b[49m\u001b[43m,\u001b[49m\u001b[43m \u001b[49m\u001b[43miv\u001b[49m\u001b[43m]\u001b[49m, M[iv, iu], M[iv, iv] \u001b[38;5;241m=\u001b[39m \\\n\u001b[1;32m    662\u001b[0m             \u001b[38;5;28mself\u001b[39m\u001b[38;5;241m.\u001b[39m_2x2_matrix_entries(beta)\n\u001b[1;32m    663\u001b[0m \u001b[38;5;28;01mreturn\u001b[39;00m M\n",
      "File \u001b[0;32m/private/var/tmp/sage-10.4-current/local/var/lib/sage/venv-python3.12.4/lib/python3.12/site-packages/sage/matrix/matrix0.pyx:1487\u001b[0m, in \u001b[0;36msage.matrix.matrix0.Matrix.__setitem__ (build/cythonized/sage/matrix/matrix0.c:13675)\u001b[0;34m()\u001b[0m\n\u001b[1;32m   1485\u001b[0m \n\u001b[1;32m   1486\u001b[0m         if single_row and single_col and not no_col_index:\n\u001b[0;32m-> 1487\u001b[0m             self.set_unsafe(row, col, self._coerce_element(value))\n\u001b[1;32m   1488\u001b[0m             return\n\u001b[1;32m   1489\u001b[0m \n",
      "File \u001b[0;32m/private/var/tmp/sage-10.4-current/local/var/lib/sage/venv-python3.12.4/lib/python3.12/site-packages/sage/matrix/matrix0.pyx:1588\u001b[0m, in \u001b[0;36msage.matrix.matrix0.Matrix._coerce_element (build/cythonized/sage/matrix/matrix0.c:15178)\u001b[0;34m()\u001b[0m\n\u001b[1;32m   1586\u001b[0m     if isinstance(x, Element) and (<Element> x)._parent is self._base_ring:\n\u001b[1;32m   1587\u001b[0m         return x\n\u001b[0;32m-> 1588\u001b[0m     return self._base_ring(x)\n\u001b[1;32m   1589\u001b[0m \n\u001b[1;32m   1590\u001b[0m ###########################################################\n",
      "File \u001b[0;32m/private/var/tmp/sage-10.4-current/local/var/lib/sage/venv-python3.12.4/lib/python3.12/site-packages/sage/structure/parent.pyx:908\u001b[0m, in \u001b[0;36msage.structure.parent.Parent.__call__ (build/cythonized/sage/structure/parent.c:12763)\u001b[0;34m()\u001b[0m\n\u001b[1;32m    906\u001b[0m if mor is not None:\n\u001b[1;32m    907\u001b[0m     if no_extra_args:\n\u001b[0;32m--> 908\u001b[0m         return mor._call_(x)\n\u001b[1;32m    909\u001b[0m     else:\n\u001b[1;32m    910\u001b[0m         return mor._call_with_args(x, args, kwds)\n",
      "File \u001b[0;32m/private/var/tmp/sage-10.4-current/local/var/lib/sage/venv-python3.12.4/lib/python3.12/site-packages/sage/structure/coerce_maps.pyx:164\u001b[0m, in \u001b[0;36msage.structure.coerce_maps.DefaultConvertMap_unique._call_ (build/cythonized/sage/structure/coerce_maps.c:6976)\u001b[0;34m()\u001b[0m\n\u001b[1;32m    162\u001b[0m             print(type(C), C)\n\u001b[1;32m    163\u001b[0m             print(type(C._element_constructor), C._element_constructor)\n\u001b[0;32m--> 164\u001b[0m         raise\n\u001b[1;32m    165\u001b[0m \n\u001b[1;32m    166\u001b[0m cpdef Element _call_with_args(self, x, args=(), kwds={}):\n",
      "File \u001b[0;32m/private/var/tmp/sage-10.4-current/local/var/lib/sage/venv-python3.12.4/lib/python3.12/site-packages/sage/structure/coerce_maps.pyx:159\u001b[0m, in \u001b[0;36msage.structure.coerce_maps.DefaultConvertMap_unique._call_ (build/cythonized/sage/structure/coerce_maps.c:6868)\u001b[0;34m()\u001b[0m\n\u001b[1;32m    157\u001b[0m cdef Parent C = self._codomain\n\u001b[1;32m    158\u001b[0m try:\n\u001b[0;32m--> 159\u001b[0m     return C._element_constructor(x)\n\u001b[1;32m    160\u001b[0m except Exception:\n\u001b[1;32m    161\u001b[0m     if print_warnings:\n",
      "File \u001b[0;32m/private/var/tmp/sage-10.4-current/local/var/lib/sage/venv-python3.12.4/lib/python3.12/site-packages/sage/rings/finite_rings/finite_field_givaro.py:371\u001b[0m, in \u001b[0;36mFiniteField_givaro._element_constructor_\u001b[0;34m(self, e)\u001b[0m\n\u001b[1;32m    230\u001b[0m \u001b[38;5;28;01mdef\u001b[39;00m \u001b[38;5;21m_element_constructor_\u001b[39m(\u001b[38;5;28mself\u001b[39m, e):\n\u001b[1;32m    231\u001b[0m \u001b[38;5;250m    \u001b[39m\u001b[38;5;124;03m\"\"\"\u001b[39;00m\n\u001b[1;32m    232\u001b[0m \u001b[38;5;124;03m    Coerces several data types to ``self``.\u001b[39;00m\n\u001b[1;32m    233\u001b[0m \n\u001b[0;32m   (...)\u001b[0m\n\u001b[1;32m    369\u001b[0m \u001b[38;5;124;03m        2*a4^3 + 2*a4^2 + 1\u001b[39;00m\n\u001b[1;32m    370\u001b[0m \u001b[38;5;124;03m    \"\"\"\u001b[39;00m\n\u001b[0;32m--> 371\u001b[0m     \u001b[38;5;28;01mreturn\u001b[39;00m \u001b[38;5;28;43mself\u001b[39;49m\u001b[38;5;241;43m.\u001b[39;49m\u001b[43m_cache\u001b[49m\u001b[38;5;241;43m.\u001b[39;49m\u001b[43melement_from_data\u001b[49m\u001b[43m(\u001b[49m\u001b[43me\u001b[49m\u001b[43m)\u001b[49m\n",
      "File \u001b[0;32m/private/var/tmp/sage-10.4-current/local/var/lib/sage/venv-python3.12.4/lib/python3.12/site-packages/sage/rings/finite_rings/element_givaro.pyx:298\u001b[0m, in \u001b[0;36msage.rings.finite_rings.element_givaro.Cache_givaro.element_from_data (build/cythonized/sage/rings/finite_rings/element_givaro.cpp:11774)\u001b[0;34m()\u001b[0m\n\u001b[1;32m    296\u001b[0m     return make_FiniteField_givaroElement(self, res)\n\u001b[1;32m    297\u001b[0m \n\u001b[0;32m--> 298\u001b[0m cpdef FiniteField_givaroElement element_from_data(self, e):\n\u001b[1;32m    299\u001b[0m     \"\"\"\n\u001b[1;32m    300\u001b[0m     Coerces several data types to ``self``.\n",
      "File \u001b[0;32m/private/var/tmp/sage-10.4-current/local/var/lib/sage/venv-python3.12.4/lib/python3.12/site-packages/sage/rings/finite_rings/element_givaro.pyx:441\u001b[0m, in \u001b[0;36msage.rings.finite_rings.element_givaro.Cache_givaro.element_from_data (build/cythonized/sage/rings/finite_rings/element_givaro.cpp:11254)\u001b[0;34m()\u001b[0m\n\u001b[1;32m    439\u001b[0m         if isinstance(e, GapElement_FiniteField):\n\u001b[1;32m    440\u001b[0m             return e.sage(ring=self.parent)\n\u001b[0;32m--> 441\u001b[0m     raise TypeError(\"unable to coerce %r\" % type(e))\n\u001b[1;32m    442\u001b[0m \n\u001b[1;32m    443\u001b[0m cdef GEN t\n",
      "\u001b[0;31mTypeError\u001b[0m: unable to coerce <class 'sage.symbolic.expression.Expression'>"
     ]
    }
   ],
   "source": [
    "orth.representation_matrix_for_simple_transposition(i)"
   ]
  },
  {
   "cell_type": "code",
   "execution_count": 22,
   "id": "cd85b08a-0a28-406e-9f88-605389567cd8",
   "metadata": {},
   "outputs": [
    {
     "name": "stdout",
     "output_type": "stream",
     "text": [
      "[       3 6*z2 + 4]\n",
      "[6*z2 + 4        4]\n"
     ]
    }
   ],
   "source": [
    "        from copy import copy\n",
    "        if not (1 <= i < sum(orth._partition)):\n",
    "            raise TypeError\n",
    "        Y = orth._yang_baxter_graph\n",
    "        index_lookup = {b: a for a, b in enumerate(list(Y))}\n",
    "        digraph = copy(Y._digraph)\n",
    "        digraph.delete_edges((u, v) for (u, v, (j, beta)) in digraph.edges(sort=True)\n",
    "                             if j != i)\n",
    "        M = matrix(orth._ring, digraph.num_verts())\n",
    "        for g in digraph.connected_components_subgraphs():\n",
    "            if g.num_verts() == 1:\n",
    "                [v] = g.vertices(sort=True)\n",
    "                w = orth._word_dict[v]\n",
    "                trivial = None\n",
    "                for j, a in enumerate(w):\n",
    "                    if a == i and w[j + 1] == i + 1:\n",
    "                        trivial = True\n",
    "                        break\n",
    "                    elif a == i + 1:\n",
    "                        trivial = False\n",
    "                        break\n",
    "                j = index_lookup[v]\n",
    "                M[j, j] = 1 if trivial is True else -1\n",
    "            else:\n",
    "                [(u, v, (j, beta))] = g.edges(sort=True)\n",
    "                iu = index_lookup[u]\n",
    "                iv = index_lookup[v]\n",
    "                M[iu, iu], M[iu, iv], M[iv, iu], M[iv, iv] = \\\n",
    "                    orth._2x2_matrix_entries(orth._ring(beta))\n",
    "        print(M)"
   ]
  },
  {
   "cell_type": "code",
   "execution_count": 9,
   "id": "1b862289-a5d3-4098-a9f8-adb6eebd6b78",
   "metadata": {},
   "outputs": [
    {
     "ename": "TypeError",
     "evalue": "unable to coerce <class 'sage.symbolic.expression.Expression'>",
     "output_type": "error",
     "traceback": [
      "\u001b[0;31m---------------------------------------------------------------------------\u001b[0m",
      "\u001b[0;31mKeyError\u001b[0m                                  Traceback (most recent call last)",
      "File \u001b[0;32m/private/var/tmp/sage-10.4-current/local/var/lib/sage/venv-python3.12.4/lib/python3.12/site-packages/sage/misc/cachefunc.pyx:1966\u001b[0m, in \u001b[0;36msage.misc.cachefunc.CachedMethodCaller.__call__ (build/cythonized/sage/misc/cachefunc.c:13421)\u001b[0;34m()\u001b[0m\n\u001b[1;32m   1965\u001b[0m try:\n\u001b[0;32m-> 1966\u001b[0m     return cache[k]\n\u001b[1;32m   1967\u001b[0m except TypeError:  # k is not hashable\n",
      "\u001b[0;31mKeyError\u001b[0m: ((2,), ())",
      "\nDuring handling of the above exception, another exception occurred:\n",
      "\u001b[0;31mTypeError\u001b[0m                                 Traceback (most recent call last)",
      "Cell \u001b[0;32mIn[9], line 2\u001b[0m\n\u001b[1;32m      1\u001b[0m \u001b[38;5;28;01mfor\u001b[39;00m i \u001b[38;5;129;01min\u001b[39;00m Permutation([Integer(\u001b[38;5;241m1\u001b[39m),Integer(\u001b[38;5;241m3\u001b[39m),Integer(\u001b[38;5;241m2\u001b[39m)])\u001b[38;5;241m.\u001b[39mreduced_word():\n\u001b[0;32m----> 2\u001b[0m     M \u001b[38;5;241m*\u001b[39m\u001b[38;5;241m=\u001b[39m \u001b[43morth\u001b[49m\u001b[38;5;241;43m.\u001b[39;49m\u001b[43mrepresentation_matrix_for_simple_transposition\u001b[49m\u001b[43m(\u001b[49m\u001b[43mi\u001b[49m\u001b[43m)\u001b[49m\n",
      "File \u001b[0;32m/private/var/tmp/sage-10.4-current/local/var/lib/sage/venv-python3.12.4/lib/python3.12/site-packages/sage/misc/cachefunc.pyx:1971\u001b[0m, in \u001b[0;36msage.misc.cachefunc.CachedMethodCaller.__call__ (build/cythonized/sage/misc/cachefunc.c:13557)\u001b[0;34m()\u001b[0m\n\u001b[1;32m   1969\u001b[0m         return cache[k]\n\u001b[1;32m   1970\u001b[0m except KeyError:\n\u001b[0;32m-> 1971\u001b[0m     w = self._instance_call(*args, **kwds)\n\u001b[1;32m   1972\u001b[0m     cache[k] = w\n\u001b[1;32m   1973\u001b[0m     return w\n",
      "File \u001b[0;32m/private/var/tmp/sage-10.4-current/local/var/lib/sage/venv-python3.12.4/lib/python3.12/site-packages/sage/misc/cachefunc.pyx:1846\u001b[0m, in \u001b[0;36msage.misc.cachefunc.CachedMethodCaller._instance_call (build/cythonized/sage/misc/cachefunc.c:13006)\u001b[0;34m()\u001b[0m\n\u001b[1;32m   1844\u001b[0m         True\n\u001b[1;32m   1845\u001b[0m     \"\"\"\n\u001b[0;32m-> 1846\u001b[0m     return self.f(self._instance, *args, **kwds)\n\u001b[1;32m   1847\u001b[0m \n\u001b[1;32m   1848\u001b[0m cdef fix_args_kwds(self, tuple args, dict kwds):\n",
      "File \u001b[0;32m/private/var/tmp/sage-10.4-current/local/var/lib/sage/venv-python3.12.4/lib/python3.12/site-packages/sage/combinat/symmetric_group_representations.py:661\u001b[0m, in \u001b[0;36mYoungRepresentation_generic.representation_matrix_for_simple_transposition\u001b[0;34m(self, i)\u001b[0m\n\u001b[1;32m    659\u001b[0m         iu \u001b[38;5;241m=\u001b[39m index_lookup[u]\n\u001b[1;32m    660\u001b[0m         iv \u001b[38;5;241m=\u001b[39m index_lookup[v]\n\u001b[0;32m--> 661\u001b[0m         M[iu, iu], \u001b[43mM\u001b[49m\u001b[43m[\u001b[49m\u001b[43miu\u001b[49m\u001b[43m,\u001b[49m\u001b[43m \u001b[49m\u001b[43miv\u001b[49m\u001b[43m]\u001b[49m, M[iv, iu], M[iv, iv] \u001b[38;5;241m=\u001b[39m \\\n\u001b[1;32m    662\u001b[0m             \u001b[38;5;28mself\u001b[39m\u001b[38;5;241m.\u001b[39m_2x2_matrix_entries(beta)\n\u001b[1;32m    663\u001b[0m \u001b[38;5;28;01mreturn\u001b[39;00m M\n",
      "File \u001b[0;32m/private/var/tmp/sage-10.4-current/local/var/lib/sage/venv-python3.12.4/lib/python3.12/site-packages/sage/matrix/matrix0.pyx:1487\u001b[0m, in \u001b[0;36msage.matrix.matrix0.Matrix.__setitem__ (build/cythonized/sage/matrix/matrix0.c:13675)\u001b[0;34m()\u001b[0m\n\u001b[1;32m   1485\u001b[0m \n\u001b[1;32m   1486\u001b[0m         if single_row and single_col and not no_col_index:\n\u001b[0;32m-> 1487\u001b[0m             self.set_unsafe(row, col, self._coerce_element(value))\n\u001b[1;32m   1488\u001b[0m             return\n\u001b[1;32m   1489\u001b[0m \n",
      "File \u001b[0;32m/private/var/tmp/sage-10.4-current/local/var/lib/sage/venv-python3.12.4/lib/python3.12/site-packages/sage/matrix/matrix0.pyx:1588\u001b[0m, in \u001b[0;36msage.matrix.matrix0.Matrix._coerce_element (build/cythonized/sage/matrix/matrix0.c:15178)\u001b[0;34m()\u001b[0m\n\u001b[1;32m   1586\u001b[0m     if isinstance(x, Element) and (<Element> x)._parent is self._base_ring:\n\u001b[1;32m   1587\u001b[0m         return x\n\u001b[0;32m-> 1588\u001b[0m     return self._base_ring(x)\n\u001b[1;32m   1589\u001b[0m \n\u001b[1;32m   1590\u001b[0m ###########################################################\n",
      "File \u001b[0;32m/private/var/tmp/sage-10.4-current/local/var/lib/sage/venv-python3.12.4/lib/python3.12/site-packages/sage/structure/parent.pyx:908\u001b[0m, in \u001b[0;36msage.structure.parent.Parent.__call__ (build/cythonized/sage/structure/parent.c:12763)\u001b[0;34m()\u001b[0m\n\u001b[1;32m    906\u001b[0m if mor is not None:\n\u001b[1;32m    907\u001b[0m     if no_extra_args:\n\u001b[0;32m--> 908\u001b[0m         return mor._call_(x)\n\u001b[1;32m    909\u001b[0m     else:\n\u001b[1;32m    910\u001b[0m         return mor._call_with_args(x, args, kwds)\n",
      "File \u001b[0;32m/private/var/tmp/sage-10.4-current/local/var/lib/sage/venv-python3.12.4/lib/python3.12/site-packages/sage/structure/coerce_maps.pyx:164\u001b[0m, in \u001b[0;36msage.structure.coerce_maps.DefaultConvertMap_unique._call_ (build/cythonized/sage/structure/coerce_maps.c:6976)\u001b[0;34m()\u001b[0m\n\u001b[1;32m    162\u001b[0m             print(type(C), C)\n\u001b[1;32m    163\u001b[0m             print(type(C._element_constructor), C._element_constructor)\n\u001b[0;32m--> 164\u001b[0m         raise\n\u001b[1;32m    165\u001b[0m \n\u001b[1;32m    166\u001b[0m cpdef Element _call_with_args(self, x, args=(), kwds={}):\n",
      "File \u001b[0;32m/private/var/tmp/sage-10.4-current/local/var/lib/sage/venv-python3.12.4/lib/python3.12/site-packages/sage/structure/coerce_maps.pyx:159\u001b[0m, in \u001b[0;36msage.structure.coerce_maps.DefaultConvertMap_unique._call_ (build/cythonized/sage/structure/coerce_maps.c:6868)\u001b[0;34m()\u001b[0m\n\u001b[1;32m    157\u001b[0m cdef Parent C = self._codomain\n\u001b[1;32m    158\u001b[0m try:\n\u001b[0;32m--> 159\u001b[0m     return C._element_constructor(x)\n\u001b[1;32m    160\u001b[0m except Exception:\n\u001b[1;32m    161\u001b[0m     if print_warnings:\n",
      "File \u001b[0;32m/private/var/tmp/sage-10.4-current/local/var/lib/sage/venv-python3.12.4/lib/python3.12/site-packages/sage/rings/finite_rings/finite_field_givaro.py:371\u001b[0m, in \u001b[0;36mFiniteField_givaro._element_constructor_\u001b[0;34m(self, e)\u001b[0m\n\u001b[1;32m    230\u001b[0m \u001b[38;5;28;01mdef\u001b[39;00m \u001b[38;5;21m_element_constructor_\u001b[39m(\u001b[38;5;28mself\u001b[39m, e):\n\u001b[1;32m    231\u001b[0m \u001b[38;5;250m    \u001b[39m\u001b[38;5;124;03m\"\"\"\u001b[39;00m\n\u001b[1;32m    232\u001b[0m \u001b[38;5;124;03m    Coerces several data types to ``self``.\u001b[39;00m\n\u001b[1;32m    233\u001b[0m \n\u001b[0;32m   (...)\u001b[0m\n\u001b[1;32m    369\u001b[0m \u001b[38;5;124;03m        2*a4^3 + 2*a4^2 + 1\u001b[39;00m\n\u001b[1;32m    370\u001b[0m \u001b[38;5;124;03m    \"\"\"\u001b[39;00m\n\u001b[0;32m--> 371\u001b[0m     \u001b[38;5;28;01mreturn\u001b[39;00m \u001b[38;5;28;43mself\u001b[39;49m\u001b[38;5;241;43m.\u001b[39;49m\u001b[43m_cache\u001b[49m\u001b[38;5;241;43m.\u001b[39;49m\u001b[43melement_from_data\u001b[49m\u001b[43m(\u001b[49m\u001b[43me\u001b[49m\u001b[43m)\u001b[49m\n",
      "File \u001b[0;32m/private/var/tmp/sage-10.4-current/local/var/lib/sage/venv-python3.12.4/lib/python3.12/site-packages/sage/rings/finite_rings/element_givaro.pyx:298\u001b[0m, in \u001b[0;36msage.rings.finite_rings.element_givaro.Cache_givaro.element_from_data (build/cythonized/sage/rings/finite_rings/element_givaro.cpp:11774)\u001b[0;34m()\u001b[0m\n\u001b[1;32m    296\u001b[0m     return make_FiniteField_givaroElement(self, res)\n\u001b[1;32m    297\u001b[0m \n\u001b[0;32m--> 298\u001b[0m cpdef FiniteField_givaroElement element_from_data(self, e):\n\u001b[1;32m    299\u001b[0m     \"\"\"\n\u001b[1;32m    300\u001b[0m     Coerces several data types to ``self``.\n",
      "File \u001b[0;32m/private/var/tmp/sage-10.4-current/local/var/lib/sage/venv-python3.12.4/lib/python3.12/site-packages/sage/rings/finite_rings/element_givaro.pyx:441\u001b[0m, in \u001b[0;36msage.rings.finite_rings.element_givaro.Cache_givaro.element_from_data (build/cythonized/sage/rings/finite_rings/element_givaro.cpp:11254)\u001b[0;34m()\u001b[0m\n\u001b[1;32m    439\u001b[0m         if isinstance(e, GapElement_FiniteField):\n\u001b[1;32m    440\u001b[0m             return e.sage(ring=self.parent)\n\u001b[0;32m--> 441\u001b[0m     raise TypeError(\"unable to coerce %r\" % type(e))\n\u001b[1;32m    442\u001b[0m \n\u001b[1;32m    443\u001b[0m cdef GEN t\n",
      "\u001b[0;31mTypeError\u001b[0m: unable to coerce <class 'sage.symbolic.expression.Expression'>"
     ]
    }
   ],
   "source": [
    "for i in Permutation([1,3,2]).reduced_word():\n",
    "    M *= orth.representation_matrix_for_simple_transposition(i)"
   ]
  },
  {
   "cell_type": "code",
   "execution_count": 33,
   "id": "16910afc-c035-408e-8a09-52b34ebc3e98",
   "metadata": {},
   "outputs": [],
   "source": [
    "\"\"\"\n",
    "FIX:\n",
    "\n",
    "- changing line 662 of symmetric_group_representations.py to first convert the element to self._ring before passing it\n",
    "\n",
    "\"\"\";"
   ]
  },
  {
   "cell_type": "code",
   "execution_count": 3,
   "id": "af988b96-a093-4a80-b8ba-e7183243e00c",
   "metadata": {},
   "outputs": [
    {
     "ename": "TypeError",
     "evalue": "unable to coerce <class 'sage.symbolic.expression.Expression'>",
     "output_type": "error",
     "traceback": [
      "\u001b[0;31m---------------------------------------------------------------------------\u001b[0m",
      "\u001b[0;31mKeyError\u001b[0m                                  Traceback (most recent call last)",
      "File \u001b[0;32m/private/var/tmp/sage-10.4-current/local/var/lib/sage/venv-python3.12.4/lib/python3.12/site-packages/sage/misc/cachefunc.pyx:1966\u001b[0m, in \u001b[0;36msage.misc.cachefunc.CachedMethodCaller.__call__ (build/cythonized/sage/misc/cachefunc.c:13421)\u001b[0;34m()\u001b[0m\n\u001b[1;32m   1965\u001b[0m try:\n\u001b[0;32m-> 1966\u001b[0m     return cache[k]\n\u001b[1;32m   1967\u001b[0m except TypeError:  # k is not hashable\n",
      "\u001b[0;31mKeyError\u001b[0m: (([1, 3, 2],), ())",
      "\nDuring handling of the above exception, another exception occurred:\n",
      "\u001b[0;31mKeyError\u001b[0m                                  Traceback (most recent call last)",
      "File \u001b[0;32m/private/var/tmp/sage-10.4-current/local/var/lib/sage/venv-python3.12.4/lib/python3.12/site-packages/sage/misc/cachefunc.pyx:1966\u001b[0m, in \u001b[0;36msage.misc.cachefunc.CachedMethodCaller.__call__ (build/cythonized/sage/misc/cachefunc.c:13421)\u001b[0;34m()\u001b[0m\n\u001b[1;32m   1965\u001b[0m try:\n\u001b[0;32m-> 1966\u001b[0m     return cache[k]\n\u001b[1;32m   1967\u001b[0m except TypeError:  # k is not hashable\n",
      "\u001b[0;31mKeyError\u001b[0m: ((2,), ())",
      "\nDuring handling of the above exception, another exception occurred:\n",
      "\u001b[0;31mTypeError\u001b[0m                                 Traceback (most recent call last)",
      "Cell \u001b[0;32mIn[3], line 1\u001b[0m\n\u001b[0;32m----> 1\u001b[0m \u001b[43morth\u001b[49m\u001b[43m(\u001b[49m\u001b[43m[\u001b[49m\u001b[43mInteger\u001b[49m\u001b[43m(\u001b[49m\u001b[38;5;241;43m1\u001b[39;49m\u001b[43m)\u001b[49m\u001b[43m,\u001b[49m\u001b[43mInteger\u001b[49m\u001b[43m(\u001b[49m\u001b[38;5;241;43m3\u001b[39;49m\u001b[43m)\u001b[49m\u001b[43m,\u001b[49m\u001b[43mInteger\u001b[49m\u001b[43m(\u001b[49m\u001b[38;5;241;43m2\u001b[39;49m\u001b[43m)\u001b[49m\u001b[43m]\u001b[49m\u001b[43m)\u001b[49m\n",
      "File \u001b[0;32m/private/var/tmp/sage-10.4-current/local/var/lib/sage/venv-python3.12.4/lib/python3.12/site-packages/sage/combinat/symmetric_group_representations.py:373\u001b[0m, in \u001b[0;36mSymmetricGroupRepresentation_generic_class.__call__\u001b[0;34m(self, permutation)\u001b[0m\n\u001b[1;32m    362\u001b[0m \u001b[38;5;28;01mdef\u001b[39;00m \u001b[38;5;21m__call__\u001b[39m(\u001b[38;5;28mself\u001b[39m, permutation):\n\u001b[1;32m    363\u001b[0m \u001b[38;5;250m    \u001b[39m\u001b[38;5;124mr\u001b[39m\u001b[38;5;124;03m\"\"\"\u001b[39;00m\n\u001b[1;32m    364\u001b[0m \u001b[38;5;124;03m    Return the image of ``permutation`` in the representation.\u001b[39;00m\n\u001b[1;32m    365\u001b[0m \n\u001b[0;32m   (...)\u001b[0m\n\u001b[1;32m    371\u001b[0m \u001b[38;5;124;03m        [ 1 -1]\u001b[39;00m\n\u001b[1;32m    372\u001b[0m \u001b[38;5;124;03m    \"\"\"\u001b[39;00m\n\u001b[0;32m--> 373\u001b[0m     \u001b[38;5;28;01mreturn\u001b[39;00m \u001b[38;5;28;43mself\u001b[39;49m\u001b[38;5;241;43m.\u001b[39;49m\u001b[43mrepresentation_matrix\u001b[49m\u001b[43m(\u001b[49m\u001b[43mPermutation\u001b[49m\u001b[43m(\u001b[49m\u001b[43mpermutation\u001b[49m\u001b[43m)\u001b[49m\u001b[43m)\u001b[49m\n",
      "File \u001b[0;32m/private/var/tmp/sage-10.4-current/local/var/lib/sage/venv-python3.12.4/lib/python3.12/site-packages/sage/misc/cachefunc.pyx:1971\u001b[0m, in \u001b[0;36msage.misc.cachefunc.CachedMethodCaller.__call__ (build/cythonized/sage/misc/cachefunc.c:13557)\u001b[0;34m()\u001b[0m\n\u001b[1;32m   1969\u001b[0m         return cache[k]\n\u001b[1;32m   1970\u001b[0m except KeyError:\n\u001b[0;32m-> 1971\u001b[0m     w = self._instance_call(*args, **kwds)\n\u001b[1;32m   1972\u001b[0m     cache[k] = w\n\u001b[1;32m   1973\u001b[0m     return w\n",
      "File \u001b[0;32m/private/var/tmp/sage-10.4-current/local/var/lib/sage/venv-python3.12.4/lib/python3.12/site-packages/sage/misc/cachefunc.pyx:1846\u001b[0m, in \u001b[0;36msage.misc.cachefunc.CachedMethodCaller._instance_call (build/cythonized/sage/misc/cachefunc.c:13006)\u001b[0;34m()\u001b[0m\n\u001b[1;32m   1844\u001b[0m         True\n\u001b[1;32m   1845\u001b[0m     \"\"\"\n\u001b[0;32m-> 1846\u001b[0m     return self.f(self._instance, *args, **kwds)\n\u001b[1;32m   1847\u001b[0m \n\u001b[1;32m   1848\u001b[0m cdef fix_args_kwds(self, tuple args, dict kwds):\n",
      "File \u001b[0;32m/private/var/tmp/sage-10.4-current/local/var/lib/sage/venv-python3.12.4/lib/python3.12/site-packages/sage/combinat/symmetric_group_representations.py:724\u001b[0m, in \u001b[0;36mYoungRepresentation_generic.representation_matrix\u001b[0;34m(self, permutation)\u001b[0m\n\u001b[1;32m    697\u001b[0m \u001b[38;5;129m@cached_method\u001b[39m\n\u001b[1;32m    698\u001b[0m \u001b[38;5;28;01mdef\u001b[39;00m \u001b[38;5;21mrepresentation_matrix\u001b[39m(\u001b[38;5;28mself\u001b[39m, permutation):\n\u001b[1;32m    699\u001b[0m \u001b[38;5;250m    \u001b[39m\u001b[38;5;124mr\u001b[39m\u001b[38;5;124;03m\"\"\"\u001b[39;00m\n\u001b[1;32m    700\u001b[0m \u001b[38;5;124;03m    Return the matrix representing ``permutation``.\u001b[39;00m\n\u001b[1;32m    701\u001b[0m \n\u001b[0;32m   (...)\u001b[0m\n\u001b[1;32m    722\u001b[0m \u001b[38;5;124;03m        [ 1/2  1/2]\u001b[39;00m\n\u001b[1;32m    723\u001b[0m \u001b[38;5;124;03m    \"\"\"\u001b[39;00m\n\u001b[0;32m--> 724\u001b[0m     ret \u001b[38;5;241m=\u001b[39m \u001b[38;5;28;43mself\u001b[39;49m\u001b[38;5;241;43m.\u001b[39;49m\u001b[43m_representation_matrix_uncached\u001b[49m\u001b[43m(\u001b[49m\u001b[43mpermutation\u001b[49m\u001b[43m)\u001b[49m\n\u001b[1;32m    725\u001b[0m     ret\u001b[38;5;241m.\u001b[39mset_immutable()\n\u001b[1;32m    726\u001b[0m     \u001b[38;5;28;01mreturn\u001b[39;00m ret\n",
      "File \u001b[0;32m/private/var/tmp/sage-10.4-current/local/var/lib/sage/venv-python3.12.4/lib/python3.12/site-packages/sage/combinat/symmetric_group_representations.py:694\u001b[0m, in \u001b[0;36mYoungRepresentation_generic._representation_matrix_uncached\u001b[0;34m(self, permutation)\u001b[0m\n\u001b[1;32m    692\u001b[0m M \u001b[38;5;241m=\u001b[39m matrix(\u001b[38;5;28mself\u001b[39m\u001b[38;5;241m.\u001b[39m_ring, m, m, \u001b[38;5;241m1\u001b[39m)\n\u001b[1;32m    693\u001b[0m \u001b[38;5;28;01mfor\u001b[39;00m i \u001b[38;5;129;01min\u001b[39;00m Permutation(permutation)\u001b[38;5;241m.\u001b[39mreduced_word():\n\u001b[0;32m--> 694\u001b[0m     M \u001b[38;5;241m*\u001b[39m\u001b[38;5;241m=\u001b[39m \u001b[38;5;28;43mself\u001b[39;49m\u001b[38;5;241;43m.\u001b[39;49m\u001b[43mrepresentation_matrix_for_simple_transposition\u001b[49m\u001b[43m(\u001b[49m\u001b[43mi\u001b[49m\u001b[43m)\u001b[49m\n\u001b[1;32m    695\u001b[0m \u001b[38;5;28;01mreturn\u001b[39;00m M\n",
      "File \u001b[0;32m/private/var/tmp/sage-10.4-current/local/var/lib/sage/venv-python3.12.4/lib/python3.12/site-packages/sage/misc/cachefunc.pyx:1971\u001b[0m, in \u001b[0;36msage.misc.cachefunc.CachedMethodCaller.__call__ (build/cythonized/sage/misc/cachefunc.c:13557)\u001b[0;34m()\u001b[0m\n\u001b[1;32m   1969\u001b[0m         return cache[k]\n\u001b[1;32m   1970\u001b[0m except KeyError:\n\u001b[0;32m-> 1971\u001b[0m     w = self._instance_call(*args, **kwds)\n\u001b[1;32m   1972\u001b[0m     cache[k] = w\n\u001b[1;32m   1973\u001b[0m     return w\n",
      "File \u001b[0;32m/private/var/tmp/sage-10.4-current/local/var/lib/sage/venv-python3.12.4/lib/python3.12/site-packages/sage/misc/cachefunc.pyx:1846\u001b[0m, in \u001b[0;36msage.misc.cachefunc.CachedMethodCaller._instance_call (build/cythonized/sage/misc/cachefunc.c:13006)\u001b[0;34m()\u001b[0m\n\u001b[1;32m   1844\u001b[0m         True\n\u001b[1;32m   1845\u001b[0m     \"\"\"\n\u001b[0;32m-> 1846\u001b[0m     return self.f(self._instance, *args, **kwds)\n\u001b[1;32m   1847\u001b[0m \n\u001b[1;32m   1848\u001b[0m cdef fix_args_kwds(self, tuple args, dict kwds):\n",
      "File \u001b[0;32m/private/var/tmp/sage-10.4-current/local/var/lib/sage/venv-python3.12.4/lib/python3.12/site-packages/sage/combinat/symmetric_group_representations.py:661\u001b[0m, in \u001b[0;36mYoungRepresentation_generic.representation_matrix_for_simple_transposition\u001b[0;34m(self, i)\u001b[0m\n\u001b[1;32m    659\u001b[0m         iu \u001b[38;5;241m=\u001b[39m index_lookup[u]\n\u001b[1;32m    660\u001b[0m         iv \u001b[38;5;241m=\u001b[39m index_lookup[v]\n\u001b[0;32m--> 661\u001b[0m         M[iu, iu], \u001b[43mM\u001b[49m\u001b[43m[\u001b[49m\u001b[43miu\u001b[49m\u001b[43m,\u001b[49m\u001b[43m \u001b[49m\u001b[43miv\u001b[49m\u001b[43m]\u001b[49m, M[iv, iu], M[iv, iv] \u001b[38;5;241m=\u001b[39m \\\n\u001b[1;32m    662\u001b[0m             \u001b[38;5;28mself\u001b[39m\u001b[38;5;241m.\u001b[39m_2x2_matrix_entries(beta)\n\u001b[1;32m    663\u001b[0m \u001b[38;5;28;01mreturn\u001b[39;00m M\n",
      "File \u001b[0;32m/private/var/tmp/sage-10.4-current/local/var/lib/sage/venv-python3.12.4/lib/python3.12/site-packages/sage/matrix/matrix0.pyx:1487\u001b[0m, in \u001b[0;36msage.matrix.matrix0.Matrix.__setitem__ (build/cythonized/sage/matrix/matrix0.c:13675)\u001b[0;34m()\u001b[0m\n\u001b[1;32m   1485\u001b[0m \n\u001b[1;32m   1486\u001b[0m         if single_row and single_col and not no_col_index:\n\u001b[0;32m-> 1487\u001b[0m             self.set_unsafe(row, col, self._coerce_element(value))\n\u001b[1;32m   1488\u001b[0m             return\n\u001b[1;32m   1489\u001b[0m \n",
      "File \u001b[0;32m/private/var/tmp/sage-10.4-current/local/var/lib/sage/venv-python3.12.4/lib/python3.12/site-packages/sage/matrix/matrix0.pyx:1588\u001b[0m, in \u001b[0;36msage.matrix.matrix0.Matrix._coerce_element (build/cythonized/sage/matrix/matrix0.c:15178)\u001b[0;34m()\u001b[0m\n\u001b[1;32m   1586\u001b[0m     if isinstance(x, Element) and (<Element> x)._parent is self._base_ring:\n\u001b[1;32m   1587\u001b[0m         return x\n\u001b[0;32m-> 1588\u001b[0m     return self._base_ring(x)\n\u001b[1;32m   1589\u001b[0m \n\u001b[1;32m   1590\u001b[0m ###########################################################\n",
      "File \u001b[0;32m/private/var/tmp/sage-10.4-current/local/var/lib/sage/venv-python3.12.4/lib/python3.12/site-packages/sage/structure/parent.pyx:908\u001b[0m, in \u001b[0;36msage.structure.parent.Parent.__call__ (build/cythonized/sage/structure/parent.c:12763)\u001b[0;34m()\u001b[0m\n\u001b[1;32m    906\u001b[0m if mor is not None:\n\u001b[1;32m    907\u001b[0m     if no_extra_args:\n\u001b[0;32m--> 908\u001b[0m         return mor._call_(x)\n\u001b[1;32m    909\u001b[0m     else:\n\u001b[1;32m    910\u001b[0m         return mor._call_with_args(x, args, kwds)\n",
      "File \u001b[0;32m/private/var/tmp/sage-10.4-current/local/var/lib/sage/venv-python3.12.4/lib/python3.12/site-packages/sage/structure/coerce_maps.pyx:164\u001b[0m, in \u001b[0;36msage.structure.coerce_maps.DefaultConvertMap_unique._call_ (build/cythonized/sage/structure/coerce_maps.c:6976)\u001b[0;34m()\u001b[0m\n\u001b[1;32m    162\u001b[0m             print(type(C), C)\n\u001b[1;32m    163\u001b[0m             print(type(C._element_constructor), C._element_constructor)\n\u001b[0;32m--> 164\u001b[0m         raise\n\u001b[1;32m    165\u001b[0m \n\u001b[1;32m    166\u001b[0m cpdef Element _call_with_args(self, x, args=(), kwds={}):\n",
      "File \u001b[0;32m/private/var/tmp/sage-10.4-current/local/var/lib/sage/venv-python3.12.4/lib/python3.12/site-packages/sage/structure/coerce_maps.pyx:159\u001b[0m, in \u001b[0;36msage.structure.coerce_maps.DefaultConvertMap_unique._call_ (build/cythonized/sage/structure/coerce_maps.c:6868)\u001b[0;34m()\u001b[0m\n\u001b[1;32m    157\u001b[0m cdef Parent C = self._codomain\n\u001b[1;32m    158\u001b[0m try:\n\u001b[0;32m--> 159\u001b[0m     return C._element_constructor(x)\n\u001b[1;32m    160\u001b[0m except Exception:\n\u001b[1;32m    161\u001b[0m     if print_warnings:\n",
      "File \u001b[0;32m/private/var/tmp/sage-10.4-current/local/var/lib/sage/venv-python3.12.4/lib/python3.12/site-packages/sage/rings/finite_rings/finite_field_givaro.py:371\u001b[0m, in \u001b[0;36mFiniteField_givaro._element_constructor_\u001b[0;34m(self, e)\u001b[0m\n\u001b[1;32m    230\u001b[0m \u001b[38;5;28;01mdef\u001b[39;00m \u001b[38;5;21m_element_constructor_\u001b[39m(\u001b[38;5;28mself\u001b[39m, e):\n\u001b[1;32m    231\u001b[0m \u001b[38;5;250m    \u001b[39m\u001b[38;5;124;03m\"\"\"\u001b[39;00m\n\u001b[1;32m    232\u001b[0m \u001b[38;5;124;03m    Coerces several data types to ``self``.\u001b[39;00m\n\u001b[1;32m    233\u001b[0m \n\u001b[0;32m   (...)\u001b[0m\n\u001b[1;32m    369\u001b[0m \u001b[38;5;124;03m        2*a4^3 + 2*a4^2 + 1\u001b[39;00m\n\u001b[1;32m    370\u001b[0m \u001b[38;5;124;03m    \"\"\"\u001b[39;00m\n\u001b[0;32m--> 371\u001b[0m     \u001b[38;5;28;01mreturn\u001b[39;00m \u001b[38;5;28;43mself\u001b[39;49m\u001b[38;5;241;43m.\u001b[39;49m\u001b[43m_cache\u001b[49m\u001b[38;5;241;43m.\u001b[39;49m\u001b[43melement_from_data\u001b[49m\u001b[43m(\u001b[49m\u001b[43me\u001b[49m\u001b[43m)\u001b[49m\n",
      "File \u001b[0;32m/private/var/tmp/sage-10.4-current/local/var/lib/sage/venv-python3.12.4/lib/python3.12/site-packages/sage/rings/finite_rings/element_givaro.pyx:298\u001b[0m, in \u001b[0;36msage.rings.finite_rings.element_givaro.Cache_givaro.element_from_data (build/cythonized/sage/rings/finite_rings/element_givaro.cpp:11774)\u001b[0;34m()\u001b[0m\n\u001b[1;32m    296\u001b[0m     return make_FiniteField_givaroElement(self, res)\n\u001b[1;32m    297\u001b[0m \n\u001b[0;32m--> 298\u001b[0m cpdef FiniteField_givaroElement element_from_data(self, e):\n\u001b[1;32m    299\u001b[0m     \"\"\"\n\u001b[1;32m    300\u001b[0m     Coerces several data types to ``self``.\n",
      "File \u001b[0;32m/private/var/tmp/sage-10.4-current/local/var/lib/sage/venv-python3.12.4/lib/python3.12/site-packages/sage/rings/finite_rings/element_givaro.pyx:441\u001b[0m, in \u001b[0;36msage.rings.finite_rings.element_givaro.Cache_givaro.element_from_data (build/cythonized/sage/rings/finite_rings/element_givaro.cpp:11254)\u001b[0;34m()\u001b[0m\n\u001b[1;32m    439\u001b[0m         if isinstance(e, GapElement_FiniteField):\n\u001b[1;32m    440\u001b[0m             return e.sage(ring=self.parent)\n\u001b[0;32m--> 441\u001b[0m     raise TypeError(\"unable to coerce %r\" % type(e))\n\u001b[1;32m    442\u001b[0m \n\u001b[1;32m    443\u001b[0m cdef GEN t\n",
      "\u001b[0;31mTypeError\u001b[0m: unable to coerce <class 'sage.symbolic.expression.Expression'>"
     ]
    }
   ],
   "source": [
    "orth([1,3,2])"
   ]
  },
  {
   "cell_type": "code",
   "execution_count": 12,
   "id": "860473dc-f873-4e4f-88bf-05dd1baf9982",
   "metadata": {},
   "outputs": [],
   "source": [
    "F.<a> = GF(7^2)"
   ]
  },
  {
   "cell_type": "code",
   "execution_count": 23,
   "id": "1a03ccba-46fa-424b-bc1b-e1a12ede7cce",
   "metadata": {},
   "outputs": [
    {
     "data": {
      "text/plain": [
       "2*z2 + 6"
      ]
     },
     "execution_count": 23,
     "metadata": {},
     "output_type": "execute_result"
    }
   ],
   "source": [
    "sqrt(GF(7^2)(3))"
   ]
  },
  {
   "cell_type": "code",
   "execution_count": null,
   "id": "9bcd74d8-c2e2-4945-bc3f-3fce3e4b3159",
   "metadata": {},
   "outputs": [],
   "source": []
  }
 ],
 "metadata": {
  "kernelspec": {
   "display_name": "SageMath 10.4",
   "language": "sage",
   "name": "sagemath-10.4"
  },
  "language_info": {
   "codemirror_mode": {
    "name": "ipython",
    "version": 3
   },
   "file_extension": ".py",
   "mimetype": "text/x-python",
   "name": "python",
   "nbconvert_exporter": "python",
   "pygments_lexer": "ipython3",
   "version": "3.12.4"
  }
 },
 "nbformat": 4,
 "nbformat_minor": 5
}
