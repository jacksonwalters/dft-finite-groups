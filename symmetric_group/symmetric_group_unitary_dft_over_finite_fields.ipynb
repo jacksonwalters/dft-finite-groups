{
 "cells": [
  {
   "cell_type": "code",
   "execution_count": 1,
   "id": "ba61a7c6-db85-4449-bd7a-b6209451b0a4",
   "metadata": {},
   "outputs": [],
   "source": [
    "#put unitary representations of the symmetric group over GF(q^2) together to form unitary DFT\n",
    "#if each rep'n is unitary, and we use normalizing factors \\sqrt{d_\\rho/|G|}, the overall matrix should be unitary"
   ]
  },
  {
   "cell_type": "code",
   "execution_count": 18,
   "id": "f569f840-f5f9-4edc-bc05-97690f7d9214",
   "metadata": {},
   "outputs": [],
   "source": [
    "n = 3; q = 5\n",
    "SGA = SymmetricGroupAlgebra(GF(q^2), n)"
   ]
  },
  {
   "cell_type": "code",
   "execution_count": 2,
   "id": "4f51f478-cd37-4c67-8455-7250d6e8f643",
   "metadata": {},
   "outputs": [],
   "source": [
    "#define conjugation as x |--> x**q, an order two automorphism of F_q^2. note x**q == x for x \\in F_q.\n",
    "def conjugate_pos_char(A):\n",
    "    assert A.nrows() == A.ncols()\n",
    "    field_size = A.base_ring().order()\n",
    "    q = sqrt(field_size) if field_size.is_square() else field_size\n",
    "    return matrix(GF(q**2),[[A[i][j]**q for j in range(A.nrows())] for i in range(A.nrows())])"
   ]
  },
  {
   "cell_type": "code",
   "execution_count": 3,
   "id": "e7503dc4-4985-440f-a1ee-342443a3bfcc",
   "metadata": {},
   "outputs": [],
   "source": [
    "def invariant_symmetric_bilinear_matrix(q,partition):\n",
    "    \"\"\"\n",
    "    Computes the matrix of a S_n-invariant symmetric bilinear form.\n",
    "\n",
    "    Sets up and solves system of linear equations based on writing U as an unknown in polynomial ring generators. \n",
    "\n",
    "    The equations are \\rho(g)^T*U*\\overline{\\rho(g)} = \\lambda_g*U where \\lambda_g = \\det(\\rho(g))\\overline{\\det(\\rho(g))}.\n",
    "\n",
    "    The variables for U can be extracted to yield a matrix over GF(q^2) for each g.\n",
    "    \n",
    "    These are stacked to get the overall system, and we find the one dim'l null space to get a solution vector, and format as a matrix.\n",
    "\n",
    "    Note: one could also form the Kroenecker products \\rho(g) \\otimes \\rho(g)^{-1 T} to explicitly obtain the system.\n",
    "    \n",
    "    \"\"\"\n",
    "\n",
    "    # Define the group G and its rep'n as a Specht module, dimension\n",
    "    n = sum(partition)\n",
    "    SGA = SymmetricGroupAlgebra(GF(q^2), n)\n",
    "    SM = SGA.specht_module(partition)\n",
    "    G = SGA.group()\n",
    "    rho = SM.representation_matrix\n",
    "    d_rho = SM.dimension()\n",
    "    \n",
    "    # Initialize U as a matrix of variables over GF(q^2)\n",
    "    R = PolynomialRing(GF(q^2), 'u', d_rho^2)\n",
    "    U_vars = R.gens()  # List of variable generators for U\n",
    "    U = Matrix(R, d_rho, d_rho, U_vars)  # U is a d_rho x d_rho matrix of variables\n",
    "    \n",
    "    # for each generator of G, form the augmented system \n",
    "    def augmented_matrix(g):\n",
    "\n",
    "        #compute \\rho(g), transpose, conjugate\n",
    "        rho_g = rho(Permutation(g))\n",
    "        rho_g_T = rho_g.transpose()\n",
    "        rho_g_conj = conjugate_pos_char(rho_g)\n",
    "    \n",
    "        # Compute lambda_g\n",
    "        det_rho_g = det(rho_g)\n",
    "        lambda_g = det_rho_g * (det_rho_g ** q)\n",
    "    \n",
    "        # Form the matrix equation \\rho(g)^T*U*\\overline{\\rho(g)} = \\lambda_g * U\n",
    "        equation_matrix = rho_g_T*U*rho_g_conj - lambda_g * U\n",
    "    \n",
    "        # Initialize a list to hold rows of the augmented system\n",
    "        augmented_system = []\n",
    "    \n",
    "        # Extract coefficients for each linear equation in the matrix\n",
    "        for i in range(d_rho):\n",
    "            for j in range(d_rho):\n",
    "                # Get the (i, j) entry of the equation matrix, which is a linear combination of the u variables\n",
    "                linear_expression = equation_matrix[i, j]\n",
    "            \n",
    "                # Extract the coefficients of each u_k in the linear expression\n",
    "                row = [linear_expression.coefficient(u) for u in U_vars]\n",
    "            \n",
    "                # Append the row to the augmented system\n",
    "                augmented_system.append(row)\n",
    "    \n",
    "        # Convert the augmented system to a matrix\n",
    "        return Matrix(GF(q^2), augmented_system)\n",
    "\n",
    "    #stack linear systems for each g in G\n",
    "    total_system = matrix(GF(q^2),0,d_rho^2)\n",
    "    for g in G:\n",
    "        total_system = total_system.stack(augmented_matrix(g))\n",
    "    \n",
    "    #compute the null space of the overall matrix\n",
    "    null_space = total_system.right_kernel()\n",
    "    \n",
    "    #return a d_rho x d_rho matrix over GF(q^2) from the 1 dim'l null space given as vector\n",
    "    U_mats = [matrix(GF(q^2),d_rho,d_rho,b) for b in null_space.basis()]\n",
    "\n",
    "    #verify that a solution to the linear system satisfies the G-invariance property\n",
    "    assert all(rho(g).transpose()*U_mats[0]*conjugate_pos_char(rho(g)) == U_mats[0] for g in G)\n",
    "    \n",
    "    return U_mats"
   ]
  },
  {
   "cell_type": "code",
   "execution_count": 69,
   "id": "30fb1aca-af69-419c-8662-afd2689075f7",
   "metadata": {},
   "outputs": [],
   "source": [
    "#use libgap.eval for GAP evalutation of BaseChangeToCanonical using `forms` package\n",
    "def unitary_change_of_basis(U,q):\n",
    "    libgap.LoadPackage(\"forms\")\n",
    "    if U.nrows() == 1 and U.ncols() == 1:\n",
    "        u = U[0, 0]\n",
    "        if u == 0:\n",
    "            return matrix(GF(q**2), [[0]])  # Special case for 0\n",
    "        F = GF(q**2)\n",
    "        z = F.multiplicative_generator()\n",
    "        k = u.log(z)  # Compute discrete log of u to the base z\n",
    "        if k % (q + 1) != 0:\n",
    "            raise ValueError(\"Matrix entry is not a unitary form (k is not divisible by q+1).\")\n",
    "        m = k // (q+1)  # Quotient\n",
    "        l = m % (q-1)  # Reduce modulo (q-1)\n",
    "        a = z**l\n",
    "        return matrix(F, [[a]])\n",
    "    return matrix(GF(q^2),libgap.BaseChangeToCanonical(libgap([list(row) for row in U]).HermitianFormByMatrix(GF(q^2)))).inverse()"
   ]
  },
  {
   "cell_type": "code",
   "execution_count": 88,
   "id": "d4f8665b-e7f5-4447-8176-7828bf76bb38",
   "metadata": {},
   "outputs": [],
   "source": [
    "#define the Fourier coefficient at the rep'n specht_module corresponding to partition\n",
    "def hat(f,partition,SGA,unitary=False):\n",
    "    specht_module = SGA.specht_module(partition)\n",
    "    rho = specht_module.representation_matrix\n",
    "    if unitary:\n",
    "        U = invariant_symmetric_bilinear_matrix(q,partition)[0]\n",
    "        A = unitary_change_of_basis(U,q)\n",
    "        A_star = conjugate_pos_char(A).transpose()\n",
    "        unitary_factor = specht_module.dimension()/SGA.group().cardinality()\n",
    "        sqrt_unitary_factor = sqrt(GF(q**2)(unitary_factor))\n",
    "        return sqrt_unitary_factor*sum(f(g)*A_star*rho(g)*A_star.inverse() for g in SGA.group())\n",
    "    else:\n",
    "        return sum(f(g)*rho(g) for g in SGA.group())"
   ]
  },
  {
   "cell_type": "code",
   "execution_count": 26,
   "id": "674d3e05-89e0-4efd-ab2f-7158bf6d9eb3",
   "metadata": {},
   "outputs": [],
   "source": [
    "#for each basis element g \\in G compute the Fourier coefficients \\hat{\\delta_g}(partition) for all partitions\n",
    "from sage.misc.flatten import flatten\n",
    "delta = lambda s: lambda t: 1 if t == s else 0 #delta function \\delta_s(t)\n",
    "def dft(SGA,unitary=False):\n",
    "    fourier_transform = [flatten([hat(delta(g),partition,SGA,unitary).list() for partition in Partitions(SGA.group().degree())]) for g in SGA.group()]\n",
    "    if unitary:\n",
    "        return matrix(GF(q**2),fourier_transform).transpose()\n",
    "    else:\n",
    "        return matrix(fourier_transform).transpose()"
   ]
  },
  {
   "cell_type": "code",
   "execution_count": 93,
   "id": "7e9532cb-66d7-4bf6-8ced-3197e384de17",
   "metadata": {},
   "outputs": [
    {
     "data": {
      "text/plain": [
       "[       1        1        1        1        1        1]\n",
       "[4*z2 + 3 2*z2 + 4   z2 + 2 3*z2 + 1 3*z2 + 1 2*z2 + 4]\n",
       "[       0 2*z2 + 2        0 3*z2 + 3 2*z2 + 2 3*z2 + 3]\n",
       "[       0 2*z2 + 1        0 2*z2 + 1 3*z2 + 4 3*z2 + 4]\n",
       "[4*z2 + 3 3*z2 + 1 4*z2 + 3 3*z2 + 1 3*z2 + 1 3*z2 + 1]\n",
       "[       1        4        4        1        1        4]"
      ]
     },
     "execution_count": 93,
     "metadata": {},
     "output_type": "execute_result"
    }
   ],
   "source": [
    "unitary_dft = dft(SGA,unitary=True); unitary_dft"
   ]
  },
  {
   "cell_type": "code",
   "execution_count": 94,
   "id": "f561a0f9-d302-44fb-8af3-5e60842e4470",
   "metadata": {},
   "outputs": [
    {
     "data": {
      "text/plain": [
       "[1 0 0 0 0 0]\n",
       "[0 4 0 0 0 0]\n",
       "[0 0 4 0 0 0]\n",
       "[0 0 0 4 0 0]\n",
       "[0 0 0 0 4 0]\n",
       "[0 0 0 0 0 1]"
      ]
     },
     "execution_count": 94,
     "metadata": {},
     "output_type": "execute_result"
    }
   ],
   "source": [
    "unitary_dft*conjugate_pos_char(unitary_dft).transpose()"
   ]
  },
  {
   "cell_type": "code",
   "execution_count": null,
   "id": "ae5d400b-721c-4edb-8921-47b07d97bf6a",
   "metadata": {},
   "outputs": [],
   "source": []
  }
 ],
 "metadata": {
  "kernelspec": {
   "display_name": "SageMath 10.4",
   "language": "sage",
   "name": "sagemath-10.4"
  },
  "language_info": {
   "codemirror_mode": {
    "name": "ipython",
    "version": 3
   },
   "file_extension": ".py",
   "mimetype": "text/x-python",
   "name": "python",
   "nbconvert_exporter": "python",
   "pygments_lexer": "ipython3",
   "version": "3.12.4"
  }
 },
 "nbformat": 4,
 "nbformat_minor": 5
}
