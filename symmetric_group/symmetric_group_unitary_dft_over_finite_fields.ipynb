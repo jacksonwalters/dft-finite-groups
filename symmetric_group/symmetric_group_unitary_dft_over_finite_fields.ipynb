{
 "cells": [
  {
   "cell_type": "code",
   "execution_count": 1,
   "id": "ba61a7c6-db85-4449-bd7a-b6209451b0a4",
   "metadata": {},
   "outputs": [],
   "source": [
    "#put unitary representations of the symmetric group over GF(q^2) together to form unitary DFT\n",
    "#if each rep'n is unitary, and we use normalizing factors \\sqrt{d_\\rho/|G|}, the overall matrix should be unitary"
   ]
  },
  {
   "cell_type": "code",
   "execution_count": 1,
   "id": "4f51f478-cd37-4c67-8455-7250d6e8f643",
   "metadata": {},
   "outputs": [],
   "source": [
    "#define conjugation as x |--> x**q, an order two automorphism of F_q^2. note x**q == x for x \\in F_q.\n",
    "def conjugate_pos_char(A):\n",
    "    assert A.nrows() == A.ncols()\n",
    "    field_size = A.base_ring().order()\n",
    "    q = sqrt(field_size) if field_size.is_square() else field_size\n",
    "    return matrix(GF(q**2),[[A[i][j]**q for j in range(A.nrows())] for i in range(A.nrows())])"
   ]
  },
  {
   "cell_type": "code",
   "execution_count": 2,
   "id": "e7503dc4-4985-440f-a1ee-342443a3bfcc",
   "metadata": {},
   "outputs": [],
   "source": [
    "def invariant_symmetric_bilinear_matrix(q,partition):\n",
    "    \"\"\"\n",
    "    Computes the matrix of a S_n-invariant symmetric bilinear form.\n",
    "\n",
    "    Sets up and solves system of linear equations based on writing U as an unknown in polynomial ring generators. \n",
    "\n",
    "    The equations are \\rho(g)^T*U*\\overline{\\rho(g)} = \\lambda_g*U where \\lambda_g = \\det(\\rho(g))\\overline{\\det(\\rho(g))}.\n",
    "\n",
    "    The variables for U can be extracted to yield a matrix over GF(q^2) for each g.\n",
    "    \n",
    "    These are stacked to get the overall system, and we find the one dim'l null space to get a solution vector, and format as a matrix.\n",
    "\n",
    "    Note: one could also form the Kroenecker products \\rho(g) \\otimes \\rho(g)^{-1 T} to explicitly obtain the system.\n",
    "    \n",
    "    \"\"\"\n",
    "\n",
    "    # Define the group G and its rep'n as a Specht module, dimension\n",
    "    n = sum(partition)\n",
    "    SGA = SymmetricGroupAlgebra(GF(q^2), n)\n",
    "    SM = SGA.specht_module(partition)\n",
    "    G = SGA.group()\n",
    "    rho = SM.representation_matrix\n",
    "    d_rho = SM.dimension()\n",
    "    \n",
    "    # Initialize U as a matrix of variables over GF(q^2)\n",
    "    R = PolynomialRing(GF(q^2), 'u', d_rho^2)\n",
    "    U_vars = R.gens()  # List of variable generators for U\n",
    "    U = Matrix(R, d_rho, d_rho, U_vars)  # U is a d_rho x d_rho matrix of variables\n",
    "    \n",
    "    # for each generator of G, form the augmented system \n",
    "    def augmented_matrix(g):\n",
    "\n",
    "        #compute \\rho(g), transpose, conjugate\n",
    "        rho_g = rho(Permutation(g))\n",
    "        rho_g_T = rho_g.transpose()\n",
    "        rho_g_conj = conjugate_pos_char(rho_g)\n",
    "    \n",
    "        # Compute lambda_g\n",
    "        det_rho_g = det(rho_g)\n",
    "        lambda_g = det_rho_g * (det_rho_g ** q)\n",
    "    \n",
    "        # Form the matrix equation \\rho(g)^T*U*\\overline{\\rho(g)} = \\lambda_g * U\n",
    "        equation_matrix = rho_g_T*U*rho_g_conj - lambda_g * U\n",
    "    \n",
    "        # Initialize a list to hold rows of the augmented system\n",
    "        augmented_system = []\n",
    "    \n",
    "        # Extract coefficients for each linear equation in the matrix\n",
    "        for i in range(d_rho):\n",
    "            for j in range(d_rho):\n",
    "                # Get the (i, j) entry of the equation matrix, which is a linear combination of the u variables\n",
    "                linear_expression = equation_matrix[i, j]\n",
    "            \n",
    "                # Extract the coefficients of each u_k in the linear expression\n",
    "                row = [linear_expression.coefficient(u) for u in U_vars]\n",
    "            \n",
    "                # Append the row to the augmented system\n",
    "                augmented_system.append(row)\n",
    "    \n",
    "        # Convert the augmented system to a matrix\n",
    "        return Matrix(GF(q^2), augmented_system)\n",
    "\n",
    "    #stack linear systems for each g in G\n",
    "    total_system = matrix(GF(q^2),0,d_rho^2)\n",
    "    for g in G:\n",
    "        total_system = total_system.stack(augmented_matrix(g))\n",
    "    \n",
    "    #compute the null space of the overall matrix\n",
    "    null_space = total_system.right_kernel()\n",
    "    \n",
    "    #return a d_rho x d_rho matrix over GF(q^2) from the 1 dim'l null space given as vector\n",
    "    U_mats = [matrix(GF(q^2),d_rho,d_rho,b) for b in null_space.basis()]\n",
    "\n",
    "    #verify that a solution to the linear system satisfies the G-invariance property\n",
    "    assert all(rho(g).transpose()*U_mats[0]*conjugate_pos_char(rho(g)) == U_mats[0] for g in G)\n",
    "    \n",
    "    return U_mats"
   ]
  },
  {
   "cell_type": "code",
   "execution_count": 47,
   "id": "367e923c-c757-478e-bedd-e752e8792357",
   "metadata": {},
   "outputs": [],
   "source": [
    "#for u in GF(q), we can factor as u=aa^* using gen. z and modular arithmetic\n",
    "def factor_scalar(u):\n",
    "    if u == 0:\n",
    "        return 0  # Special case for 0\n",
    "    z = GF(q**2).multiplicative_generator()\n",
    "    k = u.log(z)  # Compute discrete log of u to the base z\n",
    "    if k % (q+1) != 0:\n",
    "        raise ValueError(\"Unable to factor: u.log(z) is not divisible by q+1, i.e. u is not in base field GF(q)\")\n",
    "    return matrix(GF(q**2), [[z**((k//(q+1))%(q-1))]])"
   ]
  },
  {
   "cell_type": "code",
   "execution_count": 48,
   "id": "30fb1aca-af69-419c-8662-afd2689075f7",
   "metadata": {},
   "outputs": [],
   "source": [
    "#use libgap.eval for GAP evalutation of BaseChangeToCanonical using `forms` package\n",
    "def unitary_change_of_basis(U,q):\n",
    "    if U.nrows() == 1 and U.ncols() == 1:\n",
    "        return matrix(GF(q**2),[[factor_scalar(U[0,0])]])\n",
    "    libgap.LoadPackage(\"forms\")\n",
    "    return matrix(GF(q**2),libgap.BaseChangeToCanonical(libgap([list(row) for row in U]).HermitianFormByMatrix(GF(q^2)))).inverse()"
   ]
  },
  {
   "cell_type": "code",
   "execution_count": 4,
   "id": "d4f8665b-e7f5-4447-8176-7828bf76bb38",
   "metadata": {},
   "outputs": [],
   "source": [
    "#define the Fourier coefficient at the rep'n specht_module corresponding to partition\n",
    "def hat(f,partition,SGA,unitary=False):\n",
    "    specht_module = SGA.specht_module(partition)\n",
    "    rho = specht_module.representation_matrix\n",
    "    if unitary:\n",
    "        U = invariant_symmetric_bilinear_matrix(q,partition)[0]\n",
    "        A = unitary_change_of_basis(U,q)\n",
    "        A_star = conjugate_pos_char(A).transpose()\n",
    "        sqrt_unitary_factor = sqrt(GF(q**2)(specht_module.dimension()/SGA.group().cardinality()))\n",
    "        return sqrt_unitary_factor*sum(f(g)*A_star*rho(g)*A_star.inverse() for g in SGA.group())\n",
    "    else:\n",
    "        return sum(f(g)*rho(g) for g in SGA.group())"
   ]
  },
  {
   "cell_type": "code",
   "execution_count": 39,
   "id": "674d3e05-89e0-4efd-ab2f-7158bf6d9eb3",
   "metadata": {},
   "outputs": [],
   "source": [
    "#for each basis element g \\in G compute the Fourier coefficients \\hat{\\delta_g}(partition) for all partitions\n",
    "from sage.misc.flatten import flatten\n",
    "delta = lambda s: lambda t: 1 if t == s else 0 #delta function \\delta_s(t)\n",
    "def dft(SGA,unitary=False):\n",
    "    fourier_transform = [flatten([hat(delta(g),partition,SGA,unitary).list() for partition in Partitions(SGA.group().degree())]) for g in SGA.group()]\n",
    "    if unitary:\n",
    "        dft_matrix = matrix(GF(q**2),fourier_transform).transpose()\n",
    "        sign_diag = (unitary_dft*conjugate_pos_char(unitary_dft).transpose()).diagonal()\n",
    "        inverse_sqrt_diag = diagonal_matrix([1/sqrt(d) for d in sign_diag])\n",
    "        return dft_matrix*inverse_sqrt_diag\n",
    "    else:\n",
    "        return matrix(fourier_transform).transpose()"
   ]
  },
  {
   "cell_type": "code",
   "execution_count": 43,
   "id": "8638af45-82cd-4ee0-936d-3fdbeb482f32",
   "metadata": {},
   "outputs": [],
   "source": [
    "n = 4; q = 11\n",
    "SGA = SymmetricGroupAlgebra(GF(q^2), n)"
   ]
  },
  {
   "cell_type": "code",
   "execution_count": 40,
   "id": "7e9532cb-66d7-4bf6-8ced-3197e384de17",
   "metadata": {},
   "outputs": [
    {
     "name": "stdout",
     "output_type": "stream",
     "text": [
      "[         4          4          4          4          4          4          4          4          4          4  6*z2 + 10  6*z2 + 10  6*z2 + 10  6*z2 + 10          4          4          4          4          4          4          4          4          4          4]\n",
      "[         2          2          1          1          1          1          9          9         10         10   4*z2 + 3   4*z2 + 3   4*z2 + 3   4*z2 + 3          1          1          0          0         10         10          1          1          0          0]\n",
      "[         0          0   9*z2 + 4   3*z2 + 5   9*z2 + 4   3*z2 + 5          0          0   2*z2 + 7   8*z2 + 6          6          2          5          9   2*z2 + 7   8*z2 + 6   5*z2 + 1  6*z2 + 10   9*z2 + 4   3*z2 + 5   2*z2 + 7   8*z2 + 6   5*z2 + 1  6*z2 + 10]\n",
      "[         0          0          0   6*z2 + 6          0   6*z2 + 6          0          0          0   5*z2 + 5          0   6*z2 + 3          0   5*z2 + 8          0   5*z2 + 5   6*z2 + 6   5*z2 + 5          0   6*z2 + 6          0   5*z2 + 5   6*z2 + 6   5*z2 + 5]\n",
      "[         0          0   2*z2 + 7   2*z2 + 7   8*z2 + 6   8*z2 + 6          0          0   2*z2 + 7   2*z2 + 7          2          2          5          5   9*z2 + 4   9*z2 + 4  6*z2 + 10  6*z2 + 10   3*z2 + 5   3*z2 + 5   3*z2 + 5   3*z2 + 5   5*z2 + 1   5*z2 + 1]\n",
      "[         2          8         10          7          7          9          2          8         10          7   5*z2 + 1   8*z2 + 6   4*z2 + 3   5*z2 + 1         10          7          6          6          7          9          7          9          6          6]\n",
      "[         0   2*z2 + 1          0  10*z2 + 5   2*z2 + 1  10*z2 + 5          0   2*z2 + 1          0  10*z2 + 5   2*z2 + 2 10*z2 + 10          0 10*z2 + 10          0  10*z2 + 5  10*z2 + 5  10*z2 + 5   2*z2 + 1  10*z2 + 5   2*z2 + 1  10*z2 + 5  10*z2 + 5  10*z2 + 5]\n",
      "[         0          0          0          0   5*z2 + 8   5*z2 + 8          0          0          0          0   5*z2 + 5   5*z2 + 5          0          0          0          0   5*z2 + 8   5*z2 + 8   6*z2 + 3   6*z2 + 3   6*z2 + 3   6*z2 + 3   6*z2 + 3   6*z2 + 3]\n",
      "[         0   9*z2 + 9          0   9*z2 + 9     z2 + 1     z2 + 1          0   9*z2 + 9          0   9*z2 + 9  10*z2 + 5  10*z2 + 5          0   2*z2 + 1          0   9*z2 + 9     z2 + 1     z2 + 1     z2 + 1     z2 + 1     z2 + 1     z2 + 1     z2 + 1     z2 + 1]\n",
      "[         2          3          2          3          3          3          2          3          2          3  10*z2 + 2  10*z2 + 2   3*z2 + 5  10*z2 + 2          2          3          3          3          3          3          3          3          3          3]\n",
      "[  4*z2 + 3   7*z2 + 8   2*z2 + 7   9*z2 + 4   9*z2 + 4   2*z2 + 7   7*z2 + 8   4*z2 + 3   9*z2 + 4   2*z2 + 7          6          5          5          6   2*z2 + 7   9*z2 + 4   4*z2 + 3   7*z2 + 8   2*z2 + 7   9*z2 + 4   9*z2 + 4   2*z2 + 7   7*z2 + 8   4*z2 + 3]\n",
      "[         0          0          3          3          8          8          0          0          8          8  10*z2 + 2  10*z2 + 2  10*z2 + 2  10*z2 + 2          8          8          0          0          8          8          3          3          0          0]\n",
      "[         0          0          8          3          8          3          0          0          8          3     z2 + 9  10*z2 + 2  10*z2 + 2     z2 + 9          3          8          0          0          3          8          3          8          0          0]\n",
      "[  4*z2 + 3   4*z2 + 3   9*z2 + 4   9*z2 + 4   9*z2 + 4   9*z2 + 4   4*z2 + 3   4*z2 + 3   9*z2 + 4   9*z2 + 4          5          5          5          5   9*z2 + 4   9*z2 + 4   4*z2 + 3   4*z2 + 3   9*z2 + 4   9*z2 + 4   9*z2 + 4   9*z2 + 4   4*z2 + 3   4*z2 + 3]\n",
      "[         2          8          9          3          3          8          9          3          2          8     z2 + 9  10*z2 + 2   3*z2 + 5     z2 + 9          9          3          3          8          8          3          3          8          8          3]\n",
      "[         0   7*z2 + 4          0   4*z2 + 7   9*z2 + 2   2*z2 + 9          0   4*z2 + 7          0   7*z2 + 4       3*z2       8*z2          0       5*z2          0   4*z2 + 7   9*z2 + 2   2*z2 + 9   2*z2 + 9   9*z2 + 2   9*z2 + 2   2*z2 + 9   2*z2 + 9   9*z2 + 2]\n",
      "[         0          0          0          0   6*z2 + 6   5*z2 + 5          0          0          0          0   6*z2 + 3   5*z2 + 8          0          0          0          0   6*z2 + 6   5*z2 + 5   6*z2 + 6   5*z2 + 5   5*z2 + 5   6*z2 + 6   6*z2 + 6   5*z2 + 5]\n",
      "[         0  4*z2 + 10          0   2*z2 + 5   7*z2 + 1   9*z2 + 6          0   7*z2 + 1          0   9*z2 + 6   5*z2 + 2   8*z2 + 1          0  3*z2 + 10          0   2*z2 + 5   2*z2 + 5   9*z2 + 6  4*z2 + 10   2*z2 + 5   7*z2 + 1   9*z2 + 6   9*z2 + 6   2*z2 + 5]\n",
      "[         2          3          1          7          7          2          9          8         10          4  6*z2 + 10   8*z2 + 6   4*z2 + 3  6*z2 + 10          1          7          6          5          4          9          7          2          5          6]\n",
      "[         0          0   5*z2 + 4   6*z2 + 7   2*z2 + 6   9*z2 + 5          0          0   6*z2 + 7   5*z2 + 4   7*z2 + 2   4*z2 + 9  10*z2 + 6     z2 + 5   6*z2 + 7   5*z2 + 4  7*z2 + 10   4*z2 + 1   2*z2 + 6   9*z2 + 5   9*z2 + 5   2*z2 + 6  7*z2 + 10   4*z2 + 1]\n",
      "[         0          0          0   5*z2 + 8          0   6*z2 + 3          0          0          0   5*z2 + 8          0   6*z2 + 6          0   6*z2 + 6          0   6*z2 + 3   5*z2 + 8   5*z2 + 8          0   5*z2 + 8          0   5*z2 + 8   6*z2 + 3   6*z2 + 3]\n",
      "[         0          0   6*z2 + 2   9*z2 + 3   5*z2 + 9   2*z2 + 8          0          0   6*z2 + 2   9*z2 + 3     z2 + 2   7*z2 + 3     z2 + 2   7*z2 + 3   5*z2 + 9   2*z2 + 8   4*z2 + 5   4*z2 + 5   6*z2 + 2   9*z2 + 3   6*z2 + 2   9*z2 + 3   7*z2 + 6   7*z2 + 6]\n",
      "[         2          9         10          1          1         10          2          9         10          1   7*z2 + 8   4*z2 + 3   4*z2 + 3   7*z2 + 8         10          1          0          0          1         10          1         10          0          0]\n",
      "[         4          7          7          4          4          7          7          4          4          7   5*z2 + 1  6*z2 + 10  6*z2 + 10   5*z2 + 1          7          4          4          7          7          4          4          7          7          4]\n"
     ]
    }
   ],
   "source": [
    "unitary_dft = dft(SGA,unitary=True); print(unitary_dft)"
   ]
  },
  {
   "cell_type": "code",
   "execution_count": 38,
   "id": "f561a0f9-d302-44fb-8af3-5e60842e4470",
   "metadata": {},
   "outputs": [
    {
     "name": "stdout",
     "output_type": "stream",
     "text": [
      "[10  0  0  0  0  0  0  0  0  0  0  0  0  0  0  0  0  0  0  0  0  0  0  0]\n",
      "[ 0 10  0  0  0  0  0  0  0  0  0  0  0  0  0  0  0  0  0  0  0  0  0  0]\n",
      "[ 0  0 10  0  0  0  0  0  0  0  0  0  0  0  0  0  0  0  0  0  0  0  0  0]\n",
      "[ 0  0  0 10  0  0  0  0  0  0  0  0  0  0  0  0  0  0  0  0  0  0  0  0]\n",
      "[ 0  0  0  0 10  0  0  0  0  0  0  0  0  0  0  0  0  0  0  0  0  0  0  0]\n",
      "[ 0  0  0  0  0 10  0  0  0  0  0  0  0  0  0  0  0  0  0  0  0  0  0  0]\n",
      "[ 0  0  0  0  0  0 10  0  0  0  0  0  0  0  0  0  0  0  0  0  0  0  0  0]\n",
      "[ 0  0  0  0  0  0  0 10  0  0  0  0  0  0  0  0  0  0  0  0  0  0  0  0]\n",
      "[ 0  0  0  0  0  0  0  0 10  0  0  0  0  0  0  0  0  0  0  0  0  0  0  0]\n",
      "[ 0  0  0  0  0  0  0  0  0 10  0  0  0  0  0  0  0  0  0  0  0  0  0  0]\n",
      "[ 0  0  0  0  0  0  0  0  0  0  1  0  0  0  0  0  0  0  0  0  0  0  0  0]\n",
      "[ 0  0  0  0  0  0  0  0  0  0  0  1  0  0  0  0  0  0  0  0  0  0  0  0]\n",
      "[ 0  0  0  0  0  0  0  0  0  0  0  0  1  0  0  0  0  0  0  0  0  0  0  0]\n",
      "[ 0  0  0  0  0  0  0  0  0  0  0  0  0  1  0  0  0  0  0  0  0  0  0  0]\n",
      "[ 0  0  0  0  0  0  0  0  0  0  0  0  0  0 10  0  0  0  0  0  0  0  0  0]\n",
      "[ 0  0  0  0  0  0  0  0  0  0  0  0  0  0  0 10  0  0  0  0  0  0  0  0]\n",
      "[ 0  0  0  0  0  0  0  0  0  0  0  0  0  0  0  0 10  0  0  0  0  0  0  0]\n",
      "[ 0  0  0  0  0  0  0  0  0  0  0  0  0  0  0  0  0 10  0  0  0  0  0  0]\n",
      "[ 0  0  0  0  0  0  0  0  0  0  0  0  0  0  0  0  0  0 10  0  0  0  0  0]\n",
      "[ 0  0  0  0  0  0  0  0  0  0  0  0  0  0  0  0  0  0  0 10  0  0  0  0]\n",
      "[ 0  0  0  0  0  0  0  0  0  0  0  0  0  0  0  0  0  0  0  0 10  0  0  0]\n",
      "[ 0  0  0  0  0  0  0  0  0  0  0  0  0  0  0  0  0  0  0  0  0 10  0  0]\n",
      "[ 0  0  0  0  0  0  0  0  0  0  0  0  0  0  0  0  0  0  0  0  0  0 10  0]\n",
      "[ 0  0  0  0  0  0  0  0  0  0  0  0  0  0  0  0  0  0  0  0  0  0  0 10]\n"
     ]
    }
   ],
   "source": [
    "print(unitary_dft*conjugate_pos_char(unitary_dft).transpose())"
   ]
  },
  {
   "cell_type": "code",
   "execution_count": 9,
   "id": "ae5d400b-721c-4edb-8921-47b07d97bf6a",
   "metadata": {},
   "outputs": [
    {
     "data": {
      "text/plain": [
       "[1, 9, 4, 9, 1]"
      ]
     },
     "execution_count": 9,
     "metadata": {},
     "output_type": "execute_result"
    }
   ],
   "source": [
    "[SGA.specht_module(la).dimension()**2 for la in Partitions(4)]"
   ]
  },
  {
   "cell_type": "code",
   "execution_count": 10,
   "id": "f2027b3a-21d6-4b96-97e2-e8863517864b",
   "metadata": {},
   "outputs": [
    {
     "data": {
      "text/plain": [
       "3*z2 + 5"
      ]
     },
     "execution_count": 10,
     "metadata": {},
     "output_type": "execute_result"
    }
   ],
   "source": [
    "#note there are two distinct square roots for a nonzero element of GF(q**2)\n",
    "#may need to carefully choose which square root to use\n",
    "#perhaps even a fourth root of unity is necessary?\n",
    "#see Travis' comment: we can probably just divide by \\sqrt{c_i}\n",
    "#if (v_i,v_j) = c_i\\delta_{ij}, then v’_i = v_i / \\pm \\sqrt{c_i}\n",
    "sqrt(GF(q**2)(SGA.specht_module([3,1]).dimension()/SGA.group().cardinality()))"
   ]
  },
  {
   "cell_type": "code",
   "execution_count": null,
   "id": "706d527b-eb3f-4fca-a6cc-b588f46b827c",
   "metadata": {},
   "outputs": [],
   "source": []
  }
 ],
 "metadata": {
  "kernelspec": {
   "display_name": "SageMath 10.4",
   "language": "sage",
   "name": "sagemath-10.4"
  },
  "language_info": {
   "codemirror_mode": {
    "name": "ipython",
    "version": 3
   },
   "file_extension": ".py",
   "mimetype": "text/x-python",
   "name": "python",
   "nbconvert_exporter": "python",
   "pygments_lexer": "ipython3",
   "version": "3.12.4"
  }
 },
 "nbformat": 4,
 "nbformat_minor": 5
}
