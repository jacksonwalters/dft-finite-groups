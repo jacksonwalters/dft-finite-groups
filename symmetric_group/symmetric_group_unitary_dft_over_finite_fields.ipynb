{
 "cells": [
  {
   "cell_type": "code",
   "execution_count": 3,
   "id": "08033f17-1735-456d-ae3f-4d9c0c5f6eb0",
   "metadata": {},
   "outputs": [],
   "source": [
    "\"\"\"\n",
    "LINKS:\n",
    "\n",
    "- https://mathoverflow.net/questions/327823/unitary-representations-of-finite-groups-over-finite-fields\n",
    "- https://math.stackexchange.com/questions/4952613/is-there-a-version-of-weyls-unitary-trick-for-positive-characteristic\n",
    "\n",
    "NOTES:\n",
    "\n",
    "- currently unclear whether representations of S_n over F_{q^2} can be conjugated to unitary representations\n",
    "\n",
    "\"\"\";"
   ]
  },
  {
   "cell_type": "code",
   "execution_count": null,
   "id": "0ecf5778-9974-4f83-b94e-aa891e9ffc00",
   "metadata": {},
   "outputs": [],
   "source": []
  }
 ],
 "metadata": {
  "kernelspec": {
   "display_name": "SageMath 10.4",
   "language": "sage",
   "name": "sagemath-10.4"
  },
  "language_info": {
   "codemirror_mode": {
    "name": "ipython",
    "version": 3
   },
   "file_extension": ".py",
   "mimetype": "text/x-python",
   "name": "python",
   "nbconvert_exporter": "python",
   "pygments_lexer": "ipython3",
   "version": "3.12.4"
  }
 },
 "nbformat": 4,
 "nbformat_minor": 5
}
