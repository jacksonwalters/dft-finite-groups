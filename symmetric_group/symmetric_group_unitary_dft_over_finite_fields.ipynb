{
 "cells": [
  {
   "cell_type": "code",
   "execution_count": 33,
   "id": "08033f17-1735-456d-ae3f-4d9c0c5f6eb0",
   "metadata": {},
   "outputs": [],
   "source": [
    "\"\"\"\n",
    "LINKS:\n",
    "\n",
    "- https://mathoverflow.net/questions/327823/unitary-representations-of-finite-groups-over-finite-fields\n",
    "- https://math.stackexchange.com/questions/4952613/is-there-a-version-of-weyls-unitary-trick-for-positive-characteristic\n",
    "\n",
    "\"\"\";"
   ]
  },
  {
   "cell_type": "code",
   "execution_count": 31,
   "id": "970f7919-bf76-4029-a54b-061863b23d29",
   "metadata": {},
   "outputs": [],
   "source": [
    "\"\"\"\n",
    "NOTES:\n",
    "\n",
    "- need to check whether representations of S_n over F_{q^2} can be conjugated to unitary representations\n",
    "- Lemma 4.4.1, The Maximal Subgroups of the Low-Dimensional Finite Classical Groups, by John N. Bray, Derek F. Holt, Colva M. Roney-Dougal.\n",
    "- Need to check that the action of the field automorphism \\sigma: x |--> x^q on the Brauer character is the same as complex conjugation.\n",
    "- \"In many cases, such as when 𝑞 is coprime to the group order, the Brauer character is just the ordinary complex character.\"\n",
    "- FROM LOREN SPICE, re: whether the form with which the rep'n is unitary is not the standard for <x,y> = \\sum_i x_i*y_i^q:\n",
    "- \"It's not only possible, it's almost inevitable, since the unitary group isn't normal in the general linear group, so that conjugating the representation will usually take you outside of the unitary group without changing the trace. The same thing also happens in the 'classical' case.\"\n",
    "\n",
    "\"\"\";"
   ]
  },
  {
   "cell_type": "code",
   "execution_count": 453,
   "id": "28ee81f6-7682-4204-b5eb-49b54b838806",
   "metadata": {},
   "outputs": [],
   "source": [
    "#group permutations by cycle type\n",
    "def conj_classes(n):\n",
    "    G = SymmetricGroup(n)\n",
    "    P_n = Partitions(n)\n",
    "    C = P_n.cardinality()\n",
    "    indices = {lam: i for i, lam in enumerate(P_n)}\n",
    "    cycles = {}\n",
    "    for g in G:\n",
    "        ind = indices[g.cycle_type()]\n",
    "        if ind in cycles:\n",
    "            cycles[ind].append(g)\n",
    "        else:\n",
    "            cycles[ind] = [g]\n",
    "    return cycles"
   ]
  },
  {
   "cell_type": "code",
   "execution_count": 455,
   "id": "010d30ee-1a74-46ff-b444-42a8e8b2d6e6",
   "metadata": {},
   "outputs": [],
   "source": [
    "#twisted Brauer character by automorphism \\sigma: x |--> x^q\n",
    "#Brauer character is eigenvalues of \\rho(g) mapped to roots of unity in \\C under bijection and summed\n",
    "#define a rep'n \\rho twisted by a field automorphism \\sigma by applying \\sigma to each matrix entry\n",
    "#this gives another representation (check this). can then compute sum of eigenvalues to get twisted character\n",
    "alpha = lambda x: x**q\n",
    "def twisted_brauer_character(repn,alpha,rep_type=\"orth\"):\n",
    "    la = repn._partition\n",
    "    n = sum(la)\n",
    "    character_values = []\n",
    "    for i, cycles in conj_classes(n).items():\n",
    "        conj_class_rep = cycles[0]\n",
    "        #compute eigenvalues of \\rho(g) over F_q, map to |C and sum\n",
    "        if rep_type == \"orth\":\n",
    "            rho_g = new_representation_matrix_uncached(repn,conj_class_rep)\n",
    "        if rep_type == \"specht\":\n",
    "            rho_g = repn.representation_matrix(Permutation(conj_class_rep))\n",
    "        splitting_field.<a> = rho_g.charpoly().splitting_field()\n",
    "        field_size = splitting_field.order()\n",
    "        rho_g_extend = matrix(splitting_field,rho_g)\n",
    "        eigs_w_mult = [(pair[0],len(pair[1])) for pair in rho_g_extend.eigenvectors_right()]\n",
    "        #use .log(a) for GF(q^s) = F.<a> to get power k. then map to exp(2*pi*i*k/(q^s-1).\n",
    "        to_roots_of_unity = [pair[1]*exp(2*pi*I*pair[0].log(a)/(field_size-1)) for pair in eigs_w_mult]\n",
    "        char_value = sum(to_roots_of_unity)\n",
    "        character_values.append(char_value)\n",
    "    return character_values"
   ]
  },
  {
   "cell_type": "code",
   "execution_count": 457,
   "id": "7392e365-03b9-4dda-a52b-33ad632e6e29",
   "metadata": {},
   "outputs": [
    {
     "data": {
      "text/plain": [
       "[5, 0, 1, -1, 1, 1, -1]"
      ]
     },
     "execution_count": 457,
     "metadata": {},
     "output_type": "execute_result"
    }
   ],
   "source": [
    "#need to enumerate conjugacy classes to match standard Brauer character\n",
    "twisted_brauer_character(orth,alpha,rep_type=\"orth\")"
   ]
  },
  {
   "cell_type": "code",
   "execution_count": 438,
   "id": "37596d56-2e11-4df2-835c-e3edd91839a4",
   "metadata": {},
   "outputs": [
    {
     "data": {
      "text/plain": [
       "(5, 1, 1, -1, 1, -1, 0)"
      ]
     },
     "execution_count": 438,
     "metadata": {},
     "output_type": "execute_result"
    }
   ],
   "source": [
    "#compute the Brauer character directly\n",
    "la = orth._partition\n",
    "n = sum(la)\n",
    "base_ring = orth._ring.base_ring()\n",
    "SGA = SymmetricGroupAlgebra(base_ring, n)\n",
    "brauer_character = SGA.simple_module(la).brauer_character(); brauer_character"
   ]
  },
  {
   "cell_type": "code",
   "execution_count": 417,
   "id": "ac5d8747-debc-469a-8ba4-c0c86c52c76e",
   "metadata": {},
   "outputs": [
    {
     "data": {
      "text/plain": [
       "[ 1 -1  1  1 -1 -1  1]\n",
       "[ 4 -2  0  1  1  0 -1]\n",
       "[ 5 -1  1 -1 -1  1  0]\n",
       "[ 6  0 -2  0  0  0  1]\n",
       "[ 5  1  1 -1  1 -1  0]\n",
       "[ 4  2  0  1 -1  0 -1]\n",
       "[ 1  1  1  1  1  1  1]"
      ]
     },
     "execution_count": 417,
     "metadata": {},
     "output_type": "execute_result"
    }
   ],
   "source": [
    "SymmetricGroup(n).character_table()"
   ]
  },
  {
   "cell_type": "code",
   "execution_count": 420,
   "id": "601ee806-ee08-47a2-b4d6-839c42aef117",
   "metadata": {},
   "outputs": [
    {
     "data": {
      "text/plain": [
       "(1,5,4,3,2)"
      ]
     },
     "execution_count": 420,
     "metadata": {},
     "output_type": "execute_result"
    }
   ],
   "source": [
    "conj_class_rep = conj_classes(n)[6][0]; conj_class_rep"
   ]
  },
  {
   "cell_type": "code",
   "execution_count": 421,
   "id": "2da9ec1c-d7a0-4a34-95d3-abb463e7d6a3",
   "metadata": {},
   "outputs": [
    {
     "data": {
      "text/plain": [
       "[       2        6 2*z2 + 6        0        0]\n",
       "[       6        3   z2 + 3 4*z2 + 5        1]\n",
       "[       0 4*z2 + 5        2        1 3*z2 + 2]\n",
       "[5*z2 + 1 6*z2 + 4        5        5 4*z2 + 5]\n",
       "[       0        6 4*z2 + 5 4*z2 + 5        2]"
      ]
     },
     "execution_count": 421,
     "metadata": {},
     "output_type": "execute_result"
    }
   ],
   "source": [
    "M_orth = new_representation_matrix_uncached(orth,conj_class_rep); M_orth"
   ]
  },
  {
   "cell_type": "code",
   "execution_count": 422,
   "id": "19c0124e-dc27-42dc-b9dc-138423152fb5",
   "metadata": {},
   "outputs": [
    {
     "data": {
      "text/plain": [
       "Finite Field in a of size 7^4"
      ]
     },
     "execution_count": 422,
     "metadata": {},
     "output_type": "execute_result"
    }
   ],
   "source": [
    "splitting_field.<a> = M_orth.charpoly().splitting_field(); splitting_field"
   ]
  },
  {
   "cell_type": "code",
   "execution_count": 423,
   "id": "356dff10-973c-4967-865a-7684eabb9aa7",
   "metadata": {},
   "outputs": [
    {
     "data": {
      "text/plain": [
       "2401"
      ]
     },
     "execution_count": 423,
     "metadata": {},
     "output_type": "execute_result"
    }
   ],
   "source": [
    "splitting_field.order()"
   ]
  },
  {
   "cell_type": "code",
   "execution_count": 424,
   "id": "24ea58c2-544e-4293-b8a7-f8452c10ec69",
   "metadata": {},
   "outputs": [
    {
     "data": {
      "text/plain": [
       "[0, 480, 1920, 1440, 960]"
      ]
     },
     "execution_count": 424,
     "metadata": {},
     "output_type": "execute_result"
    }
   ],
   "source": [
    "d, L = matrix(splitting_field,M_orth).diagonalization(); [eig.log(a) for eig in d.diagonal()]"
   ]
  },
  {
   "cell_type": "code",
   "execution_count": 425,
   "id": "8aa1b4ac-722d-4928-b8cc-528c6120cb8e",
   "metadata": {},
   "outputs": [
    {
     "data": {
      "text/plain": [
       "(1,\n",
       " [\n",
       " (1, 2, 2*a^3 + 6*a^2 + 2*a, 5*a^3 + a^2 + 5*a, 2)\n",
       " ],\n",
       " 1)"
      ]
     },
     "execution_count": 425,
     "metadata": {},
     "output_type": "execute_result"
    }
   ],
   "source": [
    "matrix(splitting_field,M_orth).eigenvectors_right()[0]"
   ]
  },
  {
   "cell_type": "code",
   "execution_count": 426,
   "id": "2f6789d7-141a-4132-ab4d-ae7c9088dc53",
   "metadata": {},
   "outputs": [
    {
     "data": {
      "text/plain": [
       "[       2        6        0 2*z2 + 6        0]\n",
       "[       6        3 3*z2 + 2   z2 + 3        6]\n",
       "[5*z2 + 1 6*z2 + 4        2        5 3*z2 + 2]\n",
       "[       0 3*z2 + 2        1        5 3*z2 + 2]\n",
       "[       0        1 4*z2 + 5 3*z2 + 2        2]"
      ]
     },
     "execution_count": 426,
     "metadata": {},
     "output_type": "execute_result"
    }
   ],
   "source": [
    "conjugate_pos_char(M_orth)"
   ]
  },
  {
   "cell_type": "code",
   "execution_count": 412,
   "id": "6aedb544-9a59-4da9-b6b3-287d10036c73",
   "metadata": {},
   "outputs": [
    {
     "data": {
      "text/plain": [
       "Specht representation of the symmetric group corresponding to [3, 2]"
      ]
     },
     "execution_count": 412,
     "metadata": {},
     "output_type": "execute_result"
    }
   ],
   "source": [
    "#define Specht module representation over GF(q^2)\n",
    "spc = SymmetricGroupRepresentation([3,2], \"specht\", ring=GF(q^2)); spc"
   ]
  },
  {
   "cell_type": "code",
   "execution_count": 413,
   "id": "63431deb-b570-4e60-bc22-2ddcdfc5ed0a",
   "metadata": {},
   "outputs": [
    {
     "data": {
      "text/plain": [
       "Orthogonal representation of the symmetric group corresponding to [3, 2]"
      ]
     },
     "execution_count": 413,
     "metadata": {},
     "output_type": "execute_result"
    }
   ],
   "source": [
    "#define the orthogonal representation over GF(q^2) for a prime power q\n",
    "q = 7\n",
    "orth = SymmetricGroupRepresentation([3,2], \"orthogonal\", ring=GF(q^2)); orth"
   ]
  },
  {
   "cell_type": "code",
   "execution_count": 46,
   "id": "f4ee9869-0bd5-4828-8781-d9c48d7b61f4",
   "metadata": {},
   "outputs": [
    {
     "name": "stdout",
     "output_type": "stream",
     "text": [
      "unable to coerce <class 'sage.symbolic.expression.Expression'>\n"
     ]
    }
   ],
   "source": [
    "#NOTE: rep'n matrix doesn't work due to square roots\n",
    "#throws TypeError: unable to coerce <class 'sage.symbolic.expression.Expression'>\n",
    "#FIX: changing line 662 of symmetric_group_representations.py to first convert the element to self._ring before passing it\n",
    "try:\n",
    "    orth.representation_matrix_for_simple_transposition(2)\n",
    "except TypeError as e:\n",
    "    print(e)"
   ]
  },
  {
   "cell_type": "code",
   "execution_count": 47,
   "id": "cd85b08a-0a28-406e-9f88-605389567cd8",
   "metadata": {},
   "outputs": [],
   "source": [
    "#define a new representation_matrix_for_simple_transposition with the fix beta --> self._ring\n",
    "def new_representation_matrix_for_simple_transposition(orth,i):\n",
    "        from copy import copy\n",
    "        if not (1 <= i < sum(orth._partition)):\n",
    "            raise TypeError\n",
    "        Y = orth._yang_baxter_graph\n",
    "        index_lookup = {b: a for a, b in enumerate(list(Y))}\n",
    "        digraph = copy(Y._digraph)\n",
    "        digraph.delete_edges((u, v) for (u, v, (j, beta)) in digraph.edges(sort=True)\n",
    "                             if j != i)\n",
    "        M = matrix(orth._ring, digraph.num_verts())\n",
    "        for g in digraph.connected_components_subgraphs():\n",
    "            if g.num_verts() == 1:\n",
    "                [v] = g.vertices(sort=True)\n",
    "                w = orth._word_dict[v]\n",
    "                trivial = None\n",
    "                for j, a in enumerate(w):\n",
    "                    if a == i and w[j + 1] == i + 1:\n",
    "                        trivial = True\n",
    "                        break\n",
    "                    elif a == i + 1:\n",
    "                        trivial = False\n",
    "                        break\n",
    "                j = index_lookup[v]\n",
    "                M[j, j] = 1 if trivial is True else -1\n",
    "            else:\n",
    "                [(u, v, (j, beta))] = g.edges(sort=True)\n",
    "                iu = index_lookup[u]\n",
    "                iv = index_lookup[v]\n",
    "                M[iu, iu], M[iu, iv], M[iv, iu], M[iv, iv] = \\\n",
    "                    orth._2x2_matrix_entries(orth._ring(beta))\n",
    "        return M"
   ]
  },
  {
   "cell_type": "code",
   "execution_count": 48,
   "id": "f8e8490e-9212-414a-ae0d-aaf5a9bc08ed",
   "metadata": {},
   "outputs": [
    {
     "data": {
      "text/plain": [
       "[       1        0        0        0        0]\n",
       "[       0        3 6*z2 + 4        0        0]\n",
       "[       0 6*z2 + 4        4        0        0]\n",
       "[       0        0        0        3 6*z2 + 4]\n",
       "[       0        0        0 6*z2 + 4        4]"
      ]
     },
     "execution_count": 48,
     "metadata": {},
     "output_type": "execute_result"
    }
   ],
   "source": [
    "#compute the new representation matrix with the fix\n",
    "new_representation_matrix_for_simple_transposition(orth,2)"
   ]
  },
  {
   "cell_type": "code",
   "execution_count": 49,
   "id": "1b862289-a5d3-4098-a9f8-adb6eebd6b78",
   "metadata": {},
   "outputs": [],
   "source": [
    "#define representation_matrix_uncached now using new_representation_matrix_for_simple_transposition\n",
    "def new_representation_matrix_uncached(orth, permutation):\n",
    "    m = orth._yang_baxter_graph._digraph.num_verts()\n",
    "    M = matrix(orth._ring, m, m, 1)\n",
    "    for i in Permutation(permutation).reduced_word():\n",
    "        M *= new_representation_matrix_for_simple_transposition(orth,i)\n",
    "    return M"
   ]
  },
  {
   "cell_type": "code",
   "execution_count": 160,
   "id": "16910afc-c035-408e-8a09-52b34ebc3e98",
   "metadata": {},
   "outputs": [
    {
     "data": {
      "text/plain": [
       "[       1        0        0        0        0]\n",
       "[       0        2 4*z2 + 5 4*z2 + 5        6]\n",
       "[       0 4*z2 + 5        5        6 3*z2 + 2]\n",
       "[       0 4*z2 + 5        6        5 3*z2 + 2]\n",
       "[       0        6 3*z2 + 2 3*z2 + 2        2]"
      ]
     },
     "execution_count": 160,
     "metadata": {},
     "output_type": "execute_result"
    }
   ],
   "source": [
    "#instantiate an orthogonal matrix over the finite field GF(q^2)\n",
    "M_orth = new_representation_matrix_uncached(orth,[1,3,2,5,4]); M_orth"
   ]
  },
  {
   "cell_type": "code",
   "execution_count": 161,
   "id": "c7adef56-2271-41e5-bff7-5bd69f50e4ec",
   "metadata": {},
   "outputs": [
    {
     "data": {
      "text/plain": [
       "True"
      ]
     },
     "execution_count": 161,
     "metadata": {},
     "output_type": "execute_result"
    }
   ],
   "source": [
    "#check that the resulting matrix is orthogonal\n",
    "M_orth*M_orth.transpose() == identity_matrix(sum(orth._partition))"
   ]
  },
  {
   "cell_type": "code",
   "execution_count": 162,
   "id": "b147ad64-a8d8-4812-821f-8966ce614bf3",
   "metadata": {},
   "outputs": [],
   "source": [
    "#define conjugation as x |--> x**q, an order two automorphism of F_q^2. note x**q == x for x \\in F_q.\n",
    "def conjugate_pos_char(A):\n",
    "    assert A.nrows() == A.ncols()\n",
    "    field_size = A.base_ring().order()\n",
    "    q = sqrt(field_size) if field_size.is_square() else field_size\n",
    "    return matrix(GF(q**2),[[A[i][j]**q for i in range(A.nrows())] for j in range(A.nrows())])"
   ]
  },
  {
   "cell_type": "code",
   "execution_count": 163,
   "id": "4b4a806a-3eed-42f2-a971-fce36954629f",
   "metadata": {},
   "outputs": [
    {
     "data": {
      "text/plain": [
       "False"
      ]
     },
     "execution_count": 163,
     "metadata": {},
     "output_type": "execute_result"
    }
   ],
   "source": [
    "#check if the matrix is unitary with respect to the form <x,y> = \\sum_i x_i*y_i**q\n",
    "M_orth*conjugate_pos_char(M_orth).transpose() == identity_matrix(sum(orth._partition))"
   ]
  },
  {
   "cell_type": "code",
   "execution_count": 164,
   "id": "a2528fa7-28b5-4970-937f-ba8eaa180ce9",
   "metadata": {},
   "outputs": [
    {
     "data": {
      "text/plain": [
       "[       1        0        0        0        0]\n",
       "[       0        2 4*z2 + 5 4*z2 + 5        6]\n",
       "[       0 3*z2 + 2        2        1 4*z2 + 5]\n",
       "[       0 3*z2 + 2        1        2 4*z2 + 5]\n",
       "[       0        6 3*z2 + 2 3*z2 + 2        2]"
      ]
     },
     "execution_count": 164,
     "metadata": {},
     "output_type": "execute_result"
    }
   ],
   "source": [
    "M_orth*conjugate_pos_char(M_orth).transpose()"
   ]
  },
  {
   "cell_type": "code",
   "execution_count": null,
   "id": "0add3925-1226-4102-b817-a47851d68efb",
   "metadata": {},
   "outputs": [],
   "source": [
    "#NOTE: the matrix cannot be both orthogonal and unitary if the conjugation map x |--> x**q does not fix every element\n",
    "#which it won't over extensions"
   ]
  }
 ],
 "metadata": {
  "kernelspec": {
   "display_name": "SageMath 10.4",
   "language": "sage",
   "name": "sagemath-10.4"
  },
  "language_info": {
   "codemirror_mode": {
    "name": "ipython",
    "version": 3
   },
   "file_extension": ".py",
   "mimetype": "text/x-python",
   "name": "python",
   "nbconvert_exporter": "python",
   "pygments_lexer": "ipython3",
   "version": "3.12.4"
  }
 },
 "nbformat": 4,
 "nbformat_minor": 5
}
