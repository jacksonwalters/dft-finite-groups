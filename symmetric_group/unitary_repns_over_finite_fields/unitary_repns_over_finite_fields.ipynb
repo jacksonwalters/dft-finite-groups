{
 "cells": [
  {
   "cell_type": "code",
   "execution_count": 153,
   "id": "bd44d9da-c93c-43fe-bf59-68e001524118",
   "metadata": {},
   "outputs": [],
   "source": [
    "\"\"\"\n",
    "\n",
    "LINKS:\n",
    "\n",
    "- https://github.com/sagemath/sage/issues/38456\n",
    "- https://github.com/sagemath/sage/pull/38455\n",
    "\n",
    "- https://mathoverflow.net/questions/271932/formula-for-the-frobenius-schur-indicator-of-a-finite-group\n",
    "- https://math.stackexchange.com/questions/832173/structure-of-g-invariant-bilinear-forms-over-finite-fields\n",
    "\n",
    "\"\"\";"
   ]
  },
  {
   "cell_type": "code",
   "execution_count": 152,
   "id": "8dbfa7ac-62d0-4ea0-a6fe-8276e0b2db9b",
   "metadata": {},
   "outputs": [],
   "source": [
    "\"\"\"\n",
    "NOTES:\n",
    "\n",
    "For a unitary change-of-basis for a rep'n \\rho of S_n over finite fields, we need:\n",
    "\n",
    "Q1. find a S_n-invariant symmetric bilinear form w/ associated matrix U\n",
    "Q2. factor U = A^*A, where * denotes conjugate-transpose w.r.t. x |--> x^q conjugation\n",
    "\n",
    "A1. let U be unknown in variables over a polynomial ring over GF(q^2). use linear algebra to solve \\rho(g)^T U \\overline{\\rho(g)} == U\n",
    "A2. translate the GAP `forms` package which uses a conjugate symmetric form of Gaussian elimination. this extends the Cholesky decomposition to non lower triangular matrices\n",
    "\n",
    "Then \\tilde{\\rho}(g) = A\\rho(g)A.inverse() is unitary for all g \\in G.\n",
    "\n",
    "n.b. this code is now merged into SageMath via PR #38455.\n",
    "\n",
    "\"\"\";"
   ]
  },
  {
   "cell_type": "code",
   "execution_count": 110,
   "id": "394b4c5a-00f8-4217-927a-a897e21ef62d",
   "metadata": {},
   "outputs": [],
   "source": [
    "def invariant_symmetric_bilinear_matrix(SGA,partition,symmetric=False):\n",
    "    \"\"\"\n",
    "    Computes the matrix of a S_n-invariant symmetric bilinear form.\n",
    "    Sets up and solves system of linear equations based on writing U as an unknown in polynomial ring generators. \n",
    "    The equations are \\rho(g)^T*U*\\overline{\\rho(g)} = \\lambda_g*U where \\lambda_g = \\det(\\rho(g))\\overline{\\det(\\rho(g))}.\n",
    "    The variables for U can be extracted to yield a matrix over GF(q^2) for each g.\n",
    "    These are stacked to get the overall system, and we find the one dim'l null space to get a solution vector, and format as a matrix.\n",
    "    NOTE: one could also form the Kroenecker products \\rho(g) \\otimes \\rho(g)^{-1 T} to explicitly obtain the system.\n",
    "    NOTE: the solution space is typically 1 dim'l, except in \"modular\" cases where p divides |G|, and there is multiplicity in the decomposition factors.\n",
    "    BUG: this does work for the 2-element generating set {(1 2), (1 2 ... n)} of the symmetric group, and it should\n",
    "    \"\"\"\n",
    "    n = sum(partition)\n",
    "    G = Permutations(n)\n",
    "    G_gens = [G([2, 1]), G([i%n+1 for i in range(1,n+1)])] #small gen set {(1 2), (1 2 ... n)}. can use G.gens() generally\n",
    "    F = SGA.base_ring()\n",
    "    specht_module = SGA.specht_module(partition)\n",
    "    rho = specht_module.representation_matrix\n",
    "    d_rho = specht_module.dimension()\n",
    "    if symmetric:\n",
    "        R = PolynomialRing(F, 'u', d_rho * (d_rho + 1) // 2)\n",
    "    else:\n",
    "        R = PolynomialRing(F, 'u', d_rho**2)\n",
    "    U_vars = R.gens()\n",
    "    if symmetric:\n",
    "        U_temp = matrix(R, d_rho, d_rho, lambda i, j: U_vars[i * d_rho - (i * (i + 1)) // 2 + j] if i <= j else 0)\n",
    "        U_temp += U_temp.transpose() - diagonal_matrix(U_temp.diagonal())\n",
    "    else:\n",
    "        U_temp = matrix(R, d_rho, d_rho, U_vars)\n",
    "\n",
    "    def augmented_matrix(g):\n",
    "        rho_g = rho(g)\n",
    "        equation_matrix = rho_g.transpose() * U_temp * rho_g.conjugate() - U_temp\n",
    "        augmented_system = []\n",
    "        for i in range(d_rho):\n",
    "            for j in range(d_rho):\n",
    "                linear_expression = equation_matrix[i, j]\n",
    "                row = [linear_expression.coefficient(u) for u in U_vars]\n",
    "                augmented_system.append(row)\n",
    "        return augmented_system\n",
    "\n",
    "    total_system = sum((augmented_matrix(g) for g in G_gens), [])\n",
    "    null_space = matrix(F, total_system).right_kernel()\n",
    "    U_list = []\n",
    "    if symmetric:\n",
    "        for B in null_space.basis():\n",
    "            upper_triangle = matrix(F, d_rho, d_rho, lambda i, j: B[i * d_rho - (i * (i + 1)) // 2 + j] if i <= j else 0)\n",
    "            U_list.append(upper_triangle + upper_triangle.transpose() - diagonal_matrix(upper_triangle.diagonal()))\n",
    "    else:\n",
    "        U_list = [matrix(F, d_rho, d_rho, B) for B in null_space.basis()]\n",
    "    return U_list"
   ]
  },
  {
   "cell_type": "code",
   "execution_count": 85,
   "id": "a489d347-17e3-4548-b302-d49cd6173c88",
   "metadata": {},
   "outputs": [],
   "source": [
    "#define a general bi/bilinear form with the matrix U\n",
    "def bilinear_form(x,y,U):\n",
    "    return x.transpose()*U*y"
   ]
  },
  {
   "cell_type": "code",
   "execution_count": 101,
   "id": "5bb87874-ff97-4177-9d27-a2bec2118f3d",
   "metadata": {},
   "outputs": [],
   "source": [
    "#ensure the resulting form is G-invariant, symmetric, bilinear by symbolic verification\n",
    "def check_form_properties(q,partition,symmetric=False):\n",
    "    #define the representation matrix corresponding to q, partition\n",
    "    F = GF(q**2)\n",
    "    SGA = SymmetricGroupAlgebra(F,sum(partition))\n",
    "    SM = SGA.specht_module(partition)\n",
    "    rho = SM.representation_matrix\n",
    "    d_rho = SM.dimension()\n",
    "    G = SGA.group()\n",
    "\n",
    "    #define variables as polynomial generators\n",
    "    R_xy = PolynomialRing(F, d_rho, var_array='x,y')\n",
    "    x = matrix([R_xy.gens()[2*i] for i in range(d_rho)]).transpose()\n",
    "    y = matrix([R_xy.gens()[2*i+1] for i in range(d_rho)]).transpose()\n",
    "    R_xy_lambda = PolynomialRing(R_xy,'lambda')\n",
    "    lambda_ = R_xy_lambda.gens()[0]\n",
    "\n",
    "    #compute the bilinear form matrix. coerce over polynomial ring\n",
    "    U_mats = invariant_symmetric_bilinear_matrix(SGA,partition,symmetric)\n",
    "    if len(U_mats) > 1:\n",
    "        print(\"Space of G-invariant symmetric bilinear forms has dimension > 1 for la=\",partition)\n",
    "        print(\"Dimension of space=\",len(U_mats))\n",
    "    U_mat = U_mats[0]\n",
    "    U_form = matrix(R_xy_lambda,U_mat)\n",
    "    \n",
    "    #check symmetric property\n",
    "    symmetric = bilinear_form(x,y,U_form) == bilinear_form(y,x,U_form)\n",
    "    \n",
    "    #check G-invariance property\n",
    "    G_invariant = all(bilinear_form(rho(g)*x,rho(g)*y,U_form) == bilinear_form(x,y,U_form) for g in G)\n",
    "    \n",
    "    #check bilinear property. ISSUE: lambda_^q is a power of the ring generator, i.e. doesn't simplify.\n",
    "    first_arg = bilinear_form(lambda_*x,y,U_form) == lambda_*bilinear_form(x,y,U_form)\n",
    "    second_arg = bilinear_form(x,lambda_*y,U_form) == lambda_*bilinear_form(x,y,U_form) #need to amend for conjugation\n",
    "    bilinear = first_arg and second_arg\n",
    "\n",
    "    return symmetric and G_invariant and bilinear"
   ]
  },
  {
   "cell_type": "code",
   "execution_count": 102,
   "id": "2b346ec1-f68a-4e32-a52d-0ea362b0e589",
   "metadata": {},
   "outputs": [],
   "source": [
    "#for u in GF(q), we can factor as u=aa^* using gen. z and modular arithmetic\n",
    "def conj_square_root(u):\n",
    "    if u == 0:\n",
    "        return 0  # Special case for 0\n",
    "    z = F.multiplicative_generator()\n",
    "    k = u.log(z)  # Compute discrete log of u to the base z\n",
    "    if k % (q+1) != 0:\n",
    "        raise ValueError(\"Unable to factor: u is not in base field GF(q)\")\n",
    "    return z ** (k//(q+1))"
   ]
  },
  {
   "cell_type": "code",
   "execution_count": 103,
   "id": "d4ac55c5-2f49-4048-a8b6-2b03a70dc7e4",
   "metadata": {},
   "outputs": [],
   "source": [
    "def hermitian_decomposition(mat):\n",
    "    \"\"\"\n",
    "    Diagonalizes a Hermitian matrix over a finite field.\n",
    "    Returns the base change matrix and the rank of the Hermitian form.\n",
    "    \n",
    "    Arguments:\n",
    "        mat: The Gram matrix of a Hermitian form (Sage matrix object)\n",
    "        F: The finite field (GF(q))\n",
    "    \n",
    "    Returns:\n",
    "        D: The base change matrix\n",
    "        r: The number of non-zero rows in D*mat*D^T\n",
    "    \"\"\"\n",
    "\n",
    "    F = mat.base_ring()\n",
    "    n = mat.nrows()\n",
    "    q = sqrt(F.order())\n",
    "\n",
    "    if mat.nrows() == 1 and mat.ncols() == 1:\n",
    "        return matrix(F,[conj_square_root(mat[0][0])])\n",
    "\n",
    "    A = copy(mat)\n",
    "    D = identity_matrix(F, n)\n",
    "    row = 0\n",
    "\n",
    "    # Diagonalize A\n",
    "    while True:\n",
    "        row += 1\n",
    "\n",
    "        # Look for a non-zero element on the main diagonal, starting from `row`\n",
    "        i = row - 1  # Adjust for zero-based indexing in Sage\n",
    "        while i < n and A[i, i].is_zero():\n",
    "            i += 1\n",
    "\n",
    "        if i == row - 1:\n",
    "            # Do nothing since A[row, row] != 0\n",
    "            pass\n",
    "        elif i < n:\n",
    "            # Swap to ensure A[row, row] != 0\n",
    "            A.swap_rows(row - 1, i)\n",
    "            A.swap_columns(row - 1, i)\n",
    "            D.swap_rows(row - 1, i)\n",
    "        else:\n",
    "            # All entries on the main diagonal are zero; look for an off-diagonal element\n",
    "            i = row - 1\n",
    "            while i < n - 1:\n",
    "                k = i + 1\n",
    "                while k < n and A[i, k].is_zero():\n",
    "                    k += 1\n",
    "                if k == n:\n",
    "                    i += 1\n",
    "                else:\n",
    "                    break\n",
    "\n",
    "            if i == n - 1:\n",
    "                # All elements are zero; terminate\n",
    "                row -= 1\n",
    "                r = row\n",
    "                break\n",
    "\n",
    "            # Fetch the non-zero element and place it at A[row, row + 1]\n",
    "            if i != row - 1:\n",
    "                A.swap_rows(row - 1, i)\n",
    "                A.swap_columns(row - 1, i)\n",
    "                D.swap_rows(row - 1, i)\n",
    "\n",
    "            A.swap_rows(row, k)\n",
    "            A.swap_columns(row, k)\n",
    "            D.swap_rows(row, k)\n",
    "\n",
    "            b = A[row, row - 1]**(-1)\n",
    "            A.add_multiple_of_column(row - 1, row, b**q)\n",
    "            A.add_multiple_of_row(row - 1, row, b)\n",
    "            D.add_multiple_of_row(row - 1, row, b)\n",
    "\n",
    "        # Eliminate below-diagonal entries in the current column\n",
    "        a = -A[row - 1, row - 1]**(-1)\n",
    "        for i in range(row, n):\n",
    "            b = A[i, row - 1] * a\n",
    "            if not b.is_zero():\n",
    "                A.add_multiple_of_column(i,row - 1, b**q)\n",
    "                A.add_multiple_of_row(i, row - 1, b)\n",
    "                D.add_multiple_of_row(i, row - 1, b)\n",
    "\n",
    "        if row == n - 1:\n",
    "            break\n",
    "\n",
    "    # Count how many variables have been used\n",
    "    if row == n - 1:\n",
    "        if not A[n - 1, n - 1].is_zero():\n",
    "            r = n\n",
    "        else:\n",
    "            r = n - 1\n",
    "\n",
    "    # Normalize diagonal elements to 1\n",
    "    for i in range(r):\n",
    "        a = A[i, i]\n",
    "        if not a.is_one():\n",
    "            # Find an element `b` such that `b*b^t = b^(t+1) = a`\n",
    "            b = conj_square_root(a)\n",
    "            D.rescale_row(i, 1 / b)\n",
    "\n",
    "    return D.inverse()"
   ]
  },
  {
   "cell_type": "code",
   "execution_count": 104,
   "id": "795b890c-9d25-4d2d-8abe-a0b20113d448",
   "metadata": {},
   "outputs": [],
   "source": [
    "#define the Fourier coefficient at the rep'n specht_module corresponding to partition\n",
    "def hat(g,partition,unitary=False,SGA=None):\n",
    "    specht_module = SGA.specht_module(partition)\n",
    "    rho = specht_module.representation_matrix\n",
    "    if unitary:\n",
    "        U = invariant_symmetric_bilinear_matrix(SGA,partition)[0]\n",
    "        A = hermitian_decomposition(U)\n",
    "        sqrt_unitary_factor = sqrt(F(specht_module.dimension()/G.cardinality()))\n",
    "        return sqrt_unitary_factor*A.H*rho(g)*A.H.inverse()\n",
    "    else:\n",
    "        return rho(g)"
   ]
  },
  {
   "cell_type": "code",
   "execution_count": 105,
   "id": "3f5b2cdf-d2a1-4fee-b203-f5dda1d0051f",
   "metadata": {},
   "outputs": [],
   "source": [
    "#for each basis element g \\in G compute the Fourier coefficients \\hat{\\delta_g}(partition) for all partitions\n",
    "def dft(unitary=False):\n",
    "    fourier_transform = [[x for partition in Partitions(G.degree()) for x in hat(g, partition, unitary, SGA).list()] for g in G]\n",
    "    if unitary:\n",
    "        dft_matrix = matrix(F,fourier_transform).transpose()\n",
    "        sign_diag = (dft_matrix*dft_matrix.H).diagonal()\n",
    "        factor_diag_inv = diagonal_matrix([~conj_square_root(d) for d in sign_diag])\n",
    "        return factor_diag_inv*dft_matrix\n",
    "    else:\n",
    "        return matrix(fourier_transform).transpose()"
   ]
  },
  {
   "cell_type": "code",
   "execution_count": 4,
   "id": "ee208021-fba4-4a6a-8121-690ce5c47dee",
   "metadata": {},
   "outputs": [],
   "source": [
    "#define the representation matrix corresponding to q, partition\n",
    "#define generators of multiplicative groups of GF(q) and GF(q^2), w and z respectively\n",
    "q = 7; la = [3,1,1]; n=sum(la)\n",
    "F = GF(q**2)\n",
    "SGA = SymmetricGroupAlgebra(F,n)\n",
    "SM = SGA.specht_module(la)\n",
    "rho = SM.representation_matrix\n",
    "d_rho = SM.dimension()\n",
    "G = SGA.group()\n",
    "z = F.gen()"
   ]
  },
  {
   "cell_type": "code",
   "execution_count": 5,
   "id": "e3c2034c",
   "metadata": {},
   "outputs": [
    {
     "data": {
      "text/plain": [
       "Rational Field"
      ]
     },
     "execution_count": 5,
     "metadata": {},
     "output_type": "execute_result"
    }
   ],
   "source": [
    "#BUG: setting the base ring of the representation matrix to GF(q^2) doesn't work, results in rational field instead\n",
    "rho = SymmetricGroupRepresentation(la,ring=GF(7**2))._representation_matrix_uncached; rho(Permutation([2,1,3,4,5])).base_ring()"
   ]
  },
  {
   "cell_type": "code",
   "execution_count": 43,
   "id": "bfa2f33d-6c91-4f6c-8cb1-d1615b0e1073",
   "metadata": {},
   "outputs": [
    {
     "name": "stdout",
     "output_type": "stream",
     "text": [
      "[5] [(1, 1, 1)]\n",
      "[4, 1] [(4, 1, -1)]\n",
      "[3, 2] [(4, -2, -1), (1, 1, 1)]\n",
      "[3, 1, 1] [(1, 1, 1), (4, -2, -1), (1, 1, 1)]\n",
      "[2, 2, 1] [(1, 1, 1), (4, -2, -1)]\n",
      "[2, 1, 1, 1] [(4, 1, -1)]\n",
      "[1, 1, 1, 1, 1] [(1, 1, 1)]\n"
     ]
    }
   ],
   "source": [
    "#to explain q=2, la=[3,1,1] note that the one of the composition factors (the irreducible quotients from any composition series)\n",
    "#has multiplicity 2. we see this by looking at the Brauer character of the composition factor, and see (1,1,1) appears twice.\n",
    "SGA_5_GF4 = SymmetricGroup(5).algebra(GF(2**2))\n",
    "for la in Partitions(5):\n",
    "    M = SGA_5_GF4.specht_module(la)\n",
    "    print(la, [V.brauer_character() for V in M.composition_factors()])"
   ]
  },
  {
   "cell_type": "code",
   "execution_count": 112,
   "id": "6a3abf2f-1e3f-466c-8c77-275e70738502",
   "metadata": {},
   "outputs": [
    {
     "data": {
      "text/plain": [
       "[\n",
       "[1 1 1 1 1 0]  [0 0 0 0 0 1]\n",
       "[1 1 1 1 0 1]  [0 0 0 0 1 0]\n",
       "[1 1 1 0 1 1]  [0 0 0 1 0 0]\n",
       "[1 1 0 1 1 1]  [0 0 1 0 0 0]\n",
       "[1 0 1 1 1 1]  [0 1 0 0 0 0]\n",
       "[0 1 1 1 1 1], [1 0 0 0 0 0]\n",
       "]"
      ]
     },
     "execution_count": 112,
     "metadata": {},
     "output_type": "execute_result"
    }
   ],
   "source": [
    "#NOTE: for q=2, la=[3,1,1] we get a two dim'l space\n",
    "invariant_symmetric_bilinear_matrix(SGA_5_GF4,[3,1,1],symmetric=True)"
   ]
  },
  {
   "cell_type": "code",
   "execution_count": 96,
   "id": "7d6d3b31-5fbb-48db-938f-7f38b7a42aa6",
   "metadata": {},
   "outputs": [
    {
     "name": "stdout",
     "output_type": "stream",
     "text": [
      "la = [5]\n",
      "q = 7\n",
      "[1]\n",
      "--------\n",
      "la = [4, 1]\n",
      "q = 7\n",
      "[1 4 4 4]\n",
      "[4 1 4 4]\n",
      "[4 4 1 4]\n",
      "[4 4 4 1]\n",
      "--------\n",
      "la = [3, 2]\n",
      "q = 7\n",
      "[1 4 4 2 5]\n",
      "[4 1 2 4 2]\n",
      "[4 2 1 4 2]\n",
      "[2 4 4 1 4]\n",
      "[5 2 2 4 1]\n",
      "--------\n",
      "la = [3, 1, 1]\n",
      "q = 7\n",
      "[1 5 2 5 2 0]\n",
      "[5 1 5 5 0 2]\n",
      "[2 5 1 0 5 2]\n",
      "[5 5 0 1 5 5]\n",
      "[2 0 5 5 1 5]\n",
      "[0 2 2 5 5 1]\n",
      "--------\n",
      "la = [2, 2, 1]\n",
      "q = 7\n",
      "[1 5 2 2 5]\n",
      "[5 1 5 5 5]\n",
      "[2 5 1 5 5]\n",
      "[2 5 5 1 5]\n",
      "[5 5 5 5 1]\n",
      "--------\n",
      "la = [2, 1, 1, 1]\n",
      "q = 7\n",
      "[1 2 5 2]\n",
      "[2 1 2 5]\n",
      "[5 2 1 2]\n",
      "[2 5 2 1]\n",
      "--------\n",
      "la = [1, 1, 1, 1, 1]\n",
      "q = 7\n",
      "[1]\n",
      "--------\n"
     ]
    }
   ],
   "source": [
    "#print the matrix associated to the bilinear form for each partition\n",
    "#note q needs to be large enough. p \\nmid n! seems sufficient\n",
    "for partition in Partitions(n):\n",
    "    U_mats = invariant_symmetric_bilinear_matrix(SGA,partition,symmetric=False)\n",
    "    if len(U_mats) > 1:\n",
    "        print(\"space of G-invariant symmetric bilinear forms has dimension greater than 1\")\n",
    "    print(\"la =\",partition)\n",
    "    print(\"q =\",q)\n",
    "    print(U_mats[0])\n",
    "    print(\"--------\")"
   ]
  },
  {
   "cell_type": "code",
   "execution_count": 108,
   "id": "0426c0ff-4b72-4b39-bae4-3316b00f5780",
   "metadata": {},
   "outputs": [
    {
     "name": "stdout",
     "output_type": "stream",
     "text": [
      "p=2\n",
      "[([3], True), ([2, 1], True), ([1, 1, 1], True)]\n",
      "[([4], True), ([3, 1], True), ([2, 2], True), ([2, 1, 1], False), ([1, 1, 1, 1], True)]\n",
      "Space of G-invariant symmetric bilinear forms has dimension > 1 for la= [3, 1, 1]\n",
      "Dimension of space= 2\n",
      "[([5], True), ([4, 1], False), ([3, 2], False), ([3, 1, 1], False), ([2, 2, 1], False), ([2, 1, 1, 1], False), ([1, 1, 1, 1, 1], True)]\n",
      "---------\n",
      "p=3\n",
      "[([3], True), ([2, 1], False), ([1, 1, 1], True)]\n",
      "[([4], True), ([3, 1], False), ([2, 2], False), ([2, 1, 1], True), ([1, 1, 1, 1], True)]\n",
      "[([5], True), ([4, 1], False), ([3, 2], False), ([3, 1, 1], False), ([2, 2, 1], False), ([2, 1, 1, 1], False), ([1, 1, 1, 1, 1], True)]\n",
      "---------\n",
      "p=5\n",
      "[([3], True), ([2, 1], False), ([1, 1, 1], True)]\n",
      "[([4], True), ([3, 1], False), ([2, 2], False), ([2, 1, 1], False), ([1, 1, 1, 1], True)]\n",
      "[([5], True), ([4, 1], False), ([3, 2], False), ([3, 1, 1], False), ([2, 2, 1], False), ([2, 1, 1, 1], False), ([1, 1, 1, 1, 1], True)]\n",
      "---------\n"
     ]
    }
   ],
   "source": [
    "#print the checks for pairs (p,la) where p is a prime and la is a partition of n\n",
    "for p in Primes()[:3]:\n",
    "    print(f\"p={p}\")\n",
    "    for n in range(3,6):\n",
    "        print([(la,check_form_properties(p,la,True)) for la in Partitions(n)])\n",
    "    print(\"---------\")"
   ]
  },
  {
   "cell_type": "code",
   "execution_count": 144,
   "id": "22fb4767-88e4-49c6-b015-d0c8838c40b0",
   "metadata": {},
   "outputs": [
    {
     "data": {
      "text/plain": [
       "[1 5 2 5 2 0]\n",
       "[5 1 5 5 0 2]\n",
       "[2 5 1 0 5 2]\n",
       "[5 5 0 1 5 5]\n",
       "[2 0 5 5 1 5]\n",
       "[0 2 2 5 5 1]"
      ]
     },
     "execution_count": 144,
     "metadata": {},
     "output_type": "execute_result"
    }
   ],
   "source": [
    "#compute the S_n-invariant symmetric bilinear form associated to (q,la)\n",
    "U = invariant_symmetric_bilinear_matrix(SGA,la)[0]; U"
   ]
  },
  {
   "cell_type": "code",
   "execution_count": 145,
   "id": "7dccd87a-4df5-4de2-af0d-80ffda953644",
   "metadata": {},
   "outputs": [
    {
     "name": "stdout",
     "output_type": "stream",
     "text": [
      "[       1        0        0        0        0        0]\n",
      "[       5 2*z2 + 6        0        0        0        0]\n",
      "[       2   z2 + 3       z2        0        0        0]\n",
      "[       5 4*z2 + 5        0   z2 + 4        0        0]\n",
      "[       2 2*z2 + 6     2*z2 4*z2 + 2   z2 + 1        0]\n",
      "[       0   z2 + 3     5*z2 4*z2 + 2 5*z2 + 5 5*z2 + 4]\n"
     ]
    },
    {
     "data": {
      "text/plain": [
       "True"
      ]
     },
     "execution_count": 145,
     "metadata": {},
     "output_type": "execute_result"
    }
   ],
   "source": [
    "#compute the factorization U = AA^*\n",
    "A = hermitian_decomposition(U); print(A)\n",
    "U == A*A.H"
   ]
  },
  {
   "cell_type": "code",
   "execution_count": 146,
   "id": "7eae377f-856f-4ba3-a7a8-53dc5b19edc8",
   "metadata": {},
   "outputs": [
    {
     "name": "stdout",
     "output_type": "stream",
     "text": [
      "[       1        0        0        0        0        0]\n",
      "[       0        2        0 3*z2 + 6        0        0]\n",
      "[       0        0        2        0 2*z2 + 6        0]\n",
      "[       0 4*z2 + 2        0        5        0        0]\n",
      "[       0        0 5*z2 + 1        0        5        0]\n",
      "[       0        0        0        0        0        6]\n"
     ]
    },
    {
     "data": {
      "text/plain": [
       "True"
      ]
     },
     "execution_count": 146,
     "metadata": {},
     "output_type": "execute_result"
    }
   ],
   "source": [
    "#verify explicitly the representation is unitary\n",
    "g = G[1]\n",
    "rho_unitary = A.H*matrix(F,rho(g))*A.H.inverse(); print(rho_unitary)\n",
    "rho_unitary*rho_unitary.H == 1"
   ]
  },
  {
   "cell_type": "code",
   "execution_count": 70,
   "id": "c43985a4-5b58-43d8-9b9e-cdc0ebaa18b0",
   "metadata": {},
   "outputs": [
    {
     "name": "stdout",
     "output_type": "stream",
     "text": [
      "True\n"
     ]
    }
   ],
   "source": [
    "#construct the unitary representations as \\tilde{\\rho}(g) = A^*\\rho(g)A^*.inverse()\n",
    "all_unitary = True\n",
    "for g in G:\n",
    "    tilde_rho_g = A.H*rho(g)*A.H.inverse()\n",
    "    unitary_check = tilde_rho_g.H*tilde_rho_g == 1\n",
    "    all_unitary = all_unitary and unitary_check\n",
    "print(all_unitary)"
   ]
  },
  {
   "cell_type": "code",
   "execution_count": 43,
   "id": "df3cfa98-3334-4e27-a26a-6d96286d9ff0",
   "metadata": {},
   "outputs": [
    {
     "name": "stdout",
     "output_type": "stream",
     "text": [
      "[(1, 1, 1, 1, 1, 1, 1, 1, 1, 1, 1, 1, 1, 1, 1, 1, 1, 1, 1, 1, 1, 1, 1, 1, 1, 1, 1, 1, 1, 1, 1, 1, 1, 1, 1, 1, 1, 1, 1, 1, 1, 1, 1, 1, 1, 1, 1, 1, 1, 1, 1, 1, 1, 1, 1, 1, 1, 1, 1, 1, 1, 1, 1, 1, 1, 1, 1, 1, 1, 1, 1, 1, 1, 1, 1, 1, 1, 1, 1, 1, 1, 1, 1, 1, 1, 1, 1, 1, 1, 1, 1, 1, 1, 1, 1, 1, 1, 1, 1, 1, 1, 1, 1, 1, 1, 1, 1, 1, 1, 1, 1, 1, 1, 1, 1, 1, 1, 1, 1, 1), (2, 2, 2, 2, 2, 2, 1, 1, 1, 1, 1, 1, 1, 1, 1, 1, 1, 1, 1, 1, 1, 1, 1, 1, 5, 5, 5, 5, 5, 5, 6, 6, 6, 6, 6, 6, 6, 6, 6, 6, 6, 6, 6, 6, 6, 6, 6, 6, 6, 6, 6, 6, 6, 6, 1, 1, 1, 1, 1, 1, 0, 0, 0, 0, 0, 0, 0, 0, 0, 0, 0, 0, 6, 6, 6, 6, 6, 6, 1, 1, 1, 1, 1, 1, 0, 0, 0, 0, 0, 0, 0, 0, 0, 0, 0, 0, 6, 6, 6, 6, 6, 6, 1, 1, 1, 1, 1, 1, 0, 0, 0, 0, 0, 0, 0, 0, 0, 0, 0, 0), (0, 0, 0, 0, 0, 0, 3*z2 + 1, 3*z2 + 1, z2 + 5, z2 + 5, z2 + 5, z2 + 5, 3*z2 + 1, 3*z2 + 1, z2 + 5, z2 + 5, z2 + 5, z2 + 5, 3*z2 + 1, 3*z2 + 1, z2 + 5, z2 + 5, z2 + 5, z2 + 5, 0, 0, 0, 0, 0, 0, 4*z2 + 6, 4*z2 + 6, 6*z2 + 2, 6*z2 + 2, 6*z2 + 2, 6*z2 + 2, 4*z2 + 6, 4*z2 + 6, 6*z2 + 2, 6*z2 + 2, 6*z2 + 2, 6*z2 + 2, 4*z2 + 6, 4*z2 + 6, 6*z2 + 2, 6*z2 + 2, 6*z2 + 2, 6*z2 + 2, 3*z2 + 1, 3*z2 + 1, z2 + 5, z2 + 5, z2 + 5, z2 + 5, 4*z2 + 6, 4*z2 + 6, 6*z2 + 2, 6*z2 + 2, 6*z2 + 2, 6*z2 + 2, 5*z2 + 4, 5*z2 + 4, 2*z2 + 3, 2*z2 + 3, 0, 0, 5*z2 + 4, 5*z2 + 4, 2*z2 + 3, 2*z2 + 3, 0, 0, 3*z2 + 1, 3*z2 + 1, z2 + 5, z2 + 5, z2 + 5, z2 + 5, 4*z2 + 6, 4*z2 + 6, 6*z2 + 2, 6*z2 + 2, 6*z2 + 2, 6*z2 + 2, 5*z2 + 4, 5*z2 + 4, 2*z2 + 3, 2*z2 + 3, 0, 0, 5*z2 + 4, 5*z2 + 4, 2*z2 + 3, 2*z2 + 3, 0, 0, 3*z2 + 1, 3*z2 + 1, z2 + 5, z2 + 5, z2 + 5, z2 + 5, 4*z2 + 6, 4*z2 + 6, 6*z2 + 2, 6*z2 + 2, 6*z2 + 2, 6*z2 + 2, 5*z2 + 4, 5*z2 + 4, 2*z2 + 3, 2*z2 + 3, 0, 0, 5*z2 + 4, 5*z2 + 4, 2*z2 + 3, 2*z2 + 3, 0, 0), (0, 0, 0, 0, 0, 0, 0, 0, 2*z2, 4*z2, 2*z2, 4*z2, 0, 0, 2*z2, 4*z2, 2*z2, 4*z2, 0, 0, 2*z2, 4*z2, 2*z2, 4*z2, 0, 0, 0, 0, 0, 0, 0, 0, 5*z2, 3*z2, 5*z2, 3*z2, 0, 0, 5*z2, 3*z2, 5*z2, 3*z2, 0, 0, 5*z2, 3*z2, 5*z2, 3*z2, 0, 0, 2*z2, 4*z2, 2*z2, 4*z2, 0, 0, 5*z2, 3*z2, 5*z2, 3*z2, 2*z2, 4*z2, 5*z2, 3*z2, 2*z2, 5*z2, 2*z2, 4*z2, 5*z2, 3*z2, 2*z2, 5*z2, 0, 0, 2*z2, 4*z2, 2*z2, 4*z2, 0, 0, 5*z2, 3*z2, 5*z2, 3*z2, 2*z2, 4*z2, 5*z2, 3*z2, 2*z2, 5*z2, 2*z2, 4*z2, 5*z2, 3*z2, 2*z2, 5*z2, 0, 0, 2*z2, 4*z2, 2*z2, 4*z2, 0, 0, 5*z2, 3*z2, 5*z2, 3*z2, 2*z2, 4*z2, 5*z2, 3*z2, 2*z2, 5*z2, 2*z2, 4*z2, 5*z2, 3*z2, 2*z2, 5*z2), (0, 0, 0, 0, 0, 0, 0, 0, 0, 2*z2 + 2, 0, 2*z2 + 2, 0, 0, 0, 2*z2 + 2, 0, 2*z2 + 2, 0, 0, 0, 2*z2 + 2, 0, 2*z2 + 2, 0, 0, 0, 0, 0, 0, 0, 0, 0, 5*z2 + 5, 0, 5*z2 + 5, 0, 0, 0, 5*z2 + 5, 0, 5*z2 + 5, 0, 0, 0, 5*z2 + 5, 0, 5*z2 + 5, 0, 0, 0, 2*z2 + 2, 0, 2*z2 + 2, 0, 0, 0, 5*z2 + 5, 0, 5*z2 + 5, 0, 2*z2 + 2, 0, 5*z2 + 5, 2*z2 + 2, 5*z2 + 5, 0, 2*z2 + 2, 0, 5*z2 + 5, 2*z2 + 2, 5*z2 + 5, 0, 0, 0, 2*z2 + 2, 0, 2*z2 + 2, 0, 0, 0, 5*z2 + 5, 0, 5*z2 + 5, 0, 2*z2 + 2, 0, 5*z2 + 5, 2*z2 + 2, 5*z2 + 5, 0, 2*z2 + 2, 0, 5*z2 + 5, 2*z2 + 2, 5*z2 + 5, 0, 0, 0, 2*z2 + 2, 0, 2*z2 + 2, 0, 0, 0, 5*z2 + 5, 0, 5*z2 + 5, 0, 2*z2 + 2, 0, 5*z2 + 5, 2*z2 + 2, 5*z2 + 5, 0, 2*z2 + 2, 0, 5*z2 + 5, 2*z2 + 2, 5*z2 + 5), (0, 0, 0, 0, 0, 0, 4*z2 + 4, 4*z2 + 4, 4*z2 + 4, 4*z2 + 4, 4*z2 + 4, 4*z2 + 4, 6*z2 + 6, 6*z2 + 6, 6*z2 + 6, 6*z2 + 6, 6*z2 + 6, 6*z2 + 6, 6*z2 + 6, 6*z2 + 6, 6*z2 + 6, 6*z2 + 6, 6*z2 + 6, 6*z2 + 6, 0, 0, 0, 0, 0, 0, 4*z2 + 4, 4*z2 + 4, 4*z2 + 4, 4*z2 + 4, 4*z2 + 4, 4*z2 + 4, 6*z2 + 6, 6*z2 + 6, 6*z2 + 6, 6*z2 + 6, 6*z2 + 6, 6*z2 + 6, 6*z2 + 6, 6*z2 + 6, 6*z2 + 6, 6*z2 + 6, 6*z2 + 6, 6*z2 + 6, 3*z2 + 3, 3*z2 + 3, 3*z2 + 3, 3*z2 + 3, 3*z2 + 3, 3*z2 + 3, 3*z2 + 3, 3*z2 + 3, 3*z2 + 3, 3*z2 + 3, 3*z2 + 3, 3*z2 + 3, 2*z2 + 2, 2*z2 + 2, 2*z2 + 2, 2*z2 + 2, 2*z2 + 2, 2*z2 + 2, 2*z2 + 2, 2*z2 + 2, 2*z2 + 2, 2*z2 + 2, 2*z2 + 2, 2*z2 + 2, z2 + 1, z2 + 1, z2 + 1, z2 + 1, z2 + 1, z2 + 1, z2 + 1, z2 + 1, z2 + 1, z2 + 1, z2 + 1, z2 + 1, 5*z2 + 5, 5*z2 + 5, 5*z2 + 5, 5*z2 + 5, 5*z2 + 5, 5*z2 + 5, 0, 0, 0, 0, 0, 0, z2 + 1, z2 + 1, z2 + 1, z2 + 1, z2 + 1, z2 + 1, z2 + 1, z2 + 1, z2 + 1, z2 + 1, z2 + 1, z2 + 1, 5*z2 + 5, 5*z2 + 5, 5*z2 + 5, 5*z2 + 5, 5*z2 + 5, 5*z2 + 5, 0, 0, 0, 0, 0, 0), (2, 2, 3, 3, 3, 3, 6, 6, 2, 2, 2, 2, 2, 2, 4, 4, 5, 5, 2, 2, 4, 4, 5, 5, 2, 2, 3, 3, 3, 3, 6, 6, 2, 2, 2, 2, 2, 2, 4, 4, 5, 5, 2, 2, 4, 4, 5, 5, 6, 6, 2, 2, 2, 2, 6, 6, 2, 2, 2, 2, 1, 1, 1, 1, 4, 4, 1, 1, 1, 1, 4, 4, 2, 2, 4, 4, 5, 5, 2, 2, 4, 4, 5, 5, 1, 1, 1, 1, 4, 4, 4, 4, 4, 4, 6, 6, 2, 2, 4, 4, 5, 5, 2, 2, 4, 4, 5, 5, 1, 1, 1, 1, 4, 4, 4, 4, 4, 4, 6, 6), (0, 0, 6*z2 + 5, 5*z2 + 3, 6*z2 + 5, 5*z2 + 3, 0, 0, 4*z2 + 1, z2 + 2, 4*z2 + 1, z2 + 2, 6*z2 + 5, 5*z2 + 3, 4*z2 + 1, z2 + 2, 2*z2 + 4, 0, 6*z2 + 5, 5*z2 + 3, 4*z2 + 1, z2 + 2, 2*z2 + 4, 0, 0, 0, 6*z2 + 5, 5*z2 + 3, 6*z2 + 5, 5*z2 + 3, 0, 0, 4*z2 + 1, z2 + 2, 4*z2 + 1, z2 + 2, 6*z2 + 5, 5*z2 + 3, 4*z2 + 1, z2 + 2, 2*z2 + 4, 0, 6*z2 + 5, 5*z2 + 3, 4*z2 + 1, z2 + 2, 2*z2 + 4, 0, 0, 0, 4*z2 + 1, z2 + 2, 4*z2 + 1, z2 + 2, 0, 0, 4*z2 + 1, z2 + 2, 4*z2 + 1, z2 + 2, 4*z2 + 1, z2 + 2, 4*z2 + 1, z2 + 2, 5*z2 + 3, 5*z2 + 3, 4*z2 + 1, z2 + 2, 4*z2 + 1, z2 + 2, 5*z2 + 3, 5*z2 + 3, 6*z2 + 5, 5*z2 + 3, 4*z2 + 1, z2 + 2, 2*z2 + 4, 0, 6*z2 + 5, 5*z2 + 3, 4*z2 + 1, z2 + 2, 2*z2 + 4, 0, 4*z2 + 1, z2 + 2, 4*z2 + 1, z2 + 2, 5*z2 + 3, 5*z2 + 3, 2*z2 + 4, 0, 2*z2 + 4, 0, 5*z2 + 3, 5*z2 + 3, 6*z2 + 5, 5*z2 + 3, 4*z2 + 1, z2 + 2, 2*z2 + 4, 0, 6*z2 + 5, 5*z2 + 3, 4*z2 + 1, z2 + 2, 2*z2 + 4, 0, 4*z2 + 1, z2 + 2, 4*z2 + 1, z2 + 2, 5*z2 + 3, 5*z2 + 3, 2*z2 + 4, 0, 2*z2 + 4, 0, 5*z2 + 3, 5*z2 + 3), (0, 0, 0, 2*z2 + 1, 0, 2*z2 + 1, 0, 0, 0, 6*z2 + 3, 0, 6*z2 + 3, 0, 2*z2 + 1, 0, 6*z2 + 3, 2*z2 + 1, 6*z2 + 3, 0, 2*z2 + 1, 0, 6*z2 + 3, 2*z2 + 1, 6*z2 + 3, 0, 0, 0, 2*z2 + 1, 0, 2*z2 + 1, 0, 0, 0, 6*z2 + 3, 0, 6*z2 + 3, 0, 2*z2 + 1, 0, 6*z2 + 3, 2*z2 + 1, 6*z2 + 3, 0, 2*z2 + 1, 0, 6*z2 + 3, 2*z2 + 1, 6*z2 + 3, 0, 0, 0, 6*z2 + 3, 0, 6*z2 + 3, 0, 0, 0, 6*z2 + 3, 0, 6*z2 + 3, 0, 6*z2 + 3, 0, 6*z2 + 3, 6*z2 + 3, 6*z2 + 3, 0, 6*z2 + 3, 0, 6*z2 + 3, 6*z2 + 3, 6*z2 + 3, 0, 2*z2 + 1, 0, 6*z2 + 3, 2*z2 + 1, 6*z2 + 3, 0, 2*z2 + 1, 0, 6*z2 + 3, 2*z2 + 1, 6*z2 + 3, 0, 6*z2 + 3, 0, 6*z2 + 3, 6*z2 + 3, 6*z2 + 3, 2*z2 + 1, 6*z2 + 3, 2*z2 + 1, 6*z2 + 3, 6*z2 + 3, 6*z2 + 3, 0, 2*z2 + 1, 0, 6*z2 + 3, 2*z2 + 1, 6*z2 + 3, 0, 2*z2 + 1, 0, 6*z2 + 3, 2*z2 + 1, 6*z2 + 3, 0, 6*z2 + 3, 0, 6*z2 + 3, 6*z2 + 3, 6*z2 + 3, 2*z2 + 1, 6*z2 + 3, 2*z2 + 1, 6*z2 + 3, 6*z2 + 3, 6*z2 + 3), (0, 0, 0, 0, 0, 0, 0, 0, 0, 0, 0, 0, 5*z2 + 2, 5*z2 + 2, 5*z2 + 2, 5*z2 + 2, 5*z2 + 2, 5*z2 + 2, 3*z2 + 4, 3*z2 + 4, 3*z2 + 4, 3*z2 + 4, 3*z2 + 4, 3*z2 + 4, 0, 0, 0, 0, 0, 0, 0, 0, 0, 0, 0, 0, 5*z2 + 2, 5*z2 + 2, 5*z2 + 2, 5*z2 + 2, 5*z2 + 2, 5*z2 + 2, 3*z2 + 4, 3*z2 + 4, 3*z2 + 4, 3*z2 + 4, 3*z2 + 4, 3*z2 + 4, 0, 0, 0, 0, 0, 0, 0, 0, 0, 0, 0, 0, 5*z2 + 2, 5*z2 + 2, 5*z2 + 2, 5*z2 + 2, 5*z2 + 2, 5*z2 + 2, 3*z2 + 4, 3*z2 + 4, 3*z2 + 4, 3*z2 + 4, 3*z2 + 4, 3*z2 + 4, 2*z2 + 5, 2*z2 + 5, 2*z2 + 5, 2*z2 + 5, 2*z2 + 5, 2*z2 + 5, 2*z2 + 5, 2*z2 + 5, 2*z2 + 5, 2*z2 + 5, 2*z2 + 5, 2*z2 + 5, 2*z2 + 5, 2*z2 + 5, 2*z2 + 5, 2*z2 + 5, 2*z2 + 5, 2*z2 + 5, 5*z2 + 2, 5*z2 + 2, 5*z2 + 2, 5*z2 + 2, 5*z2 + 2, 5*z2 + 2, 4*z2 + 3, 4*z2 + 3, 4*z2 + 3, 4*z2 + 3, 4*z2 + 3, 4*z2 + 3, 4*z2 + 3, 4*z2 + 3, 4*z2 + 3, 4*z2 + 3, 4*z2 + 3, 4*z2 + 3, 4*z2 + 3, 4*z2 + 3, 4*z2 + 3, 4*z2 + 3, 4*z2 + 3, 4*z2 + 3, 2*z2 + 5, 2*z2 + 5, 2*z2 + 5, 2*z2 + 5, 2*z2 + 5, 2*z2 + 5), (0, 0, z2 + 4, z2 + 4, 2*z2 + 1, 2*z2 + 1, 0, 0, z2 + 4, z2 + 4, 2*z2 + 1, 2*z2 + 1, 3*z2 + 5, 3*z2 + 5, 3*z2 + 5, 3*z2 + 5, 5*z2 + 6, 5*z2 + 6, 6*z2 + 3, 6*z2 + 3, 6*z2 + 3, 6*z2 + 3, 0, 0, 0, 0, z2 + 4, z2 + 4, 2*z2 + 1, 2*z2 + 1, 0, 0, z2 + 4, z2 + 4, 2*z2 + 1, 2*z2 + 1, 3*z2 + 5, 3*z2 + 5, 3*z2 + 5, 3*z2 + 5, 5*z2 + 6, 5*z2 + 6, 6*z2 + 3, 6*z2 + 3, 6*z2 + 3, 6*z2 + 3, 0, 0, 0, 0, z2 + 4, z2 + 4, 2*z2 + 1, 2*z2 + 1, 0, 0, z2 + 4, z2 + 4, 2*z2 + 1, 2*z2 + 1, 3*z2 + 5, 3*z2 + 5, 3*z2 + 5, 3*z2 + 5, 5*z2 + 6, 5*z2 + 6, 6*z2 + 3, 6*z2 + 3, 6*z2 + 3, 6*z2 + 3, 0, 0, 3*z2 + 5, 3*z2 + 5, 3*z2 + 5, 3*z2 + 5, 5*z2 + 6, 5*z2 + 6, 3*z2 + 5, 3*z2 + 5, 3*z2 + 5, 3*z2 + 5, 5*z2 + 6, 5*z2 + 6, 3*z2 + 5, 3*z2 + 5, 3*z2 + 5, 3*z2 + 5, 5*z2 + 6, 5*z2 + 6, 2*z2 + 1, 2*z2 + 1, 2*z2 + 1, 2*z2 + 1, 2*z2 + 1, 2*z2 + 1, 6*z2 + 3, 6*z2 + 3, 6*z2 + 3, 6*z2 + 3, 0, 0, 6*z2 + 3, 6*z2 + 3, 6*z2 + 3, 6*z2 + 3, 0, 0, 6*z2 + 3, 6*z2 + 3, 6*z2 + 3, 6*z2 + 3, 0, 0, 2*z2 + 1, 2*z2 + 1, 2*z2 + 1, 2*z2 + 1, 2*z2 + 1, 2*z2 + 1), (2, 4, 4, 1, 1, 3, 2, 4, 4, 1, 1, 3, 4, 1, 4, 1, 5, 5, 1, 3, 1, 3, 5, 5, 2, 4, 4, 1, 1, 3, 2, 4, 4, 1, 1, 3, 4, 1, 4, 1, 5, 5, 1, 3, 1, 3, 5, 5, 2, 4, 4, 1, 1, 3, 2, 4, 4, 1, 1, 3, 4, 1, 4, 1, 5, 5, 1, 3, 1, 3, 5, 5, 4, 1, 4, 1, 5, 5, 4, 1, 4, 1, 5, 5, 4, 1, 4, 1, 5, 5, 5, 5, 5, 5, 5, 5, 1, 3, 1, 3, 5, 5, 1, 3, 1, 3, 5, 5, 1, 3, 1, 3, 5, 5, 5, 5, 5, 5, 5, 5), (0, 4*z2 + 5, 0, z2 + 3, 4*z2 + 5, z2 + 3, 0, 4*z2 + 5, 0, z2 + 3, 4*z2 + 5, z2 + 3, 0, z2 + 3, 0, z2 + 3, z2 + 3, z2 + 3, 4*z2 + 5, z2 + 3, 4*z2 + 5, z2 + 3, z2 + 3, z2 + 3, 0, 4*z2 + 5, 0, z2 + 3, 4*z2 + 5, z2 + 3, 0, 4*z2 + 5, 0, z2 + 3, 4*z2 + 5, z2 + 3, 0, z2 + 3, 0, z2 + 3, z2 + 3, z2 + 3, 4*z2 + 5, z2 + 3, 4*z2 + 5, z2 + 3, z2 + 3, z2 + 3, 0, 4*z2 + 5, 0, z2 + 3, 4*z2 + 5, z2 + 3, 0, 4*z2 + 5, 0, z2 + 3, 4*z2 + 5, z2 + 3, 0, z2 + 3, 0, z2 + 3, z2 + 3, z2 + 3, 4*z2 + 5, z2 + 3, 4*z2 + 5, z2 + 3, z2 + 3, z2 + 3, 0, z2 + 3, 0, z2 + 3, z2 + 3, z2 + 3, 0, z2 + 3, 0, z2 + 3, z2 + 3, z2 + 3, 0, z2 + 3, 0, z2 + 3, z2 + 3, z2 + 3, z2 + 3, z2 + 3, z2 + 3, z2 + 3, z2 + 3, z2 + 3, 4*z2 + 5, z2 + 3, 4*z2 + 5, z2 + 3, z2 + 3, z2 + 3, 4*z2 + 5, z2 + 3, 4*z2 + 5, z2 + 3, z2 + 3, z2 + 3, 4*z2 + 5, z2 + 3, 4*z2 + 5, z2 + 3, z2 + 3, z2 + 3, z2 + 3, z2 + 3, z2 + 3, z2 + 3, z2 + 3, z2 + 3), (0, 0, 0, 0, 0, 0, 0, 0, 0, 0, 0, 0, 0, 0, 0, 0, 0, 0, 5*z2 + 4, 5*z2 + 4, 5*z2 + 4, 5*z2 + 4, 5*z2 + 4, 5*z2 + 4, 0, 0, 0, 0, 0, 0, 0, 0, 0, 0, 0, 0, 0, 0, 0, 0, 0, 0, 5*z2 + 4, 5*z2 + 4, 5*z2 + 4, 5*z2 + 4, 5*z2 + 4, 5*z2 + 4, 0, 0, 0, 0, 0, 0, 0, 0, 0, 0, 0, 0, 0, 0, 0, 0, 0, 0, 5*z2 + 4, 5*z2 + 4, 5*z2 + 4, 5*z2 + 4, 5*z2 + 4, 5*z2 + 4, 0, 0, 0, 0, 0, 0, 0, 0, 0, 0, 0, 0, 0, 0, 0, 0, 0, 0, 5*z2 + 4, 5*z2 + 4, 5*z2 + 4, 5*z2 + 4, 5*z2 + 4, 5*z2 + 4, 2*z2 + 3, 2*z2 + 3, 2*z2 + 3, 2*z2 + 3, 2*z2 + 3, 2*z2 + 3, 2*z2 + 3, 2*z2 + 3, 2*z2 + 3, 2*z2 + 3, 2*z2 + 3, 2*z2 + 3, 2*z2 + 3, 2*z2 + 3, 2*z2 + 3, 2*z2 + 3, 2*z2 + 3, 2*z2 + 3, 2*z2 + 3, 2*z2 + 3, 2*z2 + 3, 2*z2 + 3, 2*z2 + 3, 2*z2 + 3), (0, 0, 0, 0, 5*z2 + 3, 5*z2 + 3, 0, 0, 0, 0, 5*z2 + 3, 5*z2 + 3, 0, 0, 0, 0, 5*z2 + 3, 5*z2 + 3, z2 + 2, z2 + 2, z2 + 2, z2 + 2, z2 + 2, z2 + 2, 0, 0, 0, 0, 5*z2 + 3, 5*z2 + 3, 0, 0, 0, 0, 5*z2 + 3, 5*z2 + 3, 0, 0, 0, 0, 5*z2 + 3, 5*z2 + 3, z2 + 2, z2 + 2, z2 + 2, z2 + 2, z2 + 2, z2 + 2, 0, 0, 0, 0, 5*z2 + 3, 5*z2 + 3, 0, 0, 0, 0, 5*z2 + 3, 5*z2 + 3, 0, 0, 0, 0, 5*z2 + 3, 5*z2 + 3, z2 + 2, z2 + 2, z2 + 2, z2 + 2, z2 + 2, z2 + 2, 0, 0, 0, 0, 5*z2 + 3, 5*z2 + 3, 0, 0, 0, 0, 5*z2 + 3, 5*z2 + 3, 0, 0, 0, 0, 5*z2 + 3, 5*z2 + 3, z2 + 2, z2 + 2, z2 + 2, z2 + 2, z2 + 2, z2 + 2, z2 + 2, z2 + 2, z2 + 2, z2 + 2, z2 + 2, z2 + 2, z2 + 2, z2 + 2, z2 + 2, z2 + 2, z2 + 2, z2 + 2, z2 + 2, z2 + 2, z2 + 2, z2 + 2, z2 + 2, z2 + 2, z2 + 2, z2 + 2, z2 + 2, z2 + 2, z2 + 2, z2 + 2), (0, 3*z2 + 2, 0, 3*z2 + 2, 6*z2 + 4, 6*z2 + 4, 0, 3*z2 + 2, 0, 3*z2 + 2, 6*z2 + 4, 6*z2 + 4, 0, 3*z2 + 2, 0, 3*z2 + 2, 6*z2 + 4, 6*z2 + 4, 6*z2 + 4, 6*z2 + 4, 6*z2 + 4, 6*z2 + 4, 6*z2 + 4, 6*z2 + 4, 0, 3*z2 + 2, 0, 3*z2 + 2, 6*z2 + 4, 6*z2 + 4, 0, 3*z2 + 2, 0, 3*z2 + 2, 6*z2 + 4, 6*z2 + 4, 0, 3*z2 + 2, 0, 3*z2 + 2, 6*z2 + 4, 6*z2 + 4, 6*z2 + 4, 6*z2 + 4, 6*z2 + 4, 6*z2 + 4, 6*z2 + 4, 6*z2 + 4, 0, 3*z2 + 2, 0, 3*z2 + 2, 6*z2 + 4, 6*z2 + 4, 0, 3*z2 + 2, 0, 3*z2 + 2, 6*z2 + 4, 6*z2 + 4, 0, 3*z2 + 2, 0, 3*z2 + 2, 6*z2 + 4, 6*z2 + 4, 6*z2 + 4, 6*z2 + 4, 6*z2 + 4, 6*z2 + 4, 6*z2 + 4, 6*z2 + 4, 0, 3*z2 + 2, 0, 3*z2 + 2, 6*z2 + 4, 6*z2 + 4, 0, 3*z2 + 2, 0, 3*z2 + 2, 6*z2 + 4, 6*z2 + 4, 0, 3*z2 + 2, 0, 3*z2 + 2, 6*z2 + 4, 6*z2 + 4, 6*z2 + 4, 6*z2 + 4, 6*z2 + 4, 6*z2 + 4, 6*z2 + 4, 6*z2 + 4, 6*z2 + 4, 6*z2 + 4, 6*z2 + 4, 6*z2 + 4, 6*z2 + 4, 6*z2 + 4, 6*z2 + 4, 6*z2 + 4, 6*z2 + 4, 6*z2 + 4, 6*z2 + 4, 6*z2 + 4, 6*z2 + 4, 6*z2 + 4, 6*z2 + 4, 6*z2 + 4, 6*z2 + 4, 6*z2 + 4, 6*z2 + 4, 6*z2 + 4, 6*z2 + 4, 6*z2 + 4, 6*z2 + 4, 6*z2 + 4), (2, 3, 2, 3, 3, 3, 2, 3, 2, 3, 3, 3, 2, 3, 2, 3, 3, 3, 3, 3, 3, 3, 3, 3, 2, 3, 2, 3, 3, 3, 2, 3, 2, 3, 3, 3, 2, 3, 2, 3, 3, 3, 3, 3, 3, 3, 3, 3, 2, 3, 2, 3, 3, 3, 2, 3, 2, 3, 3, 3, 2, 3, 2, 3, 3, 3, 3, 3, 3, 3, 3, 3, 2, 3, 2, 3, 3, 3, 2, 3, 2, 3, 3, 3, 2, 3, 2, 3, 3, 3, 3, 3, 3, 3, 3, 3, 3, 3, 3, 3, 3, 3, 3, 3, 3, 3, 3, 3, 3, 3, 3, 3, 3, 3, 3, 3, 3, 3, 3, 3), (2*z2, z2, 5*z2, 6*z2, 6*z2, z2, z2, 4*z2, 6*z2, 3*z2, 3*z2, 4*z2, 6*z2, 3*z2, z2, 4*z2, 4*z2, 3*z2, 3*z2, 4*z2, 4*z2, z2, 3*z2, 6*z2, 5*z2, 6*z2, 2*z2, z2, z2, 6*z2, 6*z2, 3*z2, z2, 4*z2, 4*z2, 3*z2, z2, 4*z2, 6*z2, 3*z2, 3*z2, 4*z2, 4*z2, 3*z2, 3*z2, 6*z2, 4*z2, z2, 6*z2, 3*z2, z2, 4*z2, 4*z2, 3*z2, z2, 4*z2, 6*z2, 3*z2, 3*z2, 4*z2, 2*z2, z2, 5*z2, 6*z2, 6*z2, z2, z2, 4*z2, 6*z2, 3*z2, 3*z2, 4*z2, z2, 4*z2, 6*z2, 3*z2, 3*z2, 4*z2, 6*z2, 3*z2, z2, 4*z2, 4*z2, 3*z2, 5*z2, 6*z2, 2*z2, z2, z2, 6*z2, 6*z2, 3*z2, z2, 4*z2, 4*z2, 3*z2, 4*z2, 3*z2, 3*z2, 6*z2, 4*z2, z2, 3*z2, 4*z2, 4*z2, z2, 3*z2, 6*z2, 6*z2, 3*z2, z2, 4*z2, 4*z2, 3*z2, z2, 4*z2, 6*z2, 3*z2, 3*z2, 4*z2), (0, 0, 0, 0, 0, 0, 4*z2 + 5, 2*z2 + 6, 4*z2 + 5, 2*z2 + 6, 2*z2 + 6, 2*z2 + 6, 3*z2 + 2, 5*z2 + 1, 3*z2 + 2, 5*z2 + 1, 5*z2 + 1, 5*z2 + 1, 5*z2 + 1, 2*z2 + 6, 5*z2 + 1, 0, 2*z2 + 6, 0, 0, 0, 0, 0, 0, 0, 3*z2 + 2, 5*z2 + 1, 3*z2 + 2, 5*z2 + 1, 5*z2 + 1, 5*z2 + 1, 4*z2 + 5, 2*z2 + 6, 4*z2 + 5, 2*z2 + 6, 2*z2 + 6, 2*z2 + 6, 2*z2 + 6, 5*z2 + 1, 2*z2 + 6, 0, 5*z2 + 1, 0, 4*z2 + 5, 2*z2 + 6, 4*z2 + 5, 2*z2 + 6, 2*z2 + 6, 2*z2 + 6, 3*z2 + 2, 5*z2 + 1, 3*z2 + 2, 5*z2 + 1, 5*z2 + 1, 5*z2 + 1, 0, 0, 0, 0, 0, 0, 0, 5*z2 + 1, 0, 2*z2 + 6, 5*z2 + 1, 2*z2 + 6, 3*z2 + 2, 5*z2 + 1, 3*z2 + 2, 5*z2 + 1, 5*z2 + 1, 5*z2 + 1, 4*z2 + 5, 2*z2 + 6, 4*z2 + 5, 2*z2 + 6, 2*z2 + 6, 2*z2 + 6, 0, 0, 0, 0, 0, 0, 0, 2*z2 + 6, 0, 5*z2 + 1, 2*z2 + 6, 5*z2 + 1, 5*z2 + 1, 2*z2 + 6, 5*z2 + 1, 0, 2*z2 + 6, 0, 2*z2 + 6, 5*z2 + 1, 2*z2 + 6, 0, 5*z2 + 1, 0, 0, 5*z2 + 1, 0, 2*z2 + 6, 5*z2 + 1, 2*z2 + 6, 0, 2*z2 + 6, 0, 5*z2 + 1, 2*z2 + 6, 5*z2 + 1), (0, 4*z2 + 5, 0, 3*z2 + 2, 4*z2 + 5, 3*z2 + 2, 0, 2*z2 + 6, 0, 5*z2 + 1, 2*z2 + 6, 5*z2 + 1, 0, 5*z2 + 1, 0, 2*z2 + 6, 5*z2 + 1, 2*z2 + 6, 2*z2 + 6, 5*z2 + 1, 2*z2 + 6, 0, 5*z2 + 1, 0, 0, 3*z2 + 2, 0, 4*z2 + 5, 3*z2 + 2, 4*z2 + 5, 0, 5*z2 + 1, 0, 2*z2 + 6, 5*z2 + 1, 2*z2 + 6, 0, 2*z2 + 6, 0, 5*z2 + 1, 2*z2 + 6, 5*z2 + 1, 5*z2 + 1, 2*z2 + 6, 5*z2 + 1, 0, 2*z2 + 6, 0, 0, 5*z2 + 1, 0, 2*z2 + 6, 5*z2 + 1, 2*z2 + 6, 0, 2*z2 + 6, 0, 5*z2 + 1, 2*z2 + 6, 5*z2 + 1, 0, 4*z2 + 5, 0, 3*z2 + 2, 4*z2 + 5, 3*z2 + 2, 0, 2*z2 + 6, 0, 5*z2 + 1, 2*z2 + 6, 5*z2 + 1, 0, 2*z2 + 6, 0, 5*z2 + 1, 2*z2 + 6, 5*z2 + 1, 0, 5*z2 + 1, 0, 2*z2 + 6, 5*z2 + 1, 2*z2 + 6, 0, 3*z2 + 2, 0, 4*z2 + 5, 3*z2 + 2, 4*z2 + 5, 0, 5*z2 + 1, 0, 2*z2 + 6, 5*z2 + 1, 2*z2 + 6, 5*z2 + 1, 2*z2 + 6, 5*z2 + 1, 0, 2*z2 + 6, 0, 2*z2 + 6, 5*z2 + 1, 2*z2 + 6, 0, 5*z2 + 1, 0, 0, 5*z2 + 1, 0, 2*z2 + 6, 5*z2 + 1, 2*z2 + 6, 0, 2*z2 + 6, 0, 5*z2 + 1, 2*z2 + 6, 5*z2 + 1), (0, 0, 0, 0, 0, 0, 0, 2*z2, 0, 2*z2, 3*z2, 3*z2, 0, 5*z2, 0, 5*z2, 4*z2, 4*z2, 2*z2, 5*z2, 3*z2, z2, 4*z2, 6*z2, 0, 0, 0, 0, 0, 0, 0, 5*z2, 0, 5*z2, 4*z2, 4*z2, 0, 2*z2, 0, 2*z2, 3*z2, 3*z2, 5*z2, 2*z2, 4*z2, 6*z2, 3*z2, z2, 0, 2*z2, 0, 2*z2, 3*z2, 3*z2, 0, 5*z2, 0, 5*z2, 4*z2, 4*z2, 0, 0, 0, 0, 0, 0, z2, 3*z2, 6*z2, 4*z2, 2*z2, 5*z2, 0, 5*z2, 0, 5*z2, 4*z2, 4*z2, 0, 2*z2, 0, 2*z2, 3*z2, 3*z2, 0, 0, 0, 0, 0, 0, 6*z2, 4*z2, z2, 3*z2, 5*z2, 2*z2, 2*z2, 5*z2, 3*z2, z2, 4*z2, 6*z2, 5*z2, 2*z2, 4*z2, 6*z2, 3*z2, z2, z2, 3*z2, 6*z2, 4*z2, 2*z2, 5*z2, 6*z2, 4*z2, z2, 3*z2, 5*z2, 2*z2), (0, 0, 0, 0, 0, 0, 0, 0, 0, 0, 2*z2 + 2, 2*z2 + 2, 0, 0, 0, 0, 5*z2 + 5, 5*z2 + 5, 0, 0, 2*z2 + 2, 2*z2 + 2, 5*z2 + 5, 5*z2 + 5, 0, 0, 0, 0, 0, 0, 0, 0, 0, 0, 5*z2 + 5, 5*z2 + 5, 0, 0, 0, 0, 2*z2 + 2, 2*z2 + 2, 0, 0, 5*z2 + 5, 5*z2 + 5, 2*z2 + 2, 2*z2 + 2, 0, 0, 0, 0, 2*z2 + 2, 2*z2 + 2, 0, 0, 0, 0, 5*z2 + 5, 5*z2 + 5, 0, 0, 0, 0, 0, 0, 2*z2 + 2, 2*z2 + 2, 5*z2 + 5, 5*z2 + 5, 0, 0, 0, 0, 0, 0, 5*z2 + 5, 5*z2 + 5, 0, 0, 0, 0, 2*z2 + 2, 2*z2 + 2, 0, 0, 0, 0, 0, 0, 5*z2 + 5, 5*z2 + 5, 2*z2 + 2, 2*z2 + 2, 0, 0, 0, 0, 2*z2 + 2, 2*z2 + 2, 5*z2 + 5, 5*z2 + 5, 0, 0, 5*z2 + 5, 5*z2 + 5, 2*z2 + 2, 2*z2 + 2, 2*z2 + 2, 2*z2 + 2, 5*z2 + 5, 5*z2 + 5, 0, 0, 5*z2 + 5, 5*z2 + 5, 2*z2 + 2, 2*z2 + 2, 0, 0), (0, 0, 0, 0, 0, 0, z2 + 2, 4*z2 + 1, 6*z2 + 5, 3*z2 + 6, 3*z2 + 6, 4*z2 + 1, z2 + 2, 4*z2 + 1, 6*z2 + 5, 3*z2 + 6, 3*z2 + 6, 4*z2 + 1, 4*z2 + 1, 4*z2 + 1, 3*z2 + 6, 0, 3*z2 + 6, 0, 0, 0, 0, 0, 0, 0, z2 + 2, 4*z2 + 1, 6*z2 + 5, 3*z2 + 6, 3*z2 + 6, 4*z2 + 1, z2 + 2, 4*z2 + 1, 6*z2 + 5, 3*z2 + 6, 3*z2 + 6, 4*z2 + 1, 4*z2 + 1, 4*z2 + 1, 3*z2 + 6, 0, 3*z2 + 6, 0, 6*z2 + 5, 3*z2 + 6, z2 + 2, 4*z2 + 1, 4*z2 + 1, 3*z2 + 6, 6*z2 + 5, 3*z2 + 6, z2 + 2, 4*z2 + 1, 4*z2 + 1, 3*z2 + 6, 0, 0, 0, 0, 0, 0, 0, 3*z2 + 6, 0, 3*z2 + 6, 4*z2 + 1, 4*z2 + 1, 6*z2 + 5, 3*z2 + 6, z2 + 2, 4*z2 + 1, 4*z2 + 1, 3*z2 + 6, 6*z2 + 5, 3*z2 + 6, z2 + 2, 4*z2 + 1, 4*z2 + 1, 3*z2 + 6, 0, 0, 0, 0, 0, 0, 0, 3*z2 + 6, 0, 3*z2 + 6, 4*z2 + 1, 4*z2 + 1, 3*z2 + 6, 3*z2 + 6, 4*z2 + 1, 0, 4*z2 + 1, 0, 3*z2 + 6, 3*z2 + 6, 4*z2 + 1, 0, 4*z2 + 1, 0, 0, 4*z2 + 1, 0, 4*z2 + 1, 3*z2 + 6, 3*z2 + 6, 0, 4*z2 + 1, 0, 4*z2 + 1, 3*z2 + 6, 3*z2 + 6), (2*z2, z2, 2*z2, z2, z2, z2, 6*z2, 3*z2, 6*z2, 3*z2, 3*z2, 3*z2, 6*z2, 3*z2, 6*z2, 3*z2, 3*z2, 3*z2, 3*z2, 3*z2, 3*z2, z2, 3*z2, z2, 2*z2, z2, 2*z2, z2, z2, z2, 6*z2, 3*z2, 6*z2, 3*z2, 3*z2, 3*z2, 6*z2, 3*z2, 6*z2, 3*z2, 3*z2, 3*z2, 3*z2, 3*z2, 3*z2, z2, 3*z2, z2, 6*z2, 3*z2, 6*z2, 3*z2, 3*z2, 3*z2, 6*z2, 3*z2, 6*z2, 3*z2, 3*z2, 3*z2, 2*z2, z2, 2*z2, z2, z2, z2, z2, 3*z2, z2, 3*z2, 3*z2, 3*z2, 6*z2, 3*z2, 6*z2, 3*z2, 3*z2, 3*z2, 6*z2, 3*z2, 6*z2, 3*z2, 3*z2, 3*z2, 2*z2, z2, 2*z2, z2, z2, z2, z2, 3*z2, z2, 3*z2, 3*z2, 3*z2, 3*z2, 3*z2, 3*z2, z2, 3*z2, z2, 3*z2, 3*z2, 3*z2, z2, 3*z2, z2, z2, 3*z2, z2, 3*z2, 3*z2, 3*z2, z2, 3*z2, z2, 3*z2, 3*z2, 3*z2), (0, 0, 0, 0, 0, 0, 0, 5*z2, 0, 2*z2, 5*z2, 2*z2, 0, 5*z2, 0, 2*z2, 5*z2, 2*z2, 4*z2, 4*z2, 4*z2, 6*z2, 4*z2, 6*z2, 0, 0, 0, 0, 0, 0, 0, 5*z2, 0, 2*z2, 5*z2, 2*z2, 0, 5*z2, 0, 2*z2, 5*z2, 2*z2, 4*z2, 4*z2, 4*z2, 6*z2, 4*z2, 6*z2, 0, 2*z2, 0, 5*z2, 2*z2, 5*z2, 0, 2*z2, 0, 5*z2, 2*z2, 5*z2, 0, 0, 0, 0, 0, 0, 6*z2, 4*z2, 6*z2, 4*z2, 4*z2, 4*z2, 0, 2*z2, 0, 5*z2, 2*z2, 5*z2, 0, 2*z2, 0, 5*z2, 2*z2, 5*z2, 0, 0, 0, 0, 0, 0, 6*z2, 4*z2, 6*z2, 4*z2, 4*z2, 4*z2, 3*z2, 3*z2, 3*z2, z2, 3*z2, z2, 3*z2, 3*z2, 3*z2, z2, 3*z2, z2, z2, 3*z2, z2, 3*z2, 3*z2, 3*z2, z2, 3*z2, z2, 3*z2, 3*z2, 3*z2), (0, 6*z2 + 5, 0, 6*z2 + 5, 2*z2 + 4, 2*z2 + 4, 0, 4*z2 + 1, 0, 4*z2 + 1, 6*z2 + 5, 6*z2 + 5, 0, 4*z2 + 1, 0, 4*z2 + 1, 6*z2 + 5, 6*z2 + 5, 6*z2 + 5, 6*z2 + 5, 5*z2 + 3, 3*z2 + 6, 5*z2 + 3, 3*z2 + 6, 0, 6*z2 + 5, 0, 6*z2 + 5, 2*z2 + 4, 2*z2 + 4, 0, 4*z2 + 1, 0, 4*z2 + 1, 6*z2 + 5, 6*z2 + 5, 0, 4*z2 + 1, 0, 4*z2 + 1, 6*z2 + 5, 6*z2 + 5, 6*z2 + 5, 6*z2 + 5, 5*z2 + 3, 3*z2 + 6, 5*z2 + 3, 3*z2 + 6, 0, 4*z2 + 1, 0, 4*z2 + 1, 6*z2 + 5, 6*z2 + 5, 0, 4*z2 + 1, 0, 4*z2 + 1, 6*z2 + 5, 6*z2 + 5, 0, 6*z2 + 5, 0, 6*z2 + 5, 2*z2 + 4, 2*z2 + 4, 3*z2 + 6, 5*z2 + 3, 3*z2 + 6, 5*z2 + 3, 6*z2 + 5, 6*z2 + 5, 0, 4*z2 + 1, 0, 4*z2 + 1, 6*z2 + 5, 6*z2 + 5, 0, 4*z2 + 1, 0, 4*z2 + 1, 6*z2 + 5, 6*z2 + 5, 0, 6*z2 + 5, 0, 6*z2 + 5, 2*z2 + 4, 2*z2 + 4, 3*z2 + 6, 5*z2 + 3, 3*z2 + 6, 5*z2 + 3, 6*z2 + 5, 6*z2 + 5, 6*z2 + 5, 6*z2 + 5, 5*z2 + 3, 3*z2 + 6, 5*z2 + 3, 3*z2 + 6, 6*z2 + 5, 6*z2 + 5, 5*z2 + 3, 3*z2 + 6, 5*z2 + 3, 3*z2 + 6, 3*z2 + 6, 5*z2 + 3, 3*z2 + 6, 5*z2 + 3, 6*z2 + 5, 6*z2 + 5, 3*z2 + 6, 5*z2 + 3, 3*z2 + 6, 5*z2 + 3, 6*z2 + 5, 6*z2 + 5), (0, 0, 0, 0, 2*z2 + 1, 2*z2 + 1, 0, 0, 0, 0, 6*z2 + 3, 6*z2 + 3, 0, 0, 0, 0, 6*z2 + 3, 6*z2 + 3, 2*z2 + 1, 2*z2 + 1, 6*z2 + 3, 6*z2 + 3, 6*z2 + 3, 6*z2 + 3, 0, 0, 0, 0, 2*z2 + 1, 2*z2 + 1, 0, 0, 0, 0, 6*z2 + 3, 6*z2 + 3, 0, 0, 0, 0, 6*z2 + 3, 6*z2 + 3, 2*z2 + 1, 2*z2 + 1, 6*z2 + 3, 6*z2 + 3, 6*z2 + 3, 6*z2 + 3, 0, 0, 0, 0, 6*z2 + 3, 6*z2 + 3, 0, 0, 0, 0, 6*z2 + 3, 6*z2 + 3, 0, 0, 0, 0, 2*z2 + 1, 2*z2 + 1, 6*z2 + 3, 6*z2 + 3, 6*z2 + 3, 6*z2 + 3, 2*z2 + 1, 2*z2 + 1, 0, 0, 0, 0, 6*z2 + 3, 6*z2 + 3, 0, 0, 0, 0, 6*z2 + 3, 6*z2 + 3, 0, 0, 0, 0, 2*z2 + 1, 2*z2 + 1, 6*z2 + 3, 6*z2 + 3, 6*z2 + 3, 6*z2 + 3, 2*z2 + 1, 2*z2 + 1, 2*z2 + 1, 2*z2 + 1, 6*z2 + 3, 6*z2 + 3, 6*z2 + 3, 6*z2 + 3, 2*z2 + 1, 2*z2 + 1, 6*z2 + 3, 6*z2 + 3, 6*z2 + 3, 6*z2 + 3, 6*z2 + 3, 6*z2 + 3, 6*z2 + 3, 6*z2 + 3, 2*z2 + 1, 2*z2 + 1, 6*z2 + 3, 6*z2 + 3, 6*z2 + 3, 6*z2 + 3, 2*z2 + 1, 2*z2 + 1), (0, z2 + 2, 0, z2 + 2, 6*z2 + 5, 6*z2 + 5, 0, 4*z2 + 1, 0, 4*z2 + 1, 3*z2 + 6, 3*z2 + 6, 0, 4*z2 + 1, 0, 4*z2 + 1, 3*z2 + 6, 3*z2 + 6, 3*z2 + 6, 3*z2 + 6, 4*z2 + 1, 0, 4*z2 + 1, 0, 0, 6*z2 + 5, 0, 6*z2 + 5, z2 + 2, z2 + 2, 0, 3*z2 + 6, 0, 3*z2 + 6, 4*z2 + 1, 4*z2 + 1, 0, 3*z2 + 6, 0, 3*z2 + 6, 4*z2 + 1, 4*z2 + 1, 4*z2 + 1, 4*z2 + 1, 3*z2 + 6, 0, 3*z2 + 6, 0, 0, 3*z2 + 6, 0, 3*z2 + 6, 4*z2 + 1, 4*z2 + 1, 0, 4*z2 + 1, 0, 4*z2 + 1, 3*z2 + 6, 3*z2 + 6, 0, 0, 0, 0, 0, 0, z2 + 2, 4*z2 + 1, 6*z2 + 5, 3*z2 + 6, 3*z2 + 6, 4*z2 + 1, 0, 3*z2 + 6, 0, 3*z2 + 6, 4*z2 + 1, 4*z2 + 1, 0, 4*z2 + 1, 0, 4*z2 + 1, 3*z2 + 6, 3*z2 + 6, 0, 0, 0, 0, 0, 0, z2 + 2, 4*z2 + 1, 6*z2 + 5, 3*z2 + 6, 3*z2 + 6, 4*z2 + 1, 4*z2 + 1, 4*z2 + 1, 3*z2 + 6, 0, 3*z2 + 6, 0, 3*z2 + 6, 3*z2 + 6, 4*z2 + 1, 0, 4*z2 + 1, 0, 6*z2 + 5, 3*z2 + 6, z2 + 2, 4*z2 + 1, 4*z2 + 1, 3*z2 + 6, 6*z2 + 5, 3*z2 + 6, z2 + 2, 4*z2 + 1, 4*z2 + 1, 3*z2 + 6), (0, 0, 0, 0, 0, 0, 0, 5*z2, 0, 4*z2, 5*z2, 4*z2, 0, 5*z2, 0, 4*z2, 5*z2, 4*z2, 2*z2, 2*z2, 2*z2, 6*z2, 2*z2, 6*z2, 0, 0, 0, 0, 0, 0, 0, 2*z2, 0, 3*z2, 2*z2, 3*z2, 0, 2*z2, 0, 3*z2, 2*z2, 3*z2, 5*z2, 5*z2, 5*z2, z2, 5*z2, z2, 0, 5*z2, 0, 4*z2, 5*z2, 4*z2, 0, 2*z2, 0, 3*z2, 2*z2, 3*z2, 0, 6*z2, 0, z2, 6*z2, z2, 0, 4*z2, 0, 3*z2, 4*z2, 3*z2, 0, 5*z2, 0, 4*z2, 5*z2, 4*z2, 0, 2*z2, 0, 3*z2, 2*z2, 3*z2, 0, 6*z2, 0, z2, 6*z2, z2, 0, 4*z2, 0, 3*z2, 4*z2, 3*z2, 2*z2, 2*z2, 2*z2, 6*z2, 2*z2, 6*z2, 5*z2, 5*z2, 5*z2, z2, 5*z2, z2, 0, 4*z2, 0, 3*z2, 4*z2, 3*z2, 0, 4*z2, 0, 3*z2, 4*z2, 3*z2), (2*z2, 6*z2, 2*z2, 6*z2, 6*z2, 6*z2, z2, 3*z2, z2, 3*z2, 3*z2, 3*z2, z2, 3*z2, z2, 3*z2, 3*z2, 3*z2, 3*z2, 3*z2, 3*z2, z2, 3*z2, z2, 5*z2, z2, 5*z2, z2, z2, z2, 6*z2, 4*z2, 6*z2, 4*z2, 4*z2, 4*z2, 6*z2, 4*z2, 6*z2, 4*z2, 4*z2, 4*z2, 4*z2, 4*z2, 4*z2, 6*z2, 4*z2, 6*z2, 6*z2, 4*z2, 6*z2, 4*z2, 4*z2, 4*z2, z2, 3*z2, z2, 3*z2, 3*z2, 3*z2, 0, 0, 0, 0, 0, 0, 0, 5*z2, 0, 2*z2, 5*z2, 2*z2, 6*z2, 4*z2, 6*z2, 4*z2, 4*z2, 4*z2, z2, 3*z2, z2, 3*z2, 3*z2, 3*z2, 0, 0, 0, 0, 0, 0, 0, 5*z2, 0, 2*z2, 5*z2, 2*z2, 4*z2, 4*z2, 4*z2, 6*z2, 4*z2, 6*z2, 3*z2, 3*z2, 3*z2, z2, 3*z2, z2, 0, 2*z2, 0, 5*z2, 2*z2, 5*z2, 0, 2*z2, 0, 5*z2, 2*z2, 5*z2), (0, 0, 0, 0, 0, 0, 6*z2 + 5, 4*z2 + 1, 2*z2 + 4, 6*z2 + 5, 6*z2 + 5, 5*z2 + 3, 6*z2 + 5, 4*z2 + 1, 2*z2 + 4, 6*z2 + 5, 6*z2 + 5, 5*z2 + 3, 4*z2 + 1, 4*z2 + 1, 6*z2 + 5, 3*z2 + 6, 6*z2 + 5, 3*z2 + 6, 0, 0, 0, 0, 0, 0, z2 + 2, 3*z2 + 6, 5*z2 + 3, z2 + 2, z2 + 2, 2*z2 + 4, z2 + 2, 3*z2 + 6, 5*z2 + 3, z2 + 2, z2 + 2, 2*z2 + 4, 3*z2 + 6, 3*z2 + 6, z2 + 2, 4*z2 + 1, z2 + 2, 4*z2 + 1, 6*z2 + 5, 4*z2 + 1, 2*z2 + 4, 6*z2 + 5, 6*z2 + 5, 5*z2 + 3, z2 + 2, 3*z2 + 6, 5*z2 + 3, z2 + 2, z2 + 2, 2*z2 + 4, 3*z2 + 6, 2*z2 + 4, 4*z2 + 1, 5*z2 + 3, 6*z2 + 5, z2 + 2, 2*z2 + 4, 6*z2 + 5, 5*z2 + 3, z2 + 2, 4*z2 + 1, 3*z2 + 6, 6*z2 + 5, 4*z2 + 1, 2*z2 + 4, 6*z2 + 5, 6*z2 + 5, 5*z2 + 3, z2 + 2, 3*z2 + 6, 5*z2 + 3, z2 + 2, z2 + 2, 2*z2 + 4, 3*z2 + 6, 2*z2 + 4, 4*z2 + 1, 5*z2 + 3, 6*z2 + 5, z2 + 2, 2*z2 + 4, 6*z2 + 5, 5*z2 + 3, z2 + 2, 4*z2 + 1, 3*z2 + 6, 4*z2 + 1, 4*z2 + 1, 6*z2 + 5, 3*z2 + 6, 6*z2 + 5, 3*z2 + 6, 3*z2 + 6, 3*z2 + 6, z2 + 2, 4*z2 + 1, z2 + 2, 4*z2 + 1, 2*z2 + 4, 6*z2 + 5, 5*z2 + 3, z2 + 2, 4*z2 + 1, 3*z2 + 6, 2*z2 + 4, 6*z2 + 5, 5*z2 + 3, z2 + 2, 4*z2 + 1, 3*z2 + 6), (0, 0, 0, 0, 0, 0, 0, 0, 2*z2 + 1, 2*z2 + 1, 6*z2 + 3, 6*z2 + 3, 0, 0, 2*z2 + 1, 2*z2 + 1, 6*z2 + 3, 6*z2 + 3, 0, 0, 6*z2 + 3, 6*z2 + 3, 6*z2 + 3, 6*z2 + 3, 0, 0, 0, 0, 0, 0, 0, 0, 5*z2 + 6, 5*z2 + 6, z2 + 4, z2 + 4, 0, 0, 5*z2 + 6, 5*z2 + 6, z2 + 4, z2 + 4, 0, 0, z2 + 4, z2 + 4, z2 + 4, z2 + 4, 0, 0, 2*z2 + 1, 2*z2 + 1, 6*z2 + 3, 6*z2 + 3, 0, 0, 5*z2 + 6, 5*z2 + 6, z2 + 4, z2 + 4, 2*z2 + 1, 2*z2 + 1, 5*z2 + 6, 5*z2 + 6, 0, 0, 6*z2 + 3, 6*z2 + 3, z2 + 4, z2 + 4, 0, 0, 0, 0, 2*z2 + 1, 2*z2 + 1, 6*z2 + 3, 6*z2 + 3, 0, 0, 5*z2 + 6, 5*z2 + 6, z2 + 4, z2 + 4, 2*z2 + 1, 2*z2 + 1, 5*z2 + 6, 5*z2 + 6, 0, 0, 6*z2 + 3, 6*z2 + 3, z2 + 4, z2 + 4, 0, 0, 0, 0, 6*z2 + 3, 6*z2 + 3, 6*z2 + 3, 6*z2 + 3, 0, 0, z2 + 4, z2 + 4, z2 + 4, z2 + 4, 6*z2 + 3, 6*z2 + 3, z2 + 4, z2 + 4, 0, 0, 6*z2 + 3, 6*z2 + 3, z2 + 4, z2 + 4, 0, 0), (0, 0, 0, 0, 0, 0, 0, 2*z2, 0, 2*z2, 5*z2, 5*z2, 0, 3*z2, 0, 3*z2, 4*z2, 4*z2, 2*z2, 3*z2, 5*z2, z2, 4*z2, 6*z2, 0, 0, 0, 0, 0, 0, 0, 2*z2, 0, 2*z2, 5*z2, 5*z2, 0, 3*z2, 0, 3*z2, 4*z2, 4*z2, 2*z2, 3*z2, 5*z2, z2, 4*z2, 6*z2, 0, 5*z2, 0, 5*z2, 2*z2, 2*z2, 0, 5*z2, 0, 5*z2, 2*z2, 2*z2, 0, z2, 0, z2, 6*z2, 6*z2, 0, 3*z2, 0, 3*z2, 4*z2, 4*z2, 0, 4*z2, 0, 4*z2, 3*z2, 3*z2, 0, 4*z2, 0, 4*z2, 3*z2, 3*z2, 0, 6*z2, 0, 6*z2, z2, z2, 0, 2*z2, 0, 2*z2, 5*z2, 5*z2, 5*z2, 4*z2, 2*z2, 6*z2, 3*z2, z2, 5*z2, 4*z2, 2*z2, 6*z2, 3*z2, z2, 0, 4*z2, 0, 4*z2, 3*z2, 3*z2, 0, 5*z2, 0, 5*z2, 2*z2, 2*z2), (0, 3*z2 + 2, 0, z2 + 3, 3*z2 + 2, z2 + 3, 0, 2*z2 + 6, 0, 3*z2 + 2, 2*z2 + 6, 3*z2 + 2, 0, 3*z2 + 2, 0, 6*z2 + 4, 3*z2 + 2, 6*z2 + 4, 2*z2 + 6, 3*z2 + 2, 2*z2 + 6, 5*z2 + 1, 3*z2 + 2, 5*z2 + 1, 0, 3*z2 + 2, 0, z2 + 3, 3*z2 + 2, z2 + 3, 0, 2*z2 + 6, 0, 3*z2 + 2, 2*z2 + 6, 3*z2 + 2, 0, 3*z2 + 2, 0, 6*z2 + 4, 3*z2 + 2, 6*z2 + 4, 2*z2 + 6, 3*z2 + 2, 2*z2 + 6, 5*z2 + 1, 3*z2 + 2, 5*z2 + 1, 0, 2*z2 + 6, 0, 3*z2 + 2, 2*z2 + 6, 3*z2 + 2, 0, 2*z2 + 6, 0, 3*z2 + 2, 2*z2 + 6, 3*z2 + 2, 0, 5*z2 + 1, 0, 5*z2 + 1, 5*z2 + 1, 5*z2 + 1, 3*z2 + 2, 6*z2 + 4, 3*z2 + 2, 6*z2 + 4, 6*z2 + 4, 6*z2 + 4, 0, 3*z2 + 2, 0, 6*z2 + 4, 3*z2 + 2, 6*z2 + 4, 0, 3*z2 + 2, 0, 6*z2 + 4, 3*z2 + 2, 6*z2 + 4, 0, 5*z2 + 1, 0, 5*z2 + 1, 5*z2 + 1, 5*z2 + 1, z2 + 3, 3*z2 + 2, z2 + 3, 3*z2 + 2, 3*z2 + 2, 3*z2 + 2, 2*z2 + 6, 3*z2 + 2, 2*z2 + 6, 5*z2 + 1, 3*z2 + 2, 5*z2 + 1, 2*z2 + 6, 3*z2 + 2, 2*z2 + 6, 5*z2 + 1, 3*z2 + 2, 5*z2 + 1, 3*z2 + 2, 6*z2 + 4, 3*z2 + 2, 6*z2 + 4, 6*z2 + 4, 6*z2 + 4, z2 + 3, 3*z2 + 2, z2 + 3, 3*z2 + 2, 3*z2 + 2, 3*z2 + 2), (0, 0, 0, 0, 0, 0, 3*z2 + 2, 2*z2 + 6, 3*z2 + 2, 2*z2 + 6, 2*z2 + 6, 2*z2 + 6, z2 + 3, 3*z2 + 2, z2 + 3, 3*z2 + 2, 3*z2 + 2, 3*z2 + 2, 3*z2 + 2, 6*z2 + 4, 3*z2 + 2, 5*z2 + 1, 6*z2 + 4, 5*z2 + 1, 0, 0, 0, 0, 0, 0, 3*z2 + 2, 2*z2 + 6, 3*z2 + 2, 2*z2 + 6, 2*z2 + 6, 2*z2 + 6, z2 + 3, 3*z2 + 2, z2 + 3, 3*z2 + 2, 3*z2 + 2, 3*z2 + 2, 3*z2 + 2, 6*z2 + 4, 3*z2 + 2, 5*z2 + 1, 6*z2 + 4, 5*z2 + 1, 4*z2 + 5, 5*z2 + 1, 4*z2 + 5, 5*z2 + 1, 5*z2 + 1, 5*z2 + 1, 4*z2 + 5, 5*z2 + 1, 4*z2 + 5, 5*z2 + 1, 5*z2 + 1, 5*z2 + 1, 5*z2 + 1, z2 + 3, 5*z2 + 1, z2 + 3, z2 + 3, z2 + 3, z2 + 3, 3*z2 + 2, z2 + 3, 3*z2 + 2, 3*z2 + 2, 3*z2 + 2, 6*z2 + 4, 4*z2 + 5, 6*z2 + 4, 4*z2 + 5, 4*z2 + 5, 4*z2 + 5, 6*z2 + 4, 4*z2 + 5, 6*z2 + 4, 4*z2 + 5, 4*z2 + 5, 4*z2 + 5, 2*z2 + 6, 6*z2 + 4, 2*z2 + 6, 6*z2 + 4, 6*z2 + 4, 6*z2 + 4, 3*z2 + 2, 2*z2 + 6, 3*z2 + 2, 2*z2 + 6, 2*z2 + 6, 2*z2 + 6, 4*z2 + 5, z2 + 3, 4*z2 + 5, 2*z2 + 6, z2 + 3, 2*z2 + 6, 4*z2 + 5, z2 + 3, 4*z2 + 5, 2*z2 + 6, z2 + 3, 2*z2 + 6, 6*z2 + 4, 4*z2 + 5, 6*z2 + 4, 4*z2 + 5, 4*z2 + 5, 4*z2 + 5, 4*z2 + 5, 5*z2 + 1, 4*z2 + 5, 5*z2 + 1, 5*z2 + 1, 5*z2 + 1), (2*z2, 6*z2, 3*z2, 2*z2, 2*z2, 4*z2, 6*z2, 4*z2, 2*z2, 6*z2, 6*z2, 5*z2, 2*z2, 6*z2, 4*z2, 5*z2, 3*z2, 0, 6*z2, 5*z2, 5*z2, 2*z2, 0, 5*z2, 2*z2, 6*z2, 3*z2, 2*z2, 2*z2, 4*z2, 6*z2, 4*z2, 2*z2, 6*z2, 6*z2, 5*z2, 2*z2, 6*z2, 4*z2, 5*z2, 3*z2, 0, 6*z2, 5*z2, 5*z2, 2*z2, 0, 5*z2, 6*z2, 4*z2, 2*z2, 6*z2, 6*z2, 5*z2, 6*z2, 4*z2, 2*z2, 6*z2, 6*z2, 5*z2, z2, 3*z2, z2, 3*z2, 4*z2, 4*z2, 3*z2, 0, 3*z2, 0, 2*z2, 2*z2, 2*z2, 6*z2, 4*z2, 5*z2, 3*z2, 0, 2*z2, 6*z2, 4*z2, 5*z2, 3*z2, 0, z2, 3*z2, z2, 3*z2, 4*z2, 4*z2, 4*z2, 2*z2, 4*z2, 2*z2, z2, z2, 6*z2, 5*z2, 5*z2, 2*z2, 0, 5*z2, 6*z2, 5*z2, 5*z2, 2*z2, 0, 5*z2, 3*z2, 0, 3*z2, 0, 2*z2, 2*z2, 4*z2, 2*z2, 4*z2, 2*z2, z2, z2), (0, 0, 2*z2 + 2, 2*z2 + 2, 6*z2 + 6, 6*z2 + 6, 0, 0, 6*z2 + 6, 6*z2 + 6, 4*z2 + 4, 4*z2 + 4, 2*z2 + 2, 2*z2 + 2, 6*z2 + 6, 6*z2 + 6, 3*z2 + 3, 3*z2 + 3, 6*z2 + 6, 6*z2 + 6, 4*z2 + 4, 4*z2 + 4, 3*z2 + 3, 3*z2 + 3, 0, 0, 2*z2 + 2, 2*z2 + 2, 6*z2 + 6, 6*z2 + 6, 0, 0, 6*z2 + 6, 6*z2 + 6, 4*z2 + 4, 4*z2 + 4, 2*z2 + 2, 2*z2 + 2, 6*z2 + 6, 6*z2 + 6, 3*z2 + 3, 3*z2 + 3, 6*z2 + 6, 6*z2 + 6, 4*z2 + 4, 4*z2 + 4, 3*z2 + 3, 3*z2 + 3, 0, 0, 6*z2 + 6, 6*z2 + 6, 4*z2 + 4, 4*z2 + 4, 0, 0, 6*z2 + 6, 6*z2 + 6, 4*z2 + 4, 4*z2 + 4, 6*z2 + 6, 6*z2 + 6, 6*z2 + 6, 6*z2 + 6, z2 + 1, z2 + 1, 4*z2 + 4, 4*z2 + 4, 4*z2 + 4, 4*z2 + 4, z2 + 1, z2 + 1, 2*z2 + 2, 2*z2 + 2, 6*z2 + 6, 6*z2 + 6, 3*z2 + 3, 3*z2 + 3, 2*z2 + 2, 2*z2 + 2, 6*z2 + 6, 6*z2 + 6, 3*z2 + 3, 3*z2 + 3, 6*z2 + 6, 6*z2 + 6, 6*z2 + 6, 6*z2 + 6, z2 + 1, z2 + 1, 3*z2 + 3, 3*z2 + 3, 3*z2 + 3, 3*z2 + 3, z2 + 1, z2 + 1, 6*z2 + 6, 6*z2 + 6, 4*z2 + 4, 4*z2 + 4, 3*z2 + 3, 3*z2 + 3, 6*z2 + 6, 6*z2 + 6, 4*z2 + 4, 4*z2 + 4, 3*z2 + 3, 3*z2 + 3, 4*z2 + 4, 4*z2 + 4, 4*z2 + 4, 4*z2 + 4, z2 + 1, z2 + 1, 3*z2 + 3, 3*z2 + 3, 3*z2 + 3, 3*z2 + 3, z2 + 1, z2 + 1), (0, 0, 0, 0, 0, 0, 0, 0, 0, 0, 0, 0, 0, 5*z2 + 5, 0, 5*z2 + 5, 2*z2 + 2, 2*z2 + 2, 0, 5*z2 + 5, 0, 5*z2 + 5, 2*z2 + 2, 2*z2 + 2, 0, 0, 0, 0, 0, 0, 0, 0, 0, 0, 0, 0, 0, 5*z2 + 5, 0, 5*z2 + 5, 2*z2 + 2, 2*z2 + 2, 0, 5*z2 + 5, 0, 5*z2 + 5, 2*z2 + 2, 2*z2 + 2, 0, 0, 0, 0, 0, 0, 0, 0, 0, 0, 0, 0, 0, 5*z2 + 5, 0, 5*z2 + 5, 2*z2 + 2, 2*z2 + 2, 0, 5*z2 + 5, 0, 5*z2 + 5, 2*z2 + 2, 2*z2 + 2, 0, 2*z2 + 2, 0, 2*z2 + 2, 5*z2 + 5, 5*z2 + 5, 0, 2*z2 + 2, 0, 2*z2 + 2, 5*z2 + 5, 5*z2 + 5, 0, 2*z2 + 2, 0, 2*z2 + 2, 5*z2 + 5, 5*z2 + 5, 0, 0, 0, 0, 0, 0, 0, 2*z2 + 2, 0, 2*z2 + 2, 5*z2 + 5, 5*z2 + 5, 0, 2*z2 + 2, 0, 2*z2 + 2, 5*z2 + 5, 5*z2 + 5, 0, 2*z2 + 2, 0, 2*z2 + 2, 5*z2 + 5, 5*z2 + 5, 0, 0, 0, 0, 0, 0), (0, 0, 0, 6, 0, 6, 0, 0, 0, 6, 0, 6, 0, 4, 0, 4, 4, 4, 0, 4, 0, 4, 4, 4, 0, 0, 0, 6, 0, 6, 0, 0, 0, 6, 0, 6, 0, 4, 0, 4, 4, 4, 0, 4, 0, 4, 4, 4, 0, 0, 0, 6, 0, 6, 0, 0, 0, 6, 0, 6, 0, 4, 0, 4, 4, 4, 0, 4, 0, 4, 4, 4, 0, 4, 0, 4, 4, 4, 0, 4, 0, 4, 4, 4, 0, 4, 0, 4, 4, 4, 6, 6, 6, 6, 6, 6, 0, 4, 0, 4, 4, 4, 0, 4, 0, 4, 4, 4, 0, 4, 0, 4, 4, 4, 6, 6, 6, 6, 6, 6), (0, 0, 0, 0, 0, 0, 0, 0, 0, 0, 0, 0, 6, 4, 6, 4, 4, 4, 6, 4, 6, 4, 4, 4, 0, 0, 0, 0, 0, 0, 0, 0, 0, 0, 0, 0, 6, 4, 6, 4, 4, 4, 6, 4, 6, 4, 4, 4, 0, 0, 0, 0, 0, 0, 0, 0, 0, 0, 0, 0, 6, 4, 6, 4, 4, 4, 6, 4, 6, 4, 4, 4, 1, 3, 1, 3, 3, 3, 1, 3, 1, 3, 3, 3, 1, 3, 1, 3, 3, 3, 0, 0, 0, 0, 0, 0, 1, 3, 1, 3, 3, 3, 1, 3, 1, 3, 3, 3, 1, 3, 1, 3, 3, 3, 0, 0, 0, 0, 0, 0), (0, 0, 5*z2 + 5, z2 + 1, 5*z2 + 5, z2 + 1, 0, 0, 5*z2 + 5, z2 + 1, 5*z2 + 5, z2 + 1, z2 + 1, 3*z2 + 3, z2 + 1, 3*z2 + 3, 4*z2 + 4, 4*z2 + 4, z2 + 1, 3*z2 + 3, z2 + 1, 3*z2 + 3, 4*z2 + 4, 4*z2 + 4, 0, 0, 5*z2 + 5, z2 + 1, 5*z2 + 5, z2 + 1, 0, 0, 5*z2 + 5, z2 + 1, 5*z2 + 5, z2 + 1, z2 + 1, 3*z2 + 3, z2 + 1, 3*z2 + 3, 4*z2 + 4, 4*z2 + 4, z2 + 1, 3*z2 + 3, z2 + 1, 3*z2 + 3, 4*z2 + 4, 4*z2 + 4, 0, 0, 5*z2 + 5, z2 + 1, 5*z2 + 5, z2 + 1, 0, 0, 5*z2 + 5, z2 + 1, 5*z2 + 5, z2 + 1, z2 + 1, 3*z2 + 3, z2 + 1, 3*z2 + 3, 4*z2 + 4, 4*z2 + 4, z2 + 1, 3*z2 + 3, z2 + 1, 3*z2 + 3, 4*z2 + 4, 4*z2 + 4, z2 + 1, 3*z2 + 3, z2 + 1, 3*z2 + 3, 4*z2 + 4, 4*z2 + 4, z2 + 1, 3*z2 + 3, z2 + 1, 3*z2 + 3, 4*z2 + 4, 4*z2 + 4, z2 + 1, 3*z2 + 3, z2 + 1, 3*z2 + 3, 4*z2 + 4, 4*z2 + 4, 6*z2 + 6, 6*z2 + 6, 6*z2 + 6, 6*z2 + 6, 6*z2 + 6, 6*z2 + 6, z2 + 1, 3*z2 + 3, z2 + 1, 3*z2 + 3, 4*z2 + 4, 4*z2 + 4, z2 + 1, 3*z2 + 3, z2 + 1, 3*z2 + 3, 4*z2 + 4, 4*z2 + 4, z2 + 1, 3*z2 + 3, z2 + 1, 3*z2 + 3, 4*z2 + 4, 4*z2 + 4, 6*z2 + 6, 6*z2 + 6, 6*z2 + 6, 6*z2 + 6, 6*z2 + 6, 6*z2 + 6), (2*z2, 2*z2, 4*z2, 4*z2, 4*z2, 4*z2, 2*z2, 2*z2, 4*z2, 4*z2, 4*z2, 4*z2, 4*z2, 4*z2, 4*z2, 4*z2, 3*z2, 3*z2, 4*z2, 4*z2, 4*z2, 4*z2, 3*z2, 3*z2, 2*z2, 2*z2, 4*z2, 4*z2, 4*z2, 4*z2, 2*z2, 2*z2, 4*z2, 4*z2, 4*z2, 4*z2, 4*z2, 4*z2, 4*z2, 4*z2, 3*z2, 3*z2, 4*z2, 4*z2, 4*z2, 4*z2, 3*z2, 3*z2, 2*z2, 2*z2, 4*z2, 4*z2, 4*z2, 4*z2, 2*z2, 2*z2, 4*z2, 4*z2, 4*z2, 4*z2, 4*z2, 4*z2, 4*z2, 4*z2, 3*z2, 3*z2, 4*z2, 4*z2, 4*z2, 4*z2, 3*z2, 3*z2, 4*z2, 4*z2, 4*z2, 4*z2, 3*z2, 3*z2, 4*z2, 4*z2, 4*z2, 4*z2, 3*z2, 3*z2, 4*z2, 4*z2, 4*z2, 4*z2, 3*z2, 3*z2, 3*z2, 3*z2, 3*z2, 3*z2, 3*z2, 3*z2, 4*z2, 4*z2, 4*z2, 4*z2, 3*z2, 3*z2, 4*z2, 4*z2, 4*z2, 4*z2, 3*z2, 3*z2, 4*z2, 4*z2, 4*z2, 4*z2, 3*z2, 3*z2, 3*z2, 3*z2, 3*z2, 3*z2, 3*z2, 3*z2), (3*z2, 3*z2, z2, z2, z2, z2, 4*z2, 4*z2, 6*z2, 6*z2, 6*z2, 6*z2, 6*z2, 6*z2, z2, z2, 0, 0, 6*z2, 6*z2, z2, z2, 0, 0, 4*z2, 4*z2, 6*z2, 6*z2, 6*z2, 6*z2, 3*z2, 3*z2, z2, z2, z2, z2, z2, z2, 6*z2, 6*z2, 0, 0, z2, z2, 6*z2, 6*z2, 0, 0, 3*z2, 3*z2, z2, z2, z2, z2, 4*z2, 4*z2, 6*z2, 6*z2, 6*z2, 6*z2, 6*z2, 6*z2, z2, z2, 0, 0, 6*z2, 6*z2, z2, z2, 0, 0, z2, z2, 6*z2, 6*z2, 0, 0, 6*z2, 6*z2, z2, z2, 0, 0, z2, z2, 6*z2, 6*z2, 0, 0, 0, 0, 0, 0, 0, 0, z2, z2, 6*z2, 6*z2, 0, 0, 6*z2, 6*z2, z2, z2, 0, 0, z2, z2, 6*z2, 6*z2, 0, 0, 0, 0, 0, 0, 0, 0), (0, 0, 3*z2 + 3, 6*z2 + 6, 3*z2 + 3, 6*z2 + 6, 0, 0, 4*z2 + 4, z2 + 1, 4*z2 + 4, z2 + 1, 5*z2 + 5, 3*z2 + 3, 2*z2 + 2, 4*z2 + 4, 5*z2 + 5, 2*z2 + 2, 5*z2 + 5, 3*z2 + 3, 2*z2 + 2, 4*z2 + 4, 5*z2 + 5, 2*z2 + 2, 0, 0, 4*z2 + 4, z2 + 1, 4*z2 + 4, z2 + 1, 0, 0, 3*z2 + 3, 6*z2 + 6, 3*z2 + 3, 6*z2 + 6, 2*z2 + 2, 4*z2 + 4, 5*z2 + 5, 3*z2 + 3, 2*z2 + 2, 5*z2 + 5, 2*z2 + 2, 4*z2 + 4, 5*z2 + 5, 3*z2 + 3, 2*z2 + 2, 5*z2 + 5, 0, 0, 3*z2 + 3, 6*z2 + 6, 3*z2 + 3, 6*z2 + 6, 0, 0, 4*z2 + 4, z2 + 1, 4*z2 + 4, z2 + 1, 5*z2 + 5, 3*z2 + 3, 2*z2 + 2, 4*z2 + 4, 5*z2 + 5, 2*z2 + 2, 5*z2 + 5, 3*z2 + 3, 2*z2 + 2, 4*z2 + 4, 5*z2 + 5, 2*z2 + 2, 2*z2 + 2, 4*z2 + 4, 5*z2 + 5, 3*z2 + 3, 2*z2 + 2, 5*z2 + 5, 5*z2 + 5, 3*z2 + 3, 2*z2 + 2, 4*z2 + 4, 5*z2 + 5, 2*z2 + 2, 2*z2 + 2, 4*z2 + 4, 5*z2 + 5, 3*z2 + 3, 2*z2 + 2, 5*z2 + 5, 0, 0, 0, 0, 0, 0, 2*z2 + 2, 4*z2 + 4, 5*z2 + 5, 3*z2 + 3, 2*z2 + 2, 5*z2 + 5, 5*z2 + 5, 3*z2 + 3, 2*z2 + 2, 4*z2 + 4, 5*z2 + 5, 2*z2 + 2, 2*z2 + 2, 4*z2 + 4, 5*z2 + 5, 3*z2 + 3, 2*z2 + 2, 5*z2 + 5, 0, 0, 0, 0, 0, 0), (0, 0, 0, 0, 0, 0, 0, 0, 0, 0, 0, 0, 3*z2 + 5, 6*z2 + 3, 4*z2 + 2, z2 + 4, z2 + 4, 6*z2 + 3, 3*z2 + 5, 6*z2 + 3, 4*z2 + 2, z2 + 4, z2 + 4, 6*z2 + 3, 0, 0, 0, 0, 0, 0, 0, 0, 0, 0, 0, 0, 4*z2 + 2, z2 + 4, 3*z2 + 5, 6*z2 + 3, 6*z2 + 3, z2 + 4, 4*z2 + 2, z2 + 4, 3*z2 + 5, 6*z2 + 3, 6*z2 + 3, z2 + 4, 0, 0, 0, 0, 0, 0, 0, 0, 0, 0, 0, 0, 3*z2 + 5, 6*z2 + 3, 4*z2 + 2, z2 + 4, z2 + 4, 6*z2 + 3, 3*z2 + 5, 6*z2 + 3, 4*z2 + 2, z2 + 4, z2 + 4, 6*z2 + 3, 3*z2 + 5, 6*z2 + 3, 4*z2 + 2, z2 + 4, z2 + 4, 6*z2 + 3, 4*z2 + 2, z2 + 4, 3*z2 + 5, 6*z2 + 3, 6*z2 + 3, z2 + 4, 3*z2 + 5, 6*z2 + 3, 4*z2 + 2, z2 + 4, z2 + 4, 6*z2 + 3, 5*z2 + 6, 2*z2 + 1, 2*z2 + 1, 5*z2 + 6, 5*z2 + 6, 2*z2 + 1, 3*z2 + 5, 6*z2 + 3, 4*z2 + 2, z2 + 4, z2 + 4, 6*z2 + 3, 4*z2 + 2, z2 + 4, 3*z2 + 5, 6*z2 + 3, 6*z2 + 3, z2 + 4, 3*z2 + 5, 6*z2 + 3, 4*z2 + 2, z2 + 4, z2 + 4, 6*z2 + 3, 5*z2 + 6, 2*z2 + 1, 2*z2 + 1, 5*z2 + 6, 5*z2 + 6, 2*z2 + 1), (0, 0, 0, z2 + 5, 0, z2 + 5, 0, 0, 0, 6*z2 + 2, 0, 6*z2 + 2, 0, 4*z2 + 6, 0, 3*z2 + 1, 4*z2 + 6, 3*z2 + 1, 0, 4*z2 + 6, 0, 3*z2 + 1, 4*z2 + 6, 3*z2 + 1, 0, 0, 0, 6*z2 + 2, 0, 6*z2 + 2, 0, 0, 0, z2 + 5, 0, z2 + 5, 0, 3*z2 + 1, 0, 4*z2 + 6, 3*z2 + 1, 4*z2 + 6, 0, 3*z2 + 1, 0, 4*z2 + 6, 3*z2 + 1, 4*z2 + 6, 0, 0, 0, z2 + 5, 0, z2 + 5, 0, 0, 0, 6*z2 + 2, 0, 6*z2 + 2, 0, 4*z2 + 6, 0, 3*z2 + 1, 4*z2 + 6, 3*z2 + 1, 0, 4*z2 + 6, 0, 3*z2 + 1, 4*z2 + 6, 3*z2 + 1, 0, 3*z2 + 1, 0, 4*z2 + 6, 3*z2 + 1, 4*z2 + 6, 0, 4*z2 + 6, 0, 3*z2 + 1, 4*z2 + 6, 3*z2 + 1, 0, 3*z2 + 1, 0, 4*z2 + 6, 3*z2 + 1, 4*z2 + 6, 0, 0, 0, 0, 0, 0, 0, 3*z2 + 1, 0, 4*z2 + 6, 3*z2 + 1, 4*z2 + 6, 0, 4*z2 + 6, 0, 3*z2 + 1, 4*z2 + 6, 3*z2 + 1, 0, 3*z2 + 1, 0, 4*z2 + 6, 3*z2 + 1, 4*z2 + 6, 0, 0, 0, 0, 0, 0), (0, 0, 0, 0, 0, 0, 0, 0, 0, 0, 0, 0, 0, 6*z2 + 5, 0, z2 + 2, 2*z2 + 4, 5*z2 + 3, 0, 6*z2 + 5, 0, z2 + 2, 2*z2 + 4, 5*z2 + 3, 0, 0, 0, 0, 0, 0, 0, 0, 0, 0, 0, 0, 0, z2 + 2, 0, 6*z2 + 5, 5*z2 + 3, 2*z2 + 4, 0, z2 + 2, 0, 6*z2 + 5, 5*z2 + 3, 2*z2 + 4, 0, 0, 0, 0, 0, 0, 0, 0, 0, 0, 0, 0, 0, 6*z2 + 5, 0, z2 + 2, 2*z2 + 4, 5*z2 + 3, 0, 6*z2 + 5, 0, z2 + 2, 2*z2 + 4, 5*z2 + 3, 0, 6*z2 + 5, 0, z2 + 2, 2*z2 + 4, 5*z2 + 3, 0, z2 + 2, 0, 6*z2 + 5, 5*z2 + 3, 2*z2 + 4, 0, 6*z2 + 5, 0, z2 + 2, 2*z2 + 4, 5*z2 + 3, 3*z2 + 6, 4*z2 + 1, 4*z2 + 1, 3*z2 + 6, 3*z2 + 6, 4*z2 + 1, 0, 6*z2 + 5, 0, z2 + 2, 2*z2 + 4, 5*z2 + 3, 0, z2 + 2, 0, 6*z2 + 5, 5*z2 + 3, 2*z2 + 4, 0, 6*z2 + 5, 0, z2 + 2, 2*z2 + 4, 5*z2 + 3, 3*z2 + 6, 4*z2 + 1, 4*z2 + 1, 3*z2 + 6, 3*z2 + 6, 4*z2 + 1), (0, 0, 0, 0, 0, 0, 0, 0, 0, 0, 0, 0, 0, 0, 0, 0, 6*z2 + 4, z2 + 3, 0, 0, 0, 0, 6*z2 + 4, z2 + 3, 0, 0, 0, 0, 0, 0, 0, 0, 0, 0, 0, 0, 0, 0, 0, 0, z2 + 3, 6*z2 + 4, 0, 0, 0, 0, z2 + 3, 6*z2 + 4, 0, 0, 0, 0, 0, 0, 0, 0, 0, 0, 0, 0, 0, 0, 0, 0, 6*z2 + 4, z2 + 3, 0, 0, 0, 0, 6*z2 + 4, z2 + 3, 0, 0, 0, 0, 6*z2 + 4, z2 + 3, 0, 0, 0, 0, z2 + 3, 6*z2 + 4, 0, 0, 0, 0, 6*z2 + 4, z2 + 3, 6*z2 + 4, z2 + 3, z2 + 3, 6*z2 + 4, 6*z2 + 4, z2 + 3, 0, 0, 0, 0, 6*z2 + 4, z2 + 3, 0, 0, 0, 0, z2 + 3, 6*z2 + 4, 0, 0, 0, 0, 6*z2 + 4, z2 + 3, 6*z2 + 4, z2 + 3, z2 + 3, 6*z2 + 4, 6*z2 + 4, z2 + 3), (0, 0, 4*z2 + 4, 4*z2 + 4, z2 + 1, z2 + 1, 0, 0, 2*z2 + 2, 2*z2 + 2, 4*z2 + 4, 4*z2 + 4, 3*z2 + 3, 3*z2 + 3, 5*z2 + 5, 5*z2 + 5, 2*z2 + 2, 2*z2 + 2, 6*z2 + 6, 6*z2 + 6, 3*z2 + 3, 3*z2 + 3, 5*z2 + 5, 5*z2 + 5, 0, 0, 3*z2 + 3, 3*z2 + 3, 6*z2 + 6, 6*z2 + 6, 0, 0, 5*z2 + 5, 5*z2 + 5, 3*z2 + 3, 3*z2 + 3, 4*z2 + 4, 4*z2 + 4, 2*z2 + 2, 2*z2 + 2, 5*z2 + 5, 5*z2 + 5, z2 + 1, z2 + 1, 4*z2 + 4, 4*z2 + 4, 2*z2 + 2, 2*z2 + 2, 0, 0, 5*z2 + 5, 5*z2 + 5, 3*z2 + 3, 3*z2 + 3, 0, 0, 2*z2 + 2, 2*z2 + 2, 4*z2 + 4, 4*z2 + 4, 2*z2 + 2, 2*z2 + 2, 5*z2 + 5, 5*z2 + 5, 0, 0, 4*z2 + 4, 4*z2 + 4, 3*z2 + 3, 3*z2 + 3, 0, 0, 4*z2 + 4, 4*z2 + 4, 2*z2 + 2, 2*z2 + 2, 5*z2 + 5, 5*z2 + 5, 3*z2 + 3, 3*z2 + 3, 5*z2 + 5, 5*z2 + 5, 2*z2 + 2, 2*z2 + 2, 5*z2 + 5, 5*z2 + 5, 2*z2 + 2, 2*z2 + 2, 0, 0, 2*z2 + 2, 2*z2 + 2, 5*z2 + 5, 5*z2 + 5, 0, 0, z2 + 1, z2 + 1, 4*z2 + 4, 4*z2 + 4, 2*z2 + 2, 2*z2 + 2, 6*z2 + 6, 6*z2 + 6, 3*z2 + 3, 3*z2 + 3, 5*z2 + 5, 5*z2 + 5, 3*z2 + 3, 3*z2 + 3, 4*z2 + 4, 4*z2 + 4, 0, 0, 5*z2 + 5, 5*z2 + 5, 2*z2 + 2, 2*z2 + 2, 0, 0), (3*z2, 6*z2, 6*z2, 5*z2, 5*z2, z2, 5*z2, 3*z2, 3*z2, 6*z2, 6*z2, 4*z2, 3*z2, 6*z2, z2, 2*z2, 0, 5*z2, 6*z2, 4*z2, 2*z2, 3*z2, 5*z2, z2, 4*z2, z2, z2, 2*z2, 2*z2, 6*z2, 2*z2, 4*z2, 4*z2, z2, z2, 3*z2, 4*z2, z2, 6*z2, 5*z2, 0, 2*z2, z2, 3*z2, 5*z2, 4*z2, 2*z2, 6*z2, 2*z2, 4*z2, 4*z2, z2, z2, 3*z2, 5*z2, 3*z2, 3*z2, 6*z2, 6*z2, 4*z2, 5*z2, 3*z2, 2*z2, 4*z2, 5*z2, 2*z2, 3*z2, 6*z2, 4*z2, z2, 3*z2, 4*z2, 4*z2, z2, 6*z2, 5*z2, 0, 2*z2, 3*z2, 6*z2, z2, 2*z2, 0, 5*z2, 2*z2, 4*z2, 5*z2, 3*z2, 2*z2, 5*z2, 5*z2, 3*z2, 2*z2, 4*z2, 5*z2, 2*z2, z2, 3*z2, 5*z2, 4*z2, 2*z2, 6*z2, 6*z2, 4*z2, 2*z2, 3*z2, 5*z2, z2, 4*z2, z2, 3*z2, 6*z2, 4*z2, 3*z2, 2*z2, 4*z2, 5*z2, 3*z2, 2*z2, 5*z2), (0, 0, 0, 0, 0, 0, 2*z2 + 4, 4*z2 + 1, 5*z2 + 3, 3*z2 + 6, 3*z2 + 6, 4*z2 + 1, 4*z2 + 1, z2 + 2, 3*z2 + 6, 6*z2 + 5, 6*z2 + 5, z2 + 2, z2 + 2, 3*z2 + 6, 6*z2 + 5, 3*z2 + 6, 4*z2 + 1, 4*z2 + 1, 0, 0, 0, 0, 0, 0, 5*z2 + 3, 3*z2 + 6, 2*z2 + 4, 4*z2 + 1, 4*z2 + 1, 3*z2 + 6, 3*z2 + 6, 6*z2 + 5, 4*z2 + 1, z2 + 2, z2 + 2, 6*z2 + 5, 6*z2 + 5, 4*z2 + 1, z2 + 2, 4*z2 + 1, 3*z2 + 6, 3*z2 + 6, 2*z2 + 4, 4*z2 + 1, 5*z2 + 3, 3*z2 + 6, 3*z2 + 6, 4*z2 + 1, 5*z2 + 3, 3*z2 + 6, 2*z2 + 4, 4*z2 + 1, 4*z2 + 1, 3*z2 + 6, 6*z2 + 5, 5*z2 + 3, z2 + 2, 2*z2 + 4, 2*z2 + 4, 5*z2 + 3, 5*z2 + 3, 0, 2*z2 + 4, 0, 0, 0, 4*z2 + 1, z2 + 2, 3*z2 + 6, 6*z2 + 5, 6*z2 + 5, z2 + 2, 3*z2 + 6, 6*z2 + 5, 4*z2 + 1, z2 + 2, z2 + 2, 6*z2 + 5, 6*z2 + 5, 5*z2 + 3, z2 + 2, 2*z2 + 4, 2*z2 + 4, 5*z2 + 3, 4*z2 + 1, 2*z2 + 4, 3*z2 + 6, 5*z2 + 3, 5*z2 + 3, 2*z2 + 4, z2 + 2, 3*z2 + 6, 6*z2 + 5, 3*z2 + 6, 4*z2 + 1, 4*z2 + 1, 6*z2 + 5, 4*z2 + 1, z2 + 2, 4*z2 + 1, 3*z2 + 6, 3*z2 + 6, 5*z2 + 3, 0, 2*z2 + 4, 0, 0, 0, 4*z2 + 1, 2*z2 + 4, 3*z2 + 6, 5*z2 + 3, 5*z2 + 3, 2*z2 + 4), (0, 6*z2 + 1, 0, 5*z2 + 2, 6*z2 + 1, 5*z2 + 2, 0, 3*z2 + 4, 0, 6*z2 + 1, 3*z2 + 4, 6*z2 + 1, 0, 6*z2 + 1, 0, 2*z2 + 5, 6*z2 + 1, 2*z2 + 5, 3*z2 + 4, 6*z2 + 1, 3*z2 + 4, 5*z2 + 2, 6*z2 + 1, 5*z2 + 2, 0, z2 + 6, 0, 2*z2 + 5, z2 + 6, 2*z2 + 5, 0, 4*z2 + 3, 0, z2 + 6, 4*z2 + 3, z2 + 6, 0, z2 + 6, 0, 5*z2 + 2, z2 + 6, 5*z2 + 2, 4*z2 + 3, z2 + 6, 4*z2 + 3, 2*z2 + 5, z2 + 6, 2*z2 + 5, 0, 4*z2 + 3, 0, z2 + 6, 4*z2 + 3, z2 + 6, 0, 3*z2 + 4, 0, 6*z2 + 1, 3*z2 + 4, 6*z2 + 1, 0, 3*z2 + 4, 0, 4*z2 + 3, 3*z2 + 4, 4*z2 + 3, 0, 6*z2 + 1, 0, z2 + 6, 6*z2 + 1, z2 + 6, 0, z2 + 6, 0, 5*z2 + 2, z2 + 6, 5*z2 + 2, 0, 6*z2 + 1, 0, 2*z2 + 5, 6*z2 + 1, 2*z2 + 5, 0, 4*z2 + 3, 0, 3*z2 + 4, 4*z2 + 3, 3*z2 + 4, 0, 3*z2 + 4, 0, 4*z2 + 3, 3*z2 + 4, 4*z2 + 3, 4*z2 + 3, z2 + 6, 4*z2 + 3, 2*z2 + 5, z2 + 6, 2*z2 + 5, 3*z2 + 4, 6*z2 + 1, 3*z2 + 4, 5*z2 + 2, 6*z2 + 1, 5*z2 + 2, 0, z2 + 6, 0, 6*z2 + 1, z2 + 6, 6*z2 + 1, 0, 4*z2 + 3, 0, 3*z2 + 4, 4*z2 + 3, 3*z2 + 4), (0, 0, 0, 0, 0, 0, 0, 3*z2 + 5, 0, 4*z2 + 2, z2 + 4, 6*z2 + 3, 0, 6*z2 + 3, 0, z2 + 4, 2*z2 + 1, 5*z2 + 6, 3*z2 + 5, 6*z2 + 3, z2 + 4, 0, 2*z2 + 1, 2*z2 + 1, 0, 0, 0, 0, 0, 0, 0, 4*z2 + 2, 0, 3*z2 + 5, 6*z2 + 3, z2 + 4, 0, z2 + 4, 0, 6*z2 + 3, 5*z2 + 6, 2*z2 + 1, 4*z2 + 2, z2 + 4, 6*z2 + 3, 0, 5*z2 + 6, 5*z2 + 6, 0, 3*z2 + 5, 0, 4*z2 + 2, z2 + 4, 6*z2 + 3, 0, 4*z2 + 2, 0, 3*z2 + 5, 6*z2 + 3, z2 + 4, 0, 2*z2 + 1, 0, 5*z2 + 6, 3*z2 + 5, 4*z2 + 2, 5*z2 + 6, z2 + 4, 2*z2 + 1, 6*z2 + 3, 0, 0, 0, 6*z2 + 3, 0, z2 + 4, 2*z2 + 1, 5*z2 + 6, 0, z2 + 4, 0, 6*z2 + 3, 5*z2 + 6, 2*z2 + 1, 0, 2*z2 + 1, 0, 5*z2 + 6, 3*z2 + 5, 4*z2 + 2, 3*z2 + 5, 0, 4*z2 + 2, 0, 4*z2 + 2, 3*z2 + 5, 3*z2 + 5, 6*z2 + 3, z2 + 4, 0, 2*z2 + 1, 2*z2 + 1, 4*z2 + 2, z2 + 4, 6*z2 + 3, 0, 5*z2 + 6, 5*z2 + 6, 5*z2 + 6, z2 + 4, 2*z2 + 1, 6*z2 + 3, 0, 0, 3*z2 + 5, 0, 4*z2 + 2, 0, 4*z2 + 2, 3*z2 + 5), (0, 0, 0, 0, 0, 0, 0, 0, 0, 0, 3, 4, 0, 0, 0, 0, 6, 1, 0, 0, 3, 4, 6, 1, 0, 0, 0, 0, 0, 0, 0, 0, 0, 0, 4, 3, 0, 0, 0, 0, 1, 6, 0, 0, 4, 3, 1, 6, 0, 0, 0, 0, 3, 4, 0, 0, 0, 0, 4, 3, 0, 0, 0, 0, 2, 5, 3, 4, 4, 3, 2, 5, 0, 0, 0, 0, 6, 1, 0, 0, 0, 0, 1, 6, 0, 0, 0, 0, 2, 5, 6, 1, 1, 6, 2, 5, 0, 0, 3, 4, 6, 1, 0, 0, 4, 3, 1, 6, 3, 4, 4, 3, 2, 5, 6, 1, 1, 6, 2, 5), (0, 0, 0, 0, 0, 0, 0, 0, 2, 2, 4, 4, 0, 0, 5, 5, 3, 3, 0, 0, 3, 3, 4, 4, 0, 0, 0, 0, 0, 0, 0, 0, 2, 2, 4, 4, 0, 0, 5, 5, 3, 3, 0, 0, 3, 3, 4, 4, 0, 0, 5, 5, 3, 3, 0, 0, 5, 5, 3, 3, 2, 2, 2, 2, 1, 1, 4, 4, 4, 4, 6, 6, 0, 0, 2, 2, 4, 4, 0, 0, 2, 2, 4, 4, 5, 5, 5, 5, 6, 6, 3, 3, 3, 3, 1, 1, 0, 0, 4, 4, 3, 3, 0, 0, 4, 4, 3, 3, 3, 3, 3, 3, 1, 1, 4, 4, 4, 4, 6, 6), (0, 0, 0, 0, 0, 0, z2 + 3, 2*z2 + 6, 2*z2 + 6, 4*z2 + 5, 4*z2 + 5, 5*z2 + 1, 6*z2 + 4, 5*z2 + 1, 5*z2 + 1, 3*z2 + 2, 3*z2 + 2, 2*z2 + 6, 5*z2 + 1, 2*z2 + 6, 3*z2 + 2, 5*z2 + 1, 4*z2 + 5, 2*z2 + 6, 0, 0, 0, 0, 0, 0, z2 + 3, 2*z2 + 6, 2*z2 + 6, 4*z2 + 5, 4*z2 + 5, 5*z2 + 1, 6*z2 + 4, 5*z2 + 1, 5*z2 + 1, 3*z2 + 2, 3*z2 + 2, 2*z2 + 6, 5*z2 + 1, 2*z2 + 6, 3*z2 + 2, 5*z2 + 1, 4*z2 + 5, 2*z2 + 6, 6*z2 + 4, 5*z2 + 1, 5*z2 + 1, 3*z2 + 2, 3*z2 + 2, 2*z2 + 6, 6*z2 + 4, 5*z2 + 1, 5*z2 + 1, 3*z2 + 2, 3*z2 + 2, 2*z2 + 6, 3*z2 + 2, 6*z2 + 4, 3*z2 + 2, 6*z2 + 4, 2*z2 + 6, 2*z2 + 6, 6*z2 + 4, 0, 6*z2 + 4, 0, z2 + 3, z2 + 3, z2 + 3, 2*z2 + 6, 2*z2 + 6, 4*z2 + 5, 4*z2 + 5, 5*z2 + 1, z2 + 3, 2*z2 + 6, 2*z2 + 6, 4*z2 + 5, 4*z2 + 5, 5*z2 + 1, 4*z2 + 5, z2 + 3, 4*z2 + 5, z2 + 3, 5*z2 + 1, 5*z2 + 1, z2 + 3, 0, z2 + 3, 0, 6*z2 + 4, 6*z2 + 4, 2*z2 + 6, 5*z2 + 1, 4*z2 + 5, 2*z2 + 6, 3*z2 + 2, 5*z2 + 1, 2*z2 + 6, 5*z2 + 1, 4*z2 + 5, 2*z2 + 6, 3*z2 + 2, 5*z2 + 1, z2 + 3, 0, z2 + 3, 0, 6*z2 + 4, 6*z2 + 4, 6*z2 + 4, 0, 6*z2 + 4, 0, z2 + 3, z2 + 3), (3*z2, 6*z2, 4*z2, z2, z2, 6*z2, 2*z2, 4*z2, 5*z2, 3*z2, 3*z2, 4*z2, 5*z2, 3*z2, 2*z2, 4*z2, 4*z2, 3*z2, 3*z2, 4*z2, 4*z2, 4*z2, 3*z2, 3*z2, 3*z2, 6*z2, 4*z2, z2, z2, 6*z2, 2*z2, 4*z2, 5*z2, 3*z2, 3*z2, 4*z2, 5*z2, 3*z2, 2*z2, 4*z2, 4*z2, 3*z2, 3*z2, 4*z2, 4*z2, 4*z2, 3*z2, 3*z2, 2*z2, 4*z2, 5*z2, 3*z2, 3*z2, 4*z2, 2*z2, 4*z2, 5*z2, 3*z2, 3*z2, 4*z2, 0, 0, 0, 0, 0, 0, 0, 6*z2, 0, 6*z2, z2, z2, 5*z2, 3*z2, 2*z2, 4*z2, 4*z2, 3*z2, 5*z2, 3*z2, 2*z2, 4*z2, 4*z2, 3*z2, 0, 0, 0, 0, 0, 0, 0, z2, 0, z2, 6*z2, 6*z2, 3*z2, 4*z2, 4*z2, 4*z2, 3*z2, 3*z2, 3*z2, 4*z2, 4*z2, 4*z2, 3*z2, 3*z2, 0, 6*z2, 0, 6*z2, z2, z2, 0, z2, 0, z2, 6*z2, 6*z2), (0, 0, 0, 0, 0, 0, 0, 4*z2 + 2, 0, z2 + 4, 4*z2 + 2, z2 + 4, 0, 3*z2 + 5, 0, 6*z2 + 3, 3*z2 + 5, 6*z2 + 3, 6*z2 + 3, z2 + 4, 6*z2 + 3, 0, z2 + 4, 0, 0, 0, 0, 0, 0, 0, 0, 4*z2 + 2, 0, z2 + 4, 4*z2 + 2, z2 + 4, 0, 3*z2 + 5, 0, 6*z2 + 3, 3*z2 + 5, 6*z2 + 3, 6*z2 + 3, z2 + 4, 6*z2 + 3, 0, z2 + 4, 0, 0, 3*z2 + 5, 0, 6*z2 + 3, 3*z2 + 5, 6*z2 + 3, 0, 3*z2 + 5, 0, 6*z2 + 3, 3*z2 + 5, 6*z2 + 3, 0, 5*z2 + 6, 0, 5*z2 + 6, 5*z2 + 6, 5*z2 + 6, 2*z2 + 1, 6*z2 + 3, 2*z2 + 1, 6*z2 + 3, 6*z2 + 3, 6*z2 + 3, 0, 4*z2 + 2, 0, z2 + 4, 4*z2 + 2, z2 + 4, 0, 4*z2 + 2, 0, z2 + 4, 4*z2 + 2, z2 + 4, 0, 2*z2 + 1, 0, 2*z2 + 1, 2*z2 + 1, 2*z2 + 1, 5*z2 + 6, z2 + 4, 5*z2 + 6, z2 + 4, z2 + 4, z2 + 4, z2 + 4, 6*z2 + 3, z2 + 4, 0, 6*z2 + 3, 0, z2 + 4, 6*z2 + 3, z2 + 4, 0, 6*z2 + 3, 0, 5*z2 + 6, z2 + 4, 5*z2 + 6, z2 + 4, z2 + 4, z2 + 4, 2*z2 + 1, 6*z2 + 3, 2*z2 + 1, 6*z2 + 3, 6*z2 + 3, 6*z2 + 3), (0, 3*z2 + 3, 0, 4*z2 + 4, z2 + 1, 6*z2 + 6, 0, 2*z2 + 2, 0, 5*z2 + 5, 3*z2 + 3, 4*z2 + 4, 0, 5*z2 + 5, 0, 2*z2 + 2, 4*z2 + 4, 3*z2 + 3, 3*z2 + 3, 4*z2 + 4, 6*z2 + 6, 6*z2 + 6, z2 + 1, z2 + 1, 0, 3*z2 + 3, 0, 4*z2 + 4, z2 + 1, 6*z2 + 6, 0, 2*z2 + 2, 0, 5*z2 + 5, 3*z2 + 3, 4*z2 + 4, 0, 5*z2 + 5, 0, 2*z2 + 2, 4*z2 + 4, 3*z2 + 3, 3*z2 + 3, 4*z2 + 4, 6*z2 + 6, 6*z2 + 6, z2 + 1, z2 + 1, 0, 2*z2 + 2, 0, 5*z2 + 5, 3*z2 + 3, 4*z2 + 4, 0, 2*z2 + 2, 0, 5*z2 + 5, 3*z2 + 3, 4*z2 + 4, 0, 0, 0, 0, 0, 0, 5*z2 + 5, 4*z2 + 4, 5*z2 + 5, 4*z2 + 4, 5*z2 + 5, 5*z2 + 5, 0, 5*z2 + 5, 0, 2*z2 + 2, 4*z2 + 4, 3*z2 + 3, 0, 5*z2 + 5, 0, 2*z2 + 2, 4*z2 + 4, 3*z2 + 3, 0, 0, 0, 0, 0, 0, 2*z2 + 2, 3*z2 + 3, 2*z2 + 2, 3*z2 + 3, 2*z2 + 2, 2*z2 + 2, 3*z2 + 3, 4*z2 + 4, 6*z2 + 6, 6*z2 + 6, z2 + 1, z2 + 1, 3*z2 + 3, 4*z2 + 4, 6*z2 + 6, 6*z2 + 6, z2 + 1, z2 + 1, 5*z2 + 5, 4*z2 + 4, 5*z2 + 5, 4*z2 + 4, 5*z2 + 5, 5*z2 + 5, 2*z2 + 2, 3*z2 + 3, 2*z2 + 2, 3*z2 + 3, 2*z2 + 2, 2*z2 + 2), (0, 0, 0, 0, z2 + 5, 6*z2 + 2, 0, 0, 0, 0, 3*z2 + 1, 4*z2 + 6, 0, 0, 0, 0, 4*z2 + 6, 3*z2 + 1, z2 + 5, 6*z2 + 2, 3*z2 + 1, 4*z2 + 6, 4*z2 + 6, 3*z2 + 1, 0, 0, 0, 0, z2 + 5, 6*z2 + 2, 0, 0, 0, 0, 3*z2 + 1, 4*z2 + 6, 0, 0, 0, 0, 4*z2 + 6, 3*z2 + 1, z2 + 5, 6*z2 + 2, 3*z2 + 1, 4*z2 + 6, 4*z2 + 6, 3*z2 + 1, 0, 0, 0, 0, 3*z2 + 1, 4*z2 + 6, 0, 0, 0, 0, 3*z2 + 1, 4*z2 + 6, 0, 0, 0, 0, 0, 0, 3*z2 + 1, 4*z2 + 6, 3*z2 + 1, 4*z2 + 6, 0, 0, 0, 0, 0, 0, 4*z2 + 6, 3*z2 + 1, 0, 0, 0, 0, 4*z2 + 6, 3*z2 + 1, 0, 0, 0, 0, 0, 0, 4*z2 + 6, 3*z2 + 1, 4*z2 + 6, 3*z2 + 1, 0, 0, z2 + 5, 6*z2 + 2, 3*z2 + 1, 4*z2 + 6, 4*z2 + 6, 3*z2 + 1, z2 + 5, 6*z2 + 2, 3*z2 + 1, 4*z2 + 6, 4*z2 + 6, 3*z2 + 1, 3*z2 + 1, 4*z2 + 6, 3*z2 + 1, 4*z2 + 6, 0, 0, 4*z2 + 6, 3*z2 + 1, 4*z2 + 6, 3*z2 + 1, 0, 0), (0, 0, 0, 0, 5*z2 + 2, 5*z2 + 2, 0, 0, 0, 0, 6*z2 + 1, 6*z2 + 1, 0, 0, 0, 0, 6*z2 + 1, 6*z2 + 1, 2*z2 + 5, 2*z2 + 5, z2 + 6, z2 + 6, z2 + 6, z2 + 6, 0, 0, 0, 0, 2*z2 + 5, 2*z2 + 5, 0, 0, 0, 0, z2 + 6, z2 + 6, 0, 0, 0, 0, z2 + 6, z2 + 6, 5*z2 + 2, 5*z2 + 2, 6*z2 + 1, 6*z2 + 1, 6*z2 + 1, 6*z2 + 1, 0, 0, 0, 0, z2 + 6, z2 + 6, 0, 0, 0, 0, 6*z2 + 1, 6*z2 + 1, 0, 0, 0, 0, 0, 0, 6*z2 + 1, 6*z2 + 1, z2 + 6, z2 + 6, 0, 0, 0, 0, 0, 0, z2 + 6, z2 + 6, 0, 0, 0, 0, 6*z2 + 1, 6*z2 + 1, 0, 0, 0, 0, 0, 0, 6*z2 + 1, 6*z2 + 1, z2 + 6, z2 + 6, 0, 0, 5*z2 + 2, 5*z2 + 2, 6*z2 + 1, 6*z2 + 1, 6*z2 + 1, 6*z2 + 1, 2*z2 + 5, 2*z2 + 5, z2 + 6, z2 + 6, z2 + 6, z2 + 6, z2 + 6, z2 + 6, 6*z2 + 1, 6*z2 + 1, 0, 0, z2 + 6, z2 + 6, 6*z2 + 1, 6*z2 + 1, 0, 0), (0, 4*z2 + 6, 0, 4*z2 + 6, z2 + 5, z2 + 5, 0, 2*z2 + 3, 0, 2*z2 + 3, 4*z2 + 6, 4*z2 + 6, 0, 2*z2 + 3, 0, 2*z2 + 3, 4*z2 + 6, 4*z2 + 6, 4*z2 + 6, 4*z2 + 6, 6*z2 + 2, z2 + 5, 6*z2 + 2, z2 + 5, 0, 3*z2 + 1, 0, 3*z2 + 1, 6*z2 + 2, 6*z2 + 2, 0, 5*z2 + 4, 0, 5*z2 + 4, 3*z2 + 1, 3*z2 + 1, 0, 5*z2 + 4, 0, 5*z2 + 4, 3*z2 + 1, 3*z2 + 1, 3*z2 + 1, 3*z2 + 1, z2 + 5, 6*z2 + 2, z2 + 5, 6*z2 + 2, 0, 5*z2 + 4, 0, 5*z2 + 4, 3*z2 + 1, 3*z2 + 1, 0, 2*z2 + 3, 0, 2*z2 + 3, 4*z2 + 6, 4*z2 + 6, 0, 0, 0, 0, 0, 0, 2*z2 + 3, 4*z2 + 6, 5*z2 + 4, 3*z2 + 1, 2*z2 + 3, 5*z2 + 4, 0, 5*z2 + 4, 0, 5*z2 + 4, 3*z2 + 1, 3*z2 + 1, 0, 2*z2 + 3, 0, 2*z2 + 3, 4*z2 + 6, 4*z2 + 6, 0, 0, 0, 0, 0, 0, 2*z2 + 3, 4*z2 + 6, 5*z2 + 4, 3*z2 + 1, 2*z2 + 3, 5*z2 + 4, 3*z2 + 1, 3*z2 + 1, z2 + 5, 6*z2 + 2, z2 + 5, 6*z2 + 2, 4*z2 + 6, 4*z2 + 6, 6*z2 + 2, z2 + 5, 6*z2 + 2, z2 + 5, 5*z2 + 4, 3*z2 + 1, 2*z2 + 3, 4*z2 + 6, 5*z2 + 4, 2*z2 + 3, 5*z2 + 4, 3*z2 + 1, 2*z2 + 3, 4*z2 + 6, 5*z2 + 4, 2*z2 + 3), (0, 0, 0, 0, 0, 0, 0, 5, 0, 4, 2, 3, 0, 5, 0, 4, 2, 3, 3, 3, 4, 0, 4, 0, 0, 0, 0, 0, 0, 0, 0, 2, 0, 3, 5, 4, 0, 2, 0, 3, 5, 4, 4, 4, 3, 0, 3, 0, 0, 5, 0, 4, 2, 3, 0, 2, 0, 3, 5, 4, 0, 6, 0, 1, 1, 6, 1, 4, 6, 3, 3, 4, 0, 5, 0, 4, 2, 3, 0, 2, 0, 3, 5, 4, 0, 6, 0, 1, 1, 6, 1, 4, 6, 3, 3, 4, 3, 3, 4, 0, 4, 0, 4, 4, 3, 0, 3, 0, 1, 4, 6, 3, 3, 4, 1, 4, 6, 3, 3, 4), (3*z2, z2, 3*z2, z2, z2, z2, 5*z2, 4*z2, 5*z2, 4*z2, 4*z2, 4*z2, 5*z2, 4*z2, 5*z2, 4*z2, 4*z2, 4*z2, 4*z2, 4*z2, 4*z2, 3*z2, 4*z2, 3*z2, 4*z2, 6*z2, 4*z2, 6*z2, 6*z2, 6*z2, 2*z2, 3*z2, 2*z2, 3*z2, 3*z2, 3*z2, 2*z2, 3*z2, 2*z2, 3*z2, 3*z2, 3*z2, 3*z2, 3*z2, 3*z2, 4*z2, 3*z2, 4*z2, 2*z2, 3*z2, 2*z2, 3*z2, 3*z2, 3*z2, 5*z2, 4*z2, 5*z2, 4*z2, 4*z2, 4*z2, 0, 0, 0, 0, 0, 0, 0, 6*z2, 0, z2, 6*z2, z2, 2*z2, 3*z2, 2*z2, 3*z2, 3*z2, 3*z2, 5*z2, 4*z2, 5*z2, 4*z2, 4*z2, 4*z2, 0, 0, 0, 0, 0, 0, 0, 6*z2, 0, z2, 6*z2, z2, 3*z2, 3*z2, 3*z2, 4*z2, 3*z2, 4*z2, 4*z2, 4*z2, 4*z2, 3*z2, 4*z2, 3*z2, 0, z2, 0, 6*z2, z2, 6*z2, 0, z2, 0, 6*z2, z2, 6*z2), (0, 0, 0, 0, 0, 0, 6*z2 + 4, 2*z2 + 6, 2*z2 + 6, 3*z2 + 2, 3*z2 + 2, 5*z2 + 1, 6*z2 + 4, 2*z2 + 6, 2*z2 + 6, 3*z2 + 2, 3*z2 + 2, 5*z2 + 1, 2*z2 + 6, 2*z2 + 6, 3*z2 + 2, 2*z2 + 6, 3*z2 + 2, 2*z2 + 6, 0, 0, 0, 0, 0, 0, z2 + 3, 5*z2 + 1, 5*z2 + 1, 4*z2 + 5, 4*z2 + 5, 2*z2 + 6, z2 + 3, 5*z2 + 1, 5*z2 + 1, 4*z2 + 5, 4*z2 + 5, 2*z2 + 6, 5*z2 + 1, 5*z2 + 1, 4*z2 + 5, 5*z2 + 1, 4*z2 + 5, 5*z2 + 1, 6*z2 + 4, 2*z2 + 6, 2*z2 + 6, 3*z2 + 2, 3*z2 + 2, 5*z2 + 1, z2 + 3, 5*z2 + 1, 5*z2 + 1, 4*z2 + 5, 4*z2 + 5, 2*z2 + 6, 3*z2 + 2, z2 + 3, 4*z2 + 5, 6*z2 + 4, 2*z2 + 6, 5*z2 + 1, z2 + 3, 0, 6*z2 + 4, 0, 6*z2 + 4, z2 + 3, 6*z2 + 4, 2*z2 + 6, 2*z2 + 6, 3*z2 + 2, 3*z2 + 2, 5*z2 + 1, z2 + 3, 5*z2 + 1, 5*z2 + 1, 4*z2 + 5, 4*z2 + 5, 2*z2 + 6, 3*z2 + 2, z2 + 3, 4*z2 + 5, 6*z2 + 4, 2*z2 + 6, 5*z2 + 1, z2 + 3, 0, 6*z2 + 4, 0, 6*z2 + 4, z2 + 3, 2*z2 + 6, 2*z2 + 6, 3*z2 + 2, 2*z2 + 6, 3*z2 + 2, 2*z2 + 6, 5*z2 + 1, 5*z2 + 1, 4*z2 + 5, 5*z2 + 1, 4*z2 + 5, 5*z2 + 1, z2 + 3, 0, 6*z2 + 4, 0, 6*z2 + 4, z2 + 3, z2 + 3, 0, 6*z2 + 4, 0, 6*z2 + 4, z2 + 3), (0, 0, 0, 0, 0, 0, 0, 0, 3*z2 + 5, 4*z2 + 2, z2 + 4, 6*z2 + 3, 0, 0, 3*z2 + 5, 4*z2 + 2, z2 + 4, 6*z2 + 3, 0, 0, z2 + 4, 6*z2 + 3, z2 + 4, 6*z2 + 3, 0, 0, 0, 0, 0, 0, 0, 0, 4*z2 + 2, 3*z2 + 5, 6*z2 + 3, z2 + 4, 0, 0, 4*z2 + 2, 3*z2 + 5, 6*z2 + 3, z2 + 4, 0, 0, 6*z2 + 3, z2 + 4, 6*z2 + 3, z2 + 4, 0, 0, 3*z2 + 5, 4*z2 + 2, z2 + 4, 6*z2 + 3, 0, 0, 4*z2 + 2, 3*z2 + 5, 6*z2 + 3, z2 + 4, 3*z2 + 5, 4*z2 + 2, 4*z2 + 2, 3*z2 + 5, 5*z2 + 6, 2*z2 + 1, z2 + 4, 6*z2 + 3, 6*z2 + 3, z2 + 4, 5*z2 + 6, 2*z2 + 1, 0, 0, 3*z2 + 5, 4*z2 + 2, z2 + 4, 6*z2 + 3, 0, 0, 4*z2 + 2, 3*z2 + 5, 6*z2 + 3, z2 + 4, 3*z2 + 5, 4*z2 + 2, 4*z2 + 2, 3*z2 + 5, 5*z2 + 6, 2*z2 + 1, z2 + 4, 6*z2 + 3, 6*z2 + 3, z2 + 4, 5*z2 + 6, 2*z2 + 1, 0, 0, z2 + 4, 6*z2 + 3, z2 + 4, 6*z2 + 3, 0, 0, 6*z2 + 3, z2 + 4, 6*z2 + 3, z2 + 4, z2 + 4, 6*z2 + 3, 6*z2 + 3, z2 + 4, 5*z2 + 6, 2*z2 + 1, z2 + 4, 6*z2 + 3, 6*z2 + 3, z2 + 4, 5*z2 + 6, 2*z2 + 1), (0, 0, 0, 0, 0, 0, 0, 0, 0, 0, 3*z2 + 2, 3*z2 + 2, 0, 0, 0, 0, z2 + 3, z2 + 3, 0, 0, 4*z2 + 5, 4*z2 + 5, 6*z2 + 4, 6*z2 + 4, 0, 0, 0, 0, 0, 0, 0, 0, 0, 0, 3*z2 + 2, 3*z2 + 2, 0, 0, 0, 0, z2 + 3, z2 + 3, 0, 0, 4*z2 + 5, 4*z2 + 5, 6*z2 + 4, 6*z2 + 4, 0, 0, 0, 0, 4*z2 + 5, 4*z2 + 5, 0, 0, 0, 0, 4*z2 + 5, 4*z2 + 5, 0, 0, 0, 0, 5*z2 + 1, 5*z2 + 1, 3*z2 + 2, 3*z2 + 2, 3*z2 + 2, 3*z2 + 2, 2*z2 + 6, 2*z2 + 6, 0, 0, 0, 0, 6*z2 + 4, 6*z2 + 4, 0, 0, 0, 0, 6*z2 + 4, 6*z2 + 4, 0, 0, 0, 0, 2*z2 + 6, 2*z2 + 6, z2 + 3, z2 + 3, z2 + 3, z2 + 3, 5*z2 + 1, 5*z2 + 1, 0, 0, 3*z2 + 2, 3*z2 + 2, z2 + 3, z2 + 3, 0, 0, 3*z2 + 2, 3*z2 + 2, z2 + 3, z2 + 3, 4*z2 + 5, 4*z2 + 5, 4*z2 + 5, 4*z2 + 5, 5*z2 + 1, 5*z2 + 1, 6*z2 + 4, 6*z2 + 4, 6*z2 + 4, 6*z2 + 4, 2*z2 + 6, 2*z2 + 6), (0, 0, 0, 0, 0, 0, 0, 2, 0, 2, 4, 4, 0, 3, 0, 3, 6, 6, 5, 4, 3, 0, 1, 6, 0, 0, 0, 0, 0, 0, 0, 2, 0, 2, 4, 4, 0, 3, 0, 3, 6, 6, 5, 4, 3, 0, 1, 6, 0, 5, 0, 5, 3, 3, 0, 5, 0, 5, 3, 3, 0, 1, 0, 1, 2, 2, 6, 3, 6, 3, 0, 0, 0, 4, 0, 4, 1, 1, 0, 4, 0, 4, 1, 1, 0, 6, 0, 6, 5, 5, 2, 0, 2, 0, 5, 5, 2, 3, 4, 0, 6, 1, 2, 3, 4, 0, 6, 1, 1, 4, 1, 4, 0, 0, 5, 0, 5, 0, 2, 2), (0, 4*z2 + 4, 0, 6*z2 + 6, 3*z2 + 3, z2 + 1, 0, 5*z2 + 5, 0, 4*z2 + 4, 2*z2 + 2, 3*z2 + 3, 0, 4*z2 + 4, 0, z2 + 1, 3*z2 + 3, 6*z2 + 6, 2*z2 + 2, 3*z2 + 3, 5*z2 + 5, z2 + 1, 4*z2 + 4, 6*z2 + 6, 0, 4*z2 + 4, 0, 6*z2 + 6, 3*z2 + 3, z2 + 1, 0, 5*z2 + 5, 0, 4*z2 + 4, 2*z2 + 2, 3*z2 + 3, 0, 4*z2 + 4, 0, z2 + 1, 3*z2 + 3, 6*z2 + 6, 2*z2 + 2, 3*z2 + 3, 5*z2 + 5, z2 + 1, 4*z2 + 4, 6*z2 + 6, 0, 5*z2 + 5, 0, 4*z2 + 4, 2*z2 + 2, 3*z2 + 3, 0, 5*z2 + 5, 0, 4*z2 + 4, 2*z2 + 2, 3*z2 + 3, 0, 2*z2 + 2, 0, 2*z2 + 2, 5*z2 + 5, 5*z2 + 5, 0, 3*z2 + 3, 0, 3*z2 + 3, 4*z2 + 4, 4*z2 + 4, 0, 4*z2 + 4, 0, z2 + 1, 3*z2 + 3, 6*z2 + 6, 0, 4*z2 + 4, 0, z2 + 1, 3*z2 + 3, 6*z2 + 6, 0, 2*z2 + 2, 0, 2*z2 + 2, 5*z2 + 5, 5*z2 + 5, 0, 2*z2 + 2, 0, 2*z2 + 2, 5*z2 + 5, 5*z2 + 5, 2*z2 + 2, 3*z2 + 3, 5*z2 + 5, z2 + 1, 4*z2 + 4, 6*z2 + 6, 2*z2 + 2, 3*z2 + 3, 5*z2 + 5, z2 + 1, 4*z2 + 4, 6*z2 + 6, 0, 3*z2 + 3, 0, 3*z2 + 3, 4*z2 + 4, 4*z2 + 4, 0, 2*z2 + 2, 0, 2*z2 + 2, 5*z2 + 5, 5*z2 + 5), (0, 0, 0, 0, 0, 0, 5*z2 + 3, 4*z2 + 1, 5*z2 + 3, 4*z2 + 1, 4*z2 + 1, 4*z2 + 1, 4*z2 + 1, 6*z2 + 5, 4*z2 + 1, 6*z2 + 5, 6*z2 + 5, 6*z2 + 5, 6*z2 + 5, 3*z2 + 6, 6*z2 + 5, 4*z2 + 1, 3*z2 + 6, 4*z2 + 1, 0, 0, 0, 0, 0, 0, 5*z2 + 3, 4*z2 + 1, 5*z2 + 3, 4*z2 + 1, 4*z2 + 1, 4*z2 + 1, 4*z2 + 1, 6*z2 + 5, 4*z2 + 1, 6*z2 + 5, 6*z2 + 5, 6*z2 + 5, 6*z2 + 5, 3*z2 + 6, 6*z2 + 5, 4*z2 + 1, 3*z2 + 6, 4*z2 + 1, 2*z2 + 4, 3*z2 + 6, 2*z2 + 4, 3*z2 + 6, 3*z2 + 6, 3*z2 + 6, 2*z2 + 4, 3*z2 + 6, 2*z2 + 4, 3*z2 + 6, 3*z2 + 6, 3*z2 + 6, 6*z2 + 5, 2*z2 + 4, 6*z2 + 5, 2*z2 + 4, 2*z2 + 4, 2*z2 + 4, 2*z2 + 4, 0, 2*z2 + 4, 0, 0, 0, 3*z2 + 6, z2 + 2, 3*z2 + 6, z2 + 2, z2 + 2, z2 + 2, 3*z2 + 6, z2 + 2, 3*z2 + 6, z2 + 2, z2 + 2, z2 + 2, z2 + 2, 5*z2 + 3, z2 + 2, 5*z2 + 3, 5*z2 + 3, 5*z2 + 3, 4*z2 + 1, 5*z2 + 3, 4*z2 + 1, 5*z2 + 3, 5*z2 + 3, 5*z2 + 3, z2 + 2, 4*z2 + 1, z2 + 2, 3*z2 + 6, 4*z2 + 1, 3*z2 + 6, z2 + 2, 4*z2 + 1, z2 + 2, 3*z2 + 6, 4*z2 + 1, 3*z2 + 6, 5*z2 + 3, 0, 5*z2 + 3, 0, 0, 0, 3*z2 + 6, 2*z2 + 4, 3*z2 + 6, 2*z2 + 4, 2*z2 + 4, 2*z2 + 4), (3*z2, z2, z2, 5*z2, 5*z2, 6*z2, 2*z2, 3*z2, 3*z2, z2, z2, 4*z2, 3*z2, z2, 6*z2, 2*z2, 0, 2*z2, z2, 4*z2, 2*z2, 4*z2, 2*z2, z2, 3*z2, z2, z2, 5*z2, 5*z2, 6*z2, 2*z2, 3*z2, 3*z2, z2, z2, 4*z2, 3*z2, z2, 6*z2, 2*z2, 0, 2*z2, z2, 4*z2, 2*z2, 4*z2, 2*z2, z2, 2*z2, 3*z2, 3*z2, z2, z2, 4*z2, 2*z2, 3*z2, 3*z2, z2, z2, 4*z2, 5*z2, 4*z2, 5*z2, 4*z2, 5*z2, 5*z2, 4*z2, 6*z2, 4*z2, 6*z2, 4*z2, 4*z2, 3*z2, z2, 6*z2, 2*z2, 0, 2*z2, 3*z2, z2, 6*z2, 2*z2, 0, 2*z2, 5*z2, 4*z2, 5*z2, 4*z2, 5*z2, 5*z2, 5*z2, 4*z2, 5*z2, 4*z2, 5*z2, 5*z2, z2, 4*z2, 2*z2, 4*z2, 2*z2, z2, z2, 4*z2, 2*z2, 4*z2, 2*z2, z2, 4*z2, 6*z2, 4*z2, 6*z2, 4*z2, 4*z2, 5*z2, 4*z2, 5*z2, 4*z2, 5*z2, 5*z2), (0, 0, 6*z2 + 1, z2 + 6, 2*z2 + 5, 5*z2 + 2, 0, 0, 4*z2 + 3, 3*z2 + 4, 6*z2 + 1, z2 + 6, 6*z2 + 1, z2 + 6, 4*z2 + 3, 3*z2 + 4, 4*z2 + 3, 3*z2 + 4, 2*z2 + 5, 5*z2 + 2, 6*z2 + 1, z2 + 6, 4*z2 + 3, 3*z2 + 4, 0, 0, 6*z2 + 1, z2 + 6, 2*z2 + 5, 5*z2 + 2, 0, 0, 4*z2 + 3, 3*z2 + 4, 6*z2 + 1, z2 + 6, 6*z2 + 1, z2 + 6, 4*z2 + 3, 3*z2 + 4, 4*z2 + 3, 3*z2 + 4, 2*z2 + 5, 5*z2 + 2, 6*z2 + 1, z2 + 6, 4*z2 + 3, 3*z2 + 4, 0, 0, 4*z2 + 3, 3*z2 + 4, 6*z2 + 1, z2 + 6, 0, 0, 4*z2 + 3, 3*z2 + 4, 6*z2 + 1, z2 + 6, 4*z2 + 3, 3*z2 + 4, 4*z2 + 3, 3*z2 + 4, 0, 0, 6*z2 + 1, z2 + 6, 6*z2 + 1, z2 + 6, 0, 0, 6*z2 + 1, z2 + 6, 4*z2 + 3, 3*z2 + 4, 4*z2 + 3, 3*z2 + 4, 6*z2 + 1, z2 + 6, 4*z2 + 3, 3*z2 + 4, 4*z2 + 3, 3*z2 + 4, 4*z2 + 3, 3*z2 + 4, 4*z2 + 3, 3*z2 + 4, 0, 0, 4*z2 + 3, 3*z2 + 4, 4*z2 + 3, 3*z2 + 4, 0, 0, 2*z2 + 5, 5*z2 + 2, 6*z2 + 1, z2 + 6, 4*z2 + 3, 3*z2 + 4, 2*z2 + 5, 5*z2 + 2, 6*z2 + 1, z2 + 6, 4*z2 + 3, 3*z2 + 4, 6*z2 + 1, z2 + 6, 6*z2 + 1, z2 + 6, 0, 0, 4*z2 + 3, 3*z2 + 4, 4*z2 + 3, 3*z2 + 4, 0, 0), (0, 0, 0, 0, 0, 0, 0, 0, 0, 0, 0, 0, 0, 0, 0, 0, 5*z2 + 3, 5*z2 + 3, 0, 0, 0, 0, 2*z2 + 4, 2*z2 + 4, 0, 0, 0, 0, 0, 0, 0, 0, 0, 0, 0, 0, 0, 0, 0, 0, 5*z2 + 3, 5*z2 + 3, 0, 0, 0, 0, 2*z2 + 4, 2*z2 + 4, 0, 0, 0, 0, 0, 0, 0, 0, 0, 0, 0, 0, 0, 0, 0, 0, 5*z2 + 3, 5*z2 + 3, 0, 0, 0, 0, 2*z2 + 4, 2*z2 + 4, 0, 0, 0, 0, 2*z2 + 4, 2*z2 + 4, 0, 0, 0, 0, 2*z2 + 4, 2*z2 + 4, 0, 0, 0, 0, 2*z2 + 4, 2*z2 + 4, 5*z2 + 3, 5*z2 + 3, 5*z2 + 3, 5*z2 + 3, 5*z2 + 3, 5*z2 + 3, 0, 0, 0, 0, 5*z2 + 3, 5*z2 + 3, 0, 0, 0, 0, 5*z2 + 3, 5*z2 + 3, 0, 0, 0, 0, 5*z2 + 3, 5*z2 + 3, 2*z2 + 4, 2*z2 + 4, 2*z2 + 4, 2*z2 + 4, 2*z2 + 4, 2*z2 + 4), (0, 0, 0, 0, 0, 0, 0, 0, 0, 0, 0, 0, 0, z2 + 4, 0, z2 + 4, 2*z2 + 1, 2*z2 + 1, 0, 6*z2 + 3, 0, 6*z2 + 3, 5*z2 + 6, 5*z2 + 6, 0, 0, 0, 0, 0, 0, 0, 0, 0, 0, 0, 0, 0, z2 + 4, 0, z2 + 4, 2*z2 + 1, 2*z2 + 1, 0, 6*z2 + 3, 0, 6*z2 + 3, 5*z2 + 6, 5*z2 + 6, 0, 0, 0, 0, 0, 0, 0, 0, 0, 0, 0, 0, 0, z2 + 4, 0, z2 + 4, 2*z2 + 1, 2*z2 + 1, 0, 6*z2 + 3, 0, 6*z2 + 3, 5*z2 + 6, 5*z2 + 6, 0, 6*z2 + 3, 0, 6*z2 + 3, 5*z2 + 6, 5*z2 + 6, 0, 6*z2 + 3, 0, 6*z2 + 3, 5*z2 + 6, 5*z2 + 6, 0, 6*z2 + 3, 0, 6*z2 + 3, 5*z2 + 6, 5*z2 + 6, 3*z2 + 5, 3*z2 + 5, 3*z2 + 5, 3*z2 + 5, 3*z2 + 5, 3*z2 + 5, 0, z2 + 4, 0, z2 + 4, 2*z2 + 1, 2*z2 + 1, 0, z2 + 4, 0, z2 + 4, 2*z2 + 1, 2*z2 + 1, 0, z2 + 4, 0, z2 + 4, 2*z2 + 1, 2*z2 + 1, 4*z2 + 2, 4*z2 + 2, 4*z2 + 2, 4*z2 + 2, 4*z2 + 2, 4*z2 + 2), (0, 0, 0, 5*z2 + 2, 0, 2*z2 + 5, 0, 0, 0, 5*z2 + 2, 0, 2*z2 + 5, 0, z2 + 6, 0, z2 + 6, 6*z2 + 1, 6*z2 + 1, 0, 6*z2 + 1, 0, 6*z2 + 1, z2 + 6, z2 + 6, 0, 0, 0, 5*z2 + 2, 0, 2*z2 + 5, 0, 0, 0, 5*z2 + 2, 0, 2*z2 + 5, 0, z2 + 6, 0, z2 + 6, 6*z2 + 1, 6*z2 + 1, 0, 6*z2 + 1, 0, 6*z2 + 1, z2 + 6, z2 + 6, 0, 0, 0, 5*z2 + 2, 0, 2*z2 + 5, 0, 0, 0, 5*z2 + 2, 0, 2*z2 + 5, 0, z2 + 6, 0, z2 + 6, 6*z2 + 1, 6*z2 + 1, 0, 6*z2 + 1, 0, 6*z2 + 1, z2 + 6, z2 + 6, 0, z2 + 6, 0, z2 + 6, 6*z2 + 1, 6*z2 + 1, 0, z2 + 6, 0, z2 + 6, 6*z2 + 1, 6*z2 + 1, 0, z2 + 6, 0, z2 + 6, 6*z2 + 1, 6*z2 + 1, 0, 0, 0, 0, 0, 0, 0, 6*z2 + 1, 0, 6*z2 + 1, z2 + 6, z2 + 6, 0, 6*z2 + 1, 0, 6*z2 + 1, z2 + 6, z2 + 6, 0, 6*z2 + 1, 0, 6*z2 + 1, z2 + 6, z2 + 6, 0, 0, 0, 0, 0, 0), (0, 0, 0, 0, 0, 0, 0, 0, 0, 0, 0, 0, 2, 3, 2, 3, 3, 3, 5, 4, 5, 4, 4, 4, 0, 0, 0, 0, 0, 0, 0, 0, 0, 0, 0, 0, 2, 3, 2, 3, 3, 3, 5, 4, 5, 4, 4, 4, 0, 0, 0, 0, 0, 0, 0, 0, 0, 0, 0, 0, 2, 3, 2, 3, 3, 3, 5, 4, 5, 4, 4, 4, 5, 4, 5, 4, 4, 4, 5, 4, 5, 4, 4, 4, 5, 4, 5, 4, 4, 4, 1, 1, 1, 1, 1, 1, 2, 3, 2, 3, 3, 3, 2, 3, 2, 3, 3, 3, 2, 3, 2, 3, 3, 3, 6, 6, 6, 6, 6, 6), (0, 0, 4*z2 + 6, 6*z2 + 2, 3*z2 + 1, z2 + 5, 0, 0, 4*z2 + 6, 6*z2 + 2, 3*z2 + 1, z2 + 5, 5*z2 + 4, 4*z2 + 6, 5*z2 + 4, 4*z2 + 6, 5*z2 + 4, 5*z2 + 4, 2*z2 + 3, 3*z2 + 1, 2*z2 + 3, 3*z2 + 1, 2*z2 + 3, 2*z2 + 3, 0, 0, 4*z2 + 6, 6*z2 + 2, 3*z2 + 1, z2 + 5, 0, 0, 4*z2 + 6, 6*z2 + 2, 3*z2 + 1, z2 + 5, 5*z2 + 4, 4*z2 + 6, 5*z2 + 4, 4*z2 + 6, 5*z2 + 4, 5*z2 + 4, 2*z2 + 3, 3*z2 + 1, 2*z2 + 3, 3*z2 + 1, 2*z2 + 3, 2*z2 + 3, 0, 0, 4*z2 + 6, 6*z2 + 2, 3*z2 + 1, z2 + 5, 0, 0, 4*z2 + 6, 6*z2 + 2, 3*z2 + 1, z2 + 5, 5*z2 + 4, 4*z2 + 6, 5*z2 + 4, 4*z2 + 6, 5*z2 + 4, 5*z2 + 4, 2*z2 + 3, 3*z2 + 1, 2*z2 + 3, 3*z2 + 1, 2*z2 + 3, 2*z2 + 3, 5*z2 + 4, 4*z2 + 6, 5*z2 + 4, 4*z2 + 6, 5*z2 + 4, 5*z2 + 4, 5*z2 + 4, 4*z2 + 6, 5*z2 + 4, 4*z2 + 6, 5*z2 + 4, 5*z2 + 4, 5*z2 + 4, 4*z2 + 6, 5*z2 + 4, 4*z2 + 6, 5*z2 + 4, 5*z2 + 4, 0, 0, 0, 0, 0, 0, 2*z2 + 3, 3*z2 + 1, 2*z2 + 3, 3*z2 + 1, 2*z2 + 3, 2*z2 + 3, 2*z2 + 3, 3*z2 + 1, 2*z2 + 3, 3*z2 + 1, 2*z2 + 3, 2*z2 + 3, 2*z2 + 3, 3*z2 + 1, 2*z2 + 3, 3*z2 + 1, 2*z2 + 3, 2*z2 + 3, 0, 0, 0, 0, 0, 0), (3*z2, 4*z2, 6*z2, z2, z2, 6*z2, 3*z2, 4*z2, 6*z2, z2, z2, 6*z2, 6*z2, z2, 6*z2, z2, 0, 0, z2, 6*z2, z2, 6*z2, 0, 0, 3*z2, 4*z2, 6*z2, z2, z2, 6*z2, 3*z2, 4*z2, 6*z2, z2, z2, 6*z2, 6*z2, z2, 6*z2, z2, 0, 0, z2, 6*z2, z2, 6*z2, 0, 0, 3*z2, 4*z2, 6*z2, z2, z2, 6*z2, 3*z2, 4*z2, 6*z2, z2, z2, 6*z2, 6*z2, z2, 6*z2, z2, 0, 0, z2, 6*z2, z2, 6*z2, 0, 0, 6*z2, z2, 6*z2, z2, 0, 0, 6*z2, z2, 6*z2, z2, 0, 0, 6*z2, z2, 6*z2, z2, 0, 0, 0, 0, 0, 0, 0, 0, z2, 6*z2, z2, 6*z2, 0, 0, z2, 6*z2, z2, 6*z2, 0, 0, z2, 6*z2, z2, 6*z2, 0, 0, 0, 0, 0, 0, 0, 0), (2*z2, 5*z2, 3*z2, 4*z2, 4*z2, 3*z2, 5*z2, 2*z2, 4*z2, 3*z2, 3*z2, 4*z2, 4*z2, 3*z2, 3*z2, 4*z2, 3*z2, 4*z2, 3*z2, 4*z2, 4*z2, 3*z2, 4*z2, 3*z2, 5*z2, 2*z2, 4*z2, 3*z2, 3*z2, 4*z2, 2*z2, 5*z2, 3*z2, 4*z2, 4*z2, 3*z2, 3*z2, 4*z2, 4*z2, 3*z2, 4*z2, 3*z2, 4*z2, 3*z2, 3*z2, 4*z2, 3*z2, 4*z2, 2*z2, 5*z2, 3*z2, 4*z2, 4*z2, 3*z2, 5*z2, 2*z2, 4*z2, 3*z2, 3*z2, 4*z2, 4*z2, 3*z2, 3*z2, 4*z2, 3*z2, 4*z2, 3*z2, 4*z2, 4*z2, 3*z2, 4*z2, 3*z2, 3*z2, 4*z2, 4*z2, 3*z2, 4*z2, 3*z2, 4*z2, 3*z2, 3*z2, 4*z2, 3*z2, 4*z2, 3*z2, 4*z2, 4*z2, 3*z2, 4*z2, 3*z2, 3*z2, 4*z2, 4*z2, 3*z2, 3*z2, 4*z2, 4*z2, 3*z2, 3*z2, 4*z2, 3*z2, 4*z2, 3*z2, 4*z2, 4*z2, 3*z2, 4*z2, 3*z2, 4*z2, 3*z2, 3*z2, 4*z2, 3*z2, 4*z2, 4*z2, 3*z2, 3*z2, 4*z2, 4*z2, 3*z2), (0, 0, 2*z2 + 2, z2 + 1, 5*z2 + 5, 6*z2 + 6, 0, 0, 5*z2 + 5, 6*z2 + 6, 2*z2 + 2, z2 + 1, z2 + 1, 4*z2 + 4, 6*z2 + 6, 3*z2 + 3, 4*z2 + 4, 3*z2 + 3, 6*z2 + 6, 3*z2 + 3, z2 + 1, 4*z2 + 4, 3*z2 + 3, 4*z2 + 4, 0, 0, 5*z2 + 5, 6*z2 + 6, 2*z2 + 2, z2 + 1, 0, 0, 2*z2 + 2, z2 + 1, 5*z2 + 5, 6*z2 + 6, 6*z2 + 6, 3*z2 + 3, z2 + 1, 4*z2 + 4, 3*z2 + 3, 4*z2 + 4, z2 + 1, 4*z2 + 4, 6*z2 + 6, 3*z2 + 3, 4*z2 + 4, 3*z2 + 3, 0, 0, 2*z2 + 2, z2 + 1, 5*z2 + 5, 6*z2 + 6, 0, 0, 5*z2 + 5, 6*z2 + 6, 2*z2 + 2, z2 + 1, z2 + 1, 4*z2 + 4, 6*z2 + 6, 3*z2 + 3, 4*z2 + 4, 3*z2 + 3, 6*z2 + 6, 3*z2 + 3, z2 + 1, 4*z2 + 4, 3*z2 + 3, 4*z2 + 4, 6*z2 + 6, 3*z2 + 3, z2 + 1, 4*z2 + 4, 3*z2 + 3, 4*z2 + 4, z2 + 1, 4*z2 + 4, 6*z2 + 6, 3*z2 + 3, 4*z2 + 4, 3*z2 + 3, 6*z2 + 6, 3*z2 + 3, z2 + 1, 4*z2 + 4, 3*z2 + 3, 4*z2 + 4, 6*z2 + 6, z2 + 1, z2 + 1, 6*z2 + 6, 6*z2 + 6, z2 + 1, z2 + 1, 4*z2 + 4, 6*z2 + 6, 3*z2 + 3, 4*z2 + 4, 3*z2 + 3, 6*z2 + 6, 3*z2 + 3, z2 + 1, 4*z2 + 4, 3*z2 + 3, 4*z2 + 4, z2 + 1, 4*z2 + 4, 6*z2 + 6, 3*z2 + 3, 4*z2 + 4, 3*z2 + 3, z2 + 1, 6*z2 + 6, 6*z2 + 6, z2 + 1, z2 + 1, 6*z2 + 6), (0, 0, 0, 0, 0, 0, 0, 0, 0, 0, 0, 0, 2*z2 + 1, z2 + 4, 5*z2 + 6, 6*z2 + 3, 6*z2 + 3, z2 + 4, 5*z2 + 6, 6*z2 + 3, 2*z2 + 1, z2 + 4, z2 + 4, 6*z2 + 3, 0, 0, 0, 0, 0, 0, 0, 0, 0, 0, 0, 0, 5*z2 + 6, 6*z2 + 3, 2*z2 + 1, z2 + 4, z2 + 4, 6*z2 + 3, 2*z2 + 1, z2 + 4, 5*z2 + 6, 6*z2 + 3, 6*z2 + 3, z2 + 4, 0, 0, 0, 0, 0, 0, 0, 0, 0, 0, 0, 0, 2*z2 + 1, z2 + 4, 5*z2 + 6, 6*z2 + 3, 6*z2 + 3, z2 + 4, 5*z2 + 6, 6*z2 + 3, 2*z2 + 1, z2 + 4, z2 + 4, 6*z2 + 3, 2*z2 + 1, z2 + 4, 5*z2 + 6, 6*z2 + 3, 6*z2 + 3, z2 + 4, 5*z2 + 6, 6*z2 + 3, 2*z2 + 1, z2 + 4, z2 + 4, 6*z2 + 3, 2*z2 + 1, z2 + 4, 5*z2 + 6, 6*z2 + 3, 6*z2 + 3, z2 + 4, 0, 0, 0, 0, 0, 0, 5*z2 + 6, 6*z2 + 3, 2*z2 + 1, z2 + 4, z2 + 4, 6*z2 + 3, 2*z2 + 1, z2 + 4, 5*z2 + 6, 6*z2 + 3, 6*z2 + 3, z2 + 4, 5*z2 + 6, 6*z2 + 3, 2*z2 + 1, z2 + 4, z2 + 4, 6*z2 + 3, 0, 0, 0, 0, 0, 0), (0, 0, 0, 2*z2 + 1, 0, 5*z2 + 6, 0, 0, 0, 5*z2 + 6, 0, 2*z2 + 1, 0, z2 + 4, 0, 6*z2 + 3, 6*z2 + 3, z2 + 4, 0, 6*z2 + 3, 0, z2 + 4, z2 + 4, 6*z2 + 3, 0, 0, 0, 5*z2 + 6, 0, 2*z2 + 1, 0, 0, 0, 2*z2 + 1, 0, 5*z2 + 6, 0, 6*z2 + 3, 0, z2 + 4, z2 + 4, 6*z2 + 3, 0, z2 + 4, 0, 6*z2 + 3, 6*z2 + 3, z2 + 4, 0, 0, 0, 2*z2 + 1, 0, 5*z2 + 6, 0, 0, 0, 5*z2 + 6, 0, 2*z2 + 1, 0, z2 + 4, 0, 6*z2 + 3, 6*z2 + 3, z2 + 4, 0, 6*z2 + 3, 0, z2 + 4, z2 + 4, 6*z2 + 3, 0, 6*z2 + 3, 0, z2 + 4, z2 + 4, 6*z2 + 3, 0, z2 + 4, 0, 6*z2 + 3, 6*z2 + 3, z2 + 4, 0, 6*z2 + 3, 0, z2 + 4, z2 + 4, 6*z2 + 3, 2*z2 + 1, 5*z2 + 6, 5*z2 + 6, 2*z2 + 1, 2*z2 + 1, 5*z2 + 6, 0, z2 + 4, 0, 6*z2 + 3, 6*z2 + 3, z2 + 4, 0, 6*z2 + 3, 0, z2 + 4, z2 + 4, 6*z2 + 3, 0, z2 + 4, 0, 6*z2 + 3, 6*z2 + 3, z2 + 4, 5*z2 + 6, 2*z2 + 1, 2*z2 + 1, 5*z2 + 6, 5*z2 + 6, 2*z2 + 1), (0, 0, 0, 0, 0, 0, 0, 0, 0, 0, 0, 0, 0, 2*z2 + 2, 0, 5*z2 + 5, 2*z2 + 2, 5*z2 + 5, 0, 5*z2 + 5, 0, 2*z2 + 2, 5*z2 + 5, 2*z2 + 2, 0, 0, 0, 0, 0, 0, 0, 0, 0, 0, 0, 0, 0, 5*z2 + 5, 0, 2*z2 + 2, 5*z2 + 5, 2*z2 + 2, 0, 2*z2 + 2, 0, 5*z2 + 5, 2*z2 + 2, 5*z2 + 5, 0, 0, 0, 0, 0, 0, 0, 0, 0, 0, 0, 0, 0, 2*z2 + 2, 0, 5*z2 + 5, 2*z2 + 2, 5*z2 + 5, 0, 5*z2 + 5, 0, 2*z2 + 2, 5*z2 + 5, 2*z2 + 2, 0, 2*z2 + 2, 0, 5*z2 + 5, 2*z2 + 2, 5*z2 + 5, 0, 5*z2 + 5, 0, 2*z2 + 2, 5*z2 + 5, 2*z2 + 2, 0, 2*z2 + 2, 0, 5*z2 + 5, 2*z2 + 2, 5*z2 + 5, 0, 0, 0, 0, 0, 0, 0, 5*z2 + 5, 0, 2*z2 + 2, 5*z2 + 5, 2*z2 + 2, 0, 2*z2 + 2, 0, 5*z2 + 5, 2*z2 + 2, 5*z2 + 5, 0, 5*z2 + 5, 0, 2*z2 + 2, 5*z2 + 5, 2*z2 + 2, 0, 0, 0, 0, 0, 0), (0, 0, 5*z2 + 5, 2*z2 + 2, 6*z2 + 6, z2 + 1, 0, 0, 6*z2 + 6, z2 + 1, 3*z2 + 3, 4*z2 + 4, 2*z2 + 2, 5*z2 + 5, z2 + 1, 6*z2 + 6, 3*z2 + 3, 4*z2 + 4, z2 + 1, 6*z2 + 6, 4*z2 + 4, 3*z2 + 3, 4*z2 + 4, 3*z2 + 3, 0, 0, 2*z2 + 2, 5*z2 + 5, z2 + 1, 6*z2 + 6, 0, 0, z2 + 1, 6*z2 + 6, 4*z2 + 4, 3*z2 + 3, 5*z2 + 5, 2*z2 + 2, 6*z2 + 6, z2 + 1, 4*z2 + 4, 3*z2 + 3, 6*z2 + 6, z2 + 1, 3*z2 + 3, 4*z2 + 4, 3*z2 + 3, 4*z2 + 4, 0, 0, z2 + 1, 6*z2 + 6, 4*z2 + 4, 3*z2 + 3, 0, 0, 6*z2 + 6, z2 + 1, 3*z2 + 3, 4*z2 + 4, 6*z2 + 6, z2 + 1, z2 + 1, 6*z2 + 6, z2 + 1, 6*z2 + 6, 3*z2 + 3, 4*z2 + 4, 4*z2 + 4, 3*z2 + 3, 6*z2 + 6, z2 + 1, 5*z2 + 5, 2*z2 + 2, 6*z2 + 6, z2 + 1, 4*z2 + 4, 3*z2 + 3, 2*z2 + 2, 5*z2 + 5, z2 + 1, 6*z2 + 6, 3*z2 + 3, 4*z2 + 4, z2 + 1, 6*z2 + 6, 6*z2 + 6, z2 + 1, 6*z2 + 6, z2 + 1, 3*z2 + 3, 4*z2 + 4, 4*z2 + 4, 3*z2 + 3, z2 + 1, 6*z2 + 6, 6*z2 + 6, z2 + 1, 3*z2 + 3, 4*z2 + 4, 3*z2 + 3, 4*z2 + 4, z2 + 1, 6*z2 + 6, 4*z2 + 4, 3*z2 + 3, 4*z2 + 4, 3*z2 + 3, 4*z2 + 4, 3*z2 + 3, 3*z2 + 3, 4*z2 + 4, z2 + 1, 6*z2 + 6, 4*z2 + 4, 3*z2 + 3, 3*z2 + 3, 4*z2 + 4, 6*z2 + 6, z2 + 1), (2*z2, z2, 4*z2, 2*z2, 2*z2, 3*z2, z2, 4*z2, 2*z2, z2, z2, 5*z2, 2*z2, z2, 3*z2, 5*z2, 3*z2, 0, z2, 5*z2, 5*z2, 5*z2, 0, 5*z2, 5*z2, 6*z2, 3*z2, 5*z2, 5*z2, 4*z2, 6*z2, 3*z2, 5*z2, 6*z2, 6*z2, 2*z2, 5*z2, 6*z2, 4*z2, 2*z2, 4*z2, 0, 6*z2, 2*z2, 2*z2, 2*z2, 0, 2*z2, 6*z2, 3*z2, 5*z2, 6*z2, 6*z2, 2*z2, z2, 4*z2, 2*z2, z2, z2, 5*z2, z2, 4*z2, 6*z2, 3*z2, 4*z2, 3*z2, 4*z2, 0, 3*z2, 0, 5*z2, 2*z2, 5*z2, 6*z2, 4*z2, 2*z2, 4*z2, 0, 2*z2, z2, 3*z2, 5*z2, 3*z2, 0, 6*z2, 3*z2, z2, 4*z2, 3*z2, 4*z2, 4*z2, 5*z2, 3*z2, 2*z2, z2, 6*z2, 6*z2, 2*z2, 2*z2, 2*z2, 0, 2*z2, z2, 5*z2, 5*z2, 5*z2, 0, 5*z2, 3*z2, 0, 4*z2, 0, 2*z2, 5*z2, 3*z2, 2*z2, 4*z2, 5*z2, 6*z2, z2), (0, 0, 0, 0, 0, 0, 6*z2 + 5, 3*z2 + 6, z2 + 2, 4*z2 + 1, 4*z2 + 1, 3*z2 + 6, 5*z2 + 3, 6*z2 + 5, 2*z2 + 4, z2 + 2, z2 + 2, 6*z2 + 5, 6*z2 + 5, 2*z2 + 4, z2 + 2, 3*z2 + 6, 5*z2 + 3, 4*z2 + 1, 0, 0, 0, 0, 0, 0, z2 + 2, 4*z2 + 1, 6*z2 + 5, 3*z2 + 6, 3*z2 + 6, 4*z2 + 1, 2*z2 + 4, z2 + 2, 5*z2 + 3, 6*z2 + 5, 6*z2 + 5, z2 + 2, z2 + 2, 5*z2 + 3, 6*z2 + 5, 4*z2 + 1, 2*z2 + 4, 3*z2 + 6, 6*z2 + 5, 3*z2 + 6, z2 + 2, 4*z2 + 1, 4*z2 + 1, 3*z2 + 6, z2 + 2, 4*z2 + 1, 6*z2 + 5, 3*z2 + 6, 3*z2 + 6, 4*z2 + 1, 4*z2 + 1, 2*z2 + 4, 3*z2 + 6, 5*z2 + 3, 5*z2 + 3, 2*z2 + 4, 2*z2 + 4, z2 + 2, 5*z2 + 3, 6*z2 + 5, 6*z2 + 5, z2 + 2, 5*z2 + 3, 6*z2 + 5, 2*z2 + 4, z2 + 2, z2 + 2, 6*z2 + 5, 2*z2 + 4, z2 + 2, 5*z2 + 3, 6*z2 + 5, 6*z2 + 5, z2 + 2, 4*z2 + 1, 2*z2 + 4, 3*z2 + 6, 5*z2 + 3, 5*z2 + 3, 2*z2 + 4, z2 + 2, 4*z2 + 1, 6*z2 + 5, 3*z2 + 6, 3*z2 + 6, 4*z2 + 1, 6*z2 + 5, 2*z2 + 4, z2 + 2, 3*z2 + 6, 5*z2 + 3, 4*z2 + 1, z2 + 2, 5*z2 + 3, 6*z2 + 5, 4*z2 + 1, 2*z2 + 4, 3*z2 + 6, 2*z2 + 4, z2 + 2, 5*z2 + 3, 6*z2 + 5, 6*z2 + 5, z2 + 2, z2 + 2, 4*z2 + 1, 6*z2 + 5, 3*z2 + 6, 3*z2 + 6, 4*z2 + 1), (0, 6*z2 + 5, 0, 5*z2 + 3, z2 + 2, 2*z2 + 4, 0, 3*z2 + 6, 0, 6*z2 + 5, 4*z2 + 1, z2 + 2, 0, 6*z2 + 5, 0, 2*z2 + 4, z2 + 2, 5*z2 + 3, 4*z2 + 1, z2 + 2, 3*z2 + 6, 3*z2 + 6, 6*z2 + 5, 4*z2 + 1, 0, z2 + 2, 0, 2*z2 + 4, 6*z2 + 5, 5*z2 + 3, 0, 4*z2 + 1, 0, z2 + 2, 3*z2 + 6, 6*z2 + 5, 0, z2 + 2, 0, 5*z2 + 3, 6*z2 + 5, 2*z2 + 4, 3*z2 + 6, 6*z2 + 5, 4*z2 + 1, 4*z2 + 1, z2 + 2, 3*z2 + 6, 0, 4*z2 + 1, 0, z2 + 2, 3*z2 + 6, 6*z2 + 5, 0, 3*z2 + 6, 0, 6*z2 + 5, 4*z2 + 1, z2 + 2, 0, 3*z2 + 6, 0, 4*z2 + 1, 4*z2 + 1, 3*z2 + 6, 6*z2 + 5, 2*z2 + 4, z2 + 2, 5*z2 + 3, 5*z2 + 3, 2*z2 + 4, 0, z2 + 2, 0, 5*z2 + 3, 6*z2 + 5, 2*z2 + 4, 0, 6*z2 + 5, 0, 2*z2 + 4, z2 + 2, 5*z2 + 3, 0, 4*z2 + 1, 0, 3*z2 + 6, 3*z2 + 6, 4*z2 + 1, 5*z2 + 3, 6*z2 + 5, 2*z2 + 4, z2 + 2, z2 + 2, 6*z2 + 5, 3*z2 + 6, 6*z2 + 5, 4*z2 + 1, 4*z2 + 1, z2 + 2, 3*z2 + 6, 4*z2 + 1, z2 + 2, 3*z2 + 6, 3*z2 + 6, 6*z2 + 5, 4*z2 + 1, z2 + 2, 5*z2 + 3, 6*z2 + 5, 2*z2 + 4, 2*z2 + 4, 5*z2 + 3, 2*z2 + 4, z2 + 2, 5*z2 + 3, 6*z2 + 5, 6*z2 + 5, z2 + 2), (0, 0, 0, 0, 0, 0, 0, 2*z2, 0, 5*z2, 2*z2, 5*z2, 0, 4*z2, 0, 3*z2, 4*z2, 3*z2, 5*z2, 3*z2, 5*z2, 6*z2, 3*z2, 6*z2, 0, 0, 0, 0, 0, 0, 0, 5*z2, 0, 2*z2, 5*z2, 2*z2, 0, 3*z2, 0, 4*z2, 3*z2, 4*z2, 2*z2, 4*z2, 2*z2, z2, 4*z2, z2, 0, 2*z2, 0, 5*z2, 2*z2, 5*z2, 0, 5*z2, 0, 2*z2, 5*z2, 2*z2, 0, 6*z2, 0, z2, 6*z2, z2, 0, 3*z2, 0, 4*z2, 3*z2, 4*z2, 0, 4*z2, 0, 3*z2, 4*z2, 3*z2, 0, 3*z2, 0, 4*z2, 3*z2, 4*z2, 0, 6*z2, 0, z2, 6*z2, z2, 0, 5*z2, 0, 2*z2, 5*z2, 2*z2, 5*z2, 3*z2, 5*z2, 6*z2, 3*z2, 6*z2, 2*z2, 4*z2, 2*z2, z2, 4*z2, z2, 0, 3*z2, 0, 4*z2, 3*z2, 4*z2, 0, 5*z2, 0, 2*z2, 5*z2, 2*z2), (0, 0, 0, 0, 0, 0, 0, 0, 6, 1, 3, 4, 0, 0, 1, 6, 4, 3, 0, 0, 4, 3, 3, 4, 0, 0, 0, 0, 0, 0, 0, 0, 6, 1, 3, 4, 0, 0, 1, 6, 4, 3, 0, 0, 4, 3, 3, 4, 0, 0, 1, 6, 4, 3, 0, 0, 1, 6, 4, 3, 6, 1, 6, 1, 0, 0, 3, 4, 3, 4, 0, 0, 0, 0, 6, 1, 3, 4, 0, 0, 6, 1, 3, 4, 1, 6, 1, 6, 0, 0, 4, 3, 4, 3, 0, 0, 0, 0, 3, 4, 4, 3, 0, 0, 3, 4, 4, 3, 4, 3, 4, 3, 0, 0, 3, 4, 3, 4, 0, 0), (0, 0, 0, 0, 0, 0, 3*z2 + 2, 5*z2 + 1, 6*z2 + 4, 3*z2 + 2, 3*z2 + 2, z2 + 3, 4*z2 + 5, 2*z2 + 6, z2 + 3, 4*z2 + 5, 4*z2 + 5, 6*z2 + 4, 2*z2 + 6, 5*z2 + 1, 4*z2 + 5, 5*z2 + 1, 3*z2 + 2, 2*z2 + 6, 0, 0, 0, 0, 0, 0, 3*z2 + 2, 5*z2 + 1, 6*z2 + 4, 3*z2 + 2, 3*z2 + 2, z2 + 3, 4*z2 + 5, 2*z2 + 6, z2 + 3, 4*z2 + 5, 4*z2 + 5, 6*z2 + 4, 2*z2 + 6, 5*z2 + 1, 4*z2 + 5, 5*z2 + 1, 3*z2 + 2, 2*z2 + 6, 4*z2 + 5, 2*z2 + 6, z2 + 3, 4*z2 + 5, 4*z2 + 5, 6*z2 + 4, 4*z2 + 5, 2*z2 + 6, z2 + 3, 4*z2 + 5, 4*z2 + 5, 6*z2 + 4, 2*z2 + 6, z2 + 3, 2*z2 + 6, z2 + 3, 4*z2 + 5, 4*z2 + 5, z2 + 3, 4*z2 + 5, z2 + 3, 4*z2 + 5, 2*z2 + 6, 2*z2 + 6, 3*z2 + 2, 5*z2 + 1, 6*z2 + 4, 3*z2 + 2, 3*z2 + 2, z2 + 3, 3*z2 + 2, 5*z2 + 1, 6*z2 + 4, 3*z2 + 2, 3*z2 + 2, z2 + 3, 5*z2 + 1, 6*z2 + 4, 5*z2 + 1, 6*z2 + 4, 3*z2 + 2, 3*z2 + 2, 6*z2 + 4, 3*z2 + 2, 6*z2 + 4, 3*z2 + 2, 5*z2 + 1, 5*z2 + 1, 5*z2 + 1, 2*z2 + 6, 3*z2 + 2, 2*z2 + 6, 4*z2 + 5, 5*z2 + 1, 5*z2 + 1, 2*z2 + 6, 3*z2 + 2, 2*z2 + 6, 4*z2 + 5, 5*z2 + 1, 6*z2 + 4, 3*z2 + 2, 6*z2 + 4, 3*z2 + 2, 5*z2 + 1, 5*z2 + 1, z2 + 3, 4*z2 + 5, z2 + 3, 4*z2 + 5, 2*z2 + 6, 2*z2 + 6), (2*z2, z2, 5*z2, 6*z2, 6*z2, z2, 6*z2, 3*z2, z2, 4*z2, 4*z2, 3*z2, z2, 4*z2, 6*z2, 3*z2, 3*z2, 4*z2, 4*z2, 3*z2, 3*z2, 6*z2, 4*z2, z2, 2*z2, z2, 5*z2, 6*z2, 6*z2, z2, 6*z2, 3*z2, z2, 4*z2, 4*z2, 3*z2, z2, 4*z2, 6*z2, 3*z2, 3*z2, 4*z2, 4*z2, 3*z2, 3*z2, 6*z2, 4*z2, z2, 6*z2, 3*z2, z2, 4*z2, 4*z2, 3*z2, 6*z2, 3*z2, z2, 4*z2, 4*z2, 3*z2, 0, 0, 0, 0, 0, 0, 0, 5*z2, 0, 5*z2, 2*z2, 2*z2, z2, 4*z2, 6*z2, 3*z2, 3*z2, 4*z2, z2, 4*z2, 6*z2, 3*z2, 3*z2, 4*z2, 0, 0, 0, 0, 0, 0, 0, 2*z2, 0, 2*z2, 5*z2, 5*z2, 4*z2, 3*z2, 3*z2, 6*z2, 4*z2, z2, 4*z2, 3*z2, 3*z2, 6*z2, 4*z2, z2, 0, 5*z2, 0, 5*z2, 2*z2, 2*z2, 0, 2*z2, 0, 2*z2, 5*z2, 5*z2), (0, 0, 0, 0, 0, 0, 0, 5*z2, 0, 3*z2, 2*z2, 4*z2, 0, 2*z2, 0, 4*z2, 5*z2, 3*z2, 5*z2, 2*z2, 2*z2, z2, 5*z2, 6*z2, 0, 0, 0, 0, 0, 0, 0, 5*z2, 0, 3*z2, 2*z2, 4*z2, 0, 2*z2, 0, 4*z2, 5*z2, 3*z2, 5*z2, 2*z2, 2*z2, z2, 5*z2, 6*z2, 0, 2*z2, 0, 4*z2, 5*z2, 3*z2, 0, 2*z2, 0, 4*z2, 5*z2, 3*z2, 0, z2, 0, z2, 6*z2, 6*z2, 0, 4*z2, 0, 4*z2, 3*z2, 3*z2, 0, 5*z2, 0, 3*z2, 2*z2, 4*z2, 0, 5*z2, 0, 3*z2, 2*z2, 4*z2, 0, 6*z2, 0, 6*z2, z2, z2, 0, 3*z2, 0, 3*z2, 4*z2, 4*z2, 2*z2, 5*z2, 5*z2, 6*z2, 2*z2, z2, 2*z2, 5*z2, 5*z2, 6*z2, 2*z2, z2, 0, 3*z2, 0, 3*z2, 4*z2, 4*z2, 0, 4*z2, 0, 4*z2, 3*z2, 3*z2), (0, 4*z2 + 5, 0, 3*z2 + 2, 4*z2 + 5, 3*z2 + 2, 0, 5*z2 + 1, 0, 2*z2 + 6, 5*z2 + 1, 2*z2 + 6, 0, 2*z2 + 6, 0, 5*z2 + 1, 2*z2 + 6, 5*z2 + 1, 5*z2 + 1, 2*z2 + 6, 5*z2 + 1, 0, 2*z2 + 6, 0, 0, 4*z2 + 5, 0, 3*z2 + 2, 4*z2 + 5, 3*z2 + 2, 0, 5*z2 + 1, 0, 2*z2 + 6, 5*z2 + 1, 2*z2 + 6, 0, 2*z2 + 6, 0, 5*z2 + 1, 2*z2 + 6, 5*z2 + 1, 5*z2 + 1, 2*z2 + 6, 5*z2 + 1, 0, 2*z2 + 6, 0, 0, 5*z2 + 1, 0, 2*z2 + 6, 5*z2 + 1, 2*z2 + 6, 0, 5*z2 + 1, 0, 2*z2 + 6, 5*z2 + 1, 2*z2 + 6, 0, 0, 0, 0, 0, 0, 4*z2 + 5, 5*z2 + 1, 4*z2 + 5, 5*z2 + 1, 5*z2 + 1, 5*z2 + 1, 0, 2*z2 + 6, 0, 5*z2 + 1, 2*z2 + 6, 5*z2 + 1, 0, 2*z2 + 6, 0, 5*z2 + 1, 2*z2 + 6, 5*z2 + 1, 0, 0, 0, 0, 0, 0, 3*z2 + 2, 2*z2 + 6, 3*z2 + 2, 2*z2 + 6, 2*z2 + 6, 2*z2 + 6, 5*z2 + 1, 2*z2 + 6, 5*z2 + 1, 0, 2*z2 + 6, 0, 5*z2 + 1, 2*z2 + 6, 5*z2 + 1, 0, 2*z2 + 6, 0, 4*z2 + 5, 5*z2 + 1, 4*z2 + 5, 5*z2 + 1, 5*z2 + 1, 5*z2 + 1, 3*z2 + 2, 2*z2 + 6, 3*z2 + 2, 2*z2 + 6, 2*z2 + 6, 2*z2 + 6), (0, 0, 0, 0, 6, 1, 0, 0, 0, 0, 3, 4, 0, 0, 0, 0, 4, 3, 1, 6, 4, 3, 3, 4, 0, 0, 0, 0, 1, 6, 0, 0, 0, 0, 4, 3, 0, 0, 0, 0, 3, 4, 6, 1, 3, 4, 4, 3, 0, 0, 0, 0, 4, 3, 0, 0, 0, 0, 3, 4, 0, 0, 0, 0, 6, 1, 3, 4, 4, 3, 1, 6, 0, 0, 0, 0, 3, 4, 0, 0, 0, 0, 4, 3, 0, 0, 0, 0, 1, 6, 4, 3, 3, 4, 6, 1, 6, 1, 3, 4, 4, 3, 1, 6, 4, 3, 3, 4, 4, 3, 3, 4, 6, 1, 3, 4, 4, 3, 1, 6), (0, 3*z2 + 2, 0, 4*z2 + 5, 6*z2 + 4, z2 + 3, 0, 5*z2 + 1, 0, 2*z2 + 6, 3*z2 + 2, 4*z2 + 5, 0, 2*z2 + 6, 0, 5*z2 + 1, 4*z2 + 5, 3*z2 + 2, 3*z2 + 2, 4*z2 + 5, z2 + 3, 5*z2 + 1, 6*z2 + 4, 2*z2 + 6, 0, 4*z2 + 5, 0, 3*z2 + 2, z2 + 3, 6*z2 + 4, 0, 2*z2 + 6, 0, 5*z2 + 1, 4*z2 + 5, 3*z2 + 2, 0, 5*z2 + 1, 0, 2*z2 + 6, 3*z2 + 2, 4*z2 + 5, 4*z2 + 5, 3*z2 + 2, 6*z2 + 4, 2*z2 + 6, z2 + 3, 5*z2 + 1, 0, 2*z2 + 6, 0, 5*z2 + 1, 4*z2 + 5, 3*z2 + 2, 0, 5*z2 + 1, 0, 2*z2 + 6, 3*z2 + 2, 4*z2 + 5, 0, 3*z2 + 2, 0, 4*z2 + 5, 6*z2 + 4, z2 + 3, 5*z2 + 1, z2 + 3, 2*z2 + 6, 6*z2 + 4, 3*z2 + 2, 4*z2 + 5, 0, 5*z2 + 1, 0, 2*z2 + 6, 3*z2 + 2, 4*z2 + 5, 0, 2*z2 + 6, 0, 5*z2 + 1, 4*z2 + 5, 3*z2 + 2, 0, 4*z2 + 5, 0, 3*z2 + 2, z2 + 3, 6*z2 + 4, 2*z2 + 6, 6*z2 + 4, 5*z2 + 1, z2 + 3, 4*z2 + 5, 3*z2 + 2, 4*z2 + 5, 3*z2 + 2, 6*z2 + 4, 2*z2 + 6, z2 + 3, 5*z2 + 1, 3*z2 + 2, 4*z2 + 5, z2 + 3, 5*z2 + 1, 6*z2 + 4, 2*z2 + 6, 2*z2 + 6, 6*z2 + 4, 5*z2 + 1, z2 + 3, 4*z2 + 5, 3*z2 + 2, 5*z2 + 1, z2 + 3, 2*z2 + 6, 6*z2 + 4, 3*z2 + 2, 4*z2 + 5), (0, 0, 0, 0, 0, 0, 0, 5*z2, 0, 5*z2, 2*z2, 2*z2, 0, 2*z2, 0, 2*z2, 5*z2, 5*z2, 3*z2, 4*z2, 4*z2, z2, 3*z2, 6*z2, 0, 0, 0, 0, 0, 0, 0, 2*z2, 0, 2*z2, 5*z2, 5*z2, 0, 5*z2, 0, 5*z2, 2*z2, 2*z2, 4*z2, 3*z2, 3*z2, 6*z2, 4*z2, z2, 0, 5*z2, 0, 5*z2, 2*z2, 2*z2, 0, 2*z2, 0, 2*z2, 5*z2, 5*z2, 0, 0, 0, 0, 0, 0, z2, 4*z2, 6*z2, 3*z2, 3*z2, 4*z2, 0, 2*z2, 0, 2*z2, 5*z2, 5*z2, 0, 5*z2, 0, 5*z2, 2*z2, 2*z2, 0, 0, 0, 0, 0, 0, 6*z2, 3*z2, z2, 4*z2, 4*z2, 3*z2, 3*z2, 4*z2, 4*z2, z2, 3*z2, 6*z2, 4*z2, 3*z2, 3*z2, 6*z2, 4*z2, z2, z2, 4*z2, 6*z2, 3*z2, 3*z2, 4*z2, 6*z2, 3*z2, z2, 4*z2, 4*z2, 3*z2), (2*z2, 6*z2, 5*z2, z2, z2, 6*z2, z2, 3*z2, 6*z2, 4*z2, 4*z2, 3*z2, 6*z2, 4*z2, z2, 3*z2, 3*z2, 4*z2, 4*z2, 3*z2, 3*z2, 6*z2, 4*z2, z2, 5*z2, z2, 2*z2, 6*z2, 6*z2, z2, 6*z2, 4*z2, z2, 3*z2, 3*z2, 4*z2, z2, 3*z2, 6*z2, 4*z2, 4*z2, 3*z2, 3*z2, 4*z2, 4*z2, z2, 3*z2, 6*z2, 6*z2, 4*z2, z2, 3*z2, 3*z2, 4*z2, z2, 3*z2, 6*z2, 4*z2, 4*z2, 3*z2, 2*z2, 6*z2, 5*z2, z2, z2, 6*z2, 6*z2, 3*z2, z2, 4*z2, 4*z2, 3*z2, z2, 3*z2, 6*z2, 4*z2, 4*z2, 3*z2, 6*z2, 4*z2, z2, 3*z2, 3*z2, 4*z2, 5*z2, z2, 2*z2, 6*z2, 6*z2, z2, z2, 4*z2, 6*z2, 3*z2, 3*z2, 4*z2, 3*z2, 4*z2, 4*z2, z2, 3*z2, 6*z2, 4*z2, 3*z2, 3*z2, 6*z2, 4*z2, z2, z2, 4*z2, 6*z2, 3*z2, 3*z2, 4*z2, 6*z2, 3*z2, z2, 4*z2, 4*z2, 3*z2), (0, 0, 0, 0, 0, 0, 4*z2 + 5, 5*z2 + 1, 4*z2 + 5, 5*z2 + 1, 5*z2 + 1, 5*z2 + 1, 3*z2 + 2, 2*z2 + 6, 3*z2 + 2, 2*z2 + 6, 2*z2 + 6, 2*z2 + 6, 2*z2 + 6, 5*z2 + 1, 2*z2 + 6, 0, 5*z2 + 1, 0, 0, 0, 0, 0, 0, 0, 3*z2 + 2, 2*z2 + 6, 3*z2 + 2, 2*z2 + 6, 2*z2 + 6, 2*z2 + 6, 4*z2 + 5, 5*z2 + 1, 4*z2 + 5, 5*z2 + 1, 5*z2 + 1, 5*z2 + 1, 5*z2 + 1, 2*z2 + 6, 5*z2 + 1, 0, 2*z2 + 6, 0, 4*z2 + 5, 5*z2 + 1, 4*z2 + 5, 5*z2 + 1, 5*z2 + 1, 5*z2 + 1, 3*z2 + 2, 2*z2 + 6, 3*z2 + 2, 2*z2 + 6, 2*z2 + 6, 2*z2 + 6, 0, 0, 0, 0, 0, 0, 0, 2*z2 + 6, 0, 5*z2 + 1, 2*z2 + 6, 5*z2 + 1, 3*z2 + 2, 2*z2 + 6, 3*z2 + 2, 2*z2 + 6, 2*z2 + 6, 2*z2 + 6, 4*z2 + 5, 5*z2 + 1, 4*z2 + 5, 5*z2 + 1, 5*z2 + 1, 5*z2 + 1, 0, 0, 0, 0, 0, 0, 0, 5*z2 + 1, 0, 2*z2 + 6, 5*z2 + 1, 2*z2 + 6, 2*z2 + 6, 5*z2 + 1, 2*z2 + 6, 0, 5*z2 + 1, 0, 5*z2 + 1, 2*z2 + 6, 5*z2 + 1, 0, 2*z2 + 6, 0, 0, 2*z2 + 6, 0, 5*z2 + 1, 2*z2 + 6, 5*z2 + 1, 0, 5*z2 + 1, 0, 2*z2 + 6, 5*z2 + 1, 2*z2 + 6), (0, 0, 0, 0, 0, 0, 0, 0, 0, 0, 5*z2 + 5, 2*z2 + 2, 0, 0, 0, 0, 5*z2 + 5, 2*z2 + 2, 0, 0, 2*z2 + 2, 5*z2 + 5, 2*z2 + 2, 5*z2 + 5, 0, 0, 0, 0, 0, 0, 0, 0, 0, 0, 5*z2 + 5, 2*z2 + 2, 0, 0, 0, 0, 5*z2 + 5, 2*z2 + 2, 0, 0, 2*z2 + 2, 5*z2 + 5, 2*z2 + 2, 5*z2 + 5, 0, 0, 0, 0, 2*z2 + 2, 5*z2 + 5, 0, 0, 0, 0, 2*z2 + 2, 5*z2 + 5, 0, 0, 0, 0, 0, 0, 5*z2 + 5, 2*z2 + 2, 5*z2 + 5, 2*z2 + 2, 0, 0, 0, 0, 0, 0, 2*z2 + 2, 5*z2 + 5, 0, 0, 0, 0, 2*z2 + 2, 5*z2 + 5, 0, 0, 0, 0, 0, 0, 5*z2 + 5, 2*z2 + 2, 5*z2 + 5, 2*z2 + 2, 0, 0, 0, 0, 5*z2 + 5, 2*z2 + 2, 5*z2 + 5, 2*z2 + 2, 0, 0, 5*z2 + 5, 2*z2 + 2, 5*z2 + 5, 2*z2 + 2, 2*z2 + 2, 5*z2 + 5, 2*z2 + 2, 5*z2 + 5, 0, 0, 2*z2 + 2, 5*z2 + 5, 2*z2 + 2, 5*z2 + 5, 0, 0), (0, 0, 0, 0, 0, 0, 0, 2*z2, 0, 5*z2, 4*z2, 3*z2, 0, 2*z2, 0, 5*z2, 4*z2, 3*z2, 5*z2, 5*z2, 3*z2, 6*z2, 3*z2, 6*z2, 0, 0, 0, 0, 0, 0, 0, 2*z2, 0, 5*z2, 4*z2, 3*z2, 0, 2*z2, 0, 5*z2, 4*z2, 3*z2, 5*z2, 5*z2, 3*z2, 6*z2, 3*z2, 6*z2, 0, 5*z2, 0, 2*z2, 3*z2, 4*z2, 0, 5*z2, 0, 2*z2, 3*z2, 4*z2, 0, 0, 0, 0, 0, 0, 6*z2, 3*z2, 6*z2, 3*z2, 5*z2, 5*z2, 0, 5*z2, 0, 2*z2, 3*z2, 4*z2, 0, 5*z2, 0, 2*z2, 3*z2, 4*z2, 0, 0, 0, 0, 0, 0, 6*z2, 3*z2, 6*z2, 3*z2, 5*z2, 5*z2, 2*z2, 2*z2, 4*z2, z2, 4*z2, z2, 2*z2, 2*z2, 4*z2, z2, 4*z2, z2, z2, 4*z2, z2, 4*z2, 2*z2, 2*z2, z2, 4*z2, z2, 4*z2, 2*z2, 2*z2), (0, z2 + 2, 0, z2 + 2, 6*z2 + 5, 6*z2 + 5, 0, 3*z2 + 6, 0, 3*z2 + 6, 4*z2 + 1, 4*z2 + 1, 0, 3*z2 + 6, 0, 3*z2 + 6, 4*z2 + 1, 4*z2 + 1, 4*z2 + 1, 4*z2 + 1, 3*z2 + 6, 0, 3*z2 + 6, 0, 0, z2 + 2, 0, z2 + 2, 6*z2 + 5, 6*z2 + 5, 0, 3*z2 + 6, 0, 3*z2 + 6, 4*z2 + 1, 4*z2 + 1, 0, 3*z2 + 6, 0, 3*z2 + 6, 4*z2 + 1, 4*z2 + 1, 4*z2 + 1, 4*z2 + 1, 3*z2 + 6, 0, 3*z2 + 6, 0, 0, 3*z2 + 6, 0, 3*z2 + 6, 4*z2 + 1, 4*z2 + 1, 0, 3*z2 + 6, 0, 3*z2 + 6, 4*z2 + 1, 4*z2 + 1, 0, z2 + 2, 0, z2 + 2, 6*z2 + 5, 6*z2 + 5, 0, 3*z2 + 6, 0, 3*z2 + 6, 4*z2 + 1, 4*z2 + 1, 0, 3*z2 + 6, 0, 3*z2 + 6, 4*z2 + 1, 4*z2 + 1, 0, 3*z2 + 6, 0, 3*z2 + 6, 4*z2 + 1, 4*z2 + 1, 0, z2 + 2, 0, z2 + 2, 6*z2 + 5, 6*z2 + 5, 0, 3*z2 + 6, 0, 3*z2 + 6, 4*z2 + 1, 4*z2 + 1, 4*z2 + 1, 4*z2 + 1, 3*z2 + 6, 0, 3*z2 + 6, 0, 4*z2 + 1, 4*z2 + 1, 3*z2 + 6, 0, 3*z2 + 6, 0, 0, 3*z2 + 6, 0, 3*z2 + 6, 4*z2 + 1, 4*z2 + 1, 0, 3*z2 + 6, 0, 3*z2 + 6, 4*z2 + 1, 4*z2 + 1), (0, 0, 0, 0, 0, 0, z2 + 2, 3*z2 + 6, 6*z2 + 5, 4*z2 + 1, 4*z2 + 1, 3*z2 + 6, z2 + 2, 3*z2 + 6, 6*z2 + 5, 4*z2 + 1, 4*z2 + 1, 3*z2 + 6, 3*z2 + 6, 3*z2 + 6, 4*z2 + 1, 0, 4*z2 + 1, 0, 0, 0, 0, 0, 0, 0, z2 + 2, 3*z2 + 6, 6*z2 + 5, 4*z2 + 1, 4*z2 + 1, 3*z2 + 6, z2 + 2, 3*z2 + 6, 6*z2 + 5, 4*z2 + 1, 4*z2 + 1, 3*z2 + 6, 3*z2 + 6, 3*z2 + 6, 4*z2 + 1, 0, 4*z2 + 1, 0, 6*z2 + 5, 4*z2 + 1, z2 + 2, 3*z2 + 6, 3*z2 + 6, 4*z2 + 1, 6*z2 + 5, 4*z2 + 1, z2 + 2, 3*z2 + 6, 3*z2 + 6, 4*z2 + 1, 0, 0, 0, 0, 0, 0, 0, 4*z2 + 1, 0, 4*z2 + 1, 3*z2 + 6, 3*z2 + 6, 6*z2 + 5, 4*z2 + 1, z2 + 2, 3*z2 + 6, 3*z2 + 6, 4*z2 + 1, 6*z2 + 5, 4*z2 + 1, z2 + 2, 3*z2 + 6, 3*z2 + 6, 4*z2 + 1, 0, 0, 0, 0, 0, 0, 0, 4*z2 + 1, 0, 4*z2 + 1, 3*z2 + 6, 3*z2 + 6, 4*z2 + 1, 4*z2 + 1, 3*z2 + 6, 0, 3*z2 + 6, 0, 4*z2 + 1, 4*z2 + 1, 3*z2 + 6, 0, 3*z2 + 6, 0, 0, 3*z2 + 6, 0, 3*z2 + 6, 4*z2 + 1, 4*z2 + 1, 0, 3*z2 + 6, 0, 3*z2 + 6, 4*z2 + 1, 4*z2 + 1), (2*z2, 6*z2, 2*z2, 6*z2, 6*z2, 6*z2, 6*z2, 4*z2, 6*z2, 4*z2, 4*z2, 4*z2, 6*z2, 4*z2, 6*z2, 4*z2, 4*z2, 4*z2, 4*z2, 4*z2, 4*z2, 6*z2, 4*z2, 6*z2, 2*z2, 6*z2, 2*z2, 6*z2, 6*z2, 6*z2, 6*z2, 4*z2, 6*z2, 4*z2, 4*z2, 4*z2, 6*z2, 4*z2, 6*z2, 4*z2, 4*z2, 4*z2, 4*z2, 4*z2, 4*z2, 6*z2, 4*z2, 6*z2, 6*z2, 4*z2, 6*z2, 4*z2, 4*z2, 4*z2, 6*z2, 4*z2, 6*z2, 4*z2, 4*z2, 4*z2, 2*z2, 6*z2, 2*z2, 6*z2, 6*z2, 6*z2, 6*z2, 4*z2, 6*z2, 4*z2, 4*z2, 4*z2, 6*z2, 4*z2, 6*z2, 4*z2, 4*z2, 4*z2, 6*z2, 4*z2, 6*z2, 4*z2, 4*z2, 4*z2, 2*z2, 6*z2, 2*z2, 6*z2, 6*z2, 6*z2, 6*z2, 4*z2, 6*z2, 4*z2, 4*z2, 4*z2, 4*z2, 4*z2, 4*z2, 6*z2, 4*z2, 6*z2, 4*z2, 4*z2, 4*z2, 6*z2, 4*z2, 6*z2, 6*z2, 4*z2, 6*z2, 4*z2, 4*z2, 4*z2, 6*z2, 4*z2, 6*z2, 4*z2, 4*z2, 4*z2), (2, 4, 5, 3, 3, 4, 5, 3, 2, 4, 4, 3, 2, 4, 5, 3, 3, 4, 4, 3, 3, 4, 4, 3, 5, 3, 2, 4, 4, 3, 2, 4, 5, 3, 3, 4, 5, 3, 2, 4, 4, 3, 3, 4, 4, 3, 3, 4, 2, 4, 5, 3, 3, 4, 5, 3, 2, 4, 4, 3, 2, 4, 5, 3, 3, 4, 4, 3, 3, 4, 4, 3, 5, 3, 2, 4, 4, 3, 2, 4, 5, 3, 3, 4, 5, 3, 2, 4, 4, 3, 3, 4, 4, 3, 3, 4, 3, 4, 4, 3, 3, 4, 4, 3, 3, 4, 4, 3, 3, 4, 4, 3, 3, 4, 4, 3, 3, 4, 4, 3), (0, 4*z2 + 5, 0, 3*z2 + 2, 6*z2 + 4, z2 + 3, 0, 3*z2 + 2, 0, 4*z2 + 5, z2 + 3, 6*z2 + 4, 0, 4*z2 + 5, 0, 3*z2 + 2, 6*z2 + 4, z2 + 3, z2 + 3, 6*z2 + 4, 6*z2 + 4, z2 + 3, z2 + 3, 6*z2 + 4, 0, 3*z2 + 2, 0, 4*z2 + 5, z2 + 3, 6*z2 + 4, 0, 4*z2 + 5, 0, 3*z2 + 2, 6*z2 + 4, z2 + 3, 0, 3*z2 + 2, 0, 4*z2 + 5, z2 + 3, 6*z2 + 4, 6*z2 + 4, z2 + 3, z2 + 3, 6*z2 + 4, 6*z2 + 4, z2 + 3, 0, 4*z2 + 5, 0, 3*z2 + 2, 6*z2 + 4, z2 + 3, 0, 3*z2 + 2, 0, 4*z2 + 5, z2 + 3, 6*z2 + 4, 0, 4*z2 + 5, 0, 3*z2 + 2, 6*z2 + 4, z2 + 3, z2 + 3, 6*z2 + 4, 6*z2 + 4, z2 + 3, z2 + 3, 6*z2 + 4, 0, 3*z2 + 2, 0, 4*z2 + 5, z2 + 3, 6*z2 + 4, 0, 4*z2 + 5, 0, 3*z2 + 2, 6*z2 + 4, z2 + 3, 0, 3*z2 + 2, 0, 4*z2 + 5, z2 + 3, 6*z2 + 4, 6*z2 + 4, z2 + 3, z2 + 3, 6*z2 + 4, 6*z2 + 4, z2 + 3, 6*z2 + 4, z2 + 3, z2 + 3, 6*z2 + 4, 6*z2 + 4, z2 + 3, z2 + 3, 6*z2 + 4, 6*z2 + 4, z2 + 3, z2 + 3, 6*z2 + 4, 6*z2 + 4, z2 + 3, z2 + 3, 6*z2 + 4, 6*z2 + 4, z2 + 3, z2 + 3, 6*z2 + 4, 6*z2 + 4, z2 + 3, z2 + 3, 6*z2 + 4), (0, 0, 0, 0, 2*z2 + 1, 5*z2 + 6, 0, 0, 0, 0, 5*z2 + 6, 2*z2 + 1, 0, 0, 0, 0, 2*z2 + 1, 5*z2 + 6, z2 + 4, 6*z2 + 3, 6*z2 + 3, z2 + 4, z2 + 4, 6*z2 + 3, 0, 0, 0, 0, 5*z2 + 6, 2*z2 + 1, 0, 0, 0, 0, 2*z2 + 1, 5*z2 + 6, 0, 0, 0, 0, 5*z2 + 6, 2*z2 + 1, 6*z2 + 3, z2 + 4, z2 + 4, 6*z2 + 3, 6*z2 + 3, z2 + 4, 0, 0, 0, 0, 2*z2 + 1, 5*z2 + 6, 0, 0, 0, 0, 5*z2 + 6, 2*z2 + 1, 0, 0, 0, 0, 2*z2 + 1, 5*z2 + 6, z2 + 4, 6*z2 + 3, 6*z2 + 3, z2 + 4, z2 + 4, 6*z2 + 3, 0, 0, 0, 0, 5*z2 + 6, 2*z2 + 1, 0, 0, 0, 0, 2*z2 + 1, 5*z2 + 6, 0, 0, 0, 0, 5*z2 + 6, 2*z2 + 1, 6*z2 + 3, z2 + 4, z2 + 4, 6*z2 + 3, 6*z2 + 3, z2 + 4, 6*z2 + 3, z2 + 4, z2 + 4, 6*z2 + 3, 6*z2 + 3, z2 + 4, z2 + 4, 6*z2 + 3, 6*z2 + 3, z2 + 4, z2 + 4, 6*z2 + 3, 6*z2 + 3, z2 + 4, z2 + 4, 6*z2 + 3, 6*z2 + 3, z2 + 4, z2 + 4, 6*z2 + 3, 6*z2 + 3, z2 + 4, z2 + 4, 6*z2 + 3), (0, 0, 0, 0, 0, 0, 0, 0, 0, 0, 0, 0, 0, 0, 0, 0, 0, 0, 2*z2 + 2, 5*z2 + 5, 5*z2 + 5, 2*z2 + 2, 2*z2 + 2, 5*z2 + 5, 0, 0, 0, 0, 0, 0, 0, 0, 0, 0, 0, 0, 0, 0, 0, 0, 0, 0, 5*z2 + 5, 2*z2 + 2, 2*z2 + 2, 5*z2 + 5, 5*z2 + 5, 2*z2 + 2, 0, 0, 0, 0, 0, 0, 0, 0, 0, 0, 0, 0, 0, 0, 0, 0, 0, 0, 2*z2 + 2, 5*z2 + 5, 5*z2 + 5, 2*z2 + 2, 2*z2 + 2, 5*z2 + 5, 0, 0, 0, 0, 0, 0, 0, 0, 0, 0, 0, 0, 0, 0, 0, 0, 0, 0, 5*z2 + 5, 2*z2 + 2, 2*z2 + 2, 5*z2 + 5, 5*z2 + 5, 2*z2 + 2, 2*z2 + 2, 5*z2 + 5, 5*z2 + 5, 2*z2 + 2, 2*z2 + 2, 5*z2 + 5, 5*z2 + 5, 2*z2 + 2, 2*z2 + 2, 5*z2 + 5, 5*z2 + 5, 2*z2 + 2, 2*z2 + 2, 5*z2 + 5, 5*z2 + 5, 2*z2 + 2, 2*z2 + 2, 5*z2 + 5, 5*z2 + 5, 2*z2 + 2, 2*z2 + 2, 5*z2 + 5, 5*z2 + 5, 2*z2 + 2), (0, 3*z2 + 2, 0, z2 + 3, 4*z2 + 5, 6*z2 + 4, 0, 4*z2 + 5, 0, 6*z2 + 4, 3*z2 + 2, z2 + 3, 0, 6*z2 + 4, 0, z2 + 3, z2 + 3, 6*z2 + 4, 3*z2 + 2, z2 + 3, 4*z2 + 5, 6*z2 + 4, 6*z2 + 4, z2 + 3, 0, 4*z2 + 5, 0, 6*z2 + 4, 3*z2 + 2, z2 + 3, 0, 3*z2 + 2, 0, z2 + 3, 4*z2 + 5, 6*z2 + 4, 0, z2 + 3, 0, 6*z2 + 4, 6*z2 + 4, z2 + 3, 4*z2 + 5, 6*z2 + 4, 3*z2 + 2, z2 + 3, z2 + 3, 6*z2 + 4, 0, 3*z2 + 2, 0, z2 + 3, 4*z2 + 5, 6*z2 + 4, 0, 4*z2 + 5, 0, 6*z2 + 4, 3*z2 + 2, z2 + 3, 0, 6*z2 + 4, 0, z2 + 3, z2 + 3, 6*z2 + 4, 3*z2 + 2, z2 + 3, 4*z2 + 5, 6*z2 + 4, 6*z2 + 4, z2 + 3, 0, z2 + 3, 0, 6*z2 + 4, 6*z2 + 4, z2 + 3, 0, 6*z2 + 4, 0, z2 + 3, z2 + 3, 6*z2 + 4, 0, z2 + 3, 0, 6*z2 + 4, 6*z2 + 4, z2 + 3, z2 + 3, 6*z2 + 4, 6*z2 + 4, z2 + 3, z2 + 3, 6*z2 + 4, 4*z2 + 5, 6*z2 + 4, 3*z2 + 2, z2 + 3, z2 + 3, 6*z2 + 4, 3*z2 + 2, z2 + 3, 4*z2 + 5, 6*z2 + 4, 6*z2 + 4, z2 + 3, 4*z2 + 5, 6*z2 + 4, 3*z2 + 2, z2 + 3, z2 + 3, 6*z2 + 4, 6*z2 + 4, z2 + 3, z2 + 3, 6*z2 + 4, 6*z2 + 4, z2 + 3), (2, 3, 3, 1, 1, 4, 5, 4, 4, 6, 6, 3, 4, 6, 3, 1, 5, 2, 6, 3, 1, 4, 2, 5, 5, 4, 4, 6, 6, 3, 2, 3, 3, 1, 1, 4, 3, 1, 4, 6, 2, 5, 1, 4, 6, 3, 5, 2, 2, 3, 3, 1, 1, 4, 5, 4, 4, 6, 6, 3, 4, 6, 3, 1, 5, 2, 6, 3, 1, 4, 2, 5, 3, 1, 4, 6, 2, 5, 4, 6, 3, 1, 5, 2, 3, 1, 4, 6, 2, 5, 5, 2, 2, 5, 5, 2, 1, 4, 6, 3, 5, 2, 6, 3, 1, 4, 2, 5, 1, 4, 6, 3, 5, 2, 2, 5, 5, 2, 2, 5), (0, 0, 6*z2 + 5, z2 + 2, 2*z2 + 4, 5*z2 + 3, 0, 0, z2 + 2, 6*z2 + 5, 5*z2 + 3, 2*z2 + 4, 3*z2 + 6, 4*z2 + 1, 4*z2 + 1, 3*z2 + 6, 5*z2 + 3, 2*z2 + 4, z2 + 2, 6*z2 + 5, 6*z2 + 5, z2 + 2, 0, 0, 0, 0, z2 + 2, 6*z2 + 5, 5*z2 + 3, 2*z2 + 4, 0, 0, 6*z2 + 5, z2 + 2, 2*z2 + 4, 5*z2 + 3, 4*z2 + 1, 3*z2 + 6, 3*z2 + 6, 4*z2 + 1, 2*z2 + 4, 5*z2 + 3, 6*z2 + 5, z2 + 2, z2 + 2, 6*z2 + 5, 0, 0, 0, 0, 6*z2 + 5, z2 + 2, 2*z2 + 4, 5*z2 + 3, 0, 0, z2 + 2, 6*z2 + 5, 5*z2 + 3, 2*z2 + 4, 3*z2 + 6, 4*z2 + 1, 4*z2 + 1, 3*z2 + 6, 5*z2 + 3, 2*z2 + 4, z2 + 2, 6*z2 + 5, 6*z2 + 5, z2 + 2, 0, 0, 4*z2 + 1, 3*z2 + 6, 3*z2 + 6, 4*z2 + 1, 2*z2 + 4, 5*z2 + 3, 3*z2 + 6, 4*z2 + 1, 4*z2 + 1, 3*z2 + 6, 5*z2 + 3, 2*z2 + 4, 4*z2 + 1, 3*z2 + 6, 3*z2 + 6, 4*z2 + 1, 2*z2 + 4, 5*z2 + 3, 2*z2 + 4, 5*z2 + 3, 5*z2 + 3, 2*z2 + 4, 2*z2 + 4, 5*z2 + 3, 6*z2 + 5, z2 + 2, z2 + 2, 6*z2 + 5, 0, 0, z2 + 2, 6*z2 + 5, 6*z2 + 5, z2 + 2, 0, 0, 6*z2 + 5, z2 + 2, z2 + 2, 6*z2 + 5, 0, 0, 5*z2 + 3, 2*z2 + 4, 2*z2 + 4, 5*z2 + 3, 5*z2 + 3, 2*z2 + 4), (0, 0, 0, 0, 0, 0, 0, 0, 0, 0, 0, 0, 2*z2, 5*z2, 5*z2, 2*z2, 2*z2, 5*z2, 3*z2, 4*z2, 4*z2, 3*z2, 3*z2, 4*z2, 0, 0, 0, 0, 0, 0, 0, 0, 0, 0, 0, 0, 5*z2, 2*z2, 2*z2, 5*z2, 5*z2, 2*z2, 4*z2, 3*z2, 3*z2, 4*z2, 4*z2, 3*z2, 0, 0, 0, 0, 0, 0, 0, 0, 0, 0, 0, 0, 2*z2, 5*z2, 5*z2, 2*z2, 2*z2, 5*z2, 3*z2, 4*z2, 4*z2, 3*z2, 3*z2, 4*z2, 2*z2, 5*z2, 5*z2, 2*z2, 2*z2, 5*z2, 5*z2, 2*z2, 2*z2, 5*z2, 5*z2, 2*z2, 2*z2, 5*z2, 5*z2, 2*z2, 2*z2, 5*z2, 2*z2, 5*z2, 5*z2, 2*z2, 2*z2, 5*z2, 3*z2, 4*z2, 4*z2, 3*z2, 3*z2, 4*z2, 4*z2, 3*z2, 3*z2, 4*z2, 4*z2, 3*z2, 3*z2, 4*z2, 4*z2, 3*z2, 3*z2, 4*z2, 2*z2, 5*z2, 5*z2, 2*z2, 2*z2, 5*z2), (0, 0, 0, 5*z2 + 3, 0, 2*z2 + 4, 0, 0, 0, 6*z2 + 5, 0, z2 + 2, 0, 2*z2 + 4, 0, z2 + 2, 5*z2 + 3, 6*z2 + 5, 0, 5*z2 + 3, 0, 6*z2 + 5, 2*z2 + 4, z2 + 2, 0, 0, 0, 2*z2 + 4, 0, 5*z2 + 3, 0, 0, 0, z2 + 2, 0, 6*z2 + 5, 0, 5*z2 + 3, 0, 6*z2 + 5, 2*z2 + 4, z2 + 2, 0, 2*z2 + 4, 0, z2 + 2, 5*z2 + 3, 6*z2 + 5, 0, 0, 0, z2 + 2, 0, 6*z2 + 5, 0, 0, 0, 6*z2 + 5, 0, z2 + 2, 0, 6*z2 + 5, 0, z2 + 2, z2 + 2, 6*z2 + 5, 0, z2 + 2, 0, 6*z2 + 5, 6*z2 + 5, z2 + 2, 0, 5*z2 + 3, 0, 6*z2 + 5, 2*z2 + 4, z2 + 2, 0, 2*z2 + 4, 0, z2 + 2, 5*z2 + 3, 6*z2 + 5, 0, z2 + 2, 0, 6*z2 + 5, 6*z2 + 5, z2 + 2, 5*z2 + 3, 6*z2 + 5, 2*z2 + 4, z2 + 2, z2 + 2, 6*z2 + 5, 0, 2*z2 + 4, 0, z2 + 2, 5*z2 + 3, 6*z2 + 5, 0, 5*z2 + 3, 0, 6*z2 + 5, 2*z2 + 4, z2 + 2, 0, 6*z2 + 5, 0, z2 + 2, z2 + 2, 6*z2 + 5, 2*z2 + 4, z2 + 2, 5*z2 + 3, 6*z2 + 5, 6*z2 + 5, z2 + 2), (0, 0, z2 + 4, 5*z2 + 6, 6*z2 + 3, 2*z2 + 1, 0, 0, 4*z2 + 2, 6*z2 + 3, 3*z2 + 5, z2 + 4, 6*z2 + 3, 2*z2 + 1, 3*z2 + 5, z2 + 4, 2*z2 + 1, 0, z2 + 4, 5*z2 + 6, 4*z2 + 2, 6*z2 + 3, 5*z2 + 6, 0, 0, 0, 6*z2 + 3, 2*z2 + 1, z2 + 4, 5*z2 + 6, 0, 0, 3*z2 + 5, z2 + 4, 4*z2 + 2, 6*z2 + 3, z2 + 4, 5*z2 + 6, 4*z2 + 2, 6*z2 + 3, 5*z2 + 6, 0, 6*z2 + 3, 2*z2 + 1, 3*z2 + 5, z2 + 4, 2*z2 + 1, 0, 0, 0, 3*z2 + 5, z2 + 4, 4*z2 + 2, 6*z2 + 3, 0, 0, 4*z2 + 2, 6*z2 + 3, 3*z2 + 5, z2 + 4, 4*z2 + 2, 6*z2 + 3, 3*z2 + 5, z2 + 4, 5*z2 + 6, 2*z2 + 1, 3*z2 + 5, z2 + 4, 4*z2 + 2, 6*z2 + 3, 2*z2 + 1, 5*z2 + 6, z2 + 4, 5*z2 + 6, 4*z2 + 2, 6*z2 + 3, 5*z2 + 6, 0, 6*z2 + 3, 2*z2 + 1, 3*z2 + 5, z2 + 4, 2*z2 + 1, 0, 3*z2 + 5, z2 + 4, 4*z2 + 2, 6*z2 + 3, 2*z2 + 1, 5*z2 + 6, 2*z2 + 1, 0, 5*z2 + 6, 0, 5*z2 + 6, 2*z2 + 1, 6*z2 + 3, 2*z2 + 1, 3*z2 + 5, z2 + 4, 2*z2 + 1, 0, z2 + 4, 5*z2 + 6, 4*z2 + 2, 6*z2 + 3, 5*z2 + 6, 0, 4*z2 + 2, 6*z2 + 3, 3*z2 + 5, z2 + 4, 5*z2 + 6, 2*z2 + 1, 5*z2 + 6, 0, 2*z2 + 1, 0, 2*z2 + 1, 5*z2 + 6), (2, 5, 4, 3, 3, 4, 1, 6, 2, 5, 5, 2, 2, 5, 3, 4, 5, 2, 5, 2, 4, 3, 2, 5, 5, 2, 3, 4, 4, 3, 6, 1, 5, 2, 2, 5, 5, 2, 4, 3, 2, 5, 2, 5, 3, 4, 5, 2, 6, 1, 5, 2, 2, 5, 1, 6, 2, 5, 5, 2, 1, 6, 6, 1, 4, 3, 6, 1, 1, 6, 3, 4, 5, 2, 4, 3, 2, 5, 2, 5, 3, 4, 5, 2, 6, 1, 1, 6, 3, 4, 4, 3, 3, 4, 6, 1, 2, 5, 3, 4, 5, 2, 5, 2, 4, 3, 2, 5, 1, 6, 6, 1, 4, 3, 3, 4, 4, 3, 1, 6), (0, 0, 0, 0, 0, 0, 3*z2 + 1, 4*z2 + 6, 4*z2 + 6, 3*z2 + 1, 3*z2 + 1, 4*z2 + 6, 6*z2 + 2, z2 + 5, z2 + 5, 6*z2 + 2, 6*z2 + 2, z2 + 5, z2 + 5, 6*z2 + 2, 6*z2 + 2, z2 + 5, z2 + 5, 6*z2 + 2, 0, 0, 0, 0, 0, 0, 4*z2 + 6, 3*z2 + 1, 3*z2 + 1, 4*z2 + 6, 4*z2 + 6, 3*z2 + 1, z2 + 5, 6*z2 + 2, 6*z2 + 2, z2 + 5, z2 + 5, 6*z2 + 2, 6*z2 + 2, z2 + 5, z2 + 5, 6*z2 + 2, 6*z2 + 2, z2 + 5, 3*z2 + 1, 4*z2 + 6, 4*z2 + 6, 3*z2 + 1, 3*z2 + 1, 4*z2 + 6, 4*z2 + 6, 3*z2 + 1, 3*z2 + 1, 4*z2 + 6, 4*z2 + 6, 3*z2 + 1, 2*z2 + 3, 5*z2 + 4, 5*z2 + 4, 2*z2 + 3, 2*z2 + 3, 5*z2 + 4, 5*z2 + 4, 2*z2 + 3, 2*z2 + 3, 5*z2 + 4, 5*z2 + 4, 2*z2 + 3, 6*z2 + 2, z2 + 5, z2 + 5, 6*z2 + 2, 6*z2 + 2, z2 + 5, z2 + 5, 6*z2 + 2, 6*z2 + 2, z2 + 5, z2 + 5, 6*z2 + 2, 2*z2 + 3, 5*z2 + 4, 5*z2 + 4, 2*z2 + 3, 2*z2 + 3, 5*z2 + 4, 0, 0, 0, 0, 0, 0, z2 + 5, 6*z2 + 2, 6*z2 + 2, z2 + 5, z2 + 5, 6*z2 + 2, 6*z2 + 2, z2 + 5, z2 + 5, 6*z2 + 2, 6*z2 + 2, z2 + 5, 5*z2 + 4, 2*z2 + 3, 2*z2 + 3, 5*z2 + 4, 5*z2 + 4, 2*z2 + 3, 0, 0, 0, 0, 0, 0), (0, 0, 0, 0, 0, 0, 0, 0, 0, 5*z2 + 4, 0, 2*z2 + 3, 0, 0, 0, 2*z2 + 3, 0, 5*z2 + 4, 0, 0, 0, 5*z2 + 4, 0, 2*z2 + 3, 0, 0, 0, 0, 0, 0, 0, 0, 0, 5*z2 + 4, 0, 2*z2 + 3, 0, 0, 0, 2*z2 + 3, 0, 5*z2 + 4, 0, 0, 0, 5*z2 + 4, 0, 2*z2 + 3, 0, 0, 0, 2*z2 + 3, 0, 5*z2 + 4, 0, 0, 0, 2*z2 + 3, 0, 5*z2 + 4, 0, 5*z2 + 4, 0, 5*z2 + 4, 2*z2 + 3, 2*z2 + 3, 0, 2*z2 + 3, 0, 2*z2 + 3, 5*z2 + 4, 5*z2 + 4, 0, 0, 0, 5*z2 + 4, 0, 2*z2 + 3, 0, 0, 0, 5*z2 + 4, 0, 2*z2 + 3, 0, 2*z2 + 3, 0, 2*z2 + 3, 5*z2 + 4, 5*z2 + 4, 0, 5*z2 + 4, 0, 5*z2 + 4, 2*z2 + 3, 2*z2 + 3, 0, 0, 0, 2*z2 + 3, 0, 5*z2 + 4, 0, 0, 0, 2*z2 + 3, 0, 5*z2 + 4, 0, 5*z2 + 4, 0, 5*z2 + 4, 2*z2 + 3, 2*z2 + 3, 0, 2*z2 + 3, 0, 2*z2 + 3, 5*z2 + 4, 5*z2 + 4), (0, 0, 0, 0, 0, 0, 0, 0, 5*z2 + 2, 4*z2 + 3, 2*z2 + 5, 3*z2 + 4, 0, 0, 2*z2 + 5, 3*z2 + 4, 5*z2 + 2, 4*z2 + 3, 0, 0, 5*z2 + 2, 4*z2 + 3, 2*z2 + 5, 3*z2 + 4, 0, 0, 0, 0, 0, 0, 0, 0, 5*z2 + 2, 4*z2 + 3, 2*z2 + 5, 3*z2 + 4, 0, 0, 2*z2 + 5, 3*z2 + 4, 5*z2 + 2, 4*z2 + 3, 0, 0, 5*z2 + 2, 4*z2 + 3, 2*z2 + 5, 3*z2 + 4, 0, 0, 2*z2 + 5, 3*z2 + 4, 5*z2 + 2, 4*z2 + 3, 0, 0, 2*z2 + 5, 3*z2 + 4, 5*z2 + 2, 4*z2 + 3, 5*z2 + 2, 4*z2 + 3, 5*z2 + 2, 4*z2 + 3, 5*z2 + 2, 5*z2 + 2, 2*z2 + 5, 3*z2 + 4, 2*z2 + 5, 3*z2 + 4, 2*z2 + 5, 2*z2 + 5, 0, 0, 5*z2 + 2, 4*z2 + 3, 2*z2 + 5, 3*z2 + 4, 0, 0, 5*z2 + 2, 4*z2 + 3, 2*z2 + 5, 3*z2 + 4, 2*z2 + 5, 3*z2 + 4, 2*z2 + 5, 3*z2 + 4, 2*z2 + 5, 2*z2 + 5, 5*z2 + 2, 4*z2 + 3, 5*z2 + 2, 4*z2 + 3, 5*z2 + 2, 5*z2 + 2, 0, 0, 2*z2 + 5, 3*z2 + 4, 5*z2 + 2, 4*z2 + 3, 0, 0, 2*z2 + 5, 3*z2 + 4, 5*z2 + 2, 4*z2 + 3, 5*z2 + 2, 4*z2 + 3, 5*z2 + 2, 4*z2 + 3, 5*z2 + 2, 5*z2 + 2, 2*z2 + 5, 3*z2 + 4, 2*z2 + 5, 3*z2 + 4, 2*z2 + 5, 2*z2 + 5), (0, 0, 0, 0, 0, 0, 4*z2 + 4, 3*z2 + 3, z2 + 1, 6*z2 + 6, 6*z2 + 6, z2 + 1, 3*z2 + 3, 4*z2 + 4, 6*z2 + 6, z2 + 1, z2 + 1, 6*z2 + 6, 4*z2 + 4, 3*z2 + 3, z2 + 1, 6*z2 + 6, 6*z2 + 6, z2 + 1, 0, 0, 0, 0, 0, 0, 4*z2 + 4, 3*z2 + 3, z2 + 1, 6*z2 + 6, 6*z2 + 6, z2 + 1, 3*z2 + 3, 4*z2 + 4, 6*z2 + 6, z2 + 1, z2 + 1, 6*z2 + 6, 4*z2 + 4, 3*z2 + 3, z2 + 1, 6*z2 + 6, 6*z2 + 6, z2 + 1, 3*z2 + 3, 4*z2 + 4, 6*z2 + 6, z2 + 1, z2 + 1, 6*z2 + 6, 3*z2 + 3, 4*z2 + 4, 6*z2 + 6, z2 + 1, z2 + 1, 6*z2 + 6, 5*z2 + 5, 2*z2 + 2, 5*z2 + 5, 2*z2 + 2, 0, 0, 2*z2 + 2, 5*z2 + 5, 2*z2 + 2, 5*z2 + 5, 0, 0, 4*z2 + 4, 3*z2 + 3, z2 + 1, 6*z2 + 6, 6*z2 + 6, z2 + 1, 4*z2 + 4, 3*z2 + 3, z2 + 1, 6*z2 + 6, 6*z2 + 6, z2 + 1, 2*z2 + 2, 5*z2 + 5, 2*z2 + 2, 5*z2 + 5, 0, 0, 5*z2 + 5, 2*z2 + 2, 5*z2 + 5, 2*z2 + 2, 0, 0, 3*z2 + 3, 4*z2 + 4, 6*z2 + 6, z2 + 1, z2 + 1, 6*z2 + 6, 3*z2 + 3, 4*z2 + 4, 6*z2 + 6, z2 + 1, z2 + 1, 6*z2 + 6, 5*z2 + 5, 2*z2 + 2, 5*z2 + 5, 2*z2 + 2, 0, 0, 2*z2 + 2, 5*z2 + 5, 2*z2 + 2, 5*z2 + 5, 0, 0), (2, 5, 5, 2, 2, 5, 6, 1, 1, 6, 6, 1, 1, 6, 6, 1, 1, 6, 6, 1, 1, 6, 6, 1, 2, 5, 5, 2, 2, 5, 6, 1, 1, 6, 6, 1, 1, 6, 6, 1, 1, 6, 6, 1, 1, 6, 6, 1, 6, 1, 1, 6, 6, 1, 6, 1, 1, 6, 6, 1, 0, 0, 0, 0, 0, 0, 0, 0, 0, 0, 0, 0, 1, 6, 6, 1, 1, 6, 1, 6, 6, 1, 1, 6, 0, 0, 0, 0, 0, 0, 0, 0, 0, 0, 0, 0, 6, 1, 1, 6, 6, 1, 6, 1, 1, 6, 6, 1, 0, 0, 0, 0, 0, 0, 0, 0, 0, 0, 0, 0), (1, 6, 6, 1, 1, 6, 6, 1, 1, 6, 6, 1, 1, 6, 6, 1, 1, 6, 6, 1, 1, 6, 6, 1, 6, 1, 1, 6, 6, 1, 1, 6, 6, 1, 1, 6, 6, 1, 1, 6, 6, 1, 1, 6, 6, 1, 1, 6, 1, 6, 6, 1, 1, 6, 6, 1, 1, 6, 6, 1, 1, 6, 6, 1, 1, 6, 6, 1, 1, 6, 6, 1, 6, 1, 1, 6, 6, 1, 1, 6, 6, 1, 1, 6, 6, 1, 1, 6, 6, 1, 1, 6, 6, 1, 1, 6, 1, 6, 6, 1, 1, 6, 6, 1, 1, 6, 6, 1, 1, 6, 6, 1, 1, 6, 6, 1, 1, 6, 6, 1)]\n"
     ]
    }
   ],
   "source": [
    "#compute the unitary DFT\n",
    "unitary_dft = dft(unitary=True); print(list(unitary_dft))"
   ]
  },
  {
   "cell_type": "code",
   "execution_count": 44,
   "id": "46924824-089b-42a0-a5f3-995653336b56",
   "metadata": {},
   "outputs": [
    {
     "data": {
      "text/plain": [
       "True"
      ]
     },
     "execution_count": 44,
     "metadata": {},
     "output_type": "execute_result"
    }
   ],
   "source": [
    "#verify the resulting DFT is unitary\n",
    "unitary_dft*unitary_dft.H == identity_matrix(SGA.group().cardinality())"
   ]
  },
  {
   "cell_type": "code",
   "execution_count": 128,
   "id": "0fb3d18d-af2a-413f-aa5d-1f3283ee938d",
   "metadata": {},
   "outputs": [],
   "source": [
    "def naive_invariant_symmetric_bilinear_matrix(q,partition):\n",
    "    r\"\"\"\n",
    "    alternatively, we can just average over the usual dot product when p does not divide |G|\n",
    "    it is slower than the other method, and does not work when p divides |G|\n",
    "    in fact, we get a scalar multiple of the other solution since the space is one dimensional\n",
    "    \"\"\"\n",
    "    n = sum(partition)\n",
    "    G = SymmetricGroup(n)\n",
    "    F = GF(q)\n",
    "    V = G.algebra(F).specht_module(partition)\n",
    "    d_rho = V.dimension()\n",
    "    rho = V.representation_matrix\n",
    "    \n",
    "    # Define a symmetric bilinear form using the action\n",
    "    def invariant_form(x, y):\n",
    "        return sum((rho(g) * vector(x)).dot_product(rho(g) * vector(y)) for g in G) / G.order()\n",
    "    \n",
    "    basis = V.basis()\n",
    "    n = len(basis)\n",
    "    return matrix(F, n, n, lambda i, j: invariant_form(basis.list()[i], basis.list()[j]))"
   ]
  },
  {
   "cell_type": "code",
   "execution_count": 130,
   "id": "a9cfd80f-bd8e-45d6-bf87-427537fd0e9f",
   "metadata": {},
   "outputs": [
    {
     "data": {
      "text/plain": [
       "[4 3 2]\n",
       "[3 4 3]\n",
       "[2 3 4]"
      ]
     },
     "execution_count": 130,
     "metadata": {},
     "output_type": "execute_result"
    }
   ],
   "source": [
    "naive_invariant_symmetric_bilinear_matrix(5**2,[2,1,1])"
   ]
  },
  {
   "cell_type": "code",
   "execution_count": 114,
   "id": "aac3563d-6e4e-4569-b3c3-ebd4c1bf9d21",
   "metadata": {},
   "outputs": [
    {
     "data": {
      "text/plain": [
       "[\n",
       "[1 4 7]\n",
       "[4 1 4]\n",
       "[7 4 1]\n",
       "]"
      ]
     },
     "execution_count": 114,
     "metadata": {},
     "output_type": "execute_result"
    }
   ],
   "source": [
    "SGA_GF49_S4 = SymmetricGroupAlgebra(GF(11**2),4)\n",
    "invariant_symmetric_bilinear_matrix(SGA_GF49_S4,[2,1,1])"
   ]
  },
  {
   "cell_type": "code",
   "execution_count": 74,
   "id": "b87f732e-6861-4915-8548-ac17b5d1e500",
   "metadata": {},
   "outputs": [
    {
     "data": {
      "text/plain": [
       "True"
      ]
     },
     "execution_count": 74,
     "metadata": {},
     "output_type": "execute_result"
    }
   ],
   "source": [
    "#define variables as polynomial generators\n",
    "R_xy = PolynomialRing(F, d_rho, var_array='x,y')\n",
    "x = matrix([R_xy.gens()[2*i] for i in range(d_rho)]).transpose()\n",
    "y = matrix([R_xy.gens()[2*i+1] for i in range(d_rho)]).transpose()\n",
    "R_xy_lambda = PolynomialRing(R_xy,'lambda')\n",
    "lambda_ = R_xy_lambda.gens()[0]\n",
    "\n",
    "U_form = matrix(R_xy_lambda,M)\n",
    "\n",
    "#check symmetric property\n",
    "symmetric = bilinear_form(x,y,U_form) == bilinear_form(y,x,U_form)\n",
    "\n",
    "#check G-invariance property\n",
    "G_invariant = all(bilinear_form(rho(g)*x,rho(g)*y,U_form) == bilinear_form(x,y,U_form) for g in G)\n",
    "\n",
    "#check bilinear property. ISSUE: lambda_^q is a power of the ring generator, i.e. doesn't simplify.\n",
    "first_arg = bilinear_form(lambda_*x,y,U_form) == lambda_*bilinear_form(x,y,U_form)\n",
    "second_arg = bilinear_form(x,lambda_*y,U_form) == lambda_*bilinear_form(x,y,U_form) #need to amend for conjugation\n",
    "bilinear = first_arg and second_arg\n",
    "\n",
    "symmetric and G_invariant and bilinear"
   ]
  },
  {
   "cell_type": "code",
   "execution_count": null,
   "id": "37d72abb-c65f-4478-9d9b-6adee2cb6e01",
   "metadata": {},
   "outputs": [],
   "source": []
  }
 ],
 "metadata": {
  "kernelspec": {
   "display_name": "SageMath 10.5",
   "language": "sage",
   "name": "sagemath-10.5"
  },
  "language_info": {
   "codemirror_mode": {
    "name": "ipython",
    "version": 3
   },
   "file_extension": ".py",
   "mimetype": "text/x-python",
   "name": "python",
   "nbconvert_exporter": "python",
   "pygments_lexer": "ipython3",
   "version": "3.12.5"
  }
 },
 "nbformat": 4,
 "nbformat_minor": 5
}
