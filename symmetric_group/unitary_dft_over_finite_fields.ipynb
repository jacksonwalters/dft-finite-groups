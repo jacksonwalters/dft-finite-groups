{
 "cells": [
  {
   "cell_type": "code",
   "execution_count": 1,
   "id": "ba61a7c6-db85-4449-bd7a-b6209451b0a4",
   "metadata": {},
   "outputs": [],
   "source": [
    "#compute the uDFT by noting DFT.DFT^* = D, a diagonal matrix, and factoring as D = RR^*, so uDFT = R^{-1}.DFT\n",
    "#alternately, one could use unitary representations and normalization factors \\sqrt{d_\\rho/|G|}\n",
    "#the resulting DFT will have signs \\pm 1 on the diagonal DFT.DFT^* = S, which can be factored as s = rr^*, so S=RR^*\n",
    "#again, uDFT = R^{-1}.DFT"
   ]
  },
  {
   "cell_type": "code",
   "execution_count": 24,
   "id": "367e923c-c757-478e-bedd-e752e8792357",
   "metadata": {},
   "outputs": [],
   "source": [
    "#for u in GF(q), we can factor as u=aa^*=aa^q=a^{q+1} in GF(q**2) using gen. z and modular arithmetic\n",
    "def conj_sqrt(u):\n",
    "    if u == 0:\n",
    "        return 0\n",
    "    z = u.parent().multiplicative_generator()\n",
    "    k = u.log(z)  # Compute discrete log of u to the base z\n",
    "    if k % (q+1) != 0:\n",
    "        raise ValueError(\"exponent must be divisible by q+1\")\n",
    "    return z ** (k//(q+1))"
   ]
  },
  {
   "cell_type": "code",
   "execution_count": 25,
   "id": "d436942b-2764-48cb-a318-e943960b671d",
   "metadata": {},
   "outputs": [],
   "source": [
    "#compute the uDFT by noting DFT.DFT^* = D, a diagonal matrix, and factoring as D = RR^*, so uDFT = R^{-1}.DFT\n",
    "def unitary_dft():\n",
    "    dft_matrix = SGA.dft()\n",
    "    sign_diag = (dft_matrix*dft_matrix.H).diagonal()\n",
    "    factor_diag_inv = diagonal_matrix([~conj_sqrt(d) for d in sign_diag])\n",
    "    return factor_diag_inv*dft_matrix"
   ]
  },
  {
   "cell_type": "code",
   "execution_count": 139,
   "id": "8638af45-82cd-4ee0-936d-3fdbeb482f32",
   "metadata": {},
   "outputs": [],
   "source": [
    "#parameters and define the symmetric group algebra\n",
    "n = 4; q = 7\n",
    "F = GF(q**2)\n",
    "SGA = SymmetricGroupAlgebra(F,n) # F[S_n], group algebra\n",
    "assert F.characteristic() > 0, \"F must have positive characteristic\"\n",
    "if not (F.is_field() and F.is_finite() and F.order().is_square()):\n",
    "    raise ValueError(\"the base ring must be a finite field of square order\")\n",
    "if F.characteristic().divides(SGA.group().cardinality()):\n",
    "    raise NotImplementedError(\"not implemented when p|n!; dimension of invariant forms may be greater than one\")"
   ]
  },
  {
   "cell_type": "code",
   "execution_count": 140,
   "id": "1251c71a-3b52-43e8-bf6d-8f3dea6e4007",
   "metadata": {},
   "outputs": [
    {
     "data": {
      "text/plain": [
       "'[2*z2 + 5 2*z2 + 5 2*z2 + 5 2*z2 + 5 2*z2 + 5 2*z2 + 5 2*z2 + 5 2*z2 + 5 2*z2 + 5 2*z2 + 5 2*z2 + 5 2*z2 + 5 2*z2 + 5 2*z2 + 5 2*z2 + 5 2*z2 + 5 2*z2 + 5 2*z2 + 5 2*z2 + 5 2*z2 + 5 2*z2 + 5 2*z2 + 5 2*z2 + 5 2*z2 + 5]\\n[       1        1        4        4        4        4        6        6        3        3        3        3        3        3        4        4        0        0        3        3        4        4        0        0]\\n[       0        0 2*z2 + 2 2*z2 + 2 3*z2 + 3 3*z2 + 3        0        0 2*z2 + 2 2*z2 + 2 3*z2 + 3 3*z2 + 3 5*z2 + 5 5*z2 + 5 5*z2 + 5 5*z2 + 5   z2 + 1   z2 + 1 4*z2 + 4 4*z2 + 4 4*z2 + 4 4*z2 + 4 6*z2 + 6 6*z2 + 6]\\n[       0        0        0        0 6*z2 + 1 6*z2 + 1        0        0        0        0 6*z2 + 1 6*z2 + 1        0        0        0        0 6*z2 + 1 6*z2 + 1   z2 + 6   z2 + 6   z2 + 6   z2 + 6   z2 + 6   z2 + 6]\\n[       0        0 5*z2 + 5 4*z2 + 4 5*z2 + 5 4*z2 + 4        0        0 2*z2 + 2 3*z2 + 3 2*z2 + 2 3*z2 + 3 5*z2 + 5 4*z2 + 4 2*z2 + 2 3*z2 + 3 6*z2 + 6   z2 + 1 5*z2 + 5 4*z2 + 4 2*z2 + 2 3*z2 + 3 6*z2 + 6   z2 + 1]\\n[       1        5        3        1        1        2        1        5        3        1        1        2        3        1        3        1        4        4        1        2        1        2        4        4]\\n[       0 5*z2 + 1        0 5*z2 + 1   z2 + 3   z2 + 3        0 5*z2 + 1        0 5*z2 + 1   z2 + 3   z2 + 3        0 5*z2 + 1        0 5*z2 + 1   z2 + 3   z2 + 3   z2 + 3   z2 + 3   z2 + 3   z2 + 3   z2 + 3   z2 + 3]\\n[       0        0        0 4*z2 + 6        0 4*z2 + 6        0        0        0 3*z2 + 1        0 3*z2 + 1        0 4*z2 + 6        0 3*z2 + 1 4*z2 + 6 3*z2 + 1        0 4*z2 + 6        0 3*z2 + 1 4*z2 + 6 3*z2 + 1]\\n[       0 3*z2 + 6        0 2*z2 + 4 3*z2 + 6 2*z2 + 4        0 3*z2 + 6        0 2*z2 + 4 3*z2 + 6 2*z2 + 4        0 2*z2 + 4        0 2*z2 + 4 2*z2 + 4 2*z2 + 4 3*z2 + 6 2*z2 + 4 3*z2 + 6 2*z2 + 4 2*z2 + 4 2*z2 + 4]\\n[       1        2        1        2        2        2        1        2        1        2        2        2        1        2        1        2        2        2        2        2        2        2        2        2]\\n[4*z2 + 6 3*z2 + 1 2*z2 + 3 5*z2 + 4 5*z2 + 4 2*z2 + 3 3*z2 + 1 4*z2 + 6 5*z2 + 4 2*z2 + 3 2*z2 + 3 5*z2 + 4 5*z2 + 4 2*z2 + 3 2*z2 + 3 5*z2 + 4 4*z2 + 6 3*z2 + 1 2*z2 + 3 5*z2 + 4 5*z2 + 4 2*z2 + 3 3*z2 + 1 4*z2 + 6]\\n[       0        0 4*z2 + 1 3*z2 + 6 4*z2 + 1 3*z2 + 6        0        0 4*z2 + 1 3*z2 + 6 4*z2 + 1 3*z2 + 6 3*z2 + 6 4*z2 + 1 3*z2 + 6 4*z2 + 1        0        0 3*z2 + 6 4*z2 + 1 3*z2 + 6 4*z2 + 1        0        0]\\n[       0        0 3*z2 + 6 3*z2 + 6 4*z2 + 1 4*z2 + 1        0        0 4*z2 + 1 4*z2 + 1 3*z2 + 6 3*z2 + 6 3*z2 + 6 3*z2 + 6 4*z2 + 1 4*z2 + 1        0        0 4*z2 + 1 4*z2 + 1 3*z2 + 6 3*z2 + 6        0        0]\\n[4*z2 + 6 4*z2 + 6 5*z2 + 4 5*z2 + 4 5*z2 + 4 5*z2 + 4 4*z2 + 6 4*z2 + 6 5*z2 + 4 5*z2 + 4 5*z2 + 4 5*z2 + 4 5*z2 + 4 5*z2 + 4 5*z2 + 4 5*z2 + 4 4*z2 + 6 4*z2 + 6 5*z2 + 4 5*z2 + 4 5*z2 + 4 5*z2 + 4 4*z2 + 6 4*z2 + 6]\\n[       1        5        6        2        2        5        6        2        1        5        5        2        1        5        6        2        2        5        5        2        2        5        5        2]\\n[       0 5*z2 + 1        0 6*z2 + 4 2*z2 + 6   z2 + 3        0 2*z2 + 6        0   z2 + 3 5*z2 + 1 6*z2 + 4        0   z2 + 3        0 6*z2 + 4 6*z2 + 4   z2 + 3 5*z2 + 1 6*z2 + 4 2*z2 + 6   z2 + 3   z2 + 3 6*z2 + 4]\\n[       0        0        0 6*z2 + 1        0   z2 + 6        0        0        0 6*z2 + 1        0   z2 + 6        0   z2 + 6        0   z2 + 6 6*z2 + 1 6*z2 + 1        0 6*z2 + 1        0 6*z2 + 1   z2 + 6   z2 + 6]\\n[       0 3*z2 + 6        0 4*z2 + 1 5*z2 + 3 2*z2 + 4        0 4*z2 + 1        0 3*z2 + 6 2*z2 + 4 5*z2 + 3        0 3*z2 + 6        0 4*z2 + 1 5*z2 + 3 2*z2 + 4 2*z2 + 4 5*z2 + 3 5*z2 + 3 2*z2 + 4 2*z2 + 4 5*z2 + 3]\\n[       1        2        4        1        1        5        6        5        3        6        6        2        3        6        4        1        4        3        6        2        1        5        3        4]\\n[       0        0 2*z2 + 2 4*z2 + 4 5*z2 + 5 3*z2 + 3        0        0 2*z2 + 2 4*z2 + 4 5*z2 + 5 3*z2 + 3 5*z2 + 5 3*z2 + 3 5*z2 + 5 3*z2 + 3 6*z2 + 6 6*z2 + 6 2*z2 + 2 4*z2 + 4 2*z2 + 2 4*z2 + 4   z2 + 1   z2 + 1]\\n[       0        0        0        0 4*z2 + 6 3*z2 + 1        0        0        0        0 3*z2 + 1 4*z2 + 6        0        0        0        0 4*z2 + 6 3*z2 + 1 4*z2 + 6 3*z2 + 1 3*z2 + 1 4*z2 + 6 4*z2 + 6 3*z2 + 1]\\n[       0        0 5*z2 + 5 2*z2 + 2 3*z2 + 3 4*z2 + 4        0        0 2*z2 + 2 5*z2 + 5 4*z2 + 4 3*z2 + 3 5*z2 + 5 2*z2 + 2 2*z2 + 2 5*z2 + 5   z2 + 1 6*z2 + 6 3*z2 + 3 4*z2 + 4 4*z2 + 4 3*z2 + 3   z2 + 1 6*z2 + 6]\\n[       1        6        3        4        4        3        1        6        3        4        4        3        3        4        3        4        0        0        4        3        4        3        0        0]\\n[2*z2 + 5 5*z2 + 2 5*z2 + 2 2*z2 + 5 2*z2 + 5 5*z2 + 2 5*z2 + 2 2*z2 + 5 2*z2 + 5 5*z2 + 2 5*z2 + 2 2*z2 + 5 2*z2 + 5 5*z2 + 2 5*z2 + 2 2*z2 + 5 2*z2 + 5 5*z2 + 2 5*z2 + 2 2*z2 + 5 2*z2 + 5 5*z2 + 2 5*z2 + 2 2*z2 + 5]'"
      ]
     },
     "execution_count": 140,
     "metadata": {},
     "output_type": "execute_result"
    }
   ],
   "source": [
    "#converting the unitary DFT over finite fields to a complex matrix using the root of unity map\n",
    "U = unitary_dft(); U.str()"
   ]
  },
  {
   "cell_type": "code",
   "execution_count": 28,
   "id": "58cdb5f2-a153-4884-9aab-906d8f9464b5",
   "metadata": {},
   "outputs": [
    {
     "data": {
      "text/plain": [
       "True"
      ]
     },
     "execution_count": 28,
     "metadata": {},
     "output_type": "execute_result"
    }
   ],
   "source": [
    "#check that U is unitary over a finite field. .H is conjugate-transpose\n",
    "U*U.H == 1"
   ]
  },
  {
   "cell_type": "code",
   "execution_count": 141,
   "id": "741f25cc-52c7-43c1-8d7c-7fc148df3bdc",
   "metadata": {},
   "outputs": [],
   "source": [
    "#given a multiplicative generator `z` of the finite field, the discrete_log is the exponent of the generator\n",
    "#the discrete_log of zero is -infinity, which we set to -1 for convenience since all other values are nonnegative\n",
    "discrete_log = lambda F, x: x.log(F.multiplicative_generator()) if x != 0 else -1"
   ]
  },
  {
   "cell_type": "code",
   "execution_count": 142,
   "id": "0d5de1cd-1b8e-49b6-a959-0773c9c1314b",
   "metadata": {},
   "outputs": [],
   "source": [
    "#compute the discrete log of each entry of U\n",
    "log_U = U.apply_map(lambda x: discrete_log(F,x))"
   ]
  },
  {
   "cell_type": "code",
   "execution_count": 143,
   "id": "a1624dfe-11e0-45fd-af51-7d5d70b86315",
   "metadata": {},
   "outputs": [
    {
     "data": {
      "text/plain": [
       "24 x 24 dense matrix over Integer Ring (use the '.str()' method to see the entries)"
      ]
     },
     "execution_count": 143,
     "metadata": {},
     "output_type": "execute_result"
    }
   ],
   "source": [
    "log_U"
   ]
  },
  {
   "cell_type": "code",
   "execution_count": 185,
   "id": "425df9fe-be30-40e3-8aff-fa1348bc74f4",
   "metadata": {},
   "outputs": [],
   "source": [
    "\"\"\"\n",
    "plot the discrete log of a matrix valued in a finite field\n",
    "since log(0) = -infinity, we set this to -1, and color it black\n",
    "\n",
    "- F is the field\n",
    "- M is a matrix of discrete log values of elements of F\n",
    "\n",
    "BUG: this is not working for large splitting fields, when the matrix values are ~7 digits\n",
    "\"\"\"\n",
    "def plot_discrete_log(F, M):\n",
    "    import numpy as np\n",
    "    import matplotlib.pyplot as plt\n",
    "    from matplotlib.colors import ListedColormap, BoundaryNorm\n",
    "\n",
    "    cmap = plt.cm.hsv  # Get the HSV colormap\n",
    "    num_colors = min(F.order(), 256) #for large fields we can't use that many colors, set a cutoff\n",
    "    new_colors = np.vstack(([0, 0, 0, 1], cmap(np.linspace(0, 1, num_colors))))\n",
    "    custom_cmap = ListedColormap(new_colors) # create a new custom colormap\n",
    "    norm = BoundaryNorm([-1] + list(np.linspace(0, F.order()-1, num_colors)), custom_cmap.N) #map -1 to black\n",
    "\n",
    "    # Plotting the data\n",
    "    plt.imshow(M, cmap=custom_cmap, norm=norm, interpolation=\"nearest\")\n",
    "    plt.title(f\"discrete log of uDFT of S_{n} over F_{q**2}\", fontsize=16)\n",
    "    plt.colorbar()\n",
    "    plt.savefig(f\"plots/dft_matrix/discrete_log_uDFT_n={n}_q={q**2}.png\", dpi=300, bbox_inches=\"tight\")\n",
    "    plt.show()"
   ]
  },
  {
   "cell_type": "code",
   "execution_count": 186,
   "id": "dd212ab8-22f9-4968-954f-64a822d3e205",
   "metadata": {},
   "outputs": [
    {
     "data": {
      "image/png": "[encoded data removed]",
      "text/plain": [
       "<Figure size 640x480 with 2 Axes>"
      ]
     },
     "metadata": {},
     "output_type": "display_data"
    }
   ],
   "source": [
    "plot_discrete_log(F,log_U)"
   ]
  },
  {
   "cell_type": "code",
   "execution_count": 187,
   "id": "dbf3c83d-ea6e-4dcd-a491-332a715dcbe1",
   "metadata": {},
   "outputs": [],
   "source": [
    "#the map from modular representation theory to compute Brauer characters from F_q --> \\C giving roots of unity\n",
    "#note: Brauer character is the rep'n matrix eigenvalues (over a splitting field extension of F_q) mapped to \\C using Brauer map and summed\n",
    "#i.e. let \\alpha = g^k |--> \\exp(2*pi*i*k/(q-1))\n",
    "#i.e. F_q^* is cyclic of order q-1, mapping to (q-1)^th roots of unity in \\C\n",
    "brauer_map = lambda a, F: 0 if a == 0 else exp(2*pi*I*a.log(F.multiplicative_generator())/(F.order()-1))"
   ]
  },
  {
   "cell_type": "code",
   "execution_count": 188,
   "id": "913954c0-dfdf-4099-b9b2-7c59a5e6e767",
   "metadata": {},
   "outputs": [],
   "source": [
    "#complexify the uDFT matrix over F_q using the Brauer map\n",
    "U_complex = matrix(CC,U.apply_map(lambda a: brauer_map(a,F)))"
   ]
  },
  {
   "cell_type": "code",
   "execution_count": 189,
   "id": "2ce4d9b0-c891-40de-9e2d-92e941e05901",
   "metadata": {},
   "outputs": [],
   "source": [
    "#compute the Gram matrix, taking inner products of rows and columns w.r.t conjugate inner product\n",
    "#note: want this to be the identity matrix (so it would be unitary over \\C), but currently it is not quite\n",
    "#unitary matrices are required if they are to be used as operators in quantum computing\n",
    "gram = U_complex*U_complex.H"
   ]
  },
  {
   "cell_type": "code",
   "execution_count": 149,
   "id": "9e4e0a10-8c5f-42df-974b-0e729c6ba084",
   "metadata": {},
   "outputs": [],
   "source": [
    "#function to round each component of a complex number \n",
    "def round_complex(z, digits):\n",
    "    if z.imag_part():\n",
    "        return round(z.real_part(), digits) + round(z.imag_part(), digits) * I\n",
    "    return round(z, digits)"
   ]
  },
  {
   "cell_type": "code",
   "execution_count": 150,
   "id": "2ce34d19-f35e-486b-b373-1c77c4e5724f",
   "metadata": {},
   "outputs": [],
   "source": [
    "#round the (complex) Gram matrix to three decimal places\n",
    "gram_rounded = gram.apply_map(lambda u:round_complex(u,3))"
   ]
  },
  {
   "cell_type": "code",
   "execution_count": 201,
   "id": "cc3df8b2-4ee4-4643-8963-be7578c9485c",
   "metadata": {},
   "outputs": [],
   "source": [
    "#plot the complexified version of the uDFT matrix over a finite field\n",
    "def plot_arg_complex(U_complex, title):\n",
    "    U_arg = U_complex.apply_map(lambda x: arg(x))  # find the argument of each element\n",
    "    plot = matrix_plot(U_arg, cmap='hsv', colorbar=True, title=title)  # plot the matrix\n",
    "    filename = \"plots/dft_matrix/\" + title.replace(\" \", \"_\") + \".png\"\n",
    "    plot.save(filename, dpi=300)  # Save the plot as a PNG file with high resolution\n",
    "    return plot"
   ]
  },
  {
   "cell_type": "code",
   "execution_count": 202,
   "id": "daca587f-859b-42fb-9c22-08f9e377c953",
   "metadata": {},
   "outputs": [
    {
     "data": {
      "image/png": "[encoded data removed]",
      "text/plain": [
       "Graphics object consisting of 1 graphics primitive"
      ]
     },
     "execution_count": 202,
     "metadata": {},
     "output_type": "execute_result"
    }
   ],
   "source": [
    "#plot the complexified version of the uDFT matrix over a finite field\n",
    "plot_arg_complex(U_complex,title=f\"arg of complexified uDFT of S_{n} over F_{q**2}\")"
   ]
  },
  {
   "cell_type": "code",
   "execution_count": 173,
   "id": "1e1f300a-33e1-435d-9e15-8548b27ea103",
   "metadata": {},
   "outputs": [
    {
     "data": {
      "text/plain": [
       "True"
      ]
     },
     "execution_count": 173,
     "metadata": {},
     "output_type": "execute_result"
    }
   ],
   "source": [
    "#check that Gram matrix is conjugate symmetric (should be since it is U*U.H)\n",
    "gram_rounded == gram_rounded.H"
   ]
  },
  {
   "cell_type": "code",
   "execution_count": 203,
   "id": "89edaab1-11b3-4425-b764-25a301e78785",
   "metadata": {},
   "outputs": [
    {
     "data": {
      "image/png": "[encoded data removed]",
      "text/plain": [
       "Graphics object consisting of 1 graphics primitive"
      ]
     },
     "execution_count": 203,
     "metadata": {},
     "output_type": "execute_result"
    }
   ],
   "source": [
    "#plot the result of U_complex*U_complex.H to see how far it is from being unitary over the complex numbers\n",
    "plot_arg_complex(gram_rounded, title=f\"arg of gram matrix of complexified uDFT of S_{n} over F_{q**2}\")"
   ]
  },
  {
   "cell_type": "code",
   "execution_count": 155,
   "id": "187d0d5b-3f3c-4d75-866d-36e3a509b54d",
   "metadata": {},
   "outputs": [
    {
     "data": {
      "text/plain": [
       "[6, 5*z2 + 3, 4*z14^13 + 6*z14^12 + 4*z14^11 + 5*z14^10 + 4*z14^8 + 3*z14^6 + 3*z14^5 + 5*z14^4 + z14^3 + 4*z14^2 + 4*z14 + 1, 2*z14^13 + z14^12 + 2*z14^11 + 5*z14^10 + 6*z14^8 + 2*z14^7 + 6*z14^6 + 5*z14^5 + 4*z14^4 + 3*z14^3 + 3*z14^2 + 4*z14 + 2, z14^13 + 2*z14^12 + 2*z14^11 + 4*z14^10 + 4*z14^9 + 2*z14^6 + z14^3 + 2*z14 + 3, z14^13 + 4*z14^12 + 3*z14^11 + 5*z14^10 + z14^9 + 5*z14^6 + 4*z14^5 + 5*z14^4 + 5*z14^3 + z14^2 + 5*z14 + 3, 3*z14^13 + 6*z14^12 + z14^11 + 3*z14^10 + 4*z14^9 + 6*z14^7 + 5*z14^6 + 3*z14^5 + 6*z14^4 + 2*z14^3 + 4*z14 + 5, 2*z14^13 + 2*z14^12 + z14^11 + 3*z14^9 + 3*z14^8 + 3*z14^7 + 5*z14^5 + 4*z14^4 + 2*z14^3 + 4*z14^2 + 4*z14 + 6, 6*z14^13 + 3*z14^12 + 6*z14^11 + 2*z14^9 + 4*z14^8 + 5*z14^6 + 4*z14^5 + z14^4 + 3*z14^3 + 3*z14^2, 6*z30^29 + 3*z30^28 + 6*z30^27 + 2*z30^25 + 3*z30^24 + 3*z30^23 + 5*z30^22 + 3*z30^21 + 4*z30^20 + 4*z30^19 + 2*z30^17 + 6*z30^16 + 4*z30^15 + 6*z30^14 + 4*z30^12 + 3*z30^11 + 4*z30^10 + 6*z30^9 + 6*z30^8 + 5*z30^7 + 5*z30^6 + 4*z30^5 + 5*z30^4 + 2*z30^3 + 3*z30^2 + 1, z30^29 + 6*z30^28 + 4*z30^26 + 2*z30^25 + 6*z30^24 + 6*z30^23 + 6*z30^22 + 3*z30^21 + z30^20 + 4*z30^19 + 6*z30^18 + 2*z30^17 + z30^16 + 3*z30^15 + 5*z30^13 + 2*z30^12 + 5*z30^11 + 6*z30^10 + 6*z30^9 + 2*z30^8 + 2*z30^6 + 5*z30^5 + 2*z30^4 + 6*z30^3 + 3*z30^2 + z30 + 2, 2*z30^29 + 4*z30^28 + 5*z30^27 + z30^26 + 3*z30^25 + 5*z30^24 + 5*z30^23 + 6*z30^22 + 2*z30^21 + z30^20 + 4*z30^19 + 3*z30^17 + 3*z30^16 + 4*z30^14 + 2*z30^13 + z30^12 + 3*z30^10 + 5*z30^9 + 2*z30^8 + 2*z30^7 + 6*z30^6 + 5*z30^5 + 3*z30^4 + 4*z30^3 + 4*z30^2 + 3*z30 + 2, 4*z30^29 + 5*z30^28 + 6*z30^27 + 2*z30^26 + 2*z30^25 + 5*z30^24 + z30^23 + 6*z30^22 + 6*z30^20 + 3*z30^19 + z30^18 + 4*z30^17 + 4*z30^16 + z30^15 + z30^14 + 6*z30^13 + 3*z30^12 + 3*z30^11 + 2*z30^10 + z30^9 + 2*z30^8 + 5*z30^7 + 2*z30^6 + 6*z30^5 + 4*z30^3 + z30^2 + 4*z30 + 2, 6*z30^29 + 6*z30^28 + 6*z30^27 + z30^26 + 5*z30^25 + 4*z30^24 + 2*z30^23 + 5*z30^22 + 3*z30^21 + 6*z30^20 + z30^18 + 2*z30^17 + 3*z30^16 + 4*z30^15 + 6*z30^14 + 3*z30^13 + 4*z30^12 + 2*z30^11 + 5*z30^10 + z30^8 + 2*z30^7 + 5*z30^6 + 6*z30^4 + 6*z30^3 + 4*z30 + 2, z30^29 + 6*z30^28 + 2*z30^27 + 5*z30^26 + 6*z30^25 + 2*z30^24 + 3*z30^23 + 5*z30^21 + 4*z30^19 + 6*z30^18 + z30^17 + 4*z30^16 + 2*z30^15 + 4*z30^14 + z30^13 + 5*z30^12 + 4*z30^11 + 4*z30^10 + 6*z30^9 + 6*z30^8 + 6*z30^7 + 2*z30^6 + 3*z30^4 + 5*z30^3 + z30^2 + z30 + 3, 4*z30^29 + 6*z30^27 + 6*z30^26 + 4*z30^25 + z30^24 + z30^22 + 6*z30^21 + 6*z30^20 + 5*z30^19 + 5*z30^17 + 4*z30^16 + 3*z30^15 + 3*z30^14 + 6*z30^13 + 6*z30^12 + z30^11 + 2*z30^10 + 4*z30^9 + 5*z30^7 + 5*z30^6 + 3*z30^4 + 5*z30^3 + 2*z30 + 3, 4*z30^29 + z30^28 + 2*z30^27 + 6*z30^24 + 2*z30^22 + 4*z30^21 + 5*z30^20 + 5*z30^19 + 2*z30^17 + z30^16 + z30^13 + 4*z30^12 + 6*z30^11 + 2*z30^10 + 5*z30^9 + 2*z30^8 + 2*z30^7 + z30^6 + z30^5 + 6*z30^4 + z30^3 + 2*z30^2 + 4, 6*z30^29 + 6*z30^28 + 4*z30^27 + 6*z30^26 + z30^25 + z30^24 + 5*z30^23 + 5*z30^22 + 4*z30^21 + 3*z30^20 + 6*z30^19 + 5*z30^18 + 6*z30^17 + z30^16 + z30^15 + 5*z30^14 + 5*z30^13 + 4*z30^12 + 2*z30^11 + 3*z30^10 + 2*z30^8 + 5*z30^7 + z30^6 + 3*z30^4 + 5*z30^3 + 4, 4*z30^29 + 4*z30^28 + 6*z30^27 + 3*z30^26 + 4*z30^25 + z30^24 + 6*z30^22 + 3*z30^21 + 6*z30^20 + 4*z30^19 + z30^18 + 5*z30^17 + 4*z30^16 + 3*z30^15 + 4*z30^13 + z30^12 + 3*z30^11 + 3*z30^10 + 3*z30^9 + z30^8 + 5*z30^7 + z30^5 + 6*z30^4 + 5*z30^3 + z30^2 + 3*z30 + 5, z30^29 + 3*z30^27 + 2*z30^26 + 2*z30^24 + 2*z30^23 + 5*z30^22 + 5*z30^21 + 5*z30^20 + 3*z30^19 + 5*z30^18 + 3*z30^16 + 2*z30^14 + 5*z30^13 + 3*z30^12 + 5*z30^11 + 4*z30^10 + 4*z30^9 + 6*z30^8 + 6*z30^7 + 5*z30^6 + 6*z30^5 + z30^3 + 5*z30^2 + 4*z30 + 5, z30^29 + 4*z30^27 + 2*z30^26 + 4*z30^25 + z30^24 + 5*z30^23 + 6*z30^21 + 4*z30^20 + 4*z30^19 + 3*z30^18 + 4*z30^17 + z30^16 + z30^14 + 3*z30^13 + 4*z30^12 + z30^11 + 2*z30^9 + z30^8 + 4*z30^7 + z30^6 + z30^3 + 5*z30 + 6, 6*z30^28 + 6*z30^27 + 5*z30^26 + 2*z30^25 + 3*z30^23 + 4*z30^21 + z30^20 + 3*z30^19 + 2*z30^18 + 6*z30^17 + 3*z30^16 + 2*z30^15 + 5*z30^14 + 3*z30^13 + 4*z30^9 + 6*z30^8 + 2*z30^7 + 4*z30^6 + 3*z30^5 + z30^4 + z30^2 + 6*z30 + 1, 5*z30^28 + 2*z30^24 + z30^21 + 2*z30^20 + 4*z30^19 + 3*z30^18 + 4*z30^17 + z30^16 + z30^15 + 5*z30^14 + 4*z30^12 + 5*z30^11 + 4*z30^9 + 6*z30^8 + 3*z30^7 + 4*z30^5 + 4*z30^4 + 6*z30^3 + 2*z30 + 2, 4*z30^28 + z30^27 + 2*z30^26 + 5*z30^25 + z30^24 + 4*z30^23 + 6*z30^22 + 3*z30^21 + 3*z30^20 + 5*z30^19 + z30^18 + 6*z30^15 + z30^14 + z30^12 + 6*z30^11 + z30^10 + 4*z30^9 + 5*z30^8 + z30^7 + 2*z30^6 + 3*z30^5 + 2*z30^4 + 3*z30^3 + 5*z30^2 + 4*z30 + 4]"
      ]
     },
     "execution_count": 155,
     "metadata": {},
     "output_type": "execute_result"
    }
   ],
   "source": [
    "#compute the eigenvalues of the uDFT matrix\n",
    "eigenvalues = U.eigenvalues(); eigenvalues"
   ]
  },
  {
   "cell_type": "code",
   "execution_count": 157,
   "id": "c61d4b5b-06fb-459a-af3f-a2772a72ad59",
   "metadata": {},
   "outputs": [],
   "source": [
    "#compute the maximum degree required for the eigenvalues\n",
    "#this should agree with the splitting field degree, but sometimes it doesn't\n",
    "max_deg_eigs = max([eig.minpoly().degree() for eig in eigenvalues])"
   ]
  },
  {
   "cell_type": "code",
   "execution_count": 158,
   "id": "787c4350-2f3a-4e24-8e48-b664ea502f44",
   "metadata": {},
   "outputs": [
    {
     "data": {
      "text/plain": [
       "True"
      ]
     },
     "execution_count": 158,
     "metadata": {},
     "output_type": "execute_result"
    }
   ],
   "source": [
    "#compute the multiplicity of each eigenvalue. check if all eigenvalues are distinct\n",
    "from collections import Counter\n",
    "multiplicities = Counter(eigenvalues)\n",
    "all_unique = all(count == 1 for count in multiplicities.values()); all_unique"
   ]
  },
  {
   "cell_type": "code",
   "execution_count": 159,
   "id": "577cf124-887a-452b-ad8e-d218ab5a8cbb",
   "metadata": {},
   "outputs": [
    {
     "data": {
      "text/plain": [
       "x^24 + z2*x^23 + (2*z2 + 2)*x^22 + (4*z2 + 4)*x^21 + (2*z2 + 6)*x^20 + 4*z2*x^19 + 2*z2*x^18 + (4*z2 + 3)*x^17 + (4*z2 + 6)*x^16 + (5*z2 + 2)*x^15 + 2*z2*x^14 + (6*z2 + 2)*x^13 + 5*z2*x^11 + (z2 + 5)*x^10 + (z2 + 1)*x^9 + z2*x^8 + (5*z2 + 5)*x^7 + (z2 + 5)*x^6 + (2*z2 + 3)*x^5 + 2*x^4 + (6*z2 + 1)*x^3 + (3*z2 + 4)*x^2 + (4*z2 + 6)*x + z2 + 3"
      ]
     },
     "execution_count": 159,
     "metadata": {},
     "output_type": "execute_result"
    }
   ],
   "source": [
    "#compute the charpoly of the uDFT matrix \n",
    "charpoly = U.minimal_polynomial(); charpoly"
   ]
  },
  {
   "cell_type": "code",
   "execution_count": 160,
   "id": "9ec1d71f-fd57-4261-9129-a634f0184e24",
   "metadata": {},
   "outputs": [
    {
     "name": "stdout",
     "output_type": "stream",
     "text": [
      "field containing all eigenvalues: K = Finite Field in z30 of size 7^30\n",
      "splitting field: L = Finite Field in a of size 7^210\n",
      "x^30 + x^22 + 4*x^21 + 4*x^20 + x^19 + 4*x^18 + x^16 + 2*x^15 + 3*x^14 + 6*x^13 + 5*x^12 + 2*x^11 + 3*x^10 + 3*x^9 + 2*x^8 + 4*x^7 + 2*x^6 + 3*x^5 + x^3 + 5*x^2 + 2*x + 3\n"
     ]
    }
   ],
   "source": [
    "#compute a splitting field of the characteristic polynomial\n",
    "K = GF(q**max_deg_eigs); print(f\"field containing all eigenvalues: K = {K}\")\n",
    "L = charpoly.splitting_field('a'); print(f\"splitting field: L = {L}\")\n",
    "print(K.multiplicative_generator().minimal_polynomial())"
   ]
  },
  {
   "cell_type": "code",
   "execution_count": 161,
   "id": "a8d24cd3-3d8e-4e60-ab01-63a3fac92936",
   "metadata": {},
   "outputs": [],
   "source": [
    "#compute the eigenvalues over a specific field K rather than using the algebraic closure\n",
    "eigenvalues_K = matrix(K,U).eigenvalues(extend=False)"
   ]
  },
  {
   "cell_type": "code",
   "execution_count": 162,
   "id": "a43cd6e7-9147-4709-bd33-213d71716b28",
   "metadata": {},
   "outputs": [
    {
     "data": {
      "text/plain": [
       "[11269670145346129043931624,\n",
       " 19569211138526239672164486,\n",
       " 20790904065162128909891334,\n",
       " 6379196630969910098252790,\n",
       " 424304164595145487956966,\n",
       " 14087087681682661304914530,\n",
       " 14785335754071908710154310,\n",
       " 13690777798835597759922054,\n",
       " 3222562647371267985937254,\n",
       " 16861256861612106119861862,\n",
       " 17207243712868805688146454,\n",
       " 22520742049785640274165718,\n",
       " 21628026486267985216684278,\n",
       " 12239053578710904245803398,\n",
       " 4483986111792702630829206,\n",
       " 130187686346324695882710,\n",
       " 9199351174957929468236070]"
      ]
     },
     "execution_count": 162,
     "metadata": {},
     "output_type": "execute_result"
    }
   ],
   "source": [
    "#compute the discrete log of the eigenvalues\n",
    "log_eigenvalues = list(map(lambda x: discrete_log(K,x), eigenvalues_K)); log_eigenvalues"
   ]
  },
  {
   "cell_type": "code",
   "execution_count": 163,
   "id": "c41fcb01-39a8-4e24-a828-45a0f19bf842",
   "metadata": {},
   "outputs": [],
   "source": [
    "#compute the complexified eigenvalue\n",
    "complex_eigenvalues = [brauer_map(eig,K) for eig in eigenvalues_K]"
   ]
  },
  {
   "cell_type": "code",
   "execution_count": 164,
   "id": "997124ab-f397-42cf-a36d-fc1670e27bf0",
   "metadata": {},
   "outputs": [],
   "source": [
    "import matplotlib.pyplot as plt\n",
    "import numpy as np\n",
    "\n",
    "# Extract real and imaginary parts for plotting\n",
    "real_parts = [eig.real() for eig in complex_eigenvalues]\n",
    "imaginary_parts = [eig.imag() for eig in complex_eigenvalues]"
   ]
  },
  {
   "cell_type": "code",
   "execution_count": 165,
   "id": "92b0d6ae-51a8-43d2-9ead-f4b40d89b9ac",
   "metadata": {},
   "outputs": [
    {
     "data": {
      "image/png": "[encoded data removed]",
      "text/plain": [
       "<Figure size 600x600 with 1 Axes>"
      ]
     },
     "metadata": {},
     "output_type": "display_data"
    }
   ],
   "source": [
    "# Plotting the eigenvalues on the complex plane\n",
    "plt.figure(figsize=(6,6))\n",
    "plt.scatter(real_parts, imaginary_parts, color='blue', label=\"Eigenvalues\")\n",
    "plt.axhline(0, color='black',linewidth=0.5)\n",
    "plt.axvline(0, color='black',linewidth=0.5)\n",
    "plt.gca().set_aspect('equal', adjustable='box')\n",
    "plt.title(f'Eigenvalues of uDFT of Symmetric Group over F_{q**2} for n={n}')\n",
    "plt.xlabel('Real Part')\n",
    "plt.ylabel('Imaginary Part')\n",
    "plt.grid(True)\n",
    "plt.show()"
   ]
  },
  {
   "cell_type": "code",
   "execution_count": 166,
   "id": "f4558cc4-ca09-4785-affd-9da688591bb2",
   "metadata": {},
   "outputs": [],
   "source": [
    "#compute the eigenvectors over a splitting field\n",
    "D, P = matrix(L,U).eigenmatrix_right()"
   ]
  },
  {
   "cell_type": "code",
   "execution_count": 179,
   "id": "25a882fa-3dd4-4997-857d-bc6b553fc66a",
   "metadata": {},
   "outputs": [],
   "source": [
    "def write_matrix_to_csv(P,filename):\n",
    "    \"\"\"\n",
    "    dump the eigenvector matrix into a .csv file\n",
    "    \"\"\"\n",
    "    with open(filename, \"w\") as f:\n",
    "        for row in P:\n",
    "            f.write(\",\".join(map(str, row)) + \"\\n\")"
   ]
  },
  {
   "cell_type": "code",
   "execution_count": 180,
   "id": "852531ea-24de-4d96-8bd6-192b399c04b8",
   "metadata": {},
   "outputs": [],
   "source": [
    "write_matrix_to_csv(P,filename=f\"data/eigenvectors_unitary_dft_symmetric_group_finite_field_n={n}_q={q}.csv\")"
   ]
  },
  {
   "cell_type": "code",
   "execution_count": 174,
   "id": "c302f2a7-4bda-4203-8ab5-dca8f1f173d4",
   "metadata": {},
   "outputs": [
    {
     "ename": "KeyboardInterrupt",
     "evalue": "",
     "output_type": "error",
     "traceback": [
      "\u001b[0;31m---------------------------------------------------------------------------\u001b[0m",
      "\u001b[0;31mKeyboardInterrupt\u001b[0m                         Traceback (most recent call last)",
      "Cell \u001b[0;32mIn[174], line 2\u001b[0m\n\u001b[1;32m      1\u001b[0m \u001b[38;5;66;03m#take the discrete log of the eigenvector matrix\u001b[39;00m\n\u001b[0;32m----> 2\u001b[0m log_P \u001b[38;5;241m=\u001b[39m P\u001b[38;5;241m.\u001b[39mapply_map(\u001b[38;5;28;01mlambda\u001b[39;00m x: discrete_log(L,x)); log_P\n",
      "File \u001b[0;32m/private/var/tmp/sage-10.5-current/local/var/lib/sage/venv-python3.12.5/lib/python3.12/site-packages/sage/matrix/matrix2.pyx:2927\u001b[0m, in \u001b[0;36msage.matrix.matrix2.Matrix.apply_map (build/cythonized/sage/matrix/matrix2.c:32245)\u001b[0;34m()\u001b[0m\n\u001b[1;32m   2925\u001b[0m         R = sage.structure.sequence.Sequence(values.values()).universe()\n\u001b[1;32m   2926\u001b[0m else:\n\u001b[0;32m-> 2927\u001b[0m     values = [phi(v) for v in self.list()]\n\u001b[1;32m   2928\u001b[0m     if R is None:\n\u001b[1;32m   2929\u001b[0m         R = sage.structure.sequence.Sequence(values).universe()\n",
      "Cell \u001b[0;32mIn[174], line 2\u001b[0m, in \u001b[0;36m<lambda>\u001b[0;34m(x)\u001b[0m\n\u001b[1;32m      1\u001b[0m \u001b[38;5;66;03m#take the discrete log of the eigenvector matrix\u001b[39;00m\n\u001b[0;32m----> 2\u001b[0m log_P \u001b[38;5;241m=\u001b[39m P\u001b[38;5;241m.\u001b[39mapply_map(\u001b[38;5;28;01mlambda\u001b[39;00m x: \u001b[43mdiscrete_log\u001b[49m\u001b[43m(\u001b[49m\u001b[43mL\u001b[49m\u001b[43m,\u001b[49m\u001b[43mx\u001b[49m\u001b[43m)\u001b[49m); log_P\n",
      "Cell \u001b[0;32mIn[141], line 3\u001b[0m, in \u001b[0;36m<lambda>\u001b[0;34m(F, x)\u001b[0m\n\u001b[1;32m      1\u001b[0m \u001b[38;5;66;03m#given a multiplicative generator `z` of the finite field, the discrete_log is the exponent of the generator\u001b[39;00m\n\u001b[1;32m      2\u001b[0m \u001b[38;5;66;03m#the discrete_log of zero is -infinity, which we set to -1 for convenience since all other values are nonnegative\u001b[39;00m\n\u001b[0;32m----> 3\u001b[0m discrete_log \u001b[38;5;241m=\u001b[39m \u001b[38;5;28;01mlambda\u001b[39;00m F, x: \u001b[43mx\u001b[49m\u001b[38;5;241;43m.\u001b[39;49m\u001b[43mlog\u001b[49m\u001b[43m(\u001b[49m\u001b[43mF\u001b[49m\u001b[38;5;241;43m.\u001b[39;49m\u001b[43mmultiplicative_generator\u001b[49m\u001b[43m(\u001b[49m\u001b[43m)\u001b[49m\u001b[43m)\u001b[49m \u001b[38;5;28;01mif\u001b[39;00m x \u001b[38;5;241m!=\u001b[39m Integer(\u001b[38;5;241m0\u001b[39m) \u001b[38;5;28;01melse\u001b[39;00m \u001b[38;5;241m-\u001b[39mInteger(\u001b[38;5;241m1\u001b[39m)\n",
      "File \u001b[0;32m/private/var/tmp/sage-10.5-current/local/var/lib/sage/venv-python3.12.5/lib/python3.12/site-packages/sage/rings/finite_rings/element_pari_ffelt.pyx:1193\u001b[0m, in \u001b[0;36msage.rings.finite_rings.element_pari_ffelt.FiniteFieldElement_pari_ffelt.log (build/cythonized/sage/rings/finite_rings/element_pari_ffelt.c:15248)\u001b[0;34m()\u001b[0m\n\u001b[1;32m   1191\u001b[0m # by default that the base generates the entire multiplicative group.\n\u001b[1;32m   1192\u001b[0m cdef GEN x, base_order\n\u001b[0;32m-> 1193\u001b[0m sig_on()\n\u001b[1;32m   1194\u001b[0m if order is None:\n\u001b[1;32m   1195\u001b[0m     base_order = FF_order((<FiniteFieldElement_pari_ffelt>base).val, NULL)\n",
      "\u001b[0;31mKeyboardInterrupt\u001b[0m: "
     ]
    }
   ],
   "source": [
    "#take the discrete log of the eigenvector matrix\n",
    "log_P = P.apply_map(lambda x: discrete_log(L,x)); log_P"
   ]
  },
  {
   "cell_type": "code",
   "execution_count": 169,
   "id": "0b3f2964-f2a2-44bb-ab85-70a176f10929",
   "metadata": {},
   "outputs": [
    {
     "ename": "ValueError",
     "evalue": "Maximum allowed size exceeded",
     "output_type": "error",
     "traceback": [
      "\u001b[0;31m---------------------------------------------------------------------------\u001b[0m",
      "\u001b[0;31mValueError\u001b[0m                                Traceback (most recent call last)",
      "Cell \u001b[0;32mIn[169], line 2\u001b[0m\n\u001b[1;32m      1\u001b[0m \u001b[38;5;66;03m#plot the discrete log of the eigenvector matrix P\u001b[39;00m\n\u001b[0;32m----> 2\u001b[0m \u001b[43mplot_discrete_log\u001b[49m\u001b[43m(\u001b[49m\u001b[43mL\u001b[49m\u001b[43m,\u001b[49m\u001b[43mlog_P\u001b[49m\u001b[43m)\u001b[49m\n",
      "Cell \u001b[0;32mIn[144], line 17\u001b[0m, in \u001b[0;36mplot_discrete_log\u001b[0;34m(F, M)\u001b[0m\n\u001b[1;32m     15\u001b[0m cmap \u001b[38;5;241m=\u001b[39m plt\u001b[38;5;241m.\u001b[39mcm\u001b[38;5;241m.\u001b[39mhsv  \u001b[38;5;66;03m# Get the HSV colormap\u001b[39;00m\n\u001b[1;32m     16\u001b[0m num_colors \u001b[38;5;241m=\u001b[39m \u001b[38;5;28mmax\u001b[39m(F\u001b[38;5;241m.\u001b[39morder(), Integer(\u001b[38;5;241m256\u001b[39m)) \u001b[38;5;66;03m#for large fields we can't use that many colors, set a cutoff\u001b[39;00m\n\u001b[0;32m---> 17\u001b[0m new_colors \u001b[38;5;241m=\u001b[39m np\u001b[38;5;241m.\u001b[39mvstack(([Integer(\u001b[38;5;241m0\u001b[39m), Integer(\u001b[38;5;241m0\u001b[39m), Integer(\u001b[38;5;241m0\u001b[39m), Integer(\u001b[38;5;241m1\u001b[39m)], cmap(\u001b[43mnp\u001b[49m\u001b[38;5;241;43m.\u001b[39;49m\u001b[43mlinspace\u001b[49m\u001b[43m(\u001b[49m\u001b[43mInteger\u001b[49m\u001b[43m(\u001b[49m\u001b[38;5;241;43m0\u001b[39;49m\u001b[43m)\u001b[49m\u001b[43m,\u001b[49m\u001b[43m \u001b[49m\u001b[43mInteger\u001b[49m\u001b[43m(\u001b[49m\u001b[38;5;241;43m1\u001b[39;49m\u001b[43m)\u001b[49m\u001b[43m,\u001b[49m\u001b[43m \u001b[49m\u001b[43mnum_colors\u001b[49m\u001b[43m)\u001b[49m)))\n\u001b[1;32m     18\u001b[0m custom_cmap \u001b[38;5;241m=\u001b[39m ListedColormap(new_colors) \u001b[38;5;66;03m# create a new custom colormap\u001b[39;00m\n\u001b[1;32m     19\u001b[0m norm \u001b[38;5;241m=\u001b[39m BoundaryNorm([\u001b[38;5;241m-\u001b[39mInteger(\u001b[38;5;241m1\u001b[39m)] \u001b[38;5;241m+\u001b[39m \u001b[38;5;28mlist\u001b[39m(np\u001b[38;5;241m.\u001b[39mlinspace(Integer(\u001b[38;5;241m0\u001b[39m), F\u001b[38;5;241m.\u001b[39morder()\u001b[38;5;241m-\u001b[39mInteger(\u001b[38;5;241m1\u001b[39m), num_colors)), custom_cmap\u001b[38;5;241m.\u001b[39mN) \u001b[38;5;66;03m#map -1 to black\u001b[39;00m\n",
      "File \u001b[0;32m/private/var/tmp/sage-10.5-current/local/var/lib/sage/venv-python3.12.5/lib/python3.12/site-packages/numpy/core/function_base.py:140\u001b[0m, in \u001b[0;36mlinspace\u001b[0;34m(start, stop, num, endpoint, retstep, dtype, axis)\u001b[0m\n\u001b[1;32m    137\u001b[0m     integer_dtype \u001b[38;5;241m=\u001b[39m _nx\u001b[38;5;241m.\u001b[39missubdtype(dtype, _nx\u001b[38;5;241m.\u001b[39minteger)\n\u001b[1;32m    139\u001b[0m delta \u001b[38;5;241m=\u001b[39m stop \u001b[38;5;241m-\u001b[39m start\n\u001b[0;32m--> 140\u001b[0m y \u001b[38;5;241m=\u001b[39m \u001b[43m_nx\u001b[49m\u001b[38;5;241;43m.\u001b[39;49m\u001b[43marange\u001b[49m\u001b[43m(\u001b[49m\u001b[38;5;241;43m0\u001b[39;49m\u001b[43m,\u001b[49m\u001b[43m \u001b[49m\u001b[43mnum\u001b[49m\u001b[43m,\u001b[49m\u001b[43m \u001b[49m\u001b[43mdtype\u001b[49m\u001b[38;5;241;43m=\u001b[39;49m\u001b[43mdt\u001b[49m\u001b[43m)\u001b[49m\u001b[38;5;241m.\u001b[39mreshape((\u001b[38;5;241m-\u001b[39m\u001b[38;5;241m1\u001b[39m,) \u001b[38;5;241m+\u001b[39m (\u001b[38;5;241m1\u001b[39m,) \u001b[38;5;241m*\u001b[39m ndim(delta))\n\u001b[1;32m    141\u001b[0m \u001b[38;5;66;03m# In-place multiplication y *= delta/div is faster, but prevents the multiplicant\u001b[39;00m\n\u001b[1;32m    142\u001b[0m \u001b[38;5;66;03m# from overriding what class is produced, and thus prevents, e.g. use of Quantities,\u001b[39;00m\n\u001b[1;32m    143\u001b[0m \u001b[38;5;66;03m# see gh-7142. Hence, we multiply in place only for standard scalar types.\u001b[39;00m\n\u001b[1;32m    144\u001b[0m \u001b[38;5;28;01mif\u001b[39;00m div \u001b[38;5;241m>\u001b[39m \u001b[38;5;241m0\u001b[39m:\n",
      "\u001b[0;31mValueError\u001b[0m: Maximum allowed size exceeded"
     ]
    }
   ],
   "source": [
    "#plot the discrete log of the eigenvector matrix P\n",
    "plot_discrete_log(L,log_P)"
   ]
  },
  {
   "cell_type": "code",
   "execution_count": 175,
   "id": "67a4f9ac-a80e-4535-bab2-f2c041e16291",
   "metadata": {},
   "outputs": [],
   "source": [
    "def dump_discrete_log(L, P):\n",
    "    \"\"\"\n",
    "    - compute the discrete log of each entry of P, the eigenvector matrix of the uDFT of S_n over F_{q^2}\n",
    "    - write the resulting matrix to a comma separated value file\n",
    "    - include a progress bar since computing discrete logs for large fields takes a long time\n",
    "    \"\"\"\n",
    "    total = P.nrows() * P.ncols()\n",
    "    count = 0\n",
    "    filename = f\"data/discrete_log_dft_symmetric_group_finite_field_eigenvector_matrix_n={n}_q={q}.csv\"\n",
    "    with open(filename, \"w\") as f:\n",
    "        for i in range(P.nrows()):\n",
    "            for j in range(P.ncols()):\n",
    "                log_value = discrete_log(L, P[i, j])\n",
    "                f.write(str(log_value))\n",
    "                if j != P.ncols()-1:\n",
    "                    f.write(\",\")\n",
    "                count += 1\n",
    "                # Print progress as a percentage\n",
    "                progress = float(count) / total * 100\n",
    "                print(f\"Progress: {progress:.2f}%\\n\", end=\"\")\n",
    "            f.write(\"\\n\")\n",
    "    return \"done\""
   ]
  },
  {
   "cell_type": "code",
   "execution_count": 176,
   "id": "c62f8f4f-2da2-48ee-a4a6-2b93f0d631a9",
   "metadata": {},
   "outputs": [
    {
     "name": "stdout",
     "output_type": "stream",
     "text": [
      "Progress: 0.17%\n",
      "Progress: 0.35%\n",
      "Progress: 0.52%\n",
      "Progress: 0.69%\n",
      "Progress: 0.87%\n",
      "Progress: 1.04%\n",
      "Progress: 1.22%\n",
      "Progress: 1.39%\n",
      "Progress: 1.56%\n",
      "Progress: 1.74%\n",
      "Progress: 1.91%\n",
      "Progress: 2.08%\n"
     ]
    },
    {
     "ename": "KeyboardInterrupt",
     "evalue": "",
     "output_type": "error",
     "traceback": [
      "\u001b[0;31m---------------------------------------------------------------------------\u001b[0m",
      "\u001b[0;31mKeyboardInterrupt\u001b[0m                         Traceback (most recent call last)",
      "Cell \u001b[0;32mIn[176], line 1\u001b[0m\n\u001b[0;32m----> 1\u001b[0m \u001b[43mdump_discrete_log\u001b[49m\u001b[43m(\u001b[49m\u001b[43mL\u001b[49m\u001b[43m,\u001b[49m\u001b[43m \u001b[49m\u001b[43mP\u001b[49m\u001b[43m)\u001b[49m\n",
      "Cell \u001b[0;32mIn[175], line 13\u001b[0m, in \u001b[0;36mdump_discrete_log\u001b[0;34m(L, P)\u001b[0m\n\u001b[1;32m     11\u001b[0m \u001b[38;5;28;01mfor\u001b[39;00m i \u001b[38;5;129;01min\u001b[39;00m \u001b[38;5;28mrange\u001b[39m(P\u001b[38;5;241m.\u001b[39mnrows()):\n\u001b[1;32m     12\u001b[0m     \u001b[38;5;28;01mfor\u001b[39;00m j \u001b[38;5;129;01min\u001b[39;00m \u001b[38;5;28mrange\u001b[39m(P\u001b[38;5;241m.\u001b[39mncols()):\n\u001b[0;32m---> 13\u001b[0m         log_value \u001b[38;5;241m=\u001b[39m \u001b[43mdiscrete_log\u001b[49m\u001b[43m(\u001b[49m\u001b[43mL\u001b[49m\u001b[43m,\u001b[49m\u001b[43m \u001b[49m\u001b[43mP\u001b[49m\u001b[43m[\u001b[49m\u001b[43mi\u001b[49m\u001b[43m,\u001b[49m\u001b[43m \u001b[49m\u001b[43mj\u001b[49m\u001b[43m]\u001b[49m\u001b[43m)\u001b[49m\n\u001b[1;32m     14\u001b[0m         f\u001b[38;5;241m.\u001b[39mwrite(\u001b[38;5;28mstr\u001b[39m(log_value))\n\u001b[1;32m     15\u001b[0m         \u001b[38;5;28;01mif\u001b[39;00m j \u001b[38;5;241m!=\u001b[39m P\u001b[38;5;241m.\u001b[39mncols()\u001b[38;5;241m-\u001b[39mInteger(\u001b[38;5;241m1\u001b[39m):\n",
      "Cell \u001b[0;32mIn[141], line 3\u001b[0m, in \u001b[0;36m<lambda>\u001b[0;34m(F, x)\u001b[0m\n\u001b[1;32m      1\u001b[0m \u001b[38;5;66;03m#given a multiplicative generator `z` of the finite field, the discrete_log is the exponent of the generator\u001b[39;00m\n\u001b[1;32m      2\u001b[0m \u001b[38;5;66;03m#the discrete_log of zero is -infinity, which we set to -1 for convenience since all other values are nonnegative\u001b[39;00m\n\u001b[0;32m----> 3\u001b[0m discrete_log \u001b[38;5;241m=\u001b[39m \u001b[38;5;28;01mlambda\u001b[39;00m F, x: \u001b[43mx\u001b[49m\u001b[38;5;241;43m.\u001b[39;49m\u001b[43mlog\u001b[49m\u001b[43m(\u001b[49m\u001b[43mF\u001b[49m\u001b[38;5;241;43m.\u001b[39;49m\u001b[43mmultiplicative_generator\u001b[49m\u001b[43m(\u001b[49m\u001b[43m)\u001b[49m\u001b[43m)\u001b[49m \u001b[38;5;28;01mif\u001b[39;00m x \u001b[38;5;241m!=\u001b[39m Integer(\u001b[38;5;241m0\u001b[39m) \u001b[38;5;28;01melse\u001b[39;00m \u001b[38;5;241m-\u001b[39mInteger(\u001b[38;5;241m1\u001b[39m)\n",
      "File \u001b[0;32m/private/var/tmp/sage-10.5-current/local/var/lib/sage/venv-python3.12.5/lib/python3.12/site-packages/sage/rings/finite_rings/element_pari_ffelt.pyx:1193\u001b[0m, in \u001b[0;36msage.rings.finite_rings.element_pari_ffelt.FiniteFieldElement_pari_ffelt.log (build/cythonized/sage/rings/finite_rings/element_pari_ffelt.c:15248)\u001b[0;34m()\u001b[0m\n\u001b[1;32m   1191\u001b[0m # by default that the base generates the entire multiplicative group.\n\u001b[1;32m   1192\u001b[0m cdef GEN x, base_order\n\u001b[0;32m-> 1193\u001b[0m sig_on()\n\u001b[1;32m   1194\u001b[0m if order is None:\n\u001b[1;32m   1195\u001b[0m     base_order = FF_order((<FiniteFieldElement_pari_ffelt>base).val, NULL)\n",
      "\u001b[0;31mKeyboardInterrupt\u001b[0m: "
     ]
    }
   ],
   "source": [
    "dump_discrete_log(L, P)"
   ]
  },
  {
   "cell_type": "code",
   "execution_count": null,
   "id": "759d4819-89b1-4b77-897b-a0bc175564ef",
   "metadata": {},
   "outputs": [],
   "source": []
  }
 ],
 "metadata": {
  "kernelspec": {
   "display_name": "SageMath 10.5",
   "language": "sage",
   "name": "sagemath-10.5"
  },
  "language_info": {
   "codemirror_mode": {
    "name": "ipython",
    "version": 3
   },
   "file_extension": ".py",
   "mimetype": "text/x-python",
   "name": "python",
   "nbconvert_exporter": "python",
   "pygments_lexer": "ipython3",
   "version": "3.12.5"
  }
 },
 "nbformat": 4,
 "nbformat_minor": 5
}
