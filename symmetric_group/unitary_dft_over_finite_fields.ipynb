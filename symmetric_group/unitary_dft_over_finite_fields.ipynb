{
 "cells": [
  {
   "cell_type": "code",
   "execution_count": 23,
   "id": "ba61a7c6-db85-4449-bd7a-b6209451b0a4",
   "metadata": {},
   "outputs": [],
   "source": [
    "#put unitary representations of the symmetric group over GF(q^2) together to form unitary DFT\n",
    "#if each rep'n is unitary, and we use normalizing factors \\sqrt{d_\\rho/|G|}, the overall matrix should be unitary"
   ]
  },
  {
   "cell_type": "code",
   "execution_count": 46,
   "id": "4f51f478-cd37-4c67-8455-7250d6e8f643",
   "metadata": {},
   "outputs": [],
   "source": [
    "#define conjugation as x |--> x**q, an order two automorphism of F_q^2. note x**q == x for x \\in F_q.\n",
    "def conjugate_pos_char(A):\n",
    "    return matrix(F,[[A[i][j]**q for j in range(A.nrows())] for i in range(A.nrows())])"
   ]
  },
  {
   "cell_type": "code",
   "execution_count": 45,
   "id": "e7503dc4-4985-440f-a1ee-342443a3bfcc",
   "metadata": {},
   "outputs": [],
   "source": [
    "def invariant_symmetric_bilinear_matrix(q,partition):\n",
    "    \"\"\"\n",
    "    Computes the matrix of a S_n-invariant symmetric bilinear form.\n",
    "    Sets up and solves system of linear equations based on writing U as an unknown in polynomial ring generators. \n",
    "    The equations are \\rho(g)^T*U*\\overline{\\rho(g)} = \\lambda_g*U where \\lambda_g = \\det(\\rho(g))\\overline{\\det(\\rho(g))}.\n",
    "    The variables for U can be extracted to yield a matrix over GF(q^2) for each g.\n",
    "    These are stacked to get the overall system, and we find the one dim'l null space to get a solution vector, and format as a matrix.\n",
    "    Note: one could also form the Kroenecker products \\rho(g) \\otimes \\rho(g)^{-1 T} to explicitly obtain the system.\n",
    "    \"\"\"\n",
    "    # Define the group G and its rep'n as a Specht module, dimension\n",
    "    n = sum(partition)\n",
    "    specht_module = SGA.specht_module(partition)\n",
    "    rho = specht_module.representation_matrix\n",
    "    d_rho = specht_module.dimension()\n",
    "    \n",
    "    # Initialize U as a matrix of variables over GF(q^2)\n",
    "    R = PolynomialRing(F, 'u', d_rho**2)\n",
    "    U_vars = R.gens()  # List of variable generators for U\n",
    "    U = matrix(R, d_rho, d_rho, U_vars)  # U is a d_rho x d_rho matrix of variables\n",
    "    \n",
    "    # for each generator of G, form the augmented system \n",
    "    def augmented_matrix(g):\n",
    "    \n",
    "        #form the matrix equation \\rho(g)^T*U*\\overline{\\rho(g)} = \\lambda_g * U\n",
    "        #lambda_g = rho_g.det()*rho_g.det()**q\n",
    "        #note: \\lambda_g isn't necessary here, and probably only relates to sesquilinear forms\n",
    "        equation_matrix = rho(g).transpose()*U*conjugate_pos_char(rho(g)) - U\n",
    "    \n",
    "        # Initialize a list to hold rows of the augmented system\n",
    "        augmented_system = []\n",
    "    \n",
    "        # Extract coefficients for each linear equation in the matrix\n",
    "        for i in range(d_rho):\n",
    "            for j in range(d_rho):\n",
    "                # Get the (i, j) entry of the equation matrix, which is a linear combination of the u variables\n",
    "                linear_expression = equation_matrix[i, j]\n",
    "            \n",
    "                # Extract the coefficients of each u_k in the linear expression\n",
    "                row = [linear_expression.coefficient(u) for u in U_vars]\n",
    "            \n",
    "                # Append the row to the augmented system\n",
    "                augmented_system.append(row)\n",
    "    \n",
    "        # Convert the augmented system to a matrix\n",
    "        return matrix(F, augmented_system)\n",
    "\n",
    "    #stack linear systems for each g in G\n",
    "    total_system = matrix(F,0,d_rho**2)\n",
    "    for g in G:\n",
    "        total_system = total_system.stack(augmented_matrix(g))\n",
    "    \n",
    "    #compute the null space of the overall matrix\n",
    "    null_space = total_system.right_kernel()\n",
    "    \n",
    "    #return a d_rho x d_rho matrix over GF(q^2) from the 1 dim'l null space given as vector\n",
    "    U_mats = [matrix(F,d_rho,d_rho,b) for b in null_space.basis()]\n",
    "\n",
    "    #verify that a solution to the linear system satisfies the G-invariance property\n",
    "    assert all(rho(g).transpose()*U_mats[0]*conjugate_pos_char(rho(g)) == U_mats[0] for g in G)\n",
    "    \n",
    "    return U_mats"
   ]
  },
  {
   "cell_type": "code",
   "execution_count": 44,
   "id": "367e923c-c757-478e-bedd-e752e8792357",
   "metadata": {},
   "outputs": [],
   "source": [
    "#for u in GF(q), we can factor as u=aa^* using gen. z and modular arithmetic\n",
    "def factor_scalar(u):\n",
    "    if u == 0:\n",
    "        return 0  # Special case for 0\n",
    "    z = GF(q**2).multiplicative_generator()\n",
    "    k = u.log(z)  # Compute discrete log of u to the base z\n",
    "    if k % (q+1) != 0:\n",
    "        raise ValueError(\"Unable to factor: u.log(z) is not divisible by q+1, i.e. u is not in base field GF(q)\")\n",
    "    return z**((k//(q+1))%(q-1))"
   ]
  },
  {
   "cell_type": "code",
   "execution_count": 43,
   "id": "30fb1aca-af69-419c-8662-afd2689075f7",
   "metadata": {},
   "outputs": [],
   "source": [
    "#use libgap.eval for GAP evalutation of BaseChangeToCanonical using `forms` package\n",
    "def unitary_change_of_basis(U,q):\n",
    "    if U.nrows() == 1 and U.ncols() == 1:\n",
    "        return matrix(F,[[factor_scalar(U[0,0])]])\n",
    "    libgap.LoadPackage(\"forms\")\n",
    "    return matrix(GF(q**2),libgap.BaseChangeToCanonical(libgap([list(row) for row in U]).HermitianFormByMatrix(GF(q^2)))).inverse()"
   ]
  },
  {
   "cell_type": "code",
   "execution_count": 52,
   "id": "d4f8665b-e7f5-4447-8176-7828bf76bb38",
   "metadata": {},
   "outputs": [],
   "source": [
    "#define the Fourier coefficient at the rep'n specht_module corresponding to partition\n",
    "def hat(f,partition,unitary=False):\n",
    "    specht_module = SGA.specht_module(partition)\n",
    "    rho = specht_module.representation_matrix\n",
    "    if unitary:\n",
    "        U = invariant_symmetric_bilinear_matrix(q,partition)[0]\n",
    "        A = unitary_change_of_basis(U,q)\n",
    "        A_star = conjugate_pos_char(A).transpose()\n",
    "        sqrt_unitary_factor = sqrt(F(specht_module.dimension()/G.cardinality()))\n",
    "        return sqrt_unitary_factor*sum(f(g)*A_star*rho(g)*A_star.inverse() for g in G)\n",
    "    else:\n",
    "        return sum(f(g)*rho(g) for g in G)"
   ]
  },
  {
   "cell_type": "code",
   "execution_count": 53,
   "id": "674d3e05-89e0-4efd-ab2f-7158bf6d9eb3",
   "metadata": {},
   "outputs": [],
   "source": [
    "#for each basis element g \\in G compute the Fourier coefficients \\hat{\\delta_g}(partition) for all partitions\n",
    "from sage.misc.flatten import flatten\n",
    "delta = lambda s: lambda t: 1 if t == s else 0 #delta function \\delta_s(t)\n",
    "def dft(unitary=False):\n",
    "    fourier_transform = [flatten([hat(delta(g),partition,unitary).list() for partition in Partitions(G.degree())]) for g in G]\n",
    "    if unitary:\n",
    "        dft_matrix = matrix(F,fourier_transform).transpose()\n",
    "        sign_diag = (dft_matrix*conjugate_pos_char(dft_matrix).transpose()).diagonal()\n",
    "        factor_diag = diagonal_matrix([factor_scalar(d) for d in sign_diag])\n",
    "        return factor_diag.inverse()*dft_matrix\n",
    "    else:\n",
    "        return matrix(fourier_transform).transpose()"
   ]
  },
  {
   "cell_type": "code",
   "execution_count": 54,
   "id": "8638af45-82cd-4ee0-936d-3fdbeb482f32",
   "metadata": {},
   "outputs": [],
   "source": [
    "#parameters and define the symmetric group algebra\n",
    "n = 4; q = 11\n",
    "SGA = SymmetricGroupAlgebra(GF(q**2), n)\n",
    "F = SGA.base_ring()\n",
    "G = SGA.group()"
   ]
  },
  {
   "cell_type": "code",
   "execution_count": 55,
   "id": "7e9532cb-66d7-4bf6-8ced-3197e384de17",
   "metadata": {},
   "outputs": [
    {
     "name": "stdout",
     "output_type": "stream",
     "text": [
      "[     5*z2      5*z2      5*z2      5*z2      5*z2      5*z2      5*z2      5*z2      5*z2      5*z2      5*z2      5*z2      5*z2      5*z2      5*z2      5*z2      5*z2      5*z2      5*z2      5*z2      5*z2      5*z2      5*z2      5*z2]\n",
      "[     8*z2      8*z2      4*z2      4*z2      4*z2      4*z2      3*z2      3*z2      7*z2      7*z2      7*z2      7*z2      7*z2      7*z2      4*z2      4*z2         0         0      7*z2      7*z2      4*z2      4*z2         0         0]\n",
      "[        0         0  6*z2 + 5  2*z2 + 9  6*z2 + 5  2*z2 + 9         0         0  5*z2 + 6  9*z2 + 2  5*z2 + 6  9*z2 + 2  6*z2 + 5  2*z2 + 9  5*z2 + 6  9*z2 + 2  7*z2 + 4  4*z2 + 7  6*z2 + 5  2*z2 + 9  5*z2 + 6  9*z2 + 2  7*z2 + 4  4*z2 + 7]\n",
      "[        0         0         0 10*z2 + 7         0 10*z2 + 7         0         0         0    z2 + 4         0    z2 + 4         0 10*z2 + 7         0    z2 + 4 10*z2 + 7    z2 + 4         0 10*z2 + 7         0    z2 + 4 10*z2 + 7    z2 + 4]\n",
      "[        0         0  5*z2 + 6  5*z2 + 6  9*z2 + 2  9*z2 + 2         0         0  5*z2 + 6  5*z2 + 6  9*z2 + 2  9*z2 + 2  6*z2 + 5  6*z2 + 5  6*z2 + 5  6*z2 + 5  4*z2 + 7  4*z2 + 7  2*z2 + 9  2*z2 + 9  2*z2 + 9  2*z2 + 9  7*z2 + 4  7*z2 + 4]\n",
      "[     8*z2     10*z2      7*z2      6*z2      6*z2      3*z2      8*z2     10*z2      7*z2      6*z2      6*z2      3*z2      7*z2      6*z2      7*z2      6*z2      2*z2      2*z2      6*z2      3*z2      6*z2      3*z2      2*z2      2*z2]\n",
      "[        0  3*z2 + 6         0  4*z2 + 8  3*z2 + 6  4*z2 + 8         0  3*z2 + 6         0  4*z2 + 8  3*z2 + 6  4*z2 + 8         0  4*z2 + 8         0  4*z2 + 8  4*z2 + 8  4*z2 + 8  3*z2 + 6  4*z2 + 8  3*z2 + 6  4*z2 + 8  4*z2 + 8  4*z2 + 8]\n",
      "[        0         0         0         0  2*z2 + 4  2*z2 + 4         0         0         0         0  2*z2 + 4  2*z2 + 4         0         0         0         0  2*z2 + 4  2*z2 + 4  9*z2 + 7  9*z2 + 7  9*z2 + 7  9*z2 + 7  9*z2 + 7  9*z2 + 7]\n",
      "[        0  4*z2 + 5         0  4*z2 + 5  9*z2 + 3  9*z2 + 3         0  4*z2 + 5         0  4*z2 + 5  9*z2 + 3  9*z2 + 3         0  4*z2 + 5         0  4*z2 + 5  9*z2 + 3  9*z2 + 3  9*z2 + 3  9*z2 + 3  9*z2 + 3  9*z2 + 3  9*z2 + 3  9*z2 + 3]\n",
      "[     8*z2        z2      8*z2        z2        z2        z2      8*z2        z2      8*z2        z2        z2        z2      8*z2        z2      8*z2        z2        z2        z2        z2        z2        z2        z2        z2        z2]\n",
      "[        1        10         6         5         5         6        10         1         5         6         6         5         5         6         6         5         1        10         6         5         5         6        10         1]\n",
      "[        0         0 10*z2 + 2 10*z2 + 2    z2 + 9    z2 + 9         0         0    z2 + 9    z2 + 9 10*z2 + 2 10*z2 + 2 10*z2 + 2 10*z2 + 2    z2 + 9    z2 + 9         0         0    z2 + 9    z2 + 9 10*z2 + 2 10*z2 + 2         0         0]\n",
      "[        0         0    z2 + 9 10*z2 + 2    z2 + 9 10*z2 + 2         0         0    z2 + 9 10*z2 + 2    z2 + 9 10*z2 + 2 10*z2 + 2    z2 + 9 10*z2 + 2    z2 + 9         0         0 10*z2 + 2    z2 + 9 10*z2 + 2    z2 + 9         0         0]\n",
      "[        1         1         5         5         5         5         1         1         5         5         5         5         5         5         5         5         1         1         5         5         5         5         1         1]\n",
      "[     8*z2     10*z2      3*z2        z2        z2     10*z2      3*z2        z2      8*z2     10*z2     10*z2        z2      8*z2     10*z2      3*z2        z2        z2     10*z2     10*z2        z2        z2     10*z2     10*z2        z2]\n",
      "[        0 7*z2 + 10         0  4*z2 + 1  9*z2 + 5  2*z2 + 6         0  4*z2 + 1         0 7*z2 + 10  2*z2 + 6  9*z2 + 5         0 7*z2 + 10         0  4*z2 + 1  9*z2 + 5  2*z2 + 6  2*z2 + 6  9*z2 + 5  9*z2 + 5  2*z2 + 6  2*z2 + 6  9*z2 + 5]\n",
      "[        0         0         0         0 10*z2 + 7    z2 + 4         0         0         0         0    z2 + 4 10*z2 + 7         0         0         0         0 10*z2 + 7    z2 + 4 10*z2 + 7    z2 + 4    z2 + 4 10*z2 + 7 10*z2 + 7    z2 + 4]\n",
      "[        0  5*z2 + 1         0  8*z2 + 6 6*z2 + 10  3*z2 + 5         0 6*z2 + 10         0  3*z2 + 5  5*z2 + 1  8*z2 + 6         0  3*z2 + 5         0  8*z2 + 6  8*z2 + 6  3*z2 + 5  5*z2 + 1  8*z2 + 6 6*z2 + 10  3*z2 + 5  3*z2 + 5  8*z2 + 6]\n",
      "[     8*z2        z2      4*z2      6*z2      6*z2      8*z2      3*z2     10*z2      7*z2      5*z2      5*z2      3*z2      7*z2      5*z2      4*z2      6*z2      2*z2      9*z2      5*z2      3*z2      6*z2      8*z2      9*z2      2*z2]\n",
      "[        0         0  8*z2 + 4  3*z2 + 7    z2 + 6 10*z2 + 5         0         0  3*z2 + 7  8*z2 + 4 10*z2 + 5    z2 + 6  8*z2 + 4  3*z2 + 7  3*z2 + 7  8*z2 + 4 9*z2 + 10  2*z2 + 1    z2 + 6 10*z2 + 5 10*z2 + 5    z2 + 6 9*z2 + 10  2*z2 + 1]\n",
      "[        0         0         0  2*z2 + 4         0  9*z2 + 7         0         0         0  2*z2 + 4         0  9*z2 + 7         0  9*z2 + 7         0  9*z2 + 7  2*z2 + 4  2*z2 + 4         0  2*z2 + 4         0  2*z2 + 4  9*z2 + 7  9*z2 + 7]\n",
      "[        0         0  5*z2 + 7  2*z2 + 5  6*z2 + 4  9*z2 + 6         0         0  5*z2 + 7  2*z2 + 5  6*z2 + 4  9*z2 + 6  6*z2 + 4  9*z2 + 6  6*z2 + 4  9*z2 + 6  7*z2 + 1  7*z2 + 1  5*z2 + 7  2*z2 + 5  5*z2 + 7  2*z2 + 5 4*z2 + 10 4*z2 + 10]\n",
      "[     8*z2      3*z2      7*z2      4*z2      4*z2      7*z2      8*z2      3*z2      7*z2      4*z2      4*z2      7*z2      7*z2      4*z2      7*z2      4*z2         0         0      4*z2      7*z2      4*z2      7*z2         0         0]\n",
      "[     5*z2      6*z2      6*z2      5*z2      5*z2      6*z2      6*z2      5*z2      5*z2      6*z2      6*z2      5*z2      5*z2      6*z2      6*z2      5*z2      5*z2      6*z2      6*z2      5*z2      5*z2      6*z2      6*z2      5*z2]\n"
     ]
    }
   ],
   "source": [
    "#compute the unitary DFT\n",
    "unitary_dft = dft(unitary=True); print(unitary_dft)"
   ]
  },
  {
   "cell_type": "code",
   "execution_count": 49,
   "id": "f561a0f9-d302-44fb-8af3-5e60842e4470",
   "metadata": {},
   "outputs": [
    {
     "data": {
      "text/plain": [
       "True"
      ]
     },
     "execution_count": 49,
     "metadata": {},
     "output_type": "execute_result"
    }
   ],
   "source": [
    "#verify the resulting DFT is unitary\n",
    "unitary_dft*conjugate_pos_char(unitary_dft).transpose() == identity_matrix(SGA.group().cardinality())"
   ]
  },
  {
   "cell_type": "code",
   "execution_count": null,
   "id": "78360193-13e0-4822-81cc-030aa28d6644",
   "metadata": {},
   "outputs": [],
   "source": []
  }
 ],
 "metadata": {
  "kernelspec": {
   "display_name": "SageMath 10.4",
   "language": "sage",
   "name": "sagemath-10.4"
  },
  "language_info": {
   "codemirror_mode": {
    "name": "ipython",
    "version": 3
   },
   "file_extension": ".py",
   "mimetype": "text/x-python",
   "name": "python",
   "nbconvert_exporter": "python",
   "pygments_lexer": "ipython3",
   "version": "3.12.4"
  }
 },
 "nbformat": 4,
 "nbformat_minor": 5
}
