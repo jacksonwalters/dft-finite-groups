{
 "cells": [
  {
   "cell_type": "code",
   "execution_count": 1,
   "id": "ba61a7c6-db85-4449-bd7a-b6209451b0a4",
   "metadata": {},
   "outputs": [],
   "source": [
    "#put unitary representations of the symmetric group over GF(q**2) together to form unitary DFT\n",
    "#each rep'n is unitary, use normalizing factors \\sqrt{d_\\rho/|G|}\n",
    "#DFT.DFT^* = S, a diagonal matrix with signs \\pm 1 on diagonal. factor them as c = zz^*, so S=RR^*\n",
    "#then uDFT = R^{-1}.DFT is unitary"
   ]
  },
  {
   "cell_type": "code",
   "execution_count": 23,
   "id": "e7503dc4-4985-440f-a1ee-342443a3bfcc",
   "metadata": {},
   "outputs": [],
   "source": [
    "def invariant_symmetric_bilinear_matrix(partition):\n",
    "    \"\"\"\n",
    "    Computes the matrix of a S_n-invariant symmetric bilinear form.\n",
    "    Sets up and solves system of linear equations based on writing U as an unknown in polynomial ring generators. \n",
    "    The equations are \\rho(g)^T*U*\\overline{\\rho(g)} = \\lambda_g*U where \\lambda_g = \\det(\\rho(g))\\overline{\\det(\\rho(g))}.\n",
    "    The variables for U can be extracted to yield a matrix over GF(q^2) for each g.\n",
    "    These are stacked to get the overall system, and we find the one dim'l null space to get a solution vector, and format as a matrix.\n",
    "    Note: one could also form the Kroenecker products \\rho(g) \\otimes \\rho(g)^{-1 T} to explicitly obtain the system.\n",
    "    \"\"\"\n",
    "    # Define the group G and its rep'n as a Specht module, dimension\n",
    "    specht_module = SGA.specht_module(partition)\n",
    "    rho = specht_module.representation_matrix\n",
    "    d_rho = specht_module.dimension()\n",
    "    # Initialize U as a matrix of variables over GF(q^2)\n",
    "    R = PolynomialRing(F, 'u', d_rho**2)\n",
    "    U_vars = R.gens()  # List of variable generators for U\n",
    "    U = matrix(R, d_rho, d_rho, U_vars)  # U is a d_rho x d_rho matrix of variables\n",
    "    # for each generator of G, form the augmented system \n",
    "    def augmented_matrix(g):\n",
    "        #form the matrix equation \\rho(g)^T*U*\\overline{\\rho(g)} = \\lambda_g * U\n",
    "        #lambda_g = rho_g.det()*rho_g.det()**q\n",
    "        #note: \\lambda_g isn't necessary. probably only relates to sesquilinear forms\n",
    "        rho_g = rho(g)\n",
    "        equation_matrix = rho_g.transpose()*U*rho_g.H.transpose() - U\n",
    "        # Initialize a list to hold rows of the augmented system\n",
    "        augmented_system = []\n",
    "        # Extract coefficients for each linear equation in the matrix\n",
    "        for i in range(d_rho):\n",
    "            for j in range(d_rho):\n",
    "                # Get the (i, j) entry of the equation matrix, which is a linear combination of the u variables\n",
    "                linear_expression = equation_matrix[i, j]\n",
    "                # Extract the coefficients of each u_k in the linear expression\n",
    "                row = [linear_expression.coefficient(u) for u in U_vars]\n",
    "                # Append the row to the augmented system\n",
    "                augmented_system.append(row)\n",
    "        # Convert the augmented system to a matrix\n",
    "        return matrix(F, augmented_system)\n",
    "    #stack linear systems for each g in G\n",
    "    total_system = matrix(F,0,d_rho**2)\n",
    "    for g in G:\n",
    "        total_system = total_system.stack(augmented_matrix(g))\n",
    "    #compute the null space of the overall matrix\n",
    "    null_space = total_system.right_kernel()\n",
    "    #return a d_rho x d_rho matrix over GF(q^2) from the 1 dim'l null space given as vector\n",
    "    U_mats = [matrix(F,d_rho,d_rho,b) for b in null_space.basis()]\n",
    "    return U_mats"
   ]
  },
  {
   "cell_type": "code",
   "execution_count": 4,
   "id": "367e923c-c757-478e-bedd-e752e8792357",
   "metadata": {},
   "outputs": [],
   "source": [
    "#for u in GF(q), we can factor as u=aa^* using gen. z and modular arithmetic\n",
    "def conj_square_root(u):\n",
    "    if u == 0:\n",
    "        return 0  # Special case for 0\n",
    "    z = F.multiplicative_generator()\n",
    "    k = u.log(z)  # Compute discrete log of u to the base z\n",
    "    if k % (q+1) != 0:\n",
    "        raise ValueError(\"Unable to factor: u is not in base field GF(q)\")\n",
    "    return z**((k//(q+1))%(q-1))"
   ]
  },
  {
   "cell_type": "code",
   "execution_count": 5,
   "id": "30fb1aca-af69-419c-8662-afd2689075f7",
   "metadata": {},
   "outputs": [],
   "source": [
    "#user the upper part of the LU decomposition, factor the diagonal\n",
    "def base_change_hermitian(U):\n",
    "    Up = U.LU()[2]\n",
    "    D = Up.diagonal()\n",
    "    A = ~Up * matrix.diagonal([d.sqrt() for d in D])\n",
    "    diag = (A.H * U * A).diagonal()\n",
    "    factor_diag = diagonal_matrix([conj_square_root(d) for d in diag])\n",
    "    return factor_diag*A.inverse()"
   ]
  },
  {
   "cell_type": "code",
   "execution_count": 18,
   "id": "d4f8665b-e7f5-4447-8176-7828bf76bb38",
   "metadata": {},
   "outputs": [],
   "source": [
    "#define the Fourier coefficient at the rep'n specht_module corresponding to partition\n",
    "def hat(f,partition,unitary=False):\n",
    "    specht_module = SGA.specht_module(partition)\n",
    "    rho = specht_module.representation_matrix\n",
    "    if unitary:\n",
    "        U = invariant_symmetric_bilinear_matrix(partition)[0]\n",
    "        A = base_change_hermitian(U)\n",
    "        sqrt_unitary_factor = sqrt(F(specht_module.dimension()/G.cardinality()))\n",
    "        return sqrt_unitary_factor*sum(f(g)*A*rho(g)*A.inverse() for g in G)\n",
    "    else:\n",
    "        return sum(f(g)*rho(g) for g in G)"
   ]
  },
  {
   "cell_type": "code",
   "execution_count": 7,
   "id": "674d3e05-89e0-4efd-ab2f-7158bf6d9eb3",
   "metadata": {},
   "outputs": [],
   "source": [
    "#for each basis element g \\in G compute the Fourier coefficients \\hat{\\delta_g}(partition) for all partitions\n",
    "from sage.misc.flatten import flatten\n",
    "delta = lambda s: lambda t: 1 if t == s else 0 #delta function \\delta_s(t)\n",
    "def dft(unitary=False):\n",
    "    fourier_transform = [flatten([hat(delta(g),partition,unitary).list() for partition in Partitions(G.degree())]) for g in G]\n",
    "    if unitary:\n",
    "        dft_matrix = matrix(F,fourier_transform).transpose()\n",
    "        sign_diag = (dft_matrix*dft_matrix.H).diagonal()\n",
    "        factor_diag = diagonal_matrix([conj_square_root(d) for d in sign_diag])\n",
    "        return factor_diag.inverse()*dft_matrix\n",
    "    else:\n",
    "        return matrix(fourier_transform).transpose()"
   ]
  },
  {
   "cell_type": "code",
   "execution_count": 34,
   "id": "8638af45-82cd-4ee0-936d-3fdbeb482f32",
   "metadata": {},
   "outputs": [],
   "source": [
    "#parameters and define the symmetric group algebra\n",
    "n = 4; q = 5\n",
    "SGA = SymmetricGroupAlgebra(GF(q**2), n)\n",
    "F = SGA.base_ring()\n",
    "G = SGA.group()\n",
    "assert F.is_finite()\n",
    "assert F.order().is_square()\n",
    "assert not F.characteristic().divides(G.cardinality())"
   ]
  },
  {
   "cell_type": "code",
   "execution_count": 35,
   "id": "7e9532cb-66d7-4bf6-8ced-3197e384de17",
   "metadata": {},
   "outputs": [
    {
     "name": "stdout",
     "output_type": "stream",
     "text": [
      "[       2        2        2        2        2        2        2        2        2        2        2        2        2        2        2        2        2        2        2        2        2        2        2        2]\n",
      "[      z2       z2     3*z2     3*z2     3*z2     3*z2     4*z2     4*z2     2*z2     2*z2     2*z2     2*z2     2*z2     2*z2     3*z2     3*z2        0        0     2*z2     2*z2     3*z2     3*z2        0        0]\n",
      "[       0        0   z2 + 3 2*z2 + 1   z2 + 3 2*z2 + 1        0        0 4*z2 + 2 3*z2 + 4 4*z2 + 2 3*z2 + 4   z2 + 3 2*z2 + 1 4*z2 + 2 3*z2 + 4   z2 + 3 4*z2 + 2   z2 + 3 2*z2 + 1 4*z2 + 2 3*z2 + 4   z2 + 3 4*z2 + 2]\n",
      "[       0        0        0     2*z2        0     2*z2        0        0        0     3*z2        0     3*z2        0     2*z2        0     3*z2     2*z2     3*z2        0     2*z2        0     3*z2     2*z2     3*z2]\n",
      "[       0        0        2        2        4        4        0        0        2        2        4        4        3        3        3        3        2        2        1        1        1        1        3        3]\n",
      "[      z2     2*z2     2*z2     4*z2     4*z2        0       z2     2*z2     2*z2     4*z2     4*z2        0     2*z2     4*z2     2*z2     4*z2       z2       z2     4*z2        0     4*z2        0       z2       z2]\n",
      "[       0        2        0        4        2        4        0        2        0        4        2        4        0        4        0        4        4        4        2        4        2        4        4        4]\n",
      "[       0        0        0        0     2*z2     2*z2        0        0        0        0     2*z2     2*z2        0        0        0        0     2*z2     2*z2     3*z2     3*z2     3*z2     3*z2     3*z2     3*z2]\n",
      "[       0   z2 + 3        0   z2 + 3 2*z2 + 1 2*z2 + 1        0   z2 + 3        0   z2 + 3 2*z2 + 1 2*z2 + 1        0   z2 + 3        0   z2 + 3 2*z2 + 1 2*z2 + 1 2*z2 + 1 2*z2 + 1 2*z2 + 1 2*z2 + 1 2*z2 + 1 2*z2 + 1]\n",
      "[      z2     3*z2       z2     3*z2     3*z2     3*z2       z2     3*z2       z2     3*z2     3*z2     3*z2       z2     3*z2       z2     3*z2     3*z2     3*z2     3*z2     3*z2     3*z2     3*z2     3*z2     3*z2]\n",
      "[    2*z2     3*z2       z2     4*z2     4*z2       z2     3*z2     2*z2     4*z2       z2       z2     4*z2     4*z2       z2       z2     4*z2     2*z2     3*z2       z2     4*z2     4*z2       z2     3*z2     2*z2]\n",
      "[       0        0 2*z2 + 1 2*z2 + 1 3*z2 + 4 3*z2 + 4        0        0 3*z2 + 4 3*z2 + 4 2*z2 + 1 2*z2 + 1 2*z2 + 1 2*z2 + 1 3*z2 + 4 3*z2 + 4        0        0 3*z2 + 4 3*z2 + 4 2*z2 + 1 2*z2 + 1        0        0]\n",
      "[       0        0        4        1        4        1        0        0        4        1        4        1        1        4        1        4        0        0        1        4        1        4        0        0]\n",
      "[    2*z2     2*z2     4*z2     4*z2     4*z2     4*z2     2*z2     2*z2     4*z2     4*z2     4*z2     4*z2     4*z2     4*z2     4*z2     4*z2     2*z2     2*z2     4*z2     4*z2     4*z2     4*z2     2*z2     2*z2]\n",
      "[      z2     2*z2     4*z2     3*z2     3*z2     2*z2     4*z2     3*z2       z2     2*z2     2*z2     3*z2       z2     2*z2     4*z2     3*z2     3*z2     2*z2     2*z2     3*z2     3*z2     2*z2     2*z2     3*z2]\n",
      "[       0   z2 + 3        0 4*z2 + 2 3*z2 + 4 2*z2 + 1        0 4*z2 + 2        0   z2 + 3 2*z2 + 1 3*z2 + 4        0   z2 + 3        0 4*z2 + 2 3*z2 + 4 2*z2 + 1 2*z2 + 1 3*z2 + 4 3*z2 + 4 2*z2 + 1 2*z2 + 1 3*z2 + 4]\n",
      "[       0        0        0        0     2*z2     3*z2        0        0        0        0     3*z2     2*z2        0        0        0        0     2*z2     3*z2     2*z2     3*z2     3*z2     2*z2     2*z2     3*z2]\n",
      "[       0        2        0        1        3        4        0        3        0        4        2        1        0        4        0        1        1        4        2        1        3        4        4        1]\n",
      "[      z2     3*z2     3*z2     4*z2     4*z2        0     4*z2     2*z2     2*z2       z2       z2        0     2*z2       z2     3*z2     4*z2       z2     4*z2       z2        0     4*z2        0     4*z2       z2]\n",
      "[       0        0        2        3        1        4        0        0        3        2        4        1        2        3        3        2        3        2        1        4        4        1        3        2]\n",
      "[       0        0        0     2*z2        0     3*z2        0        0        0     2*z2        0     3*z2        0     3*z2        0     3*z2     2*z2     2*z2        0     2*z2        0     2*z2     3*z2     3*z2]\n",
      "[       0        0   z2 + 3 3*z2 + 4 4*z2 + 2 2*z2 + 1        0        0   z2 + 3 3*z2 + 4 4*z2 + 2 2*z2 + 1 4*z2 + 2 2*z2 + 1 4*z2 + 2 2*z2 + 1 4*z2 + 2 4*z2 + 2   z2 + 3 3*z2 + 4   z2 + 3 3*z2 + 4   z2 + 3   z2 + 3]\n",
      "[      z2     4*z2     2*z2     3*z2     3*z2     2*z2       z2     4*z2     2*z2     3*z2     3*z2     2*z2     2*z2     3*z2     2*z2     3*z2        0        0     3*z2     2*z2     3*z2     2*z2        0        0]\n",
      "[       2        3        3        2        2        3        3        2        2        3        3        2        2        3        3        2        2        3        3        2        2        3        3        2]\n"
     ]
    }
   ],
   "source": [
    "#compute the unitary DFT\n",
    "unitary_dft = dft(unitary=True); print(unitary_dft)"
   ]
  },
  {
   "cell_type": "code",
   "execution_count": 36,
   "id": "f561a0f9-d302-44fb-8af3-5e60842e4470",
   "metadata": {},
   "outputs": [
    {
     "data": {
      "text/plain": [
       "True"
      ]
     },
     "execution_count": 36,
     "metadata": {},
     "output_type": "execute_result"
    }
   ],
   "source": [
    "#verify the resulting DFT is unitary\n",
    "unitary_dft*unitary_dft.H == identity_matrix(SGA.group().cardinality())"
   ]
  },
  {
   "cell_type": "code",
   "execution_count": 37,
   "id": "bb002eb3-f30b-45d5-9fff-d885557e17e4",
   "metadata": {},
   "outputs": [
    {
     "data": {
      "text/plain": [
       "[\n",
       "[1 3 3]\n",
       "[3 1 3]\n",
       "[3 3 1]\n",
       "]"
      ]
     },
     "execution_count": 37,
     "metadata": {},
     "output_type": "execute_result"
    }
   ],
   "source": [
    "invariant_symmetric_bilinear_matrix(partition=[3,1])"
   ]
  }
 ],
 "metadata": {
  "kernelspec": {
   "display_name": "SageMath 10.4",
   "language": "sage",
   "name": "sagemath-10.4"
  },
  "language_info": {
   "codemirror_mode": {
    "name": "ipython",
    "version": 3
   },
   "file_extension": ".py",
   "mimetype": "text/x-python",
   "name": "python",
   "nbconvert_exporter": "python",
   "pygments_lexer": "ipython3",
   "version": "3.12.4"
  }
 },
 "nbformat": 4,
 "nbformat_minor": 5
}
