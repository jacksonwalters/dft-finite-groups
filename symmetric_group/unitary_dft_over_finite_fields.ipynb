{
 "cells": [
  {
   "cell_type": "code",
   "execution_count": 1,
   "id": "ba61a7c6-db85-4449-bd7a-b6209451b0a4",
   "metadata": {},
   "outputs": [],
   "source": [
    "#compute the uDFT by noting DFT.DFT^* = D, a diagonal matrix, and factoring as D = RR^*, so uDFT = R^{-1}.DFT\n",
    "#alternately, one could use unitary representations and normalization factors \\sqrt{d_\\rho/|G|}\n",
    "#the resulting DFT will have signs \\pm 1 on the diagonal DFT.DFT^* = S, which can be factored as s = rr^*, so S=RR^*\n",
    "#again, uDFT = R^{-1}.DFT"
   ]
  },
  {
   "cell_type": "code",
   "execution_count": 1,
   "id": "367e923c-c757-478e-bedd-e752e8792357",
   "metadata": {},
   "outputs": [],
   "source": [
    "#for u in GF(q), we can factor as u=aa^* using gen. z and modular arithmetic\n",
    "def conj_square_root(u):\n",
    "    if u == 0:\n",
    "        return 0  # Special case for 0\n",
    "    z = F.multiplicative_generator()\n",
    "    k = u.log(z)  # Compute discrete log of u to the base z\n",
    "    if k % (q+1) != 0:\n",
    "        raise ValueError(\"Unable to factor: u is not in base field GF(q)\")\n",
    "    return z ** ((k//(q+1))%(q-1))"
   ]
  },
  {
   "cell_type": "code",
   "execution_count": 2,
   "id": "d436942b-2764-48cb-a318-e943960b671d",
   "metadata": {},
   "outputs": [],
   "source": [
    "#compute the uDFT by noting DFT.DFT^* = D, a diagonal matrix, and factoring as D = RR^*, so uDFT = R^{-1}.DFT\n",
    "def unitary_dft():\n",
    "    dft_matrix = SGA.dft()\n",
    "    sign_diag = (dft_matrix*dft_matrix.H).diagonal()\n",
    "    factor_diag_inv = diagonal_matrix([~conj_square_root(d) for d in sign_diag])\n",
    "    return factor_diag_inv*dft_matrix"
   ]
  },
  {
   "cell_type": "code",
   "execution_count": 3,
   "id": "8638af45-82cd-4ee0-936d-3fdbeb482f32",
   "metadata": {},
   "outputs": [],
   "source": [
    "#parameters and define the symmetric group algebra\n",
    "n = 3; q = 5\n",
    "F = GF(q**2)\n",
    "G = SymmetricGroup(n)\n",
    "SGA = G.algebra(F)\n",
    "assert F.is_finite()\n",
    "assert F.order().is_square()\n",
    "if F.characteristic().divides(G.cardinality()):\n",
    "    raise NotImplementedError(\"Not implemented when p|n!. Dimension of invariant forms may be greater than one and \\sqrt{d_\\rho/|G|} is not defined. See modular DFT.\")"
   ]
  },
  {
   "cell_type": "code",
   "execution_count": 4,
   "id": "58cdb5f2-a153-4884-9aab-906d8f9464b5",
   "metadata": {},
   "outputs": [
    {
     "name": "stdout",
     "output_type": "stream",
     "text": [
      "[1 0 0 0 0 0]\n",
      "[0 1 0 0 0 0]\n",
      "[0 0 1 0 0 0]\n",
      "[0 0 0 1 0 0]\n",
      "[0 0 0 0 1 0]\n",
      "[0 0 0 0 0 1]\n"
     ]
    }
   ],
   "source": [
    "print(unitary_dft()*unitary_dft().H)"
   ]
  },
  {
   "cell_type": "code",
   "execution_count": 6,
   "id": "3c453e94-82e6-406e-ac45-aef41a1ab77b",
   "metadata": {},
   "outputs": [],
   "source": [
    "#converting the unitary DFT over finite fields to a complex matrix using the root of unity map\n",
    "U = unitary_dft(); "
   ]
  },
  {
   "cell_type": "code",
   "execution_count": 95,
   "id": "0d5de1cd-1b8e-49b6-a959-0773c9c1314b",
   "metadata": {},
   "outputs": [],
   "source": [
    "z = F.multiplicative_generator()\n",
    "log_U = matrix([[U[(i,j)].log(z) if U[(i,j)] != 0 else -1 for j in range(U.nrows())] for i in range(U.nrows())])"
   ]
  },
  {
   "cell_type": "code",
   "execution_count": 96,
   "id": "425df9fe-be30-40e3-8aff-fa1348bc74f4",
   "metadata": {},
   "outputs": [
    {
     "name": "stdout",
     "output_type": "stream",
     "text": [
      "[ 0  0  0  0  0  0]\n",
      "[21  3  3 15 15  9]\n",
      "[-1 18  6  6 18 -1]\n",
      "[-1 22 10 22 10 -1]\n",
      "[21  3  3  3  3 21]\n",
      "[ 0  0  0 12 12 12]\n"
     ]
    }
   ],
   "source": [
    "print(log_U)"
   ]
  },
  {
   "cell_type": "code",
   "execution_count": 46,
   "id": "dbf3c83d-ea6e-4dcd-a491-332a715dcbe1",
   "metadata": {},
   "outputs": [],
   "source": [
    "to_root_of_unity = lambda a, F: 0 if a == 0 else exp(2*pi*I*a.log(F.multiplicative_generator())/(F.order()-1))"
   ]
  },
  {
   "cell_type": "code",
   "execution_count": 98,
   "id": "913954c0-dfdf-4099-b9b2-7c59a5e6e767",
   "metadata": {},
   "outputs": [],
   "source": [
    "U_complex = matrix(CC,[[to_root_of_unity(U[(i,j)]) for j in range(U.nrows())] for i in range(U.nrows())])"
   ]
  },
  {
   "cell_type": "code",
   "execution_count": 99,
   "id": "2ce4d9b0-c891-40de-9e2d-92e941e05901",
   "metadata": {},
   "outputs": [],
   "source": [
    "gram = U_complex*U_complex.H"
   ]
  },
  {
   "cell_type": "code",
   "execution_count": 100,
   "id": "9e4e0a10-8c5f-42df-974b-0e729c6ba084",
   "metadata": {},
   "outputs": [],
   "source": [
    "def round_complex(z, digits):\n",
    "    if z.imag_part():\n",
    "        return round(z.real_part(), digits) + round(z.imag_part(), digits) * I\n",
    "    return round(z, digits)"
   ]
  },
  {
   "cell_type": "code",
   "execution_count": 101,
   "id": "2ce34d19-f35e-486b-b373-1c77c4e5724f",
   "metadata": {},
   "outputs": [],
   "source": [
    "gram_rounded = gram.apply_map(lambda u:round_complex(u,2))"
   ]
  },
  {
   "cell_type": "code",
   "execution_count": 102,
   "id": "cc3df8b2-4ee4-4643-8963-be7578c9485c",
   "metadata": {},
   "outputs": [
    {
     "name": "stdout",
     "output_type": "stream",
     "text": [
      "[          6.0           0.0           0.0           0.0 4.24 - 1.41*I           0.0]\n",
      "[          0.0           6.0           0.0           0.0           0.0 4.24 + 1.41*I]\n",
      "[          0.0           0.0           4.0           0.0           0.0           0.0]\n",
      "[          0.0           0.0           0.0           4.0           0.0           0.0]\n",
      "[4.24 + 1.41*I           0.0           0.0           0.0           6.0           0.0]\n",
      "[          0.0 4.24 - 1.41*I           0.0           0.0           0.0           6.0]\n"
     ]
    }
   ],
   "source": [
    "print(gram_rounded)"
   ]
  },
  {
   "cell_type": "code",
   "execution_count": 28,
   "id": "187d0d5b-3f3c-4d75-866d-36e3a509b54d",
   "metadata": {},
   "outputs": [
    {
     "data": {
      "text/plain": [
       "[2*z6^5 + 3*z6^2 + 2*z6 + 1, 3*z6^5 + 4*z6^4 + z6^3 + 4*z6^2 + 3*z6 + 3, 3*z6^5 + 4*z6^3 + z6^2 + 2*z6, z6^5 + 3*z6^4 + 4*z6^3 + 2*z6^2 + 2*z6, 2*z6^5 + z6^4 + 3*z6^3 + 3*z6^2 + z6 + 1, 3*z6^5 + 4*z6^4 + 3*z6^3 + z6^2 + z6 + 3]"
      ]
     },
     "execution_count": 28,
     "metadata": {},
     "output_type": "execute_result"
    }
   ],
   "source": [
    "U.eigenvalues()"
   ]
  },
  {
   "cell_type": "code",
   "execution_count": 22,
   "id": "577cf124-887a-452b-ad8e-d218ab5a8cbb",
   "metadata": {},
   "outputs": [
    {
     "data": {
      "text/plain": [
       "x^6 + (z2 + 1)*x^5 + (3*z2 + 4)*x^3 + 2*x + 3*z2 + 3"
      ]
     },
     "execution_count": 22,
     "metadata": {},
     "output_type": "execute_result"
    }
   ],
   "source": [
    "charpoly = U.charpoly(); charpoly"
   ]
  },
  {
   "cell_type": "code",
   "execution_count": 42,
   "id": "a9658d9d-9577-43ba-85b3-71a53634362f",
   "metadata": {},
   "outputs": [
    {
     "data": {
      "text/plain": [
       "Finite Field in a of size 5^6"
      ]
     },
     "execution_count": 42,
     "metadata": {},
     "output_type": "execute_result"
    }
   ],
   "source": [
    "K = charpoly.splitting_field('a'); K"
   ]
  },
  {
   "cell_type": "code",
   "execution_count": 39,
   "id": "66ddba46-4f7e-4768-9a7d-467552170c56",
   "metadata": {},
   "outputs": [
    {
     "data": {
      "text/plain": [
       "[(3*a^5 + 4*a^3 + a^2 + 2*a, 1),\n",
       " (3*a^5 + 4*a^4 + 3*a^3 + a^2 + a + 3, 1),\n",
       " (3*a^5 + 4*a^4 + a^3 + 4*a^2 + 3*a + 3, 1),\n",
       " (2*a^5 + 3*a^2 + 2*a + 1, 1),\n",
       " (2*a^5 + a^4 + 3*a^3 + 3*a^2 + a + 1, 1),\n",
       " (a^5 + 3*a^4 + 4*a^3 + 2*a^2 + 2*a, 1)]"
      ]
     },
     "execution_count": 39,
     "metadata": {},
     "output_type": "execute_result"
    }
   ],
   "source": [
    "eigenvalues = charpoly.roots(K); eigenvalues"
   ]
  },
  {
   "cell_type": "code",
   "execution_count": 56,
   "id": "c41fcb01-39a8-4e24-a828-45a0f19bf842",
   "metadata": {},
   "outputs": [],
   "source": [
    "complex_eigenvalues = [to_root_of_unity(eig[0],K) for eig in eigenvalues]"
   ]
  },
  {
   "cell_type": "code",
   "execution_count": 55,
   "id": "997124ab-f397-42cf-a36d-fc1670e27bf0",
   "metadata": {},
   "outputs": [],
   "source": [
    "import matplotlib.pyplot as plt\n",
    "import numpy as np\n",
    "\n",
    "# Extract real and imaginary parts for plotting\n",
    "real_parts = [eig.real() for eig in complex_eigenvalues]\n",
    "imaginary_parts = [eig.imag() for eig in complex_eigenvalues]"
   ]
  },
  {
   "cell_type": "code",
   "execution_count": 57,
   "id": "92b0d6ae-51a8-43d2-9ead-f4b40d89b9ac",
   "metadata": {},
   "outputs": [
    {
     "data": {
      "image/png": "[encoded data removed]",
      "text/plain": [
       "<Figure size 600x600 with 1 Axes>"
      ]
     },
     "metadata": {},
     "output_type": "display_data"
    }
   ],
   "source": [
    "# Plotting the eigenvalues on the complex plane\n",
    "plt.figure(figsize=(6,6))\n",
    "plt.scatter(real_parts, imaginary_parts, color='blue', label=\"Eigenvalues\")\n",
    "plt.axhline(0, color='black',linewidth=0.5)\n",
    "plt.axvline(0, color='black',linewidth=0.5)\n",
    "plt.gca().set_aspect('equal', adjustable='box')\n",
    "plt.title('Eigenvalues of uDFT of Symmetric Group over Finite Field')\n",
    "plt.xlabel('Real Part')\n",
    "plt.ylabel('Imaginary Part')\n",
    "plt.grid(True)\n",
    "plt.show()"
   ]
  },
  {
   "cell_type": "code",
   "execution_count": null,
   "id": "f4558cc4-ca09-4785-affd-9da688591bb2",
   "metadata": {},
   "outputs": [],
   "source": []
  }
 ],
 "metadata": {
  "kernelspec": {
   "display_name": "SageMath 10.5",
   "language": "sage",
   "name": "sagemath-10.5"
  },
  "language_info": {
   "codemirror_mode": {
    "name": "ipython",
    "version": 3
   },
   "file_extension": ".py",
   "mimetype": "text/x-python",
   "name": "python",
   "nbconvert_exporter": "python",
   "pygments_lexer": "ipython3",
   "version": "3.12.5"
  }
 },
 "nbformat": 4,
 "nbformat_minor": 5
}
