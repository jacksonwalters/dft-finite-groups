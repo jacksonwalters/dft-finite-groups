{
 "cells": [
  {
   "cell_type": "code",
   "execution_count": 1,
   "id": "ba61a7c6-db85-4449-bd7a-b6209451b0a4",
   "metadata": {},
   "outputs": [],
   "source": [
    "#compute the uDFT by noting DFT.DFT^* = D, a diagonal matrix, and factoring as D = RR^*, so uDFT = R^{-1}.DFT\n",
    "#alternately, one could use unitary representations and normalization factors \\sqrt{d_\\rho/|G|}\n",
    "#the resulting DFT will have signs \\pm 1 on the diagonal DFT.DFT^* = S, which can be factored as s = rr^*, so S=RR^*\n",
    "#again, uDFT = R^{-1}.DFT"
   ]
  },
  {
   "cell_type": "code",
   "execution_count": 2,
   "id": "367e923c-c757-478e-bedd-e752e8792357",
   "metadata": {},
   "outputs": [],
   "source": [
    "#for u in GF(q), we can factor as u=aa^* using gen. z and modular arithmetic\n",
    "def conj_square_root(u):\n",
    "    if u == 0:\n",
    "        return 0  # Special case for 0\n",
    "    z = F.multiplicative_generator()\n",
    "    k = u.log(z)  # Compute discrete log of u to the base z\n",
    "    if k % (q+1) != 0:\n",
    "        raise ValueError(\"Unable to factor: u is not in base field GF(q)\")\n",
    "    return z ** ((k//(q+1))%(q-1))"
   ]
  },
  {
   "cell_type": "code",
   "execution_count": 3,
   "id": "d436942b-2764-48cb-a318-e943960b671d",
   "metadata": {},
   "outputs": [],
   "source": [
    "#compute the uDFT by noting DFT.DFT^* = D, a diagonal matrix, and factoring as D = RR^*, so uDFT = R^{-1}.DFT\n",
    "def unitary_dft():\n",
    "    dft_matrix = SGA.dft()\n",
    "    sign_diag = (dft_matrix*dft_matrix.H).diagonal()\n",
    "    factor_diag_inv = diagonal_matrix([~conj_square_root(d) for d in sign_diag])\n",
    "    return factor_diag_inv*dft_matrix"
   ]
  },
  {
   "cell_type": "code",
   "execution_count": 92,
   "id": "8638af45-82cd-4ee0-936d-3fdbeb482f32",
   "metadata": {},
   "outputs": [],
   "source": [
    "#parameters and define the symmetric group algebra\n",
    "n = 3; q = 5\n",
    "F = GF(q**2)\n",
    "G = SymmetricGroup(n)\n",
    "SGA = G.algebra(F)\n",
    "assert F.is_finite()\n",
    "assert F.order().is_square()\n",
    "if F.characteristic().divides(G.cardinality()):\n",
    "    raise NotImplementedError(\"Not implemented when p|n!. Dimension of invariant forms may be greater than one and \\sqrt{d_\\rho/|G|} is not defined. See modular DFT.\")"
   ]
  },
  {
   "cell_type": "code",
   "execution_count": 93,
   "id": "58cdb5f2-a153-4884-9aab-906d8f9464b5",
   "metadata": {},
   "outputs": [
    {
     "name": "stdout",
     "output_type": "stream",
     "text": [
      "[1 0 0 0 0 0]\n",
      "[0 1 0 0 0 0]\n",
      "[0 0 1 0 0 0]\n",
      "[0 0 0 1 0 0]\n",
      "[0 0 0 0 1 0]\n",
      "[0 0 0 0 0 1]\n"
     ]
    }
   ],
   "source": [
    "print(unitary_dft()*unitary_dft().H)"
   ]
  },
  {
   "cell_type": "code",
   "execution_count": 94,
   "id": "3c453e94-82e6-406e-ac45-aef41a1ab77b",
   "metadata": {},
   "outputs": [],
   "source": [
    "#converting the unitary DFT over finite fields to a complex matrix using the root of unity map\n",
    "U = unitary_dft(); "
   ]
  },
  {
   "cell_type": "code",
   "execution_count": 95,
   "id": "0d5de1cd-1b8e-49b6-a959-0773c9c1314b",
   "metadata": {},
   "outputs": [],
   "source": [
    "z = F.multiplicative_generator()\n",
    "log_U = matrix([[U[(i,j)].log(z) if U[(i,j)] != 0 else -1 for j in range(U.nrows())] for i in range(U.nrows())])"
   ]
  },
  {
   "cell_type": "code",
   "execution_count": 96,
   "id": "425df9fe-be30-40e3-8aff-fa1348bc74f4",
   "metadata": {},
   "outputs": [
    {
     "name": "stdout",
     "output_type": "stream",
     "text": [
      "[ 0  0  0  0  0  0]\n",
      "[21  3  3 15 15  9]\n",
      "[-1 18  6  6 18 -1]\n",
      "[-1 22 10 22 10 -1]\n",
      "[21  3  3  3  3 21]\n",
      "[ 0  0  0 12 12 12]\n"
     ]
    }
   ],
   "source": [
    "print(log_U)"
   ]
  },
  {
   "cell_type": "code",
   "execution_count": 97,
   "id": "dbf3c83d-ea6e-4dcd-a491-332a715dcbe1",
   "metadata": {},
   "outputs": [],
   "source": [
    "to_root_of_unity = lambda a: 0 if a ==0 else exp(2*pi*I*a.log(F.multiplicative_generator())/(F.order()-1))"
   ]
  },
  {
   "cell_type": "code",
   "execution_count": 98,
   "id": "913954c0-dfdf-4099-b9b2-7c59a5e6e767",
   "metadata": {},
   "outputs": [],
   "source": [
    "U_complex = matrix(CC,[[to_root_of_unity(U[(i,j)]) for j in range(U.nrows())] for i in range(U.nrows())])"
   ]
  },
  {
   "cell_type": "code",
   "execution_count": 99,
   "id": "2ce4d9b0-c891-40de-9e2d-92e941e05901",
   "metadata": {},
   "outputs": [],
   "source": [
    "gram = U_complex*U_complex.H"
   ]
  },
  {
   "cell_type": "code",
   "execution_count": 100,
   "id": "9e4e0a10-8c5f-42df-974b-0e729c6ba084",
   "metadata": {},
   "outputs": [],
   "source": [
    "def round_complex(z, digits):\n",
    "    if z.imag_part():\n",
    "        return round(z.real_part(), digits) + round(z.imag_part(), digits) * I\n",
    "    return round(z, digits)"
   ]
  },
  {
   "cell_type": "code",
   "execution_count": 101,
   "id": "2ce34d19-f35e-486b-b373-1c77c4e5724f",
   "metadata": {},
   "outputs": [],
   "source": [
    "gram_rounded = gram.apply_map(lambda u:round_complex(u,2))"
   ]
  },
  {
   "cell_type": "code",
   "execution_count": 102,
   "id": "cc3df8b2-4ee4-4643-8963-be7578c9485c",
   "metadata": {},
   "outputs": [
    {
     "name": "stdout",
     "output_type": "stream",
     "text": [
      "[          6.0           0.0           0.0           0.0 4.24 - 1.41*I           0.0]\n",
      "[          0.0           6.0           0.0           0.0           0.0 4.24 + 1.41*I]\n",
      "[          0.0           0.0           4.0           0.0           0.0           0.0]\n",
      "[          0.0           0.0           0.0           4.0           0.0           0.0]\n",
      "[4.24 + 1.41*I           0.0           0.0           0.0           6.0           0.0]\n",
      "[          0.0 4.24 - 1.41*I           0.0           0.0           0.0           6.0]\n"
     ]
    }
   ],
   "source": [
    "print(gram_rounded)"
   ]
  },
  {
   "cell_type": "code",
   "execution_count": null,
   "id": "577cf124-887a-452b-ad8e-d218ab5a8cbb",
   "metadata": {},
   "outputs": [],
   "source": []
  }
 ],
 "metadata": {
  "kernelspec": {
   "display_name": "SageMath 10.5",
   "language": "sage",
   "name": "sagemath-10.5"
  },
  "language_info": {
   "codemirror_mode": {
    "name": "ipython",
    "version": 3
   },
   "file_extension": ".py",
   "mimetype": "text/x-python",
   "name": "python",
   "nbconvert_exporter": "python",
   "pygments_lexer": "ipython3",
   "version": "3.12.5"
  }
 },
 "nbformat": 4,
 "nbformat_minor": 5
}
