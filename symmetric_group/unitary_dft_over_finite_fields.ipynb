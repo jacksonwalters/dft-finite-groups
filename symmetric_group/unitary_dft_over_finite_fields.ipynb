{
 "cells": [
  {
   "cell_type": "code",
   "execution_count": 1,
   "id": "ba61a7c6-db85-4449-bd7a-b6209451b0a4",
   "metadata": {},
   "outputs": [],
   "source": [
    "#compute the uDFT by noting DFT.DFT^* = D, a diagonal matrix, and factoring as D = RR^*, so uDFT = R^{-1}.DFT\n",
    "#alternately, one could use unitary representations and normalization factors \\sqrt{d_\\rho/|G|}\n",
    "#the resulting DFT will have signs \\pm 1 on the diagonal DFT.DFT^* = S, which can be factored as s = rr^*, so S=RR^*\n",
    "#again, uDFT = R^{-1}.DFT"
   ]
  },
  {
   "cell_type": "code",
   "execution_count": 1,
   "id": "367e923c-c757-478e-bedd-e752e8792357",
   "metadata": {},
   "outputs": [],
   "source": [
    "#for u in GF(q), we can factor as u=aa^* using gen. z and modular arithmetic\n",
    "def conj_square_root(u):\n",
    "    if u == 0:\n",
    "        return 0  # Special case for 0\n",
    "    z = F.multiplicative_generator()\n",
    "    k = u.log(z)  # Compute discrete log of u to the base z\n",
    "    if k % (q+1) != 0:\n",
    "        raise ValueError(\"Unable to factor: u is not in base field GF(q)\")\n",
    "    return z ** ((k//(q+1))%(q-1))"
   ]
  },
  {
   "cell_type": "code",
   "execution_count": 2,
   "id": "d436942b-2764-48cb-a318-e943960b671d",
   "metadata": {},
   "outputs": [],
   "source": [
    "#compute the uDFT by noting DFT.DFT^* = D, a diagonal matrix, and factoring as D = RR^*, so uDFT = R^{-1}.DFT\n",
    "def unitary_dft():\n",
    "    dft_matrix = SGA.dft()\n",
    "    sign_diag = (dft_matrix*dft_matrix.H).diagonal()\n",
    "    factor_diag_inv = diagonal_matrix([~conj_square_root(d) for d in sign_diag])\n",
    "    return factor_diag_inv*dft_matrix"
   ]
  },
  {
   "cell_type": "code",
   "execution_count": 92,
   "id": "8638af45-82cd-4ee0-936d-3fdbeb482f32",
   "metadata": {},
   "outputs": [],
   "source": [
    "#parameters and define the symmetric group algebra\n",
    "n = 4; q = 7\n",
    "F = GF(q**2)\n",
    "SGA = SymmetricGroupAlgebra(F,n)\n",
    "assert F.characteristic() > 0, \"F must have positive characteristic\"\n",
    "if not (F.is_field() and F.is_finite() and F.order().is_square()):\n",
    "    raise ValueError(\"the base ring must be a finite field of square order\")\n",
    "if F.characteristic().divides(SGA.group().cardinality()):\n",
    "    raise NotImplementedError(\"not implemented when p|n!; dimension of invariant forms may be greater than one\")"
   ]
  },
  {
   "cell_type": "code",
   "execution_count": 166,
   "id": "1251c71a-3b52-43e8-bf6d-8f3dea6e4007",
   "metadata": {},
   "outputs": [],
   "source": [
    "#converting the unitary DFT over finite fields to a complex matrix using the root of unity map\n",
    "U = unitary_dft();"
   ]
  },
  {
   "cell_type": "code",
   "execution_count": 77,
   "id": "58cdb5f2-a153-4884-9aab-906d8f9464b5",
   "metadata": {},
   "outputs": [
    {
     "data": {
      "text/plain": [
       "True"
      ]
     },
     "execution_count": 77,
     "metadata": {},
     "output_type": "execute_result"
    }
   ],
   "source": [
    "#check that U is unitary over a finite field\n",
    "U*U.H == 1"
   ]
  },
  {
   "cell_type": "code",
   "execution_count": 165,
   "id": "741f25cc-52c7-43c1-8d7c-7fc148df3bdc",
   "metadata": {},
   "outputs": [],
   "source": [
    "#given a multiplicative generator `z` of the finite field, the discrete_log is the exponent of the generator\n",
    "#the discrete_log of zero is -infinity, which we set to -1 for convenience since all other values are nonnegative\n",
    "discrete_log = lambda F, x: x.log(F.multiplicative_generator()) if x != 0 else -1"
   ]
  },
  {
   "cell_type": "code",
   "execution_count": 167,
   "id": "0d5de1cd-1b8e-49b6-a959-0773c9c1314b",
   "metadata": {},
   "outputs": [],
   "source": [
    "#compute the discrete log of each entry of U\n",
    "log_U = U.apply_map(lambda x: discrete_log(F,x))"
   ]
  },
  {
   "cell_type": "code",
   "execution_count": 168,
   "id": "a1624dfe-11e0-45fd-af51-7d5d70b86315",
   "metadata": {},
   "outputs": [
    {
     "data": {
      "text/plain": [
       "24 x 24 dense matrix over Finite Field in z2 of size 7^2 (use the '.str()' method to see the entries)"
      ]
     },
     "execution_count": 168,
     "metadata": {},
     "output_type": "execute_result"
    }
   ],
   "source": [
    "U"
   ]
  },
  {
   "cell_type": "code",
   "execution_count": 169,
   "id": "425df9fe-be30-40e3-8aff-fa1348bc74f4",
   "metadata": {},
   "outputs": [
    {
     "data": {
      "image/png": "[encoded data removed]",
      "text/plain": [
       "<Figure size 640x480 with 2 Axes>"
      ]
     },
     "metadata": {},
     "output_type": "display_data"
    }
   ],
   "source": [
    "import numpy as np\n",
    "import matplotlib.pyplot as plt\n",
    "from matplotlib.colors import ListedColormap, BoundaryNorm\n",
    "\n",
    "cmap = plt.cm.hsv  # Get the HSV colormap\n",
    "new_colors = np.vstack(([0, 0, 0, 1], cmap(np.linspace(0, 1, F.order()))))  # Add black as the first color\n",
    "custom_cmap = ListedColormap(new_colors) # create a new custom colormap\n",
    "norm = BoundaryNorm([-1]+[i for i in range(F.order())], custom_cmap.N)  # Maps -1 to black, 0 to the first color of HSV\n",
    "\n",
    "# Plotting the data\n",
    "plt.imshow(log_U, cmap=custom_cmap, norm=norm, interpolation=\"nearest\")\n",
    "plt.colorbar()\n",
    "plt.show()"
   ]
  },
  {
   "cell_type": "code",
   "execution_count": 170,
   "id": "dbf3c83d-ea6e-4dcd-a491-332a715dcbe1",
   "metadata": {},
   "outputs": [],
   "source": [
    "#the map from modular representation theory to compute Brauer characters from F_q --> \\C giving roots of unity\n",
    "brauer_map = lambda a, F: 0 if a == 0 else exp(2*pi*I*a.log(F.multiplicative_generator())/(F.order()-1))"
   ]
  },
  {
   "cell_type": "code",
   "execution_count": 194,
   "id": "913954c0-dfdf-4099-b9b2-7c59a5e6e767",
   "metadata": {},
   "outputs": [],
   "source": [
    "#complexify the uDFT matrix over F_q using the Brauer map\n",
    "U_complex = matrix(CC,U.apply_map(lambda a: brauer_map(a,F)))"
   ]
  },
  {
   "cell_type": "code",
   "execution_count": 172,
   "id": "2ce4d9b0-c891-40de-9e2d-92e941e05901",
   "metadata": {},
   "outputs": [],
   "source": [
    "#compute the Gram matrix, taking inner products of rows and columns w.r.t conjugate inner product\n",
    "gram = U_complex*U_complex.H"
   ]
  },
  {
   "cell_type": "code",
   "execution_count": 173,
   "id": "9e4e0a10-8c5f-42df-974b-0e729c6ba084",
   "metadata": {},
   "outputs": [],
   "source": [
    "#function to round each component of a complex number \n",
    "def round_complex(z, digits):\n",
    "    if z.imag_part():\n",
    "        return round(z.real_part(), digits) + round(z.imag_part(), digits) * I\n",
    "    return round(z, digits)"
   ]
  },
  {
   "cell_type": "code",
   "execution_count": 174,
   "id": "2ce34d19-f35e-486b-b373-1c77c4e5724f",
   "metadata": {},
   "outputs": [],
   "source": [
    "#round the (complex) Gram matrix to three decimal places\n",
    "gram_rounded = gram.apply_map(lambda u:round_complex(u,3))"
   ]
  },
  {
   "cell_type": "code",
   "execution_count": 175,
   "id": "cc3df8b2-4ee4-4643-8963-be7578c9485c",
   "metadata": {},
   "outputs": [],
   "source": [
    "#plot the complexified version of the uDFT matrix over a finite field\n",
    "def plot_complex(U_complex):\n",
    "    U_arg = U_complex.apply_map(lambda x: arg(x))  # find the argument of each element\n",
    "    return matrix_plot(U_arg, cmap='hsv', colorbar=True)  # plot the matrix"
   ]
  },
  {
   "cell_type": "code",
   "execution_count": 176,
   "id": "daca587f-859b-42fb-9c22-08f9e377c953",
   "metadata": {},
   "outputs": [
    {
     "data": {
      "image/png": "[encoded data removed]",
      "text/plain": [
       "Graphics object consisting of 1 graphics primitive"
      ]
     },
     "execution_count": 176,
     "metadata": {},
     "output_type": "execute_result"
    }
   ],
   "source": [
    "#plot the complexified version of the uDFT matrix over a finite field\n",
    "plot_complex(U_complex)"
   ]
  },
  {
   "cell_type": "code",
   "execution_count": 177,
   "id": "89edaab1-11b3-4425-b764-25a301e78785",
   "metadata": {},
   "outputs": [
    {
     "data": {
      "image/png": "[encoded data removed]",
      "text/plain": [
       "Graphics object consisting of 1 graphics primitive"
      ]
     },
     "execution_count": 177,
     "metadata": {},
     "output_type": "execute_result"
    }
   ],
   "source": [
    "#plot the result of U_complex*U_complex.H to see how far it is from being unitary over the complex numbers\n",
    "plot_complex(gram)"
   ]
  },
  {
   "cell_type": "code",
   "execution_count": 178,
   "id": "187d0d5b-3f3c-4d75-866d-36e3a509b54d",
   "metadata": {},
   "outputs": [
    {
     "data": {
      "text/plain": [
       "[6, 5*z2 + 3, 4*z14^13 + 6*z14^12 + 4*z14^11 + 5*z14^10 + 4*z14^8 + 3*z14^6 + 3*z14^5 + 5*z14^4 + z14^3 + 4*z14^2 + 4*z14 + 1, 2*z14^13 + z14^12 + 2*z14^11 + 5*z14^10 + 6*z14^8 + 2*z14^7 + 6*z14^6 + 5*z14^5 + 4*z14^4 + 3*z14^3 + 3*z14^2 + 4*z14 + 2, z14^13 + 2*z14^12 + 2*z14^11 + 4*z14^10 + 4*z14^9 + 2*z14^6 + z14^3 + 2*z14 + 3, z14^13 + 4*z14^12 + 3*z14^11 + 5*z14^10 + z14^9 + 5*z14^6 + 4*z14^5 + 5*z14^4 + 5*z14^3 + z14^2 + 5*z14 + 3, 3*z14^13 + 6*z14^12 + z14^11 + 3*z14^10 + 4*z14^9 + 6*z14^7 + 5*z14^6 + 3*z14^5 + 6*z14^4 + 2*z14^3 + 4*z14 + 5, 2*z14^13 + 2*z14^12 + z14^11 + 3*z14^9 + 3*z14^8 + 3*z14^7 + 5*z14^5 + 4*z14^4 + 2*z14^3 + 4*z14^2 + 4*z14 + 6, 6*z14^13 + 3*z14^12 + 6*z14^11 + 2*z14^9 + 4*z14^8 + 5*z14^6 + 4*z14^5 + z14^4 + 3*z14^3 + 3*z14^2, 6*z30^29 + 3*z30^28 + 6*z30^27 + 2*z30^25 + 3*z30^24 + 3*z30^23 + 5*z30^22 + 3*z30^21 + 4*z30^20 + 4*z30^19 + 2*z30^17 + 6*z30^16 + 4*z30^15 + 6*z30^14 + 4*z30^12 + 3*z30^11 + 4*z30^10 + 6*z30^9 + 6*z30^8 + 5*z30^7 + 5*z30^6 + 4*z30^5 + 5*z30^4 + 2*z30^3 + 3*z30^2 + 1, z30^29 + 6*z30^28 + 4*z30^26 + 2*z30^25 + 6*z30^24 + 6*z30^23 + 6*z30^22 + 3*z30^21 + z30^20 + 4*z30^19 + 6*z30^18 + 2*z30^17 + z30^16 + 3*z30^15 + 5*z30^13 + 2*z30^12 + 5*z30^11 + 6*z30^10 + 6*z30^9 + 2*z30^8 + 2*z30^6 + 5*z30^5 + 2*z30^4 + 6*z30^3 + 3*z30^2 + z30 + 2, 2*z30^29 + 4*z30^28 + 5*z30^27 + z30^26 + 3*z30^25 + 5*z30^24 + 5*z30^23 + 6*z30^22 + 2*z30^21 + z30^20 + 4*z30^19 + 3*z30^17 + 3*z30^16 + 4*z30^14 + 2*z30^13 + z30^12 + 3*z30^10 + 5*z30^9 + 2*z30^8 + 2*z30^7 + 6*z30^6 + 5*z30^5 + 3*z30^4 + 4*z30^3 + 4*z30^2 + 3*z30 + 2, 4*z30^29 + 5*z30^28 + 6*z30^27 + 2*z30^26 + 2*z30^25 + 5*z30^24 + z30^23 + 6*z30^22 + 6*z30^20 + 3*z30^19 + z30^18 + 4*z30^17 + 4*z30^16 + z30^15 + z30^14 + 6*z30^13 + 3*z30^12 + 3*z30^11 + 2*z30^10 + z30^9 + 2*z30^8 + 5*z30^7 + 2*z30^6 + 6*z30^5 + 4*z30^3 + z30^2 + 4*z30 + 2, 6*z30^29 + 6*z30^28 + 6*z30^27 + z30^26 + 5*z30^25 + 4*z30^24 + 2*z30^23 + 5*z30^22 + 3*z30^21 + 6*z30^20 + z30^18 + 2*z30^17 + 3*z30^16 + 4*z30^15 + 6*z30^14 + 3*z30^13 + 4*z30^12 + 2*z30^11 + 5*z30^10 + z30^8 + 2*z30^7 + 5*z30^6 + 6*z30^4 + 6*z30^3 + 4*z30 + 2, z30^29 + 6*z30^28 + 2*z30^27 + 5*z30^26 + 6*z30^25 + 2*z30^24 + 3*z30^23 + 5*z30^21 + 4*z30^19 + 6*z30^18 + z30^17 + 4*z30^16 + 2*z30^15 + 4*z30^14 + z30^13 + 5*z30^12 + 4*z30^11 + 4*z30^10 + 6*z30^9 + 6*z30^8 + 6*z30^7 + 2*z30^6 + 3*z30^4 + 5*z30^3 + z30^2 + z30 + 3, 4*z30^29 + 6*z30^27 + 6*z30^26 + 4*z30^25 + z30^24 + z30^22 + 6*z30^21 + 6*z30^20 + 5*z30^19 + 5*z30^17 + 4*z30^16 + 3*z30^15 + 3*z30^14 + 6*z30^13 + 6*z30^12 + z30^11 + 2*z30^10 + 4*z30^9 + 5*z30^7 + 5*z30^6 + 3*z30^4 + 5*z30^3 + 2*z30 + 3, 4*z30^29 + z30^28 + 2*z30^27 + 6*z30^24 + 2*z30^22 + 4*z30^21 + 5*z30^20 + 5*z30^19 + 2*z30^17 + z30^16 + z30^13 + 4*z30^12 + 6*z30^11 + 2*z30^10 + 5*z30^9 + 2*z30^8 + 2*z30^7 + z30^6 + z30^5 + 6*z30^4 + z30^3 + 2*z30^2 + 4, 6*z30^29 + 6*z30^28 + 4*z30^27 + 6*z30^26 + z30^25 + z30^24 + 5*z30^23 + 5*z30^22 + 4*z30^21 + 3*z30^20 + 6*z30^19 + 5*z30^18 + 6*z30^17 + z30^16 + z30^15 + 5*z30^14 + 5*z30^13 + 4*z30^12 + 2*z30^11 + 3*z30^10 + 2*z30^8 + 5*z30^7 + z30^6 + 3*z30^4 + 5*z30^3 + 4, 4*z30^29 + 4*z30^28 + 6*z30^27 + 3*z30^26 + 4*z30^25 + z30^24 + 6*z30^22 + 3*z30^21 + 6*z30^20 + 4*z30^19 + z30^18 + 5*z30^17 + 4*z30^16 + 3*z30^15 + 4*z30^13 + z30^12 + 3*z30^11 + 3*z30^10 + 3*z30^9 + z30^8 + 5*z30^7 + z30^5 + 6*z30^4 + 5*z30^3 + z30^2 + 3*z30 + 5, z30^29 + 3*z30^27 + 2*z30^26 + 2*z30^24 + 2*z30^23 + 5*z30^22 + 5*z30^21 + 5*z30^20 + 3*z30^19 + 5*z30^18 + 3*z30^16 + 2*z30^14 + 5*z30^13 + 3*z30^12 + 5*z30^11 + 4*z30^10 + 4*z30^9 + 6*z30^8 + 6*z30^7 + 5*z30^6 + 6*z30^5 + z30^3 + 5*z30^2 + 4*z30 + 5, z30^29 + 4*z30^27 + 2*z30^26 + 4*z30^25 + z30^24 + 5*z30^23 + 6*z30^21 + 4*z30^20 + 4*z30^19 + 3*z30^18 + 4*z30^17 + z30^16 + z30^14 + 3*z30^13 + 4*z30^12 + z30^11 + 2*z30^9 + z30^8 + 4*z30^7 + z30^6 + z30^3 + 5*z30 + 6, 6*z30^28 + 6*z30^27 + 5*z30^26 + 2*z30^25 + 3*z30^23 + 4*z30^21 + z30^20 + 3*z30^19 + 2*z30^18 + 6*z30^17 + 3*z30^16 + 2*z30^15 + 5*z30^14 + 3*z30^13 + 4*z30^9 + 6*z30^8 + 2*z30^7 + 4*z30^6 + 3*z30^5 + z30^4 + z30^2 + 6*z30 + 1, 5*z30^28 + 2*z30^24 + z30^21 + 2*z30^20 + 4*z30^19 + 3*z30^18 + 4*z30^17 + z30^16 + z30^15 + 5*z30^14 + 4*z30^12 + 5*z30^11 + 4*z30^9 + 6*z30^8 + 3*z30^7 + 4*z30^5 + 4*z30^4 + 6*z30^3 + 2*z30 + 2, 4*z30^28 + z30^27 + 2*z30^26 + 5*z30^25 + z30^24 + 4*z30^23 + 6*z30^22 + 3*z30^21 + 3*z30^20 + 5*z30^19 + z30^18 + 6*z30^15 + z30^14 + z30^12 + 6*z30^11 + z30^10 + 4*z30^9 + 5*z30^8 + z30^7 + 2*z30^6 + 3*z30^5 + 2*z30^4 + 3*z30^3 + 5*z30^2 + 4*z30 + 4]"
      ]
     },
     "execution_count": 178,
     "metadata": {},
     "output_type": "execute_result"
    }
   ],
   "source": [
    "#compute the eigenvalues of the uDFT matrix\n",
    "eigenvalues = U.eigenvalues(); eigenvalues"
   ]
  },
  {
   "cell_type": "code",
   "execution_count": 179,
   "id": "787c4350-2f3a-4e24-8e48-b664ea502f44",
   "metadata": {},
   "outputs": [
    {
     "data": {
      "text/plain": [
       "True"
      ]
     },
     "execution_count": 179,
     "metadata": {},
     "output_type": "execute_result"
    }
   ],
   "source": [
    "#compute the multiplicity of each eigenvalue. check if all eigenvalues are distinct\n",
    "from collections import Counter\n",
    "multiplicities = Counter(eigenvalues)\n",
    "all_unique = all(count == 1 for count in multiplicities.values()); all_unique"
   ]
  },
  {
   "cell_type": "code",
   "execution_count": 180,
   "id": "577cf124-887a-452b-ad8e-d218ab5a8cbb",
   "metadata": {},
   "outputs": [
    {
     "data": {
      "text/plain": [
       "x^24 + z2*x^23 + (2*z2 + 2)*x^22 + (4*z2 + 4)*x^21 + (2*z2 + 6)*x^20 + 4*z2*x^19 + 2*z2*x^18 + (4*z2 + 3)*x^17 + (4*z2 + 6)*x^16 + (5*z2 + 2)*x^15 + 2*z2*x^14 + (6*z2 + 2)*x^13 + 5*z2*x^11 + (z2 + 5)*x^10 + (z2 + 1)*x^9 + z2*x^8 + (5*z2 + 5)*x^7 + (z2 + 5)*x^6 + (2*z2 + 3)*x^5 + 2*x^4 + (6*z2 + 1)*x^3 + (3*z2 + 4)*x^2 + (4*z2 + 6)*x + z2 + 3"
      ]
     },
     "execution_count": 180,
     "metadata": {},
     "output_type": "execute_result"
    }
   ],
   "source": [
    "#compute the charpoly of the uDFT matrix \n",
    "minpoly = U.minimal_polynomial(); minpoly"
   ]
  },
  {
   "cell_type": "code",
   "execution_count": 187,
   "id": "9ec1d71f-fd57-4261-9129-a634f0184e24",
   "metadata": {},
   "outputs": [
    {
     "name": "stdout",
     "output_type": "stream",
     "text": [
      "Finite Field in z30 of size 7^30\n",
      "x^30 + x^22 + 4*x^21 + 4*x^20 + x^19 + 4*x^18 + x^16 + 2*x^15 + 3*x^14 + 6*x^13 + 5*x^12 + 2*x^11 + 3*x^10 + 3*x^9 + 2*x^8 + 4*x^7 + 2*x^6 + 3*x^5 + x^3 + 5*x^2 + 2*x + 3\n"
     ]
    }
   ],
   "source": [
    "#compute a splitting field of the characteristic polynomial\n",
    "#K = charpoly.splitting_field('a'); K\n",
    "K = GF(q**30); print(K)\n",
    "print(K.multiplicative_generator().minimal_polynomial())"
   ]
  },
  {
   "cell_type": "code",
   "execution_count": 182,
   "id": "a8d24cd3-3d8e-4e60-ab01-63a3fac92936",
   "metadata": {},
   "outputs": [],
   "source": [
    "#compute the eigenvalues over a specific field K rather than using the algebraic closure\n",
    "eigenvalues_K = matrix(K,U).eigenvalues(extend=False)"
   ]
  },
  {
   "cell_type": "code",
   "execution_count": 188,
   "id": "a43cd6e7-9147-4709-bd33-213d71716b28",
   "metadata": {},
   "outputs": [
    {
     "data": {
      "text/plain": [
       "[11269670145346129043931624,\n",
       " 19569211138526239672164486,\n",
       " 20790904065162128909891334,\n",
       " 6379196630969910098252790,\n",
       " 424304164595145487956966,\n",
       " 14087087681682661304914530,\n",
       " 14785335754071908710154310,\n",
       " 13690777798835597759922054,\n",
       " 3222562647371267985937254,\n",
       " 16861256861612106119861862,\n",
       " 17207243712868805688146454,\n",
       " 22520742049785640274165718,\n",
       " 21628026486267985216684278,\n",
       " 12239053578710904245803398,\n",
       " 4483986111792702630829206,\n",
       " 130187686346324695882710,\n",
       " 9199351174957929468236070]"
      ]
     },
     "execution_count": 188,
     "metadata": {},
     "output_type": "execute_result"
    }
   ],
   "source": [
    "#compute the discrete log of the eigenvalues\n",
    "log_eigenvalues = list(map(lambda x: discrete_log(K,x), eigenvalues_K)); log_eigenvalues"
   ]
  },
  {
   "cell_type": "code",
   "execution_count": 197,
   "id": "c41fcb01-39a8-4e24-a828-45a0f19bf842",
   "metadata": {},
   "outputs": [
    {
     "data": {
      "text/plain": [
       "[-1,\n",
       " e^(4121949994233/2373780754972*I*pi),\n",
       " e^(4379280609977/2373780754972*I*pi),\n",
       " e^(1343678563745/2373780754972*I*pi),\n",
       " e^(89373073673/2373780754972*I*pi),\n",
       " -(1/2*I + 1/2)*sqrt(2),\n",
       " e^(3114301041305/2373780754972*I*pi),\n",
       " e^(2883749430137/2373780754972*I*pi),\n",
       " e^(678782705737/2373780754972*I*pi),\n",
       " e^(3551561538761/2373780754972*I*pi),\n",
       " e^(3624438288337/2373780754972*I*pi),\n",
       " e^(4743644079729/2373780754972*I*pi),\n",
       " e^(4555607429409/2373780754972*I*pi),\n",
       " e^(2577966299769/2373780754972*I*pi),\n",
       " e^(944481941393/2373780754972*I*pi),\n",
       " e^(27422011505/2373780754972*I*pi),\n",
       " e^(1937700260585/2373780754972*I*pi)]"
      ]
     },
     "execution_count": 197,
     "metadata": {},
     "output_type": "execute_result"
    }
   ],
   "source": [
    "#compute the complexified eigenvalue\n",
    "complex_eigenvalues = [brauer_map(eig,K) for eig in eigenvalues_K]; complex_eigenvalues"
   ]
  },
  {
   "cell_type": "code",
   "execution_count": 198,
   "id": "997124ab-f397-42cf-a36d-fc1670e27bf0",
   "metadata": {},
   "outputs": [],
   "source": [
    "import matplotlib.pyplot as plt\n",
    "import numpy as np\n",
    "\n",
    "# Extract real and imaginary parts for plotting\n",
    "real_parts = [eig.real() for eig in complex_eigenvalues]\n",
    "imaginary_parts = [eig.imag() for eig in complex_eigenvalues]"
   ]
  },
  {
   "cell_type": "code",
   "execution_count": 199,
   "id": "92b0d6ae-51a8-43d2-9ead-f4b40d89b9ac",
   "metadata": {},
   "outputs": [
    {
     "data": {
      "image/png": "[encoded data removed]",
      "text/plain": [
       "<Figure size 600x600 with 1 Axes>"
      ]
     },
     "metadata": {},
     "output_type": "display_data"
    }
   ],
   "source": [
    "# Plotting the eigenvalues on the complex plane\n",
    "plt.figure(figsize=(6,6))\n",
    "plt.scatter(real_parts, imaginary_parts, color='blue', label=\"Eigenvalues\")\n",
    "plt.axhline(0, color='black',linewidth=0.5)\n",
    "plt.axvline(0, color='black',linewidth=0.5)\n",
    "plt.gca().set_aspect('equal', adjustable='box')\n",
    "plt.title(f'Eigenvalues of uDFT of Symmetric Group over F_{q} for n={n}')\n",
    "plt.xlabel('Real Part')\n",
    "plt.ylabel('Imaginary Part')\n",
    "plt.grid(True)\n",
    "plt.show()"
   ]
  },
  {
   "cell_type": "code",
   "execution_count": null,
   "id": "f4558cc4-ca09-4785-affd-9da688591bb2",
   "metadata": {},
   "outputs": [],
   "source": []
  }
 ],
 "metadata": {
  "kernelspec": {
   "display_name": "SageMath 10.5",
   "language": "sage",
   "name": "sagemath-10.5"
  },
  "language_info": {
   "codemirror_mode": {
    "name": "ipython",
    "version": 3
   },
   "file_extension": ".py",
   "mimetype": "text/x-python",
   "name": "python",
   "nbconvert_exporter": "python",
   "pygments_lexer": "ipython3",
   "version": "3.12.5"
  }
 },
 "nbformat": 4,
 "nbformat_minor": 5
}
