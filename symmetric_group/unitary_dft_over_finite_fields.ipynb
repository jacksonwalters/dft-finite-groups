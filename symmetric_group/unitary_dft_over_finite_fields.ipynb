{
 "cells": [
  {
   "cell_type": "code",
   "execution_count": 1,
   "id": "ba61a7c6-db85-4449-bd7a-b6209451b0a4",
   "metadata": {},
   "outputs": [],
   "source": [
    "#compute the uDFT by noting DFT.DFT^* = D, a diagonal matrix, and factoring as D = RR^*, so uDFT = R^{-1}.DFT\n",
    "#alternately, one could use unitary representations and normalization factors \\sqrt{d_\\rho/|G|}\n",
    "#the resulting DFT will have signs \\pm 1 on the diagonal DFT.DFT^* = S, which can be factored as s = rr^*, so S=RR^*\n",
    "#again, uDFT = R^{-1}.DFT"
   ]
  },
  {
   "cell_type": "code",
   "execution_count": 24,
   "id": "367e923c-c757-478e-bedd-e752e8792357",
   "metadata": {},
   "outputs": [],
   "source": [
    "#for u in GF(q), we can factor as u=aa^*=aa^q=a^{q+1} in GF(q**2) using gen. z and modular arithmetic\n",
    "def conj_sqrt(u):\n",
    "    if u == 0:\n",
    "        return 0\n",
    "    z = u.parent().multiplicative_generator()\n",
    "    k = u.log(z)  # Compute discrete log of u to the base z\n",
    "    if k % (q+1) != 0:\n",
    "        raise ValueError(\"exponent must be divisible by q+1\")\n",
    "    return z ** (k//(q+1))"
   ]
  },
  {
   "cell_type": "code",
   "execution_count": 25,
   "id": "d436942b-2764-48cb-a318-e943960b671d",
   "metadata": {},
   "outputs": [],
   "source": [
    "#compute the uDFT by noting DFT.DFT^* = D, a diagonal matrix, and factoring as D = RR^*, so uDFT = R^{-1}.DFT\n",
    "def unitary_dft():\n",
    "    dft_matrix = SGA.dft()\n",
    "    sign_diag = (dft_matrix*dft_matrix.H).diagonal()\n",
    "    factor_diag_inv = diagonal_matrix([~conj_sqrt(d) for d in sign_diag])\n",
    "    return factor_diag_inv*dft_matrix"
   ]
  },
  {
   "cell_type": "code",
   "execution_count": 26,
   "id": "8638af45-82cd-4ee0-936d-3fdbeb482f32",
   "metadata": {},
   "outputs": [],
   "source": [
    "#parameters and define the symmetric group algebra\n",
    "n = 3; q = 11\n",
    "F = GF(q**2)\n",
    "SGA = SymmetricGroupAlgebra(F,n) # F[S_n], group algebra\n",
    "assert F.characteristic() > 0, \"F must have positive characteristic\"\n",
    "if not (F.is_field() and F.is_finite() and F.order().is_square()):\n",
    "    raise ValueError(\"the base ring must be a finite field of square order\")\n",
    "if F.characteristic().divides(SGA.group().cardinality()):\n",
    "    raise NotImplementedError(\"not implemented when p|n!; dimension of invariant forms may be greater than one\")"
   ]
  },
  {
   "cell_type": "code",
   "execution_count": 27,
   "id": "1251c71a-3b52-43e8-bf6d-8f3dea6e4007",
   "metadata": {},
   "outputs": [
    {
     "data": {
      "text/plain": [
       "'[ 7*z2 + 7  7*z2 + 7  7*z2 + 7  7*z2 + 7  7*z2 + 7  7*z2 + 7]\\n[ 2*z2 + 8    z2 + 4  9*z2 + 3 10*z2 + 7 10*z2 + 7    z2 + 4]\\n[        0  6*z2 + 7         0  6*z2 + 7  5*z2 + 4  5*z2 + 4]\\n[        0 10*z2 + 9         0    z2 + 2 10*z2 + 9    z2 + 2]\\n[ 2*z2 + 8 10*z2 + 7  2*z2 + 8 10*z2 + 7 10*z2 + 7 10*z2 + 7]\\n[ 7*z2 + 7  4*z2 + 4  4*z2 + 4  7*z2 + 7  7*z2 + 7  4*z2 + 4]'"
      ]
     },
     "execution_count": 27,
     "metadata": {},
     "output_type": "execute_result"
    }
   ],
   "source": [
    "#converting the unitary DFT over finite fields to a complex matrix using the root of unity map\n",
    "U = unitary_dft(); U.str()"
   ]
  },
  {
   "cell_type": "code",
   "execution_count": 28,
   "id": "58cdb5f2-a153-4884-9aab-906d8f9464b5",
   "metadata": {},
   "outputs": [
    {
     "data": {
      "text/plain": [
       "True"
      ]
     },
     "execution_count": 28,
     "metadata": {},
     "output_type": "execute_result"
    }
   ],
   "source": [
    "#check that U is unitary over a finite field. .H is conjugate-transpose\n",
    "U*U.H == 1"
   ]
  },
  {
   "cell_type": "code",
   "execution_count": 29,
   "id": "741f25cc-52c7-43c1-8d7c-7fc148df3bdc",
   "metadata": {},
   "outputs": [],
   "source": [
    "#given a multiplicative generator `z` of the finite field, the discrete_log is the exponent of the generator\n",
    "#the discrete_log of zero is -infinity, which we set to -1 for convenience since all other values are nonnegative\n",
    "discrete_log = lambda F, x: x.log(F.multiplicative_generator()) if x != 0 else -1"
   ]
  },
  {
   "cell_type": "code",
   "execution_count": 30,
   "id": "0d5de1cd-1b8e-49b6-a959-0773c9c1314b",
   "metadata": {},
   "outputs": [],
   "source": [
    "#compute the discrete log of each entry of U\n",
    "log_U = U.apply_map(lambda x: discrete_log(F,x))"
   ]
  },
  {
   "cell_type": "code",
   "execution_count": 125,
   "id": "a1624dfe-11e0-45fd-af51-7d5d70b86315",
   "metadata": {},
   "outputs": [
    {
     "data": {
      "text/plain": [
       "[111 111 111 111 111 111]\n",
       "[112 100  52  40  40 100]\n",
       "[ -1  68  -1  68   8   8]\n",
       "[ -1 118  -1  58 118  58]\n",
       "[112  40 112  40  40  40]\n",
       "[111  51  51 111 111  51]"
      ]
     },
     "execution_count": 125,
     "metadata": {},
     "output_type": "execute_result"
    }
   ],
   "source": [
    "log_U"
   ]
  },
  {
   "cell_type": "code",
   "execution_count": 124,
   "id": "425df9fe-be30-40e3-8aff-fa1348bc74f4",
   "metadata": {},
   "outputs": [],
   "source": [
    "\"\"\"\n",
    "plot the discrete log of a matrix valued in a finite field\n",
    "since log(0) = -infinity, we set this to -1, and color it black\n",
    "\n",
    "- F is the field\n",
    "- M is a matrix of discrete log values of elements of F\n",
    "\n",
    "BUG: this is not working for large splitting fields, when the matrix values are ~7 digits\n",
    "\"\"\"\n",
    "def plot_discrete_log(F, M):\n",
    "    import numpy as np\n",
    "    import matplotlib.pyplot as plt\n",
    "    from matplotlib.colors import ListedColormap, BoundaryNorm\n",
    "\n",
    "    cmap = plt.cm.hsv  # Get the HSV colormap\n",
    "    num_colors = max(F.order(), 256) #for large fields we can't use that many colors, set a cutoff\n",
    "    new_colors = np.vstack(([0, 0, 0, 1], cmap(np.linspace(0, 1, num_colors))))\n",
    "    custom_cmap = ListedColormap(new_colors) # create a new custom colormap\n",
    "    norm = BoundaryNorm([-1] + list(np.linspace(0, F.order()-1, num_colors)), custom_cmap.N) #map -1 to black\n",
    "\n",
    "    # Plotting the data\n",
    "    plt.imshow(M, cmap=custom_cmap, norm=norm, interpolation=\"nearest\")\n",
    "    plt.colorbar()\n",
    "    plt.show()"
   ]
  },
  {
   "cell_type": "code",
   "execution_count": 123,
   "id": "dd212ab8-22f9-4968-954f-64a822d3e205",
   "metadata": {},
   "outputs": [
    {
     "data": {
      "image/png": "[encoded data removed]",
      "text/plain": [
       "<Figure size 640x480 with 2 Axes>"
      ]
     },
     "metadata": {},
     "output_type": "display_data"
    }
   ],
   "source": [
    "plot_discrete_log(F,log_U)"
   ]
  },
  {
   "cell_type": "code",
   "execution_count": 34,
   "id": "dbf3c83d-ea6e-4dcd-a491-332a715dcbe1",
   "metadata": {},
   "outputs": [],
   "source": [
    "#the map from modular representation theory to compute Brauer characters from F_q --> \\C giving roots of unity\n",
    "#note: Brauer character is the rep'n matrix eigenvalues (over a splitting field extension of F_q) mapped to \\C using Brauer map and summed\n",
    "#i.e. let \\alpha = g^k |--> \\exp(2*pi*i*k/(q-1))\n",
    "#i.e. F_q^* is cyclic of order q-1, mapping to (q-1)^th roots of unity in \\C\n",
    "brauer_map = lambda a, F: 0 if a == 0 else exp(2*pi*I*a.log(F.multiplicative_generator())/(F.order()-1))"
   ]
  },
  {
   "cell_type": "code",
   "execution_count": 35,
   "id": "913954c0-dfdf-4099-b9b2-7c59a5e6e767",
   "metadata": {},
   "outputs": [],
   "source": [
    "#complexify the uDFT matrix over F_q using the Brauer map\n",
    "U_complex = matrix(CC,U.apply_map(lambda a: brauer_map(a,F)))"
   ]
  },
  {
   "cell_type": "code",
   "execution_count": 36,
   "id": "2ce4d9b0-c891-40de-9e2d-92e941e05901",
   "metadata": {},
   "outputs": [],
   "source": [
    "#compute the Gram matrix, taking inner products of rows and columns w.r.t conjugate inner product\n",
    "#note: want this to be the identity matrix (so it would be unitary over \\C), but currently it is not quite\n",
    "#unitary matrices are required if they are to be used as operators in quantum computing\n",
    "gram = U_complex*U_complex.H"
   ]
  },
  {
   "cell_type": "code",
   "execution_count": 37,
   "id": "9e4e0a10-8c5f-42df-974b-0e729c6ba084",
   "metadata": {},
   "outputs": [],
   "source": [
    "#function to round each component of a complex number \n",
    "def round_complex(z, digits):\n",
    "    if z.imag_part():\n",
    "        return round(z.real_part(), digits) + round(z.imag_part(), digits) * I\n",
    "    return round(z, digits)"
   ]
  },
  {
   "cell_type": "code",
   "execution_count": 38,
   "id": "2ce34d19-f35e-486b-b373-1c77c4e5724f",
   "metadata": {},
   "outputs": [],
   "source": [
    "#round the (complex) Gram matrix to three decimal places\n",
    "gram_rounded = gram.apply_map(lambda u:round_complex(u,3))"
   ]
  },
  {
   "cell_type": "code",
   "execution_count": 39,
   "id": "cc3df8b2-4ee4-4643-8963-be7578c9485c",
   "metadata": {},
   "outputs": [],
   "source": [
    "#plot the complexified version of the uDFT matrix over a finite field\n",
    "def plot_complex(U_complex):\n",
    "    U_arg = U_complex.apply_map(lambda x: arg(x))  # find the argument of each element\n",
    "    return matrix_plot(U_arg, cmap='hsv', colorbar=True)  # plot the matrix"
   ]
  },
  {
   "cell_type": "code",
   "execution_count": 40,
   "id": "daca587f-859b-42fb-9c22-08f9e377c953",
   "metadata": {},
   "outputs": [
    {
     "data": {
      "image/png": "[encoded data removed]",
      "text/plain": [
       "Graphics object consisting of 1 graphics primitive"
      ]
     },
     "execution_count": 40,
     "metadata": {},
     "output_type": "execute_result"
    }
   ],
   "source": [
    "#plot the complexified version of the uDFT matrix over a finite field\n",
    "plot_complex(U_complex)"
   ]
  },
  {
   "cell_type": "code",
   "execution_count": 41,
   "id": "1e1f300a-33e1-435d-9e15-8548b27ea103",
   "metadata": {},
   "outputs": [
    {
     "data": {
      "text/plain": [
       "True"
      ]
     },
     "execution_count": 41,
     "metadata": {},
     "output_type": "execute_result"
    }
   ],
   "source": [
    "#check that Gram matrix is conjugate symmetric (should be since it is U*U.H)\n",
    "gram_rounded == gram_rounded.H"
   ]
  },
  {
   "cell_type": "code",
   "execution_count": 42,
   "id": "89edaab1-11b3-4425-b764-25a301e78785",
   "metadata": {},
   "outputs": [
    {
     "data": {
      "image/png": "[encoded data removed]",
      "text/plain": [
       "Graphics object consisting of 1 graphics primitive"
      ]
     },
     "execution_count": 42,
     "metadata": {},
     "output_type": "execute_result"
    }
   ],
   "source": [
    "#plot the result of U_complex*U_complex.H to see how far it is from being unitary over the complex numbers\n",
    "plot_complex(gram_rounded)"
   ]
  },
  {
   "cell_type": "code",
   "execution_count": 43,
   "id": "187d0d5b-3f3c-4d75-866d-36e3a509b54d",
   "metadata": {},
   "outputs": [
    {
     "data": {
      "text/plain": [
       "[9*z6^5 + z6^4 + 3*z6^3 + z6^2 + 2, 8*z6^5 + 3*z6^4 + 8*z6^3 + 7*z6^2 + 4, 10*z6^4 + 6*z6^3 + 4*z6^2 + 7*z6 + 8, 9*z6^5 + 9*z6^4 + 10*z6^3 + 8*z6^2 + 2*z6 + 6, 4*z6^5 + 10*z6^4 + 3*z6^3 + 2*z6^2 + 3*z6 + 6, 8*z6^5 + 8*z6^4 + 8*z6^3 + 10*z6^2 + 3*z6 + 9]"
      ]
     },
     "execution_count": 43,
     "metadata": {},
     "output_type": "execute_result"
    }
   ],
   "source": [
    "#compute the eigenvalues of the uDFT matrix\n",
    "eigenvalues = U.eigenvalues(); eigenvalues"
   ]
  },
  {
   "cell_type": "code",
   "execution_count": 102,
   "id": "c61d4b5b-06fb-459a-af3f-a2772a72ad59",
   "metadata": {},
   "outputs": [],
   "source": [
    "#compute the maximum degree required for the eigenvalues\n",
    "#this should agree with the splitting field degree, but sometimes it doesn't\n",
    "max_deg_eigs = max([eig.minpoly().degree() for eig in eigenvalues])"
   ]
  },
  {
   "cell_type": "code",
   "execution_count": 44,
   "id": "787c4350-2f3a-4e24-8e48-b664ea502f44",
   "metadata": {},
   "outputs": [
    {
     "data": {
      "text/plain": [
       "True"
      ]
     },
     "execution_count": 44,
     "metadata": {},
     "output_type": "execute_result"
    }
   ],
   "source": [
    "#compute the multiplicity of each eigenvalue. check if all eigenvalues are distinct\n",
    "from collections import Counter\n",
    "multiplicities = Counter(eigenvalues)\n",
    "all_unique = all(count == 1 for count in multiplicities.values()); all_unique"
   ]
  },
  {
   "cell_type": "code",
   "execution_count": 45,
   "id": "577cf124-887a-452b-ad8e-d218ab5a8cbb",
   "metadata": {},
   "outputs": [
    {
     "data": {
      "text/plain": [
       "x^6 + (10*z2 + 9)*x^5 + (z2 + 8)*x^4 + (2*z2 + 8)*x^3 + (5*z2 + 5)*x^2 + (z2 + 2)*x + z2 + 3"
      ]
     },
     "execution_count": 45,
     "metadata": {},
     "output_type": "execute_result"
    }
   ],
   "source": [
    "#compute the charpoly of the uDFT matrix \n",
    "charpoly = U.minimal_polynomial(); charpoly"
   ]
  },
  {
   "cell_type": "code",
   "execution_count": 103,
   "id": "9ec1d71f-fd57-4261-9129-a634f0184e24",
   "metadata": {},
   "outputs": [
    {
     "name": "stdout",
     "output_type": "stream",
     "text": [
      "field containing all eigenvalues: K = Finite Field in z6 of size 11^6\n",
      "splitting field: L = Finite Field in a of size 11^6\n",
      "x^6 + 3*x^4 + 4*x^3 + 6*x^2 + 7*x + 2\n"
     ]
    }
   ],
   "source": [
    "#compute a splitting field of the characteristic polynomial\n",
    "K = GF(q**max_deg_eigs); print(f\"field containing all eigenvalues: K = {K}\")\n",
    "L = charpoly.splitting_field('a'); print(f\"splitting field: L = {L}\")\n",
    "print(K.multiplicative_generator().minimal_polynomial())"
   ]
  },
  {
   "cell_type": "code",
   "execution_count": 104,
   "id": "a8d24cd3-3d8e-4e60-ab01-63a3fac92936",
   "metadata": {},
   "outputs": [],
   "source": [
    "#compute the eigenvalues over a specific field K rather than using the algebraic closure\n",
    "eigenvalues_K = matrix(K,U).eigenvalues(extend=False)"
   ]
  },
  {
   "cell_type": "code",
   "execution_count": 105,
   "id": "a43cd6e7-9147-4709-bd33-213d71716b28",
   "metadata": {},
   "outputs": [
    {
     "data": {
      "text/plain": [
       "[951760, 1644400, 160000, 557680, 1398760, 11560]"
      ]
     },
     "execution_count": 105,
     "metadata": {},
     "output_type": "execute_result"
    }
   ],
   "source": [
    "#compute the discrete log of the eigenvalues\n",
    "log_eigenvalues = list(map(lambda x: discrete_log(K,x), eigenvalues_K)); log_eigenvalues"
   ]
  },
  {
   "cell_type": "code",
   "execution_count": 106,
   "id": "c41fcb01-39a8-4e24-a828-45a0f19bf842",
   "metadata": {},
   "outputs": [],
   "source": [
    "#compute the complexified eigenvalue\n",
    "complex_eigenvalues = [brauer_map(eig,K) for eig in eigenvalues_K]"
   ]
  },
  {
   "cell_type": "code",
   "execution_count": 107,
   "id": "997124ab-f397-42cf-a36d-fc1670e27bf0",
   "metadata": {},
   "outputs": [],
   "source": [
    "import matplotlib.pyplot as plt\n",
    "import numpy as np\n",
    "\n",
    "# Extract real and imaginary parts for plotting\n",
    "real_parts = [eig.real() for eig in complex_eigenvalues]\n",
    "imaginary_parts = [eig.imag() for eig in complex_eigenvalues]"
   ]
  },
  {
   "cell_type": "code",
   "execution_count": 108,
   "id": "92b0d6ae-51a8-43d2-9ead-f4b40d89b9ac",
   "metadata": {},
   "outputs": [
    {
     "data": {
      "image/png": "[encoded data removed]",
      "text/plain": [
       "<Figure size 600x600 with 1 Axes>"
      ]
     },
     "metadata": {},
     "output_type": "display_data"
    }
   ],
   "source": [
    "# Plotting the eigenvalues on the complex plane\n",
    "plt.figure(figsize=(6,6))\n",
    "plt.scatter(real_parts, imaginary_parts, color='blue', label=\"Eigenvalues\")\n",
    "plt.axhline(0, color='black',linewidth=0.5)\n",
    "plt.axvline(0, color='black',linewidth=0.5)\n",
    "plt.gca().set_aspect('equal', adjustable='box')\n",
    "plt.title(f'Eigenvalues of uDFT of Symmetric Group over F_{q**2} for n={n}')\n",
    "plt.xlabel('Real Part')\n",
    "plt.ylabel('Imaginary Part')\n",
    "plt.grid(True)\n",
    "plt.show()"
   ]
  },
  {
   "cell_type": "code",
   "execution_count": 109,
   "id": "f4558cc4-ca09-4785-affd-9da688591bb2",
   "metadata": {},
   "outputs": [],
   "source": [
    "#compute the eigenvectors over a splitting field\n",
    "D, P = matrix(L,U).eigenmatrix_right()"
   ]
  },
  {
   "cell_type": "code",
   "execution_count": 110,
   "id": "25a882fa-3dd4-4997-857d-bc6b553fc66a",
   "metadata": {},
   "outputs": [],
   "source": [
    "def dump_eigenvector_matrix(P):\n",
    "    \"\"\"\n",
    "    dump the eigenvector matrix into a .csv file\n",
    "    \"\"\"\n",
    "    with open(f\"data/eigenvectors_unitary_dft_symmetric_group_finite_field_n={n}_q={q}.csv\", \"w\") as f:\n",
    "        for row in P:\n",
    "            f.write(\",\".join(map(str, row)) + \"\\n\")"
   ]
  },
  {
   "cell_type": "code",
   "execution_count": 111,
   "id": "852531ea-24de-4d96-8bd6-192b399c04b8",
   "metadata": {},
   "outputs": [],
   "source": [
    "dump_eigenvector_matrix(P)"
   ]
  },
  {
   "cell_type": "code",
   "execution_count": 112,
   "id": "c302f2a7-4bda-4203-8ab5-dca8f1f173d4",
   "metadata": {},
   "outputs": [
    {
     "data": {
      "text/plain": [
       "[      0       0       0       0       0       0]\n",
       "[1361556 1344996 1197036 1532556  948276 1764756]\n",
       "[1295414 1079874 1033794 1340874 1606574  847814]\n",
       "[1172199  299109 1730109  760989 1063839  111279]\n",
       "[ 275637  852166 1236886  361606 1759197 1463997]\n",
       "[ 385973  365211  486171 1673091 1525853  642173]"
      ]
     },
     "execution_count": 112,
     "metadata": {},
     "output_type": "execute_result"
    }
   ],
   "source": [
    "#take the discrete log of the eigenvector matrix\n",
    "log_P = P.apply_map(lambda x: discrete_log(L,x)); log_P"
   ]
  },
  {
   "cell_type": "code",
   "execution_count": 120,
   "id": "0b3f2964-f2a2-44bb-ab85-70a176f10929",
   "metadata": {},
   "outputs": [
    {
     "data": {
      "image/png": "[encoded data removed]",
      "text/plain": [
       "<Figure size 640x480 with 2 Axes>"
      ]
     },
     "metadata": {},
     "output_type": "display_data"
    }
   ],
   "source": [
    "#plot the discrete log of the eigenvector matrix P\n",
    "plot_discrete_log(L,log_P)"
   ]
  },
  {
   "cell_type": "code",
   "execution_count": 95,
   "id": "67a4f9ac-a80e-4535-bab2-f2c041e16291",
   "metadata": {},
   "outputs": [],
   "source": [
    "def dump_discrete_log(L, P):\n",
    "    \"\"\"\n",
    "    - compute the discrete log of each entry of P, the eigenvector matrix of the uDFT of S_n over F_{q^2}\n",
    "    - write the resulting matrix to a comma separated value file\n",
    "    - include a progress bar since computing discrete logs for large fields takes a long time\n",
    "    \"\"\"\n",
    "    total = P.nrows() * P.ncols()\n",
    "    count = 0\n",
    "    filename = f\"data/discrete_log_dft_symmetric_group_finite_field_eigenvector_matrix_n={n}_q={q}.csv\"\n",
    "    with open(filename, \"w\") as f:\n",
    "        for i in range(P.nrows()):\n",
    "            for j in range(P.ncols()):\n",
    "                log_value = discrete_log(L, P[i, j])\n",
    "                f.write(str(log_value))\n",
    "                if j != P.ncols()-1:\n",
    "                    f.write(\",\")\n",
    "                count += 1\n",
    "                # Print progress as a percentage\n",
    "                progress = float(count) / total * 100\n",
    "                print(f\"Progress: {progress:.2f}%\\n\", end=\"\")\n",
    "            f.write(\"\\n\")\n",
    "    return \"done\""
   ]
  },
  {
   "cell_type": "code",
   "execution_count": 94,
   "id": "c62f8f4f-2da2-48ee-a4a6-2b93f0d631a9",
   "metadata": {},
   "outputs": [
    {
     "name": "stdout",
     "output_type": "stream",
     "text": [
      "Progress: 2.78%\n",
      "Progress: 5.56%\n",
      "Progress: 8.33%\n",
      "Progress: 11.11%\n",
      "Progress: 13.89%\n",
      "Progress: 16.67%\n",
      "Progress: 19.44%\n",
      "Progress: 22.22%\n",
      "Progress: 25.00%\n",
      "Progress: 27.78%\n",
      "Progress: 30.56%\n",
      "Progress: 33.33%\n",
      "Progress: 36.11%\n",
      "Progress: 38.89%\n",
      "Progress: 41.67%\n",
      "Progress: 44.44%\n",
      "Progress: 47.22%\n",
      "Progress: 50.00%\n",
      "Progress: 52.78%\n",
      "Progress: 55.56%\n",
      "Progress: 58.33%\n",
      "Progress: 61.11%\n",
      "Progress: 63.89%\n",
      "Progress: 66.67%\n",
      "Progress: 69.44%\n",
      "Progress: 72.22%\n",
      "Progress: 75.00%\n",
      "Progress: 77.78%\n",
      "Progress: 80.56%\n",
      "Progress: 83.33%\n",
      "Progress: 86.11%\n",
      "Progress: 88.89%\n",
      "Progress: 91.67%\n",
      "Progress: 94.44%\n",
      "Progress: 97.22%\n",
      "Progress: 100.00%\n"
     ]
    },
    {
     "data": {
      "text/plain": [
       "'done'"
      ]
     },
     "execution_count": 94,
     "metadata": {},
     "output_type": "execute_result"
    }
   ],
   "source": [
    "dump_discrete_log(L, P)"
   ]
  },
  {
   "cell_type": "code",
   "execution_count": null,
   "id": "759d4819-89b1-4b77-897b-a0bc175564ef",
   "metadata": {},
   "outputs": [],
   "source": []
  }
 ],
 "metadata": {
  "kernelspec": {
   "display_name": "SageMath 10.5",
   "language": "sage",
   "name": "sagemath-10.5"
  },
  "language_info": {
   "codemirror_mode": {
    "name": "ipython",
    "version": 3
   },
   "file_extension": ".py",
   "mimetype": "text/x-python",
   "name": "python",
   "nbconvert_exporter": "python",
   "pygments_lexer": "ipython3",
   "version": "3.12.5"
  }
 },
 "nbformat": 4,
 "nbformat_minor": 5
}
