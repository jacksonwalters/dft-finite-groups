{
 "cells": [
  {
   "cell_type": "code",
   "execution_count": 1,
   "id": "e5fa7439-9967-496e-b27a-6c2564f7f9ca",
   "metadata": {},
   "outputs": [],
   "source": [
    "\"\"\"\n",
    "GOAL: define a new DFT which is unitary\n",
    "\n",
    "NOTE: in Beals' ['97] he normalizes by \\sqrt{d_\\lambda/n!} and notes that basis change is an equivalence relation on rep'ns\n",
    "each equivalence class contains a unitary rep'n. if each rep'n \\rho \\in \\hat{G} is unitary, then the transformation is unitary\n",
    "to make them unitary, use Weyl's unitary trick\n",
    "\n",
    "OPTION 1: use the formula P = \\int_G \\rho(g)\\rho(g)^* dg, and take a square root to find Q s.t. P = Q^2\n",
    "OPTION 2: define a new invariant inner product compute an orthonormal basis by computing the Gram matrix A and using A.gram_schmidt()\n",
    "\"\"\";"
   ]
  },
  {
   "cell_type": "code",
   "execution_count": 1,
   "id": "f4f39b63-d30d-445e-8cde-3ea75a3c64d3",
   "metadata": {},
   "outputs": [],
   "source": [
    "#compute a field which contains all the square roots required\n",
    "def number_field_with_all_square_roots(SGA):\n",
    "    group_size = G.cardinality()\n",
    "    required_square_roots = []\n",
    "    for partition in Partitions(G.degree()):\n",
    "        specht_module = SGA.specht_module(partition)\n",
    "        rho = specht_module.representation_matrix\n",
    "        P = (1/group_size)*sum(rho(g)*rho(g).H for g in G)\n",
    "        d, L = P.eigenmatrix_left()\n",
    "        required_square_roots += [specht_module.dimension(),group_size] + d.diagonal()\n",
    "    required_square_roots = {e for q in required_square_roots for e in ([QQ(q).numerator(), QQ(q).denominator()] if q in QQ else [q])}\n",
    "    K = SGA.base_ring()\n",
    "    for n in required_square_roots:\n",
    "        R = PolynomialRing(K, 'x')\n",
    "        x = R.gen()\n",
    "        if n in QQ and (x**2-n).is_irreducible():\n",
    "            gen_name = f\"sqrt{str(n).replace(\"/\",\"over\")}\"\n",
    "            K = K.extension(x**2-n,names=gen_name)\n",
    "        #BUG: the required square roots are not all integers. some of them are algebraic numbers\n",
    "        #this is incredibly slow and will even segfault.\n",
    "        if not n in QQ and sqrt(n).minpoly().is_irreducible():\n",
    "            gen_name = f\"deg{n.minpoly().degree()}index{list(set(required_square_roots)).index(n)}\"\n",
    "            K = K.extension(sqrt(n).minpoly(),names=gen_name)\n",
    "    return K"
   ]
  },
  {
   "cell_type": "code",
   "execution_count": 2,
   "id": "ceef00d1-d036-4f68-b585-79fe3f1c6807",
   "metadata": {},
   "outputs": [],
   "source": [
    "#find the change-of-basis matrix Q making \\rho(g) unitary for all g \\in G\n",
    "def unitary_change_of_basis(SGA,partition,K=QQbar):\n",
    "    rho = SGA.specht_module(partition).representation_matrix\n",
    "    group_size = SGA.group().cardinality()\n",
    "    P = (1/group_size)*sum(rho(g)*rho(g).H for g in G)\n",
    "    d, L = P.eigenmatrix_left()\n",
    "    return L.inverse() * diagonal_matrix([sqrt(K(a)) for a in d.diagonal()]) * L"
   ]
  },
  {
   "cell_type": "code",
   "execution_count": 3,
   "id": "aca07005-770f-4a0f-bd28-f6c3a5446787",
   "metadata": {},
   "outputs": [],
   "source": [
    "#define the Fourier coefficient at the representation specht_module\n",
    "#which is the Specht module corresponding to partition\n",
    "def hat(g,partition,SGA,K=QQbar,method=None):\n",
    "    specht_module = SGA.specht_module(partition)\n",
    "    rho = specht_module.representation_matrix\n",
    "    if not method:\n",
    "        return rho(g)\n",
    "    if method == \"orth\":\n",
    "        rho_orth = SymmetricGroupRepresentation(partition, \"orthogonal\")\n",
    "        unitary_factor = specht_module.dimension()/G.cardinality()\n",
    "        sqrt_unitary_factor = sqrt(unitary_factor)\n",
    "        return sqrt_unitary_factor*rho_orth(g)\n",
    "    if method == \"unitary\":\n",
    "        Q = unitary_change_of_basis(SGA,partition,K)\n",
    "        unitary_factor = specht_module.dimension()/G.cardinality()\n",
    "        sqrt_unitary_factor = sqrt(K(unitary_factor))\n",
    "        return sqrt_unitary_factor*Q.inverse()*rho(g)*Q"
   ]
  },
  {
   "cell_type": "code",
   "execution_count": 4,
   "id": "dad4c039-cddd-4d55-8be4-09dff460fbb8",
   "metadata": {},
   "outputs": [],
   "source": [
    "#for each basis element g \\in G compute the Fourier coefficients \\hat{\\delta_g}(partition) for all partitions\n",
    "def dft(SGA,method=None,number_field=False):\n",
    "    K = number_field_with_all_square_roots(SGA) if number_field else QQbar\n",
    "    fourier_transform = [[x for partition in Partitions(G.degree()) for x in hat(g,partition,SGA,K,method).list()] for g in G]\n",
    "    if not method:\n",
    "        return matrix(fourier_transform).transpose()\n",
    "    if method == \"orth\":\n",
    "        return matrix(fourier_transform).transpose()\n",
    "    if method == \"unitary\":\n",
    "        return matrix(K,fourier_transform).transpose()"
   ]
  },
  {
   "cell_type": "code",
   "execution_count": 5,
   "id": "ad7a8bcf-fbe8-45eb-bfae-d428f4ed48ea",
   "metadata": {},
   "outputs": [],
   "source": [
    "#an alternate method to create a unitary DFT in characteristic zero, avoiding other computations\n",
    "#take the numerators and denominators of the diagonal, factor square-free parts, and adjoin roots of resulting primes\n",
    "def unitary_dft(SGA):\n",
    "    SGA_dft = SGA.dft()\n",
    "    diag = (SGA_dft*SGA_dft.transpose()).diagonal()\n",
    "    primes_needed = {factor for d in diag for factor, _ in d.squarefree_part().factor()}\n",
    "    names = [f\"sqrt{factor}\" for factor in primes_needed]\n",
    "    K = NumberField([x**2-d for d in primes_needed],names=names)\n",
    "    diag_inv = diagonal_matrix([~sqrt(K(d)) for d in diag])\n",
    "    return diag_inv*SGA_dft"
   ]
  },
  {
   "cell_type": "code",
   "execution_count": 6,
   "id": "1d123573-fd82-4429-aa0b-5737739e6473",
   "metadata": {},
   "outputs": [
    {
     "data": {
      "text/plain": [
       "(sqrt3, sqrt2)"
      ]
     },
     "execution_count": 6,
     "metadata": {},
     "output_type": "execute_result"
    }
   ],
   "source": [
    "#define paramters, algebra, field, group\n",
    "n = 4\n",
    "SGA = SymmetricGroupAlgebra(QQ,n)\n",
    "G = SGA.group()\n",
    "K = number_field_with_all_square_roots(SGA); K.gens()"
   ]
  },
  {
   "cell_type": "code",
   "execution_count": 7,
   "id": "22df4b4d-2712-459f-bbf4-7336e8395d60",
   "metadata": {},
   "outputs": [
    {
     "data": {
      "text/plain": [
       "Number Field in sqrt2 with defining polynomial x^2 - 2"
      ]
     },
     "execution_count": 7,
     "metadata": {},
     "output_type": "execute_result"
    }
   ],
   "source": [
    "K.base_ring()"
   ]
  },
  {
   "cell_type": "code",
   "execution_count": 8,
   "id": "1b2edd70-15e8-46b2-a4b8-b7b6e1a62f25",
   "metadata": {},
   "outputs": [
    {
     "data": {
      "text/plain": [
       "24 x 24 dense matrix over Rational Field (use the '.str()' method to see the entries)"
      ]
     },
     "execution_count": 8,
     "metadata": {},
     "output_type": "execute_result"
    }
   ],
   "source": [
    "SGA_dft = SGA.dft(); SGA_dft"
   ]
  },
  {
   "cell_type": "code",
   "execution_count": 9,
   "id": "6df6046c-68f4-4e02-8f54-e7fb57c47349",
   "metadata": {},
   "outputs": [
    {
     "name": "stdout",
     "output_type": "stream",
     "text": [
      "[24, 8, 6, 16/3, 32/3, 8, 64/9, 12, 9, 8, 12, 9, 16, 12, 8, 64/9, 16/3, 9, 8, 6, 12, 32/3, 8, 24]\n"
     ]
    }
   ],
   "source": [
    "#check if A*A^T == Id. it's not, but the columns are orthonormal\n",
    "print((SGA_dft*SGA_dft.transpose()).diagonal())"
   ]
  },
  {
   "cell_type": "code",
   "execution_count": 109,
   "id": "ba098481-f9a7-4ad6-8aa1-136a3f6da660",
   "metadata": {},
   "outputs": [
    {
     "name": "stdout",
     "output_type": "stream",
     "text": [
      "[                 1/2*sqrt(1/6)                  1/2*sqrt(1/6)                  1/2*sqrt(1/6)                  1/2*sqrt(1/6)                  1/2*sqrt(1/6)                  1/2*sqrt(1/6)                  1/2*sqrt(1/6)                  1/2*sqrt(1/6)                  1/2*sqrt(1/6)                  1/2*sqrt(1/6)                  1/2*sqrt(1/6)                  1/2*sqrt(1/6)                  1/2*sqrt(1/6)                  1/2*sqrt(1/6)                  1/2*sqrt(1/6)                  1/2*sqrt(1/6)                  1/2*sqrt(1/6)                  1/2*sqrt(1/6)                  1/2*sqrt(1/6)                  1/2*sqrt(1/6)                  1/2*sqrt(1/6)                  1/2*sqrt(1/6)                  1/2*sqrt(1/6)                  1/2*sqrt(1/6)]\n",
      "[                 1/2*sqrt(1/2)                 -1/6*sqrt(1/2)                  1/2*sqrt(1/2)                 -1/6*sqrt(1/2)                 -1/6*sqrt(1/2)                 -1/6*sqrt(1/2)                  1/2*sqrt(1/2)                 -1/6*sqrt(1/2)                  1/2*sqrt(1/2)                 -1/6*sqrt(1/2)                 -1/6*sqrt(1/2)                 -1/6*sqrt(1/2)                  1/2*sqrt(1/2)                 -1/6*sqrt(1/2)                  1/2*sqrt(1/2)                 -1/6*sqrt(1/2)                 -1/6*sqrt(1/2)                 -1/6*sqrt(1/2)                 -1/6*sqrt(1/2)                 -1/6*sqrt(1/2)                 -1/6*sqrt(1/2)                 -1/6*sqrt(1/2)                 -1/6*sqrt(1/2)                 -1/6*sqrt(1/2)]\n",
      "[                             0          1/3*sqrt(2)*sqrt(1/2)                              0          1/3*sqrt(2)*sqrt(1/2)         -1/6*sqrt(2)*sqrt(1/2)         -1/6*sqrt(2)*sqrt(1/2)                              0          1/3*sqrt(2)*sqrt(1/2)                              0          1/3*sqrt(2)*sqrt(1/2)         -1/6*sqrt(2)*sqrt(1/2)         -1/6*sqrt(2)*sqrt(1/2)                              0          1/3*sqrt(2)*sqrt(1/2)                              0          1/3*sqrt(2)*sqrt(1/2)         -1/6*sqrt(2)*sqrt(1/2)         -1/6*sqrt(2)*sqrt(1/2)         -1/6*sqrt(2)*sqrt(1/2)         -1/6*sqrt(2)*sqrt(1/2)         -1/6*sqrt(2)*sqrt(1/2)         -1/6*sqrt(2)*sqrt(1/2)         -1/6*sqrt(2)*sqrt(1/2)         -1/6*sqrt(2)*sqrt(1/2)]\n",
      "[                             0                              0                              0                              0  1/6*sqrt(3)*sqrt(2)*sqrt(1/2)  1/6*sqrt(3)*sqrt(2)*sqrt(1/2)                              0                              0                              0                              0  1/6*sqrt(3)*sqrt(2)*sqrt(1/2)  1/6*sqrt(3)*sqrt(2)*sqrt(1/2)                              0                              0                              0                              0  1/6*sqrt(3)*sqrt(2)*sqrt(1/2)  1/6*sqrt(3)*sqrt(2)*sqrt(1/2) -1/6*sqrt(3)*sqrt(2)*sqrt(1/2) -1/6*sqrt(3)*sqrt(2)*sqrt(1/2) -1/6*sqrt(3)*sqrt(2)*sqrt(1/2) -1/6*sqrt(3)*sqrt(2)*sqrt(1/2) -1/6*sqrt(3)*sqrt(2)*sqrt(1/2) -1/6*sqrt(3)*sqrt(2)*sqrt(1/2)]\n",
      "[                             0          1/3*sqrt(2)*sqrt(1/2)                              0         -1/6*sqrt(2)*sqrt(1/2)          1/3*sqrt(2)*sqrt(1/2)         -1/6*sqrt(2)*sqrt(1/2)                              0          1/3*sqrt(2)*sqrt(1/2)                              0         -1/6*sqrt(2)*sqrt(1/2)          1/3*sqrt(2)*sqrt(1/2)         -1/6*sqrt(2)*sqrt(1/2)                              0         -1/6*sqrt(2)*sqrt(1/2)                              0         -1/6*sqrt(2)*sqrt(1/2)         -1/6*sqrt(2)*sqrt(1/2)         -1/6*sqrt(2)*sqrt(1/2)          1/3*sqrt(2)*sqrt(1/2)         -1/6*sqrt(2)*sqrt(1/2)          1/3*sqrt(2)*sqrt(1/2)         -1/6*sqrt(2)*sqrt(1/2)         -1/6*sqrt(2)*sqrt(1/2)         -1/6*sqrt(2)*sqrt(1/2)]\n",
      "[                 1/2*sqrt(1/2)                  1/6*sqrt(1/2)                 -1/4*sqrt(1/2)                -1/12*sqrt(1/2)                -1/12*sqrt(1/2)                 5/12*sqrt(1/2)                  1/2*sqrt(1/2)                  1/6*sqrt(1/2)                 -1/4*sqrt(1/2)                -1/12*sqrt(1/2)                -1/12*sqrt(1/2)                 5/12*sqrt(1/2)                 -1/4*sqrt(1/2)                -1/12*sqrt(1/2)                 -1/4*sqrt(1/2)                -1/12*sqrt(1/2)                 -1/3*sqrt(1/2)                 -1/3*sqrt(1/2)                -1/12*sqrt(1/2)                 5/12*sqrt(1/2)                -1/12*sqrt(1/2)                 5/12*sqrt(1/2)                 -1/3*sqrt(1/2)                 -1/3*sqrt(1/2)]\n",
      "[                             0                              0          1/4*sqrt(3)*sqrt(1/2)          1/4*sqrt(3)*sqrt(1/2)         1/12*sqrt(3)*sqrt(1/2)         1/12*sqrt(3)*sqrt(1/2)                              0                              0          1/4*sqrt(3)*sqrt(1/2)          1/4*sqrt(3)*sqrt(1/2)         1/12*sqrt(3)*sqrt(1/2)         1/12*sqrt(3)*sqrt(1/2)         -1/4*sqrt(3)*sqrt(1/2)         -1/4*sqrt(3)*sqrt(1/2)         -1/4*sqrt(3)*sqrt(1/2)         -1/4*sqrt(3)*sqrt(1/2)         -1/6*sqrt(3)*sqrt(1/2)         -1/6*sqrt(3)*sqrt(1/2)        -1/12*sqrt(3)*sqrt(1/2)        -1/12*sqrt(3)*sqrt(1/2)        -1/12*sqrt(3)*sqrt(1/2)        -1/12*sqrt(3)*sqrt(1/2)          1/6*sqrt(3)*sqrt(1/2)          1/6*sqrt(3)*sqrt(1/2)]\n",
      "[                             0                              0                              0  1/6*sqrt(3)*sqrt(2)*sqrt(1/2)                              0  1/6*sqrt(3)*sqrt(2)*sqrt(1/2)                              0                              0                              0 -1/6*sqrt(3)*sqrt(2)*sqrt(1/2)                              0 -1/6*sqrt(3)*sqrt(2)*sqrt(1/2)                              0  1/6*sqrt(3)*sqrt(2)*sqrt(1/2)                              0 -1/6*sqrt(3)*sqrt(2)*sqrt(1/2)  1/6*sqrt(3)*sqrt(2)*sqrt(1/2) -1/6*sqrt(3)*sqrt(2)*sqrt(1/2)                              0  1/6*sqrt(3)*sqrt(2)*sqrt(1/2)                              0 -1/6*sqrt(3)*sqrt(2)*sqrt(1/2)  1/6*sqrt(3)*sqrt(2)*sqrt(1/2) -1/6*sqrt(3)*sqrt(2)*sqrt(1/2)]\n",
      "[                             0                              0          1/4*sqrt(3)*sqrt(1/2)         1/12*sqrt(3)*sqrt(1/2)          1/4*sqrt(3)*sqrt(1/2)         1/12*sqrt(3)*sqrt(1/2)                              0                              0         -1/4*sqrt(3)*sqrt(1/2)        -1/12*sqrt(3)*sqrt(1/2)         -1/4*sqrt(3)*sqrt(1/2)        -1/12*sqrt(3)*sqrt(1/2)          1/4*sqrt(3)*sqrt(1/2)         1/12*sqrt(3)*sqrt(1/2)         -1/4*sqrt(3)*sqrt(1/2)        -1/12*sqrt(3)*sqrt(1/2)         -1/6*sqrt(3)*sqrt(1/2)          1/6*sqrt(3)*sqrt(1/2)          1/4*sqrt(3)*sqrt(1/2)         1/12*sqrt(3)*sqrt(1/2)         -1/4*sqrt(3)*sqrt(1/2)        -1/12*sqrt(3)*sqrt(1/2)         -1/6*sqrt(3)*sqrt(1/2)          1/6*sqrt(3)*sqrt(1/2)]\n",
      "[                 1/2*sqrt(1/2)                  1/2*sqrt(1/2)                  1/4*sqrt(1/2)                  1/4*sqrt(1/2)                  1/4*sqrt(1/2)                  1/4*sqrt(1/2)                 -1/2*sqrt(1/2)                 -1/2*sqrt(1/2)                 -1/4*sqrt(1/2)                 -1/4*sqrt(1/2)                 -1/4*sqrt(1/2)                 -1/4*sqrt(1/2)                 -1/4*sqrt(1/2)                 -1/4*sqrt(1/2)                  1/4*sqrt(1/2)                  1/4*sqrt(1/2)                              0                              0                 -1/4*sqrt(1/2)                 -1/4*sqrt(1/2)                  1/4*sqrt(1/2)                  1/4*sqrt(1/2)                              0                              0]\n",
      "[                 1/2*sqrt(1/3)                  1/2*sqrt(1/3)                 -1/4*sqrt(1/3)                 -1/4*sqrt(1/3)                 -1/4*sqrt(1/3)                 -1/4*sqrt(1/3)                  1/2*sqrt(1/3)                  1/2*sqrt(1/3)                 -1/4*sqrt(1/3)                 -1/4*sqrt(1/3)                 -1/4*sqrt(1/3)                 -1/4*sqrt(1/3)                 -1/4*sqrt(1/3)                 -1/4*sqrt(1/3)                 -1/4*sqrt(1/3)                 -1/4*sqrt(1/3)                  1/2*sqrt(1/3)                  1/2*sqrt(1/3)                 -1/4*sqrt(1/3)                 -1/4*sqrt(1/3)                 -1/4*sqrt(1/3)                 -1/4*sqrt(1/3)                  1/2*sqrt(1/3)                  1/2*sqrt(1/3)]\n",
      "[                             0                              0          1/4*sqrt(3)*sqrt(1/3)         -1/4*sqrt(3)*sqrt(1/3)          1/4*sqrt(3)*sqrt(1/3)         -1/4*sqrt(3)*sqrt(1/3)                              0                              0          1/4*sqrt(3)*sqrt(1/3)         -1/4*sqrt(3)*sqrt(1/3)          1/4*sqrt(3)*sqrt(1/3)         -1/4*sqrt(3)*sqrt(1/3)         -1/4*sqrt(3)*sqrt(1/3)          1/4*sqrt(3)*sqrt(1/3)         -1/4*sqrt(3)*sqrt(1/3)          1/4*sqrt(3)*sqrt(1/3)                              0                              0         -1/4*sqrt(3)*sqrt(1/3)          1/4*sqrt(3)*sqrt(1/3)         -1/4*sqrt(3)*sqrt(1/3)          1/4*sqrt(3)*sqrt(1/3)                              0                              0]\n",
      "[                             0                              0          1/4*sqrt(3)*sqrt(1/3)          1/4*sqrt(3)*sqrt(1/3)         -1/4*sqrt(3)*sqrt(1/3)         -1/4*sqrt(3)*sqrt(1/3)                              0                              0         -1/4*sqrt(3)*sqrt(1/3)         -1/4*sqrt(3)*sqrt(1/3)          1/4*sqrt(3)*sqrt(1/3)          1/4*sqrt(3)*sqrt(1/3)          1/4*sqrt(3)*sqrt(1/3)          1/4*sqrt(3)*sqrt(1/3)         -1/4*sqrt(3)*sqrt(1/3)         -1/4*sqrt(3)*sqrt(1/3)                              0                              0         -1/4*sqrt(3)*sqrt(1/3)         -1/4*sqrt(3)*sqrt(1/3)          1/4*sqrt(3)*sqrt(1/3)          1/4*sqrt(3)*sqrt(1/3)                              0                              0]\n",
      "[                 1/2*sqrt(1/3)                 -1/2*sqrt(1/3)                  1/4*sqrt(1/3)                 -1/4*sqrt(1/3)                 -1/4*sqrt(1/3)                  1/4*sqrt(1/3)                 -1/2*sqrt(1/3)                  1/2*sqrt(1/3)                 -1/4*sqrt(1/3)                  1/4*sqrt(1/3)                  1/4*sqrt(1/3)                 -1/4*sqrt(1/3)                 -1/4*sqrt(1/3)                  1/4*sqrt(1/3)                  1/4*sqrt(1/3)                 -1/4*sqrt(1/3)                  1/2*sqrt(1/3)                 -1/2*sqrt(1/3)                  1/4*sqrt(1/3)                 -1/4*sqrt(1/3)                 -1/4*sqrt(1/3)                  1/4*sqrt(1/3)                 -1/2*sqrt(1/3)                  1/2*sqrt(1/3)]\n",
      "[                 1/2*sqrt(1/2)                 -1/2*sqrt(1/2)                 -1/4*sqrt(1/2)                  1/4*sqrt(1/2)                  1/4*sqrt(1/2)                 -1/4*sqrt(1/2)                  1/2*sqrt(1/2)                 -1/2*sqrt(1/2)                 -1/4*sqrt(1/2)                  1/4*sqrt(1/2)                  1/4*sqrt(1/2)                 -1/4*sqrt(1/2)                 -1/4*sqrt(1/2)                  1/4*sqrt(1/2)                 -1/4*sqrt(1/2)                  1/4*sqrt(1/2)                              0                              0                  1/4*sqrt(1/2)                 -1/4*sqrt(1/2)                  1/4*sqrt(1/2)                 -1/4*sqrt(1/2)                              0                              0]\n",
      "[                             0                              0          1/4*sqrt(3)*sqrt(1/2)        -1/12*sqrt(3)*sqrt(1/2)         -1/4*sqrt(3)*sqrt(1/2)         1/12*sqrt(3)*sqrt(1/2)                              0                              0          1/4*sqrt(3)*sqrt(1/2)        -1/12*sqrt(3)*sqrt(1/2)         -1/4*sqrt(3)*sqrt(1/2)         1/12*sqrt(3)*sqrt(1/2)         -1/4*sqrt(3)*sqrt(1/2)         1/12*sqrt(3)*sqrt(1/2)         -1/4*sqrt(3)*sqrt(1/2)         1/12*sqrt(3)*sqrt(1/2)          1/6*sqrt(3)*sqrt(1/2)          1/6*sqrt(3)*sqrt(1/2)          1/4*sqrt(3)*sqrt(1/2)        -1/12*sqrt(3)*sqrt(1/2)          1/4*sqrt(3)*sqrt(1/2)        -1/12*sqrt(3)*sqrt(1/2)         -1/6*sqrt(3)*sqrt(1/2)         -1/6*sqrt(3)*sqrt(1/2)]\n",
      "[                             0                              0                              0  1/6*sqrt(3)*sqrt(2)*sqrt(1/2)                              0 -1/6*sqrt(3)*sqrt(2)*sqrt(1/2)                              0                              0                              0  1/6*sqrt(3)*sqrt(2)*sqrt(1/2)                              0 -1/6*sqrt(3)*sqrt(2)*sqrt(1/2)                              0 -1/6*sqrt(3)*sqrt(2)*sqrt(1/2)                              0 -1/6*sqrt(3)*sqrt(2)*sqrt(1/2)  1/6*sqrt(3)*sqrt(2)*sqrt(1/2)  1/6*sqrt(3)*sqrt(2)*sqrt(1/2)                              0  1/6*sqrt(3)*sqrt(2)*sqrt(1/2)                              0  1/6*sqrt(3)*sqrt(2)*sqrt(1/2) -1/6*sqrt(3)*sqrt(2)*sqrt(1/2) -1/6*sqrt(3)*sqrt(2)*sqrt(1/2)]\n",
      "[                             0                              0          1/4*sqrt(3)*sqrt(1/2)         -1/4*sqrt(3)*sqrt(1/2)        -1/12*sqrt(3)*sqrt(1/2)         1/12*sqrt(3)*sqrt(1/2)                              0                              0         -1/4*sqrt(3)*sqrt(1/2)          1/4*sqrt(3)*sqrt(1/2)         1/12*sqrt(3)*sqrt(1/2)        -1/12*sqrt(3)*sqrt(1/2)          1/4*sqrt(3)*sqrt(1/2)         -1/4*sqrt(3)*sqrt(1/2)         -1/4*sqrt(3)*sqrt(1/2)          1/4*sqrt(3)*sqrt(1/2)          1/6*sqrt(3)*sqrt(1/2)         -1/6*sqrt(3)*sqrt(1/2)        -1/12*sqrt(3)*sqrt(1/2)         1/12*sqrt(3)*sqrt(1/2)         1/12*sqrt(3)*sqrt(1/2)        -1/12*sqrt(3)*sqrt(1/2)          1/6*sqrt(3)*sqrt(1/2)         -1/6*sqrt(3)*sqrt(1/2)]\n",
      "[                 1/2*sqrt(1/2)                 -1/6*sqrt(1/2)                  1/4*sqrt(1/2)                -1/12*sqrt(1/2)                -1/12*sqrt(1/2)                -5/12*sqrt(1/2)                 -1/2*sqrt(1/2)                  1/6*sqrt(1/2)                 -1/4*sqrt(1/2)                 1/12*sqrt(1/2)                 1/12*sqrt(1/2)                 5/12*sqrt(1/2)                 -1/4*sqrt(1/2)                 1/12*sqrt(1/2)                  1/4*sqrt(1/2)                -1/12*sqrt(1/2)                 -1/3*sqrt(1/2)                  1/3*sqrt(1/2)                 1/12*sqrt(1/2)                 5/12*sqrt(1/2)                -1/12*sqrt(1/2)                -5/12*sqrt(1/2)                  1/3*sqrt(1/2)                 -1/3*sqrt(1/2)]\n",
      "[                             0          1/3*sqrt(2)*sqrt(1/2)                              0          1/6*sqrt(2)*sqrt(1/2)         -1/3*sqrt(2)*sqrt(1/2)         -1/6*sqrt(2)*sqrt(1/2)                              0         -1/3*sqrt(2)*sqrt(1/2)                              0         -1/6*sqrt(2)*sqrt(1/2)          1/3*sqrt(2)*sqrt(1/2)          1/6*sqrt(2)*sqrt(1/2)                              0         -1/6*sqrt(2)*sqrt(1/2)                              0          1/6*sqrt(2)*sqrt(1/2)          1/6*sqrt(2)*sqrt(1/2)         -1/6*sqrt(2)*sqrt(1/2)          1/3*sqrt(2)*sqrt(1/2)          1/6*sqrt(2)*sqrt(1/2)         -1/3*sqrt(2)*sqrt(1/2)         -1/6*sqrt(2)*sqrt(1/2)         -1/6*sqrt(2)*sqrt(1/2)          1/6*sqrt(2)*sqrt(1/2)]\n",
      "[                             0                              0                              0                              0  1/6*sqrt(3)*sqrt(2)*sqrt(1/2) -1/6*sqrt(3)*sqrt(2)*sqrt(1/2)                              0                              0                              0                              0 -1/6*sqrt(3)*sqrt(2)*sqrt(1/2)  1/6*sqrt(3)*sqrt(2)*sqrt(1/2)                              0                              0                              0                              0  1/6*sqrt(3)*sqrt(2)*sqrt(1/2) -1/6*sqrt(3)*sqrt(2)*sqrt(1/2)  1/6*sqrt(3)*sqrt(2)*sqrt(1/2) -1/6*sqrt(3)*sqrt(2)*sqrt(1/2) -1/6*sqrt(3)*sqrt(2)*sqrt(1/2)  1/6*sqrt(3)*sqrt(2)*sqrt(1/2)  1/6*sqrt(3)*sqrt(2)*sqrt(1/2) -1/6*sqrt(3)*sqrt(2)*sqrt(1/2)]\n",
      "[                             0          1/3*sqrt(2)*sqrt(1/2)                              0         -1/3*sqrt(2)*sqrt(1/2)          1/6*sqrt(2)*sqrt(1/2)         -1/6*sqrt(2)*sqrt(1/2)                              0         -1/3*sqrt(2)*sqrt(1/2)                              0          1/3*sqrt(2)*sqrt(1/2)         -1/6*sqrt(2)*sqrt(1/2)          1/6*sqrt(2)*sqrt(1/2)                              0          1/3*sqrt(2)*sqrt(1/2)                              0         -1/3*sqrt(2)*sqrt(1/2)          1/6*sqrt(2)*sqrt(1/2)         -1/6*sqrt(2)*sqrt(1/2)         -1/6*sqrt(2)*sqrt(1/2)          1/6*sqrt(2)*sqrt(1/2)          1/6*sqrt(2)*sqrt(1/2)         -1/6*sqrt(2)*sqrt(1/2)         -1/6*sqrt(2)*sqrt(1/2)          1/6*sqrt(2)*sqrt(1/2)]\n",
      "[                 1/2*sqrt(1/2)                  1/6*sqrt(1/2)                 -1/2*sqrt(1/2)                 -1/6*sqrt(1/2)                 -1/6*sqrt(1/2)                  1/6*sqrt(1/2)                 -1/2*sqrt(1/2)                 -1/6*sqrt(1/2)                  1/2*sqrt(1/2)                  1/6*sqrt(1/2)                  1/6*sqrt(1/2)                 -1/6*sqrt(1/2)                  1/2*sqrt(1/2)                  1/6*sqrt(1/2)                 -1/2*sqrt(1/2)                 -1/6*sqrt(1/2)                 -1/6*sqrt(1/2)                  1/6*sqrt(1/2)                  1/6*sqrt(1/2)                 -1/6*sqrt(1/2)                 -1/6*sqrt(1/2)                  1/6*sqrt(1/2)                  1/6*sqrt(1/2)                 -1/6*sqrt(1/2)]\n",
      "[                 1/2*sqrt(1/6)                 -1/2*sqrt(1/6)                 -1/2*sqrt(1/6)                  1/2*sqrt(1/6)                  1/2*sqrt(1/6)                 -1/2*sqrt(1/6)                 -1/2*sqrt(1/6)                  1/2*sqrt(1/6)                  1/2*sqrt(1/6)                 -1/2*sqrt(1/6)                 -1/2*sqrt(1/6)                  1/2*sqrt(1/6)                  1/2*sqrt(1/6)                 -1/2*sqrt(1/6)                 -1/2*sqrt(1/6)                  1/2*sqrt(1/6)                  1/2*sqrt(1/6)                 -1/2*sqrt(1/6)                 -1/2*sqrt(1/6)                  1/2*sqrt(1/6)                  1/2*sqrt(1/6)                 -1/2*sqrt(1/6)                 -1/2*sqrt(1/6)                  1/2*sqrt(1/6)]\n"
     ]
    }
   ],
   "source": [
    "#alternate method using orthogonal representations over symbolic ring\n",
    "U_dft = dft(SGA,method=\"orth\"); print(U_dft)"
   ]
  },
  {
   "cell_type": "code",
   "execution_count": 110,
   "id": "2503a178-95f8-470f-b4d8-d13c520df4fa",
   "metadata": {},
   "outputs": [
    {
     "name": "stdout",
     "output_type": "stream",
     "text": [
      "[-1/12*sqrt2*sqrt3 -1/12*sqrt2*sqrt3 -1/12*sqrt2*sqrt3 -1/12*sqrt2*sqrt3 -1/12*sqrt2*sqrt3 -1/12*sqrt2*sqrt3 -1/12*sqrt2*sqrt3 -1/12*sqrt2*sqrt3 -1/12*sqrt2*sqrt3 -1/12*sqrt2*sqrt3 -1/12*sqrt2*sqrt3 -1/12*sqrt2*sqrt3 -1/12*sqrt2*sqrt3 -1/12*sqrt2*sqrt3 -1/12*sqrt2*sqrt3 -1/12*sqrt2*sqrt3 -1/12*sqrt2*sqrt3 -1/12*sqrt2*sqrt3 -1/12*sqrt2*sqrt3 -1/12*sqrt2*sqrt3 -1/12*sqrt2*sqrt3 -1/12*sqrt2*sqrt3 -1/12*sqrt2*sqrt3 -1/12*sqrt2*sqrt3]\n",
      "[       -1/4*sqrt2        -1/4*sqrt2                 0                 0                 0                 0        7/36*sqrt2        7/36*sqrt2         1/9*sqrt2         1/9*sqrt2         1/9*sqrt2         1/9*sqrt2         1/9*sqrt2         1/9*sqrt2        -2/9*sqrt2        -2/9*sqrt2        1/36*sqrt2        1/36*sqrt2         1/9*sqrt2         1/9*sqrt2        -2/9*sqrt2        -2/9*sqrt2        1/36*sqrt2        1/36*sqrt2]\n",
      "[                0                 0        -1/4*sqrt2                 0        -1/4*sqrt2                 0         1/9*sqrt2         1/9*sqrt2        7/36*sqrt2         1/9*sqrt2        7/36*sqrt2         1/9*sqrt2        -2/9*sqrt2        1/36*sqrt2         1/9*sqrt2        1/36*sqrt2         1/9*sqrt2        -2/9*sqrt2        -2/9*sqrt2        1/36*sqrt2         1/9*sqrt2        1/36*sqrt2         1/9*sqrt2        -2/9*sqrt2]\n",
      "[                0                 0                 0        -1/4*sqrt2                 0        -1/4*sqrt2         1/9*sqrt2         1/9*sqrt2         1/9*sqrt2        7/36*sqrt2         1/9*sqrt2        7/36*sqrt2        1/36*sqrt2        -2/9*sqrt2        1/36*sqrt2         1/9*sqrt2        -2/9*sqrt2         1/9*sqrt2        1/36*sqrt2        -2/9*sqrt2        1/36*sqrt2         1/9*sqrt2        -2/9*sqrt2         1/9*sqrt2]\n",
      "[                0                 0        -1/4*sqrt2        -1/4*sqrt2                 0                 0         1/9*sqrt2         1/9*sqrt2        -2/9*sqrt2        -2/9*sqrt2        1/36*sqrt2        1/36*sqrt2        7/36*sqrt2        7/36*sqrt2         1/9*sqrt2         1/9*sqrt2         1/9*sqrt2         1/9*sqrt2         1/9*sqrt2         1/9*sqrt2        1/36*sqrt2        1/36*sqrt2        -2/9*sqrt2        -2/9*sqrt2]\n",
      "[       -1/4*sqrt2                 0                 0                 0                 0        -1/4*sqrt2        -2/9*sqrt2        1/36*sqrt2         1/9*sqrt2        1/36*sqrt2         1/9*sqrt2        -2/9*sqrt2         1/9*sqrt2         1/9*sqrt2        7/36*sqrt2         1/9*sqrt2        7/36*sqrt2         1/9*sqrt2        1/36*sqrt2        -2/9*sqrt2         1/9*sqrt2        -2/9*sqrt2         1/9*sqrt2        1/36*sqrt2]\n",
      "[                0        -1/4*sqrt2                 0                 0        -1/4*sqrt2                 0        1/36*sqrt2        -2/9*sqrt2        1/36*sqrt2         1/9*sqrt2        -2/9*sqrt2         1/9*sqrt2         1/9*sqrt2         1/9*sqrt2         1/9*sqrt2        7/36*sqrt2         1/9*sqrt2        7/36*sqrt2        -2/9*sqrt2        1/36*sqrt2        -2/9*sqrt2         1/9*sqrt2        1/36*sqrt2         1/9*sqrt2]\n",
      "[                0                 0                 0                 0        -1/4*sqrt2        -1/4*sqrt2         1/9*sqrt2         1/9*sqrt2        1/36*sqrt2        1/36*sqrt2        -2/9*sqrt2        -2/9*sqrt2         1/9*sqrt2         1/9*sqrt2        1/36*sqrt2        1/36*sqrt2        -2/9*sqrt2        -2/9*sqrt2        7/36*sqrt2        7/36*sqrt2         1/9*sqrt2         1/9*sqrt2         1/9*sqrt2         1/9*sqrt2]\n",
      "[                0        -1/4*sqrt2                 0        -1/4*sqrt2                 0                 0        1/36*sqrt2        -2/9*sqrt2         1/9*sqrt2        -2/9*sqrt2         1/9*sqrt2        1/36*sqrt2        1/36*sqrt2        -2/9*sqrt2         1/9*sqrt2        -2/9*sqrt2         1/9*sqrt2        1/36*sqrt2         1/9*sqrt2         1/9*sqrt2        7/36*sqrt2         1/9*sqrt2        7/36*sqrt2         1/9*sqrt2]\n",
      "[       -1/4*sqrt2                 0        -1/4*sqrt2                 0                 0                 0        -2/9*sqrt2        1/36*sqrt2        -2/9*sqrt2         1/9*sqrt2        1/36*sqrt2         1/9*sqrt2        -2/9*sqrt2        1/36*sqrt2        -2/9*sqrt2         1/9*sqrt2        1/36*sqrt2         1/9*sqrt2         1/9*sqrt2         1/9*sqrt2         1/9*sqrt2        7/36*sqrt2         1/9*sqrt2        7/36*sqrt2]\n",
      "[       -1/6*sqrt3               1/4                 0        1/12*sqrt3        1/12*sqrt3              -1/4               1/4        -1/6*sqrt3        1/12*sqrt3              -1/4                 0        1/12*sqrt3        1/12*sqrt3                 0              -1/4        1/12*sqrt3        -1/6*sqrt3               1/4              -1/4        1/12*sqrt3        1/12*sqrt3                 0               1/4        -1/6*sqrt3]\n",
      "[                0        1/12*sqrt3        -1/6*sqrt3              -1/4               1/4        1/12*sqrt3        1/12*sqrt3                 0               1/4        1/12*sqrt3        -1/6*sqrt3              -1/4              -1/4        -1/6*sqrt3        1/12*sqrt3               1/4                 0        1/12*sqrt3        1/12*sqrt3               1/4              -1/4        -1/6*sqrt3        1/12*sqrt3                 0]\n",
      "[                0        1/12*sqrt3        -1/6*sqrt3               1/4              -1/4        1/12*sqrt3        1/12*sqrt3                 0              -1/4        1/12*sqrt3        -1/6*sqrt3               1/4               1/4        -1/6*sqrt3        1/12*sqrt3              -1/4                 0        1/12*sqrt3        1/12*sqrt3              -1/4               1/4        -1/6*sqrt3        1/12*sqrt3                 0]\n",
      "[       -1/6*sqrt3              -1/4                 0        1/12*sqrt3        1/12*sqrt3               1/4              -1/4        -1/6*sqrt3        1/12*sqrt3               1/4                 0        1/12*sqrt3        1/12*sqrt3                 0               1/4        1/12*sqrt3        -1/6*sqrt3              -1/4               1/4        1/12*sqrt3        1/12*sqrt3                 0              -1/4        -1/6*sqrt3]\n",
      "[       -1/4*sqrt2                 0         1/4*sqrt2                 0                 0                 0         2/9*sqrt2        1/36*sqrt2        -2/9*sqrt2        -1/9*sqrt2       -1/36*sqrt2         1/9*sqrt2        -2/9*sqrt2       -1/36*sqrt2         2/9*sqrt2         1/9*sqrt2        1/36*sqrt2        -1/9*sqrt2        -1/9*sqrt2         1/9*sqrt2         1/9*sqrt2       -7/36*sqrt2        -1/9*sqrt2        7/36*sqrt2]\n",
      "[                0        -1/4*sqrt2                 0         1/4*sqrt2                 0                 0        1/36*sqrt2         2/9*sqrt2        -1/9*sqrt2        -2/9*sqrt2         1/9*sqrt2       -1/36*sqrt2       -1/36*sqrt2        -2/9*sqrt2         1/9*sqrt2         2/9*sqrt2        -1/9*sqrt2        1/36*sqrt2         1/9*sqrt2        -1/9*sqrt2       -7/36*sqrt2         1/9*sqrt2        7/36*sqrt2        -1/9*sqrt2]\n",
      "[                0                 0                 0                 0        -1/4*sqrt2         1/4*sqrt2        -1/9*sqrt2         1/9*sqrt2        1/36*sqrt2       -1/36*sqrt2         2/9*sqrt2        -2/9*sqrt2         1/9*sqrt2        -1/9*sqrt2       -1/36*sqrt2        1/36*sqrt2        -2/9*sqrt2         2/9*sqrt2       -7/36*sqrt2        7/36*sqrt2         1/9*sqrt2        -1/9*sqrt2        -1/9*sqrt2         1/9*sqrt2]\n",
      "[                0        -1/4*sqrt2                 0                 0         1/4*sqrt2                 0        1/36*sqrt2         2/9*sqrt2       -1/36*sqrt2         1/9*sqrt2        -2/9*sqrt2        -1/9*sqrt2        -1/9*sqrt2         1/9*sqrt2         1/9*sqrt2       -7/36*sqrt2        -1/9*sqrt2        7/36*sqrt2        -2/9*sqrt2       -1/36*sqrt2         2/9*sqrt2         1/9*sqrt2        1/36*sqrt2        -1/9*sqrt2]\n",
      "[       -1/4*sqrt2                 0                 0                 0                 0         1/4*sqrt2         2/9*sqrt2        1/36*sqrt2         1/9*sqrt2       -1/36*sqrt2        -1/9*sqrt2        -2/9*sqrt2         1/9*sqrt2        -1/9*sqrt2       -7/36*sqrt2         1/9*sqrt2        7/36*sqrt2        -1/9*sqrt2       -1/36*sqrt2        -2/9*sqrt2         1/9*sqrt2         2/9*sqrt2        -1/9*sqrt2        1/36*sqrt2]\n",
      "[                0                 0        -1/4*sqrt2         1/4*sqrt2                 0                 0         1/9*sqrt2        -1/9*sqrt2         2/9*sqrt2        -2/9*sqrt2        1/36*sqrt2       -1/36*sqrt2       -7/36*sqrt2        7/36*sqrt2         1/9*sqrt2        -1/9*sqrt2        -1/9*sqrt2         1/9*sqrt2         1/9*sqrt2        -1/9*sqrt2       -1/36*sqrt2        1/36*sqrt2        -2/9*sqrt2         2/9*sqrt2]\n",
      "[                0                 0                 0        -1/4*sqrt2                 0         1/4*sqrt2        -1/9*sqrt2         1/9*sqrt2         1/9*sqrt2       -7/36*sqrt2        -1/9*sqrt2        7/36*sqrt2        1/36*sqrt2         2/9*sqrt2       -1/36*sqrt2         1/9*sqrt2        -2/9*sqrt2        -1/9*sqrt2       -1/36*sqrt2        -2/9*sqrt2        1/36*sqrt2        -1/9*sqrt2         2/9*sqrt2         1/9*sqrt2]\n",
      "[                0                 0        -1/4*sqrt2                 0         1/4*sqrt2                 0         1/9*sqrt2        -1/9*sqrt2       -7/36*sqrt2         1/9*sqrt2        7/36*sqrt2        -1/9*sqrt2         2/9*sqrt2        1/36*sqrt2         1/9*sqrt2       -1/36*sqrt2        -1/9*sqrt2        -2/9*sqrt2        -2/9*sqrt2       -1/36*sqrt2        -1/9*sqrt2        1/36*sqrt2         1/9*sqrt2         2/9*sqrt2]\n",
      "[       -1/4*sqrt2         1/4*sqrt2                 0                 0                 0                 0       -7/36*sqrt2        7/36*sqrt2         1/9*sqrt2        -1/9*sqrt2        -1/9*sqrt2         1/9*sqrt2         1/9*sqrt2        -1/9*sqrt2         2/9*sqrt2        -2/9*sqrt2        1/36*sqrt2       -1/36*sqrt2        -1/9*sqrt2         1/9*sqrt2        -2/9*sqrt2         2/9*sqrt2       -1/36*sqrt2        1/36*sqrt2]\n",
      "[-1/12*sqrt2*sqrt3  1/12*sqrt2*sqrt3  1/12*sqrt2*sqrt3 -1/12*sqrt2*sqrt3 -1/12*sqrt2*sqrt3  1/12*sqrt2*sqrt3  1/12*sqrt2*sqrt3 -1/12*sqrt2*sqrt3 -1/12*sqrt2*sqrt3  1/12*sqrt2*sqrt3  1/12*sqrt2*sqrt3 -1/12*sqrt2*sqrt3 -1/12*sqrt2*sqrt3  1/12*sqrt2*sqrt3  1/12*sqrt2*sqrt3 -1/12*sqrt2*sqrt3 -1/12*sqrt2*sqrt3  1/12*sqrt2*sqrt3  1/12*sqrt2*sqrt3 -1/12*sqrt2*sqrt3 -1/12*sqrt2*sqrt3  1/12*sqrt2*sqrt3  1/12*sqrt2*sqrt3 -1/12*sqrt2*sqrt3]\n"
     ]
    }
   ],
   "source": [
    "#compute the unitary DFT for the symmetric group algebra by constructing the number field explicitly\n",
    "U_dft = dft(SGA,method=\"unitary\",number_field=True); print(U_dft)"
   ]
  },
  {
   "cell_type": "code",
   "execution_count": 10,
   "id": "ed017caa-f9f2-47d6-a63a-1557479a4d09",
   "metadata": {},
   "outputs": [
    {
     "name": "stdout",
     "output_type": "stream",
     "text": [
      "[-1/12*sqrt3*sqrt2 -1/12*sqrt3*sqrt2 -1/12*sqrt3*sqrt2 -1/12*sqrt3*sqrt2 -1/12*sqrt3*sqrt2 -1/12*sqrt3*sqrt2 -1/12*sqrt3*sqrt2 -1/12*sqrt3*sqrt2 -1/12*sqrt3*sqrt2 -1/12*sqrt3*sqrt2 -1/12*sqrt3*sqrt2 -1/12*sqrt3*sqrt2 -1/12*sqrt3*sqrt2 -1/12*sqrt3*sqrt2 -1/12*sqrt3*sqrt2 -1/12*sqrt3*sqrt2 -1/12*sqrt3*sqrt2 -1/12*sqrt3*sqrt2 -1/12*sqrt3*sqrt2 -1/12*sqrt3*sqrt2 -1/12*sqrt3*sqrt2 -1/12*sqrt3*sqrt2 -1/12*sqrt3*sqrt2 -1/12*sqrt3*sqrt2]\n",
      "[        1/4*sqrt2         1/4*sqrt2         1/8*sqrt2         1/8*sqrt2         1/8*sqrt2         1/8*sqrt2        -1/4*sqrt2        -1/4*sqrt2        -1/8*sqrt2        -1/8*sqrt2        -1/8*sqrt2        -1/8*sqrt2        -1/8*sqrt2        -1/8*sqrt2         1/8*sqrt2         1/8*sqrt2                 0                 0        -1/8*sqrt2        -1/8*sqrt2         1/8*sqrt2         1/8*sqrt2                 0                 0]\n",
      "[                0                 0  -1/8*sqrt3*sqrt2  -1/8*sqrt3*sqrt2 -1/24*sqrt3*sqrt2 -1/24*sqrt3*sqrt2                 0                 0  -1/8*sqrt3*sqrt2  -1/8*sqrt3*sqrt2 -1/24*sqrt3*sqrt2 -1/24*sqrt3*sqrt2   1/8*sqrt3*sqrt2   1/8*sqrt3*sqrt2   1/8*sqrt3*sqrt2   1/8*sqrt3*sqrt2  1/12*sqrt3*sqrt2  1/12*sqrt3*sqrt2  1/24*sqrt3*sqrt2  1/24*sqrt3*sqrt2  1/24*sqrt3*sqrt2  1/24*sqrt3*sqrt2 -1/12*sqrt3*sqrt2 -1/12*sqrt3*sqrt2]\n",
      "[                0                 0                 0                 0         1/6*sqrt3         1/6*sqrt3                 0                 0                 0                 0         1/6*sqrt3         1/6*sqrt3                 0                 0                 0                 0         1/6*sqrt3         1/6*sqrt3        -1/6*sqrt3        -1/6*sqrt3        -1/6*sqrt3        -1/6*sqrt3        -1/6*sqrt3        -1/6*sqrt3]\n",
      "[                0                 0  -1/8*sqrt3*sqrt2 -1/24*sqrt3*sqrt2  -1/8*sqrt3*sqrt2 -1/24*sqrt3*sqrt2                 0                 0   1/8*sqrt3*sqrt2  1/24*sqrt3*sqrt2   1/8*sqrt3*sqrt2  1/24*sqrt3*sqrt2  -1/8*sqrt3*sqrt2 -1/24*sqrt3*sqrt2   1/8*sqrt3*sqrt2  1/24*sqrt3*sqrt2  1/12*sqrt3*sqrt2 -1/12*sqrt3*sqrt2  -1/8*sqrt3*sqrt2 -1/24*sqrt3*sqrt2   1/8*sqrt3*sqrt2  1/24*sqrt3*sqrt2  1/12*sqrt3*sqrt2 -1/12*sqrt3*sqrt2]\n",
      "[        1/4*sqrt2        1/12*sqrt2        -1/8*sqrt2       -1/24*sqrt2       -1/24*sqrt2        5/24*sqrt2         1/4*sqrt2        1/12*sqrt2        -1/8*sqrt2       -1/24*sqrt2       -1/24*sqrt2        5/24*sqrt2        -1/8*sqrt2       -1/24*sqrt2        -1/8*sqrt2       -1/24*sqrt2        -1/6*sqrt2        -1/6*sqrt2       -1/24*sqrt2        5/24*sqrt2       -1/24*sqrt2        5/24*sqrt2        -1/6*sqrt2        -1/6*sqrt2]\n",
      "[                0               1/3                 0               1/3              -1/6              -1/6                 0               1/3                 0               1/3              -1/6              -1/6                 0               1/3                 0               1/3              -1/6              -1/6              -1/6              -1/6              -1/6              -1/6              -1/6              -1/6]\n",
      "[                0                 0                 0         1/6*sqrt3                 0         1/6*sqrt3                 0                 0                 0        -1/6*sqrt3                 0        -1/6*sqrt3                 0         1/6*sqrt3                 0        -1/6*sqrt3         1/6*sqrt3        -1/6*sqrt3                 0         1/6*sqrt3                 0        -1/6*sqrt3         1/6*sqrt3        -1/6*sqrt3]\n",
      "[                0               1/3                 0              -1/6               1/3              -1/6                 0               1/3                 0              -1/6               1/3              -1/6                 0              -1/6                 0              -1/6              -1/6              -1/6               1/3              -1/6               1/3              -1/6              -1/6              -1/6]\n",
      "[        1/4*sqrt2       -1/12*sqrt2         1/4*sqrt2       -1/12*sqrt2       -1/12*sqrt2       -1/12*sqrt2         1/4*sqrt2       -1/12*sqrt2         1/4*sqrt2       -1/12*sqrt2       -1/12*sqrt2       -1/12*sqrt2         1/4*sqrt2       -1/12*sqrt2         1/4*sqrt2       -1/12*sqrt2       -1/12*sqrt2       -1/12*sqrt2       -1/12*sqrt2       -1/12*sqrt2       -1/12*sqrt2       -1/12*sqrt2       -1/12*sqrt2       -1/12*sqrt2]\n",
      "[        1/6*sqrt3        -1/6*sqrt3        1/12*sqrt3       -1/12*sqrt3       -1/12*sqrt3        1/12*sqrt3        -1/6*sqrt3         1/6*sqrt3       -1/12*sqrt3        1/12*sqrt3        1/12*sqrt3       -1/12*sqrt3       -1/12*sqrt3        1/12*sqrt3        1/12*sqrt3       -1/12*sqrt3         1/6*sqrt3        -1/6*sqrt3        1/12*sqrt3       -1/12*sqrt3       -1/12*sqrt3        1/12*sqrt3        -1/6*sqrt3         1/6*sqrt3]\n",
      "[                0                 0               1/4              -1/4               1/4              -1/4                 0                 0               1/4              -1/4               1/4              -1/4              -1/4               1/4              -1/4               1/4                 0                 0              -1/4               1/4              -1/4               1/4                 0                 0]\n",
      "[                0                 0               1/4               1/4              -1/4              -1/4                 0                 0              -1/4              -1/4               1/4               1/4               1/4               1/4              -1/4              -1/4                 0                 0              -1/4              -1/4               1/4               1/4                 0                 0]\n",
      "[        1/6*sqrt3         1/6*sqrt3       -1/12*sqrt3       -1/12*sqrt3       -1/12*sqrt3       -1/12*sqrt3         1/6*sqrt3         1/6*sqrt3       -1/12*sqrt3       -1/12*sqrt3       -1/12*sqrt3       -1/12*sqrt3       -1/12*sqrt3       -1/12*sqrt3       -1/12*sqrt3       -1/12*sqrt3         1/6*sqrt3         1/6*sqrt3       -1/12*sqrt3       -1/12*sqrt3       -1/12*sqrt3       -1/12*sqrt3         1/6*sqrt3         1/6*sqrt3]\n",
      "[        1/4*sqrt2        1/12*sqrt2        -1/4*sqrt2       -1/12*sqrt2       -1/12*sqrt2        1/12*sqrt2        -1/4*sqrt2       -1/12*sqrt2         1/4*sqrt2        1/12*sqrt2        1/12*sqrt2       -1/12*sqrt2         1/4*sqrt2        1/12*sqrt2        -1/4*sqrt2       -1/12*sqrt2       -1/12*sqrt2        1/12*sqrt2        1/12*sqrt2       -1/12*sqrt2       -1/12*sqrt2        1/12*sqrt2        1/12*sqrt2       -1/12*sqrt2]\n",
      "[                0               1/3                 0               1/6              -1/3              -1/6                 0              -1/3                 0              -1/6               1/3               1/6                 0              -1/6                 0               1/6               1/6              -1/6               1/3               1/6              -1/3              -1/6              -1/6               1/6]\n",
      "[                0                 0                 0         1/6*sqrt3                 0        -1/6*sqrt3                 0                 0                 0         1/6*sqrt3                 0        -1/6*sqrt3                 0        -1/6*sqrt3                 0        -1/6*sqrt3         1/6*sqrt3         1/6*sqrt3                 0         1/6*sqrt3                 0         1/6*sqrt3        -1/6*sqrt3        -1/6*sqrt3]\n",
      "[                0               1/3                 0              -1/3               1/6              -1/6                 0              -1/3                 0               1/3              -1/6               1/6                 0               1/3                 0              -1/3               1/6              -1/6              -1/6               1/6               1/6              -1/6              -1/6               1/6]\n",
      "[        1/4*sqrt2       -1/12*sqrt2         1/8*sqrt2       -1/24*sqrt2       -1/24*sqrt2       -5/24*sqrt2        -1/4*sqrt2        1/12*sqrt2        -1/8*sqrt2        1/24*sqrt2        1/24*sqrt2        5/24*sqrt2        -1/8*sqrt2        1/24*sqrt2         1/8*sqrt2       -1/24*sqrt2        -1/6*sqrt2         1/6*sqrt2        1/24*sqrt2        5/24*sqrt2       -1/24*sqrt2       -5/24*sqrt2         1/6*sqrt2        -1/6*sqrt2]\n",
      "[                0                 0  -1/8*sqrt3*sqrt2  1/24*sqrt3*sqrt2   1/8*sqrt3*sqrt2 -1/24*sqrt3*sqrt2                 0                 0  -1/8*sqrt3*sqrt2  1/24*sqrt3*sqrt2   1/8*sqrt3*sqrt2 -1/24*sqrt3*sqrt2   1/8*sqrt3*sqrt2 -1/24*sqrt3*sqrt2   1/8*sqrt3*sqrt2 -1/24*sqrt3*sqrt2 -1/12*sqrt3*sqrt2 -1/12*sqrt3*sqrt2  -1/8*sqrt3*sqrt2  1/24*sqrt3*sqrt2  -1/8*sqrt3*sqrt2  1/24*sqrt3*sqrt2  1/12*sqrt3*sqrt2  1/12*sqrt3*sqrt2]\n",
      "[                0                 0                 0                 0         1/6*sqrt3        -1/6*sqrt3                 0                 0                 0                 0        -1/6*sqrt3         1/6*sqrt3                 0                 0                 0                 0         1/6*sqrt3        -1/6*sqrt3         1/6*sqrt3        -1/6*sqrt3        -1/6*sqrt3         1/6*sqrt3         1/6*sqrt3        -1/6*sqrt3]\n",
      "[                0                 0  -1/8*sqrt3*sqrt2   1/8*sqrt3*sqrt2  1/24*sqrt3*sqrt2 -1/24*sqrt3*sqrt2                 0                 0   1/8*sqrt3*sqrt2  -1/8*sqrt3*sqrt2 -1/24*sqrt3*sqrt2  1/24*sqrt3*sqrt2  -1/8*sqrt3*sqrt2   1/8*sqrt3*sqrt2   1/8*sqrt3*sqrt2  -1/8*sqrt3*sqrt2 -1/12*sqrt3*sqrt2  1/12*sqrt3*sqrt2  1/24*sqrt3*sqrt2 -1/24*sqrt3*sqrt2 -1/24*sqrt3*sqrt2  1/24*sqrt3*sqrt2 -1/12*sqrt3*sqrt2  1/12*sqrt3*sqrt2]\n",
      "[        1/4*sqrt2        -1/4*sqrt2        -1/8*sqrt2         1/8*sqrt2         1/8*sqrt2        -1/8*sqrt2         1/4*sqrt2        -1/4*sqrt2        -1/8*sqrt2         1/8*sqrt2         1/8*sqrt2        -1/8*sqrt2        -1/8*sqrt2         1/8*sqrt2        -1/8*sqrt2         1/8*sqrt2                 0                 0         1/8*sqrt2        -1/8*sqrt2         1/8*sqrt2        -1/8*sqrt2                 0                 0]\n",
      "[-1/12*sqrt3*sqrt2  1/12*sqrt3*sqrt2  1/12*sqrt3*sqrt2 -1/12*sqrt3*sqrt2 -1/12*sqrt3*sqrt2  1/12*sqrt3*sqrt2  1/12*sqrt3*sqrt2 -1/12*sqrt3*sqrt2 -1/12*sqrt3*sqrt2  1/12*sqrt3*sqrt2  1/12*sqrt3*sqrt2 -1/12*sqrt3*sqrt2 -1/12*sqrt3*sqrt2  1/12*sqrt3*sqrt2  1/12*sqrt3*sqrt2 -1/12*sqrt3*sqrt2 -1/12*sqrt3*sqrt2  1/12*sqrt3*sqrt2  1/12*sqrt3*sqrt2 -1/12*sqrt3*sqrt2 -1/12*sqrt3*sqrt2  1/12*sqrt3*sqrt2  1/12*sqrt3*sqrt2 -1/12*sqrt3*sqrt2]\n"
     ]
    }
   ],
   "source": [
    "#compute using the simplest method\n",
    "U_dft = unitary_dft(SGA); print(U_dft)"
   ]
  },
  {
   "cell_type": "code",
   "execution_count": 11,
   "id": "8ba7dfc6-7632-4519-93a9-74680ed23263",
   "metadata": {},
   "outputs": [
    {
     "data": {
      "text/plain": [
       "True"
      ]
     },
     "execution_count": 11,
     "metadata": {},
     "output_type": "execute_result"
    }
   ],
   "source": [
    "#check that the DFT is unitary\n",
    "U_dft*U_dft.H == identity_matrix(G.cardinality())"
   ]
  },
  {
   "cell_type": "code",
   "execution_count": 19,
   "id": "45e8804f-368c-49d1-b073-219eadd8f3ed",
   "metadata": {},
   "outputs": [],
   "source": [
    "#QUESTION: what are the eigenvalues?\n",
    "#for n=3, the minimal polynomial is degree 24 for the eigenvalues. [L:\\Q] = 192, [L:K] = |Gal(L/K)| = [L:\\Q]/[K:\\Q] = 192/4 = 48\n",
    "#there is only one subgroup of order 48 in S_6, S_2 x S_4. however, there is only one transitive permutation group, S_2 \\wr S_3\n",
    "#the eigenvalues are not roots of unity since min_poly(x) has rational coefficients and cyclotomic polynomials have integer coefficients"
   ]
  },
  {
   "cell_type": "code",
   "execution_count": 39,
   "id": "2a995534-79fe-4563-a07a-187cf2cfc77c",
   "metadata": {},
   "outputs": [
    {
     "data": {
      "text/plain": [
       "x^6 + 1/2*x^5 + (1/6*sqrt2 + 1/2*sqrt3 - 1/2)*x^4 + (-1/6*sqrt2 - 1/2*sqrt3 + 1/2)*x^2 - 1/2*x - 1"
      ]
     },
     "execution_count": 39,
     "metadata": {},
     "output_type": "execute_result"
    }
   ],
   "source": [
    "U_dft.charpoly()"
   ]
  },
  {
   "cell_type": "code",
   "execution_count": 18,
   "id": "54110c29-ba6f-4d09-a51d-f37651520902",
   "metadata": {},
   "outputs": [
    {
     "name": "stdout",
     "output_type": "stream",
     "text": [
      "PARI stack size set to 10000000000 bytes, maximum size set to 10000007168\n"
     ]
    },
    {
     "data": {
      "text/plain": [
       "10000000000"
      ]
     },
     "execution_count": 18,
     "metadata": {},
     "output_type": "execute_result"
    }
   ],
   "source": [
    "#getting PARI stack size error\n",
    "pari.allocatemem(10^10)\n",
    "pari.stacksize()"
   ]
  },
  {
   "cell_type": "code",
   "execution_count": 19,
   "id": "077ce28b-5e2c-4b73-bfb0-70072c4e9452",
   "metadata": {},
   "outputs": [],
   "source": [
    "#ISSUE: the splitting field appears to be high degree, and the coefficients are large\n",
    "if len(U_dft.charpoly().factor()) != U_dft.charpoly().degree():\n",
    "    L.<a> = U_dft.charpoly().splitting_field(map=False); L\n",
    "else:\n",
    "    L = K"
   ]
  },
  {
   "cell_type": "code",
   "execution_count": null,
   "id": "02b6fc7c-cbb2-46f3-9aa6-a93be398d0c4",
   "metadata": {},
   "outputs": [],
   "source": [
    "L.degree()"
   ]
  },
  {
   "cell_type": "code",
   "execution_count": null,
   "id": "425bcbc2-67b2-4359-84c2-6caf2b00f062",
   "metadata": {},
   "outputs": [],
   "source": [
    "#compute the degrees\n",
    "if L != L.algebraic_closure():\n",
    "    L_deg = L.absolute_degree(); print(L_deg)\n",
    "    L_rel = L_deg/K.absolute_degree(); print(L_rel)"
   ]
  },
  {
   "cell_type": "code",
   "execution_count": null,
   "id": "f3e7ef8d-86fc-4303-9f89-99897a623e2d",
   "metadata": {},
   "outputs": [],
   "source": [
    "#form relative exrtension M. attempt to compute Galois group\n",
    "#for a splitting field L, we should have [L:K] = |Gal(L/K)|\n",
    "if U_dft.charpoly().is_irreducible():\n",
    "    M.<b> = K.extension(U_dft.charpoly()); M"
   ]
  },
  {
   "cell_type": "code",
   "execution_count": null,
   "id": "c019b331-f022-4289-a311-c76c0cb9a4eb",
   "metadata": {},
   "outputs": [],
   "source": [
    "#look at all subgroups of order [L:K] in S_d where d is the degree of the polynomial\n",
    "#for n=3, [L:K] = 48 and it appears there is exactly one subgroup of order 48 up to isomorphism\n",
    "subgroups_order_48_in_sym = [H for H in SymmetricGroup(6).subgroups() if H.order() == 48]\n",
    "all([subgroups_order_48_in_sym[0].is_isomorphic(H) for H in subgroups_order_48_in_sym])"
   ]
  },
  {
   "cell_type": "code",
   "execution_count": null,
   "id": "248ad9f8-d64c-40b6-88b9-d7a23f4a0313",
   "metadata": {},
   "outputs": [],
   "source": [
    "#one can factor the polynomial over a splitting field L/K\n",
    "#but there is no way to express the roots of a quintic in terms of radicals\n",
    "try:\n",
    "    eigs = matrix(L,U_dft).eigenvalues(extend=False)\n",
    "except TypeError:\n",
    "    print(\"Cannot express eigenvalues in terms of radicals since polynomial is a quintic or above.\")"
   ]
  },
  {
   "cell_type": "code",
   "execution_count": null,
   "id": "c2e92da4-6440-448b-9211-15aa8ddec3f4",
   "metadata": {},
   "outputs": [],
   "source": [
    "eigs"
   ]
  },
  {
   "cell_type": "code",
   "execution_count": null,
   "id": "94ad338a-c3a4-4226-8378-58516d570241",
   "metadata": {},
   "outputs": [],
   "source": [
    "[arg(eig).n(20) for eig in eigs]"
   ]
  },
  {
   "cell_type": "code",
   "execution_count": null,
   "id": "9800ad85-ec1c-40fb-bec4-a8d44f63c548",
   "metadata": {},
   "outputs": [],
   "source": [
    "eigs[4].minpoly()"
   ]
  },
  {
   "cell_type": "code",
   "execution_count": null,
   "id": "11c97a76-d606-40db-a38e-fb0350836904",
   "metadata": {},
   "outputs": [],
   "source": [
    "U_dft.charpoly().discriminant()"
   ]
  },
  {
   "cell_type": "code",
   "execution_count": null,
   "id": "29767fbd-6c2a-4671-b91c-a9d452956713",
   "metadata": {},
   "outputs": [],
   "source": [
    "-sqrt(K(3))"
   ]
  },
  {
   "cell_type": "code",
   "execution_count": null,
   "id": "325e2a40-277e-4c61-921d-58005e982e94",
   "metadata": {},
   "outputs": [],
   "source": [
    "((-213828613/1679616*(sqrt(2)) + 85996015/69984)*(sqrt(3)) + 348251435/62208*(sqrt(2)) - 33598899709/3359232).n()"
   ]
  },
  {
   "cell_type": "code",
   "execution_count": null,
   "id": "14cbad6c-4016-4b14-9ce0-415b9d90f2c1",
   "metadata": {},
   "outputs": [],
   "source": [
    "#n=3: two real, two complex\n",
    "#n=4: all complex\n",
    "#the magnitude is not 1, they're closely grouped around 2 or 3"
   ]
  },
  {
   "cell_type": "code",
   "execution_count": null,
   "id": "33046e01-08a6-4324-9c30-d908bf1c2256",
   "metadata": {},
   "outputs": [],
   "source": [
    "SGA_dft.base_ring()"
   ]
  },
  {
   "cell_type": "code",
   "execution_count": null,
   "id": "2caebbde-e05f-416d-a06f-b1d8d8c53ebb",
   "metadata": {},
   "outputs": [],
   "source": [
    "SGA_eigs = SGA_dft.eigenvalues(); SGA_eigs"
   ]
  },
  {
   "cell_type": "code",
   "execution_count": null,
   "id": "edb1c420-f44a-4cb3-9fb3-2ffa17dee539",
   "metadata": {},
   "outputs": [],
   "source": [
    "[abs(eig) for eig in SGA_eigs]"
   ]
  },
  {
   "cell_type": "code",
   "execution_count": null,
   "id": "65cb3bc4-b509-4b7b-81d7-da293174d156",
   "metadata": {},
   "outputs": [],
   "source": [
    "SGA_eigs[0].minpoly()"
   ]
  },
  {
   "cell_type": "code",
   "execution_count": null,
   "id": "5a48909b-3b9a-437c-a778-e81f28f3735b",
   "metadata": {},
   "outputs": [],
   "source": [
    "#note that the singluar values are the square roots of the diagonal entries of the Gram matrix\n",
    "print(SymmetricGroup(n).algebra(CDF).dft().SVD()[1].numpy().diagonal())\n",
    "print(sqrt((SGA_dft*SGA_dft.transpose()).numpy().diagonal()))"
   ]
  }
 ],
 "metadata": {
  "kernelspec": {
   "display_name": "SageMath 10.4",
   "language": "sage",
   "name": "sagemath-10.4"
  },
  "language_info": {
   "codemirror_mode": {
    "name": "ipython",
    "version": 3
   },
   "file_extension": ".py",
   "mimetype": "text/x-python",
   "name": "python",
   "nbconvert_exporter": "python",
   "pygments_lexer": "ipython3",
   "version": "3.12.4"
  }
 },
 "nbformat": 4,
 "nbformat_minor": 5
}
