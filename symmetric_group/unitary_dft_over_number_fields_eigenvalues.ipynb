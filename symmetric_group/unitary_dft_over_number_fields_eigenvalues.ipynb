{
 "cells": [
  {
   "cell_type": "code",
   "execution_count": 1,
   "id": "e5fa7439-9967-496e-b27a-6c2564f7f9ca",
   "metadata": {
    "vscode": {
     "languageId": "python"
    }
   },
   "outputs": [],
   "source": [
    "\"\"\"\n",
    "computes the unitary DFT by:\n",
    "\n",
    "1) using Weyl's unitary trick to get unitary representations\n",
    "2) use orthogonal representations which are unitary since they're real\n",
    "3) just compute DFT.DFT^* = D, where D is diagonal. then factor D = RR^*, and uDFT = R^{-1}.DFT\n",
    "\n",
    "\"\"\";"
   ]
  },
  {
   "cell_type": "code",
   "execution_count": 2,
   "id": "f4f39b63-d30d-445e-8cde-3ea75a3c64d3",
   "metadata": {
    "vscode": {
     "languageId": "python"
    }
   },
   "outputs": [],
   "source": [
    "#compute a field which contains all the square roots required\n",
    "def number_field_with_all_square_roots(SGA):\n",
    "    group_size = G.cardinality()\n",
    "    required_square_roots = []\n",
    "    for partition in Partitions(G.degree()):\n",
    "        specht_module = SGA.specht_module(partition)\n",
    "        rho = specht_module.representation_matrix\n",
    "        P = (1/group_size)*sum(rho(g)*rho(g).H for g in G)\n",
    "        d, L = P.eigenmatrix_left()\n",
    "        required_square_roots += [specht_module.dimension(),group_size] + d.diagonal()\n",
    "    required_square_roots = {e for q in required_square_roots for e in ([QQ(q).numerator(), QQ(q).denominator()] if q in QQ else [q])}\n",
    "    K = SGA.base_ring()\n",
    "    for n in required_square_roots:\n",
    "        R = PolynomialRing(K, 'x')\n",
    "        x = R.gen()\n",
    "        if n in QQ and (x**2-n).is_irreducible():\n",
    "            gen_name = f\"sqrt{str(n).replace('/','over')}\"\n",
    "            K = K.extension(x**2-n,names=gen_name)\n",
    "        #BUG: the required square roots are not all integers. some of them are algebraic numbers\n",
    "        #this is incredibly slow and will even segfault.\n",
    "        if not n in QQ and sqrt(n).minpoly().is_irreducible():\n",
    "            gen_name = f\"deg{n.minpoly().degree()}index{list(set(required_square_roots)).index(n)}\"\n",
    "            K = K.extension(sqrt(n).minpoly(),names=gen_name)\n",
    "    return K"
   ]
  },
  {
   "cell_type": "code",
   "execution_count": 3,
   "id": "ceef00d1-d036-4f68-b585-79fe3f1c6807",
   "metadata": {
    "vscode": {
     "languageId": "python"
    }
   },
   "outputs": [],
   "source": [
    "#find the change-of-basis matrix Q making \\rho(g) unitary for all g \\in G\n",
    "def unitary_change_of_basis(SGA,partition,K=QQbar):\n",
    "    rho = SGA.specht_module(partition).representation_matrix\n",
    "    group_size = SGA.group().cardinality()\n",
    "    P = (1/group_size)*sum(rho(g)*rho(g).H for g in G)\n",
    "    d, L = P.eigenmatrix_left()\n",
    "    return L.inverse() * diagonal_matrix([sqrt(K(a)) for a in d.diagonal()]) * L"
   ]
  },
  {
   "cell_type": "code",
   "execution_count": 4,
   "id": "aca07005-770f-4a0f-bd28-f6c3a5446787",
   "metadata": {
    "vscode": {
     "languageId": "python"
    }
   },
   "outputs": [],
   "source": [
    "#define the Fourier coefficient at the representation specht_module\n",
    "#which is the Specht module corresponding to partition\n",
    "def hat(g,partition,SGA,K=QQbar,method=None):\n",
    "    specht_module = SGA.specht_module(partition)\n",
    "    rho = specht_module.representation_matrix\n",
    "    if not method:\n",
    "        return rho(g)\n",
    "    if method == \"orth\":\n",
    "        rho_orth = SymmetricGroupRepresentation(partition, \"orthogonal\")\n",
    "        unitary_factor = specht_module.dimension()/G.cardinality()\n",
    "        sqrt_unitary_factor = sqrt(unitary_factor)\n",
    "        return sqrt_unitary_factor*rho_orth(g)\n",
    "    if method == \"unitary\":\n",
    "        Q = unitary_change_of_basis(SGA,partition,K)\n",
    "        unitary_factor = specht_module.dimension()/G.cardinality()\n",
    "        sqrt_unitary_factor = sqrt(K(unitary_factor))\n",
    "        return sqrt_unitary_factor*Q.inverse()*rho(g)*Q"
   ]
  },
  {
   "cell_type": "code",
   "execution_count": 5,
   "id": "dad4c039-cddd-4d55-8be4-09dff460fbb8",
   "metadata": {
    "vscode": {
     "languageId": "python"
    }
   },
   "outputs": [],
   "source": [
    "#for each basis element g \\in G compute the Fourier coefficients \\hat{\\delta_g}(partition) for all partitions\n",
    "def dft(SGA,method=None,number_field=False):\n",
    "    K = number_field_with_all_square_roots(SGA) if number_field else QQbar\n",
    "    fourier_transform = [[x for partition in Partitions(G.degree()) for x in hat(g,partition,SGA,K,method).list()] for g in G]\n",
    "    if not method:\n",
    "        return matrix(fourier_transform).transpose()\n",
    "    if method == \"orth\":\n",
    "        return matrix(fourier_transform).transpose()\n",
    "    if method == \"unitary\":\n",
    "        return matrix(K,fourier_transform).transpose()"
   ]
  },
  {
   "cell_type": "code",
   "execution_count": 6,
   "id": "ad7a8bcf-fbe8-45eb-bfae-d428f4ed48ea",
   "metadata": {
    "vscode": {
     "languageId": "python"
    }
   },
   "outputs": [],
   "source": [
    "#an alternate method to create a unitary DFT in characteristic zero, avoiding other computations\n",
    "#take the numerators and denominators of the diagonal, factor square-free parts, and adjoin roots of resulting primes\n",
    "def unitary_dft(SGA):\n",
    "    SGA_dft = SGA.dft()\n",
    "    diag = (SGA_dft*SGA_dft.transpose()).diagonal()\n",
    "    if SGA.base_ring() != QQbar:\n",
    "        primes_needed = {factor for d in diag for factor, _ in d.squarefree_part().factor()}\n",
    "        names = [f\"sqrt{factor}\" for factor in primes_needed]\n",
    "        x = PolynomialRing(QQ, 'x').gen()\n",
    "        K = NumberField([x**2-d for d in primes_needed],names=names)\n",
    "    else:\n",
    "        K = QQbar\n",
    "    diag_inv = diagonal_matrix([~sqrt(K(d)) for d in diag])\n",
    "    return diag_inv*SGA_dft"
   ]
  },
  {
   "cell_type": "code",
   "execution_count": 93,
   "id": "1d123573-fd82-4429-aa0b-5737739e6473",
   "metadata": {
    "vscode": {
     "languageId": "python"
    }
   },
   "outputs": [],
   "source": [
    "#define paramters, algebra, field, group\n",
    "n = 3\n",
    "SGA = SymmetricGroupAlgebra(QQ,n)\n",
    "G = SGA.group()"
   ]
  },
  {
   "cell_type": "code",
   "execution_count": 94,
   "id": "22df4b4d-2712-459f-bbf4-7336e8395d60",
   "metadata": {
    "vscode": {
     "languageId": "python"
    }
   },
   "outputs": [],
   "source": [
    "U_dft = unitary_dft(SGA)"
   ]
  },
  {
   "cell_type": "code",
   "execution_count": 95,
   "id": "36826914-3322-41dd-b8ad-88c8ae5c6402",
   "metadata": {
    "vscode": {
     "languageId": "python"
    }
   },
   "outputs": [
    {
     "data": {
      "text/plain": [
       "(sqrt2, sqrt3)"
      ]
     },
     "execution_count": 95,
     "metadata": {},
     "output_type": "execute_result"
    }
   ],
   "source": [
    "U_dft.base_ring().gens()"
   ]
  },
  {
   "cell_type": "code",
   "execution_count": 96,
   "id": "bda696a0-dfcb-411e-83ce-a7bfa1e67e27",
   "metadata": {
    "vscode": {
     "languageId": "python"
    }
   },
   "outputs": [
    {
     "data": {
      "text/plain": [
       "x^6 + 1/2*x^5 + (1/6*sqrt2 + 1/2*sqrt3 - 1/2)*x^4 + (-1/6*sqrt2 - 1/2*sqrt3 + 1/2)*x^2 - 1/2*x - 1"
      ]
     },
     "execution_count": 96,
     "metadata": {},
     "output_type": "execute_result"
    }
   ],
   "source": [
    "charpoly = U_dft.charpoly(); charpoly"
   ]
  },
  {
   "cell_type": "code",
   "execution_count": 97,
   "id": "1049913b",
   "metadata": {
    "vscode": {
     "languageId": "python"
    }
   },
   "outputs": [],
   "source": [
    "K = charpoly.base_ring()"
   ]
  },
  {
   "cell_type": "code",
   "execution_count": 98,
   "id": "b42e8262",
   "metadata": {
    "vscode": {
     "languageId": "python"
    }
   },
   "outputs": [],
   "source": [
    "E, phi = charpoly.splitting_field('a',map=True)"
   ]
  },
  {
   "cell_type": "code",
   "execution_count": 99,
   "id": "dd4cd6dc",
   "metadata": {
    "vscode": {
     "languageId": "python"
    }
   },
   "outputs": [],
   "source": [
    "#pushforward charpoly to be in E[y] rather than K[x] via embedding phi: K --> E\n",
    "charpoly_E = sum([phi(charpoly[i])*PolynomialRing(E,'y').gen()**i for i in range(charpoly.degree()+1)])"
   ]
  },
  {
   "cell_type": "code",
   "execution_count": 100,
   "id": "d04443bc",
   "metadata": {
    "vscode": {
     "languageId": "python"
    }
   },
   "outputs": [
    {
     "data": {
      "text/plain": [
       "[(1, 1), (-1, 1)]"
      ]
     },
     "execution_count": 100,
     "metadata": {},
     "output_type": "execute_result"
    }
   ],
   "source": [
    "charpoly_E.roots()"
   ]
  },
  {
   "cell_type": "code",
   "execution_count": 84,
   "id": "3ba90db3",
   "metadata": {
    "vscode": {
     "languageId": "python"
    }
   },
   "outputs": [
    {
     "data": {
      "text/plain": [
       "Galois group of (non-Galois) x^32 + 120*x^31 - 17532*x^30 - 2667888*x^29 + 110651166*x^28 + 26041904784*x^27 - 166343408892*x^26 - 147724751060208*x^25 - 1705949357837175*x^24 + 544937224178466648*x^23 + 12471702287965613136*x^22 - 1390581196176336103296*x^21 - 43346886886235415490560*x^20 + 2557958956714503501329664*x^19 + 96755891829193726806716928*x^18 - 3503629949932179556791146496*x^17 - 151395572335222808405433533952*x^16 + 3684983862573146705058307289088*x^15 + 172370595677920869748211479388160*x^14 - 3077042345044183858609847805640704*x^13 - 144779797808166587985468605777264640*x^12 + 2107428055487671672601572441112838144*x^11 + 89285267546764977359078892645873352704*x^10 - 1200887878808706816431831839664235872256*x^9 - 39318237272944231501700968110187217879040*x^8 + 553745985553878787636478221737544839069696*x^7 + 11530713978523144209899886253069489557995520*x^6 - 190655499159926700770611195917444516849647616*x^5 - 1868260132414457800228677091504693126147080192*x^4 + 42486736159521110443533208619158516997371723776*x^3 + 49720076677064895976276420599064118657512636416*x^2 - 4511188657367419197810683287566096556938309402624*x + 23101339861969975578607248124119904612839522828288"
      ]
     },
     "execution_count": 84,
     "metadata": {},
     "output_type": "execute_result"
    }
   ],
   "source": [
    "E.galois_group()"
   ]
  },
  {
   "cell_type": "code",
   "execution_count": 82,
   "id": "7b735966-cab1-4488-93a1-15c5b4c34510",
   "metadata": {
    "vscode": {
     "languageId": "python"
    }
   },
   "outputs": [],
   "source": [
    "eigenvalues = U_dft.charpoly().roots()"
   ]
  },
  {
   "cell_type": "code",
   "execution_count": 105,
   "id": "c3d7808f",
   "metadata": {
    "vscode": {
     "languageId": "python"
    }
   },
   "outputs": [
    {
     "data": {
      "text/plain": [
       "1"
      ]
     },
     "execution_count": 105,
     "metadata": {},
     "output_type": "execute_result"
    }
   ],
   "source": [
    "#compute the GCD of the characteristic polynomial and its derivative\n",
    "gcd(charpoly,charpoly.derivative())"
   ]
  },
  {
   "cell_type": "code",
   "execution_count": 106,
   "id": "504ad326",
   "metadata": {
    "vscode": {
     "languageId": "python"
    }
   },
   "outputs": [
    {
     "data": {
      "text/plain": [
       "6*x^5 + 5/2*x^4 + (2/3*sqrt2 + 2*sqrt3 - 2)*x^3 + (-1/3*sqrt2 - sqrt3 + 1)*x - 1/2"
      ]
     },
     "execution_count": 106,
     "metadata": {},
     "output_type": "execute_result"
    }
   ],
   "source": [
    "charpoly.derivative()"
   ]
  },
  {
   "cell_type": "code",
   "execution_count": 92,
   "id": "d5bf7c2a-96be-4643-aac2-c99b5b94762f",
   "metadata": {
    "vscode": {
     "languageId": "python"
    }
   },
   "outputs": [],
   "source": [
    "import matplotlib.pyplot as plt\n",
    "import numpy as np\n",
    "\n",
    "# Extract real and imaginary parts for plotting\n",
    "real_parts = [eigenvalue[0].real() for eigenvalue in eigenvalues]\n",
    "imaginary_parts = [eigenvalue[0].imag() for eigenvalue in eigenvalues]"
   ]
  },
  {
   "cell_type": "code",
   "execution_count": 94,
   "id": "22ab03b0-ad53-438d-ae48-f17fa2b06a9b",
   "metadata": {
    "vscode": {
     "languageId": "python"
    }
   },
   "outputs": [
    {
     "data": {
      "image/png": "[encoded data removed]",
      "text/plain": [
       "<Figure size 600x600 with 1 Axes>"
      ]
     },
     "metadata": {},
     "output_type": "display_data"
    }
   ],
   "source": [
    "# Plotting the eigenvalues on the complex plane\n",
    "plt.figure(figsize=(6,6))\n",
    "plt.scatter(real_parts, imaginary_parts, color='blue', label=\"Eigenvalues\")\n",
    "plt.axhline(0, color='black',linewidth=0.5)\n",
    "plt.axvline(0, color='black',linewidth=0.5)\n",
    "plt.gca().set_aspect('equal', adjustable='box')\n",
    "plt.title('Eigenvalues on the Complex Plane')\n",
    "plt.xlabel('Real Part')\n",
    "plt.ylabel('Imaginary Part')\n",
    "plt.grid(True)\n",
    "plt.show()"
   ]
  },
  {
   "cell_type": "code",
   "execution_count": 7,
   "id": "1b2edd70-15e8-46b2-a4b8-b7b6e1a62f25",
   "metadata": {
    "vscode": {
     "languageId": "python"
    }
   },
   "outputs": [
    {
     "data": {
      "text/plain": [
       "24 x 24 dense matrix over Rational Field (use the '.str()' method to see the entries)"
      ]
     },
     "execution_count": 7,
     "metadata": {},
     "output_type": "execute_result"
    }
   ],
   "source": [
    "SGA_dft = SGA.dft(); SGA_dft"
   ]
  },
  {
   "cell_type": "code",
   "execution_count": 8,
   "id": "6df6046c-68f4-4e02-8f54-e7fb57c47349",
   "metadata": {
    "vscode": {
     "languageId": "python"
    }
   },
   "outputs": [
    {
     "name": "stdout",
     "output_type": "stream",
     "text": [
      "[24, 8, 6, 16/3, 32/3, 8, 64/9, 12, 9, 8, 12, 9, 16, 12, 8, 64/9, 16/3, 9, 8, 6, 12, 32/3, 8, 24]\n"
     ]
    }
   ],
   "source": [
    "#check if A*A^T == Id. it's not, but the columns are orthonormal\n",
    "print((SGA_dft*SGA_dft.transpose()).diagonal())"
   ]
  },
  {
   "cell_type": "code",
   "execution_count": 9,
   "id": "8cb9f4dc-bde5-4481-b7fa-460dae21f113",
   "metadata": {
    "vscode": {
     "languageId": "python"
    }
   },
   "outputs": [
    {
     "data": {
      "text/plain": [
       "[          -1            0            0]\n",
       "[           0          1/3 -2/3*sqrt(2)]\n",
       "[           0 -2/3*sqrt(2)         -1/3]"
      ]
     },
     "execution_count": 9,
     "metadata": {},
     "output_type": "execute_result"
    }
   ],
   "source": [
    "#orthogonal representations only use square roots. should work over number field containing square roots vs. symbolic ring\n",
    "SymmetricGroupRepresentation(Partition([2,1,1]), \"orthogonal\").representation_matrix(G[7])"
   ]
  },
  {
   "cell_type": "code",
   "execution_count": 10,
   "id": "ba098481-f9a7-4ad6-8aa1-136a3f6da660",
   "metadata": {
    "vscode": {
     "languageId": "python"
    }
   },
   "outputs": [
    {
     "name": "stdout",
     "output_type": "stream",
     "text": [
      "[                 1/2*sqrt(1/6)                  1/2*sqrt(1/6)                  1/2*sqrt(1/6)                  1/2*sqrt(1/6)                  1/2*sqrt(1/6)                  1/2*sqrt(1/6)                  1/2*sqrt(1/6)                  1/2*sqrt(1/6)                  1/2*sqrt(1/6)                  1/2*sqrt(1/6)                  1/2*sqrt(1/6)                  1/2*sqrt(1/6)                  1/2*sqrt(1/6)                  1/2*sqrt(1/6)                  1/2*sqrt(1/6)                  1/2*sqrt(1/6)                  1/2*sqrt(1/6)                  1/2*sqrt(1/6)                  1/2*sqrt(1/6)                  1/2*sqrt(1/6)                  1/2*sqrt(1/6)                  1/2*sqrt(1/6)                  1/2*sqrt(1/6)                  1/2*sqrt(1/6)]\n",
      "[                 1/2*sqrt(1/2)                 -1/6*sqrt(1/2)                  1/2*sqrt(1/2)                 -1/6*sqrt(1/2)                 -1/6*sqrt(1/2)                 -1/6*sqrt(1/2)                  1/2*sqrt(1/2)                 -1/6*sqrt(1/2)                  1/2*sqrt(1/2)                 -1/6*sqrt(1/2)                 -1/6*sqrt(1/2)                 -1/6*sqrt(1/2)                  1/2*sqrt(1/2)                 -1/6*sqrt(1/2)                  1/2*sqrt(1/2)                 -1/6*sqrt(1/2)                 -1/6*sqrt(1/2)                 -1/6*sqrt(1/2)                 -1/6*sqrt(1/2)                 -1/6*sqrt(1/2)                 -1/6*sqrt(1/2)                 -1/6*sqrt(1/2)                 -1/6*sqrt(1/2)                 -1/6*sqrt(1/2)]\n",
      "[                             0          1/3*sqrt(2)*sqrt(1/2)                              0          1/3*sqrt(2)*sqrt(1/2)         -1/6*sqrt(2)*sqrt(1/2)         -1/6*sqrt(2)*sqrt(1/2)                              0          1/3*sqrt(2)*sqrt(1/2)                              0          1/3*sqrt(2)*sqrt(1/2)         -1/6*sqrt(2)*sqrt(1/2)         -1/6*sqrt(2)*sqrt(1/2)                              0          1/3*sqrt(2)*sqrt(1/2)                              0          1/3*sqrt(2)*sqrt(1/2)         -1/6*sqrt(2)*sqrt(1/2)         -1/6*sqrt(2)*sqrt(1/2)         -1/6*sqrt(2)*sqrt(1/2)         -1/6*sqrt(2)*sqrt(1/2)         -1/6*sqrt(2)*sqrt(1/2)         -1/6*sqrt(2)*sqrt(1/2)         -1/6*sqrt(2)*sqrt(1/2)         -1/6*sqrt(2)*sqrt(1/2)]\n",
      "[                             0                              0                              0                              0  1/6*sqrt(3)*sqrt(2)*sqrt(1/2)  1/6*sqrt(3)*sqrt(2)*sqrt(1/2)                              0                              0                              0                              0  1/6*sqrt(3)*sqrt(2)*sqrt(1/2)  1/6*sqrt(3)*sqrt(2)*sqrt(1/2)                              0                              0                              0                              0  1/6*sqrt(3)*sqrt(2)*sqrt(1/2)  1/6*sqrt(3)*sqrt(2)*sqrt(1/2) -1/6*sqrt(3)*sqrt(2)*sqrt(1/2) -1/6*sqrt(3)*sqrt(2)*sqrt(1/2) -1/6*sqrt(3)*sqrt(2)*sqrt(1/2) -1/6*sqrt(3)*sqrt(2)*sqrt(1/2) -1/6*sqrt(3)*sqrt(2)*sqrt(1/2) -1/6*sqrt(3)*sqrt(2)*sqrt(1/2)]\n",
      "[                             0          1/3*sqrt(2)*sqrt(1/2)                              0         -1/6*sqrt(2)*sqrt(1/2)          1/3*sqrt(2)*sqrt(1/2)         -1/6*sqrt(2)*sqrt(1/2)                              0          1/3*sqrt(2)*sqrt(1/2)                              0         -1/6*sqrt(2)*sqrt(1/2)          1/3*sqrt(2)*sqrt(1/2)         -1/6*sqrt(2)*sqrt(1/2)                              0         -1/6*sqrt(2)*sqrt(1/2)                              0         -1/6*sqrt(2)*sqrt(1/2)         -1/6*sqrt(2)*sqrt(1/2)         -1/6*sqrt(2)*sqrt(1/2)          1/3*sqrt(2)*sqrt(1/2)         -1/6*sqrt(2)*sqrt(1/2)          1/3*sqrt(2)*sqrt(1/2)         -1/6*sqrt(2)*sqrt(1/2)         -1/6*sqrt(2)*sqrt(1/2)         -1/6*sqrt(2)*sqrt(1/2)]\n",
      "[                 1/2*sqrt(1/2)                  1/6*sqrt(1/2)                 -1/4*sqrt(1/2)                -1/12*sqrt(1/2)                -1/12*sqrt(1/2)                 5/12*sqrt(1/2)                  1/2*sqrt(1/2)                  1/6*sqrt(1/2)                 -1/4*sqrt(1/2)                -1/12*sqrt(1/2)                -1/12*sqrt(1/2)                 5/12*sqrt(1/2)                 -1/4*sqrt(1/2)                -1/12*sqrt(1/2)                 -1/4*sqrt(1/2)                -1/12*sqrt(1/2)                 -1/3*sqrt(1/2)                 -1/3*sqrt(1/2)                -1/12*sqrt(1/2)                 5/12*sqrt(1/2)                -1/12*sqrt(1/2)                 5/12*sqrt(1/2)                 -1/3*sqrt(1/2)                 -1/3*sqrt(1/2)]\n",
      "[                             0                              0          1/4*sqrt(3)*sqrt(1/2)          1/4*sqrt(3)*sqrt(1/2)         1/12*sqrt(3)*sqrt(1/2)         1/12*sqrt(3)*sqrt(1/2)                              0                              0          1/4*sqrt(3)*sqrt(1/2)          1/4*sqrt(3)*sqrt(1/2)         1/12*sqrt(3)*sqrt(1/2)         1/12*sqrt(3)*sqrt(1/2)         -1/4*sqrt(3)*sqrt(1/2)         -1/4*sqrt(3)*sqrt(1/2)         -1/4*sqrt(3)*sqrt(1/2)         -1/4*sqrt(3)*sqrt(1/2)         -1/6*sqrt(3)*sqrt(1/2)         -1/6*sqrt(3)*sqrt(1/2)        -1/12*sqrt(3)*sqrt(1/2)        -1/12*sqrt(3)*sqrt(1/2)        -1/12*sqrt(3)*sqrt(1/2)        -1/12*sqrt(3)*sqrt(1/2)          1/6*sqrt(3)*sqrt(1/2)          1/6*sqrt(3)*sqrt(1/2)]\n",
      "[                             0                              0                              0  1/6*sqrt(3)*sqrt(2)*sqrt(1/2)                              0  1/6*sqrt(3)*sqrt(2)*sqrt(1/2)                              0                              0                              0 -1/6*sqrt(3)*sqrt(2)*sqrt(1/2)                              0 -1/6*sqrt(3)*sqrt(2)*sqrt(1/2)                              0  1/6*sqrt(3)*sqrt(2)*sqrt(1/2)                              0 -1/6*sqrt(3)*sqrt(2)*sqrt(1/2)  1/6*sqrt(3)*sqrt(2)*sqrt(1/2) -1/6*sqrt(3)*sqrt(2)*sqrt(1/2)                              0  1/6*sqrt(3)*sqrt(2)*sqrt(1/2)                              0 -1/6*sqrt(3)*sqrt(2)*sqrt(1/2)  1/6*sqrt(3)*sqrt(2)*sqrt(1/2) -1/6*sqrt(3)*sqrt(2)*sqrt(1/2)]\n",
      "[                             0                              0          1/4*sqrt(3)*sqrt(1/2)         1/12*sqrt(3)*sqrt(1/2)          1/4*sqrt(3)*sqrt(1/2)         1/12*sqrt(3)*sqrt(1/2)                              0                              0         -1/4*sqrt(3)*sqrt(1/2)        -1/12*sqrt(3)*sqrt(1/2)         -1/4*sqrt(3)*sqrt(1/2)        -1/12*sqrt(3)*sqrt(1/2)          1/4*sqrt(3)*sqrt(1/2)         1/12*sqrt(3)*sqrt(1/2)         -1/4*sqrt(3)*sqrt(1/2)        -1/12*sqrt(3)*sqrt(1/2)         -1/6*sqrt(3)*sqrt(1/2)          1/6*sqrt(3)*sqrt(1/2)          1/4*sqrt(3)*sqrt(1/2)         1/12*sqrt(3)*sqrt(1/2)         -1/4*sqrt(3)*sqrt(1/2)        -1/12*sqrt(3)*sqrt(1/2)         -1/6*sqrt(3)*sqrt(1/2)          1/6*sqrt(3)*sqrt(1/2)]\n",
      "[                 1/2*sqrt(1/2)                  1/2*sqrt(1/2)                  1/4*sqrt(1/2)                  1/4*sqrt(1/2)                  1/4*sqrt(1/2)                  1/4*sqrt(1/2)                 -1/2*sqrt(1/2)                 -1/2*sqrt(1/2)                 -1/4*sqrt(1/2)                 -1/4*sqrt(1/2)                 -1/4*sqrt(1/2)                 -1/4*sqrt(1/2)                 -1/4*sqrt(1/2)                 -1/4*sqrt(1/2)                  1/4*sqrt(1/2)                  1/4*sqrt(1/2)                              0                              0                 -1/4*sqrt(1/2)                 -1/4*sqrt(1/2)                  1/4*sqrt(1/2)                  1/4*sqrt(1/2)                              0                              0]\n",
      "[                 1/2*sqrt(1/3)                  1/2*sqrt(1/3)                 -1/4*sqrt(1/3)                 -1/4*sqrt(1/3)                 -1/4*sqrt(1/3)                 -1/4*sqrt(1/3)                  1/2*sqrt(1/3)                  1/2*sqrt(1/3)                 -1/4*sqrt(1/3)                 -1/4*sqrt(1/3)                 -1/4*sqrt(1/3)                 -1/4*sqrt(1/3)                 -1/4*sqrt(1/3)                 -1/4*sqrt(1/3)                 -1/4*sqrt(1/3)                 -1/4*sqrt(1/3)                  1/2*sqrt(1/3)                  1/2*sqrt(1/3)                 -1/4*sqrt(1/3)                 -1/4*sqrt(1/3)                 -1/4*sqrt(1/3)                 -1/4*sqrt(1/3)                  1/2*sqrt(1/3)                  1/2*sqrt(1/3)]\n",
      "[                             0                              0          1/4*sqrt(3)*sqrt(1/3)         -1/4*sqrt(3)*sqrt(1/3)          1/4*sqrt(3)*sqrt(1/3)         -1/4*sqrt(3)*sqrt(1/3)                              0                              0          1/4*sqrt(3)*sqrt(1/3)         -1/4*sqrt(3)*sqrt(1/3)          1/4*sqrt(3)*sqrt(1/3)         -1/4*sqrt(3)*sqrt(1/3)         -1/4*sqrt(3)*sqrt(1/3)          1/4*sqrt(3)*sqrt(1/3)         -1/4*sqrt(3)*sqrt(1/3)          1/4*sqrt(3)*sqrt(1/3)                              0                              0         -1/4*sqrt(3)*sqrt(1/3)          1/4*sqrt(3)*sqrt(1/3)         -1/4*sqrt(3)*sqrt(1/3)          1/4*sqrt(3)*sqrt(1/3)                              0                              0]\n",
      "[                             0                              0          1/4*sqrt(3)*sqrt(1/3)          1/4*sqrt(3)*sqrt(1/3)         -1/4*sqrt(3)*sqrt(1/3)         -1/4*sqrt(3)*sqrt(1/3)                              0                              0         -1/4*sqrt(3)*sqrt(1/3)         -1/4*sqrt(3)*sqrt(1/3)          1/4*sqrt(3)*sqrt(1/3)          1/4*sqrt(3)*sqrt(1/3)          1/4*sqrt(3)*sqrt(1/3)          1/4*sqrt(3)*sqrt(1/3)         -1/4*sqrt(3)*sqrt(1/3)         -1/4*sqrt(3)*sqrt(1/3)                              0                              0         -1/4*sqrt(3)*sqrt(1/3)         -1/4*sqrt(3)*sqrt(1/3)          1/4*sqrt(3)*sqrt(1/3)          1/4*sqrt(3)*sqrt(1/3)                              0                              0]\n",
      "[                 1/2*sqrt(1/3)                 -1/2*sqrt(1/3)                  1/4*sqrt(1/3)                 -1/4*sqrt(1/3)                 -1/4*sqrt(1/3)                  1/4*sqrt(1/3)                 -1/2*sqrt(1/3)                  1/2*sqrt(1/3)                 -1/4*sqrt(1/3)                  1/4*sqrt(1/3)                  1/4*sqrt(1/3)                 -1/4*sqrt(1/3)                 -1/4*sqrt(1/3)                  1/4*sqrt(1/3)                  1/4*sqrt(1/3)                 -1/4*sqrt(1/3)                  1/2*sqrt(1/3)                 -1/2*sqrt(1/3)                  1/4*sqrt(1/3)                 -1/4*sqrt(1/3)                 -1/4*sqrt(1/3)                  1/4*sqrt(1/3)                 -1/2*sqrt(1/3)                  1/2*sqrt(1/3)]\n",
      "[                 1/2*sqrt(1/2)                 -1/2*sqrt(1/2)                 -1/4*sqrt(1/2)                  1/4*sqrt(1/2)                  1/4*sqrt(1/2)                 -1/4*sqrt(1/2)                  1/2*sqrt(1/2)                 -1/2*sqrt(1/2)                 -1/4*sqrt(1/2)                  1/4*sqrt(1/2)                  1/4*sqrt(1/2)                 -1/4*sqrt(1/2)                 -1/4*sqrt(1/2)                  1/4*sqrt(1/2)                 -1/4*sqrt(1/2)                  1/4*sqrt(1/2)                              0                              0                  1/4*sqrt(1/2)                 -1/4*sqrt(1/2)                  1/4*sqrt(1/2)                 -1/4*sqrt(1/2)                              0                              0]\n",
      "[                             0                              0          1/4*sqrt(3)*sqrt(1/2)        -1/12*sqrt(3)*sqrt(1/2)         -1/4*sqrt(3)*sqrt(1/2)         1/12*sqrt(3)*sqrt(1/2)                              0                              0          1/4*sqrt(3)*sqrt(1/2)        -1/12*sqrt(3)*sqrt(1/2)         -1/4*sqrt(3)*sqrt(1/2)         1/12*sqrt(3)*sqrt(1/2)         -1/4*sqrt(3)*sqrt(1/2)         1/12*sqrt(3)*sqrt(1/2)         -1/4*sqrt(3)*sqrt(1/2)         1/12*sqrt(3)*sqrt(1/2)          1/6*sqrt(3)*sqrt(1/2)          1/6*sqrt(3)*sqrt(1/2)          1/4*sqrt(3)*sqrt(1/2)        -1/12*sqrt(3)*sqrt(1/2)          1/4*sqrt(3)*sqrt(1/2)        -1/12*sqrt(3)*sqrt(1/2)         -1/6*sqrt(3)*sqrt(1/2)         -1/6*sqrt(3)*sqrt(1/2)]\n",
      "[                             0                              0                              0  1/6*sqrt(3)*sqrt(2)*sqrt(1/2)                              0 -1/6*sqrt(3)*sqrt(2)*sqrt(1/2)                              0                              0                              0  1/6*sqrt(3)*sqrt(2)*sqrt(1/2)                              0 -1/6*sqrt(3)*sqrt(2)*sqrt(1/2)                              0 -1/6*sqrt(3)*sqrt(2)*sqrt(1/2)                              0 -1/6*sqrt(3)*sqrt(2)*sqrt(1/2)  1/6*sqrt(3)*sqrt(2)*sqrt(1/2)  1/6*sqrt(3)*sqrt(2)*sqrt(1/2)                              0  1/6*sqrt(3)*sqrt(2)*sqrt(1/2)                              0  1/6*sqrt(3)*sqrt(2)*sqrt(1/2) -1/6*sqrt(3)*sqrt(2)*sqrt(1/2) -1/6*sqrt(3)*sqrt(2)*sqrt(1/2)]\n",
      "[                             0                              0          1/4*sqrt(3)*sqrt(1/2)         -1/4*sqrt(3)*sqrt(1/2)        -1/12*sqrt(3)*sqrt(1/2)         1/12*sqrt(3)*sqrt(1/2)                              0                              0         -1/4*sqrt(3)*sqrt(1/2)          1/4*sqrt(3)*sqrt(1/2)         1/12*sqrt(3)*sqrt(1/2)        -1/12*sqrt(3)*sqrt(1/2)          1/4*sqrt(3)*sqrt(1/2)         -1/4*sqrt(3)*sqrt(1/2)         -1/4*sqrt(3)*sqrt(1/2)          1/4*sqrt(3)*sqrt(1/2)          1/6*sqrt(3)*sqrt(1/2)         -1/6*sqrt(3)*sqrt(1/2)        -1/12*sqrt(3)*sqrt(1/2)         1/12*sqrt(3)*sqrt(1/2)         1/12*sqrt(3)*sqrt(1/2)        -1/12*sqrt(3)*sqrt(1/2)          1/6*sqrt(3)*sqrt(1/2)         -1/6*sqrt(3)*sqrt(1/2)]\n",
      "[                 1/2*sqrt(1/2)                 -1/6*sqrt(1/2)                  1/4*sqrt(1/2)                -1/12*sqrt(1/2)                -1/12*sqrt(1/2)                -5/12*sqrt(1/2)                 -1/2*sqrt(1/2)                  1/6*sqrt(1/2)                 -1/4*sqrt(1/2)                 1/12*sqrt(1/2)                 1/12*sqrt(1/2)                 5/12*sqrt(1/2)                 -1/4*sqrt(1/2)                 1/12*sqrt(1/2)                  1/4*sqrt(1/2)                -1/12*sqrt(1/2)                 -1/3*sqrt(1/2)                  1/3*sqrt(1/2)                 1/12*sqrt(1/2)                 5/12*sqrt(1/2)                -1/12*sqrt(1/2)                -5/12*sqrt(1/2)                  1/3*sqrt(1/2)                 -1/3*sqrt(1/2)]\n",
      "[                             0          1/3*sqrt(2)*sqrt(1/2)                              0          1/6*sqrt(2)*sqrt(1/2)         -1/3*sqrt(2)*sqrt(1/2)         -1/6*sqrt(2)*sqrt(1/2)                              0         -1/3*sqrt(2)*sqrt(1/2)                              0         -1/6*sqrt(2)*sqrt(1/2)          1/3*sqrt(2)*sqrt(1/2)          1/6*sqrt(2)*sqrt(1/2)                              0         -1/6*sqrt(2)*sqrt(1/2)                              0          1/6*sqrt(2)*sqrt(1/2)          1/6*sqrt(2)*sqrt(1/2)         -1/6*sqrt(2)*sqrt(1/2)          1/3*sqrt(2)*sqrt(1/2)          1/6*sqrt(2)*sqrt(1/2)         -1/3*sqrt(2)*sqrt(1/2)         -1/6*sqrt(2)*sqrt(1/2)         -1/6*sqrt(2)*sqrt(1/2)          1/6*sqrt(2)*sqrt(1/2)]\n",
      "[                             0                              0                              0                              0  1/6*sqrt(3)*sqrt(2)*sqrt(1/2) -1/6*sqrt(3)*sqrt(2)*sqrt(1/2)                              0                              0                              0                              0 -1/6*sqrt(3)*sqrt(2)*sqrt(1/2)  1/6*sqrt(3)*sqrt(2)*sqrt(1/2)                              0                              0                              0                              0  1/6*sqrt(3)*sqrt(2)*sqrt(1/2) -1/6*sqrt(3)*sqrt(2)*sqrt(1/2)  1/6*sqrt(3)*sqrt(2)*sqrt(1/2) -1/6*sqrt(3)*sqrt(2)*sqrt(1/2) -1/6*sqrt(3)*sqrt(2)*sqrt(1/2)  1/6*sqrt(3)*sqrt(2)*sqrt(1/2)  1/6*sqrt(3)*sqrt(2)*sqrt(1/2) -1/6*sqrt(3)*sqrt(2)*sqrt(1/2)]\n",
      "[                             0          1/3*sqrt(2)*sqrt(1/2)                              0         -1/3*sqrt(2)*sqrt(1/2)          1/6*sqrt(2)*sqrt(1/2)         -1/6*sqrt(2)*sqrt(1/2)                              0         -1/3*sqrt(2)*sqrt(1/2)                              0          1/3*sqrt(2)*sqrt(1/2)         -1/6*sqrt(2)*sqrt(1/2)          1/6*sqrt(2)*sqrt(1/2)                              0          1/3*sqrt(2)*sqrt(1/2)                              0         -1/3*sqrt(2)*sqrt(1/2)          1/6*sqrt(2)*sqrt(1/2)         -1/6*sqrt(2)*sqrt(1/2)         -1/6*sqrt(2)*sqrt(1/2)          1/6*sqrt(2)*sqrt(1/2)          1/6*sqrt(2)*sqrt(1/2)         -1/6*sqrt(2)*sqrt(1/2)         -1/6*sqrt(2)*sqrt(1/2)          1/6*sqrt(2)*sqrt(1/2)]\n",
      "[                 1/2*sqrt(1/2)                  1/6*sqrt(1/2)                 -1/2*sqrt(1/2)                 -1/6*sqrt(1/2)                 -1/6*sqrt(1/2)                  1/6*sqrt(1/2)                 -1/2*sqrt(1/2)                 -1/6*sqrt(1/2)                  1/2*sqrt(1/2)                  1/6*sqrt(1/2)                  1/6*sqrt(1/2)                 -1/6*sqrt(1/2)                  1/2*sqrt(1/2)                  1/6*sqrt(1/2)                 -1/2*sqrt(1/2)                 -1/6*sqrt(1/2)                 -1/6*sqrt(1/2)                  1/6*sqrt(1/2)                  1/6*sqrt(1/2)                 -1/6*sqrt(1/2)                 -1/6*sqrt(1/2)                  1/6*sqrt(1/2)                  1/6*sqrt(1/2)                 -1/6*sqrt(1/2)]\n",
      "[                 1/2*sqrt(1/6)                 -1/2*sqrt(1/6)                 -1/2*sqrt(1/6)                  1/2*sqrt(1/6)                  1/2*sqrt(1/6)                 -1/2*sqrt(1/6)                 -1/2*sqrt(1/6)                  1/2*sqrt(1/6)                  1/2*sqrt(1/6)                 -1/2*sqrt(1/6)                 -1/2*sqrt(1/6)                  1/2*sqrt(1/6)                  1/2*sqrt(1/6)                 -1/2*sqrt(1/6)                 -1/2*sqrt(1/6)                  1/2*sqrt(1/6)                  1/2*sqrt(1/6)                 -1/2*sqrt(1/6)                 -1/2*sqrt(1/6)                  1/2*sqrt(1/6)                  1/2*sqrt(1/6)                 -1/2*sqrt(1/6)                 -1/2*sqrt(1/6)                  1/2*sqrt(1/6)]\n"
     ]
    }
   ],
   "source": [
    "#alternate method using orthogonal representations over symbolic ring\n",
    "U_dft = dft(SGA,method=\"orth\"); print(U_dft)"
   ]
  },
  {
   "cell_type": "code",
   "execution_count": 12,
   "id": "2503a178-95f8-470f-b4d8-d13c520df4fa",
   "metadata": {
    "vscode": {
     "languageId": "python"
    }
   },
   "outputs": [
    {
     "ename": "NameError",
     "evalue": "name 'number_field_with_all_square_roots' is not defined",
     "output_type": "error",
     "traceback": [
      "\u001b[0;31m---------------------------------------------------------------------------\u001b[0m",
      "\u001b[0;31mNameError\u001b[0m                                 Traceback (most recent call last)",
      "Cell \u001b[0;32mIn[12], line 2\u001b[0m\n\u001b[1;32m      1\u001b[0m \u001b[38;5;66;03m#compute the unitary DFT for the symmetric group algebra by constructing the number field explicitly\u001b[39;00m\n\u001b[0;32m----> 2\u001b[0m U_dft \u001b[38;5;241m=\u001b[39m dft(SGA,method\u001b[38;5;241m=\u001b[39m\u001b[38;5;124m\"\u001b[39m\u001b[38;5;124munitary\u001b[39m\u001b[38;5;124m\"\u001b[39m,number_field\u001b[38;5;241m=\u001b[39m\u001b[38;5;28;01mTrue\u001b[39;00m); \u001b[38;5;28mprint\u001b[39m(U_dft)\n",
      "Cell \u001b[0;32mIn[3], line 3\u001b[0m, in \u001b[0;36mdft\u001b[0;34m(SGA, method, number_field)\u001b[0m\n\u001b[1;32m      2\u001b[0m \u001b[38;5;28;01mdef\u001b[39;00m \u001b[38;5;21mdft\u001b[39m(SGA,method\u001b[38;5;241m=\u001b[39m\u001b[38;5;28;01mNone\u001b[39;00m,number_field\u001b[38;5;241m=\u001b[39m\u001b[38;5;28;01mFalse\u001b[39;00m):\n\u001b[0;32m----> 3\u001b[0m     K \u001b[38;5;241m=\u001b[39m \u001b[43mnumber_field_with_all_square_roots\u001b[49m(SGA) \u001b[38;5;28;01mif\u001b[39;00m number_field \u001b[38;5;28;01melse\u001b[39;00m QQbar\n\u001b[1;32m      4\u001b[0m     fourier_transform \u001b[38;5;241m=\u001b[39m [[x \u001b[38;5;28;01mfor\u001b[39;00m partition \u001b[38;5;129;01min\u001b[39;00m Partitions(G\u001b[38;5;241m.\u001b[39mdegree()) \u001b[38;5;28;01mfor\u001b[39;00m x \u001b[38;5;129;01min\u001b[39;00m hat(g,partition,SGA,K,method)\u001b[38;5;241m.\u001b[39mlist()] \u001b[38;5;28;01mfor\u001b[39;00m g \u001b[38;5;129;01min\u001b[39;00m G]\n\u001b[1;32m      5\u001b[0m     \u001b[38;5;28;01mif\u001b[39;00m \u001b[38;5;129;01mnot\u001b[39;00m method:\n",
      "\u001b[0;31mNameError\u001b[0m: name 'number_field_with_all_square_roots' is not defined"
     ]
    }
   ],
   "source": [
    "#compute the unitary DFT for the symmetric group algebra by constructing the number field explicitly\n",
    "U_dft = dft(SGA,method=\"unitary\",number_field=True); print(U_dft)"
   ]
  },
  {
   "cell_type": "code",
   "execution_count": 15,
   "id": "ed017caa-f9f2-47d6-a63a-1557479a4d09",
   "metadata": {
    "vscode": {
     "languageId": "python"
    }
   },
   "outputs": [
    {
     "name": "stdout",
     "output_type": "stream",
     "text": [
      "[-1/6*sqrt3*sqrt2 -1/6*sqrt3*sqrt2 -1/6*sqrt3*sqrt2 -1/6*sqrt3*sqrt2 -1/6*sqrt3*sqrt2 -1/6*sqrt3*sqrt2]\n",
      "[       1/3*sqrt3        1/6*sqrt3       -1/3*sqrt3       -1/6*sqrt3       -1/6*sqrt3        1/6*sqrt3]\n",
      "[               0              1/2                0              1/2             -1/2             -1/2]\n",
      "[               0              1/2                0             -1/2              1/2             -1/2]\n",
      "[       1/3*sqrt3       -1/6*sqrt3        1/3*sqrt3       -1/6*sqrt3       -1/6*sqrt3       -1/6*sqrt3]\n",
      "[-1/6*sqrt3*sqrt2  1/6*sqrt3*sqrt2  1/6*sqrt3*sqrt2 -1/6*sqrt3*sqrt2 -1/6*sqrt3*sqrt2  1/6*sqrt3*sqrt2]\n"
     ]
    }
   ],
   "source": [
    "#compute using the simplest method\n",
    "U_dft = unitary_dft(SGA); print(U_dft)"
   ]
  },
  {
   "cell_type": "code",
   "execution_count": 16,
   "id": "8ba7dfc6-7632-4519-93a9-74680ed23263",
   "metadata": {
    "vscode": {
     "languageId": "python"
    }
   },
   "outputs": [
    {
     "data": {
      "text/plain": [
       "True"
      ]
     },
     "execution_count": 16,
     "metadata": {},
     "output_type": "execute_result"
    }
   ],
   "source": [
    "#check that the DFT is unitary\n",
    "U_dft*U_dft.H == identity_matrix(G.cardinality())"
   ]
  },
  {
   "cell_type": "code",
   "execution_count": 19,
   "id": "45e8804f-368c-49d1-b073-219eadd8f3ed",
   "metadata": {
    "vscode": {
     "languageId": "python"
    }
   },
   "outputs": [],
   "source": [
    "#QUESTION: what are the eigenvalues?\n",
    "#for n=3, the minimal polynomial is degree 24 for the eigenvalues. [L:\\Q] = 192, [L:K] = |Gal(L/K)| = [L:\\Q]/[K:\\Q] = 192/4 = 48\n",
    "#there is only one subgroup of order 48 in S_6, S_2 x S_4. however, there is only one transitive permutation group, S_2 \\wr S_3\n",
    "#the eigenvalues are not roots of unity since min_poly(x) has rational coefficients and cyclotomic polynomials have integer coefficients"
   ]
  },
  {
   "cell_type": "code",
   "execution_count": 39,
   "id": "2a995534-79fe-4563-a07a-187cf2cfc77c",
   "metadata": {
    "vscode": {
     "languageId": "python"
    }
   },
   "outputs": [
    {
     "data": {
      "text/plain": [
       "x^6 + 1/2*x^5 + (1/6*sqrt2 + 1/2*sqrt3 - 1/2)*x^4 + (-1/6*sqrt2 - 1/2*sqrt3 + 1/2)*x^2 - 1/2*x - 1"
      ]
     },
     "execution_count": 39,
     "metadata": {},
     "output_type": "execute_result"
    }
   ],
   "source": [
    "U_dft.charpoly()"
   ]
  },
  {
   "cell_type": "code",
   "execution_count": 18,
   "id": "54110c29-ba6f-4d09-a51d-f37651520902",
   "metadata": {
    "vscode": {
     "languageId": "python"
    }
   },
   "outputs": [
    {
     "name": "stdout",
     "output_type": "stream",
     "text": [
      "PARI stack size set to 10000000000 bytes, maximum size set to 10000007168\n"
     ]
    },
    {
     "data": {
      "text/plain": [
       "10000000000"
      ]
     },
     "execution_count": 18,
     "metadata": {},
     "output_type": "execute_result"
    }
   ],
   "source": [
    "#getting PARI stack size error\n",
    "pari.allocatemem(10^10)\n",
    "pari.stacksize()"
   ]
  },
  {
   "cell_type": "code",
   "execution_count": 19,
   "id": "077ce28b-5e2c-4b73-bfb0-70072c4e9452",
   "metadata": {
    "vscode": {
     "languageId": "python"
    }
   },
   "outputs": [],
   "source": [
    "#ISSUE: the splitting field appears to be high degree, and the coefficients are large\n",
    "if len(U_dft.charpoly().factor()) != U_dft.charpoly().degree():\n",
    "    L.<a> = U_dft.charpoly().splitting_field(map=False); L\n",
    "else:\n",
    "    L = K"
   ]
  },
  {
   "cell_type": "code",
   "execution_count": null,
   "id": "02b6fc7c-cbb2-46f3-9aa6-a93be398d0c4",
   "metadata": {
    "vscode": {
     "languageId": "python"
    }
   },
   "outputs": [],
   "source": [
    "L.degree()"
   ]
  },
  {
   "cell_type": "code",
   "execution_count": null,
   "id": "425bcbc2-67b2-4359-84c2-6caf2b00f062",
   "metadata": {
    "vscode": {
     "languageId": "python"
    }
   },
   "outputs": [],
   "source": [
    "#compute the degrees\n",
    "if L != L.algebraic_closure():\n",
    "    L_deg = L.absolute_degree(); print(L_deg)\n",
    "    L_rel = L_deg/K.absolute_degree(); print(L_rel)"
   ]
  },
  {
   "cell_type": "code",
   "execution_count": null,
   "id": "f3e7ef8d-86fc-4303-9f89-99897a623e2d",
   "metadata": {
    "vscode": {
     "languageId": "python"
    }
   },
   "outputs": [],
   "source": [
    "#form relative exrtension M. attempt to compute Galois group\n",
    "#for a splitting field L, we should have [L:K] = |Gal(L/K)|\n",
    "if U_dft.charpoly().is_irreducible():\n",
    "    M.<b> = K.extension(U_dft.charpoly()); M"
   ]
  },
  {
   "cell_type": "code",
   "execution_count": null,
   "id": "c019b331-f022-4289-a311-c76c0cb9a4eb",
   "metadata": {
    "vscode": {
     "languageId": "python"
    }
   },
   "outputs": [],
   "source": [
    "#look at all subgroups of order [L:K] in S_d where d is the degree of the polynomial\n",
    "#for n=3, [L:K] = 48 and it appears there is exactly one subgroup of order 48 up to isomorphism\n",
    "subgroups_order_48_in_sym = [H for H in SymmetricGroup(6).subgroups() if H.order() == 48]\n",
    "all([subgroups_order_48_in_sym[0].is_isomorphic(H) for H in subgroups_order_48_in_sym])"
   ]
  },
  {
   "cell_type": "code",
   "execution_count": null,
   "id": "248ad9f8-d64c-40b6-88b9-d7a23f4a0313",
   "metadata": {
    "vscode": {
     "languageId": "python"
    }
   },
   "outputs": [],
   "source": [
    "#one can factor the polynomial over a splitting field L/K\n",
    "#but there is no way to express the roots of a quintic in terms of radicals\n",
    "try:\n",
    "    eigs = matrix(L,U_dft).eigenvalues(extend=False)\n",
    "except TypeError:\n",
    "    print(\"Cannot express eigenvalues in terms of radicals since polynomial is a quintic or above.\")"
   ]
  },
  {
   "cell_type": "code",
   "execution_count": null,
   "id": "c2e92da4-6440-448b-9211-15aa8ddec3f4",
   "metadata": {
    "vscode": {
     "languageId": "python"
    }
   },
   "outputs": [],
   "source": [
    "eigs"
   ]
  },
  {
   "cell_type": "code",
   "execution_count": null,
   "id": "94ad338a-c3a4-4226-8378-58516d570241",
   "metadata": {
    "vscode": {
     "languageId": "python"
    }
   },
   "outputs": [],
   "source": [
    "[arg(eig).n(20) for eig in eigs]"
   ]
  },
  {
   "cell_type": "code",
   "execution_count": null,
   "id": "9800ad85-ec1c-40fb-bec4-a8d44f63c548",
   "metadata": {
    "vscode": {
     "languageId": "python"
    }
   },
   "outputs": [],
   "source": [
    "eigs[4].minpoly()"
   ]
  },
  {
   "cell_type": "code",
   "execution_count": null,
   "id": "11c97a76-d606-40db-a38e-fb0350836904",
   "metadata": {
    "vscode": {
     "languageId": "python"
    }
   },
   "outputs": [],
   "source": [
    "U_dft.charpoly().discriminant()"
   ]
  },
  {
   "cell_type": "code",
   "execution_count": null,
   "id": "29767fbd-6c2a-4671-b91c-a9d452956713",
   "metadata": {
    "vscode": {
     "languageId": "python"
    }
   },
   "outputs": [],
   "source": [
    "-sqrt(K(3))"
   ]
  },
  {
   "cell_type": "code",
   "execution_count": null,
   "id": "325e2a40-277e-4c61-921d-58005e982e94",
   "metadata": {
    "vscode": {
     "languageId": "python"
    }
   },
   "outputs": [],
   "source": [
    "((-213828613/1679616*(sqrt(2)) + 85996015/69984)*(sqrt(3)) + 348251435/62208*(sqrt(2)) - 33598899709/3359232).n()"
   ]
  },
  {
   "cell_type": "code",
   "execution_count": null,
   "id": "14cbad6c-4016-4b14-9ce0-415b9d90f2c1",
   "metadata": {
    "vscode": {
     "languageId": "python"
    }
   },
   "outputs": [],
   "source": [
    "#n=3: two real, two complex\n",
    "#n=4: all complex\n",
    "#the magnitude is not 1, they're closely grouped around 2 or 3"
   ]
  },
  {
   "cell_type": "code",
   "execution_count": null,
   "id": "33046e01-08a6-4324-9c30-d908bf1c2256",
   "metadata": {
    "vscode": {
     "languageId": "python"
    }
   },
   "outputs": [],
   "source": [
    "SGA_dft.base_ring()"
   ]
  },
  {
   "cell_type": "code",
   "execution_count": null,
   "id": "2caebbde-e05f-416d-a06f-b1d8d8c53ebb",
   "metadata": {
    "vscode": {
     "languageId": "python"
    }
   },
   "outputs": [],
   "source": [
    "SGA_eigs = SGA_dft.eigenvalues(); SGA_eigs"
   ]
  },
  {
   "cell_type": "code",
   "execution_count": null,
   "id": "edb1c420-f44a-4cb3-9fb3-2ffa17dee539",
   "metadata": {
    "vscode": {
     "languageId": "python"
    }
   },
   "outputs": [],
   "source": [
    "[abs(eig) for eig in SGA_eigs]"
   ]
  },
  {
   "cell_type": "code",
   "execution_count": null,
   "id": "65cb3bc4-b509-4b7b-81d7-da293174d156",
   "metadata": {
    "vscode": {
     "languageId": "python"
    }
   },
   "outputs": [],
   "source": [
    "SGA_eigs[0].minpoly()"
   ]
  },
  {
   "cell_type": "code",
   "execution_count": null,
   "id": "5a48909b-3b9a-437c-a778-e81f28f3735b",
   "metadata": {
    "vscode": {
     "languageId": "python"
    }
   },
   "outputs": [],
   "source": [
    "#note that the singluar values are the square roots of the diagonal entries of the Gram matrix\n",
    "print(SymmetricGroup(n).algebra(CDF).dft().SVD()[1].numpy().diagonal())\n",
    "print(sqrt((SGA_dft*SGA_dft.transpose()).numpy().diagonal()))"
   ]
  }
 ],
 "metadata": {
  "kernelspec": {
   "display_name": "SageMath 10.5",
   "language": "sage",
   "name": "SageMath-10.5"
  },
  "language_info": {
   "codemirror_mode": {
    "name": "ipython",
    "version": 3
   },
   "file_extension": ".py",
   "mimetype": "text/x-python",
   "name": "sage",
   "nbconvert_exporter": "python",
   "pygments_lexer": "ipython3",
   "version": "3.12.5"
  }
 },
 "nbformat": 4,
 "nbformat_minor": 5
}
