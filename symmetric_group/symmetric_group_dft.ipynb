{
 "cells": [
  {
   "cell_type": "code",
   "execution_count": 1,
   "id": "7448734a",
   "metadata": {},
   "outputs": [],
   "source": [
    "\"\"\"\n",
    "REFS:\n",
    "1) Wildon, Vertices of Specht Modules and Blocks of the Symmetric Group\n",
    "2) Murphy, The Idempotents of the Symmetric Group and Nakayama's Conjecture\n",
    "3) Murphy, A new construction of Young's seminormal representation of the symmetric groups\n",
    "\"\"\";"
   ]
  },
  {
   "cell_type": "code",
   "execution_count": 2,
   "id": "a227aced-529f-4b81-ad1c-b28e3fd53e43",
   "metadata": {},
   "outputs": [],
   "source": [
    "\"\"\"\n",
    "NOTES: eigenvalues appear to have multiplicity 1\n",
    "\"\"\";"
   ]
  },
  {
   "cell_type": "code",
   "execution_count": 7,
   "id": "4f94c43f-d8a0-4246-aead-653f313695f9",
   "metadata": {},
   "outputs": [
    {
     "data": {
      "text/plain": [
       "24 x 24 dense matrix over Finite Field of size 3 (use the '.str()' method to see the entries)"
      ]
     },
     "execution_count": 7,
     "metadata": {},
     "output_type": "execute_result"
    }
   ],
   "source": [
    "SymmetricGroupAlgebra(GF(3),4).dft()"
   ]
  },
  {
   "cell_type": "code",
   "execution_count": 4,
   "id": "3ac291e5",
   "metadata": {},
   "outputs": [],
   "source": [
    "SGA_Q3 = SymmetricGroupAlgebra(QQ,3)"
   ]
  },
  {
   "cell_type": "code",
   "execution_count": 5,
   "id": "d5bc95b0",
   "metadata": {},
   "outputs": [
    {
     "data": {
      "text/plain": [
       "[   1    1    1    1    1    1]\n",
       "[   1  1/2   -1 -1/2 -1/2  1/2]\n",
       "[   0  3/4    0  3/4 -3/4 -3/4]\n",
       "[   0    1    0   -1    1   -1]\n",
       "[   1 -1/2    1 -1/2 -1/2 -1/2]\n",
       "[   1   -1   -1    1    1   -1]"
      ]
     },
     "execution_count": 5,
     "metadata": {},
     "output_type": "execute_result"
    }
   ],
   "source": [
    "SGA_Q3.dft()"
   ]
  },
  {
   "cell_type": "code",
   "execution_count": 6,
   "id": "8f98a1b7",
   "metadata": {},
   "outputs": [],
   "source": [
    "SGA_F7 = SymmetricGroupAlgebra(GF(7),3)"
   ]
  },
  {
   "cell_type": "code",
   "execution_count": 7,
   "id": "495bc146",
   "metadata": {},
   "outputs": [
    {
     "data": {
      "text/plain": [
       "24"
      ]
     },
     "execution_count": 7,
     "metadata": {},
     "output_type": "execute_result"
    }
   ],
   "source": [
    "len(set(SymmetricGroupAlgebra(QQ,4).dft().eigenvalues()))"
   ]
  },
  {
   "cell_type": "code",
   "execution_count": 8,
   "id": "8e7c474e",
   "metadata": {},
   "outputs": [
    {
     "data": {
      "text/plain": [
       "Specht module of [(0, 0), (1, 0), (2, 0)] over Finite Field of size 7"
      ]
     },
     "execution_count": 8,
     "metadata": {},
     "output_type": "execute_result"
    }
   ],
   "source": [
    "SGA_F7.specht_module(Partition([1,1,1]))"
   ]
  },
  {
   "cell_type": "code",
   "execution_count": 8,
   "id": "eac905eb",
   "metadata": {},
   "outputs": [],
   "source": [
    "SGA_F3 = SymmetricGroupAlgebra(GF(3),3)"
   ]
  },
  {
   "cell_type": "code",
   "execution_count": 10,
   "id": "7608ec7e",
   "metadata": {},
   "outputs": [
    {
     "name": "stdout",
     "output_type": "stream",
     "text": [
      "[1 0 0 0 0 0]\n",
      "[0 1 0 0 0 0]\n",
      "[0 0 1 0 0 0]\n",
      "[0 0 0 1 0 0]\n",
      "[0 0 0 0 1 0]\n",
      "[0 0 0 0 0 1]\n"
     ]
    }
   ],
   "source": [
    "#one cannot perform the DFT when p | n!\n",
    "try:\n",
    "    print(SGA_F3.dft())\n",
    "except ZeroDivisionError:\n",
    "    print(\"Modular case not handled!\")"
   ]
  },
  {
   "cell_type": "code",
   "execution_count": 11,
   "id": "2f53c75f",
   "metadata": {},
   "outputs": [],
   "source": [
    "#construct Pierce decomposition of SGA into sum of blocks"
   ]
  },
  {
   "cell_type": "code",
   "execution_count": 12,
   "id": "7358b51c",
   "metadata": {},
   "outputs": [],
   "source": [
    "#implements modular Fourier transform\n",
    "#project v onto each block U_i = F_p[S_n]*e_i using \\pi_i: v |--> v*e_i as a projection\n",
    "#this is just a change of basis\n",
    "def modular_fourier_transform(p,n,nu=1):\n",
    "    #instantiate group algebra\n",
    "    SGA_GFp_n = SymmetricGroupAlgebra(GF(p**nu),n)\n",
    "    #compute the primitive central orthogonal idempotents\n",
    "    idempotents = SGA_GFp_n.central_orthogonal_idempotents()\n",
    "    # project v onto each block U_i = F_p[S_n]*e_i via \\pi_i: v |--> v*e_i\n",
    "    B = SGA_GFp_n.basis()\n",
    "    blocks = [SGA_GFp_n.submodule([b * idem for b in B]) for idem in idempotents]\n",
    "    # compute the list of basis vectors lifted to the SGA from each block\n",
    "    block_decomposition_basis = [u.lift() for block in blocks for u in block.basis()]\n",
    "    # construct the matrix to the standard basis in the order given by the group\n",
    "    G = SGA_GFp_n.group()\n",
    "    mat = [[b[g] for b in block_decomposition_basis] for g in G]\n",
    "    return matrix(SGA_GFp_n.base_ring(), mat)"
   ]
  },
  {
   "cell_type": "code",
   "execution_count": 13,
   "id": "d4d64ee9-d1b0-4dd1-859d-4cd213f6e5e3",
   "metadata": {},
   "outputs": [],
   "source": [
    "#compute the splitting field of a polynomial\n",
    "def splitting_field(f,K,splitting_degs=[]):\n",
    "    #define polynomial ring we're working over\n",
    "    R.<x> = PolynomialRing(K)\n",
    "    #factor f over K into irreducible factors \n",
    "    factor_f = f(R.gen()).factor()\n",
    "    #choose first non-linear factor. just pick last one since they're ordered\n",
    "    nonlinear_factor_f = list(factor_f)[-1][0]\n",
    "    splitting_degs.append(nonlinear_factor_f.degree())\n",
    "    if nonlinear_factor_f.degree() == 1:\n",
    "        return K, splitting_degs\n",
    "    #form the quotient ring K_{i+1} = K_i[x]/(f_i(x))\n",
    "    K_ext = R.quotient(nonlinear_factor_f)\n",
    "    #repeat process until f is completely factored\n",
    "    return splitting_field(f,K_ext,splitting_degs)"
   ]
  },
  {
   "cell_type": "code",
   "execution_count": 14,
   "id": "d808d3a1-60bb-46cf-a97b-3fad7a5f23e2",
   "metadata": {},
   "outputs": [],
   "source": [
    "#compute the splitting degree of the splitting field of a polynomial by computing the lcm\n",
    "def splitting_field_degree(f):\n",
    "    return lcm([factor[0].degree()**factor[1] for factor in list(f.factor())])"
   ]
  },
  {
   "cell_type": "code",
   "execution_count": 15,
   "id": "b614c29d-1600-4f2b-a729-6b574b596369",
   "metadata": {},
   "outputs": [],
   "source": [
    "#A fast way for computing the order of 𝑀 is thus \n",
    "#to compute the characteristic polynomial P_L of M\n",
    "#factor it over F_p and check then if prime-divisors of p^k-1\n",
    "#(for 𝑘 the degree of an involved irreducible polynomial) \n",
    "#divide the order\n",
    "def order_finite_field(M):\n",
    "    L = M.nrows()\n",
    "    p = len(M.base_ring())\n",
    "    P_L = M.charpoly(); P_L\n",
    "    char_poly_factored = P_L.factor(); char_poly_factored\n",
    "    degree_list = [item[0].degree() for item in char_poly_factored]\n",
    "    U = p^(L-1)*prod(p^k-1 for k in degree_list)\n",
    "    for div in divisors(U):\n",
    "        if M^div == matrix.identity(L):\n",
    "            return div"
   ]
  },
  {
   "cell_type": "code",
   "execution_count": 16,
   "id": "462f5a9e-e193-4648-b96a-710ddf3df016",
   "metadata": {},
   "outputs": [],
   "source": [
    "#compute the order by computeing the eigenvalues of the matrix, which are distinct, and taking the lcm\n",
    "def order_via_lcm(p,n):\n",
    "    eigs = modular_fourier_transform(p,n,nu=1).eigenvalues()\n",
    "    return lcm([eig.multiplicative_order() for eig in eigs])"
   ]
  },
  {
   "cell_type": "code",
   "execution_count": 17,
   "id": "460fee4d",
   "metadata": {},
   "outputs": [],
   "source": [
    "p=3; n=4"
   ]
  },
  {
   "cell_type": "code",
   "execution_count": 18,
   "id": "cb2370b8",
   "metadata": {},
   "outputs": [
    {
     "data": {
      "text/plain": [
       "24 x 24 dense matrix over Finite Field of size 3 (use the '.str()' method to see the entries)"
      ]
     },
     "execution_count": 18,
     "metadata": {},
     "output_type": "execute_result"
    }
   ],
   "source": [
    "#compute the modular Fourier transform for an example element v\n",
    "mft = modular_fourier_transform(p,n); mft"
   ]
  },
  {
   "cell_type": "code",
   "execution_count": 19,
   "id": "274d5b27",
   "metadata": {},
   "outputs": [
    {
     "name": "stdout",
     "output_type": "stream",
     "text": [
      "[1 0 0 0 0 0 0 0 0 1 0 0 0 0 0 0 0 0 1 0 0 0 0 0]\n",
      "[0 1 0 0 0 0 0 0 0 0 1 0 0 0 0 0 0 0 0 1 0 0 0 0]\n",
      "[0 0 1 0 0 0 0 0 0 0 0 1 0 0 0 0 0 0 0 0 1 0 0 0]\n",
      "[0 0 0 1 0 0 0 0 0 0 0 0 1 0 0 0 0 0 0 0 0 1 0 0]\n",
      "[0 0 0 0 1 0 0 0 0 0 0 0 0 1 0 0 0 0 0 0 0 0 1 0]\n",
      "[1 2 2 1 1 0 0 0 0 2 2 2 2 2 0 0 0 0 0 0 0 0 0 1]\n",
      "[0 0 0 0 0 1 0 0 0 0 0 0 0 0 1 0 0 0 0 1 0 0 0 0]\n",
      "[2 1 0 0 0 1 0 0 0 2 2 0 0 0 2 0 0 0 1 0 0 0 0 0]\n",
      "[0 0 0 0 0 0 1 0 0 0 0 0 0 0 0 1 0 0 0 0 0 0 1 0]\n",
      "[0 0 0 0 0 0 0 1 0 0 0 0 0 0 0 0 1 0 0 0 0 0 0 1]\n",
      "[0 0 2 0 1 0 1 0 0 0 0 2 0 2 0 2 0 0 0 0 1 0 0 0]\n",
      "[1 2 2 0 1 0 0 1 0 1 1 1 0 1 0 0 2 0 0 0 0 1 0 0]\n",
      "[0 0 0 0 0 0 0 0 1 0 0 0 0 0 0 0 0 1 0 0 0 1 0 0]\n",
      "[0 0 2 1 0 0 0 0 1 0 0 2 2 0 0 0 0 2 0 0 1 0 0 0]\n",
      "[1 0 2 0 0 2 1 0 1 2 0 2 0 0 2 2 0 2 0 0 0 0 0 1]\n",
      "[1 0 2 0 0 2 0 1 1 1 0 1 0 0 1 0 2 1 0 0 0 0 1 0]\n",
      "[1 2 1 1 1 2 1 0 1 1 1 2 1 1 1 1 0 1 1 0 0 0 0 0]\n",
      "[1 2 2 0 1 2 0 1 1 2 2 2 0 2 2 0 1 2 0 1 0 0 0 0]\n",
      "[1 1 2 2 2 1 2 2 2 2 1 2 1 1 1 1 2 1 0 0 0 0 0 1]\n",
      "[2 0 1 0 2 1 2 2 2 2 0 2 0 2 2 2 1 2 0 0 0 0 1 0]\n",
      "[2 1 1 2 2 0 0 2 2 2 2 2 2 2 0 0 1 2 0 0 0 1 0 0]\n",
      "[0 0 1 2 2 0 2 0 2 0 0 1 1 1 0 1 0 1 0 0 1 0 0 0]\n",
      "[2 0 1 0 2 0 0 2 2 1 0 1 0 1 0 0 2 1 0 1 0 0 0 0]\n",
      "[2 0 2 2 2 0 2 0 2 2 0 1 2 2 0 2 0 2 1 0 0 0 0 0]\n"
     ]
    }
   ],
   "source": [
    "print(mft.str())"
   ]
  },
  {
   "cell_type": "code",
   "execution_count": 20,
   "id": "2c89a0ab",
   "metadata": {},
   "outputs": [
    {
     "name": "stdout",
     "output_type": "stream",
     "text": [
      "24\n"
     ]
    },
    {
     "data": {
      "text/plain": [
       "'222210121111201020111101'"
      ]
     },
     "execution_count": 20,
     "metadata": {},
     "output_type": "execute_result"
    }
   ],
   "source": [
    "#perform Hill cipher with MFT(p,n) as matrix\n",
    "txt = \"hom\"\n",
    "bit_str = flatten([list(bin_str)[2:] for bin_str in [bin(num) for num in list(txt.encode())]])\n",
    "encoded_vec = [GF(p)(bit) for bit in bit_str] + (factorial(n)-len(bit_str))*[0]\n",
    "print(len(encoded_vec))\n",
    "''.join([str(i) for i in mft*vector(encoded_vec)])"
   ]
  },
  {
   "cell_type": "code",
   "execution_count": 21,
   "id": "695f7df9",
   "metadata": {},
   "outputs": [
    {
     "data": {
      "text/plain": [
       "False"
      ]
     },
     "execution_count": 21,
     "metadata": {},
     "output_type": "execute_result"
    }
   ],
   "source": [
    "modular_fourier_transform(7,3) == SGA_F7.dft()"
   ]
  },
  {
   "cell_type": "code",
   "execution_count": 22,
   "id": "b09e4e1d",
   "metadata": {},
   "outputs": [
    {
     "name": "stdout",
     "output_type": "stream",
     "text": [
      "[1 0 0 0 0 0 0 0 0 1 0 0 0 0 0 0 0 0 1 0 0 0 0 0]\n",
      "[0 1 0 0 0 0 0 0 0 0 1 0 0 0 0 0 0 0 0 1 0 0 0 0]\n",
      "[0 0 1 0 0 0 0 0 0 0 0 1 0 0 0 0 0 0 0 0 1 0 0 0]\n",
      "[0 0 0 1 0 0 0 0 0 0 0 0 1 0 0 0 0 0 0 0 0 1 0 0]\n",
      "[0 0 0 0 1 0 0 0 0 0 0 0 0 1 0 0 0 0 0 0 0 0 1 0]\n",
      "[1 2 2 1 1 0 0 0 0 2 2 2 2 2 0 0 0 0 0 0 0 0 0 1]\n",
      "[0 0 0 0 0 1 0 0 0 0 0 0 0 0 1 0 0 0 0 1 0 0 0 0]\n",
      "[2 1 0 0 0 1 0 0 0 2 2 0 0 0 2 0 0 0 1 0 0 0 0 0]\n",
      "[0 0 0 0 0 0 1 0 0 0 0 0 0 0 0 1 0 0 0 0 0 0 1 0]\n",
      "[0 0 0 0 0 0 0 1 0 0 0 0 0 0 0 0 1 0 0 0 0 0 0 1]\n",
      "[0 0 2 0 1 0 1 0 0 0 0 2 0 2 0 2 0 0 0 0 1 0 0 0]\n",
      "[1 2 2 0 1 0 0 1 0 1 1 1 0 1 0 0 2 0 0 0 0 1 0 0]\n",
      "[0 0 0 0 0 0 0 0 1 0 0 0 0 0 0 0 0 1 0 0 0 1 0 0]\n",
      "[0 0 2 1 0 0 0 0 1 0 0 2 2 0 0 0 0 2 0 0 1 0 0 0]\n",
      "[1 0 2 0 0 2 1 0 1 2 0 2 0 0 2 2 0 2 0 0 0 0 0 1]\n",
      "[1 0 2 0 0 2 0 1 1 1 0 1 0 0 1 0 2 1 0 0 0 0 1 0]\n",
      "[1 2 1 1 1 2 1 0 1 1 1 2 1 1 1 1 0 1 1 0 0 0 0 0]\n",
      "[1 2 2 0 1 2 0 1 1 2 2 2 0 2 2 0 1 2 0 1 0 0 0 0]\n",
      "[1 1 2 2 2 1 2 2 2 2 1 2 1 1 1 1 2 1 0 0 0 0 0 1]\n",
      "[2 0 1 0 2 1 2 2 2 2 0 2 0 2 2 2 1 2 0 0 0 0 1 0]\n",
      "[2 1 1 2 2 0 0 2 2 2 2 2 2 2 0 0 1 2 0 0 0 1 0 0]\n",
      "[0 0 1 2 2 0 2 0 2 0 0 1 1 1 0 1 0 1 0 0 1 0 0 0]\n",
      "[2 0 1 0 2 0 0 2 2 1 0 1 0 1 0 0 2 1 0 1 0 0 0 0]\n",
      "[2 0 2 2 2 0 2 0 2 2 0 1 2 2 0 2 0 2 1 0 0 0 0 0]\n"
     ]
    }
   ],
   "source": [
    "#note: this matrix has (almost) only has 1's and -1's\n",
    "M = modular_fourier_transform(3,4,nu=1)\n",
    "print(M.str())"
   ]
  },
  {
   "cell_type": "code",
   "execution_count": 23,
   "id": "e0ca0ad1",
   "metadata": {},
   "outputs": [
    {
     "data": {
      "text/plain": [
       "True"
      ]
     },
     "execution_count": 23,
     "metadata": {},
     "output_type": "execute_result"
    }
   ],
   "source": [
    "matrix.identity(6) == modular_fourier_transform(2,3)^4"
   ]
  },
  {
   "cell_type": "code",
   "execution_count": 24,
   "id": "d6f55115",
   "metadata": {},
   "outputs": [
    {
     "data": {
      "text/plain": [
       "488488"
      ]
     },
     "execution_count": 24,
     "metadata": {},
     "output_type": "execute_result"
    }
   ],
   "source": [
    "order_finite_field(mft)"
   ]
  },
  {
   "cell_type": "code",
   "execution_count": 25,
   "id": "824a354f-db1f-45b3-b132-1a0a12f12d71",
   "metadata": {},
   "outputs": [
    {
     "data": {
      "text/plain": [
       "6005774712405552325836931245600260388543060466051616552"
      ]
     },
     "execution_count": 25,
     "metadata": {},
     "output_type": "execute_result"
    }
   ],
   "source": [
    "order_via_lcm(3,5)"
   ]
  },
  {
   "cell_type": "code",
   "execution_count": 26,
   "id": "2b38a6af",
   "metadata": {},
   "outputs": [
    {
     "data": {
      "text/plain": [
       "True"
      ]
     },
     "execution_count": 26,
     "metadata": {},
     "output_type": "execute_result"
    }
   ],
   "source": [
    "mft^488488 == matrix.identity(24)"
   ]
  },
  {
   "cell_type": "code",
   "execution_count": 27,
   "id": "51c9f74f",
   "metadata": {},
   "outputs": [
    {
     "data": {
      "text/plain": [
       "[1 1 1 1 1 1]\n",
       "[1 4 6 3 3 4]\n",
       "[0 6 0 6 1 1]\n",
       "[0 1 0 6 1 6]\n",
       "[1 3 1 3 3 3]\n",
       "[1 6 6 1 1 6]"
      ]
     },
     "execution_count": 27,
     "metadata": {},
     "output_type": "execute_result"
    }
   ],
   "source": [
    "SymmetricGroupAlgebra(GF(7),3).dft()"
   ]
  },
  {
   "cell_type": "code",
   "execution_count": 28,
   "id": "6de90e56",
   "metadata": {},
   "outputs": [
    {
     "name": "stdout",
     "output_type": "stream",
     "text": [
      "[ 1  1  0  0  0  0  0  0  0  0  1  0  0  0  1  0  0  0  0  0  0  0  0  1]\n",
      "[ 1  0  1  0  0  0  0  0  0  0  0  1  0  0  0  1  0  0  0  0  0  0  0 10]\n",
      "[ 1  0  0  1  0  0  0  0  0  0  0  0  1  0  0  0  1  0  0  0  0  0  0 10]\n",
      "[ 1  0  0  0  1  0  0  0  0  0  0  0  0  1  0  0  0  1  0  0  0  0  0  1]\n",
      "[ 1  0  0  0  0  1  0  0  0  0 10  0  0 10  0  0  0  0  1  0  0  0  0  1]\n",
      "[ 1  1 10 10  1  1  0  0  0  0  0 10 10  0 10 10 10 10 10  0  0  0  0 10]\n",
      "[ 1  0  0  0  0  0  1  0  0  0  0  1  0  0  0  0  0  0  0  1  0  0  0 10]\n",
      "[ 1 10  1  0  0  0  1  0  0  0  1  0  0  0 10 10  0  0  0 10  0  0  0  1]\n",
      "[ 1  0  0  0  0  0  0  1  0  0 10  0  0 10  0  0  0  0  0  0  1  0  0  1]\n",
      "[ 1  0  0  0  0  0  0  0  1  0  0 10 10  0  0  0  0  0  0  0  0  1  0 10]\n",
      "[ 1  0  0 10  0  1  0  1  0  0  0  0  1  0  0  0 10  0 10  0 10  0  0 10]\n",
      "[ 1  1 10 10  0  1  0  0  1  0  0  0  0  1  1  1  1  0  1  0  0 10  0  1]\n",
      "[ 1  0  0  0  0  0  0  0  0  1  0  0  0  1  0  0  0  0  0  0  0  0  1  1]\n",
      "[ 1  0  0 10  1  0  0  0  0  1  0  0  1  0  0  0 10 10  0  0  0  0 10 10]\n",
      "[ 1  1  0 10  0  0 10  1  0  1  0 10 10  0 10  0 10  0  0 10 10  0 10 10]\n",
      "[ 1  1  0 10  0  0 10  0  1  1 10  0  0 10  1  0  1  0  0  1  0 10  1  1]\n",
      "[ 1  1 10  9  1  1 10  1  0  1  1  0  0  0  1  1  2  1  1  1  1  0  1  1]\n",
      "[ 1  1 10 10  0  1 10  0  1  1  0  1  0  0 10 10 10  0 10 10  0  1 10 10]\n",
      "[ 1  9  1  2 10 10  1 10 10 10  0 10 10  0  2  1  2  1  1  1  1 10  1 10]\n",
      "[ 1 10  0  1  0 10  1 10 10 10 10  0  0 10 10  0 10  0 10 10 10  1 10  1]\n",
      "[ 1 10  1  1 10 10  0  0 10 10  0  0  0  1 10 10 10 10 10  0  0  1 10  1]\n",
      "[ 1  0  0  1 10 10  0 10  0 10  0  0  1  0  0  0  1  1  1  0  1  0  1 10]\n",
      "[ 1 10  0  1  0 10  0  0 10 10  0  1  0  0  1  0  1  0  1  0  0 10  1 10]\n",
      "[ 1 10  0  2 10 10  0 10  0 10  1  0  0  0 10  0  9 10 10  0 10  0 10  1]\n"
     ]
    }
   ],
   "source": [
    "#note: this matrix has (almost) only has 1's and -1's\n",
    "print(modular_fourier_transform(11,4).str())"
   ]
  },
  {
   "cell_type": "code",
   "execution_count": 29,
   "id": "ad349b59-e8f3-4814-becd-04f7b1f9bb77",
   "metadata": {},
   "outputs": [
    {
     "data": {
      "text/plain": [
       "6005774712405552325836931245600260388543060466051616552"
      ]
     },
     "execution_count": 29,
     "metadata": {},
     "output_type": "execute_result"
    }
   ],
   "source": [
    "eigs = modular_fourier_transform(3,5,nu=1).eigenvalues(); lcm([eig.multiplicative_order() for eig in eigs])"
   ]
  },
  {
   "cell_type": "code",
   "execution_count": 30,
   "id": "42e53abd-538e-4eff-a267-aeb8c7856911",
   "metadata": {},
   "outputs": [
    {
     "data": {
      "text/plain": [
       "120"
      ]
     },
     "execution_count": 30,
     "metadata": {},
     "output_type": "execute_result"
    }
   ],
   "source": [
    "len(set(eigs))"
   ]
  },
  {
   "cell_type": "code",
   "execution_count": 31,
   "id": "e67f5e95-53c6-45a2-afaa-974d95eff773",
   "metadata": {},
   "outputs": [
    {
     "data": {
      "text/plain": [
       "6005774712405552325836931245600260388543060466051616552"
      ]
     },
     "execution_count": 31,
     "metadata": {},
     "output_type": "execute_result"
    }
   ],
   "source": [
    "#another way to compute the order of the matrix\n",
    "lcm([eig.multiplicative_order() for eig in eigs])"
   ]
  },
  {
   "cell_type": "code",
   "execution_count": 32,
   "id": "fd3997de-d4ea-4897-8354-d3072c54871d",
   "metadata": {},
   "outputs": [
    {
     "data": {
      "text/plain": [
       "z10"
      ]
     },
     "execution_count": 32,
     "metadata": {},
     "output_type": "execute_result"
    }
   ],
   "source": [
    "eigs[20].parent().gen(10)"
   ]
  },
  {
   "cell_type": "code",
   "execution_count": 33,
   "id": "27a5ad15-e5fb-4ae9-9b2b-9c15c2b539fe",
   "metadata": {},
   "outputs": [
    {
     "data": {
      "text/plain": [
       "False"
      ]
     },
     "execution_count": 33,
     "metadata": {},
     "output_type": "execute_result"
    }
   ],
   "source": [
    "eigs[1].parent().gen(2)^2 == eigs[1]"
   ]
  },
  {
   "cell_type": "code",
   "execution_count": 34,
   "id": "3b920c21-869e-4e0b-9b58-d95efc62b4ed",
   "metadata": {},
   "outputs": [
    {
     "data": {
      "text/plain": [
       "120"
      ]
     },
     "execution_count": 34,
     "metadata": {},
     "output_type": "execute_result"
    }
   ],
   "source": [
    "len(set(eigs))"
   ]
  },
  {
   "cell_type": "code",
   "execution_count": 35,
   "id": "60a71f34-632f-4d74-a5fe-80b8cb0cc840",
   "metadata": {},
   "outputs": [],
   "source": [
    "char_poly = modular_fourier_transform(3,4,nu=1).charpoly().factor()"
   ]
  },
  {
   "cell_type": "code",
   "execution_count": 36,
   "id": "7d177530-f8d9-4648-93cd-b854413d966c",
   "metadata": {},
   "outputs": [
    {
     "data": {
      "text/plain": [
       "(x + 1) * (x^2 + 1) * (x^2 + x + 2) * (x^3 + 2*x^2 + 2*x + 2) * (x^6 + x^5 + 2*x^4 + 2*x^2 + 2*x + 2) * (x^10 + 2*x^8 + x^7 + 2*x^6 + x^4 + 2*x + 2)"
      ]
     },
     "execution_count": 36,
     "metadata": {},
     "output_type": "execute_result"
    }
   ],
   "source": [
    "char_poly"
   ]
  },
  {
   "cell_type": "code",
   "execution_count": 38,
   "id": "dde2f77a-b3e2-40b2-91a0-99d684146a43",
   "metadata": {},
   "outputs": [
    {
     "data": {
      "text/plain": [
       "[1, 2, 2, 3, 6, 10]"
      ]
     },
     "execution_count": 38,
     "metadata": {},
     "output_type": "execute_result"
    }
   ],
   "source": [
    "[item[0].degree() for item in list(char_poly)]"
   ]
  },
  {
   "cell_type": "code",
   "execution_count": 39,
   "id": "9404e8ba-b7fa-400a-9fb0-55330576a269",
   "metadata": {},
   "outputs": [
    {
     "data": {
      "text/plain": [
       "2 * 283"
      ]
     },
     "execution_count": 39,
     "metadata": {},
     "output_type": "execute_result"
    }
   ],
   "source": [
    "factor(566)"
   ]
  },
  {
   "cell_type": "code",
   "execution_count": 40,
   "id": "0ce43c57-ae59-454d-87bc-f1b0f63802cc",
   "metadata": {},
   "outputs": [
    {
     "name": "stdout",
     "output_type": "stream",
     "text": [
      "PARI stack size set to 1000000000000 bytes, maximum size set to 1000000012288\n"
     ]
    },
    {
     "data": {
      "text/plain": [
       "1000000000000"
      ]
     },
     "execution_count": 40,
     "metadata": {},
     "output_type": "execute_result"
    }
   ],
   "source": [
    "#getting PARI stack size error\n",
    "pari.allocatemem(10^12)\n",
    "pari.stacksize()"
   ]
  },
  {
   "cell_type": "code",
   "execution_count": 41,
   "id": "02ab5f4f-90c1-48a1-b583-b03ce489db3a",
   "metadata": {},
   "outputs": [],
   "source": [
    "K.<a> = modular_fourier_transform(3,4,nu=1).charpoly().splitting_field()"
   ]
  },
  {
   "cell_type": "code",
   "execution_count": 42,
   "id": "50b3b509-dd9c-4e53-976e-32ac9ce25536",
   "metadata": {},
   "outputs": [
    {
     "data": {
      "text/plain": [
       "Finite Field in a of size 3^30"
      ]
     },
     "execution_count": 42,
     "metadata": {},
     "output_type": "execute_result"
    }
   ],
   "source": [
    "K"
   ]
  },
  {
   "cell_type": "code",
   "execution_count": 43,
   "id": "77b7d009-b67b-4331-b242-0f15c9c2963d",
   "metadata": {},
   "outputs": [
    {
     "data": {
      "text/plain": [
       "120"
      ]
     },
     "execution_count": 43,
     "metadata": {},
     "output_type": "execute_result"
    }
   ],
   "source": [
    "modular_fourier_transform(2,5,nu=1).charpoly().degree()"
   ]
  },
  {
   "cell_type": "code",
   "execution_count": 44,
   "id": "77085442-af91-4903-aded-d2c7649fd9c4",
   "metadata": {},
   "outputs": [
    {
     "data": {
      "text/plain": [
       "True"
      ]
     },
     "execution_count": 44,
     "metadata": {},
     "output_type": "execute_result"
    }
   ],
   "source": [
    "modular_fourier_transform(3,5,nu=1).charpoly() in GF(3)[x]"
   ]
  },
  {
   "cell_type": "code",
   "execution_count": 59,
   "id": "d205b719-e6aa-492a-b7ce-da47bd2142cb",
   "metadata": {},
   "outputs": [
    {
     "data": {
      "text/plain": [
       "x^24 + x^16 + x^8 + 1"
      ]
     },
     "execution_count": 59,
     "metadata": {},
     "output_type": "execute_result"
    }
   ],
   "source": [
    "modular_fourier_transform(2,4,nu=1).charpoly()"
   ]
  },
  {
   "cell_type": "code",
   "execution_count": 50,
   "id": "3190c15d-1c47-4707-b34f-9744ef1d6260",
   "metadata": {},
   "outputs": [],
   "source": [
    "R.<x> = PolynomialRing(K)"
   ]
  },
  {
   "cell_type": "code",
   "execution_count": 45,
   "id": "109230f0-cf86-4cc0-a5b9-3cc6d7eddb5a",
   "metadata": {},
   "outputs": [
    {
     "data": {
      "text/plain": [
       "(Univariate Quotient Polynomial Ring in xbar over Univariate Quotient Polynomial Ring in xbar over Finite Field of size 3 with modulus x^10 + 2*x^8 + x^7 + 2*x^6 + x^4 + 2*x + 2 with modulus x^3 + (2*xbar^8 + 2*xbar^7 + xbar^5 + xbar^4 + 2*xbar^3 + 2*xbar^2)*x^2 + (2*xbar^8 + 2*xbar^7 + xbar^5 + xbar^4 + 2*xbar^3 + 2*xbar^2 + 1)*x + 2*xbar^8 + 2*xbar^7 + xbar^5 + xbar^4 + 2*xbar^3 + 2*xbar^2,\n",
       " [10, 3, 1])"
      ]
     },
     "execution_count": 45,
     "metadata": {},
     "output_type": "execute_result"
    }
   ],
   "source": [
    "splitting_field(modular_fourier_transform(3,4,nu=1).charpoly(),GF(3),splitting_degs=[])"
   ]
  },
  {
   "cell_type": "code",
   "execution_count": 46,
   "id": "664932f4-f40c-43a7-9bb9-72e7a7e67c87",
   "metadata": {},
   "outputs": [
    {
     "data": {
      "text/plain": [
       "730140"
      ]
     },
     "execution_count": 46,
     "metadata": {},
     "output_type": "execute_result"
    }
   ],
   "source": [
    "splitting_field_degree(modular_fourier_transform(5,6,nu=1).charpoly())"
   ]
  }
 ],
 "metadata": {
  "kernelspec": {
   "display_name": "SageMath 10.4",
   "language": "sage",
   "name": "sagemath-10.4"
  },
  "language_info": {
   "codemirror_mode": {
    "name": "ipython",
    "version": 3
   },
   "file_extension": ".py",
   "mimetype": "text/x-python",
   "name": "python",
   "nbconvert_exporter": "python",
   "pygments_lexer": "ipython3",
   "version": "3.12.4"
  }
 },
 "nbformat": 4,
 "nbformat_minor": 5
}
