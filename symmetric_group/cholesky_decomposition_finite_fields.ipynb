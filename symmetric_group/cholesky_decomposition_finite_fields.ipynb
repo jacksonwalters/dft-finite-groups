{
 "cells": [
  {
   "cell_type": "code",
   "execution_count": null,
   "id": "9f0b0ccc-751c-4cf0-a93f-7c22c0452dc7",
   "metadata": {},
   "outputs": [],
   "source": [
    "#define conjugation as x |--> x**q, an order two automorphism of F_q^2. note x**q == x for x \\in F_q.\n",
    "def conjugate_pos_char(A):\n",
    "    assert A.nrows() == A.ncols()\n",
    "    field_size = A.base_ring().order()\n",
    "    q = sqrt(field_size) if field_size.is_square() else field_size\n",
    "    return matrix(GF(q**2),[[A[i][j]**q for j in range(A.nrows())] for i in range(A.nrows())])"
   ]
  },
  {
   "cell_type": "code",
   "execution_count": 3,
   "id": "48b60749-c634-4968-ba22-9003077b59ee",
   "metadata": {},
   "outputs": [],
   "source": [
    "def cholesky_finite_field(A):\n",
    "    \"\"\"\n",
    "    Perform Cholesky decomposition of a Hermitian matrix A over a finite field with a conjugate structure\n",
    "    (e.g., GF(q^2) where each element has a well-defined conjugate operation).\n",
    "    \n",
    "    Parameters:\n",
    "        A (Matrix): A Hermitian (conjugate symmetric) matrix over a finite field with a conjugate operation.\n",
    "    \n",
    "    Returns:\n",
    "        L (Matrix): A lower triangular matrix such that A = L * conjugate_pos_char(L).transpose(), if decomposition is possible.\n",
    "\n",
    "    Issue:\n",
    "        Not returning correct matrix. Only getting A = LL^T.\n",
    "    \"\"\"\n",
    "    n = A.nrows()\n",
    "    L = Matrix(A.base_ring(), n, n, 0)  # Initialize an n x n matrix of zeros in the same field as A\n",
    "    field_size = A.base_ring().order()\n",
    "    q = int(sqrt(field_size)) if field_size.is_square() else field_size\n",
    "\n",
    "    for i in range(n):\n",
    "        # Calculate the diagonal element L[i, i]\n",
    "        diag_sum = sum(L[i, k] * L[i, k]**q for k in range(i))\n",
    "        diag_val = A[i, i] - diag_sum\n",
    "        \n",
    "        # Check if diag_val has a square root in the field\n",
    "        if not diag_val.is_square():\n",
    "            raise ValueError(f\"No square root exists for the value at diagonal {i}: {diag_val}\")\n",
    "        \n",
    "        # Assign the square root of diag_val to L[i, i]\n",
    "        L[i, i] = diag_val.sqrt()\n",
    "        \n",
    "        # Calculate the off-diagonal elements L[j, i] for j > i\n",
    "        for j in range(i + 1, n):\n",
    "            off_diag_sum = sum(L[j, k] * L[i, k]**q for k in range(i))\n",
    "            L[j, i] = (A[j, i] - off_diag_sum) / L[i, i]\n",
    "\n",
    "    assert A == L * conjugate_pos_char(L).transpose()\n",
    "    \n",
    "    return L"
   ]
  },
  {
   "cell_type": "code",
   "execution_count": 5,
   "id": "bdacabc6-da2f-41a0-b1d7-f6cd3a8b9b44",
   "metadata": {},
   "outputs": [
    {
     "data": {
      "text/plain": [
       "[1 2 2]\n",
       "[2 1 2]\n",
       "[2 2 1]"
      ]
     },
     "execution_count": 5,
     "metadata": {},
     "output_type": "execute_result"
    }
   ],
   "source": [
    "U_1 = matrix(GF(3),[[1,2,2],[2,1,2],[2,2,1]]); U_1"
   ]
  },
  {
   "cell_type": "code",
   "execution_count": 2,
   "id": "0b54ec34-873d-419c-92b9-282fb1671030",
   "metadata": {},
   "outputs": [],
   "source": [
    "def cholesky_brute_force(U):\n",
    "    \"\"\"\n",
    "        Compute the Cholesky decomposition U = LL^* by brute force, where * denotes conjugate transpose and we are using the conjugation x |--> x^q.\n",
    "\n",
    "        This will only work for small values of q, n. We can look at representations of dimension d_rho = 2, 3, so that d_rho^2 = 4, 9. \n",
    "        \n",
    "        We work over GF(q^2) where we have square roots, for q=2, 3. If n=3,4, then p|n is problematic, but we can try q=5. \n",
    "\n",
    "        For example, for q=3, q^2=9, n=4, d_rho = 3, d_rho^2 = 9, we would have 9^9 = 387420489 possibilities.\n",
    "    \"\"\"\n",
    "    R = U.base_ring()\n",
    "    q = R.order()\n",
    "    F = GF(q^2)\n",
    "    \n",
    "    "
   ]
  },
  {
   "cell_type": "code",
   "execution_count": 9,
   "id": "26374824-fb71-4800-85ac-3b6da9925911",
   "metadata": {},
   "outputs": [
    {
     "ename": "KeyboardInterrupt",
     "evalue": "",
     "output_type": "error",
     "traceback": [
      "\u001b[0;31m---------------------------------------------------------------------------\u001b[0m",
      "\u001b[0;31mKeyboardInterrupt\u001b[0m                         Traceback (most recent call last)",
      "Cell \u001b[0;32mIn[9], line 1\u001b[0m\n\u001b[0;32m----> 1\u001b[0m \u001b[38;5;28;43;01mfor\u001b[39;49;00m\u001b[43m \u001b[49m\u001b[43mM\u001b[49m\u001b[43m \u001b[49m\u001b[38;5;129;43;01min\u001b[39;49;00m\u001b[43m \u001b[49m\u001b[43mMatrixSpace\u001b[49m\u001b[43m(\u001b[49m\u001b[43mGF\u001b[49m\u001b[43m(\u001b[49m\u001b[43mInteger\u001b[49m\u001b[43m(\u001b[49m\u001b[38;5;241;43m3\u001b[39;49m\u001b[43m)\u001b[49m\u001b[38;5;241;43m*\u001b[39;49m\u001b[38;5;241;43m*\u001b[39;49m\u001b[43mInteger\u001b[49m\u001b[43m(\u001b[49m\u001b[38;5;241;43m2\u001b[39;49m\u001b[43m)\u001b[49m\u001b[43m)\u001b[49m\u001b[43m,\u001b[49m\u001b[43m \u001b[49m\u001b[43mInteger\u001b[49m\u001b[43m(\u001b[49m\u001b[38;5;241;43m3\u001b[39;49m\u001b[43m)\u001b[49m\u001b[43m,\u001b[49m\u001b[43m \u001b[49m\u001b[43mInteger\u001b[49m\u001b[43m(\u001b[49m\u001b[38;5;241;43m3\u001b[39;49m\u001b[43m)\u001b[49m\u001b[43m)\u001b[49m\u001b[43m:\u001b[49m\n\u001b[1;32m      2\u001b[0m \u001b[43m    \u001b[49m\u001b[38;5;28;43;01mcontinue\u001b[39;49;00m\n",
      "File \u001b[0;32m/private/var/tmp/sage-10.4-current/local/var/lib/sage/venv-python3.12.4/lib/python3.12/site-packages/sage/matrix/matrix_space.py:1774\u001b[0m, in \u001b[0;36mMatrixSpace.__iter__\u001b[0;34m(self)\u001b[0m\n\u001b[1;32m   1772\u001b[0m base_elements \u001b[38;5;241m=\u001b[39m \u001b[38;5;28mlist\u001b[39m(base_ring)\n\u001b[1;32m   1773\u001b[0m \u001b[38;5;28;01mfor\u001b[39;00m weight \u001b[38;5;129;01min\u001b[39;00m \u001b[38;5;28mrange\u001b[39m((order \u001b[38;5;241m-\u001b[39m \u001b[38;5;241m1\u001b[39m) \u001b[38;5;241m*\u001b[39m number_of_entries \u001b[38;5;241m+\u001b[39m \u001b[38;5;241m1\u001b[39m):\n\u001b[0;32m-> 1774\u001b[0m \u001b[43m    \u001b[49m\u001b[38;5;28;43;01mfor\u001b[39;49;00m\u001b[43m \u001b[49m\u001b[43miv\u001b[49m\u001b[43m \u001b[49m\u001b[38;5;129;43;01min\u001b[39;49;00m\u001b[43m \u001b[49m\u001b[43msage\u001b[49m\u001b[38;5;241;43m.\u001b[39;49m\u001b[43mcombinat\u001b[49m\u001b[38;5;241;43m.\u001b[39;49m\u001b[43minteger_vector\u001b[49m\u001b[38;5;241;43m.\u001b[39;49m\u001b[43mIntegerVectors\u001b[49m\u001b[43m(\u001b[49m\u001b[43mweight\u001b[49m\u001b[43m,\u001b[49m\u001b[43m \u001b[49m\u001b[43mnumber_of_entries\u001b[49m\u001b[43m,\u001b[49m\u001b[43m \u001b[49m\u001b[43mmax_part\u001b[49m\u001b[38;5;241;43m=\u001b[39;49m\u001b[43m(\u001b[49m\u001b[43morder\u001b[49m\u001b[43m \u001b[49m\u001b[38;5;241;43m-\u001b[39;49m\u001b[43m \u001b[49m\u001b[38;5;241;43m1\u001b[39;49m\u001b[43m)\u001b[49m\u001b[43m)\u001b[49m\u001b[43m:\u001b[49m\n\u001b[1;32m   1775\u001b[0m \u001b[43m        \u001b[49m\u001b[38;5;28;43;01myield\u001b[39;49;00m\u001b[43m \u001b[49m\u001b[38;5;28;43mself\u001b[39;49m\u001b[43m(\u001b[49m\u001b[43m[\u001b[49m\u001b[43mbase_elements\u001b[49m\u001b[43m[\u001b[49m\u001b[43mi\u001b[49m\u001b[43m]\u001b[49m\u001b[43m \u001b[49m\u001b[38;5;28;43;01mfor\u001b[39;49;00m\u001b[43m \u001b[49m\u001b[43mi\u001b[49m\u001b[43m \u001b[49m\u001b[38;5;129;43;01min\u001b[39;49;00m\u001b[43m \u001b[49m\u001b[43miv\u001b[49m\u001b[43m]\u001b[49m\u001b[43m)\u001b[49m\n",
      "File \u001b[0;32m/private/var/tmp/sage-10.4-current/local/var/lib/sage/venv-python3.12.4/lib/python3.12/site-packages/sage/combinat/integer_vector.py:1735\u001b[0m, in \u001b[0;36mIntegerVectorsConstraints.__iter__\u001b[0;34m(self)\u001b[0m\n\u001b[1;32m   1733\u001b[0m     n_list \u001b[38;5;241m=\u001b[39m [\u001b[38;5;28mself\u001b[39m\u001b[38;5;241m.\u001b[39mn]\n\u001b[1;32m   1734\u001b[0m \u001b[38;5;28;01mfor\u001b[39;00m n \u001b[38;5;129;01min\u001b[39;00m n_list:\n\u001b[0;32m-> 1735\u001b[0m \u001b[43m    \u001b[49m\u001b[38;5;28;43;01mfor\u001b[39;49;00m\u001b[43m \u001b[49m\u001b[43mx\u001b[49m\u001b[43m \u001b[49m\u001b[38;5;129;43;01min\u001b[39;49;00m\u001b[43m \u001b[49m\u001b[43mIntegerListsLex\u001b[49m\u001b[43m(\u001b[49m\u001b[43mn\u001b[49m\u001b[43m,\u001b[49m\u001b[43m \u001b[49m\u001b[43mcheck\u001b[49m\u001b[38;5;241;43m=\u001b[39;49m\u001b[38;5;28;43;01mFalse\u001b[39;49;00m\u001b[43m,\u001b[49m\u001b[43m \u001b[49m\u001b[38;5;241;43m*\u001b[39;49m\u001b[38;5;241;43m*\u001b[39;49m\u001b[38;5;28;43mself\u001b[39;49m\u001b[38;5;241;43m.\u001b[39;49m\u001b[43mconstraints\u001b[49m\u001b[43m)\u001b[49m\u001b[43m:\u001b[49m\n\u001b[1;32m   1736\u001b[0m \u001b[43m        \u001b[49m\u001b[38;5;28;43;01myield\u001b[39;49;00m\u001b[43m \u001b[49m\u001b[38;5;28;43mself\u001b[39;49m\u001b[38;5;241;43m.\u001b[39;49m\u001b[43melement_class\u001b[49m\u001b[43m(\u001b[49m\u001b[38;5;28;43mself\u001b[39;49m\u001b[43m,\u001b[49m\u001b[43m \u001b[49m\u001b[43mx\u001b[49m\u001b[43m,\u001b[49m\u001b[43m \u001b[49m\u001b[43mcheck\u001b[49m\u001b[38;5;241;43m=\u001b[39;49m\u001b[38;5;28;43;01mFalse\u001b[39;49;00m\u001b[43m)\u001b[49m\n",
      "File \u001b[0;32m/private/var/tmp/sage-10.4-current/local/var/lib/sage/venv-python3.12.4/lib/python3.12/site-packages/sage/combinat/integer_lists/lists.py:239\u001b[0m, in \u001b[0;36mIntegerLists._element_iter\u001b[0;34m(itr, constructor)\u001b[0m\n\u001b[1;32m    227\u001b[0m \u001b[38;5;250m\u001b[39m\u001b[38;5;124;03m\"\"\"\u001b[39;00m\n\u001b[1;32m    228\u001b[0m \u001b[38;5;124;03mGiven an iterator ``itr`` and an element constructor\u001b[39;00m\n\u001b[1;32m    229\u001b[0m \u001b[38;5;124;03m``constructor``, iterate over ``constructor(v)`` where `v`\u001b[39;00m\n\u001b[0;32m   (...)\u001b[0m\n\u001b[1;32m    236\u001b[0m \u001b[38;5;124;03m    [(2, 0, 0), (1, 1, 0), (1, 0, 1), (0, 2, 0), (0, 1, 1), (0, 0, 2)]\u001b[39;00m\n\u001b[1;32m    237\u001b[0m \u001b[38;5;124;03m\"\"\"\u001b[39;00m\n\u001b[1;32m    238\u001b[0m \u001b[38;5;28;01mfor\u001b[39;00m v \u001b[38;5;129;01min\u001b[39;00m itr:\n\u001b[0;32m--> 239\u001b[0m     \u001b[38;5;28;01myield\u001b[39;00m \u001b[43mconstructor\u001b[49m\u001b[43m(\u001b[49m\u001b[43mv\u001b[49m\u001b[43m)\u001b[49m\n",
      "File \u001b[0;32m/private/var/tmp/sage-10.4-current/local/var/lib/sage/venv-python3.12.4/lib/python3.12/site-packages/sage/combinat/integer_lists/lists.py:306\u001b[0m, in \u001b[0;36mIntegerLists._element_constructor_nocheck\u001b[0;34m(self, l)\u001b[0m\n\u001b[1;32m    282\u001b[0m \u001b[38;5;250m    \u001b[39m\u001b[38;5;124;03m\"\"\"\u001b[39;00m\n\u001b[1;32m    283\u001b[0m \u001b[38;5;124;03m    Default element constructor\u001b[39;00m\n\u001b[1;32m    284\u001b[0m \n\u001b[0;32m   (...)\u001b[0m\n\u001b[1;32m    302\u001b[0m \u001b[38;5;124;03m        <bound method IntegerLists._element_constructor_default of Integer lists of sum 5 satisfying certain constraints>\u001b[39;00m\n\u001b[1;32m    303\u001b[0m \u001b[38;5;124;03m    \"\"\"\u001b[39;00m\n\u001b[1;32m    304\u001b[0m     \u001b[38;5;28;01mreturn\u001b[39;00m \u001b[38;5;28mself\u001b[39m\u001b[38;5;241m.\u001b[39melement_class(\u001b[38;5;28mself\u001b[39m, l)\n\u001b[0;32m--> 306\u001b[0m \u001b[38;5;28;01mdef\u001b[39;00m \u001b[38;5;21m_element_constructor_nocheck\u001b[39m(\u001b[38;5;28mself\u001b[39m, l):\n\u001b[1;32m    307\u001b[0m \u001b[38;5;250m    \u001b[39m\u001b[38;5;124mr\u001b[39m\u001b[38;5;124;03m\"\"\"\u001b[39;00m\n\u001b[1;32m    308\u001b[0m \u001b[38;5;124;03m    A variant of the standard element constructor that passes\u001b[39;00m\n\u001b[1;32m    309\u001b[0m \u001b[38;5;124;03m    ``check=False`` to the element class.\u001b[39;00m\n\u001b[0;32m   (...)\u001b[0m\n\u001b[1;32m    325\u001b[0m \u001b[38;5;124;03m        [1, 2, 3]\u001b[39;00m\n\u001b[1;32m    326\u001b[0m \u001b[38;5;124;03m    \"\"\"\u001b[39;00m\n\u001b[1;32m    327\u001b[0m     \u001b[38;5;28;01mreturn\u001b[39;00m \u001b[38;5;28mself\u001b[39m\u001b[38;5;241m.\u001b[39melement_class(\u001b[38;5;28mself\u001b[39m, l, check\u001b[38;5;241m=\u001b[39m\u001b[38;5;28;01mFalse\u001b[39;00m)\n",
      "File \u001b[0;32msrc/cysignals/signals.pyx:341\u001b[0m, in \u001b[0;36mcysignals.signals.python_check_interrupt\u001b[0;34m()\u001b[0m\n",
      "\u001b[0;31mKeyboardInterrupt\u001b[0m: "
     ]
    }
   ],
   "source": [
    "for M in MatrixSpace(GF(3^2), 3, 3):\n",
    "    continue"
   ]
  },
  {
   "cell_type": "code",
   "execution_count": 16,
   "id": "1e13d603-b17a-4e2b-bdb7-b64b3b34ad4b",
   "metadata": {},
   "outputs": [
    {
     "name": "stdout",
     "output_type": "stream",
     "text": [
      "Elapsed time: 23.6245539188385 seconds\n"
     ]
    }
   ],
   "source": [
    "import time\n",
    "\n",
    "# Start the timer\n",
    "start_time = time.time()\n",
    "\n",
    "# Your loop or code block\n",
    "for i in range(10^9):\n",
    "    pass  # Replace with your code\n",
    "\n",
    "# End the timer\n",
    "end_time = time.time()\n",
    "\n",
    "# Calculate the elapsed time\n",
    "elapsed_time = end_time - start_time\n",
    "print(f\"Elapsed time: {elapsed_time} seconds\")"
   ]
  },
  {
   "cell_type": "code",
   "execution_count": 19,
   "id": "6acbe65f-a3f3-4283-b669-89de88c31266",
   "metadata": {},
   "outputs": [
    {
     "data": {
      "text/plain": [
       "10"
      ]
     },
     "execution_count": 19,
     "metadata": {},
     "output_type": "execute_result"
    }
   ],
   "source": [
    "4+binomial(4,2)"
   ]
  },
  {
   "cell_type": "code",
   "execution_count": null,
   "id": "f0f1010e-e29c-4321-a7d1-6a2288e25e89",
   "metadata": {},
   "outputs": [],
   "source": []
  }
 ],
 "metadata": {
  "kernelspec": {
   "display_name": "SageMath 10.4",
   "language": "sage",
   "name": "sagemath-10.4"
  },
  "language_info": {
   "codemirror_mode": {
    "name": "ipython",
    "version": 3
   },
   "file_extension": ".py",
   "mimetype": "text/x-python",
   "name": "python",
   "nbconvert_exporter": "python",
   "pygments_lexer": "ipython3",
   "version": "3.12.4"
  }
 },
 "nbformat": 4,
 "nbformat_minor": 5
}
