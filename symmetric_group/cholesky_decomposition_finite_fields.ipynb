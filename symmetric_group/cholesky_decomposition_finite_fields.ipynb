{
 "cells": [
  {
   "cell_type": "code",
   "execution_count": 53,
   "id": "12650288-05fa-4031-bd1e-6c8e5d5068bf",
   "metadata": {},
   "outputs": [],
   "source": [
    "\"\"\"\n",
    "\n",
    "From Dima Pasechnik, for the n=2 case:\n",
    "\n",
    "Here is a complete algorithm for \\( n = 2 \\). Let \n",
    "\\[\n",
    "H = \\begin{pmatrix} \\alpha & \\omega \\\\ \\overline{\\omega} & \\beta \\end{pmatrix},\n",
    "\\]\n",
    "with \\( \\alpha = \\overline{\\alpha} \\) and \\( \\beta = \\overline{\\beta} \\). We look for \n",
    "\\[\n",
    "L = \\begin{pmatrix} 1 & 0 \\\\ a & 1 \\end{pmatrix}\n",
    "\\]\n",
    "such that \\( LHL^* \\) is diagonal. If \\( \\omega = 0 \\), we are done (since \\( H \\) is diagonal, and we can factor \\( \\alpha = \\tau \\overline{\\tau} \\) and \\( \\beta = \\mu \\overline{\\mu} \\) to get \\( H = I \\)).\n",
    "\n",
    "We have\n",
    "\\[\n",
    "LHL^* = \\begin{pmatrix} \\alpha & \\alpha \\overline{a} + \\omega \\\\ a \\alpha + \\overline{\\omega} & a \\overline{a} \\alpha + a \\omega + \\overline{a} \\overline{\\omega} + \\beta \\end{pmatrix}.\n",
    "\\]\n",
    "\n",
    "If \\( \\alpha \\neq 0 \\), we can set \\( a := -\\frac{\\overline{\\omega}}{\\alpha} \\) and obtain a diagonal result.\n",
    "\n",
    "If \\( \\beta \\neq 0 \\), we can pre-conjugate \\( H \\) by the permutation matrix \\( \\Pi \\) of \\( (1, 2) \\), yielding a nonzero \\( \\alpha \\), and proceed as above. Thus, in this case, the conjugation is by \\( L\\Pi \\).\n",
    "\n",
    "If \\( \\alpha = \\beta = 0 \\), in \\( LHL^* \\) we obtain a new \\( \\beta := a\\omega + \\overline{a}\\overline{\\omega} \\). We then apply conjugation by \\( \\Pi \\) to achieve a nonzero \\( \\alpha \\), and proceed as above to find a suitable \\( L' \\). In this case, the conjugation is by \\( L'\\Pi L \\).\n",
    "\n",
    "\n",
    "\"\"\";"
   ]
  },
  {
   "cell_type": "code",
   "execution_count": 23,
   "id": "9f0b0ccc-751c-4cf0-a93f-7c22c0452dc7",
   "metadata": {},
   "outputs": [],
   "source": [
    "#define conjugation as x |--> x**q, an order two automorphism of F_q^2. note x**q == x for x \\in F_q.\n",
    "def conjugate_pos_char(A):\n",
    "    assert A.nrows() == A.ncols()\n",
    "    field_size = A.base_ring().order()\n",
    "    q = sqrt(field_size) if field_size.is_square() else field_size\n",
    "    return matrix(GF(q**2),[[A[i][j]**q for j in range(A.nrows())] for i in range(A.nrows())])"
   ]
  },
  {
   "cell_type": "code",
   "execution_count": 24,
   "id": "48b60749-c634-4968-ba22-9003077b59ee",
   "metadata": {},
   "outputs": [],
   "source": [
    "def cholesky_finite_field(A):\n",
    "    \"\"\"\n",
    "    Perform Cholesky decomposition of a Hermitian matrix A over a finite field with a conjugate structure\n",
    "    (e.g., GF(q^2) where each element has a well-defined conjugate operation).\n",
    "    \n",
    "    Parameters:\n",
    "        A (Matrix): A Hermitian (conjugate symmetric) matrix over a finite field with a conjugate operation.\n",
    "    \n",
    "    Returns:\n",
    "        L (Matrix): A lower triangular matrix such that A = L * conjugate_pos_char(L).transpose(), if decomposition is possible.\n",
    "\n",
    "    Issue:\n",
    "        Not returning correct matrix. Only getting A = LL^T.\n",
    "    \"\"\"\n",
    "    n = A.nrows()\n",
    "    L = Matrix(A.base_ring(), n, n, 0)  # Initialize an n x n matrix of zeros in the same field as A\n",
    "    field_size = A.base_ring().order()\n",
    "    q = int(sqrt(field_size)) if field_size.is_square() else field_size\n",
    "\n",
    "    for i in range(n):\n",
    "        # Calculate the diagonal element L[i, i]\n",
    "        diag_sum = sum(L[i, k] * L[i, k]**q for k in range(i))\n",
    "        diag_val = A[i, i] - diag_sum\n",
    "        \n",
    "        # Check if diag_val has a square root in the field\n",
    "        if not diag_val.is_square():\n",
    "            raise ValueError(f\"No square root exists for the value at diagonal {i}: {diag_val}\")\n",
    "        \n",
    "        # Assign the square root of diag_val to L[i, i]\n",
    "        L[i, i] = diag_val.sqrt()\n",
    "        \n",
    "        # Calculate the off-diagonal elements L[j, i] for j > i\n",
    "        for j in range(i + 1, n):\n",
    "            off_diag_sum = sum(L[j, k] * L[i, k]**q for k in range(i))\n",
    "            L[j, i] = (A[j, i] - off_diag_sum) / L[i, i]\n",
    "\n",
    "    assert A == L * conjugate_pos_char(L).transpose()\n",
    "    \n",
    "    return L"
   ]
  },
  {
   "cell_type": "code",
   "execution_count": 54,
   "id": "0b54ec34-873d-419c-92b9-282fb1671030",
   "metadata": {},
   "outputs": [],
   "source": [
    "def cholesky_brute_force(U,q):\n",
    "    \"\"\"\n",
    "        Compute the Cholesky decomposition U = LL^* by brute force, where * denotes conjugate transpose and we are using the conjugation x |--> x^q.\n",
    "\n",
    "        This will only work for small values of q, n. We can look at representations of dimension d_rho = 2, 3, so that d_rho^2 = 4, 9. \n",
    "        \n",
    "        We work over GF(q^2) where we have square roots, for q=2, 3. If n=3,4, then p|n is problematic, but we can try q=5. \n",
    "\n",
    "        For example, for q=3, q^2=9, n=4, d_rho = 3, d_rho^2 = 9, we would have 9^9 = 387420489 possibilities.\n",
    "    \"\"\"\n",
    "    from itertools import product\n",
    "\n",
    "    # Define the finite field GF(3^2)\n",
    "    F = GF(q^2)\n",
    "    elements = list(F) # List of all elements in GF(3^2)\n",
    "\n",
    "    # Define the size of the matrix\n",
    "    n = U.nrows()\n",
    "    num_entries = n + (n * (n - 1)) // 2\n",
    "    num_iters = 0\n",
    "    \n",
    "    # Iterate over all possible combinations of elements\n",
    "    for a in product(elements, repeat=num_entries):\n",
    "        num_iters += 1\n",
    "        # Construct the lower triangular matrix\n",
    "        if n == 2:\n",
    "            L = matrix(F,[[a[0],0],[a[1],a[2]]])\n",
    "        if n ==3:\n",
    "            L = matrix(F, [[a[0], 0, 0],[a[1], a[2], 0],[a[3], a[4], a[5]]])\n",
    "    \n",
    "        if U == L * conjugate_pos_char(L).transpose():\n",
    "            return L\n",
    "    \n",
    "        if num_iters % 10^4 == 0:\n",
    "            print(float(num_iters / (q^2)^6))"
   ]
  },
  {
   "cell_type": "code",
   "execution_count": 16,
   "id": "1e13d603-b17a-4e2b-bdb7-b64b3b34ad4b",
   "metadata": {},
   "outputs": [
    {
     "name": "stdout",
     "output_type": "stream",
     "text": [
      "Elapsed time: 23.6245539188385 seconds\n"
     ]
    }
   ],
   "source": [
    "import time\n",
    "\n",
    "# Start the timer\n",
    "start_time = time.time()\n",
    "\n",
    "# Your loop or code block\n",
    "for i in range(10^9):\n",
    "    pass  # Replace with your code\n",
    "\n",
    "# End the timer\n",
    "end_time = time.time()\n",
    "\n",
    "# Calculate the elapsed time\n",
    "elapsed_time = end_time - start_time\n",
    "print(f\"Elapsed time: {elapsed_time} seconds\")"
   ]
  },
  {
   "cell_type": "code",
   "execution_count": 43,
   "id": "3f1539ff-ecaf-4fd2-88d6-f82bb5519a70",
   "metadata": {},
   "outputs": [
    {
     "data": {
      "text/plain": [
       "[1 2]\n",
       "[2 1]"
      ]
     },
     "execution_count": 43,
     "metadata": {},
     "output_type": "execute_result"
    }
   ],
   "source": [
    "U_0 = matrix(GF(3^2),[[1,2],[2,1]]); U_0"
   ]
  },
  {
   "cell_type": "code",
   "execution_count": 34,
   "id": "ba0de0e7-c5eb-4f18-bfc9-559b97e55d90",
   "metadata": {},
   "outputs": [
    {
     "data": {
      "text/plain": [
       "[1 2 2]\n",
       "[2 1 2]\n",
       "[2 2 1]"
      ]
     },
     "execution_count": 34,
     "metadata": {},
     "output_type": "execute_result"
    }
   ],
   "source": [
    "U_1 = matrix(GF(3^2),[[1,2,2],[2,1,2],[2,2,1]]); U_1"
   ]
  },
  {
   "cell_type": "code",
   "execution_count": 38,
   "id": "7278a2e5-1a87-4300-860e-811e49867ccf",
   "metadata": {},
   "outputs": [
    {
     "data": {
      "text/plain": [
       "[0 1 2]\n",
       "[1 0 1]\n",
       "[2 1 0]"
      ]
     },
     "execution_count": 38,
     "metadata": {},
     "output_type": "execute_result"
    }
   ],
   "source": [
    "U_2 = matrix(GF(3^2),[[0,1,2],[1,0,1],[2,1,0]]); U_2"
   ]
  },
  {
   "cell_type": "code",
   "execution_count": 50,
   "id": "f0f1010e-e29c-4321-a7d1-6a2288e25e89",
   "metadata": {},
   "outputs": [
    {
     "data": {
      "text/plain": [
       "[  z2 + 1        0]\n",
       "[2*z2 + 2        0]"
      ]
     },
     "execution_count": 50,
     "metadata": {},
     "output_type": "execute_result"
    }
   ],
   "source": [
    "cholesky_brute_force(U_0,q)"
   ]
  },
  {
   "cell_type": "code",
   "execution_count": null,
   "id": "ee442b4e-a2c9-44d0-a0b6-b27751600611",
   "metadata": {},
   "outputs": [],
   "source": []
  }
 ],
 "metadata": {
  "kernelspec": {
   "display_name": "SageMath 10.4",
   "language": "sage",
   "name": "sagemath-10.4"
  },
  "language_info": {
   "codemirror_mode": {
    "name": "ipython",
    "version": 3
   },
   "file_extension": ".py",
   "mimetype": "text/x-python",
   "name": "python",
   "nbconvert_exporter": "python",
   "pygments_lexer": "ipython3",
   "version": "3.12.4"
  }
 },
 "nbformat": 4,
 "nbformat_minor": 5
}
