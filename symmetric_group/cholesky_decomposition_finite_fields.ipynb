{
 "cells": [
  {
   "cell_type": "code",
   "execution_count": 2,
   "id": "71fa2c76-6900-4b20-892d-6816dbe17aa9",
   "metadata": {},
   "outputs": [],
   "source": [
    "\"\"\"\n",
    "NOTES:\n",
    "- for n=2, a Cholesky decomposition exists but for n >= 3 a brute force search of lower triangular matrices over GF(3^2) for one of the 3x3 matrices U associated to an S_n-invariant symmetric bilinear form reveals there is no such matrix L such that U = LL^*\n",
    "- this is because the lower triangular condition is too stringent. there is a decomposition if we allow general matrices, which can be computed using BaseChangeToCanonical in the GAP `forms` package.\n",
    "\n",
    "\"\"\";"
   ]
  },
  {
   "cell_type": "code",
   "execution_count": 1,
   "id": "12650288-05fa-4031-bd1e-6c8e5d5068bf",
   "metadata": {},
   "outputs": [],
   "source": [
    "\"\"\"\n",
    "gap> LoadPackage(\"forms\");\n",
    "forms has BaseChangeToCanonical, which according to the docs, does the base change you'd like to see.\n",
    "E.g.\n",
    "\n",
    "$ gap\n",
    " ┌───────┐   GAP 4.13.1 of 2024-06-11\n",
    " │  GAP  │   https://www.gap-system.org\n",
    " └───────┘   Architecture: amd64\n",
    " Configuration:  gmp 6.3.0, GASMAN, readline\n",
    " Loading the library and packages ...\n",
    " Packages:   Alnuth 3.2.1, AtlasRep 2.1.8, AutPGrp 1.11, CRISP 1.4.6, CTblLib 1.3.9, \n",
    "             FactInt 1.6.3, FGA 1.5.0, GAPDoc 1.6.7, IO 4.8.2, IRREDSOL 1.4.4, LAGUNA 3.9.6, \n",
    "             Polenta 1.3.10, Polycyclic 2.16, PrimGrp 3.4.4, RadiRoot 2.9, ResClasses 4.7.3, \n",
    "             SmallGrp 1.5.3, Sophus 1.27, TomLib 1.2.11, TransGrp 3.6.5, utils 0.84\n",
    " Try '??help' for help. See also '?copyright', '?cite' and '?authors'\n",
    "gap> LoadPackage(\"forms\");\n",
    "---------------------------------------------------------------------\n",
    "Loading 'Forms' 1.2.12 (30/08/2024)\n",
    "by John Bamberg (http://school.maths.uwa.edu.au/~bamberg/)\n",
    "   Jan De Beule (http://www.debeule.eu)\n",
    "For help, type: ?Forms \n",
    "---------------------------------------------------------------------\n",
    "true\n",
    "gap> u2:=Z(3)^0*[[0,1,2],[1,0,1],[2,1,0]];\n",
    "[ [ 0*Z(3), Z(3)^0, Z(3) ], [ Z(3)^0, 0*Z(3), Z(3)^0 ], [ Z(3), Z(3)^0, 0*Z(3) ] ]\n",
    "gap> form := HermitianFormByMatrix( u2, GF(3^2) );\n",
    "< hermitian form >\n",
    "gap> b:=BaseChangeToCanonical(form);\n",
    "[ [ Z(3)^0, Z(3^2), 0*Z(3) ], [ Z(3^2)^3, Z(3^2)^2, 0*Z(3) ], [ Z(3^2)^3, Z(3^2)^7, Z(3^2)^7 ] \n",
    " ]\n",
    "gap> bstar:=List(TransposedMat(b),x->List(x,y->y^3));\n",
    "[ [ Z(3)^0, Z(3^2), Z(3^2) ], [ Z(3^2)^3, Z(3^2)^6, Z(3^2)^5 ], [ 0*Z(3), 0*Z(3), Z(3^2)^5 ] ]\n",
    "gap> Display(b*u2*bstar);\n",
    " 1 . .\n",
    " . 1 .\n",
    " . . 1\n",
    "gap>\n",
    "\"\"\";"
   ]
  },
  {
   "cell_type": "code",
   "execution_count": 5,
   "id": "3f1539ff-ecaf-4fd2-88d6-f82bb5519a70",
   "metadata": {},
   "outputs": [
    {
     "data": {
      "text/plain": [
       "[1 2]\n",
       "[2 1]"
      ]
     },
     "execution_count": 5,
     "metadata": {},
     "output_type": "execute_result"
    }
   ],
   "source": [
    "U_0 = matrix(GF(3^2),[[1,2],[2,1]]); U_0"
   ]
  },
  {
   "cell_type": "code",
   "execution_count": 8,
   "id": "ba0de0e7-c5eb-4f18-bfc9-559b97e55d90",
   "metadata": {},
   "outputs": [
    {
     "data": {
      "text/plain": [
       "[1 2 2]\n",
       "[2 1 2]\n",
       "[2 2 1]"
      ]
     },
     "execution_count": 8,
     "metadata": {},
     "output_type": "execute_result"
    }
   ],
   "source": [
    "U_1 = matrix(GF(3^2),[[1,2,2],[2,1,2],[2,2,1]]); U_1"
   ]
  },
  {
   "cell_type": "code",
   "execution_count": 9,
   "id": "7278a2e5-1a87-4300-860e-811e49867ccf",
   "metadata": {},
   "outputs": [
    {
     "data": {
      "text/plain": [
       "[0 1 2]\n",
       "[1 0 1]\n",
       "[2 1 0]"
      ]
     },
     "execution_count": 9,
     "metadata": {},
     "output_type": "execute_result"
    }
   ],
   "source": [
    "U_2 = matrix(GF(3^2),[[0,1,2],[1,0,1],[2,1,0]]); U_2"
   ]
  },
  {
   "cell_type": "code",
   "execution_count": 2,
   "id": "ee442b4e-a2c9-44d0-a0b6-b27751600611",
   "metadata": {},
   "outputs": [],
   "source": []
  },
  {
   "cell_type": "code",
   "execution_count": null,
   "id": "289a203c-1de2-485d-afcb-a00a876d4a71",
   "metadata": {},
   "outputs": [],
   "source": []
  }
 ],
 "metadata": {
  "kernelspec": {
   "display_name": "SageMath 10.4",
   "language": "sage",
   "name": "sagemath-10.4"
  },
  "language_info": {
   "codemirror_mode": {
    "name": "ipython",
    "version": 3
   },
   "file_extension": ".py",
   "mimetype": "text/x-python",
   "name": "python",
   "nbconvert_exporter": "python",
   "pygments_lexer": "ipython3",
   "version": "3.12.4"
  }
 },
 "nbformat": 4,
 "nbformat_minor": 5
}
