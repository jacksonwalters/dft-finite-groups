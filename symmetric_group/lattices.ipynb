{
 "cells": [
  {
   "cell_type": "code",
   "execution_count": 1,
   "id": "042d0b1f-1046-4449-a6b2-12914d541d3d",
   "metadata": {},
   "outputs": [],
   "source": [
    "#determine the lattice formed by the span of columns/rows of unitary DFT of symmetric group over a number field\n",
    "#note that the ring of integers \\mathcal{O}_K of a number field K are a lattice in K\n",
    "#that is, they are a discrete \\Z-module and in fact an \\mathcal{O}_K-module over themselves by mutliplcation"
   ]
  },
  {
   "cell_type": "code",
   "execution_count": 2,
   "id": "f9e6ba9e-972d-4821-b0b7-3ce066dde5ee",
   "metadata": {},
   "outputs": [],
   "source": [
    "R = QQ"
   ]
  },
  {
   "cell_type": "code",
   "execution_count": 3,
   "id": "af467af3-7413-44d6-b6df-36bc4079b767",
   "metadata": {},
   "outputs": [
    {
     "data": {
      "text/plain": [
       "Number Field in sqrt3 with defining polynomial x^2 - 3 over its base field"
      ]
     },
     "execution_count": 3,
     "metadata": {},
     "output_type": "execute_result"
    }
   ],
   "source": [
    "K = R.extension(x**2 - 2,'sqrt2'); K = K.extension(x**2 - 3,'sqrt3'); K"
   ]
  },
  {
   "cell_type": "code",
   "execution_count": 4,
   "id": "40b21474-324e-4fb6-a924-9f13f21164c2",
   "metadata": {},
   "outputs": [
    {
     "data": {
      "text/plain": [
       "4"
      ]
     },
     "execution_count": 4,
     "metadata": {},
     "output_type": "execute_result"
    }
   ],
   "source": [
    "K.absolute_degree()"
   ]
  },
  {
   "cell_type": "code",
   "execution_count": 8,
   "id": "c5cca5b2-0550-40a7-9812-584977a71900",
   "metadata": {},
   "outputs": [],
   "source": [
    "sqrt2 = sqrt(K(2)); sqrt3 = sqrt(K(3))"
   ]
  },
  {
   "cell_type": "code",
   "execution_count": 15,
   "id": "01456ed6-232c-4d63-930a-f5dfff41c53e",
   "metadata": {},
   "outputs": [],
   "source": [
    "M=matrix(K,[[-1/6*sqrt2*sqrt3,-1/6*sqrt2*sqrt3,-1/6*sqrt2*sqrt3,-1/6*sqrt2*sqrt3,-1/6*sqrt2*sqrt3,-1/6*sqrt2*sqrt3],\n",
    "[-1/3*sqrt3,0,1/2,1/6*sqrt3,1/6*sqrt3,-1/2],\n",
    "[0,-1/3*sqrt3,1/6*sqrt3,1/2,-1/2,1/6*sqrt3],\n",
    "[0,-1/3*sqrt3,1/6*sqrt3,-1/2,1/2,1/6*sqrt3],\n",
    "[-1/3*sqrt3,0,-1/2,1/6*sqrt3,1/6*sqrt3,1/2],\n",
    "[-1/6*sqrt2*sqrt3,1/6*sqrt2*sqrt3,1/6*sqrt2*sqrt3,-1/6*sqrt2*sqrt3,-1/6*sqrt2*sqrt3,1/6*sqrt2*sqrt3]])"
   ]
  },
  {
   "cell_type": "code",
   "execution_count": 19,
   "id": "cdc6b968-e2f5-4e4c-a917-903789c2238a",
   "metadata": {},
   "outputs": [
    {
     "data": {
      "text/plain": [
       "False"
      ]
     },
     "execution_count": 19,
     "metadata": {},
     "output_type": "execute_result"
    }
   ],
   "source": [
    "M == M.transpose()"
   ]
  },
  {
   "cell_type": "code",
   "execution_count": null,
   "id": "186b3104-2bc6-46dc-ad19-e96828348d63",
   "metadata": {},
   "outputs": [],
   "source": []
  }
 ],
 "metadata": {
  "kernelspec": {
   "display_name": "SageMath 10.4",
   "language": "sage",
   "name": "sagemath-10.4"
  },
  "language_info": {
   "codemirror_mode": {
    "name": "ipython",
    "version": 3
   },
   "file_extension": ".py",
   "mimetype": "text/x-python",
   "name": "python",
   "nbconvert_exporter": "python",
   "pygments_lexer": "ipython3",
   "version": "3.12.4"
  }
 },
 "nbformat": 4,
 "nbformat_minor": 5
}
