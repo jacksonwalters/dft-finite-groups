{
 "cells": [
  {
   "cell_type": "code",
   "execution_count": null,
   "id": "042d0b1f-1046-4449-a6b2-12914d541d3d",
   "metadata": {},
   "outputs": [],
   "source": [
    "#determine the lattice formed by the span of columns/rows of unitary DFT of symmetric group over a number field\n",
    "#note that the ring of integers \\mathcal{O}_K of a number field K are a lattice in K\n",
    "#that is, they are a discrete \\Z-module and in fact an \\mathcal{O}_K-module over themselves by mutliplcation"
   ]
  }
 ],
 "metadata": {
  "kernelspec": {
   "display_name": "Python 3 (ipykernel)",
   "language": "python",
   "name": "python3"
  },
  "language_info": {
   "codemirror_mode": {
    "name": "ipython",
    "version": 3
   },
   "file_extension": ".py",
   "mimetype": "text/x-python",
   "name": "python",
   "nbconvert_exporter": "python",
   "pygments_lexer": "ipython3",
   "version": "3.9.6"
  }
 },
 "nbformat": 4,
 "nbformat_minor": 5
}
