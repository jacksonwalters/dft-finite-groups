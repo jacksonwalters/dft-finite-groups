{
 "cells": [
  {
   "cell_type": "code",
   "execution_count": 4,
   "id": "e5fa7439-9967-496e-b27a-6c2564f7f9ca",
   "metadata": {},
   "outputs": [],
   "source": [
    "#define a new DFT which is unitary\n",
    "#NOTE: in Beals' ['97] he normalizes by \\sqrt{d_\\lambda/n!}\n",
    "#but also notes that a basis change is an equivalence relation on rep'ns\n",
    "#and each equivalence class contains a unitary representatione\n",
    "#if each rep'n \\rho \\in \\hat{G} is unitary, then the transformation is unitary\n",
    "#these representations are not unitary\n",
    "#to make them unitary, use Weyl's unitary trick\n",
    "#OPTION 1: use the formula P = \\int_G \\rho(g)\\rho(g)^* dg, and take a square root to find Q s.t. P = Q^2\n",
    "#OPTION 2: define a new invariant inner product compute an orthonormal basis by computing the Gram matrix A and using A.gram_schmidt()"
   ]
  },
  {
   "cell_type": "code",
   "execution_count": 5,
   "id": "f4f39b63-d30d-445e-8cde-3ea75a3c64d3",
   "metadata": {},
   "outputs": [],
   "source": [
    "#compute a field which contains all the square roots required\n",
    "def containing_field(SGA):\n",
    "    required_square_roots = []\n",
    "    for partition in Partitions(SGA.group().degree()):\n",
    "        specht_module = SGA.specht_module(partition)\n",
    "        rho = specht_module.representation_matrix\n",
    "        group_size = SGA.group().cardinality()\n",
    "        P = (1/group_size)*sum(rho(g)*rho(g).conjugate().transpose() for g in SGA.group())\n",
    "        d, L = P.eigenmatrix_left()\n",
    "        required_square_roots += [specht_module.dimension(),SGA.group().cardinality()] + d.diagonal()\n",
    "    required_square_roots = flatten([[QQ(q).numerator(),QQ(q).denominator()] if q in QQ else q for q in required_square_roots])\n",
    "    K = SGA.base_ring()\n",
    "    for n in set(required_square_roots):\n",
    "        R = PolynomialRing(K, 'x')\n",
    "        x = R.gen()\n",
    "        if n.is_rational() and (x**2-n).is_irreducible():\n",
    "            gen_name = \"sqrt\"+str(n).replace(\"/\",\"over\")\n",
    "            K = K.extension(x**2-n,names=gen_name)\n",
    "        #NOTE: the required square roots are not all integers. some of them are algebraic numbers\n",
    "        if not n.is_rational() and sqrt(n).minpoly().is_irreducible():\n",
    "            gen_name = \"deg\" + str(n.minpoly().degree()) + \"index\" + str(list(set(required_square_roots)).index(n))\n",
    "            K = K.extension(sqrt(n).minpoly(),names=gen_name)\n",
    "    return K"
   ]
  },
  {
   "cell_type": "code",
   "execution_count": 6,
   "id": "ceef00d1-d036-4f68-b585-79fe3f1c6807",
   "metadata": {},
   "outputs": [],
   "source": [
    "#find the change-of-basis matrix Q making \\rho(g) unitary for all g \\in G\n",
    "from sage.matrix.special import diagonal_matrix\n",
    "from sage.misc.functional import sqrt\n",
    "def unitary_change_of_basis(SGA,partition,K):\n",
    "    rho = SGA.specht_module(partition).representation_matrix\n",
    "    group_size = SGA.group().cardinality()\n",
    "    P = (1/group_size)*sum(rho(g)*rho(g).conjugate().transpose() for g in SGA.group())\n",
    "    d, L = P.eigenmatrix_left()\n",
    "    return L.inverse() * diagonal_matrix([sqrt(K(a)) for a in d.diagonal()]) * L"
   ]
  },
  {
   "cell_type": "code",
   "execution_count": 7,
   "id": "aca07005-770f-4a0f-bd28-f6c3a5446787",
   "metadata": {},
   "outputs": [],
   "source": [
    "#define the Fourier coefficient at the representation specht_module\n",
    "#which is the Specht module corresponding to partition\n",
    "def hat(f,partition,SGA,K,unitary=False):\n",
    "    specht_module = SGA.specht_module(partition)\n",
    "    rho = specht_module.representation_matrix\n",
    "    if unitary:\n",
    "        Q = unitary_change_of_basis(SGA,partition,K)\n",
    "        unitary_factor = specht_module.dimension()/SGA.group().cardinality()\n",
    "        sqrt_unitary_factor = sqrt(K(unitary_factor))\n",
    "        return sqrt_unitary_factor*sum(f(g)*Q.inverse()*rho(g)*Q for g in SGA.group())\n",
    "    else:\n",
    "        return sum(f(g)*rho(g) for g in SGA.group())"
   ]
  },
  {
   "cell_type": "code",
   "execution_count": 8,
   "id": "dad4c039-cddd-4d55-8be4-09dff460fbb8",
   "metadata": {},
   "outputs": [],
   "source": [
    "#for each basis element g \\in G compute the Fourier coefficients \\hat{\\delta_g}(partition) for all partitions\n",
    "from sage.misc.flatten import flatten\n",
    "delta = lambda s: lambda t: 1 if t == s else 0 #delta function \\delta_s(t)\n",
    "def dft(SGA,unitary=False):\n",
    "    K = containing_field(SGA)\n",
    "    fourier_transform = [flatten([hat(delta(g),partition,SGA,K,unitary).list() for partition in Partitions(SGA.group().degree())]) for g in SGA.group()]\n",
    "    if unitary:\n",
    "        return matrix(K,fourier_transform).transpose()\n",
    "    else:\n",
    "        return matrix(fourier_transform).transpose()"
   ]
  },
  {
   "cell_type": "code",
   "execution_count": 9,
   "id": "1d123573-fd82-4429-aa0b-5737739e6473",
   "metadata": {},
   "outputs": [],
   "source": [
    "n = 3"
   ]
  },
  {
   "cell_type": "code",
   "execution_count": 10,
   "id": "279b49c8-3b66-4689-a755-26dce655f9d6",
   "metadata": {},
   "outputs": [
    {
     "data": {
      "text/plain": [
       "Symmetric group algebra of order 3 over Rational Field"
      ]
     },
     "execution_count": 10,
     "metadata": {},
     "output_type": "execute_result"
    }
   ],
   "source": [
    "SGA = SymmetricGroupAlgebra(QQ,n); SGA"
   ]
  },
  {
   "cell_type": "code",
   "execution_count": 11,
   "id": "8c2d8748-b9d5-4ed8-94e7-14daceb60e60",
   "metadata": {},
   "outputs": [
    {
     "data": {
      "text/plain": [
       "Number Field in sqrt3 with defining polynomial x^2 - 3 over its base field"
      ]
     },
     "execution_count": 11,
     "metadata": {},
     "output_type": "execute_result"
    }
   ],
   "source": [
    "K = containing_field(SGA); K"
   ]
  },
  {
   "cell_type": "code",
   "execution_count": 12,
   "id": "22df4b4d-2712-459f-bbf4-7336e8395d60",
   "metadata": {},
   "outputs": [
    {
     "data": {
      "text/plain": [
       "Number Field in sqrt2 with defining polynomial x^2 - 2"
      ]
     },
     "execution_count": 12,
     "metadata": {},
     "output_type": "execute_result"
    }
   ],
   "source": [
    "K.base_ring()"
   ]
  },
  {
   "cell_type": "code",
   "execution_count": 13,
   "id": "ddf55970-a7d3-4b70-aa14-6e2e1c3b3177",
   "metadata": {},
   "outputs": [
    {
     "data": {
      "text/plain": [
       "Standard permutations of 3"
      ]
     },
     "execution_count": 13,
     "metadata": {},
     "output_type": "execute_result"
    }
   ],
   "source": [
    "G = SGA.group(); G"
   ]
  },
  {
   "cell_type": "code",
   "execution_count": 14,
   "id": "1b2edd70-15e8-46b2-a4b8-b7b6e1a62f25",
   "metadata": {},
   "outputs": [
    {
     "data": {
      "text/plain": [
       "[   1    1    1    1    1    1]\n",
       "[   1  1/2   -1 -1/2 -1/2  1/2]\n",
       "[   0  3/4    0  3/4 -3/4 -3/4]\n",
       "[   0    1    0   -1    1   -1]\n",
       "[   1 -1/2    1 -1/2 -1/2 -1/2]\n",
       "[   1   -1   -1    1    1   -1]"
      ]
     },
     "execution_count": 14,
     "metadata": {},
     "output_type": "execute_result"
    }
   ],
   "source": [
    "SGA_dft = SGA.dft(); SGA_dft"
   ]
  },
  {
   "cell_type": "code",
   "execution_count": 15,
   "id": "6df6046c-68f4-4e02-8f54-e7fb57c47349",
   "metadata": {},
   "outputs": [
    {
     "data": {
      "text/plain": [
       "[  6   0   0   0   0   0]\n",
       "[  0   3   0   0   0   0]\n",
       "[  0   0 9/4   0   0   0]\n",
       "[  0   0   0   4   0   0]\n",
       "[  0   0   0   0   3   0]\n",
       "[  0   0   0   0   0   6]"
      ]
     },
     "execution_count": 15,
     "metadata": {},
     "output_type": "execute_result"
    }
   ],
   "source": [
    "#check if A*A^T == Id. it's not, but the columns are orthonormal\n",
    "SGA_dft*SGA_dft.transpose()"
   ]
  },
  {
   "cell_type": "code",
   "execution_count": 16,
   "id": "2503a178-95f8-470f-b4d8-d13c520df4fa",
   "metadata": {},
   "outputs": [
    {
     "data": {
      "text/plain": [
       "[-1/6*sqrt2*sqrt3 -1/6*sqrt2*sqrt3 -1/6*sqrt2*sqrt3 -1/6*sqrt2*sqrt3 -1/6*sqrt2*sqrt3 -1/6*sqrt2*sqrt3]\n",
       "[      -1/3*sqrt3                0              1/2        1/6*sqrt3        1/6*sqrt3             -1/2]\n",
       "[               0       -1/3*sqrt3        1/6*sqrt3              1/2             -1/2        1/6*sqrt3]\n",
       "[               0       -1/3*sqrt3        1/6*sqrt3             -1/2              1/2        1/6*sqrt3]\n",
       "[      -1/3*sqrt3                0             -1/2        1/6*sqrt3        1/6*sqrt3              1/2]\n",
       "[-1/6*sqrt2*sqrt3  1/6*sqrt2*sqrt3  1/6*sqrt2*sqrt3 -1/6*sqrt2*sqrt3 -1/6*sqrt2*sqrt3  1/6*sqrt2*sqrt3]"
      ]
     },
     "execution_count": 16,
     "metadata": {},
     "output_type": "execute_result"
    }
   ],
   "source": [
    "#compute the unitary DFT of the symmetric group algebra\n",
    "U_dft = dft(SGA,unitary=True); U_dft"
   ]
  },
  {
   "cell_type": "code",
   "execution_count": 17,
   "id": "cf96731b-2f63-449b-bcb9-88bd015d4dfd",
   "metadata": {},
   "outputs": [
    {
     "data": {
      "text/plain": [
       "[1 0 0 0 0 0]\n",
       "[0 1 0 0 0 0]\n",
       "[0 0 1 0 0 0]\n",
       "[0 0 0 1 0 0]\n",
       "[0 0 0 0 1 0]\n",
       "[0 0 0 0 0 1]"
      ]
     },
     "execution_count": 17,
     "metadata": {},
     "output_type": "execute_result"
    }
   ],
   "source": [
    "U_dft*U_dft.conjugate().transpose()"
   ]
  },
  {
   "cell_type": "code",
   "execution_count": 18,
   "id": "8ba7dfc6-7632-4519-93a9-74680ed23263",
   "metadata": {},
   "outputs": [
    {
     "data": {
      "text/plain": [
       "True"
      ]
     },
     "execution_count": 18,
     "metadata": {},
     "output_type": "execute_result"
    }
   ],
   "source": [
    "#check that the DFT is unitary\n",
    "(U_dft*U_dft.transpose()) == identity_matrix(SGA.group().cardinality())"
   ]
  },
  {
   "cell_type": "code",
   "execution_count": 19,
   "id": "45e8804f-368c-49d1-b073-219eadd8f3ed",
   "metadata": {},
   "outputs": [],
   "source": [
    "#QUESTION: what are the eigenvalues?\n",
    "#for n=3, the minimal polynomial is degree 24 for the eigenvalues. [L:\\Q] = 192, [L:K] = |Gal(L/K)| = [L:\\Q]/[K:\\Q] = 192/4 = 48\n",
    "#there is only one subgroup of order 48 in S_6, S_2 x S_4. however, there is only one transitive permutation group, S_2 \\wr S_3\n",
    "#the eigenvalues are not roots of unity since min_poly(x) has rational coefficients and cyclotomic polynomials have integer coefficients"
   ]
  },
  {
   "cell_type": "code",
   "execution_count": 20,
   "id": "2a995534-79fe-4563-a07a-187cf2cfc77c",
   "metadata": {},
   "outputs": [
    {
     "data": {
      "text/plain": [
       "x^6 + (-1/3*sqrt3 + 1/2)*x^5 + ((1/6*sqrt2 - 1/6)*sqrt3 - 1/3*sqrt2 - 1/3)*x^4 + ((1/3*sqrt2 + 1/3)*sqrt3 - 1/2*sqrt2)*x^3 + ((1/6*sqrt2 - 1/6)*sqrt3 - 1/3*sqrt2 - 1/3)*x^2 + (-1/3*sqrt3 + 1/2)*x + 1"
      ]
     },
     "execution_count": 20,
     "metadata": {},
     "output_type": "execute_result"
    }
   ],
   "source": [
    "U_dft.charpoly()"
   ]
  },
  {
   "cell_type": "code",
   "execution_count": 21,
   "id": "077ce28b-5e2c-4b73-bfb0-70072c4e9452",
   "metadata": {},
   "outputs": [],
   "source": [
    "#ISSUE: the splitting field appears to be high degree, and the coefficients are large\n",
    "if len(U_dft.charpoly().factor()) != U_dft.charpoly().degree():\n",
    "    L.<a> = U_dft.charpoly().splitting_field(map=False); L\n",
    "else:\n",
    "    L = K"
   ]
  },
  {
   "cell_type": "code",
   "execution_count": null,
   "id": "425bcbc2-67b2-4359-84c2-6caf2b00f062",
   "metadata": {},
   "outputs": [],
   "source": [
    "#compute the degrees\n",
    "if L != L.algebraic_closure():\n",
    "    L_deg = L.absolute_degree(); print(L_deg)\n",
    "    L_rel = L_deg/K.absolute_degree(); print(L_rel)"
   ]
  },
  {
   "cell_type": "code",
   "execution_count": null,
   "id": "4f74a4a1-a5d8-4481-81f4-ad01cc2df694",
   "metadata": {},
   "outputs": [],
   "source": [
    "#getting PARI stack size error\n",
    "pari.allocatemem(10^10)\n",
    "pari.stacksize()"
   ]
  },
  {
   "cell_type": "code",
   "execution_count": null,
   "id": "f3e7ef8d-86fc-4303-9f89-99897a623e2d",
   "metadata": {},
   "outputs": [],
   "source": [
    "#form relative exrtension M. attempt to compute Galois group\n",
    "#for a splitting field L, we should have [L:K] = |Gal(L/K)|\n",
    "if U_dft.charpoly().is_irreducible():\n",
    "    M.<b> = K.extension(U_dft.charpoly()); M"
   ]
  },
  {
   "cell_type": "code",
   "execution_count": null,
   "id": "c019b331-f022-4289-a311-c76c0cb9a4eb",
   "metadata": {},
   "outputs": [],
   "source": [
    "#look at all subgroups of order [L:K] in S_d where d is the degree of the polynomial\n",
    "#for n=3, [L:K] = 48 and it appears there is exactly one subgroup of order 48 up to isomorphism\n",
    "subgroups_order_48_in_sym = [H for H in SymmetricGroup(6).subgroups() if H.order() == 48]\n",
    "all([subgroups_order_48_in_sym[0].is_isomorphic(H) for H in subgroups_order_48_in_sym])"
   ]
  },
  {
   "cell_type": "code",
   "execution_count": null,
   "id": "248ad9f8-d64c-40b6-88b9-d7a23f4a0313",
   "metadata": {},
   "outputs": [],
   "source": [
    "#one can factor the polynomial over a splitting field L/K\n",
    "#but there is no way to express the roots of a quintic in terms of radicals\n",
    "try:\n",
    "    eigs = matrix(L,U_dft).eigenvalues(extend=False)\n",
    "except TypeError:\n",
    "    print(\"Cannot express eigenvalues in terms of radicals since polynomial is a quintic or above.\")"
   ]
  },
  {
   "cell_type": "code",
   "execution_count": null,
   "id": "c2e92da4-6440-448b-9211-15aa8ddec3f4",
   "metadata": {},
   "outputs": [],
   "source": [
    "eigs"
   ]
  },
  {
   "cell_type": "code",
   "execution_count": null,
   "id": "94ad338a-c3a4-4226-8378-58516d570241",
   "metadata": {},
   "outputs": [],
   "source": [
    "[arg(eig).n(20) for eig in eigs]"
   ]
  },
  {
   "cell_type": "code",
   "execution_count": null,
   "id": "9800ad85-ec1c-40fb-bec4-a8d44f63c548",
   "metadata": {},
   "outputs": [],
   "source": [
    "eigs[4].minpoly()"
   ]
  },
  {
   "cell_type": "code",
   "execution_count": null,
   "id": "11c97a76-d606-40db-a38e-fb0350836904",
   "metadata": {},
   "outputs": [],
   "source": [
    "U_dft.charpoly().discriminant()"
   ]
  },
  {
   "cell_type": "code",
   "execution_count": null,
   "id": "29767fbd-6c2a-4671-b91c-a9d452956713",
   "metadata": {},
   "outputs": [],
   "source": [
    "-sqrt(K(3))"
   ]
  },
  {
   "cell_type": "code",
   "execution_count": null,
   "id": "325e2a40-277e-4c61-921d-58005e982e94",
   "metadata": {},
   "outputs": [],
   "source": [
    "((-213828613/1679616*(sqrt(2)) + 85996015/69984)*(sqrt(3)) + 348251435/62208*(sqrt(2)) - 33598899709/3359232).n()"
   ]
  },
  {
   "cell_type": "code",
   "execution_count": null,
   "id": "14cbad6c-4016-4b14-9ce0-415b9d90f2c1",
   "metadata": {},
   "outputs": [],
   "source": [
    "#n=3: two real, two complex\n",
    "#n=4: all complex\n",
    "#the magnitude is not 1, they're closely grouped around 2 or 3"
   ]
  },
  {
   "cell_type": "code",
   "execution_count": null,
   "id": "33046e01-08a6-4324-9c30-d908bf1c2256",
   "metadata": {},
   "outputs": [],
   "source": [
    "SGA_dft.base_ring()"
   ]
  },
  {
   "cell_type": "code",
   "execution_count": null,
   "id": "2caebbde-e05f-416d-a06f-b1d8d8c53ebb",
   "metadata": {},
   "outputs": [],
   "source": [
    "SGA_eigs = SGA_dft.eigenvalues(); SGA_eigs"
   ]
  },
  {
   "cell_type": "code",
   "execution_count": null,
   "id": "edb1c420-f44a-4cb3-9fb3-2ffa17dee539",
   "metadata": {},
   "outputs": [],
   "source": [
    "[abs(eig) for eig in SGA_eigs]"
   ]
  },
  {
   "cell_type": "code",
   "execution_count": null,
   "id": "65cb3bc4-b509-4b7b-81d7-da293174d156",
   "metadata": {},
   "outputs": [],
   "source": [
    "SGA_eigs[0].minpoly()"
   ]
  },
  {
   "cell_type": "code",
   "execution_count": null,
   "id": "5a48909b-3b9a-437c-a778-e81f28f3735b",
   "metadata": {},
   "outputs": [],
   "source": [
    "#note that the singluar values are the square roots of the diagonal entries of the Gram matrix\n",
    "print(SymmetricGroup(n).algebra(CDF).dft().SVD()[1].numpy().diagonal())\n",
    "print(sqrt((SGA_dft*SGA_dft.transpose()).numpy().diagonal()))"
   ]
  }
 ],
 "metadata": {
  "kernelspec": {
   "display_name": "SageMath 10.4",
   "language": "sage",
   "name": "sagemath-10.4"
  },
  "language_info": {
   "codemirror_mode": {
    "name": "ipython",
    "version": 3
   },
   "file_extension": ".py",
   "mimetype": "text/x-python",
   "name": "python",
   "nbconvert_exporter": "python",
   "pygments_lexer": "ipython3",
   "version": "3.12.4"
  }
 },
 "nbformat": 4,
 "nbformat_minor": 5
}
