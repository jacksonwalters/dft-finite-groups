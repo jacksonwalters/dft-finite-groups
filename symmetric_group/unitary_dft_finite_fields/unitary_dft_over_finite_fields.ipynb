{
 "cells": [
  {
   "cell_type": "code",
   "execution_count": 1,
   "id": "ba61a7c6-db85-4449-bd7a-b6209451b0a4",
   "metadata": {},
   "outputs": [],
   "source": [
    "#compute the uDFT by noting DFT.DFT^* = D, a diagonal matrix, and factoring as D = RR^*, so uDFT = R^{-1}.DFT\n",
    "#alternately, one could use unitary representations and normalization factors \\sqrt{d_\\rho/|G|}\n",
    "#the resulting DFT will have signs \\pm 1 on the diagonal DFT.DFT^* = S, which can be factored as s = rr^*, so S=RR^*\n",
    "#again, uDFT = R^{-1}.DFT"
   ]
  },
  {
   "cell_type": "code",
   "execution_count": 87,
   "id": "367e923c-c757-478e-bedd-e752e8792357",
   "metadata": {},
   "outputs": [],
   "source": [
    "#for u in GF(q), we can factor as u=aa^*=aa^q=a^{q+1} in GF(q**2) using gen. z and modular arithmetic\n",
    "def conj_sqrt(u):\n",
    "    if u == 0:\n",
    "        return 0\n",
    "    z = u.parent().multiplicative_generator()\n",
    "    k = u.log(z)  # Compute discrete log of u to the base z\n",
    "    if k % (q+1) != 0:\n",
    "        raise ValueError(\"exponent must be divisible by q+1\")\n",
    "    return z ** (k//(q+1))"
   ]
  },
  {
   "cell_type": "code",
   "execution_count": 88,
   "id": "d436942b-2764-48cb-a318-e943960b671d",
   "metadata": {},
   "outputs": [],
   "source": [
    "#compute the uDFT by noting DFT.DFT^* = D, a diagonal matrix, and factoring as D = RR^*, so uDFT = R^{-1}.DFT\n",
    "def unitary_dft():\n",
    "    dft_matrix = SGA.dft()\n",
    "    sign_diag = (dft_matrix*dft_matrix.H).diagonal()\n",
    "    factor_diag_inv = diagonal_matrix([~conj_sqrt(d) for d in sign_diag])\n",
    "    return factor_diag_inv*dft_matrix"
   ]
  },
  {
   "cell_type": "code",
   "execution_count": 89,
   "id": "8638af45-82cd-4ee0-936d-3fdbeb482f32",
   "metadata": {},
   "outputs": [],
   "source": [
    "#parameters and define the symmetric group algebra\n",
    "n = 4; q = 7\n",
    "F = GF(q**2)\n",
    "SGA = SymmetricGroupAlgebra(F,n) # F[S_n], group algebra\n",
    "assert F.characteristic() > 0, \"F must have positive characteristic\"\n",
    "if not (F.is_field() and F.is_finite() and F.order().is_square()):\n",
    "    raise ValueError(\"the base ring must be a finite field of square order\")\n",
    "if F.characteristic().divides(SGA.group().cardinality()):\n",
    "    raise NotImplementedError(\"not implemented when p|n!; dimension of invariant forms may be greater than one\")"
   ]
  },
  {
   "cell_type": "code",
   "execution_count": 90,
   "id": "1251c71a-3b52-43e8-bf6d-8f3dea6e4007",
   "metadata": {},
   "outputs": [
    {
     "data": {
      "text/plain": [
       "24 x 24 dense matrix over Finite Field in z2 of size 7^2 (use the '.str()' method to see the entries)"
      ]
     },
     "execution_count": 90,
     "metadata": {},
     "output_type": "execute_result"
    }
   ],
   "source": [
    "#converting the unitary DFT over finite fields to a complex matrix using the root of unity map\n",
    "U = unitary_dft(); U"
   ]
  },
  {
   "cell_type": "code",
   "execution_count": 91,
   "id": "58cdb5f2-a153-4884-9aab-906d8f9464b5",
   "metadata": {},
   "outputs": [
    {
     "data": {
      "text/plain": [
       "True"
      ]
     },
     "execution_count": 91,
     "metadata": {},
     "output_type": "execute_result"
    }
   ],
   "source": [
    "#check that U is unitary over a finite field. .H is conjugate-transpose\n",
    "U*U.H == 1"
   ]
  },
  {
   "cell_type": "code",
   "execution_count": 92,
   "id": "741f25cc-52c7-43c1-8d7c-7fc148df3bdc",
   "metadata": {},
   "outputs": [],
   "source": [
    "#given a multiplicative generator `z` of the finite field, the discrete_log is the exponent of the generator\n",
    "#the discrete_log of zero is -infinity, which we set to -1 for convenience since all other values are nonnegative\n",
    "discrete_log = lambda F, x: x.log(F.multiplicative_generator()) if x != 0 else -1"
   ]
  },
  {
   "cell_type": "code",
   "execution_count": 93,
   "id": "0d5de1cd-1b8e-49b6-a959-0773c9c1314b",
   "metadata": {},
   "outputs": [],
   "source": [
    "#compute the discrete log of each entry of U\n",
    "dlog_U = U.apply_map(lambda x: discrete_log(F,x))"
   ]
  },
  {
   "cell_type": "code",
   "execution_count": 94,
   "id": "a1624dfe-11e0-45fd-af51-7d5d70b86315",
   "metadata": {},
   "outputs": [
    {
     "data": {
      "text/plain": [
       "24 x 24 dense matrix over Integer Ring (use the '.str()' method to see the entries)"
      ]
     },
     "execution_count": 94,
     "metadata": {},
     "output_type": "execute_result"
    }
   ],
   "source": [
    "dlog_U"
   ]
  },
  {
   "cell_type": "code",
   "execution_count": 95,
   "id": "425df9fe-be30-40e3-8aff-fa1348bc74f4",
   "metadata": {},
   "outputs": [],
   "source": [
    "\"\"\"\n",
    "plot the discrete log of a matrix valued in a finite field\n",
    "since log(0) = -infinity, we set this to -1, and color it black\n",
    "\n",
    "- `F`: is the field\n",
    "- `M`: is a matrix of discrete log values of elements of F\n",
    "- `path`: the prefix of the directory to save the file\n",
    "- `title`: the title of the plot, used in the saved name replacing ` ` with `_`\n",
    "- `normalize`: optional parameter to normalize values by dividing by F.order() - 1\n",
    "\n",
    "\"\"\"\n",
    "def plot_discrete_log(F, M, path, title, normalize=False):\n",
    "    import numpy as np\n",
    "    import matplotlib.pyplot as plt\n",
    "    from matplotlib.colors import ListedColormap, BoundaryNorm\n",
    "\n",
    "    if normalize:\n",
    "        M = M / (F.order() - 1)  # Normalize values to [0, 1]\n",
    "        value_range = 1\n",
    "    else:\n",
    "        value_range = F.order() - 1\n",
    "    \n",
    "    cmap = plt.cm.hsv\n",
    "    num_colors = min(256, 256)\n",
    "    new_colors = np.vstack(([0, 0, 0, 1], cmap(np.linspace(0, 1, num_colors))))\n",
    "    custom_cmap = ListedColormap(new_colors)\n",
    "\n",
    "    # Adjust BoundaryNorm based on normalization\n",
    "    norm = BoundaryNorm([-1] + list(np.linspace(0, value_range, num_colors)), custom_cmap.N)\n",
    "\n",
    "    plt.imshow(M, cmap=custom_cmap, norm=norm, interpolation=\"nearest\")\n",
    "    plt.title(title, fontsize=16)\n",
    "    plt.colorbar()\n",
    "    \n",
    "    # Adjust filename based on normalization\n",
    "    suffix = '_normalized' if normalize else ''\n",
    "    plot_title = f\"{path}{title.replace(' ', '_')}{suffix}.png\"\n",
    "    \n",
    "    plt.savefig(plot_title, dpi=300, bbox_inches=\"tight\")\n",
    "    plt.show()"
   ]
  },
  {
   "cell_type": "code",
   "execution_count": 96,
   "id": "dd212ab8-22f9-4968-954f-64a822d3e205",
   "metadata": {},
   "outputs": [
    {
     "data": {
      "image/png": "[encoded data removed]",
      "text/plain": [
       "<Figure size 640x480 with 2 Axes>"
      ]
     },
     "metadata": {},
     "output_type": "display_data"
    }
   ],
   "source": [
    "plot_discrete_log(F,dlog_U,path='plots/dft_matrix/',title=f\"discrete log of uDFT for n={n} q={q}\",normalize=False)"
   ]
  },
  {
   "cell_type": "code",
   "execution_count": 97,
   "id": "dbf3c83d-ea6e-4dcd-a491-332a715dcbe1",
   "metadata": {},
   "outputs": [],
   "source": [
    "#the map from modular representation theory to compute Brauer characters from F_q --> \\C giving roots of unity\n",
    "#note: Brauer character is the rep'n matrix eigenvalues (over a splitting field extension of F_q) mapped to \\C using Brauer map and summed\n",
    "#i.e. let \\alpha = g^k |--> \\exp(2*pi*i*k/(q-1))\n",
    "#i.e. F_q^* is cyclic of order q-1, mapping to (q-1)^th roots of unity in \\C\n",
    "#if the discrete log is provided, we use it directly; otherwise, we compute it\n",
    "def brauer_map(F, a=None, log_a=None):\n",
    "    \"\"\"\n",
    "    Map from F_q to C using the Brauer character formula.\n",
    "    If `log_a` is provided, it uses that directly; otherwise, it computes the log.\n",
    "    \n",
    "    a: Element of F_q or None if log_a is given\n",
    "    log_a: Precomputed log value (optional)\n",
    "    F: Finite field F_q\n",
    "    \n",
    "    Returns: Complex value of the Brauer character\n",
    "    \"\"\"\n",
    "    if a is None and log_a is None:\n",
    "        raise ValueError(\"Either 'a' or 'log_a' must be provided.\")\n",
    "    \n",
    "    if a is not None:\n",
    "        if a == 0:\n",
    "            return 0\n",
    "        log_a = a.log(F.multiplicative_generator())\n",
    "    \n",
    "    return exp(2 * pi * I * log_a / (F.order() - 1))"
   ]
  },
  {
   "cell_type": "code",
   "execution_count": 98,
   "id": "913954c0-dfdf-4099-b9b2-7c59a5e6e767",
   "metadata": {},
   "outputs": [],
   "source": [
    "#complexify the uDFT matrix over F_q using the Brauer map\n",
    "U_complex = matrix(CC,U.apply_map(lambda a: brauer_map(F,a)))"
   ]
  },
  {
   "cell_type": "code",
   "execution_count": 99,
   "id": "2ce4d9b0-c891-40de-9e2d-92e941e05901",
   "metadata": {},
   "outputs": [],
   "source": [
    "#compute the Gram matrix, taking inner products of rows and columns w.r.t conjugate inner product\n",
    "#note: want this to be the identity matrix (so it would be unitary over \\C), but currently it is not quite\n",
    "#unitary matrices are required if they are to be used as operators in quantum computing\n",
    "gram = U_complex*U_complex.H"
   ]
  },
  {
   "cell_type": "code",
   "execution_count": 100,
   "id": "9e4e0a10-8c5f-42df-974b-0e729c6ba084",
   "metadata": {},
   "outputs": [],
   "source": [
    "#function to round each component of a complex number \n",
    "def round_complex(z, digits):\n",
    "    if z.imag_part():\n",
    "        return round(z.real_part(), digits) + round(z.imag_part(), digits) * I\n",
    "    return round(z, digits)"
   ]
  },
  {
   "cell_type": "code",
   "execution_count": 101,
   "id": "2ce34d19-f35e-486b-b373-1c77c4e5724f",
   "metadata": {},
   "outputs": [],
   "source": [
    "#round the (complex) Gram matrix to three decimal places\n",
    "gram_rounded = gram.apply_map(lambda u:round_complex(u,3))"
   ]
  },
  {
   "cell_type": "code",
   "execution_count": 102,
   "id": "cc3df8b2-4ee4-4643-8963-be7578c9485c",
   "metadata": {},
   "outputs": [],
   "source": [
    "#plot the complexified version of the uDFT matrix over a finite field\n",
    "def plot_arg_complex(U_complex, title):\n",
    "    U_arg = U_complex.apply_map(lambda x: arg(x))  # find the argument of each element\n",
    "    plot = matrix_plot(U_arg, cmap='hsv', colorbar=True, title=title)  # plot the matrix\n",
    "    filename = \"plots/dft_matrix/\" + title.replace(\" \", \"_\") + \".png\"\n",
    "    plot.save(filename, dpi=300)  # Save the plot as a PNG file with high resolution\n",
    "    return plot"
   ]
  },
  {
   "cell_type": "code",
   "execution_count": 103,
   "id": "daca587f-859b-42fb-9c22-08f9e377c953",
   "metadata": {},
   "outputs": [
    {
     "data": {
      "image/png": "[encoded data removed]",
      "text/plain": [
       "Graphics object consisting of 1 graphics primitive"
      ]
     },
     "execution_count": 103,
     "metadata": {},
     "output_type": "execute_result"
    }
   ],
   "source": [
    "#plot the complexified version of the uDFT matrix over a finite field\n",
    "plot_arg_complex(U_complex,title=f\"arg of complexified uDFT of S_{n} over F_{q**2}\")"
   ]
  },
  {
   "cell_type": "code",
   "execution_count": 104,
   "id": "1e1f300a-33e1-435d-9e15-8548b27ea103",
   "metadata": {},
   "outputs": [
    {
     "data": {
      "text/plain": [
       "True"
      ]
     },
     "execution_count": 104,
     "metadata": {},
     "output_type": "execute_result"
    }
   ],
   "source": [
    "#check that Gram matrix is conjugate symmetric (should be since it is U*U.H)\n",
    "gram_rounded == gram_rounded.H"
   ]
  },
  {
   "cell_type": "code",
   "execution_count": 105,
   "id": "89edaab1-11b3-4425-b764-25a301e78785",
   "metadata": {},
   "outputs": [
    {
     "data": {
      "image/png": "[encoded data removed]",
      "text/plain": [
       "Graphics object consisting of 1 graphics primitive"
      ]
     },
     "execution_count": 105,
     "metadata": {},
     "output_type": "execute_result"
    }
   ],
   "source": [
    "#plot the result of U_complex*U_complex.H to see how far it is from being unitary over the complex numbers\n",
    "plot_arg_complex(gram_rounded, title=f\"arg of gram matrix of complexified uDFT of S_{n} over F_{q**2}\")"
   ]
  },
  {
   "cell_type": "code",
   "execution_count": 106,
   "id": "187d0d5b-3f3c-4d75-866d-36e3a509b54d",
   "metadata": {},
   "outputs": [
    {
     "data": {
      "text/plain": [
       "[6, 5*z2 + 3, 4*z14^13 + 6*z14^12 + 4*z14^11 + 5*z14^10 + 4*z14^8 + 3*z14^6 + 3*z14^5 + 5*z14^4 + z14^3 + 4*z14^2 + 4*z14 + 1, 2*z14^13 + z14^12 + 2*z14^11 + 5*z14^10 + 6*z14^8 + 2*z14^7 + 6*z14^6 + 5*z14^5 + 4*z14^4 + 3*z14^3 + 3*z14^2 + 4*z14 + 2, z14^13 + 2*z14^12 + 2*z14^11 + 4*z14^10 + 4*z14^9 + 2*z14^6 + z14^3 + 2*z14 + 3, z14^13 + 4*z14^12 + 3*z14^11 + 5*z14^10 + z14^9 + 5*z14^6 + 4*z14^5 + 5*z14^4 + 5*z14^3 + z14^2 + 5*z14 + 3, 3*z14^13 + 6*z14^12 + z14^11 + 3*z14^10 + 4*z14^9 + 6*z14^7 + 5*z14^6 + 3*z14^5 + 6*z14^4 + 2*z14^3 + 4*z14 + 5, 2*z14^13 + 2*z14^12 + z14^11 + 3*z14^9 + 3*z14^8 + 3*z14^7 + 5*z14^5 + 4*z14^4 + 2*z14^3 + 4*z14^2 + 4*z14 + 6, 6*z14^13 + 3*z14^12 + 6*z14^11 + 2*z14^9 + 4*z14^8 + 5*z14^6 + 4*z14^5 + z14^4 + 3*z14^3 + 3*z14^2, 6*z30^29 + 3*z30^28 + 6*z30^27 + 2*z30^25 + 3*z30^24 + 3*z30^23 + 5*z30^22 + 3*z30^21 + 4*z30^20 + 4*z30^19 + 2*z30^17 + 6*z30^16 + 4*z30^15 + 6*z30^14 + 4*z30^12 + 3*z30^11 + 4*z30^10 + 6*z30^9 + 6*z30^8 + 5*z30^7 + 5*z30^6 + 4*z30^5 + 5*z30^4 + 2*z30^3 + 3*z30^2 + 1, z30^29 + 6*z30^28 + 4*z30^26 + 2*z30^25 + 6*z30^24 + 6*z30^23 + 6*z30^22 + 3*z30^21 + z30^20 + 4*z30^19 + 6*z30^18 + 2*z30^17 + z30^16 + 3*z30^15 + 5*z30^13 + 2*z30^12 + 5*z30^11 + 6*z30^10 + 6*z30^9 + 2*z30^8 + 2*z30^6 + 5*z30^5 + 2*z30^4 + 6*z30^3 + 3*z30^2 + z30 + 2, 2*z30^29 + 4*z30^28 + 5*z30^27 + z30^26 + 3*z30^25 + 5*z30^24 + 5*z30^23 + 6*z30^22 + 2*z30^21 + z30^20 + 4*z30^19 + 3*z30^17 + 3*z30^16 + 4*z30^14 + 2*z30^13 + z30^12 + 3*z30^10 + 5*z30^9 + 2*z30^8 + 2*z30^7 + 6*z30^6 + 5*z30^5 + 3*z30^4 + 4*z30^3 + 4*z30^2 + 3*z30 + 2, 4*z30^29 + 5*z30^28 + 6*z30^27 + 2*z30^26 + 2*z30^25 + 5*z30^24 + z30^23 + 6*z30^22 + 6*z30^20 + 3*z30^19 + z30^18 + 4*z30^17 + 4*z30^16 + z30^15 + z30^14 + 6*z30^13 + 3*z30^12 + 3*z30^11 + 2*z30^10 + z30^9 + 2*z30^8 + 5*z30^7 + 2*z30^6 + 6*z30^5 + 4*z30^3 + z30^2 + 4*z30 + 2, 6*z30^29 + 6*z30^28 + 6*z30^27 + z30^26 + 5*z30^25 + 4*z30^24 + 2*z30^23 + 5*z30^22 + 3*z30^21 + 6*z30^20 + z30^18 + 2*z30^17 + 3*z30^16 + 4*z30^15 + 6*z30^14 + 3*z30^13 + 4*z30^12 + 2*z30^11 + 5*z30^10 + z30^8 + 2*z30^7 + 5*z30^6 + 6*z30^4 + 6*z30^3 + 4*z30 + 2, z30^29 + 6*z30^28 + 2*z30^27 + 5*z30^26 + 6*z30^25 + 2*z30^24 + 3*z30^23 + 5*z30^21 + 4*z30^19 + 6*z30^18 + z30^17 + 4*z30^16 + 2*z30^15 + 4*z30^14 + z30^13 + 5*z30^12 + 4*z30^11 + 4*z30^10 + 6*z30^9 + 6*z30^8 + 6*z30^7 + 2*z30^6 + 3*z30^4 + 5*z30^3 + z30^2 + z30 + 3, 4*z30^29 + 6*z30^27 + 6*z30^26 + 4*z30^25 + z30^24 + z30^22 + 6*z30^21 + 6*z30^20 + 5*z30^19 + 5*z30^17 + 4*z30^16 + 3*z30^15 + 3*z30^14 + 6*z30^13 + 6*z30^12 + z30^11 + 2*z30^10 + 4*z30^9 + 5*z30^7 + 5*z30^6 + 3*z30^4 + 5*z30^3 + 2*z30 + 3, 4*z30^29 + z30^28 + 2*z30^27 + 6*z30^24 + 2*z30^22 + 4*z30^21 + 5*z30^20 + 5*z30^19 + 2*z30^17 + z30^16 + z30^13 + 4*z30^12 + 6*z30^11 + 2*z30^10 + 5*z30^9 + 2*z30^8 + 2*z30^7 + z30^6 + z30^5 + 6*z30^4 + z30^3 + 2*z30^2 + 4, 6*z30^29 + 6*z30^28 + 4*z30^27 + 6*z30^26 + z30^25 + z30^24 + 5*z30^23 + 5*z30^22 + 4*z30^21 + 3*z30^20 + 6*z30^19 + 5*z30^18 + 6*z30^17 + z30^16 + z30^15 + 5*z30^14 + 5*z30^13 + 4*z30^12 + 2*z30^11 + 3*z30^10 + 2*z30^8 + 5*z30^7 + z30^6 + 3*z30^4 + 5*z30^3 + 4, 4*z30^29 + 4*z30^28 + 6*z30^27 + 3*z30^26 + 4*z30^25 + z30^24 + 6*z30^22 + 3*z30^21 + 6*z30^20 + 4*z30^19 + z30^18 + 5*z30^17 + 4*z30^16 + 3*z30^15 + 4*z30^13 + z30^12 + 3*z30^11 + 3*z30^10 + 3*z30^9 + z30^8 + 5*z30^7 + z30^5 + 6*z30^4 + 5*z30^3 + z30^2 + 3*z30 + 5, z30^29 + 3*z30^27 + 2*z30^26 + 2*z30^24 + 2*z30^23 + 5*z30^22 + 5*z30^21 + 5*z30^20 + 3*z30^19 + 5*z30^18 + 3*z30^16 + 2*z30^14 + 5*z30^13 + 3*z30^12 + 5*z30^11 + 4*z30^10 + 4*z30^9 + 6*z30^8 + 6*z30^7 + 5*z30^6 + 6*z30^5 + z30^3 + 5*z30^2 + 4*z30 + 5, z30^29 + 4*z30^27 + 2*z30^26 + 4*z30^25 + z30^24 + 5*z30^23 + 6*z30^21 + 4*z30^20 + 4*z30^19 + 3*z30^18 + 4*z30^17 + z30^16 + z30^14 + 3*z30^13 + 4*z30^12 + z30^11 + 2*z30^9 + z30^8 + 4*z30^7 + z30^6 + z30^3 + 5*z30 + 6, 6*z30^28 + 6*z30^27 + 5*z30^26 + 2*z30^25 + 3*z30^23 + 4*z30^21 + z30^20 + 3*z30^19 + 2*z30^18 + 6*z30^17 + 3*z30^16 + 2*z30^15 + 5*z30^14 + 3*z30^13 + 4*z30^9 + 6*z30^8 + 2*z30^7 + 4*z30^6 + 3*z30^5 + z30^4 + z30^2 + 6*z30 + 1, 5*z30^28 + 2*z30^24 + z30^21 + 2*z30^20 + 4*z30^19 + 3*z30^18 + 4*z30^17 + z30^16 + z30^15 + 5*z30^14 + 4*z30^12 + 5*z30^11 + 4*z30^9 + 6*z30^8 + 3*z30^7 + 4*z30^5 + 4*z30^4 + 6*z30^3 + 2*z30 + 2, 4*z30^28 + z30^27 + 2*z30^26 + 5*z30^25 + z30^24 + 4*z30^23 + 6*z30^22 + 3*z30^21 + 3*z30^20 + 5*z30^19 + z30^18 + 6*z30^15 + z30^14 + z30^12 + 6*z30^11 + z30^10 + 4*z30^9 + 5*z30^8 + z30^7 + 2*z30^6 + 3*z30^5 + 2*z30^4 + 3*z30^3 + 5*z30^2 + 4*z30 + 4]"
      ]
     },
     "execution_count": 106,
     "metadata": {},
     "output_type": "execute_result"
    }
   ],
   "source": [
    "#compute the eigenvalues of the uDFT matrix\n",
    "eigenvalues = U.eigenvalues(); eigenvalues"
   ]
  },
  {
   "cell_type": "code",
   "execution_count": 107,
   "id": "c61d4b5b-06fb-459a-af3f-a2772a72ad59",
   "metadata": {},
   "outputs": [
    {
     "data": {
      "text/plain": [
       "30"
      ]
     },
     "execution_count": 107,
     "metadata": {},
     "output_type": "execute_result"
    }
   ],
   "source": [
    "#compute the maximum degree required for the eigenvalues\n",
    "#this should agree with the splitting field degree, but sometimes it doesn't\n",
    "max_deg_eigs = max([eig.minpoly().degree() for eig in eigenvalues]); max_deg_eigs"
   ]
  },
  {
   "cell_type": "code",
   "execution_count": 108,
   "id": "787c4350-2f3a-4e24-8e48-b664ea502f44",
   "metadata": {},
   "outputs": [
    {
     "data": {
      "text/plain": [
       "True"
      ]
     },
     "execution_count": 108,
     "metadata": {},
     "output_type": "execute_result"
    }
   ],
   "source": [
    "#compute the multiplicity of each eigenvalue. check if all eigenvalues are distinct\n",
    "from collections import Counter\n",
    "multiplicities = Counter(eigenvalues)\n",
    "all_unique = all(count == 1 for count in multiplicities.values()); all_unique"
   ]
  },
  {
   "cell_type": "code",
   "execution_count": 109,
   "id": "577cf124-887a-452b-ad8e-d218ab5a8cbb",
   "metadata": {},
   "outputs": [
    {
     "data": {
      "text/plain": [
       "x^24 + z2*x^23 + (2*z2 + 2)*x^22 + (4*z2 + 4)*x^21 + (2*z2 + 6)*x^20 + 4*z2*x^19 + 2*z2*x^18 + (4*z2 + 3)*x^17 + (4*z2 + 6)*x^16 + (5*z2 + 2)*x^15 + 2*z2*x^14 + (6*z2 + 2)*x^13 + 5*z2*x^11 + (z2 + 5)*x^10 + (z2 + 1)*x^9 + z2*x^8 + (5*z2 + 5)*x^7 + (z2 + 5)*x^6 + (2*z2 + 3)*x^5 + 2*x^4 + (6*z2 + 1)*x^3 + (3*z2 + 4)*x^2 + (4*z2 + 6)*x + z2 + 3"
      ]
     },
     "execution_count": 109,
     "metadata": {},
     "output_type": "execute_result"
    }
   ],
   "source": [
    "#compute the charpoly of the uDFT matrix \n",
    "charpoly = U.minimal_polynomial(); charpoly"
   ]
  },
  {
   "cell_type": "code",
   "execution_count": 110,
   "id": "9ec1d71f-fd57-4261-9129-a634f0184e24",
   "metadata": {},
   "outputs": [
    {
     "name": "stdout",
     "output_type": "stream",
     "text": [
      "field containing all eigenvalues: K = Finite Field in z30 of size 7^30\n",
      "splitting field: L = Finite Field in a of size 7^210\n",
      "minpoly of K:  x^30 + x^22 + 4*x^21 + 4*x^20 + x^19 + 4*x^18 + x^16 + 2*x^15 + 3*x^14 + 6*x^13 + 5*x^12 + 2*x^11 + 3*x^10 + 3*x^9 + 2*x^8 + 4*x^7 + 2*x^6 + 3*x^5 + x^3 + 5*x^2 + 2*x + 3\n"
     ]
    }
   ],
   "source": [
    "#compute a splitting field of the characteristic polynomial\n",
    "K = GF(q**max_deg_eigs); print(f\"field containing all eigenvalues: K = {K}\")\n",
    "L = charpoly.splitting_field('a'); print(f\"splitting field: L = {L}\")\n",
    "print(\"minpoly of K: \", K.multiplicative_generator().minimal_polynomial())"
   ]
  },
  {
   "cell_type": "code",
   "execution_count": 111,
   "id": "6ad9735a-b9fb-46a5-822e-088f724c87a5",
   "metadata": {},
   "outputs": [],
   "source": [
    "def save_array(array, path, filename):\n",
    "    \"\"\"\n",
    "    save an array as a comma separated value file by converting the elements to strings\n",
    "    \"\"\"\n",
    "    import os\n",
    "    if not os.path.exists(path):\n",
    "        os.makedirs(path)  # Create the directory if it doesn't exist\n",
    "    full_path = os.path.join(path, filename)\n",
    "    with open(full_path, 'w') as f:\n",
    "        for i, element in enumerate(array):\n",
    "            f.write(str(element))\n",
    "            if i < len(array) - 1:\n",
    "                f.write(\",\")\n",
    "        f.write(\"\\n\")"
   ]
  },
  {
   "cell_type": "code",
   "execution_count": 112,
   "id": "a8d24cd3-3d8e-4e60-ab01-63a3fac92936",
   "metadata": {},
   "outputs": [],
   "source": [
    "#compute and save the eigenvalues over K\n",
    "eigenvalues_K = matrix(K,U).eigenvalues(extend=False)\n",
    "save_array(eigenvalues_K, path='data/eigenvalues', filename=f\"eigenvalues_uDFT_n={n}_q={q}_deg={K.degree()}\" + '.csv')"
   ]
  },
  {
   "cell_type": "code",
   "execution_count": 113,
   "id": "2ce01f0b-1c29-4761-a1a5-8ec4b30aeb90",
   "metadata": {},
   "outputs": [],
   "source": [
    "#compute and save the eigenvalues over L\n",
    "eigenvalues_L = matrix(L,U).eigenvalues(extend=False)\n",
    "save_array(eigenvalues_L, path='data/eigenvalues', filename=f\"eigenvalues_uDFT_n={n}_q={q}_deg={L.degree()}\" + '.csv')"
   ]
  },
  {
   "cell_type": "code",
   "execution_count": 114,
   "id": "d1b9c85e-3854-4210-90d4-6dd27c07e836",
   "metadata": {},
   "outputs": [],
   "source": [
    "#compute and save the discrete log of the eigenvalues over K\n",
    "log_eigenvalues_K = list(map(lambda x: discrete_log(K,x), eigenvalues_K))\n",
    "save_array(log_eigenvalues_K, path='data/discrete_log_eigenvalues', filename=f\"discrete_log_eigenvalues_uDFT_n={n}_q={q}_deg={K.degree()}\" + '.csv')"
   ]
  },
  {
   "cell_type": "code",
   "execution_count": 115,
   "id": "a43cd6e7-9147-4709-bd33-213d71716b28",
   "metadata": {},
   "outputs": [
    {
     "ename": "KeyboardInterrupt",
     "evalue": "",
     "output_type": "error",
     "traceback": [
      "\u001b[0;31m---------------------------------------------------------------------------\u001b[0m",
      "\u001b[0;31mKeyboardInterrupt\u001b[0m                         Traceback (most recent call last)",
      "Cell \u001b[0;32mIn[115], line 2\u001b[0m\n\u001b[1;32m      1\u001b[0m \u001b[38;5;66;03m#compute and save the discrete log of the eigenvalues over L\u001b[39;00m\n\u001b[0;32m----> 2\u001b[0m log_eigenvalues_L \u001b[38;5;241m=\u001b[39m \u001b[38;5;28;43mlist\u001b[39;49m\u001b[43m(\u001b[49m\u001b[38;5;28;43mmap\u001b[39;49m\u001b[43m(\u001b[49m\u001b[38;5;28;43;01mlambda\u001b[39;49;00m\u001b[43m \u001b[49m\u001b[43mx\u001b[49m\u001b[43m:\u001b[49m\u001b[43m \u001b[49m\u001b[43mdiscrete_log\u001b[49m\u001b[43m(\u001b[49m\u001b[43mL\u001b[49m\u001b[43m,\u001b[49m\u001b[43mx\u001b[49m\u001b[43m)\u001b[49m\u001b[43m,\u001b[49m\u001b[43m \u001b[49m\u001b[43meigenvalues_L\u001b[49m\u001b[43m)\u001b[49m\u001b[43m)\u001b[49m\n\u001b[1;32m      3\u001b[0m save_array(log_eigenvalues_L, path\u001b[38;5;241m=\u001b[39m\u001b[38;5;124m'\u001b[39m\u001b[38;5;124mdata/discrete_log_eigenvalues\u001b[39m\u001b[38;5;124m'\u001b[39m, filename\u001b[38;5;241m=\u001b[39m\u001b[38;5;124mf\u001b[39m\u001b[38;5;124m\"\u001b[39m\u001b[38;5;124mdiscrete_log_eigenvalues_uDFT_n=\u001b[39m\u001b[38;5;132;01m{\u001b[39;00mn\u001b[38;5;132;01m}\u001b[39;00m\u001b[38;5;124m_q=\u001b[39m\u001b[38;5;132;01m{\u001b[39;00mq\u001b[38;5;132;01m}\u001b[39;00m\u001b[38;5;124m_deg=\u001b[39m\u001b[38;5;132;01m{\u001b[39;00mL\u001b[38;5;241m.\u001b[39mdegree()\u001b[38;5;132;01m}\u001b[39;00m\u001b[38;5;124m\"\u001b[39m \u001b[38;5;241m+\u001b[39m \u001b[38;5;124m'\u001b[39m\u001b[38;5;124m.csv\u001b[39m\u001b[38;5;124m'\u001b[39m)\n",
      "Cell \u001b[0;32mIn[115], line 2\u001b[0m, in \u001b[0;36m<lambda>\u001b[0;34m(x)\u001b[0m\n\u001b[1;32m      1\u001b[0m \u001b[38;5;66;03m#compute and save the discrete log of the eigenvalues over L\u001b[39;00m\n\u001b[0;32m----> 2\u001b[0m log_eigenvalues_L \u001b[38;5;241m=\u001b[39m \u001b[38;5;28mlist\u001b[39m(\u001b[38;5;28mmap\u001b[39m(\u001b[38;5;28;01mlambda\u001b[39;00m x: \u001b[43mdiscrete_log\u001b[49m\u001b[43m(\u001b[49m\u001b[43mL\u001b[49m\u001b[43m,\u001b[49m\u001b[43mx\u001b[49m\u001b[43m)\u001b[49m, eigenvalues_L))\n\u001b[1;32m      3\u001b[0m save_array(log_eigenvalues_L, path\u001b[38;5;241m=\u001b[39m\u001b[38;5;124m'\u001b[39m\u001b[38;5;124mdata/discrete_log_eigenvalues\u001b[39m\u001b[38;5;124m'\u001b[39m, filename\u001b[38;5;241m=\u001b[39m\u001b[38;5;124mf\u001b[39m\u001b[38;5;124m\"\u001b[39m\u001b[38;5;124mdiscrete_log_eigenvalues_uDFT_n=\u001b[39m\u001b[38;5;132;01m{\u001b[39;00mn\u001b[38;5;132;01m}\u001b[39;00m\u001b[38;5;124m_q=\u001b[39m\u001b[38;5;132;01m{\u001b[39;00mq\u001b[38;5;132;01m}\u001b[39;00m\u001b[38;5;124m_deg=\u001b[39m\u001b[38;5;132;01m{\u001b[39;00mL\u001b[38;5;241m.\u001b[39mdegree()\u001b[38;5;132;01m}\u001b[39;00m\u001b[38;5;124m\"\u001b[39m \u001b[38;5;241m+\u001b[39m \u001b[38;5;124m'\u001b[39m\u001b[38;5;124m.csv\u001b[39m\u001b[38;5;124m'\u001b[39m)\n",
      "Cell \u001b[0;32mIn[92], line 3\u001b[0m, in \u001b[0;36m<lambda>\u001b[0;34m(F, x)\u001b[0m\n\u001b[1;32m      1\u001b[0m \u001b[38;5;66;03m#given a multiplicative generator `z` of the finite field, the discrete_log is the exponent of the generator\u001b[39;00m\n\u001b[1;32m      2\u001b[0m \u001b[38;5;66;03m#the discrete_log of zero is -infinity, which we set to -1 for convenience since all other values are nonnegative\u001b[39;00m\n\u001b[0;32m----> 3\u001b[0m discrete_log \u001b[38;5;241m=\u001b[39m \u001b[38;5;28;01mlambda\u001b[39;00m F, x: \u001b[43mx\u001b[49m\u001b[38;5;241;43m.\u001b[39;49m\u001b[43mlog\u001b[49m\u001b[43m(\u001b[49m\u001b[43mF\u001b[49m\u001b[38;5;241;43m.\u001b[39;49m\u001b[43mmultiplicative_generator\u001b[49m\u001b[43m(\u001b[49m\u001b[43m)\u001b[49m\u001b[43m)\u001b[49m \u001b[38;5;28;01mif\u001b[39;00m x \u001b[38;5;241m!=\u001b[39m Integer(\u001b[38;5;241m0\u001b[39m) \u001b[38;5;28;01melse\u001b[39;00m \u001b[38;5;241m-\u001b[39mInteger(\u001b[38;5;241m1\u001b[39m)\n",
      "File \u001b[0;32m/private/var/tmp/sage-10.5-current/local/var/lib/sage/venv-python3.12.5/lib/python3.12/site-packages/sage/rings/finite_rings/element_pari_ffelt.pyx:1193\u001b[0m, in \u001b[0;36msage.rings.finite_rings.element_pari_ffelt.FiniteFieldElement_pari_ffelt.log (build/cythonized/sage/rings/finite_rings/element_pari_ffelt.c:15248)\u001b[0;34m()\u001b[0m\n\u001b[1;32m   1191\u001b[0m # by default that the base generates the entire multiplicative group.\n\u001b[1;32m   1192\u001b[0m cdef GEN x, base_order\n\u001b[0;32m-> 1193\u001b[0m sig_on()\n\u001b[1;32m   1194\u001b[0m if order is None:\n\u001b[1;32m   1195\u001b[0m     base_order = FF_order((<FiniteFieldElement_pari_ffelt>base).val, NULL)\n",
      "\u001b[0;31mKeyboardInterrupt\u001b[0m: "
     ]
    }
   ],
   "source": [
    "#compute and save the discrete log of the eigenvalues over L\n",
    "log_eigenvalues_L = list(map(lambda x: discrete_log(L,x), eigenvalues_L))\n",
    "save_array(log_eigenvalues_L, path='data/discrete_log_eigenvalues', filename=f\"discrete_log_eigenvalues_uDFT_n={n}_q={q}_deg={L.degree()}\" + '.csv')"
   ]
  },
  {
   "cell_type": "code",
   "execution_count": 116,
   "id": "c41fcb01-39a8-4e24-a828-45a0f19bf842",
   "metadata": {},
   "outputs": [],
   "source": [
    "#compute and save the complexified eigenvalue over K\n",
    "complexified_eigenvalues_K = [brauer_map(K,log_a=log_eig) for log_eig in log_eigenvalues_K]\n",
    "save_array(complexified_eigenvalues_K, path='data/complexified_eigenvalues', filename=f\"complexified_eigenvalues_uDFT_n={n}_q={q}_deg={K.degree()}\" + '.csv')"
   ]
  },
  {
   "cell_type": "code",
   "execution_count": 52,
   "id": "271cd002-0f0e-4b8f-beb4-8e3a02d0c959",
   "metadata": {},
   "outputs": [],
   "source": [
    "#compute and save the complexified eigenvalues over L\n",
    "complexified_eigenvalues_L = [brauer_map(L,log_a=log_eig) for log_eig in log_eigenvalues_L]\n",
    "save_array(complexified_eigenvalues_L, path='data/complexified_eigenvalues', filename=f\"complexified_eigenvalues_uDFT_n={n}_q={q}_deg={L.degree()}\" + '.csv')"
   ]
  },
  {
   "cell_type": "code",
   "execution_count": 117,
   "id": "997124ab-f397-42cf-a36d-fc1670e27bf0",
   "metadata": {},
   "outputs": [],
   "source": [
    "import matplotlib.pyplot as plt\n",
    "import numpy as np\n",
    "\n",
    "# Extract real and imaginary parts for plotting\n",
    "real_parts = [eig.real() for eig in complexified_eigenvalues_K]\n",
    "imaginary_parts = [eig.imag() for eig in complexified_eigenvalues_K]"
   ]
  },
  {
   "cell_type": "code",
   "execution_count": 118,
   "id": "92b0d6ae-51a8-43d2-9ead-f4b40d89b9ac",
   "metadata": {},
   "outputs": [
    {
     "data": {
      "image/png": "[encoded data removed]",
      "text/plain": [
       "<Figure size 600x600 with 1 Axes>"
      ]
     },
     "metadata": {},
     "output_type": "display_data"
    }
   ],
   "source": [
    "# Plotting the eigenvalues on the complex plane\n",
    "title = f\"complexified eigenvalues of uDFT for n={n} q={q} deg={K.degree()}\"\n",
    "plt.figure(figsize=(6,6))\n",
    "plt.scatter(real_parts, imaginary_parts, color='blue', label=\"Eigenvalues\")\n",
    "plt.axhline(0, color='black',linewidth=0.5)\n",
    "plt.axvline(0, color='black',linewidth=0.5)\n",
    "plt.gca().set_aspect('equal', adjustable='box')\n",
    "plt.title(title)\n",
    "plt.xlabel('Real Part')\n",
    "plt.ylabel('Imaginary Part')\n",
    "plt.grid(True)\n",
    "plt.savefig('plots/eigenvalues/finite_fields/' + title.replace(' ','_') + '.png', dpi=300, bbox_inches=\"tight\")\n",
    "plt.show()"
   ]
  },
  {
   "cell_type": "code",
   "execution_count": 55,
   "id": "f4558cc4-ca09-4785-affd-9da688591bb2",
   "metadata": {},
   "outputs": [],
   "source": [
    "#compute the eigenvectors over a splitting field\n",
    "D, P = matrix(L,U).eigenmatrix_right()"
   ]
  },
  {
   "cell_type": "code",
   "execution_count": 56,
   "id": "25a882fa-3dd4-4997-857d-bc6b553fc66a",
   "metadata": {},
   "outputs": [],
   "source": [
    "def write_matrix_to_csv(P,filename):\n",
    "    \"\"\"\n",
    "    dump the eigenvector matrix into a .csv file\n",
    "    \"\"\"\n",
    "    with open(filename, \"w\") as f:\n",
    "        for row in P:\n",
    "            f.write(\",\".join(map(str, row)) + \"\\n\")"
   ]
  },
  {
   "cell_type": "code",
   "execution_count": 57,
   "id": "852531ea-24de-4d96-8bd6-192b399c04b8",
   "metadata": {},
   "outputs": [],
   "source": [
    "write_matrix_to_csv(P,filename=f\"data/eigenvectors/eigenvectors_unitary_dft_symmetric_group_finite_field_n={n}_q={q}.csv\")"
   ]
  },
  {
   "cell_type": "code",
   "execution_count": 58,
   "id": "c302f2a7-4bda-4203-8ab5-dca8f1f173d4",
   "metadata": {},
   "outputs": [
    {
     "data": {
      "text/plain": [
       "[      0       0       0       0       0       0]\n",
       "[1361556 1344996 1197036 1532556  948276 1764756]\n",
       "[1295414 1079874 1033794 1340874 1606574  847814]\n",
       "[1172199  299109 1730109  760989 1063839  111279]\n",
       "[ 275637  852166 1236886  361606 1759197 1463997]\n",
       "[ 385973  365211  486171 1673091 1525853  642173]"
      ]
     },
     "execution_count": 58,
     "metadata": {},
     "output_type": "execute_result"
    }
   ],
   "source": [
    "#take the discrete log of the eigenvector matrix\n",
    "dlog_P = P.apply_map(lambda x: discrete_log(L,x)); dlog_P"
   ]
  },
  {
   "cell_type": "code",
   "execution_count": 119,
   "id": "0b3f2964-f2a2-44bb-ab85-70a176f10929",
   "metadata": {},
   "outputs": [
    {
     "data": {
      "image/png": "[encoded data removed]",
      "text/plain": [
       "<Figure size 640x480 with 2 Axes>"
      ]
     },
     "metadata": {},
     "output_type": "display_data"
    }
   ],
   "source": [
    "#plot the discrete log of the eigenvector matrix P\n",
    "#NOTE: this only works when the log_P values are sufficiently small, e.g. for n=3\n",
    "#for n=4 and above, one needs to take a further log1p of the eigenvalues since the field is order q**210\n",
    "plot_discrete_log(L,dlog_P,path='plots/eigenvectors/',title=f\"discrete log of eigenvectors of uDFT for n={n} q={q} deg={L.degree()}\",normalize=True)"
   ]
  },
  {
   "cell_type": "code",
   "execution_count": 35,
   "id": "67a4f9ac-a80e-4535-bab2-f2c041e16291",
   "metadata": {},
   "outputs": [],
   "source": [
    "def dump_discrete_log(L, P):\n",
    "    \"\"\"\n",
    "    - compute the discrete log of each entry of P, the eigenvector matrix of the uDFT of S_n over F_{q^2}\n",
    "    - write the resulting matrix to a comma separated value file\n",
    "    - include a progress bar since computing discrete logs for large fields takes a long time\n",
    "    \"\"\"\n",
    "    total = P.nrows() * P.ncols()\n",
    "    count = 0\n",
    "    filename = f\"data/eigenvectors/discrete_log_dft_symmetric_group_finite_field_eigenvector_matrix_n={n}_q={q}.csv\"\n",
    "    with open(filename, \"w\") as f:\n",
    "        for i in range(P.nrows()):\n",
    "            for j in range(P.ncols()):\n",
    "                log_value = discrete_log(L, P[i, j])\n",
    "                f.write(str(log_value))\n",
    "                if j != P.ncols()-1:\n",
    "                    f.write(\",\")\n",
    "                count += 1\n",
    "                # Print progress as a percentage\n",
    "                progress = float(count) / total * 100\n",
    "                print(f\"Progress: {progress:.2f}%\\n\", end=\"\\r\", flush=True)\n",
    "            f.write(\"\\n\")\n",
    "    return \"done\""
   ]
  },
  {
   "cell_type": "code",
   "execution_count": 40,
   "id": "c62f8f4f-2da2-48ee-a4a6-2b93f0d631a9",
   "metadata": {},
   "outputs": [
    {
     "name": "stdout",
     "output_type": "stream",
     "text": [
      "Progress: 0.17%\n",
      "Progress: 0.35%\n",
      "Progress: 0.52%\n",
      "Progress: 0.69%\n",
      "Progress: 0.87%\n",
      "Progress: 1.04%\n",
      "Progress: 1.22%\n",
      "Progress: 1.39%\n",
      "Progress: 1.56%\n",
      "Progress: 1.74%\n",
      "Progress: 1.91%\n",
      "Progress: 2.08%\n",
      "Progress: 2.26%\n",
      "Progress: 2.43%\n",
      "Progress: 2.60%\n",
      "Progress: 2.78%\n",
      "Progress: 2.95%\n",
      "Progress: 3.12%\n",
      "Progress: 3.30%\n",
      "Progress: 3.47%\n",
      "Progress: 3.65%\n",
      "Progress: 3.82%\n",
      "Progress: 3.99%\n",
      "Progress: 4.17%\n",
      "Progress: 4.34%\n",
      "Progress: 4.51%\n",
      "Progress: 4.69%\n",
      "Progress: 4.86%\n",
      "Progress: 5.03%\n",
      "Progress: 5.21%\n",
      "Progress: 5.38%\n",
      "Progress: 5.56%\n",
      "Progress: 5.73%\n",
      "Progress: 5.90%\n",
      "Progress: 6.08%\n",
      "Progress: 6.25%\n",
      "Progress: 6.42%\n",
      "Progress: 6.60%\n",
      "Progress: 6.77%\n",
      "Progress: 6.94%\n",
      "Progress: 7.12%\n",
      "Progress: 7.29%\n",
      "Progress: 7.47%\n",
      "Progress: 7.64%\n",
      "Progress: 7.81%\n",
      "Progress: 7.99%\n",
      "Progress: 8.16%\n",
      "Progress: 8.33%\n",
      "Progress: 8.51%\n",
      "Progress: 8.68%\n",
      "Progress: 8.85%\n",
      "Progress: 9.03%\n",
      "Progress: 9.20%\n",
      "Progress: 9.38%\n",
      "Progress: 9.55%\n",
      "Progress: 9.72%\n",
      "Progress: 9.90%\n",
      "Progress: 10.07%\n",
      "Progress: 10.24%\n",
      "Progress: 10.42%\n",
      "Progress: 10.59%\n",
      "Progress: 10.76%\n",
      "Progress: 10.94%\n",
      "Progress: 11.11%\n",
      "Progress: 11.28%\n",
      "Progress: 11.46%\n",
      "Progress: 11.63%\n",
      "Progress: 11.81%\n",
      "Progress: 11.98%\n",
      "Progress: 12.15%\n",
      "Progress: 12.33%\n",
      "Progress: 12.50%\n",
      "Progress: 12.67%\n",
      "Progress: 12.85%\n",
      "Progress: 13.02%\n",
      "Progress: 13.19%\n",
      "Progress: 13.37%\n",
      "Progress: 13.54%\n",
      "Progress: 13.72%\n",
      "Progress: 13.89%\n",
      "Progress: 14.06%\n",
      "Progress: 14.24%\n",
      "Progress: 14.41%\n",
      "Progress: 14.58%\n",
      "Progress: 14.76%\n",
      "Progress: 14.93%\n",
      "Progress: 15.10%\n",
      "Progress: 15.28%\n",
      "Progress: 15.45%\n",
      "Progress: 15.62%\n",
      "Progress: 15.80%\n",
      "Progress: 15.97%\n",
      "Progress: 16.15%\n",
      "Progress: 16.32%\n",
      "Progress: 16.49%\n",
      "Progress: 16.67%\n",
      "Progress: 16.84%\n",
      "Progress: 17.01%\n",
      "Progress: 17.19%\n",
      "Progress: 17.36%\n",
      "Progress: 17.53%\n",
      "Progress: 17.71%\n",
      "Progress: 17.88%\n",
      "Progress: 18.06%\n",
      "Progress: 18.23%\n",
      "Progress: 18.40%\n",
      "Progress: 18.58%\n",
      "Progress: 18.75%\n",
      "Progress: 18.92%\n",
      "Progress: 19.10%\n",
      "Progress: 19.27%\n",
      "Progress: 19.44%\n",
      "Progress: 19.62%\n",
      "Progress: 19.79%\n",
      "Progress: 19.97%\n",
      "Progress: 20.14%\n",
      "Progress: 20.31%\n",
      "Progress: 20.49%\n",
      "Progress: 20.66%\n",
      "Progress: 20.83%\n",
      "Progress: 21.01%\n",
      "Progress: 21.18%\n",
      "Progress: 21.35%\n",
      "Progress: 21.53%\n",
      "Progress: 21.70%\n",
      "Progress: 21.88%\n",
      "Progress: 22.05%\n",
      "Progress: 22.22%\n",
      "Progress: 22.40%\n",
      "Progress: 22.57%\n",
      "Progress: 22.74%\n",
      "Progress: 22.92%\n",
      "Progress: 23.09%\n",
      "Progress: 23.26%\n",
      "Progress: 23.44%\n",
      "Progress: 23.61%\n",
      "Progress: 23.78%\n",
      "Progress: 23.96%\n",
      "Progress: 24.13%\n",
      "Progress: 24.31%\n",
      "Progress: 24.48%\n",
      "Progress: 24.65%\n",
      "Progress: 24.83%\n",
      "Progress: 25.00%\n",
      "Progress: 25.17%\n",
      "Progress: 25.35%\n",
      "Progress: 25.52%\n",
      "Progress: 25.69%\n",
      "Progress: 25.87%\n",
      "Progress: 26.04%\n",
      "Progress: 26.22%\n",
      "Progress: 26.39%\n",
      "Progress: 26.56%\n",
      "Progress: 26.74%\n",
      "Progress: 26.91%\n",
      "Progress: 27.08%\n",
      "Progress: 27.26%\n",
      "Progress: 27.43%\n",
      "Progress: 27.60%\n",
      "Progress: 27.78%\n",
      "Progress: 27.95%\n",
      "Progress: 28.12%\n",
      "Progress: 28.30%\n",
      "Progress: 28.47%\n",
      "Progress: 28.65%\n",
      "Progress: 28.82%\n",
      "Progress: 28.99%\n",
      "Progress: 29.17%\n",
      "Progress: 29.34%\n",
      "Progress: 29.51%\n",
      "Progress: 29.69%\n",
      "Progress: 29.86%\n",
      "Progress: 30.03%\n",
      "Progress: 30.21%\n",
      "Progress: 30.38%\n",
      "Progress: 30.56%\n",
      "Progress: 30.73%\n",
      "Progress: 30.90%\n",
      "Progress: 31.08%\n",
      "Progress: 31.25%\n",
      "Progress: 31.42%\n",
      "Progress: 31.60%\n",
      "Progress: 31.77%\n",
      "Progress: 31.94%\n",
      "Progress: 32.12%\n",
      "Progress: 32.29%\n",
      "Progress: 32.47%\n",
      "Progress: 32.64%\n",
      "Progress: 32.81%\n",
      "Progress: 32.99%\n",
      "Progress: 33.16%\n",
      "Progress: 33.33%\n",
      "Progress: 33.51%\n",
      "Progress: 33.68%\n",
      "Progress: 33.85%\n",
      "Progress: 34.03%\n",
      "Progress: 34.20%\n",
      "Progress: 34.38%\n",
      "Progress: 34.55%\n",
      "Progress: 34.72%\n",
      "Progress: 34.90%\n",
      "Progress: 35.07%\n",
      "Progress: 35.24%\n",
      "Progress: 35.42%\n",
      "Progress: 35.59%\n",
      "Progress: 35.76%\n",
      "Progress: 35.94%\n",
      "Progress: 36.11%\n",
      "Progress: 36.28%\n",
      "Progress: 36.46%\n",
      "Progress: 36.63%\n",
      "Progress: 36.81%\n",
      "Progress: 36.98%\n",
      "Progress: 37.15%\n",
      "Progress: 37.33%\n",
      "Progress: 37.50%\n",
      "Progress: 37.67%\n",
      "Progress: 37.85%\n",
      "Progress: 38.02%\n",
      "Progress: 38.19%\n",
      "Progress: 38.37%\n",
      "Progress: 38.54%\n",
      "Progress: 38.72%\n",
      "Progress: 38.89%\n",
      "Progress: 39.06%\n",
      "Progress: 39.24%\n",
      "Progress: 39.41%\n",
      "Progress: 39.58%\n",
      "Progress: 39.76%\n",
      "Progress: 39.93%\n",
      "Progress: 40.10%\n",
      "Progress: 40.28%\n",
      "Progress: 40.45%\n",
      "Progress: 40.62%\n",
      "Progress: 40.80%\n",
      "Progress: 40.97%\n",
      "Progress: 41.15%\n",
      "Progress: 41.32%\n",
      "Progress: 41.49%\n",
      "Progress: 41.67%\n",
      "Progress: 41.84%\n",
      "Progress: 42.01%\n",
      "Progress: 42.19%\n",
      "Progress: 42.36%\n",
      "Progress: 42.53%\n",
      "Progress: 42.71%\n",
      "Progress: 42.88%\n",
      "Progress: 43.06%\n",
      "Progress: 43.23%\n",
      "Progress: 43.40%\n",
      "Progress: 43.58%\n",
      "Progress: 43.75%\n",
      "Progress: 43.92%\n",
      "Progress: 44.10%\n",
      "Progress: 44.27%\n",
      "Progress: 44.44%\n",
      "Progress: 44.62%\n",
      "Progress: 44.79%\n",
      "Progress: 44.97%\n",
      "Progress: 45.14%\n",
      "Progress: 45.31%\n",
      "Progress: 45.49%\n",
      "Progress: 45.66%\n",
      "Progress: 45.83%\n",
      "Progress: 46.01%\n",
      "Progress: 46.18%\n",
      "Progress: 46.35%\n",
      "Progress: 46.53%\n",
      "Progress: 46.70%\n",
      "Progress: 46.88%\n",
      "Progress: 47.05%\n",
      "Progress: 47.22%\n",
      "Progress: 47.40%\n",
      "Progress: 47.57%\n",
      "Progress: 47.74%\n",
      "Progress: 47.92%\n",
      "Progress: 48.09%\n",
      "Progress: 48.26%\n",
      "Progress: 48.44%\n",
      "Progress: 48.61%\n",
      "Progress: 48.78%\n",
      "Progress: 48.96%\n",
      "Progress: 49.13%\n",
      "Progress: 49.31%\n",
      "Progress: 49.48%\n",
      "Progress: 49.65%\n",
      "Progress: 49.83%\n",
      "Progress: 50.00%\n",
      "Progress: 50.17%\n",
      "Progress: 50.35%\n",
      "Progress: 50.52%\n",
      "Progress: 50.69%\n",
      "Progress: 50.87%\n",
      "Progress: 51.04%\n",
      "Progress: 51.22%\n",
      "Progress: 51.39%\n",
      "Progress: 51.56%\n",
      "Progress: 51.74%\n",
      "Progress: 51.91%\n",
      "Progress: 52.08%\n",
      "Progress: 52.26%\n",
      "Progress: 52.43%\n",
      "Progress: 52.60%\n",
      "Progress: 52.78%\n",
      "Progress: 52.95%\n",
      "Progress: 53.12%\n",
      "Progress: 53.30%\n",
      "Progress: 53.47%\n",
      "Progress: 53.65%\n",
      "Progress: 53.82%\n",
      "Progress: 53.99%\n",
      "Progress: 54.17%\n",
      "Progress: 54.34%\n",
      "Progress: 54.51%\n",
      "Progress: 54.69%\n",
      "Progress: 54.86%\n",
      "Progress: 55.03%\n",
      "Progress: 55.21%\n",
      "Progress: 55.38%\n",
      "Progress: 55.56%\n",
      "Progress: 55.73%\n",
      "Progress: 55.90%\n",
      "Progress: 56.08%\n",
      "Progress: 56.25%\n",
      "Progress: 56.42%\n",
      "Progress: 56.60%\n",
      "Progress: 56.77%\n",
      "Progress: 56.94%\n",
      "Progress: 57.12%\n",
      "Progress: 57.29%\n",
      "Progress: 57.47%\n",
      "Progress: 57.64%\n",
      "Progress: 57.81%\n",
      "Progress: 57.99%\n",
      "Progress: 58.16%\n",
      "Progress: 58.33%\n",
      "Progress: 58.51%\n",
      "Progress: 58.68%\n",
      "Progress: 58.85%\n",
      "Progress: 59.03%\n",
      "Progress: 59.20%\n",
      "Progress: 59.38%\n",
      "Progress: 59.55%\n",
      "Progress: 59.72%\n",
      "Progress: 59.90%\n",
      "Progress: 60.07%\n",
      "Progress: 60.24%\n",
      "Progress: 60.42%\n",
      "Progress: 60.59%\n",
      "Progress: 60.76%\n",
      "Progress: 60.94%\n",
      "Progress: 61.11%\n",
      "Progress: 61.28%\n",
      "Progress: 61.46%\n",
      "Progress: 61.63%\n",
      "Progress: 61.81%\n",
      "Progress: 61.98%\n",
      "Progress: 62.15%\n",
      "Progress: 62.33%\n",
      "Progress: 62.50%\n",
      "Progress: 62.67%\n",
      "Progress: 62.85%\n",
      "Progress: 63.02%\n",
      "Progress: 63.19%\n",
      "Progress: 63.37%\n",
      "Progress: 63.54%\n",
      "Progress: 63.72%\n",
      "Progress: 63.89%\n",
      "Progress: 64.06%\n",
      "Progress: 64.24%\n",
      "Progress: 64.41%\n",
      "Progress: 64.58%\n",
      "Progress: 64.76%\n",
      "Progress: 64.93%\n",
      "Progress: 65.10%\n",
      "Progress: 65.28%\n",
      "Progress: 65.45%\n",
      "Progress: 65.62%\n",
      "Progress: 65.80%\n",
      "Progress: 65.97%\n",
      "Progress: 66.15%\n",
      "Progress: 66.32%\n",
      "Progress: 66.49%\n",
      "Progress: 66.67%\n",
      "Progress: 66.84%\n",
      "Progress: 67.01%\n",
      "Progress: 67.19%\n",
      "Progress: 67.36%\n",
      "Progress: 67.53%\n",
      "Progress: 67.71%\n",
      "Progress: 67.88%\n",
      "Progress: 68.06%\n",
      "Progress: 68.23%\n",
      "Progress: 68.40%\n",
      "Progress: 68.58%\n",
      "Progress: 68.75%\n",
      "Progress: 68.92%\n",
      "Progress: 69.10%\n",
      "Progress: 69.27%\n",
      "Progress: 69.44%\n",
      "Progress: 69.62%\n",
      "Progress: 69.79%\n",
      "Progress: 69.97%\n",
      "Progress: 70.14%\n",
      "Progress: 70.31%\n",
      "Progress: 70.49%\n",
      "Progress: 70.66%\n",
      "Progress: 70.83%\n",
      "Progress: 71.01%\n",
      "Progress: 71.18%\n",
      "Progress: 71.35%\n",
      "Progress: 71.53%\n",
      "Progress: 71.70%\n",
      "Progress: 71.88%\n",
      "Progress: 72.05%\n",
      "Progress: 72.22%\n",
      "Progress: 72.40%\n",
      "Progress: 72.57%\n",
      "Progress: 72.74%\n",
      "Progress: 72.92%\n",
      "Progress: 73.09%\n",
      "Progress: 73.26%\n",
      "Progress: 73.44%\n",
      "Progress: 73.61%\n",
      "Progress: 73.78%\n",
      "Progress: 73.96%\n",
      "Progress: 74.13%\n",
      "Progress: 74.31%\n",
      "Progress: 74.48%\n",
      "Progress: 74.65%\n",
      "Progress: 74.83%\n",
      "Progress: 75.00%\n",
      "Progress: 75.17%\n",
      "Progress: 75.35%\n",
      "Progress: 75.52%\n",
      "Progress: 75.69%\n",
      "Progress: 75.87%\n",
      "Progress: 76.04%\n",
      "Progress: 76.22%\n",
      "Progress: 76.39%\n",
      "Progress: 76.56%\n",
      "Progress: 76.74%\n",
      "Progress: 76.91%\n",
      "Progress: 77.08%\n",
      "Progress: 77.26%\n",
      "Progress: 77.43%\n",
      "Progress: 77.60%\n",
      "Progress: 77.78%\n",
      "Progress: 77.95%\n",
      "Progress: 78.12%\n",
      "Progress: 78.30%\n",
      "Progress: 78.47%\n",
      "Progress: 78.65%\n",
      "Progress: 78.82%\n",
      "Progress: 78.99%\n",
      "Progress: 79.17%\n",
      "Progress: 79.34%\n",
      "Progress: 79.51%\n",
      "Progress: 79.69%\n",
      "Progress: 79.86%\n",
      "Progress: 80.03%\n",
      "Progress: 80.21%\n",
      "Progress: 80.38%\n",
      "Progress: 80.56%\n",
      "Progress: 80.73%\n",
      "Progress: 80.90%\n",
      "Progress: 81.08%\n",
      "Progress: 81.25%\n",
      "Progress: 81.42%\n",
      "Progress: 81.60%\n",
      "Progress: 81.77%\n",
      "Progress: 81.94%\n",
      "Progress: 82.12%\n",
      "Progress: 82.29%\n",
      "Progress: 82.47%\n",
      "Progress: 82.64%\n",
      "Progress: 82.81%\n",
      "Progress: 82.99%\n",
      "Progress: 83.16%\n",
      "Progress: 83.33%\n",
      "Progress: 83.51%\n",
      "Progress: 83.68%\n",
      "Progress: 83.85%\n",
      "Progress: 84.03%\n",
      "Progress: 84.20%\n",
      "Progress: 84.38%\n",
      "Progress: 84.55%\n",
      "Progress: 84.72%\n",
      "Progress: 84.90%\n",
      "Progress: 85.07%\n",
      "Progress: 85.24%\n",
      "Progress: 85.42%\n",
      "Progress: 85.59%\n",
      "Progress: 85.76%\n",
      "Progress: 85.94%\n",
      "Progress: 86.11%\n",
      "Progress: 86.28%\n",
      "Progress: 86.46%\n",
      "Progress: 86.63%\n",
      "Progress: 86.81%\n",
      "Progress: 86.98%\n",
      "Progress: 87.15%\n",
      "Progress: 87.33%\n",
      "Progress: 87.50%\n",
      "Progress: 87.67%\n",
      "Progress: 87.85%\n",
      "Progress: 88.02%\n",
      "Progress: 88.19%\n",
      "Progress: 88.37%\n",
      "Progress: 88.54%\n",
      "Progress: 88.72%\n",
      "Progress: 88.89%\n",
      "Progress: 89.06%\n",
      "Progress: 89.24%\n",
      "Progress: 89.41%\n",
      "Progress: 89.58%\n",
      "Progress: 89.76%\n",
      "Progress: 89.93%\n",
      "Progress: 90.10%\n",
      "Progress: 90.28%\n",
      "Progress: 90.45%\n",
      "Progress: 90.62%\n",
      "Progress: 90.80%\n",
      "Progress: 90.97%\n",
      "Progress: 91.15%\n",
      "Progress: 91.32%\n",
      "Progress: 91.49%\n",
      "Progress: 91.67%\n",
      "Progress: 91.84%\n",
      "Progress: 92.01%\n",
      "Progress: 92.19%\n",
      "Progress: 92.36%\n",
      "Progress: 92.53%\n",
      "Progress: 92.71%\n",
      "Progress: 92.88%\n",
      "Progress: 93.06%\n",
      "Progress: 93.23%\n",
      "Progress: 93.40%\n",
      "Progress: 93.58%\n",
      "Progress: 93.75%\n",
      "Progress: 93.92%\n",
      "Progress: 94.10%\n",
      "Progress: 94.27%\n",
      "Progress: 94.44%\n",
      "Progress: 94.62%\n",
      "Progress: 94.79%\n",
      "Progress: 94.97%\n",
      "Progress: 95.14%\n",
      "Progress: 95.31%\n",
      "Progress: 95.49%\n",
      "Progress: 95.66%\n",
      "Progress: 95.83%\n",
      "Progress: 96.01%\n",
      "Progress: 96.18%\n",
      "Progress: 96.35%\n",
      "Progress: 96.53%\n",
      "Progress: 96.70%\n",
      "Progress: 96.88%\n",
      "Progress: 97.05%\n",
      "Progress: 97.22%\n",
      "Progress: 97.40%\n",
      "Progress: 97.57%\n",
      "Progress: 97.74%\n",
      "Progress: 97.92%\n",
      "Progress: 98.09%\n",
      "Progress: 98.26%\n",
      "Progress: 98.44%\n",
      "Progress: 98.61%\n",
      "Progress: 98.78%\n",
      "Progress: 98.96%\n",
      "Progress: 99.13%\n",
      "Progress: 99.31%\n",
      "Progress: 99.48%\n",
      "Progress: 99.65%\n",
      "Progress: 99.83%\n",
      "Progress: 100.00%\n"
     ]
    },
    {
     "data": {
      "text/plain": [
       "'done'"
      ]
     },
     "execution_count": 40,
     "metadata": {},
     "output_type": "execute_result"
    }
   ],
   "source": [
    "dump_discrete_log(L, P)"
   ]
  },
  {
   "cell_type": "code",
   "execution_count": 61,
   "id": "759d4819-89b1-4b77-897b-a0bc175564ef",
   "metadata": {},
   "outputs": [],
   "source": [
    "def load_csv_as_matrix(filename):\n",
    "    \"\"\"\n",
    "    load a .csv file which is a matrix of integers\n",
    "    \"\"\"\n",
    "    import csv\n",
    "    with open(filename, newline='') as csvfile:\n",
    "        reader = csv.reader(csvfile)\n",
    "        matrix = [list(map(int, row)) for row in reader]\n",
    "    return Matrix(matrix)"
   ]
  },
  {
   "cell_type": "code",
   "execution_count": 81,
   "id": "0ce9ef07-5d27-47a9-9291-c50b8e0db817",
   "metadata": {},
   "outputs": [
    {
     "name": "stdout",
     "output_type": "stream",
     "text": [
      "1723872719529775255168233477739808705550682172067583351531515002896576794274699331456573828897879671480606241901141153738537923622099791332217469260702699225221018982963916207228\n"
     ]
    }
   ],
   "source": [
    "filename = f\"data/discrete_log_eigenvector_matrix/discrete_log_dft_symmetric_group_finite_field_eigenvector_matrix_n={n}_q={q}.csv\"\n",
    "dlog_P = load_csv_as_matrix(filename); print(dlog_P[1,0])"
   ]
  },
  {
   "cell_type": "code",
   "execution_count": 82,
   "id": "f8659c2a-722c-476d-8073-8c25f2628be8",
   "metadata": {},
   "outputs": [],
   "source": [
    "#compute log1p of dlog_P, which makes the magnitudes much smaller\n",
    "dlop_P_numeric = np.array(dlog_P, dtype=np.float64)\n",
    "log1p_dlog_P = np.log1p(dlop_P_numeric)"
   ]
  },
  {
   "cell_type": "code",
   "execution_count": 84,
   "id": "00a2ebf6-1564-4ee3-903b-01015ff42ded",
   "metadata": {},
   "outputs": [],
   "source": [
    "import numpy as np\n",
    "import matplotlib.pyplot as plt\n",
    "from matplotlib.colors import ListedColormap, BoundaryNorm\n",
    "\n",
    "def plot_log1p_dlog(F, M, path, title):\n",
    "    \n",
    "    M_numeric = np.array(M, dtype=np.float64)\n",
    "    log1p_M = np.log1p(M_numeric) #apply log1p transformation\n",
    "    pos_log1p_M = log1p_M[(log1p_M != -np.inf) & (log1p_M != 0)] #mask out the -np.inf values and zero values for normalization\n",
    "\n",
    "    cmap = plt.cm.hsv  # Use the HSV colormap\n",
    "    num_colors = min(F.order(), 256)  # Limit the number of colors\n",
    "    new_colors = np.vstack(([0, 0, 0, 1], cmap(np.linspace(0, 1, num_colors))))\n",
    "    custom_cmap = ListedColormap(new_colors)  # Create a new custom colormap\n",
    "\n",
    "    # Normalize: exclude -np.inf values for the min/max scaling\n",
    "    norm = BoundaryNorm([np.min(pos_log1p_M), *np.linspace(np.min(pos_log1p_M), np.max(pos_log1p_M), num_colors)], custom_cmap.N)\n",
    "\n",
    "    # Plot the matrix with the custom colormap\n",
    "    plt.imshow(log1p_M, cmap=custom_cmap, norm=norm, interpolation=\"nearest\")\n",
    "    plt.title(title, fontsize=16)\n",
    "    plt.colorbar()\n",
    "    plot_title = path + title.replace(' ', '_') + '.png'\n",
    "    plt.savefig(plot_title, dpi=300, bbox_inches=\"tight\")\n",
    "    plt.show()"
   ]
  },
  {
   "cell_type": "code",
   "execution_count": 85,
   "id": "af605ddb-d4ab-4f68-9fb9-d5fec81f5255",
   "metadata": {},
   "outputs": [
    {
     "data": {
      "image/png": "[encoded data removed]",
      "text/plain": [
       "<Figure size 640x480 with 2 Axes>"
      ]
     },
     "metadata": {},
     "output_type": "display_data"
    }
   ],
   "source": [
    "plot_log1p_dlog(L,dlog_P,path='plots/eigenvectors/',title=f\"log1p of dlog of eigenvectors of uDFT for n={n} q={q} deg={L.degree()}\")"
   ]
  },
  {
   "cell_type": "code",
   "execution_count": null,
   "id": "951af921-9905-47f6-97a1-08288db68101",
   "metadata": {},
   "outputs": [],
   "source": []
  },
  {
   "cell_type": "code",
   "execution_count": null,
   "id": "0e5bc579-b1ae-4164-a2a3-09f8514bd966",
   "metadata": {},
   "outputs": [],
   "source": [
    "#PROOF: the conjugate of a square root in a finite field is the other solution (the negation)\n",
    "#F.<a> = GF(7^2) = GF(49)\n",
    "#sol'ns to x^2 == 5 = are \\pm 5\n",
    "#write 5 = a^k for some integer k\n",
    "#k = 5.log(a) = 40\n",
    "#so 5 = a^40\n",
    "#\\pm sqrt(5) =  \\pm a^{40/2} = \\pm a^20 = {a^20, -a^20} = {a^20, a^24*a^20} = {a^20, a^44}\n",
    "# (a^20)^q = a^(7*20) = a^140 = a^(140 % 48) = a^44"
   ]
  },
  {
   "cell_type": "code",
   "execution_count": 209,
   "id": "51d8a19b-5c3c-4fc8-a627-833041cb9a16",
   "metadata": {},
   "outputs": [],
   "source": [
    "#PROOF: the conjugate of a square root in a finite field is the other solution (the negation)\n",
    "#F.<a> = GF(q^2)\n",
    "#sol'ns to x^2 == \\lambda: \\pm sqrt(\\lambda) = \\pm a^{k/2}\n",
    "#\\lambda = a^k, where k = \\lambda.log(a)\n",
    "#note -1 = a^{(q^2-1)/2}\n",
    "#so -a^{k/2} = a^{(q^2-1)/2}*a^{k/2} = a^{(q^2-1)/2 + k/2} = a^{(q^2 - 1 + k)/2}\n",
    "#(a^{k/2})^q = a^{q*k/2}\n",
    "#we need q*k/2 == (q^2 - 1 + k)/2 (mod q^2 - 1)\n",
    "#NOTE: 2 is not necessarily invertible mod q^2-1 since this is even"
   ]
  },
  {
   "cell_type": "code",
   "execution_count": null,
   "id": "4567efef-07d3-411d-9a9f-9abe23731a30",
   "metadata": {},
   "outputs": [],
   "source": []
  }
 ],
 "metadata": {
  "kernelspec": {
   "display_name": "SageMath 10.5",
   "language": "sage",
   "name": "sagemath-10.5"
  },
  "language_info": {
   "codemirror_mode": {
    "name": "ipython",
    "version": 3
   },
   "file_extension": ".py",
   "mimetype": "text/x-python",
   "name": "python",
   "nbconvert_exporter": "python",
   "pygments_lexer": "ipython3",
   "version": "3.12.5"
  }
 },
 "nbformat": 4,
 "nbformat_minor": 5
}
