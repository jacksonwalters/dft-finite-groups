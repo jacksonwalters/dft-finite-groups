{
 "cells": [
  {
   "cell_type": "code",
   "execution_count": 1,
   "id": "ba61a7c6-db85-4449-bd7a-b6209451b0a4",
   "metadata": {},
   "outputs": [],
   "source": [
    "#compute the uDFT by noting DFT.DFT^* = D, a diagonal matrix, and factoring as D = RR^*, so uDFT = R^{-1}.DFT\n",
    "#alternately, one could use unitary representations and normalization factors \\sqrt{d_\\rho/|G|}\n",
    "#the resulting DFT will have signs \\pm 1 on the diagonal DFT.DFT^* = S, which can be factored as s = rr^*, so S=RR^*\n",
    "#again, uDFT = R^{-1}.DFT"
   ]
  },
  {
   "cell_type": "code",
   "execution_count": 2,
   "id": "87608a01-b641-437c-85f7-0ff5d23f805d",
   "metadata": {},
   "outputs": [],
   "source": [
    "import os"
   ]
  },
  {
   "cell_type": "code",
   "execution_count": 3,
   "id": "367e923c-c757-478e-bedd-e752e8792357",
   "metadata": {},
   "outputs": [],
   "source": [
    "#for u in GF(q), we can factor as u=aa^*=aa^q=a^{q+1} in GF(q**2) using gen. z and modular arithmetic\n",
    "def conj_sqrt(u):\n",
    "    if u == 0:\n",
    "        return 0\n",
    "    z = u.parent().multiplicative_generator()\n",
    "    k = u.log(z)  # Compute discrete log of u to the base z\n",
    "    if k % (q+1) != 0:\n",
    "        raise ValueError(\"exponent must be divisible by q+1\")\n",
    "    return z ** (k//(q+1))"
   ]
  },
  {
   "cell_type": "code",
   "execution_count": 4,
   "id": "d436942b-2764-48cb-a318-e943960b671d",
   "metadata": {},
   "outputs": [],
   "source": [
    "#compute the uDFT by noting DFT.DFT^* = D, a diagonal matrix, and factoring as D = RR^*, so uDFT = R^{-1}.DFT\n",
    "def unitary_dft():\n",
    "    dft_matrix = SGA.dft()\n",
    "    sign_diag = (dft_matrix*dft_matrix.H).diagonal()\n",
    "    factor_diag_inv = diagonal_matrix([~conj_sqrt(d) for d in sign_diag])\n",
    "    return factor_diag_inv*dft_matrix"
   ]
  },
  {
   "cell_type": "code",
   "execution_count": 6,
   "id": "8638af45-82cd-4ee0-936d-3fdbeb482f32",
   "metadata": {},
   "outputs": [],
   "source": [
    "#parameters and define the symmetric group algebra\n",
    "n = 5; q = 7\n",
    "F = GF(q**2)\n",
    "SGA = SymmetricGroupAlgebra(F,n) # F[S_n], group algebra\n",
    "assert F.characteristic() > 0, \"F must have positive characteristic\"\n",
    "if not (F.is_field() and F.is_finite() and F.order().is_square()):\n",
    "    raise ValueError(\"the base ring must be a finite field of square order\")\n",
    "if F.characteristic().divides(SGA.group().cardinality()):\n",
    "    raise NotImplementedError(\"not implemented when p|n!; dimension of invariant forms may be greater than one\")"
   ]
  },
  {
   "cell_type": "code",
   "execution_count": 7,
   "id": "1251c71a-3b52-43e8-bf6d-8f3dea6e4007",
   "metadata": {},
   "outputs": [
    {
     "data": {
      "text/plain": [
       "120 x 120 dense matrix over Finite Field in z2 of size 7^2 (use the '.str()' method to see the entries)"
      ]
     },
     "execution_count": 7,
     "metadata": {},
     "output_type": "execute_result"
    }
   ],
   "source": [
    "#converting the unitary DFT over finite fields to a complex matrix using the root of unity map\n",
    "U = unitary_dft(); U"
   ]
  },
  {
   "cell_type": "code",
   "execution_count": 8,
   "id": "58cdb5f2-a153-4884-9aab-906d8f9464b5",
   "metadata": {},
   "outputs": [
    {
     "data": {
      "text/plain": [
       "True"
      ]
     },
     "execution_count": 8,
     "metadata": {},
     "output_type": "execute_result"
    }
   ],
   "source": [
    "#check that U is unitary over a finite field. .H is conjugate-transpose\n",
    "U*U.H == 1"
   ]
  },
  {
   "cell_type": "code",
   "execution_count": 9,
   "id": "741f25cc-52c7-43c1-8d7c-7fc148df3bdc",
   "metadata": {},
   "outputs": [],
   "source": [
    "#given a multiplicative generator `z` of the finite field, the discrete_log is the exponent of the generator\n",
    "#the discrete_log of zero is -infinity, which we set to -1 for convenience since all other values are nonnegative\n",
    "discrete_log = lambda F, x: x.log(F.multiplicative_generator()) if x != 0 else -1"
   ]
  },
  {
   "cell_type": "code",
   "execution_count": 11,
   "id": "0d5de1cd-1b8e-49b6-a959-0773c9c1314b",
   "metadata": {},
   "outputs": [],
   "source": [
    "#compute the discrete log of each entry of U\n",
    "dlog_U = U.apply_map(lambda x: discrete_log(F,x))"
   ]
  },
  {
   "cell_type": "code",
   "execution_count": 12,
   "id": "a1624dfe-11e0-45fd-af51-7d5d70b86315",
   "metadata": {},
   "outputs": [
    {
     "data": {
      "text/plain": [
       "120 x 120 dense matrix over Integer Ring (use the '.str()' method to see the entries)"
      ]
     },
     "execution_count": 12,
     "metadata": {},
     "output_type": "execute_result"
    }
   ],
   "source": [
    "dlog_U"
   ]
  },
  {
   "cell_type": "code",
   "execution_count": 13,
   "id": "425df9fe-be30-40e3-8aff-fa1348bc74f4",
   "metadata": {},
   "outputs": [],
   "source": [
    "\"\"\"\n",
    "plot the discrete log of a matrix valued in a finite field\n",
    "since log(0) = -infinity, we set this to -1, and color it black\n",
    "\n",
    "- `F`: is the field\n",
    "- `M`: is a matrix of discrete log values of elements of F\n",
    "- `path`: the prefix of the directory to save the file\n",
    "- `title`: the title of the plot, used in the saved name replacing ` ` with `_`\n",
    "- `normalize`: optional parameter to rescale values by F.order() - 1, or take log1p of values\n",
    "\n",
    "\"\"\"\n",
    "def plot_discrete_log(F, M, path, title, normalize=None):\n",
    "    import numpy as np\n",
    "    import matplotlib.pyplot as plt\n",
    "    from matplotlib.colors import ListedColormap, BoundaryNorm\n",
    "\n",
    "    if normalize == \"rescale\":\n",
    "        rescaled_M = M / (F.order() - 1)  # Normalize values to [0, 1]\n",
    "        value_range = 1\n",
    "    if normalize == \"log1p\":\n",
    "        M_numeric = np.array(M, dtype=np.float64) #convert array to numpy floats\n",
    "        log1p_M = np.log1p(M_numeric) #apply log1p transformation\n",
    "        pos_log1p_M = log1p_M[(log1p_M != -np.inf) & (log1p_M != 0)] #mask out the -np.inf values and zero values for normalization\n",
    "    if normalize == None:\n",
    "        value_range = F.order() - 1\n",
    "    \n",
    "    cmap = plt.cm.hsv\n",
    "    num_colors = min(256, 256)\n",
    "    new_colors = np.vstack(([0, 0, 0, 1], cmap(np.linspace(0, 1, num_colors))))\n",
    "    custom_cmap = ListedColormap(new_colors)\n",
    "\n",
    "    # Normalize: exclude -np.inf values for the min/max scaling\n",
    "    if normalize == \"log1p\":\n",
    "        norm = BoundaryNorm([np.min(pos_log1p_M), *np.linspace(np.min(pos_log1p_M), np.max(pos_log1p_M), num_colors)], custom_cmap.N)\n",
    "    else:\n",
    "        norm = BoundaryNorm([-1] + list(np.linspace(0, value_range, num_colors)), custom_cmap.N)\n",
    "\n",
    "    if normalize == \"rescale\":\n",
    "        plt.imshow(rescaled_M, cmap=custom_cmap, norm=norm, interpolation=\"nearest\")\n",
    "    if normalize == \"log1p\":\n",
    "        plt.imshow(log1p_M, cmap=custom_cmap, norm=norm, interpolation=\"nearest\")\n",
    "    if normalize == None:\n",
    "        plt.imshow(M, cmap=custom_cmap, norm=norm, interpolation=\"nearest\")\n",
    "    \n",
    "    plt.title(title, fontsize=16)\n",
    "    plt.colorbar()\n",
    "    \n",
    "    # Adjust filename based on normalization\n",
    "    plot_path_filename = f\"{path}{title.replace(' ', '_')}_norm={normalize}.png\"\n",
    "    \n",
    "    plt.savefig(plot_path_filename, dpi=300, bbox_inches=\"tight\")\n",
    "    plt.show()"
   ]
  },
  {
   "cell_type": "code",
   "execution_count": 14,
   "id": "dd212ab8-22f9-4968-954f-64a822d3e205",
   "metadata": {},
   "outputs": [
    {
     "data": {
      "image/png": "[encoded data removed]",
      "text/plain": [
       "<Figure size 640x480 with 2 Axes>"
      ]
     },
     "metadata": {},
     "output_type": "display_data"
    }
   ],
   "source": [
    "plot_discrete_log(F,dlog_U,path='plots/dft_matrix/',title=f\"discrete log of uDFT for n={n} q={q}\",normalize=None)"
   ]
  },
  {
   "cell_type": "code",
   "execution_count": 15,
   "id": "dbf3c83d-ea6e-4dcd-a491-332a715dcbe1",
   "metadata": {},
   "outputs": [],
   "source": [
    "#the map from modular representation theory to compute Brauer characters from F_q --> \\C giving roots of unity\n",
    "#note: Brauer character is the rep'n matrix eigenvalues (over a splitting field extension of F_q) mapped to \\C using Brauer map and summed\n",
    "#i.e. let \\alpha = g^k |--> \\exp(2*pi*i*k/(q-1))\n",
    "#i.e. F_q^* is cyclic of order q-1, mapping to (q-1)^th roots of unity in \\C\n",
    "#if the discrete log is provided, we use it directly; otherwise, we compute it\n",
    "def brauer_map(F, a=None, log_a=None):\n",
    "    \"\"\"\n",
    "    Map from F_q to C using the Brauer character formula.\n",
    "    If `log_a` is provided, it uses that directly; otherwise, it computes the log.\n",
    "    \n",
    "    a: Element of F_q or None if log_a is given\n",
    "    log_a: Precomputed log value (optional)\n",
    "    F: Finite field F_q\n",
    "    \n",
    "    Returns: Complex value of the Brauer character\n",
    "    \"\"\"\n",
    "    if a is None and log_a is None:\n",
    "        raise ValueError(\"Either 'a' or 'log_a' must be provided.\")\n",
    "    \n",
    "    if a is not None:\n",
    "        if a == 0:\n",
    "            return 0\n",
    "        log_a = a.log(F.multiplicative_generator())\n",
    "    \n",
    "    return exp(2 * pi * I * log_a / (F.order() - 1))"
   ]
  },
  {
   "cell_type": "code",
   "execution_count": 16,
   "id": "913954c0-dfdf-4099-b9b2-7c59a5e6e767",
   "metadata": {},
   "outputs": [],
   "source": [
    "#complexify the uDFT matrix over F_q using the Brauer map\n",
    "U_complex = matrix(CC,U.apply_map(lambda a: brauer_map(F,a)))"
   ]
  },
  {
   "cell_type": "code",
   "execution_count": 17,
   "id": "2ce4d9b0-c891-40de-9e2d-92e941e05901",
   "metadata": {},
   "outputs": [],
   "source": [
    "#compute the Gram matrix, taking inner products of rows and columns w.r.t conjugate inner product\n",
    "#note: want this to be the identity matrix (so it would be unitary over \\C), but currently it is not quite\n",
    "#unitary matrices are required if they are to be used as operators in quantum computing\n",
    "gram = U_complex*U_complex.H"
   ]
  },
  {
   "cell_type": "code",
   "execution_count": 18,
   "id": "9e4e0a10-8c5f-42df-974b-0e729c6ba084",
   "metadata": {},
   "outputs": [],
   "source": [
    "#function to round each component of a complex number \n",
    "def round_complex(z, digits):\n",
    "    if z.imag_part():\n",
    "        return round(z.real_part(), digits) + round(z.imag_part(), digits) * I\n",
    "    return round(z, digits)"
   ]
  },
  {
   "cell_type": "code",
   "execution_count": 19,
   "id": "2ce34d19-f35e-486b-b373-1c77c4e5724f",
   "metadata": {},
   "outputs": [],
   "source": [
    "#round the (complex) Gram matrix to three decimal places\n",
    "gram_rounded = gram.apply_map(lambda u:round_complex(u,3))"
   ]
  },
  {
   "cell_type": "code",
   "execution_count": 20,
   "id": "cc3df8b2-4ee4-4643-8963-be7578c9485c",
   "metadata": {},
   "outputs": [],
   "source": [
    "#plot the complexified version of the uDFT matrix over a finite field\n",
    "def plot_arg_complex(U_complex, title):\n",
    "    U_arg = U_complex.apply_map(lambda x: arg(x))  # find the argument of each element\n",
    "    plot = matrix_plot(U_arg, cmap='hsv', colorbar=True, title=title)  # plot the matrix\n",
    "    filename = \"plots/dft_matrix/\" + title.replace(\" \", \"_\") + \".png\"\n",
    "    plot.save(filename, dpi=300)  # Save the plot as a PNG file with high resolution\n",
    "    return plot"
   ]
  },
  {
   "cell_type": "code",
   "execution_count": 21,
   "id": "daca587f-859b-42fb-9c22-08f9e377c953",
   "metadata": {},
   "outputs": [
    {
     "data": {
      "image/png": "[encoded data removed]",
      "text/plain": [
       "Graphics object consisting of 1 graphics primitive"
      ]
     },
     "execution_count": 21,
     "metadata": {},
     "output_type": "execute_result"
    }
   ],
   "source": [
    "#plot the complexified version of the uDFT matrix over a finite field\n",
    "plot_arg_complex(U_complex,title=f\"arg of complexified uDFT of S_{n} over F_{q**2}\")"
   ]
  },
  {
   "cell_type": "code",
   "execution_count": 22,
   "id": "1e1f300a-33e1-435d-9e15-8548b27ea103",
   "metadata": {},
   "outputs": [
    {
     "data": {
      "text/plain": [
       "True"
      ]
     },
     "execution_count": 22,
     "metadata": {},
     "output_type": "execute_result"
    }
   ],
   "source": [
    "#check that Gram matrix is conjugate symmetric (should be since it is U*U.H)\n",
    "gram_rounded == gram_rounded.H"
   ]
  },
  {
   "cell_type": "code",
   "execution_count": 23,
   "id": "89edaab1-11b3-4425-b764-25a301e78785",
   "metadata": {},
   "outputs": [
    {
     "data": {
      "image/png": "[encoded data removed]",
      "text/plain": [
       "Graphics object consisting of 1 graphics primitive"
      ]
     },
     "execution_count": 23,
     "metadata": {},
     "output_type": "execute_result"
    }
   ],
   "source": [
    "#plot the result of U_complex*U_complex.H to see how far it is from being unitary over the complex numbers\n",
    "plot_arg_complex(gram_rounded, title=f\"arg of gram matrix of complexified uDFT of S_{n} over F_{q**2}\")"
   ]
  },
  {
   "cell_type": "code",
   "execution_count": 45,
   "id": "187d0d5b-3f3c-4d75-866d-36e3a509b54d",
   "metadata": {},
   "outputs": [
    {
     "ename": "KeyboardInterrupt",
     "evalue": "",
     "output_type": "error",
     "traceback": [
      "\u001b[0;31m---------------------------------------------------------------------------\u001b[0m",
      "\u001b[0;31mKeyboardInterrupt\u001b[0m                         Traceback (most recent call last)",
      "Cell \u001b[0;32mIn[45], line 3\u001b[0m\n\u001b[1;32m      1\u001b[0m \u001b[38;5;66;03m#load or compute+save the eigenvalues of the uDFT matrix over the algebraic closure of F\u001b[39;00m\n\u001b[1;32m      2\u001b[0m F_bar \u001b[38;5;241m=\u001b[39m GF(q\u001b[38;5;241m*\u001b[39m\u001b[38;5;241m*\u001b[39mInteger(\u001b[38;5;241m2\u001b[39m))\u001b[38;5;241m.\u001b[39malgebraic_closure()\n\u001b[0;32m----> 3\u001b[0m eigenvalues \u001b[38;5;241m=\u001b[39m matrix(F_bar,U)\u001b[38;5;241m.\u001b[39meigenvalues(); eigenvalues\n\u001b[1;32m      4\u001b[0m \u001b[38;5;66;03m#load or compute+save eigenvalues over K\u001b[39;00m\n\u001b[1;32m      5\u001b[0m path \u001b[38;5;241m=\u001b[39m \u001b[38;5;124m'\u001b[39m\u001b[38;5;124mdata/eigenvalues\u001b[39m\u001b[38;5;124m'\u001b[39m\n",
      "File \u001b[0;32m/private/var/tmp/sage-10.5-current/local/var/lib/sage/venv-python3.12.5/lib/python3.12/site-packages/sage/matrix/matrix2.pyx:6961\u001b[0m, in \u001b[0;36msage.matrix.matrix2.Matrix.eigenvalues (build/cythonized/sage/matrix/matrix2.c:62036)\u001b[0;34m()\u001b[0m\n\u001b[1;32m   6959\u001b[0m \n\u001b[1;32m   6960\u001b[0m         res = []\n\u001b[0;32m-> 6961\u001b[0m         for f, e in self.charpoly().change_ring(K).factor():\n\u001b[1;32m   6962\u001b[0m             if f.degree() == 1:\n\u001b[1;32m   6963\u001b[0m                 res.extend([-f.constant_coefficient()]*e)\n",
      "File \u001b[0;32m/private/var/tmp/sage-10.5-current/local/var/lib/sage/venv-python3.12.5/lib/python3.12/site-packages/sage/matrix/matrix2.pyx:3232\u001b[0m, in \u001b[0;36msage.matrix.matrix2.Matrix.charpoly (build/cythonized/sage/matrix/matrix2.c:34707)\u001b[0;34m()\u001b[0m\n\u001b[1;32m   3230\u001b[0m if f is None:\n\u001b[1;32m   3231\u001b[0m     if R in _Fields and R.is_exact():\n\u001b[0;32m-> 3232\u001b[0m         f = self._charpoly_hessenberg(var)\n\u001b[1;32m   3233\u001b[0m     else:\n\u001b[1;32m   3234\u001b[0m         f = self._charpoly_df(var)\n",
      "File \u001b[0;32m/private/var/tmp/sage-10.5-current/local/var/lib/sage/venv-python3.12.5/lib/python3.12/site-packages/sage/matrix/matrix2.pyx:3754\u001b[0m, in \u001b[0;36msage.matrix.matrix2.Matrix._charpoly_hessenberg (build/cythonized/sage/matrix/matrix2.c:39566)\u001b[0;34m()\u001b[0m\n\u001b[1;32m   3752\u001b[0m # (note the entries might now live in the fraction field)\n\u001b[1;32m   3753\u001b[0m cdef Matrix H\n\u001b[0;32m-> 3754\u001b[0m H = self.hessenberg_form()\n\u001b[1;32m   3755\u001b[0m \n\u001b[1;32m   3756\u001b[0m # We represent the intermediate polynomials that come up in\n",
      "File \u001b[0;32m/private/var/tmp/sage-10.5-current/local/var/lib/sage/venv-python3.12.5/lib/python3.12/site-packages/sage/matrix/matrix2.pyx:3621\u001b[0m, in \u001b[0;36msage.matrix.matrix2.Matrix.hessenberg_form (build/cythonized/sage/matrix/matrix2.c:38515)\u001b[0;34m()\u001b[0m\n\u001b[1;32m   3619\u001b[0m else:\n\u001b[1;32m   3620\u001b[0m     H = self.__copy__()\n\u001b[0;32m-> 3621\u001b[0m     H.hessenbergize()\n\u001b[1;32m   3622\u001b[0m # end if\n\u001b[1;32m   3623\u001b[0m self.cache('hessenberg_form', H)\n",
      "File \u001b[0;32m/private/var/tmp/sage-10.5-current/local/var/lib/sage/venv-python3.12.5/lib/python3.12/site-packages/sage/matrix/matrix2.pyx:3717\u001b[0m, in \u001b[0;36msage.matrix.matrix2.Matrix.hessenbergize (build/cythonized/sage/matrix/matrix2.c:39250)\u001b[0;34m()\u001b[0m\n\u001b[1;32m   3715\u001b[0m                 # column m, and we're only worried about column m-1 right now.\n\u001b[1;32m   3716\u001b[0m                 # Add u*column_j to column_m.\n\u001b[0;32m-> 3717\u001b[0m                 self.add_multiple_of_column_c(m, j, u, 0)\n\u001b[1;32m   3718\u001b[0m verbose(f\"Finished Hessenberg Normal Form of {n}x{n} matrix\",\n\u001b[1;32m   3719\u001b[0m         level=2, t=tm)\n",
      "File \u001b[0;32m/private/var/tmp/sage-10.5-current/local/var/lib/sage/venv-python3.12.5/lib/python3.12/site-packages/sage/matrix/matrix0.pyx:3148\u001b[0m, in \u001b[0;36msage.matrix.matrix0.Matrix.add_multiple_of_column_c (build/cythonized/sage/matrix/matrix0.c:30239)\u001b[0;34m()\u001b[0m\n\u001b[1;32m   3146\u001b[0m     cdef Py_ssize_t r\n\u001b[1;32m   3147\u001b[0m     for r from start_row <= r < self._nrows:\n\u001b[0;32m-> 3148\u001b[0m         self.set_unsafe(r, i, self.get_unsafe(r, i) + s*self.get_unsafe(r, j))\n\u001b[1;32m   3149\u001b[0m \n\u001b[1;32m   3150\u001b[0m def with_added_multiple_of_column(self, Py_ssize_t i, Py_ssize_t j, s, Py_ssize_t start_row=0):\n",
      "File \u001b[0;32m/private/var/tmp/sage-10.5-current/local/var/lib/sage/venv-python3.12.5/lib/python3.12/site-packages/sage/structure/element.pyx:1219\u001b[0m, in \u001b[0;36msage.structure.element.Element.__add__ (build/cythonized/sage/structure/element.c:19012)\u001b[0;34m()\u001b[0m\n\u001b[1;32m   1217\u001b[0m cdef int cl = classify_elements(left, right)\n\u001b[1;32m   1218\u001b[0m if HAVE_SAME_PARENT(cl):\n\u001b[0;32m-> 1219\u001b[0m     return (<Element>left)._add_(right)\n\u001b[1;32m   1220\u001b[0m # Left and right are Sage elements => use coercion model\n\u001b[1;32m   1221\u001b[0m if BOTH_ARE_ELEMENT(cl):\n",
      "File \u001b[0;32m/private/var/tmp/sage-10.5-current/local/var/lib/sage/venv-python3.12.5/lib/python3.12/site-packages/sage/structure/element.pyx:2376\u001b[0m, in \u001b[0;36msage.structure.element.ModuleElement._add_ (build/cythonized/sage/structure/element.c:23870)\u001b[0;34m()\u001b[0m\n\u001b[1;32m   2374\u001b[0m Generic element of a module.\n\u001b[1;32m   2375\u001b[0m \"\"\"\n\u001b[0;32m-> 2376\u001b[0m cpdef _add_(self, other):\n\u001b[1;32m   2377\u001b[0m     \"\"\"\n\u001b[1;32m   2378\u001b[0m     Abstract addition method.\n",
      "File \u001b[0;32m/private/var/tmp/sage-10.5-current/local/var/lib/sage/venv-python3.12.5/lib/python3.12/site-packages/sage/rings/algebraic_closure_finite_field.py:204\u001b[0m, in \u001b[0;36mAlgebraicClosureFiniteFieldElement._add_\u001b[0;34m(self, right)\u001b[0m\n\u001b[1;32m    202\u001b[0m F \u001b[38;5;241m=\u001b[39m \u001b[38;5;28mself\u001b[39m\u001b[38;5;241m.\u001b[39mparent()\n\u001b[1;32m    203\u001b[0m x, y \u001b[38;5;241m=\u001b[39m F\u001b[38;5;241m.\u001b[39m_to_common_subfield(\u001b[38;5;28mself\u001b[39m, right)\n\u001b[0;32m--> 204\u001b[0m \u001b[38;5;28;01mreturn\u001b[39;00m \u001b[38;5;28;43mself\u001b[39;49m\u001b[38;5;241;43m.\u001b[39;49m\u001b[38;5;18;43m__class__\u001b[39;49m\u001b[43m(\u001b[49m\u001b[43mF\u001b[49m\u001b[43m,\u001b[49m\u001b[43m \u001b[49m\u001b[43mx\u001b[49m\u001b[43m \u001b[49m\u001b[38;5;241;43m+\u001b[39;49m\u001b[43m \u001b[49m\u001b[43my\u001b[49m\u001b[43m)\u001b[49m\n",
      "File \u001b[0;32m/private/var/tmp/sage-10.5-current/local/var/lib/sage/venv-python3.12.5/lib/python3.12/site-packages/sage/rings/algebraic_closure_finite_field.py:96\u001b[0m, in \u001b[0;36mAlgebraicClosureFiniteFieldElement.__init__\u001b[0;34m(self, parent, value)\u001b[0m\n\u001b[1;32m     94\u001b[0m     \u001b[38;5;28;01mfrom\u001b[39;00m \u001b[38;5;21;01msage\u001b[39;00m\u001b[38;5;21;01m.\u001b[39;00m\u001b[38;5;21;01mrings\u001b[39;00m\u001b[38;5;21;01m.\u001b[39;00m\u001b[38;5;21;01minteger\u001b[39;00m \u001b[38;5;28;01mimport\u001b[39;00m Integer\n\u001b[1;32m     95\u001b[0m     n \u001b[38;5;241m=\u001b[39m Integer(\u001b[38;5;241m1\u001b[39m)\n\u001b[0;32m---> 96\u001b[0m \u001b[38;5;28mself\u001b[39m\u001b[38;5;241m.\u001b[39m_value \u001b[38;5;241m=\u001b[39m \u001b[43mparent\u001b[49m\u001b[38;5;241;43m.\u001b[39;49m\u001b[43m_subfield\u001b[49m\u001b[43m(\u001b[49m\u001b[43mn\u001b[49m\u001b[43m)\u001b[49m\u001b[38;5;241m.\u001b[39mcoerce(value)\n\u001b[1;32m     97\u001b[0m \u001b[38;5;28mself\u001b[39m\u001b[38;5;241m.\u001b[39m_level \u001b[38;5;241m=\u001b[39m n\n\u001b[1;32m     98\u001b[0m FieldElement\u001b[38;5;241m.\u001b[39m\u001b[38;5;21m__init__\u001b[39m(\u001b[38;5;28mself\u001b[39m, parent)\n",
      "File \u001b[0;32m/private/var/tmp/sage-10.5-current/local/var/lib/sage/venv-python3.12.5/lib/python3.12/site-packages/sage/rings/algebraic_closure_finite_field.py:751\u001b[0m, in \u001b[0;36mAlgebraicClosureFiniteField_generic._subfield\u001b[0;34m(self, n)\u001b[0m\n\u001b[1;32m    749\u001b[0m \u001b[38;5;28;01melse\u001b[39;00m:\n\u001b[1;32m    750\u001b[0m     \u001b[38;5;28;01mfrom\u001b[39;00m \u001b[38;5;21;01msage\u001b[39;00m\u001b[38;5;21;01m.\u001b[39;00m\u001b[38;5;21;01mrings\u001b[39;00m\u001b[38;5;21;01m.\u001b[39;00m\u001b[38;5;21;01mfinite_rings\u001b[39;00m\u001b[38;5;21;01m.\u001b[39;00m\u001b[38;5;21;01mfinite_field_constructor\u001b[39;00m \u001b[38;5;28;01mimport\u001b[39;00m FiniteField\n\u001b[0;32m--> 751\u001b[0m     \u001b[38;5;28;01mreturn\u001b[39;00m \u001b[43mFiniteField\u001b[49m\u001b[43m(\u001b[49m\u001b[38;5;28;43mself\u001b[39;49m\u001b[38;5;241;43m.\u001b[39;49m\u001b[43mbase_ring\u001b[49m\u001b[43m(\u001b[49m\u001b[43m)\u001b[49m\u001b[38;5;241;43m.\u001b[39;49m\u001b[43mcardinality\u001b[49m\u001b[43m(\u001b[49m\u001b[43m)\u001b[49m\u001b[43m \u001b[49m\u001b[38;5;241;43m*\u001b[39;49m\u001b[38;5;241;43m*\u001b[39;49m\u001b[43m \u001b[49m\u001b[43mn\u001b[49m\u001b[43m,\u001b[49m\n\u001b[1;32m    752\u001b[0m \u001b[43m                       \u001b[49m\u001b[43mname\u001b[49m\u001b[38;5;241;43m=\u001b[39;49m\u001b[38;5;28;43mself\u001b[39;49m\u001b[38;5;241;43m.\u001b[39;49m\u001b[43mvariable_name\u001b[49m\u001b[43m(\u001b[49m\u001b[43m)\u001b[49m\u001b[43m \u001b[49m\u001b[38;5;241;43m+\u001b[39;49m\u001b[43m \u001b[49m\u001b[38;5;28;43mstr\u001b[39;49m\u001b[43m(\u001b[49m\u001b[43mn\u001b[49m\u001b[43m)\u001b[49m\u001b[43m,\u001b[49m\n\u001b[1;32m    753\u001b[0m \u001b[43m                       \u001b[49m\u001b[43mprefix\u001b[49m\u001b[38;5;241;43m=\u001b[39;49m\u001b[38;5;28;43mself\u001b[39;49m\u001b[38;5;241;43m.\u001b[39;49m\u001b[43mvariable_name\u001b[49m\u001b[43m(\u001b[49m\u001b[43m)\u001b[49m\u001b[43m,\u001b[49m\n\u001b[1;32m    754\u001b[0m \u001b[43m                       \u001b[49m\u001b[43mmodulus\u001b[49m\u001b[38;5;241;43m=\u001b[39;49m\u001b[38;5;28;43mself\u001b[39;49m\u001b[38;5;241;43m.\u001b[39;49m\u001b[43m_get_polynomial\u001b[49m\u001b[43m(\u001b[49m\u001b[43mn\u001b[49m\u001b[43m)\u001b[49m\u001b[43m,\u001b[49m\n\u001b[1;32m    755\u001b[0m \u001b[43m                       \u001b[49m\u001b[43mcheck_irreducible\u001b[49m\u001b[38;5;241;43m=\u001b[39;49m\u001b[38;5;28;43;01mFalse\u001b[39;49;00m\u001b[43m)\u001b[49m\n",
      "File \u001b[0;32m/private/var/tmp/sage-10.5-current/local/var/lib/sage/venv-python3.12.5/lib/python3.12/site-packages/sage/structure/factory.pyx:371\u001b[0m, in \u001b[0;36msage.structure.factory.UniqueFactory.__call__ (build/cythonized/sage/structure/factory.c:4178)\u001b[0;34m()\u001b[0m\n\u001b[1;32m    369\u001b[0m     False\n\u001b[1;32m    370\u001b[0m \"\"\"\n\u001b[0;32m--> 371\u001b[0m key, kwds = self.create_key_and_extra_args(*args, **kwds)\n\u001b[1;32m    372\u001b[0m version = self.get_version(sage_version)\n\u001b[1;32m    373\u001b[0m return self.get_object(version, key, kwds)\n",
      "File \u001b[0;32m/private/var/tmp/sage-10.5-current/local/var/lib/sage/venv-python3.12.5/lib/python3.12/site-packages/sage/rings/finite_rings/finite_field_constructor.py:652\u001b[0m, in \u001b[0;36mFiniteFieldFactory.create_key_and_extra_args\u001b[0;34m(self, order, name, modulus, names, impl, proof, check_prime, check_irreducible, prefix, repr, elem_cache, **kwds)\u001b[0m\n\u001b[1;32m    650\u001b[0m \u001b[38;5;28;01melse\u001b[39;00m:\n\u001b[1;32m    651\u001b[0m     \u001b[38;5;28;01mif\u001b[39;00m \u001b[38;5;28misinstance\u001b[39m(modulus, Polynomial):\n\u001b[0;32m--> 652\u001b[0m         modulus \u001b[38;5;241m=\u001b[39m \u001b[43mmodulus\u001b[49m\u001b[38;5;241;43m.\u001b[39;49m\u001b[43mchange_variable_name\u001b[49m\u001b[43m(\u001b[49m\u001b[38;5;124;43m'\u001b[39;49m\u001b[38;5;124;43mx\u001b[39;49m\u001b[38;5;124;43m'\u001b[39;49m\u001b[43m)\u001b[49m\n\u001b[1;32m    653\u001b[0m     modulus \u001b[38;5;241m=\u001b[39m R(modulus)\u001b[38;5;241m.\u001b[39mmonic()\n\u001b[1;32m    655\u001b[0m     \u001b[38;5;28;01mif\u001b[39;00m modulus\u001b[38;5;241m.\u001b[39mdegree() \u001b[38;5;241m!=\u001b[39m n:\n",
      "File \u001b[0;32m/private/var/tmp/sage-10.5-current/local/var/lib/sage/venv-python3.12.5/lib/python3.12/site-packages/sage/rings/polynomial/polynomial_element.pyx:3775\u001b[0m, in \u001b[0;36msage.rings.polynomial.polynomial_element.Polynomial.change_variable_name (build/cythonized/sage/rings/polynomial/polynomial_element.c:46609)\u001b[0;34m()\u001b[0m\n\u001b[1;32m   3773\u001b[0m from sage.rings.polynomial.polynomial_ring_constructor import PolynomialRing\n\u001b[1;32m   3774\u001b[0m \n\u001b[0;32m-> 3775\u001b[0m R = PolynomialRing(self._parent.base_ring(), names=var)\n\u001b[1;32m   3776\u001b[0m return R(self)\n\u001b[1;32m   3777\u001b[0m \n",
      "File \u001b[0;32m/private/var/tmp/sage-10.5-current/local/var/lib/sage/venv-python3.12.5/lib/python3.12/site-packages/sage/rings/polynomial/polynomial_ring_constructor.py:60\u001b[0m, in \u001b[0;36mPolynomialRing\u001b[0;34m(base_ring, *args, **kwds)\u001b[0m\n\u001b[1;32m     54\u001b[0m _cache \u001b[38;5;241m=\u001b[39m sage\u001b[38;5;241m.\u001b[39mmisc\u001b[38;5;241m.\u001b[39mweak_dict\u001b[38;5;241m.\u001b[39mWeakValueDictionary()\n\u001b[1;32m     57\u001b[0m \u001b[38;5;66;03m# The signature for this function is too complicated to express sensibly\u001b[39;00m\n\u001b[1;32m     58\u001b[0m \u001b[38;5;66;03m# in any other way besides *args and **kwds (in Python 3 or Cython, we\u001b[39;00m\n\u001b[1;32m     59\u001b[0m \u001b[38;5;66;03m# could probably do better thanks to PEP 3102).\u001b[39;00m\n\u001b[0;32m---> 60\u001b[0m \u001b[38;5;28;01mdef\u001b[39;00m \u001b[38;5;21mPolynomialRing\u001b[39m(base_ring, \u001b[38;5;241m*\u001b[39margs, \u001b[38;5;241m*\u001b[39m\u001b[38;5;241m*\u001b[39mkwds):\n\u001b[1;32m     61\u001b[0m \u001b[38;5;250m    \u001b[39m\u001b[38;5;124mr\u001b[39m\u001b[38;5;124;03m\"\"\"\u001b[39;00m\n\u001b[1;32m     62\u001b[0m \u001b[38;5;124;03m    Return the globally unique univariate or multivariate polynomial\u001b[39;00m\n\u001b[1;32m     63\u001b[0m \u001b[38;5;124;03m    ring with given properties and variable name or names.\u001b[39;00m\n\u001b[0;32m   (...)\u001b[0m\n\u001b[1;32m    623\u001b[0m \u001b[38;5;124;03m        sage: TestSuite(R).run(skip=['_test_elements', '_test_elements_eq_transitive'])\u001b[39;00m\n\u001b[1;32m    624\u001b[0m \u001b[38;5;124;03m    \"\"\"\u001b[39;00m\n\u001b[1;32m    625\u001b[0m     \u001b[38;5;28;01mfrom\u001b[39;00m \u001b[38;5;21;01msage\u001b[39;00m\u001b[38;5;21;01m.\u001b[39;00m\u001b[38;5;21;01mrings\u001b[39;00m\u001b[38;5;21;01m.\u001b[39;00m\u001b[38;5;21;01msemirings\u001b[39;00m\u001b[38;5;21;01m.\u001b[39;00m\u001b[38;5;21;01mtropical_semiring\u001b[39;00m \u001b[38;5;28;01mimport\u001b[39;00m TropicalSemiring\n",
      "File \u001b[0;32msrc/cysignals/signals.pyx:341\u001b[0m, in \u001b[0;36mcysignals.signals.python_check_interrupt\u001b[0;34m()\u001b[0m\n",
      "\u001b[0;31mKeyboardInterrupt\u001b[0m: "
     ]
    }
   ],
   "source": [
    "#load or compute+save the eigenvalues of the uDFT matrix over the algebraic closure of F\n",
    "F_bar = GF(q**2).algebraic_closure()\n",
    "eigenvalues = matrix(F_bar,U).eigenvalues(); eigenvalues\n",
    "#load or compute+save eigenvalues over K\n",
    "path = 'data/eigenvalues'\n",
    "filename = f\"eigenvalues_uDFT_n={n}_q={q}_deg={infty}\" + '.csv'\n",
    "if os.path.exists(os.path.join(path, filename)):\n",
    "    eigenvalues_list = load_array(path,filename)\n",
    "    eigenvalues_F_bar = [F_bar(x) for x in eigenvalues_list]\n",
    "else:\n",
    "    eigenvalues_F_bar = U.eigenvalues(extend=False)\n",
    "    save_array(eigenvalues_F_bar, path=path, filename=filename)"
   ]
  },
  {
   "cell_type": "code",
   "execution_count": 25,
   "id": "c61d4b5b-06fb-459a-af3f-a2772a72ad59",
   "metadata": {},
   "outputs": [
    {
     "data": {
      "text/plain": [
       "76"
      ]
     },
     "execution_count": 25,
     "metadata": {},
     "output_type": "execute_result"
    }
   ],
   "source": [
    "#compute the maximum degree required for the eigenvalues\n",
    "#this should agree with the splitting field degree, but sometimes it doesn't\n",
    "max_deg_eigs = max([eig.minpoly().degree() for eig in eigenvalues]); max_deg_eigs"
   ]
  },
  {
   "cell_type": "code",
   "execution_count": 26,
   "id": "787c4350-2f3a-4e24-8e48-b664ea502f44",
   "metadata": {},
   "outputs": [
    {
     "data": {
      "text/plain": [
       "True"
      ]
     },
     "execution_count": 26,
     "metadata": {},
     "output_type": "execute_result"
    }
   ],
   "source": [
    "#compute the multiplicity of each eigenvalue. check if all eigenvalues are distinct\n",
    "from collections import Counter\n",
    "multiplicities = Counter(eigenvalues)\n",
    "all_unique = all(count == 1 for count in multiplicities.values()); all_unique"
   ]
  },
  {
   "cell_type": "code",
   "execution_count": 27,
   "id": "577cf124-887a-452b-ad8e-d218ab5a8cbb",
   "metadata": {},
   "outputs": [
    {
     "name": "stdout",
     "output_type": "stream",
     "text": [
      "charpoly_F:  x^120 + 5*z2*x^119 + (5*z2 + 5)*x^118 + (6*z2 + 1)*x^117 + (6*z2 + 2)*x^116 + (5*z2 + 5)*x^115 + (5*z2 + 4)*x^114 + (4*z2 + 6)*x^113 + (3*z2 + 5)*x^112 + 5*z2*x^111 + (4*z2 + 5)*x^110 + 3*z2*x^109 + (6*z2 + 3)*x^108 + (3*z2 + 3)*x^107 + z2*x^106 + (z2 + 3)*x^105 + (5*z2 + 1)*x^104 + (z2 + 2)*x^103 + (4*z2 + 2)*x^102 + 3*z2*x^101 + (z2 + 3)*x^100 + 6*z2*x^99 + (5*z2 + 1)*x^98 + (5*z2 + 4)*x^97 + (z2 + 5)*x^96 + (4*z2 + 4)*x^95 + (5*z2 + 6)*x^94 + (3*z2 + 5)*x^93 + 4*z2*x^92 + (4*z2 + 6)*x^91 + 4*z2*x^90 + 3*z2*x^89 + 5*z2*x^88 + (4*z2 + 5)*x^87 + 5*x^86 + (6*z2 + 6)*x^85 + (5*z2 + 6)*x^84 + (6*z2 + 5)*x^83 + x^82 + (6*z2 + 2)*x^81 + (3*z2 + 3)*x^80 + (5*z2 + 6)*x^79 + (5*z2 + 2)*x^78 + (z2 + 5)*x^77 + (5*z2 + 2)*x^76 + 2*z2*x^75 + (4*z2 + 5)*x^74 + (4*z2 + 5)*x^73 + (4*z2 + 5)*x^72 + (z2 + 5)*x^71 + (5*z2 + 1)*x^70 + x^69 + (2*z2 + 1)*x^68 + (4*z2 + 5)*x^67 + (6*z2 + 5)*x^66 + 2*z2*x^65 + (z2 + 5)*x^64 + (6*z2 + 4)*x^63 + (6*z2 + 1)*x^62 + (4*z2 + 5)*x^61 + (2*z2 + 6)*x^60 + (4*z2 + 5)*x^59 + 6*z2*x^58 + (6*z2 + 4)*x^57 + (z2 + 1)*x^56 + (2*z2 + 5)*x^55 + (6*z2 + 3)*x^54 + (4*z2 + 5)*x^53 + (2*z2 + 4)*x^52 + 6*x^51 + (5*z2 + 1)*x^50 + (z2 + 1)*x^49 + (4*z2 + 5)*x^48 + (4*z2 + 5)*x^47 + (4*z2 + 5)*x^46 + (2*z2 + 5)*x^45 + 5*z2*x^44 + (z2 + 1)*x^43 + 5*z2*x^42 + (5*z2 + 3)*x^41 + (3*z2 + 1)*x^40 + (6*z2 + 6)*x^39 + 6*x^38 + (6*z2 + 3)*x^37 + (5*z2 + 3)*x^36 + (6*z2 + 2)*x^35 + 2*x^34 + (4*z2 + 5)*x^33 + (5*z2 + 2)*x^32 + (3*z2 + 4)*x^31 + (4*z2 + 3)*x^30 + (4*z2 + 4)*x^29 + (4*z2 + 3)*x^28 + (3*z2 + 6)*x^27 + (5*z2 + 3)*x^26 + (4*z2 + 6)*x^25 + (z2 + 1)*x^24 + (5*z2 + 5)*x^23 + (5*z2 + 1)*x^22 + (6*z2 + 1)*x^21 + (z2 + 3)*x^20 + (3*z2 + 4)*x^19 + (4*z2 + 1)*x^18 + (z2 + 4)*x^17 + (5*z2 + 1)*x^16 + (z2 + 3)*x^15 + (z2 + 6)*x^14 + (3*z2 + 1)*x^13 + (6*z2 + 5)*x^12 + (3*z2 + 4)*x^11 + (4*z2 + 5)*x^10 + (5*z2 + 2)*x^9 + (3*z2 + 6)*x^8 + (4*z2 + 4)*x^7 + (5*z2 + 5)*x^6 + (5*z2 + 4)*x^5 + (6*z2 + 6)*x^4 + 6*z2*x^3 + (5*z2 + 4)*x^2 + (5*z2 + 2)*x + 6\n"
     ]
    }
   ],
   "source": [
    "#compute the charpoly of the uDFT matrix \n",
    "charpoly_F = U.charpoly(); print(\"charpoly_F: \",charpoly_F)"
   ]
  },
  {
   "cell_type": "code",
   "execution_count": 40,
   "id": "288353b7-ac3d-4cfe-8242-84d67af678c0",
   "metadata": {},
   "outputs": [
    {
     "data": {
      "text/plain": [
       "(x^22 + (2*z2 + 3)*x^21 + (4*z2 + 6)*x^20 + (6*z2 + 4)*x^19 + (2*z2 + 2)*x^18 + 4*x^17 + (z2 + 5)*x^16 + 5*x^15 + (3*z2 + 6)*x^14 + (5*z2 + 3)*x^13 + 3*z2*x^12 + (4*z2 + 1)*x^11 + (3*z2 + 3)*x^10 + (4*z2 + 5)*x^9 + 3*z2*x^8 + 5*z2*x^7 + (z2 + 4)*x^6 + (6*z2 + 2)*x^5 + (2*z2 + 6)*x^4 + (z2 + 1)*x^3 + 3*x^2 + (z2 + 3)*x + 5*z2 + 5) * (x^22 + 4*z2*x^21 + (6*z2 + 6)*x^20 + 3*x^19 + z2*x^18 + (6*z2 + 3)*x^17 + (6*z2 + 2)*x^16 + (4*z2 + 5)*x^15 + (z2 + 3)*x^14 + 2*z2*x^13 + 2*x^12 + (z2 + 6)*x^11 + (z2 + 3)*x^10 + (3*z2 + 4)*x^9 + (6*z2 + 1)*x^8 + (3*z2 + 3)*x^7 + (z2 + 4)*x^6 + (z2 + 1)*x^5 + 6*x^4 + 3*z2*x^3 + (4*z2 + 2)*x^2 + (2*z2 + 1)*x + 2*z2 + 2) * (x^38 + (2*z2 + 1)*x^37 + (3*z2 + 2)*x^35 + (5*z2 + 4)*x^34 + (2*z2 + 4)*x^33 + (3*z2 + 5)*x^32 + (4*z2 + 1)*x^31 + (2*z2 + 2)*x^30 + (3*z2 + 4)*x^29 + (3*z2 + 6)*x^28 + (4*z2 + 2)*x^27 + (4*z2 + 3)*x^26 + (4*z2 + 5)*x^25 + (5*z2 + 2)*x^24 + 4*x^23 + (2*z2 + 4)*x^22 + 4*z2*x^21 + (z2 + 4)*x^20 + (z2 + 2)*x^19 + 5*x^18 + (5*z2 + 5)*x^17 + (4*z2 + 3)*x^16 + (2*z2 + 6)*x^14 + 5*x^13 + 4*z2*x^12 + (2*z2 + 1)*x^11 + (6*z2 + 5)*x^9 + (4*z2 + 1)*x^8 + (3*z2 + 4)*x^7 + (4*z2 + 6)*x^6 + 6*z2*x^5 + (2*z2 + 4)*x^4 + (2*z2 + 6)*x^3 + (3*z2 + 1)*x^2 + 6*x + 4*z2 + 3) * (x^38 + (4*z2 + 3)*x^37 + (5*z2 + 1)*x^36 + (3*z2 + 1)*x^35 + 4*z2*x^34 + (4*z2 + 1)*x^33 + (2*z2 + 6)*x^32 + 6*x^31 + z2*x^30 + 5*z2*x^29 + (2*z2 + 2)*x^27 + (5*z2 + 3)*x^26 + (z2 + 6)*x^25 + (3*z2 + 1)*x^24 + x^22 + (2*z2 + 1)*x^21 + (z2 + 6)*x^20 + 2*z2*x^19 + (z2 + 1)*x^18 + (5*z2 + 3)*x^17 + 4*z2*x^16 + (5*z2 + 2)*x^15 + 3*x^14 + (6*z2 + 2)*x^13 + x^12 + (4*z2 + 4)*x^11 + 6*z2*x^10 + 6*x^9 + (5*z2 + 6)*x^8 + z2*x^7 + (3*z2 + 3)*x^6 + 4*z2*x^5 + (6*z2 + 4)*x^4 + (z2 + 5)*x^3 + (2*z2 + 2)*x + 3*z2 + 4)"
      ]
     },
     "execution_count": 40,
     "metadata": {},
     "output_type": "execute_result"
    }
   ],
   "source": [
    "#factor the characteristic polynomial over the base field GF(q**2) into irreducibles\n",
    "charpoly_F_factor = charpoly_F.factor(); charpoly_F_factor"
   ]
  },
  {
   "cell_type": "code",
   "execution_count": 39,
   "id": "e25c4f9d-0359-44da-9541-bb9086e6f4d5",
   "metadata": {},
   "outputs": [
    {
     "data": {
      "text/plain": [
       "[(22, 1), (22, 1), (38, 1), (38, 1)]"
      ]
     },
     "execution_count": 39,
     "metadata": {},
     "output_type": "execute_result"
    }
   ],
   "source": [
    "#compute the degree, multiplicity of each irreducible factor of the charpoly over F\n",
    "[(poly[0].degree(), poly[1]) for poly in charpoly_F_factor]"
   ]
  },
  {
   "cell_type": "code",
   "execution_count": 28,
   "id": "9ec1d71f-fd57-4261-9129-a634f0184e24",
   "metadata": {},
   "outputs": [
    {
     "name": "stdout",
     "output_type": "stream",
     "text": [
      "field containing all eigenvalues: K = Finite Field in z76 of size 7^76\n",
      "splitting field: L = Finite Field in a of size 7^836\n",
      "minpoly of K:  x^76 + 5*x^75 + 4*x^72 + x^71 + 5*x^69 + 2*x^68 + 5*x^66 + 6*x^65 + 5*x^64 + 6*x^62 + x^61 + 6*x^60 + 2*x^59 + 3*x^57 + x^56 + 3*x^55 + x^54 + 3*x^53 + 6*x^52 + 3*x^51 + 4*x^50 + 2*x^49 + 5*x^47 + 5*x^46 + 4*x^45 + x^44 + 6*x^43 + 4*x^41 + 3*x^40 + x^39 + 6*x^38 + 6*x^37 + 6*x^36 + 4*x^35 + 6*x^33 + 4*x^32 + x^31 + x^30 + x^29 + 3*x^26 + x^24 + 5*x^23 + 3*x^22 + 2*x^20 + 6*x^19 + 4*x^18 + 4*x^17 + 5*x^16 + 6*x^15 + 5*x^14 + 3*x^13 + 2*x^12 + 5*x^11 + 3*x^10 + 3*x^9 + 5*x^8 + x^7 + 5*x^6 + 6*x^5 + 4*x^4 + x^3 + 4*x^2 + x + 3\n"
     ]
    }
   ],
   "source": [
    "#compute a splitting field of the characteristic polynomial\n",
    "K = GF(q**max_deg_eigs); print(f\"field containing all eigenvalues: K = {K}\")\n",
    "L = charpoly_F.splitting_field('a'); print(f\"splitting field: L = {L}\")\n",
    "print(\"minpoly of K: \", K.multiplicative_generator().minimal_polynomial())"
   ]
  },
  {
   "cell_type": "code",
   "execution_count": 29,
   "id": "e401e1c6-4056-492d-9db2-4d04e948ec14",
   "metadata": {},
   "outputs": [
    {
     "ename": "KeyboardInterrupt",
     "evalue": "",
     "output_type": "error",
     "traceback": [
      "\u001b[0;31m---------------------------------------------------------------------------\u001b[0m",
      "\u001b[0;31mKeyboardInterrupt\u001b[0m                         Traceback (most recent call last)",
      "Cell \u001b[0;32mIn[29], line 3\u001b[0m\n\u001b[1;32m      1\u001b[0m \u001b[38;5;66;03m#compute the charpoly of the uDFT matrix over K, L\u001b[39;00m\n\u001b[1;32m      2\u001b[0m charpoly_K \u001b[38;5;241m=\u001b[39m matrix(K,U)\u001b[38;5;241m.\u001b[39mcharpoly()\n\u001b[0;32m----> 3\u001b[0m charpoly_L \u001b[38;5;241m=\u001b[39m \u001b[43mmatrix\u001b[49m\u001b[43m(\u001b[49m\u001b[43mL\u001b[49m\u001b[43m,\u001b[49m\u001b[43mU\u001b[49m\u001b[43m)\u001b[49m\u001b[38;5;241;43m.\u001b[39;49m\u001b[43mcharpoly\u001b[49m\u001b[43m(\u001b[49m\u001b[43m)\u001b[49m\n",
      "File \u001b[0;32m/private/var/tmp/sage-10.5-current/local/var/lib/sage/venv-python3.12.5/lib/python3.12/site-packages/sage/matrix/matrix2.pyx:3232\u001b[0m, in \u001b[0;36msage.matrix.matrix2.Matrix.charpoly (build/cythonized/sage/matrix/matrix2.c:34707)\u001b[0;34m()\u001b[0m\n\u001b[1;32m   3230\u001b[0m if f is None:\n\u001b[1;32m   3231\u001b[0m     if R in _Fields and R.is_exact():\n\u001b[0;32m-> 3232\u001b[0m         f = self._charpoly_hessenberg(var)\n\u001b[1;32m   3233\u001b[0m     else:\n\u001b[1;32m   3234\u001b[0m         f = self._charpoly_df(var)\n",
      "File \u001b[0;32m/private/var/tmp/sage-10.5-current/local/var/lib/sage/venv-python3.12.5/lib/python3.12/site-packages/sage/matrix/matrix2.pyx:3754\u001b[0m, in \u001b[0;36msage.matrix.matrix2.Matrix._charpoly_hessenberg (build/cythonized/sage/matrix/matrix2.c:39566)\u001b[0;34m()\u001b[0m\n\u001b[1;32m   3752\u001b[0m # (note the entries might now live in the fraction field)\n\u001b[1;32m   3753\u001b[0m cdef Matrix H\n\u001b[0;32m-> 3754\u001b[0m H = self.hessenberg_form()\n\u001b[1;32m   3755\u001b[0m \n\u001b[1;32m   3756\u001b[0m # We represent the intermediate polynomials that come up in\n",
      "File \u001b[0;32m/private/var/tmp/sage-10.5-current/local/var/lib/sage/venv-python3.12.5/lib/python3.12/site-packages/sage/matrix/matrix2.pyx:3621\u001b[0m, in \u001b[0;36msage.matrix.matrix2.Matrix.hessenberg_form (build/cythonized/sage/matrix/matrix2.c:38515)\u001b[0;34m()\u001b[0m\n\u001b[1;32m   3619\u001b[0m else:\n\u001b[1;32m   3620\u001b[0m     H = self.__copy__()\n\u001b[0;32m-> 3621\u001b[0m     H.hessenbergize()\n\u001b[1;32m   3622\u001b[0m # end if\n\u001b[1;32m   3623\u001b[0m self.cache('hessenberg_form', H)\n",
      "File \u001b[0;32m/private/var/tmp/sage-10.5-current/local/var/lib/sage/venv-python3.12.5/lib/python3.12/site-packages/sage/matrix/matrix2.pyx:3717\u001b[0m, in \u001b[0;36msage.matrix.matrix2.Matrix.hessenbergize (build/cythonized/sage/matrix/matrix2.c:39250)\u001b[0;34m()\u001b[0m\n\u001b[1;32m   3715\u001b[0m                 # column m, and we're only worried about column m-1 right now.\n\u001b[1;32m   3716\u001b[0m                 # Add u*column_j to column_m.\n\u001b[0;32m-> 3717\u001b[0m                 self.add_multiple_of_column_c(m, j, u, 0)\n\u001b[1;32m   3718\u001b[0m verbose(f\"Finished Hessenberg Normal Form of {n}x{n} matrix\",\n\u001b[1;32m   3719\u001b[0m         level=2, t=tm)\n",
      "File \u001b[0;32m/private/var/tmp/sage-10.5-current/local/var/lib/sage/venv-python3.12.5/lib/python3.12/site-packages/sage/matrix/matrix0.pyx:3148\u001b[0m, in \u001b[0;36msage.matrix.matrix0.Matrix.add_multiple_of_column_c (build/cythonized/sage/matrix/matrix0.c:30236)\u001b[0;34m()\u001b[0m\n\u001b[1;32m   3146\u001b[0m     cdef Py_ssize_t r\n\u001b[1;32m   3147\u001b[0m     for r from start_row <= r < self._nrows:\n\u001b[0;32m-> 3148\u001b[0m         self.set_unsafe(r, i, self.get_unsafe(r, i) + s*self.get_unsafe(r, j))\n\u001b[1;32m   3149\u001b[0m \n\u001b[1;32m   3150\u001b[0m def with_added_multiple_of_column(self, Py_ssize_t i, Py_ssize_t j, s, Py_ssize_t start_row=0):\n",
      "File \u001b[0;32m/private/var/tmp/sage-10.5-current/local/var/lib/sage/venv-python3.12.5/lib/python3.12/site-packages/sage/structure/element.pyx:1505\u001b[0m, in \u001b[0;36msage.structure.element.Element.__mul__ (build/cythonized/sage/structure/element.c:20258)\u001b[0;34m()\u001b[0m\n\u001b[1;32m   1503\u001b[0m cdef int cl = classify_elements(left, right)\n\u001b[1;32m   1504\u001b[0m if HAVE_SAME_PARENT(cl):\n\u001b[0;32m-> 1505\u001b[0m     return (<Element>left)._mul_(right)\n\u001b[1;32m   1506\u001b[0m if BOTH_ARE_ELEMENT(cl):\n\u001b[1;32m   1507\u001b[0m     return coercion_model.bin_op(left, right, mul)\n",
      "File \u001b[0;32m/private/var/tmp/sage-10.5-current/local/var/lib/sage/venv-python3.12.5/lib/python3.12/site-packages/sage/rings/finite_rings/element_pari_ffelt.pyx:704\u001b[0m, in \u001b[0;36msage.rings.finite_rings.element_pari_ffelt.FiniteFieldElement_pari_ffelt._mul_ (build/cythonized/sage/rings/finite_rings/element_pari_ffelt.c:11996)\u001b[0;34m()\u001b[0m\n\u001b[1;32m    702\u001b[0m \"\"\"\n\u001b[1;32m    703\u001b[0m cdef FiniteFieldElement_pari_ffelt x = self._new()\n\u001b[0;32m--> 704\u001b[0m sig_on()\n\u001b[1;32m    705\u001b[0m x.construct(FF_mul((<FiniteFieldElement_pari_ffelt>self).val,\n\u001b[1;32m    706\u001b[0m                    (<FiniteFieldElement_pari_ffelt>right).val))\n",
      "\u001b[0;31mKeyboardInterrupt\u001b[0m: "
     ]
    }
   ],
   "source": [
    "#compute the charpoly of the uDFT matrix over K, L\n",
    "charpoly_K = matrix(K,U).charpoly()\n",
    "charpoly_L = matrix(L,U).charpoly()"
   ]
  },
  {
   "cell_type": "code",
   "execution_count": 32,
   "id": "6ad9735a-b9fb-46a5-822e-088f724c87a5",
   "metadata": {},
   "outputs": [],
   "source": [
    "def save_array(array, path, filename):\n",
    "    \"\"\"\n",
    "    save an array as a comma separated value file by converting the elements to strings\n",
    "    \"\"\"\n",
    "    if not os.path.exists(path):\n",
    "        os.makedirs(path)  # Create the directory if it doesn't exist\n",
    "    full_path = os.path.join(path, filename)\n",
    "    with open(full_path, 'w') as f:\n",
    "        for i, element in enumerate(array):\n",
    "            f.write(str(element))\n",
    "            if i < len(array) - 1:\n",
    "                f.write(\",\")\n",
    "        f.write(\"\\n\")"
   ]
  },
  {
   "cell_type": "code",
   "execution_count": 33,
   "id": "dfcb1820-a90a-49c3-bfe1-de127fb779a7",
   "metadata": {},
   "outputs": [],
   "source": [
    "def load_array(path, filename):\n",
    "    \"\"\"\n",
    "    Load an array from a comma-separated value file and convert elements to strings.\n",
    "    \"\"\"\n",
    "    full_path = os.path.join(path, filename)\n",
    "    with open(full_path, 'r') as f:\n",
    "        line = f.readline().strip()\n",
    "        return line.split(\",\")"
   ]
  },
  {
   "cell_type": "code",
   "execution_count": 34,
   "id": "a8d24cd3-3d8e-4e60-ab01-63a3fac92936",
   "metadata": {},
   "outputs": [],
   "source": [
    "#load or compute+save eigenvalues over K\n",
    "path = 'data/eigenvalues'\n",
    "filename = f\"eigenvalues_uDFT_n={n}_q={q}_deg={K.degree()}\" + '.csv'\n",
    "if os.path.exists(os.path.join(path, filename)):\n",
    "    eigenvalues_list = load_array(path,filename)\n",
    "    eigenvalues_K = [K(x) for x in eigenvalues_list]\n",
    "else:\n",
    "    eigenvalues_K = matrix(K,U).eigenvalues(extend=False)\n",
    "    save_array(eigenvalues_K, path=path, filename=filename)"
   ]
  },
  {
   "cell_type": "code",
   "execution_count": 35,
   "id": "2ce01f0b-1c29-4761-a1a5-8ec4b30aeb90",
   "metadata": {},
   "outputs": [],
   "source": [
    "#load or compute+save the eigenvalues over L\n",
    "path = 'data/eigenvalues'\n",
    "filename = f\"eigenvalues_uDFT_n={n}_q={q}_deg={L.degree()}\" + '.csv'\n",
    "if os.path.exists(os.path.join(path, filename)):\n",
    "    eigenvalues_list = load_array(path,filename)\n",
    "    eigenvalues_L = [L(x) for x in eigenvalues_list]\n",
    "else:\n",
    "    eigenvalues_L = matrix(L,U).eigenvalues(extend=False)\n",
    "    save_array(eigenvalues_L, path=path, filename=filename)"
   ]
  },
  {
   "cell_type": "code",
   "execution_count": 36,
   "id": "d1b9c85e-3854-4210-90d4-6dd27c07e836",
   "metadata": {},
   "outputs": [],
   "source": [
    "#load or compute + save the discrete log (dlog) of the eigenvalues over K\n",
    "path='data/discrete_log_eigenvalues'\n",
    "filename=f\"discrete_log_eigenvalues_uDFT_n={n}_q={q}_deg={K.degree()}\" + '.csv'\n",
    "if os.path.exists(os.path.join(path, filename)):\n",
    "    dlog_eigenvalues_list = load_array(path,filename)\n",
    "    dlog_eigenvalues_K = [int(x) for x in dlog_eigenvalues_list]\n",
    "else:\n",
    "    dlog_eigenvalues_K = list(map(lambda x: discrete_log(K,x), eigenvalues_K))\n",
    "    save_array(log_eigenvalues_K, path=path, filename=filename)"
   ]
  },
  {
   "cell_type": "code",
   "execution_count": 37,
   "id": "a43cd6e7-9147-4709-bd33-213d71716b28",
   "metadata": {},
   "outputs": [],
   "source": [
    "#load or compute+save the discrete log (dlog) of the eigenvalues over L\n",
    "path='data/discrete_log_eigenvalues'\n",
    "filename=f\"discrete_log_eigenvalues_uDFT_n={n}_q={q}_deg={L.degree()}\" + '.csv'\n",
    "if os.path.exists(os.path.join(path, filename)):\n",
    "    dlog_eigenvalues_list = load_array(path,filename)\n",
    "    dlog_eigenvalues_L = [int(x) for x in dlog_eigenvalues_list]\n",
    "else:\n",
    "    dlog_eigenvalues_L = list(map(lambda x: discrete_log(L,x), eigenvalues_K))\n",
    "    save_array(log_eigenvalues_K, path=path, filename=filename)"
   ]
  },
  {
   "cell_type": "code",
   "execution_count": 38,
   "id": "c41fcb01-39a8-4e24-a828-45a0f19bf842",
   "metadata": {},
   "outputs": [],
   "source": [
    "#compute and save the complexified eigenvalue over K\n",
    "#NOTE: use precomputed dlog values for the Brauer map to avoid recomputing them\n",
    "path='data/complexified_eigenvalues'\n",
    "filename=f\"complexified_eigenvalues_uDFT_n={n}_q={q}_deg={K.degree()}\" + '.csv'\n",
    "complexified_eigenvalues_K = [brauer_map(K,log_a=log_eig) for log_eig in dlog_eigenvalues_K]\n",
    "save_array(complexified_eigenvalues_K, path=path, filename=filename)"
   ]
  },
  {
   "cell_type": "code",
   "execution_count": 39,
   "id": "271cd002-0f0e-4b8f-beb4-8e3a02d0c959",
   "metadata": {},
   "outputs": [],
   "source": [
    "#compute and save the complexified eigenvalues over L\n",
    "#NOTE: use precomputed dlog values for the Brauer map to avoid recomputing them\n",
    "path='data/complexified_eigenvalues'\n",
    "filename=f\"complexified_eigenvalues_uDFT_n={n}_q={q}_deg={L.degree()}\" + '.csv'\n",
    "complexified_eigenvalues_L = [brauer_map(L,log_a=log_eig) for log_eig in dlog_eigenvalues_L]\n",
    "save_array(complexified_eigenvalues_L, path=path, filename=filename)"
   ]
  },
  {
   "cell_type": "code",
   "execution_count": 88,
   "id": "fbeee8ae-ec6a-4bdc-85db-5840ddb39a5b",
   "metadata": {},
   "outputs": [],
   "source": [
    "\"\"\"\n",
    "TO-DO: compute Galois orbits of eigenvalues (roots of charpoly over splitting field)\n",
    "NOTE: \n",
    "    - if K = splitting field, F = GF(q**2)\n",
    "    - Gal(K/F) is relative Galois group, and F fixes coefficients of charpoly\n",
    "    - size of orbits should divide |Gal(K/F)| and add up to n\n",
    "    - if K = GF(q**m), then |Gal(K/F)| = m/2\n",
    "    - for n=4, q=7: K = GF(7**30), L = GF(7**210). so m=30 or m=210, therefore \n",
    "    - looks like charpoly is degree 24, and factoring over F into irreducibles of degree 1+1+7+15\n",
    "    - this suggest we really need to be working over the splitting field L = GF(q**210) since `7|105` but `7 \\nmid 15`\n",
    "    - over L, the sizes of Galois orbits are {1,15}\n",
    "    - over L, the sizes of Galois orbits are {1,7,15}\n",
    "    - the equivalence classes over L capture all possible Galois orbits (including of size 7)\n",
    "    - we need to work over the splitting field, even though the degree is large\n",
    "\"\"\";"
   ]
  },
  {
   "cell_type": "code",
   "execution_count": 41,
   "id": "e8eba671-fee8-4c5e-ab30-fb465f7fdc2e",
   "metadata": {},
   "outputs": [],
   "source": [
    "#define the q^th power map, which is the r^th power of the Frobenius map if q=p^r\n",
    "alpha = lambda x: x**(q**2)"
   ]
  },
  {
   "cell_type": "code",
   "execution_count": 42,
   "id": "700f5541-b8a2-4f27-a571-accc851712d0",
   "metadata": {},
   "outputs": [],
   "source": [
    "#compute the Galois orbit of an element `x` of a finite field `GF(q)`\n",
    "def galois_orbit(alpha,x):\n",
    "    orbit = [x]\n",
    "    while alpha(orbit[-1]) != orbit[0]:\n",
    "        orbit.append(alpha(orbit[-1]))\n",
    "    return orbit"
   ]
  },
  {
   "cell_type": "code",
   "execution_count": 161,
   "id": "03349f97-fadc-4eb8-98ad-5118323aa546",
   "metadata": {},
   "outputs": [
    {
     "name": "stdout",
     "output_type": "stream",
     "text": [
      "[1, 15, 15, 15, 15, 1, 15, 15, 15, 15, 15, 15, 15, 15, 15, 15, 15]\n"
     ]
    }
   ],
   "source": [
    "#compute Galois orbit sizes for each eigenvalue in K\n",
    "galois_orbit_size_K = [len(galois_orbit(alpha,eig)) for eig in eigenvalues_K]; print(galois_orbit_size_K)"
   ]
  },
  {
   "cell_type": "code",
   "execution_count": 162,
   "id": "743bcf38-ca6b-4ac7-b53e-646426dfa852",
   "metadata": {},
   "outputs": [
    {
     "name": "stdout",
     "output_type": "stream",
     "text": [
      "[1, 7, 15, 15, 15, 15, 15, 15, 1, 15, 15, 15, 7, 15, 15, 7, 15, 15, 7, 7, 7, 15, 7, 15]\n"
     ]
    }
   ],
   "source": [
    "#compute Galois orbit sizes for each eigenvalue in L\n",
    "galois_orbit_size_L = [len(galois_orbit(alpha,eig)) for eig in eigenvalues_L]; print(galois_orbit_size_L)"
   ]
  },
  {
   "cell_type": "code",
   "execution_count": 49,
   "id": "a6c7f63d-f5ee-4a16-a803-d0862f57f894",
   "metadata": {},
   "outputs": [],
   "source": [
    "\"\"\"\n",
    " - break apart the list elements of finite field elements into Galois orbit equivalence classes\n",
    "\"\"\"\n",
    "def galois_orbit_equiv_classes(alpha, elements):\n",
    "    orbits = {}\n",
    "    seen = set()\n",
    "    class_counter = 0\n",
    "    \n",
    "    for x in elements:\n",
    "        if x not in seen:\n",
    "            orbit = [x]\n",
    "            seen.add(x)\n",
    "            while True:\n",
    "                next_element = alpha(orbit[-1])\n",
    "                if next_element == orbit[0]:\n",
    "                    break\n",
    "                orbit.append(next_element)\n",
    "                seen.add(next_element)\n",
    "            \n",
    "            orbits[f'orbit_{class_counter}'] = orbit\n",
    "            class_counter += 1\n",
    "    \n",
    "    return orbits"
   ]
  },
  {
   "cell_type": "code",
   "execution_count": 71,
   "id": "5af2cb75-fcae-4bdf-8c0a-465841cef231",
   "metadata": {},
   "outputs": [
    {
     "name": "stdout",
     "output_type": "stream",
     "text": [
      "[1, 15, 1]\n"
     ]
    }
   ],
   "source": [
    "#compute the equivalence classes of orbits under the Galois action on eigenvalues over K, which is not the splitting field\n",
    "galois_orbit_classes_K = galois_orbit_equiv_classes(alpha,eigenvalues_K)\n",
    "#compute size of Galois orbit classes for eigenvalues_K\n",
    "galois_orbit_class_sizes_K = [len(galois_orbit_classes[key]) for key in galois_orbit_classes_K]; print(galois_orbit_class_sizes_K)"
   ]
  },
  {
   "cell_type": "code",
   "execution_count": 72,
   "id": "8b0291a3-39a8-4846-9cde-5bb625fd7c8a",
   "metadata": {},
   "outputs": [
    {
     "name": "stdout",
     "output_type": "stream",
     "text": [
      "[1, 7, 15, 1]\n"
     ]
    }
   ],
   "source": [
    "#compute the equivalence classes of orbits under the Galois action on eigenvalues over L, the splitting field\n",
    "galois_orbit_classes_L = galois_orbit_equiv_classes(alpha,eigenvalues_L)\n",
    "#compute size of Galois orbit classes for eigenvalues_L\n",
    "galois_orbit_class_sizes_L = [len(galois_orbit_classes_L[key]) for key in galois_orbit_classes_L]; print(galois_orbit_class_sizes_L)"
   ]
  },
  {
   "cell_type": "code",
   "execution_count": 62,
   "id": "997124ab-f397-42cf-a36d-fc1670e27bf0",
   "metadata": {},
   "outputs": [],
   "source": [
    "import matplotlib.pyplot as plt\n",
    "import numpy as np\n",
    "\n",
    "# Extract real and imaginary parts for plotting\n",
    "real_parts = [eig.real() for eig in complexified_eigenvalues_K]\n",
    "imaginary_parts = [eig.imag() for eig in complexified_eigenvalues_K]"
   ]
  },
  {
   "cell_type": "code",
   "execution_count": 63,
   "id": "92b0d6ae-51a8-43d2-9ead-f4b40d89b9ac",
   "metadata": {},
   "outputs": [
    {
     "data": {
      "image/png": "[encoded data removed]",
      "text/plain": [
       "<Figure size 600x600 with 1 Axes>"
      ]
     },
     "metadata": {},
     "output_type": "display_data"
    }
   ],
   "source": [
    "# Plotting the eigenvalues on the complex plane\n",
    "title = f\"complexified eigenvalues of uDFT for n={n} q={q} deg={K.degree()}\"\n",
    "plt.figure(figsize=(6,6))\n",
    "plt.scatter(real_parts, imaginary_parts, color='blue', label=\"Eigenvalues\")\n",
    "plt.axhline(0, color='black',linewidth=0.5)\n",
    "plt.axvline(0, color='black',linewidth=0.5)\n",
    "plt.gca().set_aspect('equal', adjustable='box')\n",
    "plt.title(title)\n",
    "plt.xlabel('Real Part')\n",
    "plt.ylabel('Imaginary Part')\n",
    "plt.grid(True)\n",
    "plt.savefig('plots/eigenvalues/finite_fields/' + title.replace(' ','_') + '.png', dpi=300, bbox_inches=\"tight\")\n",
    "plt.show()"
   ]
  },
  {
   "cell_type": "code",
   "execution_count": 38,
   "id": "f4558cc4-ca09-4785-affd-9da688591bb2",
   "metadata": {},
   "outputs": [],
   "source": [
    "#compute the eigenvectors over a splitting field\n",
    "D, P = matrix(L,U).eigenmatrix_right()"
   ]
  },
  {
   "cell_type": "code",
   "execution_count": 75,
   "id": "74413add-faf8-4afa-88db-fce6dd1761fc",
   "metadata": {},
   "outputs": [],
   "source": [
    "def load_csv_as_matrix(filename):\n",
    "    \"\"\"\n",
    "    load a .csv file which is a matrix of integers\n",
    "    \"\"\"\n",
    "    import csv\n",
    "    with open(filename, newline='') as csvfile:\n",
    "        reader = csv.reader(csvfile)\n",
    "        matrix = [list(map(int, row)) for row in reader]\n",
    "    return Matrix(matrix)"
   ]
  },
  {
   "cell_type": "code",
   "execution_count": 76,
   "id": "25a882fa-3dd4-4997-857d-bc6b553fc66a",
   "metadata": {},
   "outputs": [],
   "source": [
    "def write_matrix_to_csv(P,filename):\n",
    "    \"\"\"\n",
    "    dump the eigenvector matrix into a .csv file\n",
    "    \"\"\"\n",
    "    with open(filename, \"w\") as f:\n",
    "        for row in P:\n",
    "            f.write(\",\".join(map(str, row)) + \"\\n\")"
   ]
  },
  {
   "cell_type": "code",
   "execution_count": 40,
   "id": "852531ea-24de-4d96-8bd6-192b399c04b8",
   "metadata": {},
   "outputs": [],
   "source": [
    "write_matrix_to_csv(P,filename=f\"data/eigenvectors/eigenvectors_unitary_dft_symmetric_group_finite_field_n={n}_q={q}.csv\")"
   ]
  },
  {
   "cell_type": "code",
   "execution_count": 77,
   "id": "c302f2a7-4bda-4203-8ab5-dca8f1f173d4",
   "metadata": {},
   "outputs": [],
   "source": [
    "#take the discrete log of the eigenvector matrix\n",
    "path = 'data/discrete_log_eigenvector_matrix'\n",
    "filename = f\"discrete_log_dft_symmetric_group_finite_field_eigenvector_matrix_n={n}_q={q}.csv\"\n",
    "full_path = os.path.join(path, filename)\n",
    "if os.path.exists(full_path):\n",
    "    dlog_P = load_csv_as_matrix(full_path)\n",
    "else:\n",
    "    dlog_P = P.apply_map(lambda x: discrete_log(L,x)); dlog_P"
   ]
  },
  {
   "cell_type": "code",
   "execution_count": 87,
   "id": "0b3f2964-f2a2-44bb-ab85-70a176f10929",
   "metadata": {},
   "outputs": [
    {
     "data": {
      "image/png": "[encoded data removed]",
      "text/plain": [
       "<Figure size 640x480 with 2 Axes>"
      ]
     },
     "metadata": {},
     "output_type": "display_data"
    }
   ],
   "source": [
    "#plot the discrete log of the eigenvector matrix P\n",
    "#NOTE: the `normalize` parameter is required for n=4 or above\n",
    "plot_discrete_log(L,dlog_P,path='plots/eigenvectors/',title=f\"normalized discrete log of eigenvectors of uDFT for n={n} q={q} deg={L.degree()}\",normalize=\"rescale\")"
   ]
  },
  {
   "cell_type": "code",
   "execution_count": 79,
   "id": "67a4f9ac-a80e-4535-bab2-f2c041e16291",
   "metadata": {},
   "outputs": [],
   "source": [
    "def dump_discrete_log(L, P, path, filename):\n",
    "    \"\"\"\n",
    "    - compute the discrete log of each entry of P, the eigenvector matrix of the uDFT of S_n over F_{q^2}\n",
    "    - write the resulting matrix to a comma separated value file\n",
    "    - include a progress bar since computing discrete logs for large fields takes a long time\n",
    "    \"\"\"\n",
    "    total = P.nrows() * P.ncols()\n",
    "    count = 0\n",
    "    full_path = os.join(path,filename)\n",
    "    with open(full_path, \"w\") as f:\n",
    "        for i in range(P.nrows()):\n",
    "            for j in range(P.ncols()):\n",
    "                log_value = discrete_log(L, P[i, j])\n",
    "                f.write(str(log_value))\n",
    "                if j != P.ncols()-1:\n",
    "                    f.write(\",\")\n",
    "                count += 1\n",
    "                # Print progress as a percentage\n",
    "                progress = float(count) / total * 100\n",
    "                print(f\"Progress: {progress:.2f}%\\n\", end=\"\\r\", flush=True)\n",
    "            f.write(\"\\n\")\n",
    "    return \"done\""
   ]
  },
  {
   "cell_type": "code",
   "execution_count": 40,
   "id": "c62f8f4f-2da2-48ee-a4a6-2b93f0d631a9",
   "metadata": {},
   "outputs": [
    {
     "name": "stdout",
     "output_type": "stream",
     "text": [
      "Progress: 0.17%\n",
      "Progress: 0.35%\n",
      "Progress: 0.52%\n",
      "Progress: 0.69%\n",
      "Progress: 0.87%\n",
      "Progress: 1.04%\n",
      "Progress: 1.22%\n",
      "Progress: 1.39%\n",
      "Progress: 1.56%\n",
      "Progress: 1.74%\n",
      "Progress: 1.91%\n",
      "Progress: 2.08%\n",
      "Progress: 2.26%\n",
      "Progress: 2.43%\n",
      "Progress: 2.60%\n",
      "Progress: 2.78%\n",
      "Progress: 2.95%\n",
      "Progress: 3.12%\n",
      "Progress: 3.30%\n",
      "Progress: 3.47%\n",
      "Progress: 3.65%\n",
      "Progress: 3.82%\n",
      "Progress: 3.99%\n",
      "Progress: 4.17%\n",
      "Progress: 4.34%\n",
      "Progress: 4.51%\n",
      "Progress: 4.69%\n",
      "Progress: 4.86%\n",
      "Progress: 5.03%\n",
      "Progress: 5.21%\n",
      "Progress: 5.38%\n",
      "Progress: 5.56%\n",
      "Progress: 5.73%\n",
      "Progress: 5.90%\n",
      "Progress: 6.08%\n",
      "Progress: 6.25%\n",
      "Progress: 6.42%\n",
      "Progress: 6.60%\n",
      "Progress: 6.77%\n",
      "Progress: 6.94%\n",
      "Progress: 7.12%\n",
      "Progress: 7.29%\n",
      "Progress: 7.47%\n",
      "Progress: 7.64%\n",
      "Progress: 7.81%\n",
      "Progress: 7.99%\n",
      "Progress: 8.16%\n",
      "Progress: 8.33%\n",
      "Progress: 8.51%\n",
      "Progress: 8.68%\n",
      "Progress: 8.85%\n",
      "Progress: 9.03%\n",
      "Progress: 9.20%\n",
      "Progress: 9.38%\n",
      "Progress: 9.55%\n",
      "Progress: 9.72%\n",
      "Progress: 9.90%\n",
      "Progress: 10.07%\n",
      "Progress: 10.24%\n",
      "Progress: 10.42%\n",
      "Progress: 10.59%\n",
      "Progress: 10.76%\n",
      "Progress: 10.94%\n",
      "Progress: 11.11%\n",
      "Progress: 11.28%\n",
      "Progress: 11.46%\n",
      "Progress: 11.63%\n",
      "Progress: 11.81%\n",
      "Progress: 11.98%\n",
      "Progress: 12.15%\n",
      "Progress: 12.33%\n",
      "Progress: 12.50%\n",
      "Progress: 12.67%\n",
      "Progress: 12.85%\n",
      "Progress: 13.02%\n",
      "Progress: 13.19%\n",
      "Progress: 13.37%\n",
      "Progress: 13.54%\n",
      "Progress: 13.72%\n",
      "Progress: 13.89%\n",
      "Progress: 14.06%\n",
      "Progress: 14.24%\n",
      "Progress: 14.41%\n",
      "Progress: 14.58%\n",
      "Progress: 14.76%\n",
      "Progress: 14.93%\n",
      "Progress: 15.10%\n",
      "Progress: 15.28%\n",
      "Progress: 15.45%\n",
      "Progress: 15.62%\n",
      "Progress: 15.80%\n",
      "Progress: 15.97%\n",
      "Progress: 16.15%\n",
      "Progress: 16.32%\n",
      "Progress: 16.49%\n",
      "Progress: 16.67%\n",
      "Progress: 16.84%\n",
      "Progress: 17.01%\n",
      "Progress: 17.19%\n",
      "Progress: 17.36%\n",
      "Progress: 17.53%\n",
      "Progress: 17.71%\n",
      "Progress: 17.88%\n",
      "Progress: 18.06%\n",
      "Progress: 18.23%\n",
      "Progress: 18.40%\n",
      "Progress: 18.58%\n",
      "Progress: 18.75%\n",
      "Progress: 18.92%\n",
      "Progress: 19.10%\n",
      "Progress: 19.27%\n",
      "Progress: 19.44%\n",
      "Progress: 19.62%\n",
      "Progress: 19.79%\n",
      "Progress: 19.97%\n",
      "Progress: 20.14%\n",
      "Progress: 20.31%\n",
      "Progress: 20.49%\n",
      "Progress: 20.66%\n",
      "Progress: 20.83%\n",
      "Progress: 21.01%\n",
      "Progress: 21.18%\n",
      "Progress: 21.35%\n",
      "Progress: 21.53%\n",
      "Progress: 21.70%\n",
      "Progress: 21.88%\n",
      "Progress: 22.05%\n",
      "Progress: 22.22%\n",
      "Progress: 22.40%\n",
      "Progress: 22.57%\n",
      "Progress: 22.74%\n",
      "Progress: 22.92%\n",
      "Progress: 23.09%\n",
      "Progress: 23.26%\n",
      "Progress: 23.44%\n",
      "Progress: 23.61%\n",
      "Progress: 23.78%\n",
      "Progress: 23.96%\n",
      "Progress: 24.13%\n",
      "Progress: 24.31%\n",
      "Progress: 24.48%\n",
      "Progress: 24.65%\n",
      "Progress: 24.83%\n",
      "Progress: 25.00%\n",
      "Progress: 25.17%\n",
      "Progress: 25.35%\n",
      "Progress: 25.52%\n",
      "Progress: 25.69%\n",
      "Progress: 25.87%\n",
      "Progress: 26.04%\n",
      "Progress: 26.22%\n",
      "Progress: 26.39%\n",
      "Progress: 26.56%\n",
      "Progress: 26.74%\n",
      "Progress: 26.91%\n",
      "Progress: 27.08%\n",
      "Progress: 27.26%\n",
      "Progress: 27.43%\n",
      "Progress: 27.60%\n",
      "Progress: 27.78%\n",
      "Progress: 27.95%\n",
      "Progress: 28.12%\n",
      "Progress: 28.30%\n",
      "Progress: 28.47%\n",
      "Progress: 28.65%\n",
      "Progress: 28.82%\n",
      "Progress: 28.99%\n",
      "Progress: 29.17%\n",
      "Progress: 29.34%\n",
      "Progress: 29.51%\n",
      "Progress: 29.69%\n",
      "Progress: 29.86%\n",
      "Progress: 30.03%\n",
      "Progress: 30.21%\n",
      "Progress: 30.38%\n",
      "Progress: 30.56%\n",
      "Progress: 30.73%\n",
      "Progress: 30.90%\n",
      "Progress: 31.08%\n",
      "Progress: 31.25%\n",
      "Progress: 31.42%\n",
      "Progress: 31.60%\n",
      "Progress: 31.77%\n",
      "Progress: 31.94%\n",
      "Progress: 32.12%\n",
      "Progress: 32.29%\n",
      "Progress: 32.47%\n",
      "Progress: 32.64%\n",
      "Progress: 32.81%\n",
      "Progress: 32.99%\n",
      "Progress: 33.16%\n",
      "Progress: 33.33%\n",
      "Progress: 33.51%\n",
      "Progress: 33.68%\n",
      "Progress: 33.85%\n",
      "Progress: 34.03%\n",
      "Progress: 34.20%\n",
      "Progress: 34.38%\n",
      "Progress: 34.55%\n",
      "Progress: 34.72%\n",
      "Progress: 34.90%\n",
      "Progress: 35.07%\n",
      "Progress: 35.24%\n",
      "Progress: 35.42%\n",
      "Progress: 35.59%\n",
      "Progress: 35.76%\n",
      "Progress: 35.94%\n",
      "Progress: 36.11%\n",
      "Progress: 36.28%\n",
      "Progress: 36.46%\n",
      "Progress: 36.63%\n",
      "Progress: 36.81%\n",
      "Progress: 36.98%\n",
      "Progress: 37.15%\n",
      "Progress: 37.33%\n",
      "Progress: 37.50%\n",
      "Progress: 37.67%\n",
      "Progress: 37.85%\n",
      "Progress: 38.02%\n",
      "Progress: 38.19%\n",
      "Progress: 38.37%\n",
      "Progress: 38.54%\n",
      "Progress: 38.72%\n",
      "Progress: 38.89%\n",
      "Progress: 39.06%\n",
      "Progress: 39.24%\n",
      "Progress: 39.41%\n",
      "Progress: 39.58%\n",
      "Progress: 39.76%\n",
      "Progress: 39.93%\n",
      "Progress: 40.10%\n",
      "Progress: 40.28%\n",
      "Progress: 40.45%\n",
      "Progress: 40.62%\n",
      "Progress: 40.80%\n",
      "Progress: 40.97%\n",
      "Progress: 41.15%\n",
      "Progress: 41.32%\n",
      "Progress: 41.49%\n",
      "Progress: 41.67%\n",
      "Progress: 41.84%\n",
      "Progress: 42.01%\n",
      "Progress: 42.19%\n",
      "Progress: 42.36%\n",
      "Progress: 42.53%\n",
      "Progress: 42.71%\n",
      "Progress: 42.88%\n",
      "Progress: 43.06%\n",
      "Progress: 43.23%\n",
      "Progress: 43.40%\n",
      "Progress: 43.58%\n",
      "Progress: 43.75%\n",
      "Progress: 43.92%\n",
      "Progress: 44.10%\n",
      "Progress: 44.27%\n",
      "Progress: 44.44%\n",
      "Progress: 44.62%\n",
      "Progress: 44.79%\n",
      "Progress: 44.97%\n",
      "Progress: 45.14%\n",
      "Progress: 45.31%\n",
      "Progress: 45.49%\n",
      "Progress: 45.66%\n",
      "Progress: 45.83%\n",
      "Progress: 46.01%\n",
      "Progress: 46.18%\n",
      "Progress: 46.35%\n",
      "Progress: 46.53%\n",
      "Progress: 46.70%\n",
      "Progress: 46.88%\n",
      "Progress: 47.05%\n",
      "Progress: 47.22%\n",
      "Progress: 47.40%\n",
      "Progress: 47.57%\n",
      "Progress: 47.74%\n",
      "Progress: 47.92%\n",
      "Progress: 48.09%\n",
      "Progress: 48.26%\n",
      "Progress: 48.44%\n",
      "Progress: 48.61%\n",
      "Progress: 48.78%\n",
      "Progress: 48.96%\n",
      "Progress: 49.13%\n",
      "Progress: 49.31%\n",
      "Progress: 49.48%\n",
      "Progress: 49.65%\n",
      "Progress: 49.83%\n",
      "Progress: 50.00%\n",
      "Progress: 50.17%\n",
      "Progress: 50.35%\n",
      "Progress: 50.52%\n",
      "Progress: 50.69%\n",
      "Progress: 50.87%\n",
      "Progress: 51.04%\n",
      "Progress: 51.22%\n",
      "Progress: 51.39%\n",
      "Progress: 51.56%\n",
      "Progress: 51.74%\n",
      "Progress: 51.91%\n",
      "Progress: 52.08%\n",
      "Progress: 52.26%\n",
      "Progress: 52.43%\n",
      "Progress: 52.60%\n",
      "Progress: 52.78%\n",
      "Progress: 52.95%\n",
      "Progress: 53.12%\n",
      "Progress: 53.30%\n",
      "Progress: 53.47%\n",
      "Progress: 53.65%\n",
      "Progress: 53.82%\n",
      "Progress: 53.99%\n",
      "Progress: 54.17%\n",
      "Progress: 54.34%\n",
      "Progress: 54.51%\n",
      "Progress: 54.69%\n",
      "Progress: 54.86%\n",
      "Progress: 55.03%\n",
      "Progress: 55.21%\n",
      "Progress: 55.38%\n",
      "Progress: 55.56%\n",
      "Progress: 55.73%\n",
      "Progress: 55.90%\n",
      "Progress: 56.08%\n",
      "Progress: 56.25%\n",
      "Progress: 56.42%\n",
      "Progress: 56.60%\n",
      "Progress: 56.77%\n",
      "Progress: 56.94%\n",
      "Progress: 57.12%\n",
      "Progress: 57.29%\n",
      "Progress: 57.47%\n",
      "Progress: 57.64%\n",
      "Progress: 57.81%\n",
      "Progress: 57.99%\n",
      "Progress: 58.16%\n",
      "Progress: 58.33%\n",
      "Progress: 58.51%\n",
      "Progress: 58.68%\n",
      "Progress: 58.85%\n",
      "Progress: 59.03%\n",
      "Progress: 59.20%\n",
      "Progress: 59.38%\n",
      "Progress: 59.55%\n",
      "Progress: 59.72%\n",
      "Progress: 59.90%\n",
      "Progress: 60.07%\n",
      "Progress: 60.24%\n",
      "Progress: 60.42%\n",
      "Progress: 60.59%\n",
      "Progress: 60.76%\n",
      "Progress: 60.94%\n",
      "Progress: 61.11%\n",
      "Progress: 61.28%\n",
      "Progress: 61.46%\n",
      "Progress: 61.63%\n",
      "Progress: 61.81%\n",
      "Progress: 61.98%\n",
      "Progress: 62.15%\n",
      "Progress: 62.33%\n",
      "Progress: 62.50%\n",
      "Progress: 62.67%\n",
      "Progress: 62.85%\n",
      "Progress: 63.02%\n",
      "Progress: 63.19%\n",
      "Progress: 63.37%\n",
      "Progress: 63.54%\n",
      "Progress: 63.72%\n",
      "Progress: 63.89%\n",
      "Progress: 64.06%\n",
      "Progress: 64.24%\n",
      "Progress: 64.41%\n",
      "Progress: 64.58%\n",
      "Progress: 64.76%\n",
      "Progress: 64.93%\n",
      "Progress: 65.10%\n",
      "Progress: 65.28%\n",
      "Progress: 65.45%\n",
      "Progress: 65.62%\n",
      "Progress: 65.80%\n",
      "Progress: 65.97%\n",
      "Progress: 66.15%\n",
      "Progress: 66.32%\n",
      "Progress: 66.49%\n",
      "Progress: 66.67%\n",
      "Progress: 66.84%\n",
      "Progress: 67.01%\n",
      "Progress: 67.19%\n",
      "Progress: 67.36%\n",
      "Progress: 67.53%\n",
      "Progress: 67.71%\n",
      "Progress: 67.88%\n",
      "Progress: 68.06%\n",
      "Progress: 68.23%\n",
      "Progress: 68.40%\n",
      "Progress: 68.58%\n",
      "Progress: 68.75%\n",
      "Progress: 68.92%\n",
      "Progress: 69.10%\n",
      "Progress: 69.27%\n",
      "Progress: 69.44%\n",
      "Progress: 69.62%\n",
      "Progress: 69.79%\n",
      "Progress: 69.97%\n",
      "Progress: 70.14%\n",
      "Progress: 70.31%\n",
      "Progress: 70.49%\n",
      "Progress: 70.66%\n",
      "Progress: 70.83%\n",
      "Progress: 71.01%\n",
      "Progress: 71.18%\n",
      "Progress: 71.35%\n",
      "Progress: 71.53%\n",
      "Progress: 71.70%\n",
      "Progress: 71.88%\n",
      "Progress: 72.05%\n",
      "Progress: 72.22%\n",
      "Progress: 72.40%\n",
      "Progress: 72.57%\n",
      "Progress: 72.74%\n",
      "Progress: 72.92%\n",
      "Progress: 73.09%\n",
      "Progress: 73.26%\n",
      "Progress: 73.44%\n",
      "Progress: 73.61%\n",
      "Progress: 73.78%\n",
      "Progress: 73.96%\n",
      "Progress: 74.13%\n",
      "Progress: 74.31%\n",
      "Progress: 74.48%\n",
      "Progress: 74.65%\n",
      "Progress: 74.83%\n",
      "Progress: 75.00%\n",
      "Progress: 75.17%\n",
      "Progress: 75.35%\n",
      "Progress: 75.52%\n",
      "Progress: 75.69%\n",
      "Progress: 75.87%\n",
      "Progress: 76.04%\n",
      "Progress: 76.22%\n",
      "Progress: 76.39%\n",
      "Progress: 76.56%\n",
      "Progress: 76.74%\n",
      "Progress: 76.91%\n",
      "Progress: 77.08%\n",
      "Progress: 77.26%\n",
      "Progress: 77.43%\n",
      "Progress: 77.60%\n",
      "Progress: 77.78%\n",
      "Progress: 77.95%\n",
      "Progress: 78.12%\n",
      "Progress: 78.30%\n",
      "Progress: 78.47%\n",
      "Progress: 78.65%\n",
      "Progress: 78.82%\n",
      "Progress: 78.99%\n",
      "Progress: 79.17%\n",
      "Progress: 79.34%\n",
      "Progress: 79.51%\n",
      "Progress: 79.69%\n",
      "Progress: 79.86%\n",
      "Progress: 80.03%\n",
      "Progress: 80.21%\n",
      "Progress: 80.38%\n",
      "Progress: 80.56%\n",
      "Progress: 80.73%\n",
      "Progress: 80.90%\n",
      "Progress: 81.08%\n",
      "Progress: 81.25%\n",
      "Progress: 81.42%\n",
      "Progress: 81.60%\n",
      "Progress: 81.77%\n",
      "Progress: 81.94%\n",
      "Progress: 82.12%\n",
      "Progress: 82.29%\n",
      "Progress: 82.47%\n",
      "Progress: 82.64%\n",
      "Progress: 82.81%\n",
      "Progress: 82.99%\n",
      "Progress: 83.16%\n",
      "Progress: 83.33%\n",
      "Progress: 83.51%\n",
      "Progress: 83.68%\n",
      "Progress: 83.85%\n",
      "Progress: 84.03%\n",
      "Progress: 84.20%\n",
      "Progress: 84.38%\n",
      "Progress: 84.55%\n",
      "Progress: 84.72%\n",
      "Progress: 84.90%\n",
      "Progress: 85.07%\n",
      "Progress: 85.24%\n",
      "Progress: 85.42%\n",
      "Progress: 85.59%\n",
      "Progress: 85.76%\n",
      "Progress: 85.94%\n",
      "Progress: 86.11%\n",
      "Progress: 86.28%\n",
      "Progress: 86.46%\n",
      "Progress: 86.63%\n",
      "Progress: 86.81%\n",
      "Progress: 86.98%\n",
      "Progress: 87.15%\n",
      "Progress: 87.33%\n",
      "Progress: 87.50%\n",
      "Progress: 87.67%\n",
      "Progress: 87.85%\n",
      "Progress: 88.02%\n",
      "Progress: 88.19%\n",
      "Progress: 88.37%\n",
      "Progress: 88.54%\n",
      "Progress: 88.72%\n",
      "Progress: 88.89%\n",
      "Progress: 89.06%\n",
      "Progress: 89.24%\n",
      "Progress: 89.41%\n",
      "Progress: 89.58%\n",
      "Progress: 89.76%\n",
      "Progress: 89.93%\n",
      "Progress: 90.10%\n",
      "Progress: 90.28%\n",
      "Progress: 90.45%\n",
      "Progress: 90.62%\n",
      "Progress: 90.80%\n",
      "Progress: 90.97%\n",
      "Progress: 91.15%\n",
      "Progress: 91.32%\n",
      "Progress: 91.49%\n",
      "Progress: 91.67%\n",
      "Progress: 91.84%\n",
      "Progress: 92.01%\n",
      "Progress: 92.19%\n",
      "Progress: 92.36%\n",
      "Progress: 92.53%\n",
      "Progress: 92.71%\n",
      "Progress: 92.88%\n",
      "Progress: 93.06%\n",
      "Progress: 93.23%\n",
      "Progress: 93.40%\n",
      "Progress: 93.58%\n",
      "Progress: 93.75%\n",
      "Progress: 93.92%\n",
      "Progress: 94.10%\n",
      "Progress: 94.27%\n",
      "Progress: 94.44%\n",
      "Progress: 94.62%\n",
      "Progress: 94.79%\n",
      "Progress: 94.97%\n",
      "Progress: 95.14%\n",
      "Progress: 95.31%\n",
      "Progress: 95.49%\n",
      "Progress: 95.66%\n",
      "Progress: 95.83%\n",
      "Progress: 96.01%\n",
      "Progress: 96.18%\n",
      "Progress: 96.35%\n",
      "Progress: 96.53%\n",
      "Progress: 96.70%\n",
      "Progress: 96.88%\n",
      "Progress: 97.05%\n",
      "Progress: 97.22%\n",
      "Progress: 97.40%\n",
      "Progress: 97.57%\n",
      "Progress: 97.74%\n",
      "Progress: 97.92%\n",
      "Progress: 98.09%\n",
      "Progress: 98.26%\n",
      "Progress: 98.44%\n",
      "Progress: 98.61%\n",
      "Progress: 98.78%\n",
      "Progress: 98.96%\n",
      "Progress: 99.13%\n",
      "Progress: 99.31%\n",
      "Progress: 99.48%\n",
      "Progress: 99.65%\n",
      "Progress: 99.83%\n",
      "Progress: 100.00%\n"
     ]
    },
    {
     "data": {
      "text/plain": [
       "'done'"
      ]
     },
     "execution_count": 40,
     "metadata": {},
     "output_type": "execute_result"
    }
   ],
   "source": [
    "path = \"data/eigenvectors\"\n",
    "filename = f\"discrete_log_dft_symmetric_group_finite_field_eigenvector_matrix_n={n}_q={q}.csv\"\n",
    "dump_discrete_log(L, P, path=path, filename=filename)"
   ]
  }
 ],
 "metadata": {
  "kernelspec": {
   "display_name": "SageMath 10.5",
   "language": "sage",
   "name": "sagemath-10.5"
  },
  "language_info": {
   "codemirror_mode": {
    "name": "ipython",
    "version": 3
   },
   "file_extension": ".py",
   "mimetype": "text/x-python",
   "name": "python",
   "nbconvert_exporter": "python",
   "pygments_lexer": "ipython3",
   "version": "3.12.5"
  }
 },
 "nbformat": 4,
 "nbformat_minor": 5
}
